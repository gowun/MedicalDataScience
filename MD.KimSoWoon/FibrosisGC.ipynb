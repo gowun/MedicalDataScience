{
  "nbformat": 4,
  "nbformat_minor": 0,
  "metadata": {
    "colab": {
      "name": "FibrosisGC.ipynb",
      "provenance": []
    },
    "kernelspec": {
      "name": "python3",
      "display_name": "Python 3"
    }
  },
  "cells": [
    {
      "cell_type": "code",
      "metadata": {
        "id": "rL2RzPvTPoHm",
        "colab_type": "code",
        "outputId": "e0d3781d-7f12-41d7-d9af-d1da42e8082b",
        "colab": {
          "base_uri": "https://localhost:8080/",
          "height": 1000
        }
      },
      "source": [
        "!pip install shap\n",
        "!pip install importlib\n",
        "!pip install lifelines\n",
        "!pip install plotly"
      ],
      "execution_count": 0,
      "outputs": [
        {
          "output_type": "stream",
          "text": [
            "Collecting shap\n",
            "\u001b[?25l  Downloading https://files.pythonhosted.org/packages/59/38/a2e125309a0146a8da317a7285ec36429a47461178f5cc91a5cb93cabdac/shap-0.30.2.tar.gz (244kB)\n",
            "\u001b[K     |████████████████████████████████| 245kB 9.4MB/s \n",
            "\u001b[?25hRequirement already satisfied: numpy in /usr/local/lib/python3.6/dist-packages (from shap) (1.16.5)\n",
            "Requirement already satisfied: scipy in /usr/local/lib/python3.6/dist-packages (from shap) (1.3.1)\n",
            "Requirement already satisfied: scikit-learn in /usr/local/lib/python3.6/dist-packages (from shap) (0.21.3)\n",
            "Requirement already satisfied: matplotlib in /usr/local/lib/python3.6/dist-packages (from shap) (3.0.3)\n",
            "Requirement already satisfied: pandas in /usr/local/lib/python3.6/dist-packages (from shap) (0.24.2)\n",
            "Requirement already satisfied: tqdm>4.25.0 in /usr/local/lib/python3.6/dist-packages (from shap) (4.28.1)\n",
            "Requirement already satisfied: ipython in /usr/local/lib/python3.6/dist-packages (from shap) (5.5.0)\n",
            "Requirement already satisfied: scikit-image in /usr/local/lib/python3.6/dist-packages (from shap) (0.15.0)\n",
            "Requirement already satisfied: joblib>=0.11 in /usr/local/lib/python3.6/dist-packages (from scikit-learn->shap) (0.14.0)\n",
            "Requirement already satisfied: python-dateutil>=2.1 in /usr/local/lib/python3.6/dist-packages (from matplotlib->shap) (2.5.3)\n",
            "Requirement already satisfied: kiwisolver>=1.0.1 in /usr/local/lib/python3.6/dist-packages (from matplotlib->shap) (1.1.0)\n",
            "Requirement already satisfied: cycler>=0.10 in /usr/local/lib/python3.6/dist-packages (from matplotlib->shap) (0.10.0)\n",
            "Requirement already satisfied: pyparsing!=2.0.4,!=2.1.2,!=2.1.6,>=2.0.1 in /usr/local/lib/python3.6/dist-packages (from matplotlib->shap) (2.4.2)\n",
            "Requirement already satisfied: pytz>=2011k in /usr/local/lib/python3.6/dist-packages (from pandas->shap) (2018.9)\n",
            "Requirement already satisfied: decorator in /usr/local/lib/python3.6/dist-packages (from ipython->shap) (4.4.0)\n",
            "Requirement already satisfied: setuptools>=18.5 in /usr/local/lib/python3.6/dist-packages (from ipython->shap) (41.2.0)\n",
            "Requirement already satisfied: pickleshare in /usr/local/lib/python3.6/dist-packages (from ipython->shap) (0.7.5)\n",
            "Requirement already satisfied: pygments in /usr/local/lib/python3.6/dist-packages (from ipython->shap) (2.1.3)\n",
            "Requirement already satisfied: prompt-toolkit<2.0.0,>=1.0.4 in /usr/local/lib/python3.6/dist-packages (from ipython->shap) (1.0.18)\n",
            "Requirement already satisfied: pexpect; sys_platform != \"win32\" in /usr/local/lib/python3.6/dist-packages (from ipython->shap) (4.7.0)\n",
            "Requirement already satisfied: simplegeneric>0.8 in /usr/local/lib/python3.6/dist-packages (from ipython->shap) (0.8.1)\n",
            "Requirement already satisfied: traitlets>=4.2 in /usr/local/lib/python3.6/dist-packages (from ipython->shap) (4.3.3)\n",
            "Requirement already satisfied: pillow>=4.3.0 in /usr/local/lib/python3.6/dist-packages (from scikit-image->shap) (4.3.0)\n",
            "Requirement already satisfied: networkx>=2.0 in /usr/local/lib/python3.6/dist-packages (from scikit-image->shap) (2.3)\n",
            "Requirement already satisfied: PyWavelets>=0.4.0 in /usr/local/lib/python3.6/dist-packages (from scikit-image->shap) (1.0.3)\n",
            "Requirement already satisfied: imageio>=2.0.1 in /usr/local/lib/python3.6/dist-packages (from scikit-image->shap) (2.4.1)\n",
            "Requirement already satisfied: six>=1.5 in /usr/local/lib/python3.6/dist-packages (from python-dateutil>=2.1->matplotlib->shap) (1.12.0)\n",
            "Requirement already satisfied: wcwidth in /usr/local/lib/python3.6/dist-packages (from prompt-toolkit<2.0.0,>=1.0.4->ipython->shap) (0.1.7)\n",
            "Requirement already satisfied: ptyprocess>=0.5 in /usr/local/lib/python3.6/dist-packages (from pexpect; sys_platform != \"win32\"->ipython->shap) (0.6.0)\n",
            "Requirement already satisfied: ipython-genutils in /usr/local/lib/python3.6/dist-packages (from traitlets>=4.2->ipython->shap) (0.2.0)\n",
            "Requirement already satisfied: olefile in /usr/local/lib/python3.6/dist-packages (from pillow>=4.3.0->scikit-image->shap) (0.46)\n",
            "Building wheels for collected packages: shap\n",
            "  Building wheel for shap (setup.py) ... \u001b[?25l\u001b[?25hdone\n",
            "  Created wheel for shap: filename=shap-0.30.2-cp36-cp36m-linux_x86_64.whl size=360636 sha256=700adda75f3d058dabe389a4f4b0b632b017958bde86ee5e066952f86da57850\n",
            "  Stored in directory: /root/.cache/pip/wheels/97/46/c9/b9dc708249af7eaf0951b2be62e0f6191f4de385a48e1a4cb7\n",
            "Successfully built shap\n",
            "Installing collected packages: shap\n",
            "Successfully installed shap-0.30.2\n",
            "Collecting importlib\n",
            "  Downloading https://files.pythonhosted.org/packages/31/77/3781f65cafe55480b56914def99022a5d2965a4bb269655c89ef2f1de3cd/importlib-1.0.4.zip\n",
            "Building wheels for collected packages: importlib\n",
            "  Building wheel for importlib (setup.py) ... \u001b[?25l\u001b[?25hdone\n",
            "  Created wheel for importlib: filename=importlib-1.0.4-cp36-none-any.whl size=5858 sha256=ee5a10ecca9d8fd1d59dc877e40033d149fd19245c4f85ba0f7b554d4012bb8d\n",
            "  Stored in directory: /root/.cache/pip/wheels/26/eb/96/a8a055637794153edb35b7f7f97de528350367d42d8829c187\n",
            "Successfully built importlib\n",
            "Installing collected packages: importlib\n",
            "Successfully installed importlib-1.0.4\n",
            "Collecting lifelines\n",
            "\u001b[?25l  Downloading https://files.pythonhosted.org/packages/b2/96/74e1f74cc00474b969e137ab65246189b1e5841c6ab2eed98c65027bcfcb/lifelines-0.22.8-py2.py3-none-any.whl (338kB)\n",
            "\u001b[K     |████████████████████████████████| 348kB 8.9MB/s \n",
            "\u001b[?25hRequirement already satisfied: pandas>=0.23.0 in /usr/local/lib/python3.6/dist-packages (from lifelines) (0.24.2)\n",
            "Requirement already satisfied: autograd>=1.3 in /usr/local/lib/python3.6/dist-packages (from lifelines) (1.3)\n",
            "Requirement already satisfied: matplotlib>=3.0 in /usr/local/lib/python3.6/dist-packages (from lifelines) (3.0.3)\n",
            "Requirement already satisfied: scipy>=1.0 in /usr/local/lib/python3.6/dist-packages (from lifelines) (1.3.1)\n",
            "Collecting autograd-gamma>=0.3 (from lifelines)\n",
            "  Downloading https://files.pythonhosted.org/packages/3e/87/788c4bf90cc5c534cb3b7fdb5b719175e33e2658decce75e35e2ce69766f/autograd_gamma-0.4.1-py2.py3-none-any.whl\n",
            "Requirement already satisfied: numpy>=1.14.0 in /usr/local/lib/python3.6/dist-packages (from lifelines) (1.16.5)\n",
            "Requirement already satisfied: python-dateutil>=2.5.0 in /usr/local/lib/python3.6/dist-packages (from pandas>=0.23.0->lifelines) (2.5.3)\n",
            "Requirement already satisfied: pytz>=2011k in /usr/local/lib/python3.6/dist-packages (from pandas>=0.23.0->lifelines) (2018.9)\n",
            "Requirement already satisfied: future>=0.15.2 in /usr/local/lib/python3.6/dist-packages (from autograd>=1.3->lifelines) (0.16.0)\n",
            "Requirement already satisfied: pyparsing!=2.0.4,!=2.1.2,!=2.1.6,>=2.0.1 in /usr/local/lib/python3.6/dist-packages (from matplotlib>=3.0->lifelines) (2.4.2)\n",
            "Requirement already satisfied: kiwisolver>=1.0.1 in /usr/local/lib/python3.6/dist-packages (from matplotlib>=3.0->lifelines) (1.1.0)\n",
            "Requirement already satisfied: cycler>=0.10 in /usr/local/lib/python3.6/dist-packages (from matplotlib>=3.0->lifelines) (0.10.0)\n",
            "Requirement already satisfied: six>=1.5 in /usr/local/lib/python3.6/dist-packages (from python-dateutil>=2.5.0->pandas>=0.23.0->lifelines) (1.12.0)\n",
            "Requirement already satisfied: setuptools in /usr/local/lib/python3.6/dist-packages (from kiwisolver>=1.0.1->matplotlib>=3.0->lifelines) (41.2.0)\n",
            "Installing collected packages: autograd-gamma, lifelines\n",
            "Successfully installed autograd-gamma-0.4.1 lifelines-0.22.8\n",
            "Requirement already satisfied: plotly in /usr/local/lib/python3.6/dist-packages (4.1.1)\n",
            "Requirement already satisfied: six in /usr/local/lib/python3.6/dist-packages (from plotly) (1.12.0)\n",
            "Requirement already satisfied: retrying>=1.3.3 in /usr/local/lib/python3.6/dist-packages (from plotly) (1.3.3)\n"
          ],
          "name": "stdout"
        }
      ]
    },
    {
      "cell_type": "code",
      "metadata": {
        "id": "F-lCAV_0PxEJ",
        "colab_type": "code",
        "colab": {}
      },
      "source": [
        "from google.colab import auth\n",
        "from google.colab import drive\n",
        "import pandas as pd\n",
        "import numpy as np\n",
        "from scipy.stats import spearmanr"
      ],
      "execution_count": 0,
      "outputs": []
    },
    {
      "cell_type": "code",
      "metadata": {
        "id": "2t2cse0pP0RP",
        "colab_type": "code",
        "outputId": "cb5ab0cd-797c-41f4-cbbd-6914d2610e84",
        "colab": {
          "base_uri": "https://localhost:8080/",
          "height": 263
        }
      },
      "source": [
        "auth.authenticate_user()\n",
        "drive.mount('/content/gdrive')"
      ],
      "execution_count": 0,
      "outputs": [
        {
          "output_type": "stream",
          "text": [
            "Go to this URL in a browser: https://accounts.google.com/o/oauth2/auth?client_id=947318989803-6bn6qk8qdgf4n4g3pfee6491hc0brc4i.apps.googleusercontent.com&redirect_uri=urn%3Aietf%3Awg%3Aoauth%3A2.0%3Aoob&scope=email%20https%3A%2F%2Fwww.googleapis.com%2Fauth%2Fdocs.test%20https%3A%2F%2Fwww.googleapis.com%2Fauth%2Fdrive%20https%3A%2F%2Fwww.googleapis.com%2Fauth%2Fdrive.photos.readonly%20https%3A%2F%2Fwww.googleapis.com%2Fauth%2Fpeopleapi.readonly&response_type=code\n",
            "\n",
            "Enter your authorization code:\n",
            "··········\n",
            "Mounted at /content/gdrive\n"
          ],
          "name": "stdout"
        }
      ]
    },
    {
      "cell_type": "code",
      "metadata": {
        "id": "q2q3blIMP7My",
        "colab_type": "code",
        "outputId": "4185b4a2-29d9-45f8-d7f3-ac0ad28c7a2e",
        "colab": {
          "base_uri": "https://localhost:8080/",
          "height": 46
        }
      },
      "source": [
        "!ls '/content/gdrive/My Drive/modeling_tools'"
      ],
      "execution_count": 0,
      "outputs": [
        {
          "output_type": "stream",
          "text": [
            "preprocessing.py  __pycache__  survival_analysis.py  tree_modeling.py\n"
          ],
          "name": "stdout"
        }
      ]
    },
    {
      "cell_type": "code",
      "metadata": {
        "id": "mJXVgzR5P3A4",
        "colab_type": "code",
        "colab": {}
      },
      "source": [
        "home_path = '/content/gdrive/My Drive/'\n",
        "df = pd.read_csv(home_path + 'MD.KimSW/fibrosis in GC 191008.csv')"
      ],
      "execution_count": 0,
      "outputs": []
    },
    {
      "cell_type": "code",
      "metadata": {
        "id": "JzfEUtY6QRz7",
        "colab_type": "code",
        "outputId": "0e4ce627-431e-4630-ba9c-1c4de3e054db",
        "colab": {
          "base_uri": "https://localhost:8080/",
          "height": 34
        }
      },
      "source": [
        "df = df.dropna()\n",
        "df.shape"
      ],
      "execution_count": 0,
      "outputs": [
        {
          "output_type": "execute_result",
          "data": {
            "text/plain": [
              "(457, 69)"
            ]
          },
          "metadata": {
            "tags": []
          },
          "execution_count": 47
        }
      ]
    },
    {
      "cell_type": "code",
      "metadata": {
        "id": "tmOZVZ7pQo6v",
        "colab_type": "code",
        "outputId": "d2ace0c3-7b51-4cf6-f530-457e67a4ce3d",
        "colab": {
          "base_uri": "https://localhost:8080/",
          "height": 346
        }
      },
      "source": [
        "df.head()"
      ],
      "execution_count": 0,
      "outputs": [
        {
          "output_type": "execute_result",
          "data": {
            "text/html": [
              "<div>\n",
              "<style scoped>\n",
              "    .dataframe tbody tr th:only-of-type {\n",
              "        vertical-align: middle;\n",
              "    }\n",
              "\n",
              "    .dataframe tbody tr th {\n",
              "        vertical-align: top;\n",
              "    }\n",
              "\n",
              "    .dataframe thead th {\n",
              "        text-align: right;\n",
              "    }\n",
              "</style>\n",
              "<table border=\"1\" class=\"dataframe\">\n",
              "  <thead>\n",
              "    <tr style=\"text-align: right;\">\n",
              "      <th></th>\n",
              "      <th>순번</th>\n",
              "      <th>검사번호</th>\n",
              "      <th>TMANo.</th>\n",
              "      <th>CD68</th>\n",
              "      <th>CD163</th>\n",
              "      <th>CD163/CD68</th>\n",
              "      <th>CD68-CD163</th>\n",
              "      <th>FOXP3-periphery_intraepithelial</th>\n",
              "      <th>FOXP3/CD8-periphery_intraepithelial</th>\n",
              "      <th>FOXP3-periphery_stromaladj</th>\n",
              "      <th>FOXP3/CD8-periphery_stromaladj</th>\n",
              "      <th>FOXP3-periphery_stromalfar</th>\n",
              "      <th>FOXP3/CD8-periphery_stromalfar</th>\n",
              "      <th>FOXP3-central_intraepithelial</th>\n",
              "      <th>FOXP3/CD8-central_intraepithelial</th>\n",
              "      <th>FOXP3-central_stromaladj</th>\n",
              "      <th>FOXP3CD8-central_stromaladj</th>\n",
              "      <th>FOXP3-central_stromalfar</th>\n",
              "      <th>FOXP3CD8-central_stromalfar</th>\n",
              "      <th>CD8_periphery_intra</th>\n",
              "      <th>CD8_periphery_stromaladj</th>\n",
              "      <th>CD8_periphery_stromalfar</th>\n",
              "      <th>CD8_central_intra</th>\n",
              "      <th>CD8_central_stromaladj</th>\n",
              "      <th>CD8_central_stromalfar</th>\n",
              "      <th>Immuneperi</th>\n",
              "      <th>Fibrosis_periphery_intensity</th>\n",
              "      <th>Fibrosis_periphery_percentage</th>\n",
              "      <th>Fibrosis_peripheral</th>\n",
              "      <th>fibrosisp50</th>\n",
              "      <th>fibrosisp150</th>\n",
              "      <th>fibrosisp200</th>\n",
              "      <th>fibrosisp100</th>\n",
              "      <th>Fibrosis_pattern</th>\n",
              "      <th>Fibrosis with inflammation_periphery</th>\n",
              "      <th>Fibrosis_central_intensity</th>\n",
              "      <th>Fibrosis_central_percentage</th>\n",
              "      <th>Fibrosis_central</th>\n",
              "      <th>fibrosisc50</th>\n",
              "      <th>fibrosisc100</th>\n",
              "      <th>fibrosis150</th>\n",
              "      <th>fibrosis200</th>\n",
              "      <th>immunetype</th>\n",
              "      <th>Fibrosis_pattern.1</th>\n",
              "      <th>Fibrosis with inflammation_central</th>\n",
              "      <th>MHC2</th>\n",
              "      <th>PD-L1</th>\n",
              "      <th>Galectin9</th>\n",
              "      <th>VSIG4</th>\n",
              "      <th>State</th>\n",
              "      <th>Duration (month)</th>\n",
              "      <th>5-Year</th>\n",
              "      <th>5-yearstate</th>\n",
              "      <th>Event</th>\n",
              "      <th>Event Duration</th>\n",
              "      <th>5-event</th>\n",
              "      <th>5-eventstate</th>\n",
              "      <th>Location</th>\n",
              "      <th>Bormann</th>\n",
              "      <th>differentiation</th>\n",
              "      <th>Lauren</th>\n",
              "      <th>LVI</th>\n",
              "      <th>PNI</th>\n",
              "      <th>Stage2</th>\n",
              "      <th>Sex</th>\n",
              "      <th>Age</th>\n",
              "      <th>Age2</th>\n",
              "      <th>AGEROUP2</th>\n",
              "      <th>molecular group</th>\n",
              "    </tr>\n",
              "  </thead>\n",
              "  <tbody>\n",
              "    <tr>\n",
              "      <th>0</th>\n",
              "      <td>1</td>\n",
              "      <td>10-S -000040</td>\n",
              "      <td>1</td>\n",
              "      <td>66</td>\n",
              "      <td>44</td>\n",
              "      <td>0.666667</td>\n",
              "      <td>22.0</td>\n",
              "      <td>3.0</td>\n",
              "      <td>0.000000</td>\n",
              "      <td>0.0</td>\n",
              "      <td>0.0</td>\n",
              "      <td>0.0</td>\n",
              "      <td>0.0</td>\n",
              "      <td>24.0</td>\n",
              "      <td>0.774194</td>\n",
              "      <td>0.0</td>\n",
              "      <td>0.000000</td>\n",
              "      <td>0.0</td>\n",
              "      <td>0.0</td>\n",
              "      <td>0.0</td>\n",
              "      <td>7.0</td>\n",
              "      <td>0.0</td>\n",
              "      <td>31.0</td>\n",
              "      <td>0.0</td>\n",
              "      <td>0.0</td>\n",
              "      <td>5.0</td>\n",
              "      <td>0.0</td>\n",
              "      <td>0.0</td>\n",
              "      <td>0.0</td>\n",
              "      <td>0.0</td>\n",
              "      <td>0.0</td>\n",
              "      <td>0.0</td>\n",
              "      <td>0.0</td>\n",
              "      <td>0.0</td>\n",
              "      <td>0.0</td>\n",
              "      <td>2.0</td>\n",
              "      <td>5.0</td>\n",
              "      <td>10.0</td>\n",
              "      <td>0.0</td>\n",
              "      <td>0.0</td>\n",
              "      <td>0.0</td>\n",
              "      <td>0.0</td>\n",
              "      <td>2.0</td>\n",
              "      <td>1.0</td>\n",
              "      <td>0.0</td>\n",
              "      <td>1</td>\n",
              "      <td>0</td>\n",
              "      <td>1.0</td>\n",
              "      <td>1</td>\n",
              "      <td>0</td>\n",
              "      <td>93</td>\n",
              "      <td>60.0</td>\n",
              "      <td>0.0</td>\n",
              "      <td>0</td>\n",
              "      <td>93</td>\n",
              "      <td>60.0</td>\n",
              "      <td>0.0</td>\n",
              "      <td>2</td>\n",
              "      <td>4</td>\n",
              "      <td>3.0</td>\n",
              "      <td>1.0</td>\n",
              "      <td>1</td>\n",
              "      <td>1</td>\n",
              "      <td>3</td>\n",
              "      <td>2</td>\n",
              "      <td>46</td>\n",
              "      <td>0</td>\n",
              "      <td>0</td>\n",
              "      <td>5.0</td>\n",
              "    </tr>\n",
              "    <tr>\n",
              "      <th>1</th>\n",
              "      <td>2</td>\n",
              "      <td>10-S -000113</td>\n",
              "      <td>1</td>\n",
              "      <td>201</td>\n",
              "      <td>88</td>\n",
              "      <td>0.437811</td>\n",
              "      <td>113.0</td>\n",
              "      <td>2.0</td>\n",
              "      <td>0.080000</td>\n",
              "      <td>14.0</td>\n",
              "      <td>0.0</td>\n",
              "      <td>0.0</td>\n",
              "      <td>0.0</td>\n",
              "      <td>11.0</td>\n",
              "      <td>0.000000</td>\n",
              "      <td>0.0</td>\n",
              "      <td>0.000000</td>\n",
              "      <td>0.0</td>\n",
              "      <td>0.0</td>\n",
              "      <td>25.0</td>\n",
              "      <td>0.0</td>\n",
              "      <td>0.0</td>\n",
              "      <td>0.0</td>\n",
              "      <td>0.0</td>\n",
              "      <td>30.0</td>\n",
              "      <td>5.0</td>\n",
              "      <td>2.0</td>\n",
              "      <td>40.0</td>\n",
              "      <td>80.0</td>\n",
              "      <td>1.0</td>\n",
              "      <td>0.0</td>\n",
              "      <td>0.0</td>\n",
              "      <td>0.0</td>\n",
              "      <td>1.0</td>\n",
              "      <td>1.0</td>\n",
              "      <td>2.0</td>\n",
              "      <td>30.0</td>\n",
              "      <td>60.0</td>\n",
              "      <td>1.0</td>\n",
              "      <td>0.0</td>\n",
              "      <td>0.0</td>\n",
              "      <td>0.0</td>\n",
              "      <td>2.0</td>\n",
              "      <td>2.0</td>\n",
              "      <td>1.0</td>\n",
              "      <td>1</td>\n",
              "      <td>0</td>\n",
              "      <td>0.0</td>\n",
              "      <td>1</td>\n",
              "      <td>1</td>\n",
              "      <td>11</td>\n",
              "      <td>11.0</td>\n",
              "      <td>1.0</td>\n",
              "      <td>1</td>\n",
              "      <td>6</td>\n",
              "      <td>6.0</td>\n",
              "      <td>1.0</td>\n",
              "      <td>2</td>\n",
              "      <td>3</td>\n",
              "      <td>3.0</td>\n",
              "      <td>1.0</td>\n",
              "      <td>0</td>\n",
              "      <td>1</td>\n",
              "      <td>3</td>\n",
              "      <td>1</td>\n",
              "      <td>58</td>\n",
              "      <td>0</td>\n",
              "      <td>1</td>\n",
              "      <td>3.0</td>\n",
              "    </tr>\n",
              "    <tr>\n",
              "      <th>2</th>\n",
              "      <td>3</td>\n",
              "      <td>10-S -000303</td>\n",
              "      <td>1</td>\n",
              "      <td>85</td>\n",
              "      <td>161</td>\n",
              "      <td>1.894118</td>\n",
              "      <td>-76.0</td>\n",
              "      <td>36.0</td>\n",
              "      <td>0.818182</td>\n",
              "      <td>0.0</td>\n",
              "      <td>0.0</td>\n",
              "      <td>0.0</td>\n",
              "      <td>0.0</td>\n",
              "      <td>6.0</td>\n",
              "      <td>0.125000</td>\n",
              "      <td>6.0</td>\n",
              "      <td>0.333333</td>\n",
              "      <td>0.0</td>\n",
              "      <td>0.0</td>\n",
              "      <td>44.0</td>\n",
              "      <td>0.0</td>\n",
              "      <td>40.0</td>\n",
              "      <td>48.0</td>\n",
              "      <td>18.0</td>\n",
              "      <td>0.0</td>\n",
              "      <td>2.0</td>\n",
              "      <td>2.0</td>\n",
              "      <td>10.0</td>\n",
              "      <td>20.0</td>\n",
              "      <td>0.0</td>\n",
              "      <td>0.0</td>\n",
              "      <td>0.0</td>\n",
              "      <td>0.0</td>\n",
              "      <td>3.0</td>\n",
              "      <td>1.0</td>\n",
              "      <td>2.0</td>\n",
              "      <td>5.0</td>\n",
              "      <td>10.0</td>\n",
              "      <td>0.0</td>\n",
              "      <td>0.0</td>\n",
              "      <td>0.0</td>\n",
              "      <td>0.0</td>\n",
              "      <td>2.0</td>\n",
              "      <td>3.0</td>\n",
              "      <td>0.0</td>\n",
              "      <td>1</td>\n",
              "      <td>1</td>\n",
              "      <td>0.0</td>\n",
              "      <td>0</td>\n",
              "      <td>0</td>\n",
              "      <td>93</td>\n",
              "      <td>60.0</td>\n",
              "      <td>0.0</td>\n",
              "      <td>0</td>\n",
              "      <td>93</td>\n",
              "      <td>60.0</td>\n",
              "      <td>0.0</td>\n",
              "      <td>2</td>\n",
              "      <td>2</td>\n",
              "      <td>1.0</td>\n",
              "      <td>0.0</td>\n",
              "      <td>1</td>\n",
              "      <td>0</td>\n",
              "      <td>1</td>\n",
              "      <td>1</td>\n",
              "      <td>62</td>\n",
              "      <td>1</td>\n",
              "      <td>1</td>\n",
              "      <td>1.0</td>\n",
              "    </tr>\n",
              "    <tr>\n",
              "      <th>8</th>\n",
              "      <td>9</td>\n",
              "      <td>10-S -000760</td>\n",
              "      <td>1</td>\n",
              "      <td>232</td>\n",
              "      <td>62</td>\n",
              "      <td>0.267241</td>\n",
              "      <td>170.0</td>\n",
              "      <td>0.0</td>\n",
              "      <td>0.000000</td>\n",
              "      <td>0.0</td>\n",
              "      <td>0.0</td>\n",
              "      <td>0.0</td>\n",
              "      <td>0.0</td>\n",
              "      <td>0.0</td>\n",
              "      <td>0.000000</td>\n",
              "      <td>2.0</td>\n",
              "      <td>0.000000</td>\n",
              "      <td>0.0</td>\n",
              "      <td>0.0</td>\n",
              "      <td>47.0</td>\n",
              "      <td>0.0</td>\n",
              "      <td>0.0</td>\n",
              "      <td>52.0</td>\n",
              "      <td>0.0</td>\n",
              "      <td>0.0</td>\n",
              "      <td>2.0</td>\n",
              "      <td>1.0</td>\n",
              "      <td>5.0</td>\n",
              "      <td>5.0</td>\n",
              "      <td>0.0</td>\n",
              "      <td>0.0</td>\n",
              "      <td>0.0</td>\n",
              "      <td>0.0</td>\n",
              "      <td>3.0</td>\n",
              "      <td>1.0</td>\n",
              "      <td>2.0</td>\n",
              "      <td>5.0</td>\n",
              "      <td>10.0</td>\n",
              "      <td>0.0</td>\n",
              "      <td>0.0</td>\n",
              "      <td>0.0</td>\n",
              "      <td>0.0</td>\n",
              "      <td>2.0</td>\n",
              "      <td>3.0</td>\n",
              "      <td>1.0</td>\n",
              "      <td>0</td>\n",
              "      <td>1</td>\n",
              "      <td>1.0</td>\n",
              "      <td>0</td>\n",
              "      <td>0</td>\n",
              "      <td>93</td>\n",
              "      <td>60.0</td>\n",
              "      <td>0.0</td>\n",
              "      <td>0</td>\n",
              "      <td>93</td>\n",
              "      <td>60.0</td>\n",
              "      <td>0.0</td>\n",
              "      <td>1</td>\n",
              "      <td>2</td>\n",
              "      <td>2.0</td>\n",
              "      <td>0.0</td>\n",
              "      <td>0</td>\n",
              "      <td>1</td>\n",
              "      <td>2</td>\n",
              "      <td>1</td>\n",
              "      <td>62</td>\n",
              "      <td>1</td>\n",
              "      <td>1</td>\n",
              "      <td>1.0</td>\n",
              "    </tr>\n",
              "    <tr>\n",
              "      <th>10</th>\n",
              "      <td>11</td>\n",
              "      <td>10-S -000841</td>\n",
              "      <td>1</td>\n",
              "      <td>155</td>\n",
              "      <td>66</td>\n",
              "      <td>0.425806</td>\n",
              "      <td>89.0</td>\n",
              "      <td>23.0</td>\n",
              "      <td>0.191667</td>\n",
              "      <td>0.0</td>\n",
              "      <td>0.0</td>\n",
              "      <td>0.0</td>\n",
              "      <td>0.0</td>\n",
              "      <td>3.0</td>\n",
              "      <td>0.030612</td>\n",
              "      <td>27.0</td>\n",
              "      <td>0.000000</td>\n",
              "      <td>0.0</td>\n",
              "      <td>0.0</td>\n",
              "      <td>120.0</td>\n",
              "      <td>120.0</td>\n",
              "      <td>0.0</td>\n",
              "      <td>98.0</td>\n",
              "      <td>0.0</td>\n",
              "      <td>0.0</td>\n",
              "      <td>2.0</td>\n",
              "      <td>2.0</td>\n",
              "      <td>10.0</td>\n",
              "      <td>20.0</td>\n",
              "      <td>0.0</td>\n",
              "      <td>0.0</td>\n",
              "      <td>0.0</td>\n",
              "      <td>0.0</td>\n",
              "      <td>2.0</td>\n",
              "      <td>1.0</td>\n",
              "      <td>2.0</td>\n",
              "      <td>5.0</td>\n",
              "      <td>10.0</td>\n",
              "      <td>0.0</td>\n",
              "      <td>0.0</td>\n",
              "      <td>0.0</td>\n",
              "      <td>0.0</td>\n",
              "      <td>2.0</td>\n",
              "      <td>1.0</td>\n",
              "      <td>1.0</td>\n",
              "      <td>1</td>\n",
              "      <td>1</td>\n",
              "      <td>0.0</td>\n",
              "      <td>0</td>\n",
              "      <td>0</td>\n",
              "      <td>93</td>\n",
              "      <td>60.0</td>\n",
              "      <td>0.0</td>\n",
              "      <td>0</td>\n",
              "      <td>93</td>\n",
              "      <td>60.0</td>\n",
              "      <td>0.0</td>\n",
              "      <td>0</td>\n",
              "      <td>1</td>\n",
              "      <td>3.0</td>\n",
              "      <td>0.0</td>\n",
              "      <td>1</td>\n",
              "      <td>1</td>\n",
              "      <td>3</td>\n",
              "      <td>1</td>\n",
              "      <td>73</td>\n",
              "      <td>1</td>\n",
              "      <td>1</td>\n",
              "      <td>4.0</td>\n",
              "    </tr>\n",
              "  </tbody>\n",
              "</table>\n",
              "</div>"
            ],
            "text/plain": [
              "    순번          검사번호  TMANo.  CD68  ...  Age  Age2  AGEROUP2  molecular group\n",
              "0    1  10-S -000040       1    66  ...   46     0         0              5.0\n",
              "1    2  10-S -000113       1   201  ...   58     0         1              3.0\n",
              "2    3  10-S -000303       1    85  ...   62     1         1              1.0\n",
              "8    9  10-S -000760       1   232  ...   62     1         1              1.0\n",
              "10  11  10-S -000841       1   155  ...   73     1         1              4.0\n",
              "\n",
              "[5 rows x 69 columns]"
            ]
          },
          "metadata": {
            "tags": []
          },
          "execution_count": 12
        }
      ]
    },
    {
      "cell_type": "code",
      "metadata": {
        "id": "lf6kq2QhQq6_",
        "colab_type": "code",
        "outputId": "39b13e3f-daaf-4de8-e447-c5fb6c9ecb47",
        "colab": {
          "base_uri": "https://localhost:8080/",
          "height": 391
        }
      },
      "source": [
        "immune_cols = list(filter(lambda x: 'CD' in x or 'FOXP' in x, df.columns))\n",
        "immune_cols"
      ],
      "execution_count": 0,
      "outputs": [
        {
          "output_type": "execute_result",
          "data": {
            "text/plain": [
              "['CD68',\n",
              " 'CD163',\n",
              " 'CD163/CD68',\n",
              " 'CD68-CD163',\n",
              " 'FOXP3-periphery_intraepithelial',\n",
              " 'FOXP3/CD8-periphery_intraepithelial',\n",
              " 'FOXP3-periphery_stromaladj',\n",
              " 'FOXP3/CD8-periphery_stromaladj',\n",
              " 'FOXP3-periphery_stromalfar',\n",
              " 'FOXP3/CD8-periphery_stromalfar',\n",
              " 'FOXP3-central_intraepithelial',\n",
              " 'FOXP3/CD8-central_intraepithelial',\n",
              " 'FOXP3-central_stromaladj',\n",
              " 'FOXP3CD8-central_stromaladj',\n",
              " 'FOXP3-central_stromalfar',\n",
              " 'FOXP3CD8-central_stromalfar',\n",
              " 'CD8_periphery_intra',\n",
              " 'CD8_periphery_stromaladj',\n",
              " 'CD8_periphery_stromalfar',\n",
              " 'CD8_central_intra',\n",
              " 'CD8_central_stromaladj',\n",
              " 'CD8_central_stromalfar']"
            ]
          },
          "metadata": {
            "tags": []
          },
          "execution_count": 9
        }
      ]
    },
    {
      "cell_type": "code",
      "metadata": {
        "id": "G7LJoFLLRTtl",
        "colab_type": "code",
        "colab": {}
      },
      "source": [
        "til_cols = list(filter(lambda x: 'Fibrosis' in x, df.columns))\n",
        "til_cat_cols = ['Fibrosis_pattern', 'Fibrosis_pattern.1']\n",
        "til_num_cols = sorted(set(til_cols) - set(til_cat_cols))"
      ],
      "execution_count": 0,
      "outputs": []
    },
    {
      "cell_type": "code",
      "metadata": {
        "id": "mEK9EMCiWYAS",
        "colab_type": "code",
        "outputId": "ebb849a7-d544-41c6-d0b3-0f9bcedcf6cc",
        "colab": {
          "base_uri": "https://localhost:8080/",
          "height": 153
        }
      },
      "source": [
        "til_num_cols"
      ],
      "execution_count": 0,
      "outputs": [
        {
          "output_type": "execute_result",
          "data": {
            "text/plain": [
              "['Fibrosis with inflammation_central',\n",
              " 'Fibrosis with inflammation_periphery',\n",
              " 'Fibrosis_central',\n",
              " 'Fibrosis_central_intensity',\n",
              " 'Fibrosis_central_percentage',\n",
              " 'Fibrosis_peripheral',\n",
              " 'Fibrosis_periphery_intensity',\n",
              " 'Fibrosis_periphery_percentage']"
            ]
          },
          "metadata": {
            "tags": []
          },
          "execution_count": 11
        }
      ]
    },
    {
      "cell_type": "code",
      "metadata": {
        "id": "CZT815PSRckJ",
        "colab_type": "code",
        "outputId": "797610a1-dc61-470b-a31d-32f6bdd47e01",
        "colab": {
          "base_uri": "https://localhost:8080/",
          "height": 74
        }
      },
      "source": [
        "spearmanr(df[immune_cols[0]], df[til_num_cols[1]])"
      ],
      "execution_count": 0,
      "outputs": [
        {
          "output_type": "execute_result",
          "data": {
            "text/plain": [
              "SpearmanrResult(correlation=0.24565574033960969, pvalue=1.0442146110691514e-07)"
            ]
          },
          "metadata": {
            "tags": []
          },
          "execution_count": 40
        }
      ]
    },
    {
      "cell_type": "code",
      "metadata": {
        "id": "ofCc55TyTnHs",
        "colab_type": "code",
        "colab": {}
      },
      "source": [
        "cors, ps = spearmanr(df[immune_cols].values, df[til_num_cols].values)"
      ],
      "execution_count": 0,
      "outputs": []
    },
    {
      "cell_type": "code",
      "metadata": {
        "id": "Idvts-UbUuAw",
        "colab_type": "code",
        "outputId": "38a076a0-26e7-43f5-fdee-d7a4eef4cb00",
        "colab": {
          "base_uri": "https://localhost:8080/",
          "height": 74
        }
      },
      "source": [
        "cors.shape"
      ],
      "execution_count": 0,
      "outputs": [
        {
          "output_type": "execute_result",
          "data": {
            "text/plain": [
              "(30, 30)"
            ]
          },
          "metadata": {
            "tags": []
          },
          "execution_count": 36
        }
      ]
    },
    {
      "cell_type": "code",
      "metadata": {
        "id": "7cXcTn55U2FM",
        "colab_type": "code",
        "colab": {}
      },
      "source": [
        "cors = pd.DataFrame(cors[:22, -8:], columns=til_num_cols, index=immune_cols)"
      ],
      "execution_count": 0,
      "outputs": []
    },
    {
      "cell_type": "code",
      "metadata": {
        "id": "oAFvaAYVVVIN",
        "colab_type": "code",
        "outputId": "cf31a0ab-f01a-4c1a-e2d2-b962e17c5a65",
        "colab": {
          "base_uri": "https://localhost:8080/",
          "height": 1000
        }
      },
      "source": [
        "cors"
      ],
      "execution_count": 0,
      "outputs": [
        {
          "output_type": "execute_result",
          "data": {
            "text/html": [
              "<div>\n",
              "<style scoped>\n",
              "    .dataframe tbody tr th:only-of-type {\n",
              "        vertical-align: middle;\n",
              "    }\n",
              "\n",
              "    .dataframe tbody tr th {\n",
              "        vertical-align: top;\n",
              "    }\n",
              "\n",
              "    .dataframe thead th {\n",
              "        text-align: right;\n",
              "    }\n",
              "</style>\n",
              "<table border=\"1\" class=\"dataframe\">\n",
              "  <thead>\n",
              "    <tr style=\"text-align: right;\">\n",
              "      <th></th>\n",
              "      <th>Fibrosis with inflammation_central</th>\n",
              "      <th>Fibrosis with inflammation_periphery</th>\n",
              "      <th>Fibrosis_central</th>\n",
              "      <th>Fibrosis_central_intensity</th>\n",
              "      <th>Fibrosis_central_percentage</th>\n",
              "      <th>Fibrosis_peripheral</th>\n",
              "      <th>Fibrosis_periphery_intensity</th>\n",
              "      <th>Fibrosis_periphery_percentage</th>\n",
              "    </tr>\n",
              "  </thead>\n",
              "  <tbody>\n",
              "    <tr>\n",
              "      <th>CD68</th>\n",
              "      <td>0.303140</td>\n",
              "      <td>0.245656</td>\n",
              "      <td>-0.172214</td>\n",
              "      <td>-0.004884</td>\n",
              "      <td>-0.196312</td>\n",
              "      <td>-0.160317</td>\n",
              "      <td>-0.029316</td>\n",
              "      <td>-0.178575</td>\n",
              "    </tr>\n",
              "    <tr>\n",
              "      <th>CD163</th>\n",
              "      <td>0.223907</td>\n",
              "      <td>0.258659</td>\n",
              "      <td>-0.076153</td>\n",
              "      <td>-0.008430</td>\n",
              "      <td>-0.094554</td>\n",
              "      <td>-0.067015</td>\n",
              "      <td>-0.010513</td>\n",
              "      <td>-0.094325</td>\n",
              "    </tr>\n",
              "    <tr>\n",
              "      <th>CD163/CD68</th>\n",
              "      <td>-0.125100</td>\n",
              "      <td>-0.032811</td>\n",
              "      <td>0.114037</td>\n",
              "      <td>0.003880</td>\n",
              "      <td>0.119526</td>\n",
              "      <td>0.108198</td>\n",
              "      <td>0.021598</td>\n",
              "      <td>0.100330</td>\n",
              "    </tr>\n",
              "    <tr>\n",
              "      <th>CD68-CD163</th>\n",
              "      <td>0.198118</td>\n",
              "      <td>0.100420</td>\n",
              "      <td>-0.136923</td>\n",
              "      <td>0.012013</td>\n",
              "      <td>-0.152094</td>\n",
              "      <td>-0.116808</td>\n",
              "      <td>-0.008210</td>\n",
              "      <td>-0.118270</td>\n",
              "    </tr>\n",
              "    <tr>\n",
              "      <th>FOXP3-periphery_intraepithelial</th>\n",
              "      <td>0.139964</td>\n",
              "      <td>0.266573</td>\n",
              "      <td>-0.161901</td>\n",
              "      <td>-0.000770</td>\n",
              "      <td>-0.191949</td>\n",
              "      <td>-0.242473</td>\n",
              "      <td>-0.010298</td>\n",
              "      <td>-0.306323</td>\n",
              "    </tr>\n",
              "    <tr>\n",
              "      <th>FOXP3/CD8-periphery_intraepithelial</th>\n",
              "      <td>0.093114</td>\n",
              "      <td>0.208880</td>\n",
              "      <td>-0.188981</td>\n",
              "      <td>0.010159</td>\n",
              "      <td>-0.217501</td>\n",
              "      <td>-0.223110</td>\n",
              "      <td>-0.004187</td>\n",
              "      <td>-0.279816</td>\n",
              "    </tr>\n",
              "    <tr>\n",
              "      <th>FOXP3-periphery_stromaladj</th>\n",
              "      <td>0.106734</td>\n",
              "      <td>0.026165</td>\n",
              "      <td>-0.004567</td>\n",
              "      <td>0.018831</td>\n",
              "      <td>-0.012100</td>\n",
              "      <td>-0.034884</td>\n",
              "      <td>-0.019020</td>\n",
              "      <td>-0.039247</td>\n",
              "    </tr>\n",
              "    <tr>\n",
              "      <th>FOXP3/CD8-periphery_stromaladj</th>\n",
              "      <td>0.116238</td>\n",
              "      <td>0.050065</td>\n",
              "      <td>0.008822</td>\n",
              "      <td>0.026893</td>\n",
              "      <td>0.003098</td>\n",
              "      <td>0.008083</td>\n",
              "      <td>-0.025513</td>\n",
              "      <td>0.017990</td>\n",
              "    </tr>\n",
              "    <tr>\n",
              "      <th>FOXP3-periphery_stromalfar</th>\n",
              "      <td>-0.007043</td>\n",
              "      <td>0.063135</td>\n",
              "      <td>0.007639</td>\n",
              "      <td>-0.007245</td>\n",
              "      <td>0.006879</td>\n",
              "      <td>-0.011843</td>\n",
              "      <td>-0.018104</td>\n",
              "      <td>-0.002481</td>\n",
              "    </tr>\n",
              "    <tr>\n",
              "      <th>FOXP3/CD8-periphery_stromalfar</th>\n",
              "      <td>-0.040681</td>\n",
              "      <td>0.031120</td>\n",
              "      <td>0.021473</td>\n",
              "      <td>-0.003008</td>\n",
              "      <td>0.022569</td>\n",
              "      <td>0.006036</td>\n",
              "      <td>-0.041490</td>\n",
              "      <td>0.027453</td>\n",
              "    </tr>\n",
              "    <tr>\n",
              "      <th>FOXP3-central_intraepithelial</th>\n",
              "      <td>0.126720</td>\n",
              "      <td>0.223210</td>\n",
              "      <td>-0.265569</td>\n",
              "      <td>-0.090776</td>\n",
              "      <td>-0.285674</td>\n",
              "      <td>-0.164380</td>\n",
              "      <td>0.043263</td>\n",
              "      <td>-0.237962</td>\n",
              "    </tr>\n",
              "    <tr>\n",
              "      <th>FOXP3/CD8-central_intraepithelial</th>\n",
              "      <td>0.071607</td>\n",
              "      <td>0.224829</td>\n",
              "      <td>-0.333924</td>\n",
              "      <td>-0.086788</td>\n",
              "      <td>-0.367625</td>\n",
              "      <td>-0.219331</td>\n",
              "      <td>0.011544</td>\n",
              "      <td>-0.286324</td>\n",
              "    </tr>\n",
              "    <tr>\n",
              "      <th>FOXP3-central_stromaladj</th>\n",
              "      <td>0.116053</td>\n",
              "      <td>0.078687</td>\n",
              "      <td>0.095232</td>\n",
              "      <td>0.047079</td>\n",
              "      <td>0.095971</td>\n",
              "      <td>0.059088</td>\n",
              "      <td>0.032577</td>\n",
              "      <td>0.065272</td>\n",
              "    </tr>\n",
              "    <tr>\n",
              "      <th>FOXP3CD8-central_stromaladj</th>\n",
              "      <td>0.142454</td>\n",
              "      <td>0.053317</td>\n",
              "      <td>0.107931</td>\n",
              "      <td>0.053177</td>\n",
              "      <td>0.108666</td>\n",
              "      <td>0.001749</td>\n",
              "      <td>-0.047205</td>\n",
              "      <td>0.027512</td>\n",
              "    </tr>\n",
              "    <tr>\n",
              "      <th>FOXP3-central_stromalfar</th>\n",
              "      <td>0.016042</td>\n",
              "      <td>-0.073114</td>\n",
              "      <td>0.055083</td>\n",
              "      <td>-0.022323</td>\n",
              "      <td>0.074671</td>\n",
              "      <td>0.068228</td>\n",
              "      <td>0.020931</td>\n",
              "      <td>0.074379</td>\n",
              "    </tr>\n",
              "    <tr>\n",
              "      <th>FOXP3CD8-central_stromalfar</th>\n",
              "      <td>-0.028734</td>\n",
              "      <td>-0.029686</td>\n",
              "      <td>0.019744</td>\n",
              "      <td>-0.044554</td>\n",
              "      <td>0.051442</td>\n",
              "      <td>0.024884</td>\n",
              "      <td>-0.029306</td>\n",
              "      <td>0.050159</td>\n",
              "    </tr>\n",
              "    <tr>\n",
              "      <th>CD8_periphery_intra</th>\n",
              "      <td>0.254135</td>\n",
              "      <td>0.319266</td>\n",
              "      <td>-0.226109</td>\n",
              "      <td>-0.020910</td>\n",
              "      <td>-0.259731</td>\n",
              "      <td>-0.293540</td>\n",
              "      <td>-0.030683</td>\n",
              "      <td>-0.367834</td>\n",
              "    </tr>\n",
              "    <tr>\n",
              "      <th>CD8_periphery_stromaladj</th>\n",
              "      <td>0.273152</td>\n",
              "      <td>0.238542</td>\n",
              "      <td>-0.000471</td>\n",
              "      <td>0.007390</td>\n",
              "      <td>-0.006965</td>\n",
              "      <td>-0.087673</td>\n",
              "      <td>-0.037893</td>\n",
              "      <td>-0.114462</td>\n",
              "    </tr>\n",
              "    <tr>\n",
              "      <th>CD8_periphery_stromalfar</th>\n",
              "      <td>-0.127577</td>\n",
              "      <td>-0.127909</td>\n",
              "      <td>0.135995</td>\n",
              "      <td>0.080120</td>\n",
              "      <td>0.127370</td>\n",
              "      <td>0.237486</td>\n",
              "      <td>0.104452</td>\n",
              "      <td>0.248816</td>\n",
              "    </tr>\n",
              "    <tr>\n",
              "      <th>CD8_central_intra</th>\n",
              "      <td>0.260702</td>\n",
              "      <td>0.335735</td>\n",
              "      <td>-0.244046</td>\n",
              "      <td>-0.031310</td>\n",
              "      <td>-0.281128</td>\n",
              "      <td>-0.202002</td>\n",
              "      <td>0.011004</td>\n",
              "      <td>-0.274719</td>\n",
              "    </tr>\n",
              "    <tr>\n",
              "      <th>CD8_central_stromaladj</th>\n",
              "      <td>0.232823</td>\n",
              "      <td>0.170781</td>\n",
              "      <td>0.098796</td>\n",
              "      <td>0.046617</td>\n",
              "      <td>0.097675</td>\n",
              "      <td>-0.004522</td>\n",
              "      <td>-0.014881</td>\n",
              "      <td>-0.002922</td>\n",
              "    </tr>\n",
              "    <tr>\n",
              "      <th>CD8_central_stromalfar</th>\n",
              "      <td>-0.074675</td>\n",
              "      <td>-0.176065</td>\n",
              "      <td>0.193595</td>\n",
              "      <td>0.027051</td>\n",
              "      <td>0.211535</td>\n",
              "      <td>0.223996</td>\n",
              "      <td>0.023507</td>\n",
              "      <td>0.266633</td>\n",
              "    </tr>\n",
              "  </tbody>\n",
              "</table>\n",
              "</div>"
            ],
            "text/plain": [
              "                                     Fibrosis with inflammation_central  ...  Fibrosis_periphery_percentage\n",
              "CD68                                                           0.303140  ...                      -0.178575\n",
              "CD163                                                          0.223907  ...                      -0.094325\n",
              "CD163/CD68                                                    -0.125100  ...                       0.100330\n",
              "CD68-CD163                                                     0.198118  ...                      -0.118270\n",
              "FOXP3-periphery_intraepithelial                                0.139964  ...                      -0.306323\n",
              "FOXP3/CD8-periphery_intraepithelial                            0.093114  ...                      -0.279816\n",
              "FOXP3-periphery_stromaladj                                     0.106734  ...                      -0.039247\n",
              "FOXP3/CD8-periphery_stromaladj                                 0.116238  ...                       0.017990\n",
              "FOXP3-periphery_stromalfar                                    -0.007043  ...                      -0.002481\n",
              "FOXP3/CD8-periphery_stromalfar                                -0.040681  ...                       0.027453\n",
              "FOXP3-central_intraepithelial                                  0.126720  ...                      -0.237962\n",
              "FOXP3/CD8-central_intraepithelial                              0.071607  ...                      -0.286324\n",
              "FOXP3-central_stromaladj                                       0.116053  ...                       0.065272\n",
              "FOXP3CD8-central_stromaladj                                    0.142454  ...                       0.027512\n",
              "FOXP3-central_stromalfar                                       0.016042  ...                       0.074379\n",
              "FOXP3CD8-central_stromalfar                                   -0.028734  ...                       0.050159\n",
              "CD8_periphery_intra                                            0.254135  ...                      -0.367834\n",
              "CD8_periphery_stromaladj                                       0.273152  ...                      -0.114462\n",
              "CD8_periphery_stromalfar                                      -0.127577  ...                       0.248816\n",
              "CD8_central_intra                                              0.260702  ...                      -0.274719\n",
              "CD8_central_stromaladj                                         0.232823  ...                      -0.002922\n",
              "CD8_central_stromalfar                                        -0.074675  ...                       0.266633\n",
              "\n",
              "[22 rows x 8 columns]"
            ]
          },
          "metadata": {
            "tags": []
          },
          "execution_count": 39
        }
      ]
    },
    {
      "cell_type": "code",
      "metadata": {
        "id": "VxMsdPXTPFZ9",
        "colab_type": "code",
        "outputId": "5fa8f0f5-0a61-435f-8a3e-56fef15b3ae3",
        "colab": {
          "base_uri": "https://localhost:8080/",
          "height": 68
        }
      },
      "source": [
        "immune_cols"
      ],
      "execution_count": 0,
      "outputs": [
        {
          "output_type": "execute_result",
          "data": {
            "text/html": [
              "['CD68', 'CD163', 'CD163/CD68', 'CD68-CD163', 'FOXP3-periphery_intraepithelial', 'FOXP3/CD8-periphery_intraepithelial', 'FOXP3-periphery_stromaladj', 'FOXP3/CD8-periphery_stromaladj', 'FOXP3-periphery_stromalfar', 'FOXP3/CD8-periphery_stromalfar', 'FOXP3-central_intraepithelial', 'FOXP3/CD8-central_intraepithelial', 'FOXP3-central_stromaladj', 'FOXP3CD8-central_stromaladj', 'FOXP3-central_stromalfar', 'FOXP3CD8-central_stromalfar', 'CD8_periphery_intra', 'CD8_periphery_stromaladj', 'CD8_periphery_stromalfar', 'CD8_central_intra', 'CD8_central_stromaladj', 'CD8_central_stromalfar']"
            ],
            "text/plain": [
              "['CD68',\n",
              " 'CD163',\n",
              " 'CD163/CD68',\n",
              " 'CD68-CD163',\n",
              " 'FOXP3-periphery_intraepithelial',\n",
              " 'FOXP3/CD8-periphery_intraepithelial',\n",
              " 'FOXP3-periphery_stromaladj',\n",
              " 'FOXP3/CD8-periphery_stromaladj',\n",
              " 'FOXP3-periphery_stromalfar',\n",
              " 'FOXP3/CD8-periphery_stromalfar',\n",
              " 'FOXP3-central_intraepithelial',\n",
              " 'FOXP3/CD8-central_intraepithelial',\n",
              " 'FOXP3-central_stromaladj',\n",
              " 'FOXP3CD8-central_stromaladj',\n",
              " 'FOXP3-central_stromalfar',\n",
              " 'FOXP3CD8-central_stromalfar',\n",
              " 'CD8_periphery_intra',\n",
              " 'CD8_periphery_stromaladj',\n",
              " 'CD8_periphery_stromalfar',\n",
              " 'CD8_central_intra',\n",
              " 'CD8_central_stromaladj',\n",
              " 'CD8_central_stromalfar']"
            ]
          },
          "metadata": {
            "tags": []
          },
          "execution_count": 142
        }
      ]
    },
    {
      "cell_type": "code",
      "metadata": {
        "id": "3bUvROBUPKc0",
        "colab_type": "code",
        "outputId": "61185cf1-e43e-43be-de50-6c7d1cc1fa6f",
        "colab": {
          "base_uri": "https://localhost:8080/",
          "height": 68
        }
      },
      "source": [
        "dark_im_cols = ['FOXP3-periphery_intraepithelial', 'FOXP3/CD8-periphery_intraepithelial', 'FOXP3-central_intraepithelial', 'FOXP3/CD8-central_intraepithelial', 'CD8_periphery_intra', 'CD8_central_intra']\n",
        "light_im_cols = sorted(set(immune_cols) - set(dark_im_cols))\n",
        "nw_im_cols = dark_im_cols + light_im_cols\n",
        "nw_im_cols"
      ],
      "execution_count": 0,
      "outputs": [
        {
          "output_type": "execute_result",
          "data": {
            "text/html": [
              "['FOXP3-periphery_intraepithelial', 'FOXP3/CD8-periphery_intraepithelial', 'FOXP3-central_intraepithelial', 'FOXP3/CD8-central_intraepithelial', 'CD8_periphery_intra', 'CD8_central_intra', 'CD163', 'CD163/CD68', 'CD68', 'CD68-CD163', 'CD8_central_stromaladj', 'CD8_central_stromalfar', 'CD8_periphery_stromaladj', 'CD8_periphery_stromalfar', 'FOXP3-central_stromaladj', 'FOXP3-central_stromalfar', 'FOXP3-periphery_stromaladj', 'FOXP3-periphery_stromalfar', 'FOXP3/CD8-periphery_stromaladj', 'FOXP3/CD8-periphery_stromalfar', 'FOXP3CD8-central_stromaladj', 'FOXP3CD8-central_stromalfar']"
            ],
            "text/plain": [
              "['FOXP3-periphery_intraepithelial',\n",
              " 'FOXP3/CD8-periphery_intraepithelial',\n",
              " 'FOXP3-central_intraepithelial',\n",
              " 'FOXP3/CD8-central_intraepithelial',\n",
              " 'CD8_periphery_intra',\n",
              " 'CD8_central_intra',\n",
              " 'CD163',\n",
              " 'CD163/CD68',\n",
              " 'CD68',\n",
              " 'CD68-CD163',\n",
              " 'CD8_central_stromaladj',\n",
              " 'CD8_central_stromalfar',\n",
              " 'CD8_periphery_stromaladj',\n",
              " 'CD8_periphery_stromalfar',\n",
              " 'FOXP3-central_stromaladj',\n",
              " 'FOXP3-central_stromalfar',\n",
              " 'FOXP3-periphery_stromaladj',\n",
              " 'FOXP3-periphery_stromalfar',\n",
              " 'FOXP3/CD8-periphery_stromaladj',\n",
              " 'FOXP3/CD8-periphery_stromalfar',\n",
              " 'FOXP3CD8-central_stromaladj',\n",
              " 'FOXP3CD8-central_stromalfar']"
            ]
          },
          "metadata": {
            "tags": []
          },
          "execution_count": 148
        }
      ]
    },
    {
      "cell_type": "code",
      "metadata": {
        "id": "re0EIOrXQ68v",
        "colab_type": "code",
        "colab": {}
      },
      "source": [
        "nw_cors = cors.loc[nw_im_cols]"
      ],
      "execution_count": 0,
      "outputs": []
    },
    {
      "cell_type": "code",
      "metadata": {
        "id": "reIOriwHV5x9",
        "colab_type": "code",
        "outputId": "e8786fb7-438e-43fc-bcb9-70ca89df814b",
        "colab": {
          "base_uri": "https://localhost:8080/",
          "height": 542
        }
      },
      "source": [
        "import plotly.graph_objects as go\n",
        "\n",
        "fig = go.Figure(data=go.Heatmap(z=nw_cors.values.T, y=til_num_cols, x=nw_im_cols, type = 'heatmap', colorscale = 'Viridis'))\n",
        "fig.show()"
      ],
      "execution_count": 0,
      "outputs": [
        {
          "output_type": "display_data",
          "data": {
            "text/html": [
              "<html>\n",
              "<head><meta charset=\"utf-8\" /></head>\n",
              "<body>\n",
              "    <div>\n",
              "            <script src=\"https://cdnjs.cloudflare.com/ajax/libs/mathjax/2.7.5/MathJax.js?config=TeX-AMS-MML_SVG\"></script><script type=\"text/javascript\">if (window.MathJax) {MathJax.Hub.Config({SVG: {font: \"STIX-Web\"}});}</script>\n",
              "                <script type=\"text/javascript\">window.PlotlyConfig = {MathJaxConfig: 'local'};</script>\n",
              "        <script src=\"https://cdn.plot.ly/plotly-latest.min.js\"></script>    \n",
              "            <div id=\"a9e26806-d797-41bc-b39a-291ef687d85b\" class=\"plotly-graph-div\" style=\"height:525px; width:100%;\"></div>\n",
              "            <script type=\"text/javascript\">\n",
              "                \n",
              "                    window.PLOTLYENV=window.PLOTLYENV || {};\n",
              "                    \n",
              "                if (document.getElementById(\"a9e26806-d797-41bc-b39a-291ef687d85b\")) {\n",
              "                    Plotly.newPlot(\n",
              "                        'a9e26806-d797-41bc-b39a-291ef687d85b',\n",
              "                        [{\"colorscale\": [[0.0, \"#440154\"], [0.1111111111111111, \"#482878\"], [0.2222222222222222, \"#3e4989\"], [0.3333333333333333, \"#31688e\"], [0.4444444444444444, \"#26828e\"], [0.5555555555555556, \"#1f9e89\"], [0.6666666666666666, \"#35b779\"], [0.7777777777777778, \"#6ece58\"], [0.8888888888888888, \"#b5de2b\"], [1.0, \"#fde725\"]], \"type\": \"heatmap\", \"x\": [\"FOXP3-periphery_intraepithelial\", \"FOXP3/CD8-periphery_intraepithelial\", \"FOXP3-central_intraepithelial\", \"FOXP3/CD8-central_intraepithelial\", \"CD8_periphery_intra\", \"CD8_central_intra\", \"CD163\", \"CD163/CD68\", \"CD68\", \"CD68-CD163\", \"CD8_central_stromaladj\", \"CD8_central_stromalfar\", \"CD8_periphery_stromaladj\", \"CD8_periphery_stromalfar\", \"FOXP3-central_stromaladj\", \"FOXP3-central_stromalfar\", \"FOXP3-periphery_stromaladj\", \"FOXP3-periphery_stromalfar\", \"FOXP3/CD8-periphery_stromaladj\", \"FOXP3/CD8-periphery_stromalfar\", \"FOXP3CD8-central_stromaladj\", \"FOXP3CD8-central_stromalfar\"], \"y\": [\"Fibrosis with inflammation_central\", \"Fibrosis with inflammation_periphery\", \"Fibrosis_central\", \"Fibrosis_central_intensity\", \"Fibrosis_central_percentage\", \"Fibrosis_peripheral\", \"Fibrosis_periphery_intensity\", \"Fibrosis_periphery_percentage\"], \"z\": [[0.13996423255020604, 0.09311404771476929, 0.12672011328833788, 0.07160665939349581, 0.25413489049534976, 0.260701579657437, 0.22390673899957123, -0.12509986363540732, 0.3031404207145945, 0.19811847202039873, 0.23282328105769637, -0.07467456918113607, 0.27315188692410014, -0.12757657017924984, 0.11605270661156529, 0.01604168892226041, 0.10673390870316436, -0.007043444141504783, 0.11623841325084949, -0.04068124353368213, 0.14245401011682593, -0.02873449330464224], [0.26657327236782646, 0.20887957659690243, 0.22321042464809165, 0.22482939774022978, 0.31926603039836804, 0.33573457414584235, 0.25865927431047303, -0.032810970214582943, 0.24565574033960969, 0.10042010043254664, 0.17078067590716414, -0.17606534484879888, 0.23854213214563047, -0.12790860387260566, 0.07868748154519065, -0.07311446651404466, 0.02616462056494777, 0.06313540592215458, 0.0500648450411687, 0.03111971002843019, 0.05331724757078658, -0.029685503978976784], [-0.16190111052487238, -0.1889812957834981, -0.2655691735098852, -0.3339244980929228, -0.2261094956621661, -0.24404601680905041, -0.07615277903680513, 0.11403670491777275, -0.17221386701527047, -0.13692332903920262, 0.09879646911283271, 0.19359463559103873, -0.00047066331393976553, 0.13599536663652767, 0.09523187597271951, 0.05508263165759447, -0.004566766516252909, 0.007639243384692987, 0.008822125775557325, 0.021472761297238147, 0.10793055577379644, 0.019744194794224516], [-0.0007700987956954692, 0.010159245985725712, -0.09077647334868442, -0.086788067456737, -0.020910468268099548, -0.03131001686361165, -0.008429956492460148, 0.0038799286831533468, -0.004884327149458945, 0.012013048892269269, 0.046616880939277246, 0.027050663441975972, 0.00738958913596952, 0.08011958118156301, 0.047078878579661455, -0.022323415924262346, 0.01883141470794943, -0.007244873592028381, 0.0268925976582575, -0.0030084430941220764, 0.05317655632141355, -0.04455361543983103], [-0.19194909135876767, -0.21750121322551821, -0.28567361720608697, -0.36762509842186875, -0.25973130708095177, -0.2811283074785278, -0.09455381669016213, 0.11952603219117904, -0.1963121725536825, -0.1520939803501709, 0.09767455683693567, 0.21153544782490605, -0.006965398590721929, 0.12736991494450725, 0.09597125332143612, 0.07467134169112195, -0.01210025576474821, 0.006879333499905502, 0.0030981622881373926, 0.02256946055064101, 0.10866614299880271, 0.051441950504849225], [-0.24247332373224606, -0.2231100028320139, -0.16438020493783187, -0.2193308145488714, -0.29354041425475996, -0.2020024672707337, -0.06701544896463925, 0.10819801602767574, -0.16031675899752607, -0.11680759271871174, -0.004521720281176639, 0.22399598495712014, -0.08767326200346534, 0.23748584994361652, 0.059088489051281425, 0.06822843441370038, -0.03488433263327645, -0.011842856451059336, 0.00808314309743928, 0.006035607796543154, 0.001749032027843614, 0.024884240631460934], [-0.010297700803082142, -0.004186732250273484, 0.04326266031398854, 0.011543925006633612, -0.03068270261840407, 0.011004395825466997, -0.01051291519087883, 0.021597969678591136, -0.02931648822306304, -0.008210203228869726, -0.014880830616608684, 0.02350746005157663, -0.03789280459012531, 0.10445180981484117, 0.03257653150628372, 0.02093053149380915, -0.01902013369495417, -0.018103627546085063, -0.025512509722986295, -0.04149001901422356, -0.04720543307913302, -0.0293057578878238], [-0.30632339203160286, -0.27981628603906167, -0.2379619197661024, -0.2863242086288701, -0.36783387941817575, -0.2747192175411406, -0.09432483184471206, 0.10033002907757589, -0.17857505418019728, -0.11827027724926004, -0.0029221609457846394, 0.26663268926835776, -0.11446200597334999, 0.2488160821105712, 0.06527175798613337, 0.07437925898252888, -0.039247195412006664, -0.0024809573562918534, 0.017989915812234702, 0.02745299762267215, 0.027511789596737328, 0.05015868023105644]]}],\n",
              "                        {\"template\": {\"data\": {\"bar\": [{\"error_x\": {\"color\": \"#2a3f5f\"}, \"error_y\": {\"color\": \"#2a3f5f\"}, \"marker\": {\"line\": {\"color\": \"#E5ECF6\", \"width\": 0.5}}, \"type\": \"bar\"}], \"barpolar\": [{\"marker\": {\"line\": {\"color\": \"#E5ECF6\", \"width\": 0.5}}, \"type\": \"barpolar\"}], \"carpet\": [{\"aaxis\": {\"endlinecolor\": \"#2a3f5f\", \"gridcolor\": \"white\", \"linecolor\": \"white\", \"minorgridcolor\": \"white\", \"startlinecolor\": \"#2a3f5f\"}, \"baxis\": {\"endlinecolor\": \"#2a3f5f\", \"gridcolor\": \"white\", \"linecolor\": \"white\", \"minorgridcolor\": \"white\", \"startlinecolor\": \"#2a3f5f\"}, \"type\": \"carpet\"}], \"choropleth\": [{\"colorbar\": {\"outlinewidth\": 0, \"ticks\": \"\"}, \"type\": \"choropleth\"}], \"contour\": [{\"colorbar\": {\"outlinewidth\": 0, \"ticks\": \"\"}, \"colorscale\": [[0.0, \"#0d0887\"], [0.1111111111111111, \"#46039f\"], [0.2222222222222222, \"#7201a8\"], [0.3333333333333333, \"#9c179e\"], [0.4444444444444444, \"#bd3786\"], [0.5555555555555556, \"#d8576b\"], [0.6666666666666666, \"#ed7953\"], [0.7777777777777778, \"#fb9f3a\"], [0.8888888888888888, \"#fdca26\"], [1.0, \"#f0f921\"]], \"type\": \"contour\"}], \"contourcarpet\": [{\"colorbar\": {\"outlinewidth\": 0, \"ticks\": \"\"}, \"type\": \"contourcarpet\"}], \"heatmap\": [{\"colorbar\": {\"outlinewidth\": 0, \"ticks\": \"\"}, \"colorscale\": [[0.0, \"#0d0887\"], [0.1111111111111111, \"#46039f\"], [0.2222222222222222, \"#7201a8\"], [0.3333333333333333, \"#9c179e\"], [0.4444444444444444, \"#bd3786\"], [0.5555555555555556, \"#d8576b\"], [0.6666666666666666, \"#ed7953\"], [0.7777777777777778, \"#fb9f3a\"], [0.8888888888888888, \"#fdca26\"], [1.0, \"#f0f921\"]], \"type\": \"heatmap\"}], \"heatmapgl\": [{\"colorbar\": {\"outlinewidth\": 0, \"ticks\": \"\"}, \"colorscale\": [[0.0, \"#0d0887\"], [0.1111111111111111, \"#46039f\"], [0.2222222222222222, \"#7201a8\"], [0.3333333333333333, \"#9c179e\"], [0.4444444444444444, \"#bd3786\"], [0.5555555555555556, \"#d8576b\"], [0.6666666666666666, \"#ed7953\"], [0.7777777777777778, \"#fb9f3a\"], [0.8888888888888888, \"#fdca26\"], [1.0, \"#f0f921\"]], \"type\": \"heatmapgl\"}], \"histogram\": [{\"marker\": {\"colorbar\": {\"outlinewidth\": 0, \"ticks\": \"\"}}, \"type\": \"histogram\"}], \"histogram2d\": [{\"colorbar\": {\"outlinewidth\": 0, \"ticks\": \"\"}, \"colorscale\": [[0.0, \"#0d0887\"], [0.1111111111111111, \"#46039f\"], [0.2222222222222222, \"#7201a8\"], [0.3333333333333333, \"#9c179e\"], [0.4444444444444444, \"#bd3786\"], [0.5555555555555556, \"#d8576b\"], [0.6666666666666666, \"#ed7953\"], [0.7777777777777778, \"#fb9f3a\"], [0.8888888888888888, \"#fdca26\"], [1.0, \"#f0f921\"]], \"type\": \"histogram2d\"}], \"histogram2dcontour\": [{\"colorbar\": {\"outlinewidth\": 0, \"ticks\": \"\"}, \"colorscale\": [[0.0, \"#0d0887\"], [0.1111111111111111, \"#46039f\"], [0.2222222222222222, \"#7201a8\"], [0.3333333333333333, \"#9c179e\"], [0.4444444444444444, \"#bd3786\"], [0.5555555555555556, \"#d8576b\"], [0.6666666666666666, \"#ed7953\"], [0.7777777777777778, \"#fb9f3a\"], [0.8888888888888888, \"#fdca26\"], [1.0, \"#f0f921\"]], \"type\": \"histogram2dcontour\"}], \"mesh3d\": [{\"colorbar\": {\"outlinewidth\": 0, \"ticks\": \"\"}, \"type\": \"mesh3d\"}], \"parcoords\": [{\"line\": {\"colorbar\": {\"outlinewidth\": 0, \"ticks\": \"\"}}, \"type\": \"parcoords\"}], \"scatter\": [{\"marker\": {\"colorbar\": {\"outlinewidth\": 0, \"ticks\": \"\"}}, \"type\": \"scatter\"}], \"scatter3d\": [{\"line\": {\"colorbar\": {\"outlinewidth\": 0, \"ticks\": \"\"}}, \"marker\": {\"colorbar\": {\"outlinewidth\": 0, \"ticks\": \"\"}}, \"type\": \"scatter3d\"}], \"scattercarpet\": [{\"marker\": {\"colorbar\": {\"outlinewidth\": 0, \"ticks\": \"\"}}, \"type\": \"scattercarpet\"}], \"scattergeo\": [{\"marker\": {\"colorbar\": {\"outlinewidth\": 0, \"ticks\": \"\"}}, \"type\": \"scattergeo\"}], \"scattergl\": [{\"marker\": {\"colorbar\": {\"outlinewidth\": 0, \"ticks\": \"\"}}, \"type\": \"scattergl\"}], \"scattermapbox\": [{\"marker\": {\"colorbar\": {\"outlinewidth\": 0, \"ticks\": \"\"}}, \"type\": \"scattermapbox\"}], \"scatterpolar\": [{\"marker\": {\"colorbar\": {\"outlinewidth\": 0, \"ticks\": \"\"}}, \"type\": \"scatterpolar\"}], \"scatterpolargl\": [{\"marker\": {\"colorbar\": {\"outlinewidth\": 0, \"ticks\": \"\"}}, \"type\": \"scatterpolargl\"}], \"scatterternary\": [{\"marker\": {\"colorbar\": {\"outlinewidth\": 0, \"ticks\": \"\"}}, \"type\": \"scatterternary\"}], \"surface\": [{\"colorbar\": {\"outlinewidth\": 0, \"ticks\": \"\"}, \"colorscale\": [[0.0, \"#0d0887\"], [0.1111111111111111, \"#46039f\"], [0.2222222222222222, \"#7201a8\"], [0.3333333333333333, \"#9c179e\"], [0.4444444444444444, \"#bd3786\"], [0.5555555555555556, \"#d8576b\"], [0.6666666666666666, \"#ed7953\"], [0.7777777777777778, \"#fb9f3a\"], [0.8888888888888888, \"#fdca26\"], [1.0, \"#f0f921\"]], \"type\": \"surface\"}], \"table\": [{\"cells\": {\"fill\": {\"color\": \"#EBF0F8\"}, \"line\": {\"color\": \"white\"}}, \"header\": {\"fill\": {\"color\": \"#C8D4E3\"}, \"line\": {\"color\": \"white\"}}, \"type\": \"table\"}]}, \"layout\": {\"annotationdefaults\": {\"arrowcolor\": \"#2a3f5f\", \"arrowhead\": 0, \"arrowwidth\": 1}, \"colorscale\": {\"diverging\": [[0, \"#8e0152\"], [0.1, \"#c51b7d\"], [0.2, \"#de77ae\"], [0.3, \"#f1b6da\"], [0.4, \"#fde0ef\"], [0.5, \"#f7f7f7\"], [0.6, \"#e6f5d0\"], [0.7, \"#b8e186\"], [0.8, \"#7fbc41\"], [0.9, \"#4d9221\"], [1, \"#276419\"]], \"sequential\": [[0.0, \"#0d0887\"], [0.1111111111111111, \"#46039f\"], [0.2222222222222222, \"#7201a8\"], [0.3333333333333333, \"#9c179e\"], [0.4444444444444444, \"#bd3786\"], [0.5555555555555556, \"#d8576b\"], [0.6666666666666666, \"#ed7953\"], [0.7777777777777778, \"#fb9f3a\"], [0.8888888888888888, \"#fdca26\"], [1.0, \"#f0f921\"]], \"sequentialminus\": [[0.0, \"#0d0887\"], [0.1111111111111111, \"#46039f\"], [0.2222222222222222, \"#7201a8\"], [0.3333333333333333, \"#9c179e\"], [0.4444444444444444, \"#bd3786\"], [0.5555555555555556, \"#d8576b\"], [0.6666666666666666, \"#ed7953\"], [0.7777777777777778, \"#fb9f3a\"], [0.8888888888888888, \"#fdca26\"], [1.0, \"#f0f921\"]]}, \"colorway\": [\"#636efa\", \"#EF553B\", \"#00cc96\", \"#ab63fa\", \"#FFA15A\", \"#19d3f3\", \"#FF6692\", \"#B6E880\", \"#FF97FF\", \"#FECB52\"], \"font\": {\"color\": \"#2a3f5f\"}, \"geo\": {\"bgcolor\": \"white\", \"lakecolor\": \"white\", \"landcolor\": \"#E5ECF6\", \"showlakes\": true, \"showland\": true, \"subunitcolor\": \"white\"}, \"hoverlabel\": {\"align\": \"left\"}, \"hovermode\": \"closest\", \"mapbox\": {\"style\": \"light\"}, \"paper_bgcolor\": \"white\", \"plot_bgcolor\": \"#E5ECF6\", \"polar\": {\"angularaxis\": {\"gridcolor\": \"white\", \"linecolor\": \"white\", \"ticks\": \"\"}, \"bgcolor\": \"#E5ECF6\", \"radialaxis\": {\"gridcolor\": \"white\", \"linecolor\": \"white\", \"ticks\": \"\"}}, \"scene\": {\"xaxis\": {\"backgroundcolor\": \"#E5ECF6\", \"gridcolor\": \"white\", \"gridwidth\": 2, \"linecolor\": \"white\", \"showbackground\": true, \"ticks\": \"\", \"zerolinecolor\": \"white\"}, \"yaxis\": {\"backgroundcolor\": \"#E5ECF6\", \"gridcolor\": \"white\", \"gridwidth\": 2, \"linecolor\": \"white\", \"showbackground\": true, \"ticks\": \"\", \"zerolinecolor\": \"white\"}, \"zaxis\": {\"backgroundcolor\": \"#E5ECF6\", \"gridcolor\": \"white\", \"gridwidth\": 2, \"linecolor\": \"white\", \"showbackground\": true, \"ticks\": \"\", \"zerolinecolor\": \"white\"}}, \"shapedefaults\": {\"line\": {\"color\": \"#2a3f5f\"}}, \"ternary\": {\"aaxis\": {\"gridcolor\": \"white\", \"linecolor\": \"white\", \"ticks\": \"\"}, \"baxis\": {\"gridcolor\": \"white\", \"linecolor\": \"white\", \"ticks\": \"\"}, \"bgcolor\": \"#E5ECF6\", \"caxis\": {\"gridcolor\": \"white\", \"linecolor\": \"white\", \"ticks\": \"\"}}, \"title\": {\"x\": 0.05}, \"xaxis\": {\"automargin\": true, \"gridcolor\": \"white\", \"linecolor\": \"white\", \"ticks\": \"\", \"zerolinecolor\": \"white\", \"zerolinewidth\": 2}, \"yaxis\": {\"automargin\": true, \"gridcolor\": \"white\", \"linecolor\": \"white\", \"ticks\": \"\", \"zerolinecolor\": \"white\", \"zerolinewidth\": 2}}}},\n",
              "                        {\"responsive\": true}\n",
              "                    ).then(function(){\n",
              "                            \n",
              "var gd = document.getElementById('a9e26806-d797-41bc-b39a-291ef687d85b');\n",
              "var x = new MutationObserver(function (mutations, observer) {{\n",
              "        var display = window.getComputedStyle(gd).display;\n",
              "        if (!display || display === 'none') {{\n",
              "            console.log([gd, 'removed!']);\n",
              "            Plotly.purge(gd);\n",
              "            observer.disconnect();\n",
              "        }}\n",
              "}});\n",
              "\n",
              "// Listen for the removal of the full notebook cells\n",
              "var notebookContainer = gd.closest('#notebook-container');\n",
              "if (notebookContainer) {{\n",
              "    x.observe(notebookContainer, {childList: true});\n",
              "}}\n",
              "\n",
              "// Listen for the clearing of the current output cell\n",
              "var outputEl = gd.closest('.output');\n",
              "if (outputEl) {{\n",
              "    x.observe(outputEl, {childList: true});\n",
              "}}\n",
              "\n",
              "                        })\n",
              "                };\n",
              "                \n",
              "            </script>\n",
              "        </div>\n",
              "</body>\n",
              "</html>"
            ]
          },
          "metadata": {
            "tags": []
          }
        }
      ]
    },
    {
      "cell_type": "code",
      "metadata": {
        "id": "c9E5S-zYccTb",
        "colab_type": "code",
        "outputId": "abf48083-e96e-403b-f482-940243eb1757",
        "colab": {
          "base_uri": "https://localhost:8080/",
          "height": 92
        }
      },
      "source": [
        "immune_set = list()\n",
        "til_set = list()\n",
        "for i in cors.columns:\n",
        "  for j in cors.index:\n",
        "    if cors.loc[j][i] < -0.3:\n",
        "      immune_set.append(j)\n",
        "      til_set.append(i)\n",
        "immune_set = sorted(set(immune_set))\n",
        "til_set = sorted(set(til_set))\n",
        "print(immune_set)\n",
        "print(til_set)"
      ],
      "execution_count": 0,
      "outputs": [
        {
          "output_type": "stream",
          "text": [
            "['CD8_periphery_intra', 'FOXP3-periphery_intraepithelial', 'FOXP3/CD8-central_intraepithelial']\n",
            "['Fibrosis_central', 'Fibrosis_central_percentage', 'Fibrosis_periphery_percentage']\n"
          ],
          "name": "stdout"
        }
      ]
    },
    {
      "cell_type": "code",
      "metadata": {
        "id": "izaG7bBcXYLF",
        "colab_type": "code",
        "outputId": "5116349e-c054-4015-d818-8b31596a78e4",
        "colab": {
          "base_uri": "https://localhost:8080/",
          "height": 111
        }
      },
      "source": [
        "from importlib.machinery import SourceFileLoader\n",
        "\n",
        "preprocessing = SourceFileLoader('preprocessing', home_path + 'modeling_tools/preprocessing.py').load_module()\n",
        "tree_modeling = SourceFileLoader('tree_modeling', home_path + 'modeling_tools/tree_modeling.py').load_module()\n",
        "survival_analysis = SourceFileLoader('tree_modeling', home_path + 'modeling_tools/survival_analysis.py').load_module()"
      ],
      "execution_count": 0,
      "outputs": [
        {
          "output_type": "stream",
          "text": [
            "/usr/local/lib/python3.6/dist-packages/sklearn/externals/six.py:31: DeprecationWarning: The module is deprecated in version 0.21 and will be removed in version 0.23 since we've dropped support for Python 2.7. Please rely on the official version of six (https://pypi.org/project/six/).\n",
            "  \"(https://pypi.org/project/six/).\", DeprecationWarning)\n"
          ],
          "name": "stderr"
        }
      ]
    },
    {
      "cell_type": "code",
      "metadata": {
        "id": "xjpkLzJXZ1t_",
        "colab_type": "code",
        "outputId": "b183b72a-4ddc-4012-c77f-4f4c5df713ee",
        "colab": {
          "base_uri": "https://localhost:8080/",
          "height": 446
        }
      },
      "source": [
        "df_cat = df[til_cat_cols].astype(int)\n",
        "df_cat = preprocessing.preprocessing_category(df_cat)\n",
        "df_cat.head()"
      ],
      "execution_count": 0,
      "outputs": [
        {
          "output_type": "stream",
          "text": [
            "/usr/local/lib/python3.6/dist-packages/sklearn/preprocessing/_encoders.py:415: FutureWarning:\n",
            "\n",
            "The handling of integer data will change in version 0.22. Currently, the categories are determined based on the range [0, max(values)], while in the future they will be determined based on the unique values.\n",
            "If you want the future behaviour and silence this warning, you can specify \"categories='auto'\".\n",
            "In case you used a LabelEncoder before this OneHotEncoder to convert the categories to integers, then you can now use the OneHotEncoder directly.\n",
            "\n"
          ],
          "name": "stderr"
        },
        {
          "output_type": "execute_result",
          "data": {
            "text/html": [
              "<div>\n",
              "<style scoped>\n",
              "    .dataframe tbody tr th:only-of-type {\n",
              "        vertical-align: middle;\n",
              "    }\n",
              "\n",
              "    .dataframe tbody tr th {\n",
              "        vertical-align: top;\n",
              "    }\n",
              "\n",
              "    .dataframe thead th {\n",
              "        text-align: right;\n",
              "    }\n",
              "</style>\n",
              "<table border=\"1\" class=\"dataframe\">\n",
              "  <thead>\n",
              "    <tr style=\"text-align: right;\">\n",
              "      <th></th>\n",
              "      <th>Fibrosis_pattern_0.0</th>\n",
              "      <th>Fibrosis_pattern_1.0</th>\n",
              "      <th>Fibrosis_pattern_2.0</th>\n",
              "      <th>Fibrosis_pattern_3.0</th>\n",
              "      <th>Fibrosis_pattern_4.0</th>\n",
              "      <th>Fibrosis_pattern.1_0.0</th>\n",
              "      <th>Fibrosis_pattern.1_1.0</th>\n",
              "      <th>Fibrosis_pattern.1_2.0</th>\n",
              "      <th>Fibrosis_pattern.1_3.0</th>\n",
              "      <th>Fibrosis_pattern.1_4.0</th>\n",
              "    </tr>\n",
              "  </thead>\n",
              "  <tbody>\n",
              "    <tr>\n",
              "      <th>0</th>\n",
              "      <td>1.0</td>\n",
              "      <td>0.0</td>\n",
              "      <td>0.0</td>\n",
              "      <td>0.0</td>\n",
              "      <td>0.0</td>\n",
              "      <td>0.0</td>\n",
              "      <td>1.0</td>\n",
              "      <td>0.0</td>\n",
              "      <td>0.0</td>\n",
              "      <td>0.0</td>\n",
              "    </tr>\n",
              "    <tr>\n",
              "      <th>1</th>\n",
              "      <td>0.0</td>\n",
              "      <td>1.0</td>\n",
              "      <td>0.0</td>\n",
              "      <td>0.0</td>\n",
              "      <td>0.0</td>\n",
              "      <td>0.0</td>\n",
              "      <td>0.0</td>\n",
              "      <td>1.0</td>\n",
              "      <td>0.0</td>\n",
              "      <td>0.0</td>\n",
              "    </tr>\n",
              "    <tr>\n",
              "      <th>2</th>\n",
              "      <td>0.0</td>\n",
              "      <td>0.0</td>\n",
              "      <td>0.0</td>\n",
              "      <td>1.0</td>\n",
              "      <td>0.0</td>\n",
              "      <td>0.0</td>\n",
              "      <td>0.0</td>\n",
              "      <td>0.0</td>\n",
              "      <td>1.0</td>\n",
              "      <td>0.0</td>\n",
              "    </tr>\n",
              "    <tr>\n",
              "      <th>3</th>\n",
              "      <td>0.0</td>\n",
              "      <td>0.0</td>\n",
              "      <td>0.0</td>\n",
              "      <td>1.0</td>\n",
              "      <td>0.0</td>\n",
              "      <td>0.0</td>\n",
              "      <td>0.0</td>\n",
              "      <td>0.0</td>\n",
              "      <td>1.0</td>\n",
              "      <td>0.0</td>\n",
              "    </tr>\n",
              "    <tr>\n",
              "      <th>4</th>\n",
              "      <td>0.0</td>\n",
              "      <td>0.0</td>\n",
              "      <td>1.0</td>\n",
              "      <td>0.0</td>\n",
              "      <td>0.0</td>\n",
              "      <td>0.0</td>\n",
              "      <td>1.0</td>\n",
              "      <td>0.0</td>\n",
              "      <td>0.0</td>\n",
              "      <td>0.0</td>\n",
              "    </tr>\n",
              "  </tbody>\n",
              "</table>\n",
              "</div>"
            ],
            "text/plain": [
              "   Fibrosis_pattern_0.0  ...  Fibrosis_pattern.1_4.0\n",
              "0                   1.0  ...                     0.0\n",
              "1                   0.0  ...                     0.0\n",
              "2                   0.0  ...                     0.0\n",
              "3                   0.0  ...                     0.0\n",
              "4                   0.0  ...                     0.0\n",
              "\n",
              "[5 rows x 10 columns]"
            ]
          },
          "metadata": {
            "tags": []
          },
          "execution_count": 46
        }
      ]
    },
    {
      "cell_type": "code",
      "metadata": {
        "id": "c4vzRdMvaWAv",
        "colab_type": "code",
        "outputId": "cbaf2af8-fb18-4a3b-fbbf-c5b6058a61de",
        "colab": {
          "base_uri": "https://localhost:8080/",
          "height": 402
        }
      },
      "source": [
        "X = pd.concat([df[immune_set + til_set].reset_index(drop=True), df_cat], 1)\n",
        "X.head()"
      ],
      "execution_count": 0,
      "outputs": [
        {
          "output_type": "execute_result",
          "data": {
            "text/html": [
              "<div>\n",
              "<style scoped>\n",
              "    .dataframe tbody tr th:only-of-type {\n",
              "        vertical-align: middle;\n",
              "    }\n",
              "\n",
              "    .dataframe tbody tr th {\n",
              "        vertical-align: top;\n",
              "    }\n",
              "\n",
              "    .dataframe thead th {\n",
              "        text-align: right;\n",
              "    }\n",
              "</style>\n",
              "<table border=\"1\" class=\"dataframe\">\n",
              "  <thead>\n",
              "    <tr style=\"text-align: right;\">\n",
              "      <th></th>\n",
              "      <th>CD8_periphery_intra</th>\n",
              "      <th>FOXP3-periphery_intraepithelial</th>\n",
              "      <th>FOXP3/CD8-central_intraepithelial</th>\n",
              "      <th>Fibrosis_central</th>\n",
              "      <th>Fibrosis_central_percentage</th>\n",
              "      <th>Fibrosis_periphery_percentage</th>\n",
              "      <th>Fibrosis_pattern_0.0</th>\n",
              "      <th>Fibrosis_pattern_1.0</th>\n",
              "      <th>Fibrosis_pattern_2.0</th>\n",
              "      <th>Fibrosis_pattern_3.0</th>\n",
              "      <th>Fibrosis_pattern_4.0</th>\n",
              "      <th>Fibrosis_pattern.1_0.0</th>\n",
              "      <th>Fibrosis_pattern.1_1.0</th>\n",
              "      <th>Fibrosis_pattern.1_2.0</th>\n",
              "      <th>Fibrosis_pattern.1_3.0</th>\n",
              "      <th>Fibrosis_pattern.1_4.0</th>\n",
              "    </tr>\n",
              "  </thead>\n",
              "  <tbody>\n",
              "    <tr>\n",
              "      <th>0</th>\n",
              "      <td>0.0</td>\n",
              "      <td>3.0</td>\n",
              "      <td>0.774194</td>\n",
              "      <td>10.0</td>\n",
              "      <td>5.0</td>\n",
              "      <td>0.0</td>\n",
              "      <td>1.0</td>\n",
              "      <td>0.0</td>\n",
              "      <td>0.0</td>\n",
              "      <td>0.0</td>\n",
              "      <td>0.0</td>\n",
              "      <td>0.0</td>\n",
              "      <td>1.0</td>\n",
              "      <td>0.0</td>\n",
              "      <td>0.0</td>\n",
              "      <td>0.0</td>\n",
              "    </tr>\n",
              "    <tr>\n",
              "      <th>1</th>\n",
              "      <td>25.0</td>\n",
              "      <td>2.0</td>\n",
              "      <td>0.000000</td>\n",
              "      <td>60.0</td>\n",
              "      <td>30.0</td>\n",
              "      <td>40.0</td>\n",
              "      <td>0.0</td>\n",
              "      <td>1.0</td>\n",
              "      <td>0.0</td>\n",
              "      <td>0.0</td>\n",
              "      <td>0.0</td>\n",
              "      <td>0.0</td>\n",
              "      <td>0.0</td>\n",
              "      <td>1.0</td>\n",
              "      <td>0.0</td>\n",
              "      <td>0.0</td>\n",
              "    </tr>\n",
              "    <tr>\n",
              "      <th>2</th>\n",
              "      <td>44.0</td>\n",
              "      <td>36.0</td>\n",
              "      <td>0.125000</td>\n",
              "      <td>10.0</td>\n",
              "      <td>5.0</td>\n",
              "      <td>10.0</td>\n",
              "      <td>0.0</td>\n",
              "      <td>0.0</td>\n",
              "      <td>0.0</td>\n",
              "      <td>1.0</td>\n",
              "      <td>0.0</td>\n",
              "      <td>0.0</td>\n",
              "      <td>0.0</td>\n",
              "      <td>0.0</td>\n",
              "      <td>1.0</td>\n",
              "      <td>0.0</td>\n",
              "    </tr>\n",
              "    <tr>\n",
              "      <th>3</th>\n",
              "      <td>47.0</td>\n",
              "      <td>0.0</td>\n",
              "      <td>0.000000</td>\n",
              "      <td>10.0</td>\n",
              "      <td>5.0</td>\n",
              "      <td>5.0</td>\n",
              "      <td>0.0</td>\n",
              "      <td>0.0</td>\n",
              "      <td>0.0</td>\n",
              "      <td>1.0</td>\n",
              "      <td>0.0</td>\n",
              "      <td>0.0</td>\n",
              "      <td>0.0</td>\n",
              "      <td>0.0</td>\n",
              "      <td>1.0</td>\n",
              "      <td>0.0</td>\n",
              "    </tr>\n",
              "    <tr>\n",
              "      <th>4</th>\n",
              "      <td>120.0</td>\n",
              "      <td>23.0</td>\n",
              "      <td>0.030612</td>\n",
              "      <td>10.0</td>\n",
              "      <td>5.0</td>\n",
              "      <td>10.0</td>\n",
              "      <td>0.0</td>\n",
              "      <td>0.0</td>\n",
              "      <td>1.0</td>\n",
              "      <td>0.0</td>\n",
              "      <td>0.0</td>\n",
              "      <td>0.0</td>\n",
              "      <td>1.0</td>\n",
              "      <td>0.0</td>\n",
              "      <td>0.0</td>\n",
              "      <td>0.0</td>\n",
              "    </tr>\n",
              "  </tbody>\n",
              "</table>\n",
              "</div>"
            ],
            "text/plain": [
              "   CD8_periphery_intra  ...  Fibrosis_pattern.1_4.0\n",
              "0                  0.0  ...                     0.0\n",
              "1                 25.0  ...                     0.0\n",
              "2                 44.0  ...                     0.0\n",
              "3                 47.0  ...                     0.0\n",
              "4                120.0  ...                     0.0\n",
              "\n",
              "[5 rows x 16 columns]"
            ]
          },
          "metadata": {
            "tags": []
          },
          "execution_count": 63
        }
      ]
    },
    {
      "cell_type": "code",
      "metadata": {
        "id": "q6EBQBGMaiJH",
        "colab_type": "code",
        "outputId": "e601288a-bcfa-4f4a-ba9e-c0e39f13c264",
        "colab": {
          "base_uri": "https://localhost:8080/",
          "height": 136
        }
      },
      "source": [
        "y = list(map(lambda x: int(x), np.array((df['5-yearstate'] == 0) * (df['Event'] == 0))))\n",
        "pd.value_counts(y)"
      ],
      "execution_count": 0,
      "outputs": [
        {
          "output_type": "stream",
          "text": [
            "/usr/local/lib/python3.6/dist-packages/pandas/core/computation/expressions.py:183: UserWarning:\n",
            "\n",
            "evaluating in Python space because the '*' operator is not supported by numexpr for the bool dtype, use '&' instead\n",
            "\n"
          ],
          "name": "stderr"
        },
        {
          "output_type": "execute_result",
          "data": {
            "text/plain": [
              "1    265\n",
              "0    192\n",
              "dtype: int64"
            ]
          },
          "metadata": {
            "tags": []
          },
          "execution_count": 48
        }
      ]
    },
    {
      "cell_type": "code",
      "metadata": {
        "id": "lSQQLNJ17Vro",
        "colab_type": "code",
        "colab": {}
      },
      "source": [
        "event = np.array(list(map(lambda x: 1 - x, y)))\n",
        "duration = df['Duration (month)'].values"
      ],
      "execution_count": 0,
      "outputs": []
    },
    {
      "cell_type": "code",
      "metadata": {
        "id": "S0GXRJVH6hHo",
        "colab_type": "code",
        "colab": {}
      },
      "source": [
        "def make_works(cols, md):\n",
        "  tree = tree_modeling.tree_model_with_performance([df[cols], y], 10, md, class_weight='balanced')\n",
        "  pred = tree['model'].predict(df[cols])\n",
        "  survival_analysis.do_KM_analysis(duration, pred, event, ['Pred_0', 'Pred_1'])\n",
        "  \n",
        "  return tree"
      ],
      "execution_count": 0,
      "outputs": []
    },
    {
      "cell_type": "code",
      "metadata": {
        "id": "WDHo7JKt65u5",
        "colab_type": "code",
        "outputId": "d24f4c50-01cf-448b-d918-8ac011873c87",
        "colab": {
          "base_uri": "https://localhost:8080/",
          "height": 592
        }
      },
      "source": [
        "tree1 = make_works(['FOXP3/CD8-central_intraepithelial', 'Fibrosis_central', 'Fibrosis_central_percentage'], 3)"
      ],
      "execution_count": 0,
      "outputs": [
        {
          "output_type": "stream",
          "text": [
            "{'AUC': 0.6819968553459119, 'accuracy': 0.6148796498905909, 'precision': 0.7458563535911602, 'recall': 0.5094339622641509, 'f1': 0.6053811659192825, 'mcc': 0.27233481048798297}\n",
            "<lifelines.StatisticalResult>\n",
            "               t_0 = -1\n",
            " null_distribution = chi squared\n",
            "degrees_of_freedom = 1\n",
            "\n",
            "---\n",
            " test_statistic      p  -log2(p)\n",
            "          32.02 <0.005     25.97\n",
            "<lifelines.StatisticalResult: (0, 1)>\n",
            "               t_0 = -1\n",
            " null_distribution = chi squared\n",
            "degrees_of_freedom = 1\n",
            "\n",
            "---\n",
            "     test_statistic      p  -log2(p)\n",
            "0 1           32.02 <0.005     25.97\n"
          ],
          "name": "stdout"
        },
        {
          "output_type": "display_data",
          "data": {
            "image/png": "[encoded data removed]",
            "text/plain": [
              "<Figure size 432x288 with 1 Axes>"
            ]
          },
          "metadata": {
            "tags": []
          }
        }
      ]
    },
    {
      "cell_type": "code",
      "metadata": {
        "id": "W6lHqKwBbonP",
        "colab_type": "code",
        "outputId": "58205160-94a1-4f57-ec68-a83a63035463",
        "colab": {
          "base_uri": "https://localhost:8080/",
          "height": 638
        }
      },
      "source": [
        "tree1['tree graph']"
      ],
      "execution_count": 0,
      "outputs": [
        {
          "output_type": "execute_result",
          "data": {
            "text/plain": [
              "<graphviz.files.Source at 0x7fdb5b872978>"
            ],
            "image/svg+xml": "<?xml version=\"1.0\" encoding=\"UTF-8\" standalone=\"no\"?>\n<!DOCTYPE svg PUBLIC \"-//W3C//DTD SVG 1.1//EN\"\n \"http://www.w3.org/Graphics/SVG/1.1/DTD/svg11.dtd\">\n<!-- Generated by graphviz version 2.40.1 (20161225.0304)\n -->\n<!-- Title: Tree Pages: 1 -->\n<svg width=\"1382pt\" height=\"433pt\"\n viewBox=\"0.00 0.00 1382.00 433.00\" xmlns=\"http://www.w3.org/2000/svg\" xmlns:xlink=\"http://www.w3.org/1999/xlink\">\n<g id=\"graph0\" class=\"graph\" transform=\"scale(1 1) rotate(0) translate(4 429)\">\n<title>Tree</title>\n<polygon fill=\"#ffffff\" stroke=\"transparent\" points=\"-4,4 -4,-429 1378,-429 1378,4 -4,4\"/>\n<!-- 0 -->\n<g id=\"node1\" class=\"node\">\n<title>0</title>\n<path fill=\"#ffffff\" stroke=\"#000000\" d=\"M828,-425C828,-425 562,-425 562,-425 556,-425 550,-419 550,-413 550,-413 550,-354 550,-354 550,-348 556,-342 562,-342 562,-342 828,-342 828,-342 834,-342 840,-348 840,-354 840,-354 840,-413 840,-413 840,-419 834,-425 828,-425\"/>\n<text text-anchor=\"start\" x=\"558\" y=\"-409.8\" font-family=\"Helvetica,sans-Serif\" font-size=\"14.00\" fill=\"#000000\">FOXP3/CD8&#45;central_intraepithelial ≤ 0.098</text>\n<text text-anchor=\"start\" x=\"665.5\" y=\"-394.8\" font-family=\"Helvetica,sans-Serif\" font-size=\"14.00\" fill=\"#000000\">gini = 0.5</text>\n<text text-anchor=\"start\" x=\"634.5\" y=\"-379.8\" font-family=\"Helvetica,sans-Serif\" font-size=\"14.00\" fill=\"#000000\">samples = 100.0%</text>\n<text text-anchor=\"start\" x=\"641.5\" y=\"-364.8\" font-family=\"Helvetica,sans-Serif\" font-size=\"14.00\" fill=\"#000000\">value = [0.5, 0.5]</text>\n<text text-anchor=\"start\" x=\"666\" y=\"-349.8\" font-family=\"Helvetica,sans-Serif\" font-size=\"14.00\" fill=\"#000000\">class = 1</text>\n</g>\n<!-- 1 -->\n<g id=\"node2\" class=\"node\">\n<title>1</title>\n<path fill=\"#fae7d9\" stroke=\"#000000\" d=\"M625.5,-306C625.5,-306 478.5,-306 478.5,-306 472.5,-306 466.5,-300 466.5,-294 466.5,-294 466.5,-235 466.5,-235 466.5,-229 472.5,-223 478.5,-223 478.5,-223 625.5,-223 625.5,-223 631.5,-223 637.5,-229 637.5,-235 637.5,-235 637.5,-294 637.5,-294 637.5,-300 631.5,-306 625.5,-306\"/>\n<text text-anchor=\"start\" x=\"474.5\" y=\"-290.8\" font-family=\"Helvetica,sans-Serif\" font-size=\"14.00\" fill=\"#000000\">Fibrosis_central ≤ 202.5</text>\n<text text-anchor=\"start\" x=\"514\" y=\"-275.8\" font-family=\"Helvetica,sans-Serif\" font-size=\"14.00\" fill=\"#000000\">gini = 0.494</text>\n<text text-anchor=\"start\" x=\"496\" y=\"-260.8\" font-family=\"Helvetica,sans-Serif\" font-size=\"14.00\" fill=\"#000000\">samples = 63.5%</text>\n<text text-anchor=\"start\" x=\"482\" y=\"-245.8\" font-family=\"Helvetica,sans-Serif\" font-size=\"14.00\" fill=\"#000000\">value = [0.553, 0.447]</text>\n<text text-anchor=\"start\" x=\"523\" y=\"-230.8\" font-family=\"Helvetica,sans-Serif\" font-size=\"14.00\" fill=\"#000000\">class = 0</text>\n</g>\n<!-- 0&#45;&gt;1 -->\n<g id=\"edge1\" class=\"edge\">\n<title>0&#45;&gt;1</title>\n<path fill=\"none\" stroke=\"#000000\" d=\"M644.9855,-341.8796C633.7299,-332.513 621.6912,-322.4948 610.1354,-312.8784\"/>\n<polygon fill=\"#000000\" stroke=\"#000000\" points=\"612.1534,-310.0043 602.2279,-306.2981 607.6758,-315.385 612.1534,-310.0043\"/>\n<text text-anchor=\"middle\" x=\"604.5085\" y=\"-327.4938\" font-family=\"Helvetica,sans-Serif\" font-size=\"14.00\" fill=\"#000000\">True</text>\n</g>\n<!-- 8 -->\n<g id=\"node9\" class=\"node\">\n<title>8</title>\n<path fill=\"#bfdff7\" stroke=\"#000000\" d=\"M997,-306C997,-306 731,-306 731,-306 725,-306 719,-300 719,-294 719,-294 719,-235 719,-235 719,-229 725,-223 731,-223 731,-223 997,-223 997,-223 1003,-223 1009,-229 1009,-235 1009,-235 1009,-294 1009,-294 1009,-300 1003,-306 997,-306\"/>\n<text text-anchor=\"start\" x=\"727\" y=\"-290.8\" font-family=\"Helvetica,sans-Serif\" font-size=\"14.00\" fill=\"#000000\">FOXP3/CD8&#45;central_intraepithelial ≤ 0.496</text>\n<text text-anchor=\"start\" x=\"826\" y=\"-275.8\" font-family=\"Helvetica,sans-Serif\" font-size=\"14.00\" fill=\"#000000\">gini = 0.482</text>\n<text text-anchor=\"start\" x=\"808\" y=\"-260.8\" font-family=\"Helvetica,sans-Serif\" font-size=\"14.00\" fill=\"#000000\">samples = 36.5%</text>\n<text text-anchor=\"start\" x=\"794\" y=\"-245.8\" font-family=\"Helvetica,sans-Serif\" font-size=\"14.00\" fill=\"#000000\">value = [0.404, 0.596]</text>\n<text text-anchor=\"start\" x=\"835\" y=\"-230.8\" font-family=\"Helvetica,sans-Serif\" font-size=\"14.00\" fill=\"#000000\">class = 1</text>\n</g>\n<!-- 0&#45;&gt;8 -->\n<g id=\"edge8\" class=\"edge\">\n<title>0&#45;&gt;8</title>\n<path fill=\"none\" stroke=\"#000000\" d=\"M754.108,-341.8796C767.8734,-332.1868 782.6299,-321.7961 796.7193,-311.8752\"/>\n<polygon fill=\"#000000\" stroke=\"#000000\" points=\"798.7641,-314.716 804.9254,-306.0969 794.7339,-308.9926 798.7641,-314.716\"/>\n<text text-anchor=\"middle\" x=\"800.6491\" y=\"-327.0285\" font-family=\"Helvetica,sans-Serif\" font-size=\"14.00\" fill=\"#000000\">False</text>\n</g>\n<!-- 2 -->\n<g id=\"node3\" class=\"node\">\n<title>2</title>\n<path fill=\"#f7d8c2\" stroke=\"#000000\" d=\"M385,-187C385,-187 119,-187 119,-187 113,-187 107,-181 107,-175 107,-175 107,-116 107,-116 107,-110 113,-104 119,-104 119,-104 385,-104 385,-104 391,-104 397,-110 397,-116 397,-116 397,-175 397,-175 397,-181 391,-187 385,-187\"/>\n<text text-anchor=\"start\" x=\"115\" y=\"-171.8\" font-family=\"Helvetica,sans-Serif\" font-size=\"14.00\" fill=\"#000000\">FOXP3/CD8&#45;central_intraepithelial ≤ 0.055</text>\n<text text-anchor=\"start\" x=\"214\" y=\"-156.8\" font-family=\"Helvetica,sans-Serif\" font-size=\"14.00\" fill=\"#000000\">gini = 0.483</text>\n<text text-anchor=\"start\" x=\"196\" y=\"-141.8\" font-family=\"Helvetica,sans-Serif\" font-size=\"14.00\" fill=\"#000000\">samples = 47.9%</text>\n<text text-anchor=\"start\" x=\"182\" y=\"-126.8\" font-family=\"Helvetica,sans-Serif\" font-size=\"14.00\" fill=\"#000000\">value = [0.591, 0.409]</text>\n<text text-anchor=\"start\" x=\"223\" y=\"-111.8\" font-family=\"Helvetica,sans-Serif\" font-size=\"14.00\" fill=\"#000000\">class = 0</text>\n</g>\n<!-- 1&#45;&gt;2 -->\n<g id=\"edge2\" class=\"edge\">\n<title>1&#45;&gt;2</title>\n<path fill=\"none\" stroke=\"#000000\" d=\"M466.4335,-230.5586C435.2477,-218.1882 399.474,-203.998 366.1972,-190.7982\"/>\n<polygon fill=\"#000000\" stroke=\"#000000\" points=\"367.4694,-187.5376 356.8835,-187.1038 364.8884,-194.0444 367.4694,-187.5376\"/>\n</g>\n<!-- 5 -->\n<g id=\"node6\" class=\"node\">\n<title>5</title>\n<path fill=\"#cee7f9\" stroke=\"#000000\" d=\"M662.5,-187C662.5,-187 441.5,-187 441.5,-187 435.5,-187 429.5,-181 429.5,-175 429.5,-175 429.5,-116 429.5,-116 429.5,-110 435.5,-104 441.5,-104 441.5,-104 662.5,-104 662.5,-104 668.5,-104 674.5,-110 674.5,-116 674.5,-116 674.5,-175 674.5,-175 674.5,-181 668.5,-187 662.5,-187\"/>\n<text text-anchor=\"start\" x=\"437.5\" y=\"-171.8\" font-family=\"Helvetica,sans-Serif\" font-size=\"14.00\" fill=\"#000000\">Fibrosis_central_percentage ≤ 87.5</text>\n<text text-anchor=\"start\" x=\"518.5\" y=\"-156.8\" font-family=\"Helvetica,sans-Serif\" font-size=\"14.00\" fill=\"#000000\">gini = 0.49</text>\n<text text-anchor=\"start\" x=\"496\" y=\"-141.8\" font-family=\"Helvetica,sans-Serif\" font-size=\"14.00\" fill=\"#000000\">samples = 15.5%</text>\n<text text-anchor=\"start\" x=\"482\" y=\"-126.8\" font-family=\"Helvetica,sans-Serif\" font-size=\"14.00\" fill=\"#000000\">value = [0.429, 0.571]</text>\n<text text-anchor=\"start\" x=\"523\" y=\"-111.8\" font-family=\"Helvetica,sans-Serif\" font-size=\"14.00\" fill=\"#000000\">class = 1</text>\n</g>\n<!-- 1&#45;&gt;5 -->\n<g id=\"edge5\" class=\"edge\">\n<title>1&#45;&gt;5</title>\n<path fill=\"none\" stroke=\"#000000\" d=\"M552,-222.8796C552,-214.6838 552,-205.9891 552,-197.5013\"/>\n<polygon fill=\"#000000\" stroke=\"#000000\" points=\"555.5001,-197.298 552,-187.2981 548.5001,-197.2981 555.5001,-197.298\"/>\n</g>\n<!-- 3 -->\n<g id=\"node4\" class=\"node\">\n<title>3</title>\n<path fill=\"#f8dfcd\" stroke=\"#000000\" d=\"M144,-68C144,-68 12,-68 12,-68 6,-68 0,-62 0,-56 0,-56 0,-12 0,-12 0,-6 6,0 12,0 12,0 144,0 144,0 150,0 156,-6 156,-12 156,-12 156,-56 156,-56 156,-62 150,-68 144,-68\"/>\n<text text-anchor=\"start\" x=\"40\" y=\"-52.8\" font-family=\"Helvetica,sans-Serif\" font-size=\"14.00\" fill=\"#000000\">gini = 0.489</text>\n<text text-anchor=\"start\" x=\"22\" y=\"-37.8\" font-family=\"Helvetica,sans-Serif\" font-size=\"14.00\" fill=\"#000000\">samples = 45.7%</text>\n<text text-anchor=\"start\" x=\"8\" y=\"-22.8\" font-family=\"Helvetica,sans-Serif\" font-size=\"14.00\" fill=\"#000000\">value = [0.573, 0.427]</text>\n<text text-anchor=\"start\" x=\"49\" y=\"-7.8\" font-family=\"Helvetica,sans-Serif\" font-size=\"14.00\" fill=\"#000000\">class = 0</text>\n</g>\n<!-- 2&#45;&gt;3 -->\n<g id=\"edge3\" class=\"edge\">\n<title>2&#45;&gt;3</title>\n<path fill=\"none\" stroke=\"#000000\" d=\"M187.2088,-103.9815C171.6375,-94.0034 155.049,-83.3733 139.6263,-73.4904\"/>\n<polygon fill=\"#000000\" stroke=\"#000000\" points=\"141.5,-70.5341 131.1919,-68.0856 137.7232,-76.4279 141.5,-70.5341\"/>\n</g>\n<!-- 4 -->\n<g id=\"node5\" class=\"node\">\n<title>4</title>\n<path fill=\"#e78b49\" stroke=\"#000000\" d=\"M318,-68C318,-68 186,-68 186,-68 180,-68 174,-62 174,-56 174,-56 174,-12 174,-12 174,-6 180,0 186,0 186,0 318,0 318,0 324,0 330,-6 330,-12 330,-12 330,-56 330,-56 330,-62 324,-68 318,-68\"/>\n<text text-anchor=\"start\" x=\"214\" y=\"-52.8\" font-family=\"Helvetica,sans-Serif\" font-size=\"14.00\" fill=\"#000000\">gini = 0.138</text>\n<text text-anchor=\"start\" x=\"200\" y=\"-37.8\" font-family=\"Helvetica,sans-Serif\" font-size=\"14.00\" fill=\"#000000\">samples = 2.2%</text>\n<text text-anchor=\"start\" x=\"182\" y=\"-22.8\" font-family=\"Helvetica,sans-Serif\" font-size=\"14.00\" fill=\"#000000\">value = [0.925, 0.075]</text>\n<text text-anchor=\"start\" x=\"223\" y=\"-7.8\" font-family=\"Helvetica,sans-Serif\" font-size=\"14.00\" fill=\"#000000\">class = 0</text>\n</g>\n<!-- 2&#45;&gt;4 -->\n<g id=\"edge4\" class=\"edge\">\n<title>2&#45;&gt;4</title>\n<path fill=\"none\" stroke=\"#000000\" d=\"M252,-103.9815C252,-95.618 252,-86.7965 252,-78.3409\"/>\n<polygon fill=\"#000000\" stroke=\"#000000\" points=\"255.5001,-78.2636 252,-68.2637 248.5001,-78.2637 255.5001,-78.2636\"/>\n</g>\n<!-- 6 -->\n<g id=\"node7\" class=\"node\">\n<title>6</title>\n<path fill=\"#bedff6\" stroke=\"#000000\" d=\"M492,-68C492,-68 360,-68 360,-68 354,-68 348,-62 348,-56 348,-56 348,-12 348,-12 348,-6 354,0 360,0 360,0 492,0 492,0 498,0 504,-6 504,-12 504,-12 504,-56 504,-56 504,-62 498,-68 492,-68\"/>\n<text text-anchor=\"start\" x=\"388\" y=\"-52.8\" font-family=\"Helvetica,sans-Serif\" font-size=\"14.00\" fill=\"#000000\">gini = 0.481</text>\n<text text-anchor=\"start\" x=\"370\" y=\"-37.8\" font-family=\"Helvetica,sans-Serif\" font-size=\"14.00\" fill=\"#000000\">samples = 11.4%</text>\n<text text-anchor=\"start\" x=\"356\" y=\"-22.8\" font-family=\"Helvetica,sans-Serif\" font-size=\"14.00\" fill=\"#000000\">value = [0.401, 0.599]</text>\n<text text-anchor=\"start\" x=\"397\" y=\"-7.8\" font-family=\"Helvetica,sans-Serif\" font-size=\"14.00\" fill=\"#000000\">class = 1</text>\n</g>\n<!-- 5&#45;&gt;6 -->\n<g id=\"edge6\" class=\"edge\">\n<title>5&#45;&gt;6</title>\n<path fill=\"none\" stroke=\"#000000\" d=\"M505.0823,-103.9815C494.3848,-94.5151 483.0244,-84.462 472.3508,-75.0168\"/>\n<polygon fill=\"#000000\" stroke=\"#000000\" points=\"474.5278,-72.2696 464.7195,-68.2637 469.8889,-77.5118 474.5278,-72.2696\"/>\n</g>\n<!-- 7 -->\n<g id=\"node8\" class=\"node\">\n<title>7</title>\n<path fill=\"#fffffe\" stroke=\"#000000\" d=\"M666,-68C666,-68 534,-68 534,-68 528,-68 522,-62 522,-56 522,-56 522,-12 522,-12 522,-6 528,0 534,0 534,0 666,0 666,0 672,0 678,-6 678,-12 678,-12 678,-56 678,-56 678,-62 672,-68 666,-68\"/>\n<text text-anchor=\"start\" x=\"570.5\" y=\"-52.8\" font-family=\"Helvetica,sans-Serif\" font-size=\"14.00\" fill=\"#000000\">gini = 0.5</text>\n<text text-anchor=\"start\" x=\"548\" y=\"-37.8\" font-family=\"Helvetica,sans-Serif\" font-size=\"14.00\" fill=\"#000000\">samples = 4.2%</text>\n<text text-anchor=\"start\" x=\"530\" y=\"-22.8\" font-family=\"Helvetica,sans-Serif\" font-size=\"14.00\" fill=\"#000000\">value = [0.501, 0.499]</text>\n<text text-anchor=\"start\" x=\"571\" y=\"-7.8\" font-family=\"Helvetica,sans-Serif\" font-size=\"14.00\" fill=\"#000000\">class = 0</text>\n</g>\n<!-- 5&#45;&gt;7 -->\n<g id=\"edge7\" class=\"edge\">\n<title>5&#45;&gt;7</title>\n<path fill=\"none\" stroke=\"#000000\" d=\"M569.8734,-103.9815C573.5926,-95.3423 577.522,-86.2144 581.271,-77.5059\"/>\n<polygon fill=\"#000000\" stroke=\"#000000\" points=\"584.5103,-78.8327 585.2497,-68.2637 578.0808,-76.0648 584.5103,-78.8327\"/>\n</g>\n<!-- 9 -->\n<g id=\"node10\" class=\"node\">\n<title>9</title>\n<path fill=\"#74baed\" stroke=\"#000000\" d=\"M997,-187C997,-187 731,-187 731,-187 725,-187 719,-181 719,-175 719,-175 719,-116 719,-116 719,-110 725,-104 731,-104 731,-104 997,-104 997,-104 1003,-104 1009,-110 1009,-116 1009,-116 1009,-175 1009,-175 1009,-181 1003,-187 997,-187\"/>\n<text text-anchor=\"start\" x=\"727\" y=\"-171.8\" font-family=\"Helvetica,sans-Serif\" font-size=\"14.00\" fill=\"#000000\">FOXP3/CD8&#45;central_intraepithelial ≤ 0.287</text>\n<text text-anchor=\"start\" x=\"826\" y=\"-156.8\" font-family=\"Helvetica,sans-Serif\" font-size=\"14.00\" fill=\"#000000\">gini = 0.353</text>\n<text text-anchor=\"start\" x=\"808\" y=\"-141.8\" font-family=\"Helvetica,sans-Serif\" font-size=\"14.00\" fill=\"#000000\">samples = 21.0%</text>\n<text text-anchor=\"start\" x=\"794\" y=\"-126.8\" font-family=\"Helvetica,sans-Serif\" font-size=\"14.00\" fill=\"#000000\">value = [0.229, 0.771]</text>\n<text text-anchor=\"start\" x=\"835\" y=\"-111.8\" font-family=\"Helvetica,sans-Serif\" font-size=\"14.00\" fill=\"#000000\">class = 1</text>\n</g>\n<!-- 8&#45;&gt;9 -->\n<g id=\"edge9\" class=\"edge\">\n<title>8&#45;&gt;9</title>\n<path fill=\"none\" stroke=\"#000000\" d=\"M864,-222.8796C864,-214.6838 864,-205.9891 864,-197.5013\"/>\n<polygon fill=\"#000000\" stroke=\"#000000\" points=\"867.5001,-197.298 864,-187.2981 860.5001,-197.2981 867.5001,-197.298\"/>\n</g>\n<!-- 12 -->\n<g id=\"node13\" class=\"node\">\n<title>12</title>\n<path fill=\"#f5d0b6\" stroke=\"#000000\" d=\"M1191.5,-187C1191.5,-187 1052.5,-187 1052.5,-187 1046.5,-187 1040.5,-181 1040.5,-175 1040.5,-175 1040.5,-116 1040.5,-116 1040.5,-110 1046.5,-104 1052.5,-104 1052.5,-104 1191.5,-104 1191.5,-104 1197.5,-104 1203.5,-110 1203.5,-116 1203.5,-116 1203.5,-175 1203.5,-175 1203.5,-181 1197.5,-187 1191.5,-187\"/>\n<text text-anchor=\"start\" x=\"1048.5\" y=\"-171.8\" font-family=\"Helvetica,sans-Serif\" font-size=\"14.00\" fill=\"#000000\">Fibrosis_central ≤ 47.5</text>\n<text text-anchor=\"start\" x=\"1084\" y=\"-156.8\" font-family=\"Helvetica,sans-Serif\" font-size=\"14.00\" fill=\"#000000\">gini = 0.474</text>\n<text text-anchor=\"start\" x=\"1066\" y=\"-141.8\" font-family=\"Helvetica,sans-Serif\" font-size=\"14.00\" fill=\"#000000\">samples = 15.5%</text>\n<text text-anchor=\"start\" x=\"1052\" y=\"-126.8\" font-family=\"Helvetica,sans-Serif\" font-size=\"14.00\" fill=\"#000000\">value = [0.614, 0.386]</text>\n<text text-anchor=\"start\" x=\"1093\" y=\"-111.8\" font-family=\"Helvetica,sans-Serif\" font-size=\"14.00\" fill=\"#000000\">class = 0</text>\n</g>\n<!-- 8&#45;&gt;12 -->\n<g id=\"edge12\" class=\"edge\">\n<title>8&#45;&gt;12</title>\n<path fill=\"none\" stroke=\"#000000\" d=\"M954.2359,-222.8796C979.2136,-211.3588 1006.3289,-198.8522 1031.3312,-187.3201\"/>\n<polygon fill=\"#000000\" stroke=\"#000000\" points=\"1032.8245,-190.4858 1040.4391,-183.1192 1029.8926,-184.1293 1032.8245,-190.4858\"/>\n</g>\n<!-- 10 -->\n<g id=\"node11\" class=\"node\">\n<title>10</title>\n<path fill=\"#8ec7f0\" stroke=\"#000000\" d=\"M840,-68C840,-68 708,-68 708,-68 702,-68 696,-62 696,-56 696,-56 696,-12 696,-12 696,-6 702,0 708,0 708,0 840,0 840,0 846,0 852,-6 852,-12 852,-12 852,-56 852,-56 852,-62 846,-68 840,-68\"/>\n<text text-anchor=\"start\" x=\"736\" y=\"-52.8\" font-family=\"Helvetica,sans-Serif\" font-size=\"14.00\" fill=\"#000000\">gini = 0.421</text>\n<text text-anchor=\"start\" x=\"718\" y=\"-37.8\" font-family=\"Helvetica,sans-Serif\" font-size=\"14.00\" fill=\"#000000\">samples = 13.8%</text>\n<text text-anchor=\"start\" x=\"704\" y=\"-22.8\" font-family=\"Helvetica,sans-Serif\" font-size=\"14.00\" fill=\"#000000\">value = [0.301, 0.699]</text>\n<text text-anchor=\"start\" x=\"745\" y=\"-7.8\" font-family=\"Helvetica,sans-Serif\" font-size=\"14.00\" fill=\"#000000\">class = 1</text>\n</g>\n<!-- 9&#45;&gt;10 -->\n<g id=\"edge10\" class=\"edge\">\n<title>9&#45;&gt;10</title>\n<path fill=\"none\" stroke=\"#000000\" d=\"M830.4873,-103.9815C823.143,-94.8828 815.3612,-85.242 807.9981,-76.1199\"/>\n<polygon fill=\"#000000\" stroke=\"#000000\" points=\"810.6612,-73.8467 801.6568,-68.2637 805.2143,-78.2434 810.6612,-73.8467\"/>\n</g>\n<!-- 11 -->\n<g id=\"node12\" class=\"node\">\n<title>11</title>\n<path fill=\"#4ba6e7\" stroke=\"#000000\" d=\"M1014,-68C1014,-68 882,-68 882,-68 876,-68 870,-62 870,-56 870,-56 870,-12 870,-12 870,-6 876,0 882,0 882,0 1014,0 1014,0 1020,0 1026,-6 1026,-12 1026,-12 1026,-56 1026,-56 1026,-62 1020,-68 1014,-68\"/>\n<text text-anchor=\"start\" x=\"914.5\" y=\"-52.8\" font-family=\"Helvetica,sans-Serif\" font-size=\"14.00\" fill=\"#000000\">gini = 0.15</text>\n<text text-anchor=\"start\" x=\"896\" y=\"-37.8\" font-family=\"Helvetica,sans-Serif\" font-size=\"14.00\" fill=\"#000000\">samples = 7.2%</text>\n<text text-anchor=\"start\" x=\"878\" y=\"-22.8\" font-family=\"Helvetica,sans-Serif\" font-size=\"14.00\" fill=\"#000000\">value = [0.082, 0.918]</text>\n<text text-anchor=\"start\" x=\"919\" y=\"-7.8\" font-family=\"Helvetica,sans-Serif\" font-size=\"14.00\" fill=\"#000000\">class = 1</text>\n</g>\n<!-- 9&#45;&gt;11 -->\n<g id=\"edge11\" class=\"edge\">\n<title>9&#45;&gt;11</title>\n<path fill=\"none\" stroke=\"#000000\" d=\"M895.2785,-103.9815C902.0639,-94.9747 909.2495,-85.4367 916.0601,-76.3965\"/>\n<polygon fill=\"#000000\" stroke=\"#000000\" points=\"918.9653,-78.3568 922.187,-68.2637 913.3743,-74.1448 918.9653,-78.3568\"/>\n</g>\n<!-- 13 -->\n<g id=\"node14\" class=\"node\">\n<title>13</title>\n<path fill=\"#d5eafa\" stroke=\"#000000\" d=\"M1188,-68C1188,-68 1056,-68 1056,-68 1050,-68 1044,-62 1044,-56 1044,-56 1044,-12 1044,-12 1044,-6 1050,0 1056,0 1056,0 1188,0 1188,0 1194,0 1200,-6 1200,-12 1200,-12 1200,-56 1200,-56 1200,-62 1194,-68 1188,-68\"/>\n<text text-anchor=\"start\" x=\"1084\" y=\"-52.8\" font-family=\"Helvetica,sans-Serif\" font-size=\"14.00\" fill=\"#000000\">gini = 0.493</text>\n<text text-anchor=\"start\" x=\"1070\" y=\"-37.8\" font-family=\"Helvetica,sans-Serif\" font-size=\"14.00\" fill=\"#000000\">samples = 7.2%</text>\n<text text-anchor=\"start\" x=\"1052\" y=\"-22.8\" font-family=\"Helvetica,sans-Serif\" font-size=\"14.00\" fill=\"#000000\">value = [0.441, 0.559]</text>\n<text text-anchor=\"start\" x=\"1093\" y=\"-7.8\" font-family=\"Helvetica,sans-Serif\" font-size=\"14.00\" fill=\"#000000\">class = 1</text>\n</g>\n<!-- 12&#45;&gt;13 -->\n<g id=\"edge13\" class=\"edge\">\n<title>12&#45;&gt;13</title>\n<path fill=\"none\" stroke=\"#000000\" d=\"M1122,-103.9815C1122,-95.618 1122,-86.7965 1122,-78.3409\"/>\n<polygon fill=\"#000000\" stroke=\"#000000\" points=\"1125.5001,-78.2636 1122,-68.2637 1118.5001,-78.2637 1125.5001,-78.2636\"/>\n</g>\n<!-- 14 -->\n<g id=\"node15\" class=\"node\">\n<title>14</title>\n<path fill=\"#eeab7b\" stroke=\"#000000\" d=\"M1362,-68C1362,-68 1230,-68 1230,-68 1224,-68 1218,-62 1218,-56 1218,-56 1218,-12 1218,-12 1218,-6 1224,0 1230,0 1230,0 1362,0 1362,0 1368,0 1374,-6 1374,-12 1374,-12 1374,-56 1374,-56 1374,-62 1368,-68 1362,-68\"/>\n<text text-anchor=\"start\" x=\"1258\" y=\"-52.8\" font-family=\"Helvetica,sans-Serif\" font-size=\"14.00\" fill=\"#000000\">gini = 0.376</text>\n<text text-anchor=\"start\" x=\"1244\" y=\"-37.8\" font-family=\"Helvetica,sans-Serif\" font-size=\"14.00\" fill=\"#000000\">samples = 8.3%</text>\n<text text-anchor=\"start\" x=\"1226\" y=\"-22.8\" font-family=\"Helvetica,sans-Serif\" font-size=\"14.00\" fill=\"#000000\">value = [0.749, 0.251]</text>\n<text text-anchor=\"start\" x=\"1267\" y=\"-7.8\" font-family=\"Helvetica,sans-Serif\" font-size=\"14.00\" fill=\"#000000\">class = 0</text>\n</g>\n<!-- 12&#45;&gt;14 -->\n<g id=\"edge14\" class=\"edge\">\n<title>12&#45;&gt;14</title>\n<path fill=\"none\" stroke=\"#000000\" d=\"M1186.7912,-103.9815C1202.3625,-94.0034 1218.951,-83.3733 1234.3737,-73.4904\"/>\n<polygon fill=\"#000000\" stroke=\"#000000\" points=\"1236.2768,-76.4279 1242.8081,-68.0856 1232.5,-70.5341 1236.2768,-76.4279\"/>\n</g>\n</g>\n</svg>\n"
          },
          "metadata": {
            "tags": []
          },
          "execution_count": 22
        }
      ]
    },
    {
      "cell_type": "markdown",
      "metadata": {
        "id": "2U1rYAUAk30S",
        "colab_type": "text"
      },
      "source": [
        "** FOXP3/CD8 for FOXP3/CD8-central_intraepithelial, Fibrosis for Fibrosis_central\n",
        "\n",
        "1. Pred 0\n",
        "- **FOXP3/CD8 <= 0.098, Fibrosis <= 202.5**\n",
        "- 0.496 < FOXP3/CD8 <= 1.909, Fibrosis<= 47.5\n",
        "- 0.496 < FOXP3/CD8, Fibrosis > 47.5\n",
        "\n",
        "2. Pred 1\n",
        "- FOXP3/CD8 <= 0.098, Fibrosis > 202.5\n",
        "- **0.098 < FOXP3/CD8 <= 0.496**\n",
        "- 1.909 < FOXP3/CD8, Fibrosis <= 47.5\n",
        "\n"
      ]
    },
    {
      "cell_type": "code",
      "metadata": {
        "id": "H6cpgtaNiwSa",
        "colab_type": "code",
        "outputId": "ab6818c1-45b7-4b50-a2c0-f5de65695aa9",
        "colab": {
          "base_uri": "https://localhost:8080/",
          "height": 677
        }
      },
      "source": [
        "tree2 = make_works(['FOXP3-periphery_intraepithelial', 'Fibrosis_periphery_percentage'])"
      ],
      "execution_count": 0,
      "outputs": [
        {
          "output_type": "stream",
          "text": [
            "{'AUC': 0.6875393081761006, 'accuracy': 0.6301969365426696, 'precision': 0.7637362637362637, 'recall': 0.5245283018867924, 'f1': 0.6219239373601789, 'mcc': 0.3030519593925592}\n",
            "<lifelines.StatisticalResult>\n",
            "               t_0 = -1\n",
            " null_distribution = chi squared\n",
            "degrees_of_freedom = 1\n",
            "\n",
            "---\n",
            " test_statistic      p  -log2(p)\n",
            "          38.10 <0.005     30.47\n",
            "<lifelines.StatisticalResult: (0, 1)>\n",
            "               t_0 = -1\n",
            " null_distribution = chi squared\n",
            "degrees_of_freedom = 1\n",
            "\n",
            "---\n",
            "     test_statistic      p  -log2(p)\n",
            "0 1           38.10 <0.005     30.47\n"
          ],
          "name": "stdout"
        },
        {
          "output_type": "display_data",
          "data": {
            "image/png": "[encoded data removed]",
            "text/plain": [
              "<Figure size 432x288 with 1 Axes>"
            ]
          },
          "metadata": {
            "tags": []
          }
        }
      ]
    },
    {
      "cell_type": "code",
      "metadata": {
        "id": "hYDnW0Q9tfw4",
        "colab_type": "code",
        "outputId": "e8c35ede-d932-4121-f430-107270edd598",
        "colab": {
          "base_uri": "https://localhost:8080/",
          "height": 1000
        }
      },
      "source": [
        "tree2['tree graph']"
      ],
      "execution_count": 0,
      "outputs": [
        {
          "output_type": "execute_result",
          "data": {
            "text/plain": [
              "<graphviz.files.Source at 0x7f054818ce10>"
            ],
            "image/svg+xml": "<?xml version=\"1.0\" encoding=\"UTF-8\" standalone=\"no\"?>\n<!DOCTYPE svg PUBLIC \"-//W3C//DTD SVG 1.1//EN\"\n \"http://www.w3.org/Graphics/SVG/1.1/DTD/svg11.dtd\">\n<!-- Generated by graphviz version 2.40.1 (20161225.0304)\n -->\n<!-- Title: Tree Pages: 1 -->\n<svg width=\"2250pt\" height=\"552pt\"\n viewBox=\"0.00 0.00 2249.50 552.00\" xmlns=\"http://www.w3.org/2000/svg\" xmlns:xlink=\"http://www.w3.org/1999/xlink\">\n<g id=\"graph0\" class=\"graph\" transform=\"scale(1 1) rotate(0) translate(4 548)\">\n<title>Tree</title>\n<polygon fill=\"#ffffff\" stroke=\"transparent\" points=\"-4,4 -4,-548 2245.5,-548 2245.5,4 -4,4\"/>\n<!-- 0 -->\n<g id=\"node1\" class=\"node\">\n<title>0</title>\n<path fill=\"#ffffff\" stroke=\"#000000\" d=\"M1247.5,-544C1247.5,-544 1013.5,-544 1013.5,-544 1007.5,-544 1001.5,-538 1001.5,-532 1001.5,-532 1001.5,-473 1001.5,-473 1001.5,-467 1007.5,-461 1013.5,-461 1013.5,-461 1247.5,-461 1247.5,-461 1253.5,-461 1259.5,-467 1259.5,-473 1259.5,-473 1259.5,-532 1259.5,-532 1259.5,-538 1253.5,-544 1247.5,-544\"/>\n<text text-anchor=\"start\" x=\"1009.5\" y=\"-528.8\" font-family=\"Helvetica,sans-Serif\" font-size=\"14.00\" fill=\"#000000\">FOXP3&#45;periphery_intraepithelial ≤ 2.5</text>\n<text text-anchor=\"start\" x=\"1101\" y=\"-513.8\" font-family=\"Helvetica,sans-Serif\" font-size=\"14.00\" fill=\"#000000\">gini = 0.5</text>\n<text text-anchor=\"start\" x=\"1082.5\" y=\"-498.8\" font-family=\"Helvetica,sans-Serif\" font-size=\"14.00\" fill=\"#000000\">samples = 457</text>\n<text text-anchor=\"start\" x=\"1060.5\" y=\"-483.8\" font-family=\"Helvetica,sans-Serif\" font-size=\"14.00\" fill=\"#000000\">value = [228.5, 228.5]</text>\n<text text-anchor=\"start\" x=\"1101.5\" y=\"-468.8\" font-family=\"Helvetica,sans-Serif\" font-size=\"14.00\" fill=\"#000000\">class = 1</text>\n</g>\n<!-- 1 -->\n<g id=\"node2\" class=\"node\">\n<title>1</title>\n<path fill=\"#f8dcc7\" stroke=\"#000000\" d=\"M962.5,-425C962.5,-425 724.5,-425 724.5,-425 718.5,-425 712.5,-419 712.5,-413 712.5,-413 712.5,-354 712.5,-354 712.5,-348 718.5,-342 724.5,-342 724.5,-342 962.5,-342 962.5,-342 968.5,-342 974.5,-348 974.5,-354 974.5,-354 974.5,-413 974.5,-413 974.5,-419 968.5,-425 962.5,-425\"/>\n<text text-anchor=\"start\" x=\"720.5\" y=\"-409.8\" font-family=\"Helvetica,sans-Serif\" font-size=\"14.00\" fill=\"#000000\">Fibrosis_periphery_percentage ≤ 12.5</text>\n<text text-anchor=\"start\" x=\"805.5\" y=\"-394.8\" font-family=\"Helvetica,sans-Serif\" font-size=\"14.00\" fill=\"#000000\">gini = 0.487</text>\n<text text-anchor=\"start\" x=\"795.5\" y=\"-379.8\" font-family=\"Helvetica,sans-Serif\" font-size=\"14.00\" fill=\"#000000\">samples = 291</text>\n<text text-anchor=\"start\" x=\"757\" y=\"-364.8\" font-family=\"Helvetica,sans-Serif\" font-size=\"14.00\" fill=\"#000000\">value = [173.755, 125.028]</text>\n<text text-anchor=\"start\" x=\"814.5\" y=\"-349.8\" font-family=\"Helvetica,sans-Serif\" font-size=\"14.00\" fill=\"#000000\">class = 0</text>\n</g>\n<!-- 0&#45;&gt;1 -->\n<g id=\"edge1\" class=\"edge\">\n<title>0&#45;&gt;1</title>\n<path fill=\"none\" stroke=\"#000000\" d=\"M1030.1213,-460.8796C1005.2153,-450.5527 978.3987,-439.4336 953.0771,-428.9344\"/>\n<polygon fill=\"#000000\" stroke=\"#000000\" points=\"954.4,-425.694 943.822,-425.0969 951.7188,-432.1602 954.4,-425.694\"/>\n<text text-anchor=\"middle\" x=\"953.3808\" y=\"-444.4973\" font-family=\"Helvetica,sans-Serif\" font-size=\"14.00\" fill=\"#000000\">True</text>\n</g>\n<!-- 14 -->\n<g id=\"node15\" class=\"node\">\n<title>14</title>\n<path fill=\"#a2d1f3\" stroke=\"#000000\" d=\"M1608.5,-425C1608.5,-425 1366.5,-425 1366.5,-425 1360.5,-425 1354.5,-419 1354.5,-413 1354.5,-413 1354.5,-354 1354.5,-354 1354.5,-348 1360.5,-342 1366.5,-342 1366.5,-342 1608.5,-342 1608.5,-342 1614.5,-342 1620.5,-348 1620.5,-354 1620.5,-354 1620.5,-413 1620.5,-413 1620.5,-419 1614.5,-425 1608.5,-425\"/>\n<text text-anchor=\"start\" x=\"1362.5\" y=\"-409.8\" font-family=\"Helvetica,sans-Serif\" font-size=\"14.00\" fill=\"#000000\">FOXP3&#45;periphery_intraepithelial ≤ 14.0</text>\n<text text-anchor=\"start\" x=\"1449.5\" y=\"-394.8\" font-family=\"Helvetica,sans-Serif\" font-size=\"14.00\" fill=\"#000000\">gini = 0.453</text>\n<text text-anchor=\"start\" x=\"1439.5\" y=\"-379.8\" font-family=\"Helvetica,sans-Serif\" font-size=\"14.00\" fill=\"#000000\">samples = 166</text>\n<text text-anchor=\"start\" x=\"1405\" y=\"-364.8\" font-family=\"Helvetica,sans-Serif\" font-size=\"14.00\" fill=\"#000000\">value = [54.745, 103.472]</text>\n<text text-anchor=\"start\" x=\"1458.5\" y=\"-349.8\" font-family=\"Helvetica,sans-Serif\" font-size=\"14.00\" fill=\"#000000\">class = 1</text>\n</g>\n<!-- 0&#45;&gt;14 -->\n<g id=\"edge14\" class=\"edge\">\n<title>0&#45;&gt;14</title>\n<path fill=\"none\" stroke=\"#000000\" d=\"M1255.1106,-460.9631C1286.7385,-450.4205 1320.8571,-439.0476 1352.9539,-428.3487\"/>\n<polygon fill=\"#000000\" stroke=\"#000000\" points=\"1354.465,-431.5344 1362.8451,-425.0516 1352.2514,-424.8936 1354.465,-431.5344\"/>\n<text text-anchor=\"middle\" x=\"1351.6647\" y=\"-443.7123\" font-family=\"Helvetica,sans-Serif\" font-size=\"14.00\" fill=\"#000000\">False</text>\n</g>\n<!-- 2 -->\n<g id=\"node3\" class=\"node\">\n<title>2</title>\n<path fill=\"#fdfeff\" stroke=\"#000000\" d=\"M574.5,-306C574.5,-306 340.5,-306 340.5,-306 334.5,-306 328.5,-300 328.5,-294 328.5,-294 328.5,-235 328.5,-235 328.5,-229 334.5,-223 340.5,-223 340.5,-223 574.5,-223 574.5,-223 580.5,-223 586.5,-229 586.5,-235 586.5,-235 586.5,-294 586.5,-294 586.5,-300 580.5,-306 574.5,-306\"/>\n<text text-anchor=\"start\" x=\"336.5\" y=\"-290.8\" font-family=\"Helvetica,sans-Serif\" font-size=\"14.00\" fill=\"#000000\">FOXP3&#45;periphery_intraepithelial ≤ 0.5</text>\n<text text-anchor=\"start\" x=\"428\" y=\"-275.8\" font-family=\"Helvetica,sans-Serif\" font-size=\"14.00\" fill=\"#000000\">gini = 0.5</text>\n<text text-anchor=\"start\" x=\"413.5\" y=\"-260.8\" font-family=\"Helvetica,sans-Serif\" font-size=\"14.00\" fill=\"#000000\">samples = 55</text>\n<text text-anchor=\"start\" x=\"379\" y=\"-245.8\" font-family=\"Helvetica,sans-Serif\" font-size=\"14.00\" fill=\"#000000\">value = [27.372, 27.592]</text>\n<text text-anchor=\"start\" x=\"428.5\" y=\"-230.8\" font-family=\"Helvetica,sans-Serif\" font-size=\"14.00\" fill=\"#000000\">class = 1</text>\n</g>\n<!-- 1&#45;&gt;2 -->\n<g id=\"edge2\" class=\"edge\">\n<title>1&#45;&gt;2</title>\n<path fill=\"none\" stroke=\"#000000\" d=\"M712.2794,-343.046C675.0625,-331.5724 634.4194,-319.0425 596.7457,-307.4281\"/>\n<polygon fill=\"#000000\" stroke=\"#000000\" points=\"597.309,-303.9392 586.7217,-304.3378 595.2467,-310.6286 597.309,-303.9392\"/>\n</g>\n<!-- 7 -->\n<g id=\"node8\" class=\"node\">\n<title>7</title>\n<path fill=\"#f6d5bd\" stroke=\"#000000\" d=\"M962.5,-306C962.5,-306 724.5,-306 724.5,-306 718.5,-306 712.5,-300 712.5,-294 712.5,-294 712.5,-235 712.5,-235 712.5,-229 718.5,-223 724.5,-223 724.5,-223 962.5,-223 962.5,-223 968.5,-223 974.5,-229 974.5,-235 974.5,-235 974.5,-294 974.5,-294 974.5,-300 968.5,-306 962.5,-306\"/>\n<text text-anchor=\"start\" x=\"720.5\" y=\"-290.8\" font-family=\"Helvetica,sans-Serif\" font-size=\"14.00\" fill=\"#000000\">Fibrosis_periphery_percentage ≤ 77.5</text>\n<text text-anchor=\"start\" x=\"810\" y=\"-275.8\" font-family=\"Helvetica,sans-Serif\" font-size=\"14.00\" fill=\"#000000\">gini = 0.48</text>\n<text text-anchor=\"start\" x=\"795.5\" y=\"-260.8\" font-family=\"Helvetica,sans-Serif\" font-size=\"14.00\" fill=\"#000000\">samples = 236</text>\n<text text-anchor=\"start\" x=\"761\" y=\"-245.8\" font-family=\"Helvetica,sans-Serif\" font-size=\"14.00\" fill=\"#000000\">value = [146.383, 97.436]</text>\n<text text-anchor=\"start\" x=\"814.5\" y=\"-230.8\" font-family=\"Helvetica,sans-Serif\" font-size=\"14.00\" fill=\"#000000\">class = 0</text>\n</g>\n<!-- 1&#45;&gt;7 -->\n<g id=\"edge7\" class=\"edge\">\n<title>1&#45;&gt;7</title>\n<path fill=\"none\" stroke=\"#000000\" d=\"M843.5,-341.8796C843.5,-333.6838 843.5,-324.9891 843.5,-316.5013\"/>\n<polygon fill=\"#000000\" stroke=\"#000000\" points=\"847.0001,-316.298 843.5,-306.2981 840.0001,-316.2981 847.0001,-316.298\"/>\n</g>\n<!-- 3 -->\n<g id=\"node4\" class=\"node\">\n<title>3</title>\n<path fill=\"#f9e0cf\" stroke=\"#000000\" d=\"M357.5,-187C357.5,-187 127.5,-187 127.5,-187 121.5,-187 115.5,-181 115.5,-175 115.5,-175 115.5,-116 115.5,-116 115.5,-110 121.5,-104 127.5,-104 127.5,-104 357.5,-104 357.5,-104 363.5,-104 369.5,-110 369.5,-116 369.5,-116 369.5,-175 369.5,-175 369.5,-181 363.5,-187 357.5,-187\"/>\n<text text-anchor=\"start\" x=\"123.5\" y=\"-171.8\" font-family=\"Helvetica,sans-Serif\" font-size=\"14.00\" fill=\"#000000\">Fibrosis_periphery_percentage ≤ 7.5</text>\n<text text-anchor=\"start\" x=\"209\" y=\"-156.8\" font-family=\"Helvetica,sans-Serif\" font-size=\"14.00\" fill=\"#000000\">gini = 0.49</text>\n<text text-anchor=\"start\" x=\"198.5\" y=\"-141.8\" font-family=\"Helvetica,sans-Serif\" font-size=\"14.00\" fill=\"#000000\">samples = 45</text>\n<text text-anchor=\"start\" x=\"164\" y=\"-126.8\" font-family=\"Helvetica,sans-Serif\" font-size=\"14.00\" fill=\"#000000\">value = [26.182, 19.832]</text>\n<text text-anchor=\"start\" x=\"213.5\" y=\"-111.8\" font-family=\"Helvetica,sans-Serif\" font-size=\"14.00\" fill=\"#000000\">class = 0</text>\n</g>\n<!-- 2&#45;&gt;3 -->\n<g id=\"edge3\" class=\"edge\">\n<title>2&#45;&gt;3</title>\n<path fill=\"none\" stroke=\"#000000\" d=\"M382.3034,-222.8796C364.3003,-212.915 344.9645,-202.2129 326.5881,-192.0418\"/>\n<polygon fill=\"#000000\" stroke=\"#000000\" points=\"328.0983,-188.8773 317.6541,-187.0969 324.7084,-195.0018 328.0983,-188.8773\"/>\n</g>\n<!-- 6 -->\n<g id=\"node7\" class=\"node\">\n<title>6</title>\n<path fill=\"#57ace9\" stroke=\"#000000\" d=\"M515.5,-179.5C515.5,-179.5 399.5,-179.5 399.5,-179.5 393.5,-179.5 387.5,-173.5 387.5,-167.5 387.5,-167.5 387.5,-123.5 387.5,-123.5 387.5,-117.5 393.5,-111.5 399.5,-111.5 399.5,-111.5 515.5,-111.5 515.5,-111.5 521.5,-111.5 527.5,-117.5 527.5,-123.5 527.5,-123.5 527.5,-167.5 527.5,-167.5 527.5,-173.5 521.5,-179.5 515.5,-179.5\"/>\n<text text-anchor=\"start\" x=\"419.5\" y=\"-164.3\" font-family=\"Helvetica,sans-Serif\" font-size=\"14.00\" fill=\"#000000\">gini = 0.231</text>\n<text text-anchor=\"start\" x=\"413.5\" y=\"-149.3\" font-family=\"Helvetica,sans-Serif\" font-size=\"14.00\" fill=\"#000000\">samples = 10</text>\n<text text-anchor=\"start\" x=\"395.5\" y=\"-134.3\" font-family=\"Helvetica,sans-Serif\" font-size=\"14.00\" fill=\"#000000\">value = [1.19, 7.76]</text>\n<text text-anchor=\"start\" x=\"428.5\" y=\"-119.3\" font-family=\"Helvetica,sans-Serif\" font-size=\"14.00\" fill=\"#000000\">class = 1</text>\n</g>\n<!-- 2&#45;&gt;6 -->\n<g id=\"edge6\" class=\"edge\">\n<title>2&#45;&gt;6</title>\n<path fill=\"none\" stroke=\"#000000\" d=\"M457.5,-222.8796C457.5,-212.2134 457.5,-200.7021 457.5,-189.9015\"/>\n<polygon fill=\"#000000\" stroke=\"#000000\" points=\"461.0001,-189.8149 457.5,-179.8149 454.0001,-189.815 461.0001,-189.8149\"/>\n</g>\n<!-- 4 -->\n<g id=\"node5\" class=\"node\">\n<title>4</title>\n<path fill=\"#fae8dc\" stroke=\"#000000\" d=\"M161,-68C161,-68 12,-68 12,-68 6,-68 0,-62 0,-56 0,-56 0,-12 0,-12 0,-6 6,0 12,0 12,0 161,0 161,0 167,0 173,-6 173,-12 173,-12 173,-56 173,-56 173,-62 167,-68 161,-68\"/>\n<text text-anchor=\"start\" x=\"48.5\" y=\"-52.8\" font-family=\"Helvetica,sans-Serif\" font-size=\"14.00\" fill=\"#000000\">gini = 0.495</text>\n<text text-anchor=\"start\" x=\"42.5\" y=\"-37.8\" font-family=\"Helvetica,sans-Serif\" font-size=\"14.00\" fill=\"#000000\">samples = 32</text>\n<text text-anchor=\"start\" x=\"8\" y=\"-22.8\" font-family=\"Helvetica,sans-Serif\" font-size=\"14.00\" fill=\"#000000\">value = [17.852, 14.658]</text>\n<text text-anchor=\"start\" x=\"57.5\" y=\"-7.8\" font-family=\"Helvetica,sans-Serif\" font-size=\"14.00\" fill=\"#000000\">class = 0</text>\n</g>\n<!-- 3&#45;&gt;4 -->\n<g id=\"edge4\" class=\"edge\">\n<title>3&#45;&gt;4</title>\n<path fill=\"none\" stroke=\"#000000\" d=\"M184.4114,-103.9815C170.7811,-94.2394 156.2816,-83.8759 142.7342,-74.193\"/>\n<polygon fill=\"#000000\" stroke=\"#000000\" points=\"144.6092,-71.2311 134.4384,-68.2637 140.5388,-76.926 144.6092,-71.2311\"/>\n</g>\n<!-- 5 -->\n<g id=\"node6\" class=\"node\">\n<title>5</title>\n<path fill=\"#f5cfb4\" stroke=\"#000000\" d=\"M335.5,-68C335.5,-68 203.5,-68 203.5,-68 197.5,-68 191.5,-62 191.5,-56 191.5,-56 191.5,-12 191.5,-12 191.5,-6 197.5,0 203.5,0 203.5,0 335.5,0 335.5,0 341.5,0 347.5,-6 347.5,-12 347.5,-12 347.5,-56 347.5,-56 347.5,-62 341.5,-68 335.5,-68\"/>\n<text text-anchor=\"start\" x=\"231.5\" y=\"-52.8\" font-family=\"Helvetica,sans-Serif\" font-size=\"14.00\" fill=\"#000000\">gini = 0.473</text>\n<text text-anchor=\"start\" x=\"225.5\" y=\"-37.8\" font-family=\"Helvetica,sans-Serif\" font-size=\"14.00\" fill=\"#000000\">samples = 13</text>\n<text text-anchor=\"start\" x=\"199.5\" y=\"-22.8\" font-family=\"Helvetica,sans-Serif\" font-size=\"14.00\" fill=\"#000000\">value = [8.331, 5.174]</text>\n<text text-anchor=\"start\" x=\"240.5\" y=\"-7.8\" font-family=\"Helvetica,sans-Serif\" font-size=\"14.00\" fill=\"#000000\">class = 0</text>\n</g>\n<!-- 3&#45;&gt;5 -->\n<g id=\"edge5\" class=\"edge\">\n<title>3&#45;&gt;5</title>\n<path fill=\"none\" stroke=\"#000000\" d=\"M252.5538,-103.9815C254.6013,-95.5261 256.7621,-86.6026 258.8302,-78.0623\"/>\n<polygon fill=\"#000000\" stroke=\"#000000\" points=\"262.2511,-78.8065 261.203,-68.2637 255.4477,-77.159 262.2511,-78.8065\"/>\n</g>\n<!-- 8 -->\n<g id=\"node9\" class=\"node\">\n<title>8</title>\n<path fill=\"#f4cbae\" stroke=\"#000000\" d=\"M791.5,-187C791.5,-187 557.5,-187 557.5,-187 551.5,-187 545.5,-181 545.5,-175 545.5,-175 545.5,-116 545.5,-116 545.5,-110 551.5,-104 557.5,-104 557.5,-104 791.5,-104 791.5,-104 797.5,-104 803.5,-110 803.5,-116 803.5,-116 803.5,-175 803.5,-175 803.5,-181 797.5,-187 791.5,-187\"/>\n<text text-anchor=\"start\" x=\"553.5\" y=\"-171.8\" font-family=\"Helvetica,sans-Serif\" font-size=\"14.00\" fill=\"#000000\">FOXP3&#45;periphery_intraepithelial ≤ 1.5</text>\n<text text-anchor=\"start\" x=\"636.5\" y=\"-156.8\" font-family=\"Helvetica,sans-Serif\" font-size=\"14.00\" fill=\"#000000\">gini = 0.467</text>\n<text text-anchor=\"start\" x=\"626.5\" y=\"-141.8\" font-family=\"Helvetica,sans-Serif\" font-size=\"14.00\" fill=\"#000000\">samples = 176</text>\n<text text-anchor=\"start\" x=\"596\" y=\"-126.8\" font-family=\"Helvetica,sans-Serif\" font-size=\"14.00\" fill=\"#000000\">value = [115.44, 68.119]</text>\n<text text-anchor=\"start\" x=\"645.5\" y=\"-111.8\" font-family=\"Helvetica,sans-Serif\" font-size=\"14.00\" fill=\"#000000\">class = 0</text>\n</g>\n<!-- 7&#45;&gt;8 -->\n<g id=\"edge8\" class=\"edge\">\n<title>7&#45;&gt;8</title>\n<path fill=\"none\" stroke=\"#000000\" d=\"M784.392,-222.8796C770.6266,-213.1868 755.8701,-202.7961 741.7807,-192.8752\"/>\n<polygon fill=\"#000000\" stroke=\"#000000\" points=\"743.7661,-189.9926 733.5746,-187.0969 739.7359,-195.716 743.7661,-189.9926\"/>\n</g>\n<!-- 11 -->\n<g id=\"node12\" class=\"node\">\n<title>11</title>\n<path fill=\"#fef8f5\" stroke=\"#000000\" d=\"M1071.5,-187C1071.5,-187 833.5,-187 833.5,-187 827.5,-187 821.5,-181 821.5,-175 821.5,-175 821.5,-116 821.5,-116 821.5,-110 827.5,-104 833.5,-104 833.5,-104 1071.5,-104 1071.5,-104 1077.5,-104 1083.5,-110 1083.5,-116 1083.5,-116 1083.5,-175 1083.5,-175 1083.5,-181 1077.5,-187 1071.5,-187\"/>\n<text text-anchor=\"start\" x=\"829.5\" y=\"-171.8\" font-family=\"Helvetica,sans-Serif\" font-size=\"14.00\" fill=\"#000000\">Fibrosis_periphery_percentage ≤ 87.5</text>\n<text text-anchor=\"start\" x=\"923\" y=\"-156.8\" font-family=\"Helvetica,sans-Serif\" font-size=\"14.00\" fill=\"#000000\">gini = 0.5</text>\n<text text-anchor=\"start\" x=\"908.5\" y=\"-141.8\" font-family=\"Helvetica,sans-Serif\" font-size=\"14.00\" fill=\"#000000\">samples = 60</text>\n<text text-anchor=\"start\" x=\"874\" y=\"-126.8\" font-family=\"Helvetica,sans-Serif\" font-size=\"14.00\" fill=\"#000000\">value = [30.943, 29.317]</text>\n<text text-anchor=\"start\" x=\"923.5\" y=\"-111.8\" font-family=\"Helvetica,sans-Serif\" font-size=\"14.00\" fill=\"#000000\">class = 0</text>\n</g>\n<!-- 7&#45;&gt;11 -->\n<g id=\"edge11\" class=\"edge\">\n<title>7&#45;&gt;11</title>\n<path fill=\"none\" stroke=\"#000000\" d=\"M881.6229,-222.8796C889.9549,-213.7832 898.8498,-204.0722 907.4239,-194.7116\"/>\n<polygon fill=\"#000000\" stroke=\"#000000\" points=\"910.0408,-197.0363 914.2144,-187.2981 904.8789,-192.3081 910.0408,-197.0363\"/>\n</g>\n<!-- 9 -->\n<g id=\"node10\" class=\"node\">\n<title>9</title>\n<path fill=\"#f5cfb4\" stroke=\"#000000\" d=\"M562,-68C562,-68 405,-68 405,-68 399,-68 393,-62 393,-56 393,-56 393,-12 393,-12 393,-6 399,0 405,0 405,0 562,0 562,0 568,0 574,-6 574,-12 574,-12 574,-56 574,-56 574,-62 568,-68 562,-68\"/>\n<text text-anchor=\"start\" x=\"445.5\" y=\"-52.8\" font-family=\"Helvetica,sans-Serif\" font-size=\"14.00\" fill=\"#000000\">gini = 0.473</text>\n<text text-anchor=\"start\" x=\"435.5\" y=\"-37.8\" font-family=\"Helvetica,sans-Serif\" font-size=\"14.00\" fill=\"#000000\">samples = 158</text>\n<text text-anchor=\"start\" x=\"401\" y=\"-22.8\" font-family=\"Helvetica,sans-Serif\" font-size=\"14.00\" fill=\"#000000\">value = [101.159, 62.945]</text>\n<text text-anchor=\"start\" x=\"454.5\" y=\"-7.8\" font-family=\"Helvetica,sans-Serif\" font-size=\"14.00\" fill=\"#000000\">class = 0</text>\n</g>\n<!-- 8&#45;&gt;9 -->\n<g id=\"edge9\" class=\"edge\">\n<title>8&#45;&gt;9</title>\n<path fill=\"none\" stroke=\"#000000\" d=\"M603.3786,-103.9815C586.1277,-93.911 567.7395,-83.1764 550.6773,-73.2161\"/>\n<polygon fill=\"#000000\" stroke=\"#000000\" points=\"552.2895,-70.1045 541.8888,-68.0856 548.7604,-76.1499 552.2895,-70.1045\"/>\n</g>\n<!-- 10 -->\n<g id=\"node11\" class=\"node\">\n<title>10</title>\n<path fill=\"#eeaf81\" stroke=\"#000000\" d=\"M744.5,-68C744.5,-68 604.5,-68 604.5,-68 598.5,-68 592.5,-62 592.5,-56 592.5,-56 592.5,-12 592.5,-12 592.5,-6 598.5,0 604.5,0 604.5,0 744.5,0 744.5,0 750.5,0 756.5,-6 756.5,-12 756.5,-12 756.5,-56 756.5,-56 756.5,-62 750.5,-68 744.5,-68\"/>\n<text text-anchor=\"start\" x=\"641\" y=\"-52.8\" font-family=\"Helvetica,sans-Serif\" font-size=\"14.00\" fill=\"#000000\">gini = 0.39</text>\n<text text-anchor=\"start\" x=\"630.5\" y=\"-37.8\" font-family=\"Helvetica,sans-Serif\" font-size=\"14.00\" fill=\"#000000\">samples = 18</text>\n<text text-anchor=\"start\" x=\"600.5\" y=\"-22.8\" font-family=\"Helvetica,sans-Serif\" font-size=\"14.00\" fill=\"#000000\">value = [14.281, 5.174]</text>\n<text text-anchor=\"start\" x=\"645.5\" y=\"-7.8\" font-family=\"Helvetica,sans-Serif\" font-size=\"14.00\" fill=\"#000000\">class = 0</text>\n</g>\n<!-- 8&#45;&gt;10 -->\n<g id=\"edge10\" class=\"edge\">\n<title>8&#45;&gt;10</title>\n<path fill=\"none\" stroke=\"#000000\" d=\"M674.5,-103.9815C674.5,-95.618 674.5,-86.7965 674.5,-78.3409\"/>\n<polygon fill=\"#000000\" stroke=\"#000000\" points=\"678.0001,-78.2636 674.5,-68.2637 671.0001,-78.2637 678.0001,-78.2636\"/>\n</g>\n<!-- 12 -->\n<g id=\"node13\" class=\"node\">\n<title>12</title>\n<path fill=\"#c7e3f8\" stroke=\"#000000\" d=\"M936,-68C936,-68 787,-68 787,-68 781,-68 775,-62 775,-56 775,-56 775,-12 775,-12 775,-6 781,0 787,0 787,0 936,0 936,0 942,0 948,-6 948,-12 948,-12 948,-56 948,-56 948,-62 942,-68 936,-68\"/>\n<text text-anchor=\"start\" x=\"823.5\" y=\"-52.8\" font-family=\"Helvetica,sans-Serif\" font-size=\"14.00\" fill=\"#000000\">gini = 0.486</text>\n<text text-anchor=\"start\" x=\"817.5\" y=\"-37.8\" font-family=\"Helvetica,sans-Serif\" font-size=\"14.00\" fill=\"#000000\">samples = 41</text>\n<text text-anchor=\"start\" x=\"783\" y=\"-22.8\" font-family=\"Helvetica,sans-Serif\" font-size=\"14.00\" fill=\"#000000\">value = [16.661, 23.281]</text>\n<text text-anchor=\"start\" x=\"832.5\" y=\"-7.8\" font-family=\"Helvetica,sans-Serif\" font-size=\"14.00\" fill=\"#000000\">class = 1</text>\n</g>\n<!-- 11&#45;&gt;12 -->\n<g id=\"edge12\" class=\"edge\">\n<title>11&#45;&gt;12</title>\n<path fill=\"none\" stroke=\"#000000\" d=\"M918.615,-103.9815C911.1891,-94.8828 903.3208,-85.242 895.8759,-76.1199\"/>\n<polygon fill=\"#000000\" stroke=\"#000000\" points=\"898.4986,-73.798 889.4641,-68.2637 893.0755,-78.224 898.4986,-73.798\"/>\n</g>\n<!-- 13 -->\n<g id=\"node14\" class=\"node\">\n<title>13</title>\n<path fill=\"#f0b68d\" stroke=\"#000000\" d=\"M1118.5,-68C1118.5,-68 978.5,-68 978.5,-68 972.5,-68 966.5,-62 966.5,-56 966.5,-56 966.5,-12 966.5,-12 966.5,-6 972.5,0 978.5,0 978.5,0 1118.5,0 1118.5,0 1124.5,0 1130.5,-6 1130.5,-12 1130.5,-12 1130.5,-56 1130.5,-56 1130.5,-62 1124.5,-68 1118.5,-68\"/>\n<text text-anchor=\"start\" x=\"1010.5\" y=\"-52.8\" font-family=\"Helvetica,sans-Serif\" font-size=\"14.00\" fill=\"#000000\">gini = 0.418</text>\n<text text-anchor=\"start\" x=\"1004.5\" y=\"-37.8\" font-family=\"Helvetica,sans-Serif\" font-size=\"14.00\" fill=\"#000000\">samples = 19</text>\n<text text-anchor=\"start\" x=\"974.5\" y=\"-22.8\" font-family=\"Helvetica,sans-Serif\" font-size=\"14.00\" fill=\"#000000\">value = [14.281, 6.036]</text>\n<text text-anchor=\"start\" x=\"1019.5\" y=\"-7.8\" font-family=\"Helvetica,sans-Serif\" font-size=\"14.00\" fill=\"#000000\">class = 0</text>\n</g>\n<!-- 11&#45;&gt;13 -->\n<g id=\"edge13\" class=\"edge\">\n<title>11&#45;&gt;13</title>\n<path fill=\"none\" stroke=\"#000000\" d=\"M988.2469,-103.9815C996.1599,-94.7908 1004.5491,-85.0472 1012.4732,-75.8436\"/>\n<polygon fill=\"#000000\" stroke=\"#000000\" points=\"1015.1271,-78.1255 1018.9994,-68.2637 1009.8224,-73.5582 1015.1271,-78.1255\"/>\n</g>\n<!-- 15 -->\n<g id=\"node16\" class=\"node\">\n<title>15</title>\n<path fill=\"#88c4ef\" stroke=\"#000000\" d=\"M1604.5,-306C1604.5,-306 1370.5,-306 1370.5,-306 1364.5,-306 1358.5,-300 1358.5,-294 1358.5,-294 1358.5,-235 1358.5,-235 1358.5,-229 1364.5,-223 1370.5,-223 1370.5,-223 1604.5,-223 1604.5,-223 1610.5,-223 1616.5,-229 1616.5,-235 1616.5,-235 1616.5,-294 1616.5,-294 1616.5,-300 1610.5,-306 1604.5,-306\"/>\n<text text-anchor=\"start\" x=\"1366.5\" y=\"-290.8\" font-family=\"Helvetica,sans-Serif\" font-size=\"14.00\" fill=\"#000000\">FOXP3&#45;periphery_intraepithelial ≤ 5.5</text>\n<text text-anchor=\"start\" x=\"1449.5\" y=\"-275.8\" font-family=\"Helvetica,sans-Serif\" font-size=\"14.00\" fill=\"#000000\">gini = 0.408</text>\n<text text-anchor=\"start\" x=\"1439.5\" y=\"-260.8\" font-family=\"Helvetica,sans-Serif\" font-size=\"14.00\" fill=\"#000000\">samples = 120</text>\n<text text-anchor=\"start\" x=\"1409\" y=\"-245.8\" font-family=\"Helvetica,sans-Serif\" font-size=\"14.00\" fill=\"#000000\">value = [32.133, 80.191]</text>\n<text text-anchor=\"start\" x=\"1458.5\" y=\"-230.8\" font-family=\"Helvetica,sans-Serif\" font-size=\"14.00\" fill=\"#000000\">class = 1</text>\n</g>\n<!-- 14&#45;&gt;15 -->\n<g id=\"edge15\" class=\"edge\">\n<title>14&#45;&gt;15</title>\n<path fill=\"none\" stroke=\"#000000\" d=\"M1487.5,-341.8796C1487.5,-333.6838 1487.5,-324.9891 1487.5,-316.5013\"/>\n<polygon fill=\"#000000\" stroke=\"#000000\" points=\"1491.0001,-316.298 1487.5,-306.2981 1484.0001,-316.2981 1491.0001,-316.298\"/>\n</g>\n<!-- 22 -->\n<g id=\"node23\" class=\"node\">\n<title>22</title>\n<path fill=\"#f9fcfe\" stroke=\"#000000\" d=\"M2065.5,-306C2065.5,-306 1823.5,-306 1823.5,-306 1817.5,-306 1811.5,-300 1811.5,-294 1811.5,-294 1811.5,-235 1811.5,-235 1811.5,-229 1817.5,-223 1823.5,-223 1823.5,-223 2065.5,-223 2065.5,-223 2071.5,-223 2077.5,-229 2077.5,-235 2077.5,-235 2077.5,-294 2077.5,-294 2077.5,-300 2071.5,-306 2065.5,-306\"/>\n<text text-anchor=\"start\" x=\"1819.5\" y=\"-290.8\" font-family=\"Helvetica,sans-Serif\" font-size=\"14.00\" fill=\"#000000\">FOXP3&#45;periphery_intraepithelial ≤ 28.5</text>\n<text text-anchor=\"start\" x=\"1915\" y=\"-275.8\" font-family=\"Helvetica,sans-Serif\" font-size=\"14.00\" fill=\"#000000\">gini = 0.5</text>\n<text text-anchor=\"start\" x=\"1900.5\" y=\"-260.8\" font-family=\"Helvetica,sans-Serif\" font-size=\"14.00\" fill=\"#000000\">samples = 46</text>\n<text text-anchor=\"start\" x=\"1866\" y=\"-245.8\" font-family=\"Helvetica,sans-Serif\" font-size=\"14.00\" fill=\"#000000\">value = [22.612, 23.281]</text>\n<text text-anchor=\"start\" x=\"1915.5\" y=\"-230.8\" font-family=\"Helvetica,sans-Serif\" font-size=\"14.00\" fill=\"#000000\">class = 1</text>\n</g>\n<!-- 14&#45;&gt;22 -->\n<g id=\"edge22\" class=\"edge\">\n<title>14&#45;&gt;22</title>\n<path fill=\"none\" stroke=\"#000000\" d=\"M1620.6044,-348.8404C1677.2717,-334.0846 1743.4794,-316.8445 1801.215,-301.8105\"/>\n<polygon fill=\"#000000\" stroke=\"#000000\" points=\"1802.3514,-305.1314 1811.1467,-299.2244 1800.5874,-298.3573 1802.3514,-305.1314\"/>\n</g>\n<!-- 16 -->\n<g id=\"node17\" class=\"node\">\n<title>16</title>\n<path fill=\"#9dcef2\" stroke=\"#000000\" d=\"M1465.5,-187C1465.5,-187 1231.5,-187 1231.5,-187 1225.5,-187 1219.5,-181 1219.5,-175 1219.5,-175 1219.5,-116 1219.5,-116 1219.5,-110 1225.5,-104 1231.5,-104 1231.5,-104 1465.5,-104 1465.5,-104 1471.5,-104 1477.5,-110 1477.5,-116 1477.5,-116 1477.5,-175 1477.5,-175 1477.5,-181 1471.5,-187 1465.5,-187\"/>\n<text text-anchor=\"start\" x=\"1227.5\" y=\"-171.8\" font-family=\"Helvetica,sans-Serif\" font-size=\"14.00\" fill=\"#000000\">FOXP3&#45;periphery_intraepithelial ≤ 4.5</text>\n<text text-anchor=\"start\" x=\"1310.5\" y=\"-156.8\" font-family=\"Helvetica,sans-Serif\" font-size=\"14.00\" fill=\"#000000\">gini = 0.446</text>\n<text text-anchor=\"start\" x=\"1304.5\" y=\"-141.8\" font-family=\"Helvetica,sans-Serif\" font-size=\"14.00\" fill=\"#000000\">samples = 56</text>\n<text text-anchor=\"start\" x=\"1270\" y=\"-126.8\" font-family=\"Helvetica,sans-Serif\" font-size=\"14.00\" fill=\"#000000\">value = [17.852, 35.353]</text>\n<text text-anchor=\"start\" x=\"1319.5\" y=\"-111.8\" font-family=\"Helvetica,sans-Serif\" font-size=\"14.00\" fill=\"#000000\">class = 1</text>\n</g>\n<!-- 15&#45;&gt;16 -->\n<g id=\"edge16\" class=\"edge\">\n<title>15&#45;&gt;16</title>\n<path fill=\"none\" stroke=\"#000000\" d=\"M1438.8845,-222.8796C1427.9438,-213.513 1416.2418,-203.4948 1405.0092,-193.8784\"/>\n<polygon fill=\"#000000\" stroke=\"#000000\" points=\"1407.1956,-191.1428 1397.323,-187.2981 1402.6432,-196.4603 1407.1956,-191.1428\"/>\n</g>\n<!-- 19 -->\n<g id=\"node20\" class=\"node\">\n<title>19</title>\n<path fill=\"#78bced\" stroke=\"#000000\" d=\"M1745.5,-187C1745.5,-187 1507.5,-187 1507.5,-187 1501.5,-187 1495.5,-181 1495.5,-175 1495.5,-175 1495.5,-116 1495.5,-116 1495.5,-110 1501.5,-104 1507.5,-104 1507.5,-104 1745.5,-104 1745.5,-104 1751.5,-104 1757.5,-110 1757.5,-116 1757.5,-116 1757.5,-175 1757.5,-175 1757.5,-181 1751.5,-187 1745.5,-187\"/>\n<text text-anchor=\"start\" x=\"1503.5\" y=\"-171.8\" font-family=\"Helvetica,sans-Serif\" font-size=\"14.00\" fill=\"#000000\">Fibrosis_periphery_percentage ≤ 35.0</text>\n<text text-anchor=\"start\" x=\"1588.5\" y=\"-156.8\" font-family=\"Helvetica,sans-Serif\" font-size=\"14.00\" fill=\"#000000\">gini = 0.366</text>\n<text text-anchor=\"start\" x=\"1582.5\" y=\"-141.8\" font-family=\"Helvetica,sans-Serif\" font-size=\"14.00\" fill=\"#000000\">samples = 64</text>\n<text text-anchor=\"start\" x=\"1548\" y=\"-126.8\" font-family=\"Helvetica,sans-Serif\" font-size=\"14.00\" fill=\"#000000\">value = [14.281, 44.838]</text>\n<text text-anchor=\"start\" x=\"1597.5\" y=\"-111.8\" font-family=\"Helvetica,sans-Serif\" font-size=\"14.00\" fill=\"#000000\">class = 1</text>\n</g>\n<!-- 15&#45;&gt;19 -->\n<g id=\"edge19\" class=\"edge\">\n<title>15&#45;&gt;19</title>\n<path fill=\"none\" stroke=\"#000000\" d=\"M1536.1155,-222.8796C1547.0562,-213.513 1558.7582,-203.4948 1569.9908,-193.8784\"/>\n<polygon fill=\"#000000\" stroke=\"#000000\" points=\"1572.3568,-196.4603 1577.677,-187.2981 1567.8044,-191.1428 1572.3568,-196.4603\"/>\n</g>\n<!-- 17 -->\n<g id=\"node18\" class=\"node\">\n<title>17</title>\n<path fill=\"#86c3ef\" stroke=\"#000000\" d=\"M1310,-68C1310,-68 1161,-68 1161,-68 1155,-68 1149,-62 1149,-56 1149,-56 1149,-12 1149,-12 1149,-6 1155,0 1161,0 1161,0 1310,0 1310,0 1316,0 1322,-6 1322,-12 1322,-12 1322,-56 1322,-56 1322,-62 1316,-68 1310,-68\"/>\n<text text-anchor=\"start\" x=\"1197.5\" y=\"-52.8\" font-family=\"Helvetica,sans-Serif\" font-size=\"14.00\" fill=\"#000000\">gini = 0.403</text>\n<text text-anchor=\"start\" x=\"1191.5\" y=\"-37.8\" font-family=\"Helvetica,sans-Serif\" font-size=\"14.00\" fill=\"#000000\">samples = 41</text>\n<text text-anchor=\"start\" x=\"1157\" y=\"-22.8\" font-family=\"Helvetica,sans-Serif\" font-size=\"14.00\" fill=\"#000000\">value = [10.711, 27.592]</text>\n<text text-anchor=\"start\" x=\"1206.5\" y=\"-7.8\" font-family=\"Helvetica,sans-Serif\" font-size=\"14.00\" fill=\"#000000\">class = 1</text>\n</g>\n<!-- 16&#45;&gt;17 -->\n<g id=\"edge17\" class=\"edge\">\n<title>16&#45;&gt;17</title>\n<path fill=\"none\" stroke=\"#000000\" d=\"M1306.423,-103.9815C1296.9224,-94.607 1286.8387,-84.6572 1277.3476,-75.2921\"/>\n<polygon fill=\"#000000\" stroke=\"#000000\" points=\"1279.8011,-72.796 1270.2246,-68.2637 1274.8845,-77.7787 1279.8011,-72.796\"/>\n</g>\n<!-- 18 -->\n<g id=\"node19\" class=\"node\">\n<title>18</title>\n<path fill=\"#eff7fd\" stroke=\"#000000\" d=\"M1476.5,-68C1476.5,-68 1352.5,-68 1352.5,-68 1346.5,-68 1340.5,-62 1340.5,-56 1340.5,-56 1340.5,-12 1340.5,-12 1340.5,-6 1346.5,0 1352.5,0 1352.5,0 1476.5,0 1476.5,0 1482.5,0 1488.5,-6 1488.5,-12 1488.5,-12 1488.5,-56 1488.5,-56 1488.5,-62 1482.5,-68 1476.5,-68\"/>\n<text text-anchor=\"start\" x=\"1376.5\" y=\"-52.8\" font-family=\"Helvetica,sans-Serif\" font-size=\"14.00\" fill=\"#000000\">gini = 0.499</text>\n<text text-anchor=\"start\" x=\"1370.5\" y=\"-37.8\" font-family=\"Helvetica,sans-Serif\" font-size=\"14.00\" fill=\"#000000\">samples = 15</text>\n<text text-anchor=\"start\" x=\"1348.5\" y=\"-22.8\" font-family=\"Helvetica,sans-Serif\" font-size=\"14.00\" fill=\"#000000\">value = [7.141, 7.76]</text>\n<text text-anchor=\"start\" x=\"1385.5\" y=\"-7.8\" font-family=\"Helvetica,sans-Serif\" font-size=\"14.00\" fill=\"#000000\">class = 1</text>\n</g>\n<!-- 16&#45;&gt;18 -->\n<g id=\"edge18\" class=\"edge\">\n<title>16&#45;&gt;18</title>\n<path fill=\"none\" stroke=\"#000000\" d=\"M1373.076,-103.9815C1378.2986,-95.1585 1383.8229,-85.8258 1389.0763,-76.9506\"/>\n<polygon fill=\"#000000\" stroke=\"#000000\" points=\"1392.1364,-78.652 1394.2184,-68.2637 1386.1126,-75.0863 1392.1364,-78.652\"/>\n</g>\n<!-- 20 -->\n<g id=\"node21\" class=\"node\">\n<title>20</title>\n<path fill=\"#8dc7f0\" stroke=\"#000000\" d=\"M1658.5,-68C1658.5,-68 1518.5,-68 1518.5,-68 1512.5,-68 1506.5,-62 1506.5,-56 1506.5,-56 1506.5,-12 1506.5,-12 1506.5,-6 1512.5,0 1518.5,0 1518.5,0 1658.5,0 1658.5,0 1664.5,0 1670.5,-6 1670.5,-12 1670.5,-12 1670.5,-56 1670.5,-56 1670.5,-62 1664.5,-68 1658.5,-68\"/>\n<text text-anchor=\"start\" x=\"1550.5\" y=\"-52.8\" font-family=\"Helvetica,sans-Serif\" font-size=\"14.00\" fill=\"#000000\">gini = 0.418</text>\n<text text-anchor=\"start\" x=\"1544.5\" y=\"-37.8\" font-family=\"Helvetica,sans-Serif\" font-size=\"14.00\" fill=\"#000000\">samples = 34</text>\n<text text-anchor=\"start\" x=\"1514.5\" y=\"-22.8\" font-family=\"Helvetica,sans-Serif\" font-size=\"14.00\" fill=\"#000000\">value = [9.521, 22.419]</text>\n<text text-anchor=\"start\" x=\"1559.5\" y=\"-7.8\" font-family=\"Helvetica,sans-Serif\" font-size=\"14.00\" fill=\"#000000\">class = 1</text>\n</g>\n<!-- 19&#45;&gt;20 -->\n<g id=\"edge20\" class=\"edge\">\n<title>19&#45;&gt;20</title>\n<path fill=\"none\" stroke=\"#000000\" d=\"M1612.3502,-103.9815C1609.4372,-95.4342 1606.3612,-86.4086 1603.4219,-77.7839\"/>\n<polygon fill=\"#000000\" stroke=\"#000000\" points=\"1606.7161,-76.6 1600.1773,-68.2637 1600.0904,-78.8582 1606.7161,-76.6\"/>\n</g>\n<!-- 21 -->\n<g id=\"node22\" class=\"node\">\n<title>21</title>\n<path fill=\"#63b2eb\" stroke=\"#000000\" d=\"M1832.5,-68C1832.5,-68 1700.5,-68 1700.5,-68 1694.5,-68 1688.5,-62 1688.5,-56 1688.5,-56 1688.5,-12 1688.5,-12 1688.5,-6 1694.5,0 1700.5,0 1700.5,0 1832.5,0 1832.5,0 1838.5,0 1844.5,-6 1844.5,-12 1844.5,-12 1844.5,-56 1844.5,-56 1844.5,-62 1838.5,-68 1832.5,-68\"/>\n<text text-anchor=\"start\" x=\"1728.5\" y=\"-52.8\" font-family=\"Helvetica,sans-Serif\" font-size=\"14.00\" fill=\"#000000\">gini = 0.289</text>\n<text text-anchor=\"start\" x=\"1722.5\" y=\"-37.8\" font-family=\"Helvetica,sans-Serif\" font-size=\"14.00\" fill=\"#000000\">samples = 30</text>\n<text text-anchor=\"start\" x=\"1696.5\" y=\"-22.8\" font-family=\"Helvetica,sans-Serif\" font-size=\"14.00\" fill=\"#000000\">value = [4.76, 22.419]</text>\n<text text-anchor=\"start\" x=\"1737.5\" y=\"-7.8\" font-family=\"Helvetica,sans-Serif\" font-size=\"14.00\" fill=\"#000000\">class = 1</text>\n</g>\n<!-- 19&#45;&gt;21 -->\n<g id=\"edge21\" class=\"edge\">\n<title>19&#45;&gt;21</title>\n<path fill=\"none\" stroke=\"#000000\" d=\"M1678.6308,-103.9815C1690.6323,-94.4232 1703.3848,-84.2668 1715.3443,-74.7419\"/>\n<polygon fill=\"#000000\" stroke=\"#000000\" points=\"1717.8365,-77.2314 1723.4783,-68.2637 1713.4756,-71.7558 1717.8365,-77.2314\"/>\n</g>\n<!-- 23 -->\n<g id=\"node24\" class=\"node\">\n<title>23</title>\n<path fill=\"#f7d7c0\" stroke=\"#000000\" d=\"M2063.5,-187C2063.5,-187 1825.5,-187 1825.5,-187 1819.5,-187 1813.5,-181 1813.5,-175 1813.5,-175 1813.5,-116 1813.5,-116 1813.5,-110 1819.5,-104 1825.5,-104 1825.5,-104 2063.5,-104 2063.5,-104 2069.5,-104 2075.5,-110 2075.5,-116 2075.5,-116 2075.5,-175 2075.5,-175 2075.5,-181 2069.5,-187 2063.5,-187\"/>\n<text text-anchor=\"start\" x=\"1821.5\" y=\"-171.8\" font-family=\"Helvetica,sans-Serif\" font-size=\"14.00\" fill=\"#000000\">Fibrosis_periphery_percentage ≤ 27.5</text>\n<text text-anchor=\"start\" x=\"1906.5\" y=\"-156.8\" font-family=\"Helvetica,sans-Serif\" font-size=\"14.00\" fill=\"#000000\">gini = 0.482</text>\n<text text-anchor=\"start\" x=\"1900.5\" y=\"-141.8\" font-family=\"Helvetica,sans-Serif\" font-size=\"14.00\" fill=\"#000000\">samples = 35</text>\n<text text-anchor=\"start\" x=\"1866\" y=\"-126.8\" font-family=\"Helvetica,sans-Serif\" font-size=\"14.00\" fill=\"#000000\">value = [21.422, 14.658]</text>\n<text text-anchor=\"start\" x=\"1915.5\" y=\"-111.8\" font-family=\"Helvetica,sans-Serif\" font-size=\"14.00\" fill=\"#000000\">class = 0</text>\n</g>\n<!-- 22&#45;&gt;23 -->\n<g id=\"edge23\" class=\"edge\">\n<title>22&#45;&gt;23</title>\n<path fill=\"none\" stroke=\"#000000\" d=\"M1944.5,-222.8796C1944.5,-214.6838 1944.5,-205.9891 1944.5,-197.5013\"/>\n<polygon fill=\"#000000\" stroke=\"#000000\" points=\"1948.0001,-197.298 1944.5,-187.2981 1941.0001,-197.2981 1948.0001,-197.298\"/>\n</g>\n<!-- 26 -->\n<g id=\"node27\" class=\"node\">\n<title>26</title>\n<path fill=\"#54abe9\" stroke=\"#000000\" d=\"M2229.5,-179.5C2229.5,-179.5 2105.5,-179.5 2105.5,-179.5 2099.5,-179.5 2093.5,-173.5 2093.5,-167.5 2093.5,-167.5 2093.5,-123.5 2093.5,-123.5 2093.5,-117.5 2099.5,-111.5 2105.5,-111.5 2105.5,-111.5 2229.5,-111.5 2229.5,-111.5 2235.5,-111.5 2241.5,-117.5 2241.5,-123.5 2241.5,-123.5 2241.5,-167.5 2241.5,-167.5 2241.5,-173.5 2235.5,-179.5 2229.5,-179.5\"/>\n<text text-anchor=\"start\" x=\"2129.5\" y=\"-164.3\" font-family=\"Helvetica,sans-Serif\" font-size=\"14.00\" fill=\"#000000\">gini = 0.213</text>\n<text text-anchor=\"start\" x=\"2123.5\" y=\"-149.3\" font-family=\"Helvetica,sans-Serif\" font-size=\"14.00\" fill=\"#000000\">samples = 11</text>\n<text text-anchor=\"start\" x=\"2101.5\" y=\"-134.3\" font-family=\"Helvetica,sans-Serif\" font-size=\"14.00\" fill=\"#000000\">value = [1.19, 8.623]</text>\n<text text-anchor=\"start\" x=\"2138.5\" y=\"-119.3\" font-family=\"Helvetica,sans-Serif\" font-size=\"14.00\" fill=\"#000000\">class = 1</text>\n</g>\n<!-- 22&#45;&gt;26 -->\n<g id=\"edge26\" class=\"edge\">\n<title>22&#45;&gt;26</title>\n<path fill=\"none\" stroke=\"#000000\" d=\"M2022.4946,-222.8796C2045.8904,-210.3948 2071.4558,-196.7523 2094.5155,-184.4469\"/>\n<polygon fill=\"#000000\" stroke=\"#000000\" points=\"2096.3805,-187.4189 2103.5552,-179.623 2093.0849,-181.2432 2096.3805,-187.4189\"/>\n</g>\n<!-- 24 -->\n<g id=\"node25\" class=\"node\">\n<title>24</title>\n<path fill=\"#fcf1e8\" stroke=\"#000000\" d=\"M2014.5,-68C2014.5,-68 1874.5,-68 1874.5,-68 1868.5,-68 1862.5,-62 1862.5,-56 1862.5,-56 1862.5,-12 1862.5,-12 1862.5,-6 1868.5,0 1874.5,0 1874.5,0 2014.5,0 2014.5,0 2020.5,0 2026.5,-6 2026.5,-12 2026.5,-12 2026.5,-56 2026.5,-56 2026.5,-62 2020.5,-68 2014.5,-68\"/>\n<text text-anchor=\"start\" x=\"1906.5\" y=\"-52.8\" font-family=\"Helvetica,sans-Serif\" font-size=\"14.00\" fill=\"#000000\">gini = 0.498</text>\n<text text-anchor=\"start\" x=\"1900.5\" y=\"-37.8\" font-family=\"Helvetica,sans-Serif\" font-size=\"14.00\" fill=\"#000000\">samples = 20</text>\n<text text-anchor=\"start\" x=\"1870.5\" y=\"-22.8\" font-family=\"Helvetica,sans-Serif\" font-size=\"14.00\" fill=\"#000000\">value = [10.711, 9.485]</text>\n<text text-anchor=\"start\" x=\"1915.5\" y=\"-7.8\" font-family=\"Helvetica,sans-Serif\" font-size=\"14.00\" fill=\"#000000\">class = 0</text>\n</g>\n<!-- 23&#45;&gt;24 -->\n<g id=\"edge24\" class=\"edge\">\n<title>23&#45;&gt;24</title>\n<path fill=\"none\" stroke=\"#000000\" d=\"M1944.5,-103.9815C1944.5,-95.618 1944.5,-86.7965 1944.5,-78.3409\"/>\n<polygon fill=\"#000000\" stroke=\"#000000\" points=\"1948.0001,-78.2636 1944.5,-68.2637 1941.0001,-78.2637 1948.0001,-78.2636\"/>\n</g>\n<!-- 25 -->\n<g id=\"node26\" class=\"node\">\n<title>25</title>\n<path fill=\"#f2be99\" stroke=\"#000000\" d=\"M2196.5,-68C2196.5,-68 2056.5,-68 2056.5,-68 2050.5,-68 2044.5,-62 2044.5,-56 2044.5,-56 2044.5,-12 2044.5,-12 2044.5,-6 2050.5,0 2056.5,0 2056.5,0 2196.5,0 2196.5,0 2202.5,0 2208.5,-6 2208.5,-12 2208.5,-12 2208.5,-56 2208.5,-56 2208.5,-62 2202.5,-68 2196.5,-68\"/>\n<text text-anchor=\"start\" x=\"2088.5\" y=\"-52.8\" font-family=\"Helvetica,sans-Serif\" font-size=\"14.00\" fill=\"#000000\">gini = 0.439</text>\n<text text-anchor=\"start\" x=\"2082.5\" y=\"-37.8\" font-family=\"Helvetica,sans-Serif\" font-size=\"14.00\" fill=\"#000000\">samples = 15</text>\n<text text-anchor=\"start\" x=\"2052.5\" y=\"-22.8\" font-family=\"Helvetica,sans-Serif\" font-size=\"14.00\" fill=\"#000000\">value = [10.711, 5.174]</text>\n<text text-anchor=\"start\" x=\"2097.5\" y=\"-7.8\" font-family=\"Helvetica,sans-Serif\" font-size=\"14.00\" fill=\"#000000\">class = 0</text>\n</g>\n<!-- 23&#45;&gt;25 -->\n<g id=\"edge25\" class=\"edge\">\n<title>23&#45;&gt;25</title>\n<path fill=\"none\" stroke=\"#000000\" d=\"M2012.2701,-103.9815C2028.5573,-94.0034 2045.9085,-83.3733 2062.0403,-73.4904\"/>\n<polygon fill=\"#000000\" stroke=\"#000000\" points=\"2064.1638,-76.2941 2070.8625,-68.0856 2060.507,-70.3252 2064.1638,-76.2941\"/>\n</g>\n</g>\n</svg>\n"
          },
          "metadata": {
            "tags": []
          },
          "execution_count": 111
        }
      ]
    },
    {
      "cell_type": "markdown",
      "metadata": {
        "id": "xUnVVx_htp6E",
        "colab_type": "text"
      },
      "source": [
        "** FOXP3 for FOXP3-periphery_intraepithelial, Fibrosis for Fibrosis_periphery_percentage\n",
        "\n",
        "1. Pred 0\n",
        "- FOXP3 <= 0.5, Fibrosis <= 7.5\n",
        "- **FOXP3 <= 2,5, 12.5 < Fibrosis <= 77.5**\n",
        "- FOXP3 <= 2.5, 87.5 < Fibrosis\n",
        "- 14 < FOXP3 <= 28.5\n",
        "\n",
        "2. Pred 1\n",
        "- 0.5 < FOXP3 <= 2.5, Fibrosis <= 12.5\n",
        "- FOXP3 <= 2.5, 77.5 < Fibrosis <= 87.5\n",
        "- **2.5 < FOXP3 <= 14**\n",
        "- 28.5 < FOXP3"
      ]
    },
    {
      "cell_type": "code",
      "metadata": {
        "id": "Q5mYiBOk3X9M",
        "colab_type": "code",
        "outputId": "b7277744-a260-45f5-b828-8cd67257a015",
        "colab": {
          "base_uri": "https://localhost:8080/",
          "height": 677
        }
      },
      "source": [
        "tree3 = make_works(['CD8_periphery_intra', 'Fibrosis_periphery_percentage'])"
      ],
      "execution_count": 0,
      "outputs": [
        {
          "output_type": "stream",
          "text": [
            "{'AUC': 0.6859768081761006, 'accuracy': 0.6170678336980306, 'precision': 0.7556818181818182, 'recall': 0.5018867924528302, 'f1': 0.6031746031746031, 'mcc': 0.2819012989916798}\n",
            "<lifelines.StatisticalResult>\n",
            "               t_0 = -1\n",
            " null_distribution = chi squared\n",
            "degrees_of_freedom = 1\n",
            "\n",
            "---\n",
            " test_statistic      p  -log2(p)\n",
            "          35.04 <0.005     28.21\n",
            "<lifelines.StatisticalResult: (0, 1)>\n",
            "               t_0 = -1\n",
            " null_distribution = chi squared\n",
            "degrees_of_freedom = 1\n",
            "\n",
            "---\n",
            "     test_statistic      p  -log2(p)\n",
            "0 1           35.04 <0.005     28.21\n"
          ],
          "name": "stdout"
        },
        {
          "output_type": "display_data",
          "data": {
            "image/png": "[encoded data removed]",
            "text/plain": [
              "<Figure size 432x288 with 1 Axes>"
            ]
          },
          "metadata": {
            "tags": []
          }
        }
      ]
    },
    {
      "cell_type": "code",
      "metadata": {
        "id": "Z6xTbiad3r4O",
        "colab_type": "code",
        "outputId": "4795e400-c095-4888-d2f2-dc204a142483",
        "colab": {
          "base_uri": "https://localhost:8080/",
          "height": 914
        }
      },
      "source": [
        "tree3['tree graph']"
      ],
      "execution_count": 0,
      "outputs": [
        {
          "output_type": "execute_result",
          "data": {
            "text/plain": [
              "<graphviz.files.Source at 0x7f05481b1c50>"
            ],
            "image/svg+xml": "<?xml version=\"1.0\" encoding=\"UTF-8\" standalone=\"no\"?>\n<!DOCTYPE svg PUBLIC \"-//W3C//DTD SVG 1.1//EN\"\n \"http://www.w3.org/Graphics/SVG/1.1/DTD/svg11.dtd\">\n<!-- Generated by graphviz version 2.40.1 (20161225.0304)\n -->\n<!-- Title: Tree Pages: 1 -->\n<svg width=\"1804pt\" height=\"552pt\"\n viewBox=\"0.00 0.00 1803.50 552.00\" xmlns=\"http://www.w3.org/2000/svg\" xmlns:xlink=\"http://www.w3.org/1999/xlink\">\n<g id=\"graph0\" class=\"graph\" transform=\"scale(1 1) rotate(0) translate(4 548)\">\n<title>Tree</title>\n<polygon fill=\"#ffffff\" stroke=\"transparent\" points=\"-4,4 -4,-548 1799.5,-548 1799.5,4 -4,4\"/>\n<!-- 0 -->\n<g id=\"node1\" class=\"node\">\n<title>0</title>\n<path fill=\"#ffffff\" stroke=\"#000000\" d=\"M973.5,-544C973.5,-544 803.5,-544 803.5,-544 797.5,-544 791.5,-538 791.5,-532 791.5,-532 791.5,-473 791.5,-473 791.5,-467 797.5,-461 803.5,-461 803.5,-461 973.5,-461 973.5,-461 979.5,-461 985.5,-467 985.5,-473 985.5,-473 985.5,-532 985.5,-532 985.5,-538 979.5,-544 973.5,-544\"/>\n<text text-anchor=\"start\" x=\"799.5\" y=\"-528.8\" font-family=\"Helvetica,sans-Serif\" font-size=\"14.00\" fill=\"#000000\">CD8_periphery_intra ≤ 13.5</text>\n<text text-anchor=\"start\" x=\"859\" y=\"-513.8\" font-family=\"Helvetica,sans-Serif\" font-size=\"14.00\" fill=\"#000000\">gini = 0.5</text>\n<text text-anchor=\"start\" x=\"840.5\" y=\"-498.8\" font-family=\"Helvetica,sans-Serif\" font-size=\"14.00\" fill=\"#000000\">samples = 457</text>\n<text text-anchor=\"start\" x=\"818.5\" y=\"-483.8\" font-family=\"Helvetica,sans-Serif\" font-size=\"14.00\" fill=\"#000000\">value = [228.5, 228.5]</text>\n<text text-anchor=\"start\" x=\"859.5\" y=\"-468.8\" font-family=\"Helvetica,sans-Serif\" font-size=\"14.00\" fill=\"#000000\">class = 1</text>\n</g>\n<!-- 1 -->\n<g id=\"node2\" class=\"node\">\n<title>1</title>\n<path fill=\"#f9e3d4\" stroke=\"#000000\" d=\"M867.5,-425C867.5,-425 629.5,-425 629.5,-425 623.5,-425 617.5,-419 617.5,-413 617.5,-413 617.5,-354 617.5,-354 617.5,-348 623.5,-342 629.5,-342 629.5,-342 867.5,-342 867.5,-342 873.5,-342 879.5,-348 879.5,-354 879.5,-354 879.5,-413 879.5,-413 879.5,-419 873.5,-425 867.5,-425\"/>\n<text text-anchor=\"start\" x=\"625.5\" y=\"-409.8\" font-family=\"Helvetica,sans-Serif\" font-size=\"14.00\" fill=\"#000000\">Fibrosis_periphery_percentage ≤ 87.5</text>\n<text text-anchor=\"start\" x=\"710.5\" y=\"-394.8\" font-family=\"Helvetica,sans-Serif\" font-size=\"14.00\" fill=\"#000000\">gini = 0.492</text>\n<text text-anchor=\"start\" x=\"700.5\" y=\"-379.8\" font-family=\"Helvetica,sans-Serif\" font-size=\"14.00\" fill=\"#000000\">samples = 295</text>\n<text text-anchor=\"start\" x=\"662\" y=\"-364.8\" font-family=\"Helvetica,sans-Serif\" font-size=\"14.00\" fill=\"#000000\">value = [168.995, 131.926]</text>\n<text text-anchor=\"start\" x=\"719.5\" y=\"-349.8\" font-family=\"Helvetica,sans-Serif\" font-size=\"14.00\" fill=\"#000000\">class = 0</text>\n</g>\n<!-- 0&#45;&gt;1 -->\n<g id=\"edge1\" class=\"edge\">\n<title>0&#45;&gt;1</title>\n<path fill=\"none\" stroke=\"#000000\" d=\"M839.5348,-460.8796C828.5153,-451.513 816.7291,-441.4948 805.4158,-431.8784\"/>\n<polygon fill=\"#000000\" stroke=\"#000000\" points=\"807.5604,-429.1078 797.6742,-425.2981 803.0268,-434.4414 807.5604,-429.1078\"/>\n<text text-anchor=\"middle\" x=\"799.6946\" y=\"-446.5163\" font-family=\"Helvetica,sans-Serif\" font-size=\"14.00\" fill=\"#000000\">True</text>\n</g>\n<!-- 10 -->\n<g id=\"node11\" class=\"node\">\n<title>10</title>\n<path fill=\"#b3d9f5\" stroke=\"#000000\" d=\"M1147.5,-425C1147.5,-425 909.5,-425 909.5,-425 903.5,-425 897.5,-419 897.5,-413 897.5,-413 897.5,-354 897.5,-354 897.5,-348 903.5,-342 909.5,-342 909.5,-342 1147.5,-342 1147.5,-342 1153.5,-342 1159.5,-348 1159.5,-354 1159.5,-354 1159.5,-413 1159.5,-413 1159.5,-419 1153.5,-425 1147.5,-425\"/>\n<text text-anchor=\"start\" x=\"905.5\" y=\"-409.8\" font-family=\"Helvetica,sans-Serif\" font-size=\"14.00\" fill=\"#000000\">Fibrosis_periphery_percentage ≤ 27.5</text>\n<text text-anchor=\"start\" x=\"990.5\" y=\"-394.8\" font-family=\"Helvetica,sans-Serif\" font-size=\"14.00\" fill=\"#000000\">gini = 0.472</text>\n<text text-anchor=\"start\" x=\"980.5\" y=\"-379.8\" font-family=\"Helvetica,sans-Serif\" font-size=\"14.00\" fill=\"#000000\">samples = 162</text>\n<text text-anchor=\"start\" x=\"950\" y=\"-364.8\" font-family=\"Helvetica,sans-Serif\" font-size=\"14.00\" fill=\"#000000\">value = [59.505, 96.574]</text>\n<text text-anchor=\"start\" x=\"999.5\" y=\"-349.8\" font-family=\"Helvetica,sans-Serif\" font-size=\"14.00\" fill=\"#000000\">class = 1</text>\n</g>\n<!-- 0&#45;&gt;10 -->\n<g id=\"edge10\" class=\"edge\">\n<title>0&#45;&gt;10</title>\n<path fill=\"none\" stroke=\"#000000\" d=\"M937.4652,-460.8796C948.4847,-451.513 960.2709,-441.4948 971.5842,-431.8784\"/>\n<polygon fill=\"#000000\" stroke=\"#000000\" points=\"973.9732,-434.4414 979.3258,-425.2981 969.4396,-429.1078 973.9732,-434.4414\"/>\n<text text-anchor=\"middle\" x=\"977.3054\" y=\"-446.5163\" font-family=\"Helvetica,sans-Serif\" font-size=\"14.00\" fill=\"#000000\">False</text>\n</g>\n<!-- 2 -->\n<g id=\"node3\" class=\"node\">\n<title>2</title>\n<path fill=\"#fae8db\" stroke=\"#000000\" d=\"M637.5,-306C637.5,-306 399.5,-306 399.5,-306 393.5,-306 387.5,-300 387.5,-294 387.5,-294 387.5,-235 387.5,-235 387.5,-229 393.5,-223 399.5,-223 399.5,-223 637.5,-223 637.5,-223 643.5,-223 649.5,-229 649.5,-235 649.5,-235 649.5,-294 649.5,-294 649.5,-300 643.5,-306 637.5,-306\"/>\n<text text-anchor=\"start\" x=\"395.5\" y=\"-290.8\" font-family=\"Helvetica,sans-Serif\" font-size=\"14.00\" fill=\"#000000\">Fibrosis_periphery_percentage ≤ 72.5</text>\n<text text-anchor=\"start\" x=\"480.5\" y=\"-275.8\" font-family=\"Helvetica,sans-Serif\" font-size=\"14.00\" fill=\"#000000\">gini = 0.495</text>\n<text text-anchor=\"start\" x=\"470.5\" y=\"-260.8\" font-family=\"Helvetica,sans-Serif\" font-size=\"14.00\" fill=\"#000000\">samples = 277</text>\n<text text-anchor=\"start\" x=\"432\" y=\"-245.8\" font-family=\"Helvetica,sans-Serif\" font-size=\"14.00\" fill=\"#000000\">value = [154.714, 126.753]</text>\n<text text-anchor=\"start\" x=\"489.5\" y=\"-230.8\" font-family=\"Helvetica,sans-Serif\" font-size=\"14.00\" fill=\"#000000\">class = 0</text>\n</g>\n<!-- 1&#45;&gt;2 -->\n<g id=\"edge2\" class=\"edge\">\n<title>1&#45;&gt;2</title>\n<path fill=\"none\" stroke=\"#000000\" d=\"M668.0572,-341.8796C648.6229,-331.8244 627.737,-321.0183 607.9189,-310.7645\"/>\n<polygon fill=\"#000000\" stroke=\"#000000\" points=\"609.3874,-307.5837 598.8974,-306.0969 606.1707,-313.8008 609.3874,-307.5837\"/>\n</g>\n<!-- 9 -->\n<g id=\"node10\" class=\"node\">\n<title>9</title>\n<path fill=\"#eeaf81\" stroke=\"#000000\" d=\"M819.5,-298.5C819.5,-298.5 679.5,-298.5 679.5,-298.5 673.5,-298.5 667.5,-292.5 667.5,-286.5 667.5,-286.5 667.5,-242.5 667.5,-242.5 667.5,-236.5 673.5,-230.5 679.5,-230.5 679.5,-230.5 819.5,-230.5 819.5,-230.5 825.5,-230.5 831.5,-236.5 831.5,-242.5 831.5,-242.5 831.5,-286.5 831.5,-286.5 831.5,-292.5 825.5,-298.5 819.5,-298.5\"/>\n<text text-anchor=\"start\" x=\"716\" y=\"-283.3\" font-family=\"Helvetica,sans-Serif\" font-size=\"14.00\" fill=\"#000000\">gini = 0.39</text>\n<text text-anchor=\"start\" x=\"705.5\" y=\"-268.3\" font-family=\"Helvetica,sans-Serif\" font-size=\"14.00\" fill=\"#000000\">samples = 18</text>\n<text text-anchor=\"start\" x=\"675.5\" y=\"-253.3\" font-family=\"Helvetica,sans-Serif\" font-size=\"14.00\" fill=\"#000000\">value = [14.281, 5.174]</text>\n<text text-anchor=\"start\" x=\"720.5\" y=\"-238.3\" font-family=\"Helvetica,sans-Serif\" font-size=\"14.00\" fill=\"#000000\">class = 0</text>\n</g>\n<!-- 1&#45;&gt;9 -->\n<g id=\"edge9\" class=\"edge\">\n<title>1&#45;&gt;9</title>\n<path fill=\"none\" stroke=\"#000000\" d=\"M748.8498,-341.8796C748.9394,-331.2134 749.0361,-319.7021 749.1269,-308.9015\"/>\n<polygon fill=\"#000000\" stroke=\"#000000\" points=\"752.6274,-308.844 749.2116,-298.8149 745.6276,-308.7851 752.6274,-308.844\"/>\n</g>\n<!-- 3 -->\n<g id=\"node4\" class=\"node\">\n<title>3</title>\n<path fill=\"#f8dcc8\" stroke=\"#000000\" d=\"M359,-187C359,-187 194,-187 194,-187 188,-187 182,-181 182,-175 182,-175 182,-116 182,-116 182,-110 188,-104 194,-104 194,-104 359,-104 359,-104 365,-104 371,-110 371,-116 371,-116 371,-175 371,-175 371,-181 365,-187 359,-187\"/>\n<text text-anchor=\"start\" x=\"191.5\" y=\"-171.8\" font-family=\"Helvetica,sans-Serif\" font-size=\"14.00\" fill=\"#000000\">CD8_periphery_intra ≤ 0.5</text>\n<text text-anchor=\"start\" x=\"238.5\" y=\"-156.8\" font-family=\"Helvetica,sans-Serif\" font-size=\"14.00\" fill=\"#000000\">gini = 0.487</text>\n<text text-anchor=\"start\" x=\"228.5\" y=\"-141.8\" font-family=\"Helvetica,sans-Serif\" font-size=\"14.00\" fill=\"#000000\">samples = 232</text>\n<text text-anchor=\"start\" x=\"190\" y=\"-126.8\" font-family=\"Helvetica,sans-Serif\" font-size=\"14.00\" fill=\"#000000\">value = [138.052, 100.023]</text>\n<text text-anchor=\"start\" x=\"247.5\" y=\"-111.8\" font-family=\"Helvetica,sans-Serif\" font-size=\"14.00\" fill=\"#000000\">class = 0</text>\n</g>\n<!-- 2&#45;&gt;3 -->\n<g id=\"edge3\" class=\"edge\">\n<title>2&#45;&gt;3</title>\n<path fill=\"none\" stroke=\"#000000\" d=\"M433.8601,-222.8796C413.3198,-212.7791 391.2383,-201.9209 370.3025,-191.626\"/>\n<polygon fill=\"#000000\" stroke=\"#000000\" points=\"371.6103,-188.3689 361.0921,-187.0969 368.5213,-194.6505 371.6103,-188.3689\"/>\n</g>\n<!-- 6 -->\n<g id=\"node7\" class=\"node\">\n<title>6</title>\n<path fill=\"#b4daf5\" stroke=\"#000000\" d=\"M639.5,-187C639.5,-187 401.5,-187 401.5,-187 395.5,-187 389.5,-181 389.5,-175 389.5,-175 389.5,-116 389.5,-116 389.5,-110 395.5,-104 401.5,-104 401.5,-104 639.5,-104 639.5,-104 645.5,-104 651.5,-110 651.5,-116 651.5,-116 651.5,-175 651.5,-175 651.5,-181 645.5,-187 639.5,-187\"/>\n<text text-anchor=\"start\" x=\"397.5\" y=\"-171.8\" font-family=\"Helvetica,sans-Serif\" font-size=\"14.00\" fill=\"#000000\">Fibrosis_periphery_percentage ≤ 82.5</text>\n<text text-anchor=\"start\" x=\"482.5\" y=\"-156.8\" font-family=\"Helvetica,sans-Serif\" font-size=\"14.00\" fill=\"#000000\">gini = 0.473</text>\n<text text-anchor=\"start\" x=\"476.5\" y=\"-141.8\" font-family=\"Helvetica,sans-Serif\" font-size=\"14.00\" fill=\"#000000\">samples = 45</text>\n<text text-anchor=\"start\" x=\"446.5\" y=\"-126.8\" font-family=\"Helvetica,sans-Serif\" font-size=\"14.00\" fill=\"#000000\">value = [16.661, 26.73]</text>\n<text text-anchor=\"start\" x=\"491.5\" y=\"-111.8\" font-family=\"Helvetica,sans-Serif\" font-size=\"14.00\" fill=\"#000000\">class = 1</text>\n</g>\n<!-- 2&#45;&gt;6 -->\n<g id=\"edge6\" class=\"edge\">\n<title>2&#45;&gt;6</title>\n<path fill=\"none\" stroke=\"#000000\" d=\"M519.1995,-222.8796C519.3372,-214.6838 519.4834,-205.9891 519.626,-197.5013\"/>\n<polygon fill=\"#000000\" stroke=\"#000000\" points=\"523.1289,-197.3555 519.7975,-187.2981 516.1299,-197.2378 523.1289,-197.3555\"/>\n</g>\n<!-- 4 -->\n<g id=\"node5\" class=\"node\">\n<title>4</title>\n<path fill=\"#f5d1b6\" stroke=\"#000000\" d=\"M161,-68C161,-68 12,-68 12,-68 6,-68 0,-62 0,-56 0,-56 0,-12 0,-12 0,-6 6,0 12,0 12,0 161,0 161,0 167,0 173,-6 173,-12 173,-12 173,-56 173,-56 173,-62 167,-68 161,-68\"/>\n<text text-anchor=\"start\" x=\"48.5\" y=\"-52.8\" font-family=\"Helvetica,sans-Serif\" font-size=\"14.00\" fill=\"#000000\">gini = 0.475</text>\n<text text-anchor=\"start\" x=\"38.5\" y=\"-37.8\" font-family=\"Helvetica,sans-Serif\" font-size=\"14.00\" fill=\"#000000\">samples = 148</text>\n<text text-anchor=\"start\" x=\"8\" y=\"-22.8\" font-family=\"Helvetica,sans-Serif\" font-size=\"14.00\" fill=\"#000000\">value = [94.018, 59.496]</text>\n<text text-anchor=\"start\" x=\"57.5\" y=\"-7.8\" font-family=\"Helvetica,sans-Serif\" font-size=\"14.00\" fill=\"#000000\">class = 0</text>\n</g>\n<!-- 3&#45;&gt;4 -->\n<g id=\"edge4\" class=\"edge\">\n<title>3&#45;&gt;4</title>\n<path fill=\"none\" stroke=\"#000000\" d=\"M205.751,-103.9815C188.5904,-93.911 170.2984,-83.1764 153.3256,-73.2161\"/>\n<polygon fill=\"#000000\" stroke=\"#000000\" points=\"154.9792,-70.1283 144.5831,-68.0856 151.4363,-76.1656 154.9792,-70.1283\"/>\n</g>\n<!-- 5 -->\n<g id=\"node6\" class=\"node\">\n<title>5</title>\n<path fill=\"#fdf5ef\" stroke=\"#000000\" d=\"M352,-68C352,-68 203,-68 203,-68 197,-68 191,-62 191,-56 191,-56 191,-12 191,-12 191,-6 197,0 203,0 203,0 352,0 352,0 358,0 364,-6 364,-12 364,-12 364,-56 364,-56 364,-62 358,-68 352,-68\"/>\n<text text-anchor=\"start\" x=\"239.5\" y=\"-52.8\" font-family=\"Helvetica,sans-Serif\" font-size=\"14.00\" fill=\"#000000\">gini = 0.499</text>\n<text text-anchor=\"start\" x=\"233.5\" y=\"-37.8\" font-family=\"Helvetica,sans-Serif\" font-size=\"14.00\" fill=\"#000000\">samples = 84</text>\n<text text-anchor=\"start\" x=\"199\" y=\"-22.8\" font-family=\"Helvetica,sans-Serif\" font-size=\"14.00\" fill=\"#000000\">value = [44.034, 40.526]</text>\n<text text-anchor=\"start\" x=\"248.5\" y=\"-7.8\" font-family=\"Helvetica,sans-Serif\" font-size=\"14.00\" fill=\"#000000\">class = 0</text>\n</g>\n<!-- 3&#45;&gt;5 -->\n<g id=\"edge5\" class=\"edge\">\n<title>3&#45;&gt;5</title>\n<path fill=\"none\" stroke=\"#000000\" d=\"M276.8724,-103.9815C276.9474,-95.618 277.0265,-86.7965 277.1023,-78.3409\"/>\n<polygon fill=\"#000000\" stroke=\"#000000\" points=\"280.6028,-78.2947 277.1927,-68.2637 273.6031,-78.2318 280.6028,-78.2947\"/>\n</g>\n<!-- 7 -->\n<g id=\"node8\" class=\"node\">\n<title>7</title>\n<path fill=\"#bbddf6\" stroke=\"#000000\" d=\"M556,-68C556,-68 407,-68 407,-68 401,-68 395,-62 395,-56 395,-56 395,-12 395,-12 395,-6 401,0 407,0 407,0 556,0 556,0 562,0 568,-6 568,-12 568,-12 568,-56 568,-56 568,-62 562,-68 556,-68\"/>\n<text text-anchor=\"start\" x=\"443.5\" y=\"-52.8\" font-family=\"Helvetica,sans-Serif\" font-size=\"14.00\" fill=\"#000000\">gini = 0.479</text>\n<text text-anchor=\"start\" x=\"437.5\" y=\"-37.8\" font-family=\"Helvetica,sans-Serif\" font-size=\"14.00\" fill=\"#000000\">samples = 31</text>\n<text text-anchor=\"start\" x=\"403\" y=\"-22.8\" font-family=\"Helvetica,sans-Serif\" font-size=\"14.00\" fill=\"#000000\">value = [11.901, 18.108]</text>\n<text text-anchor=\"start\" x=\"452.5\" y=\"-7.8\" font-family=\"Helvetica,sans-Serif\" font-size=\"14.00\" fill=\"#000000\">class = 1</text>\n</g>\n<!-- 6&#45;&gt;7 -->\n<g id=\"edge7\" class=\"edge\">\n<title>6&#45;&gt;7</title>\n<path fill=\"none\" stroke=\"#000000\" d=\"M505.9778,-103.9815C502.9882,-95.4342 499.8312,-86.4086 496.8146,-77.7839\"/>\n<polygon fill=\"#000000\" stroke=\"#000000\" points=\"500.09,-76.5473 493.4846,-68.2637 493.4826,-78.8585 500.09,-76.5473\"/>\n</g>\n<!-- 8 -->\n<g id=\"node9\" class=\"node\">\n<title>8</title>\n<path fill=\"#a6d3f3\" stroke=\"#000000\" d=\"M722.5,-68C722.5,-68 598.5,-68 598.5,-68 592.5,-68 586.5,-62 586.5,-56 586.5,-56 586.5,-12 586.5,-12 586.5,-6 592.5,0 598.5,0 598.5,0 722.5,0 722.5,0 728.5,0 734.5,-6 734.5,-12 734.5,-12 734.5,-56 734.5,-56 734.5,-62 728.5,-68 722.5,-68\"/>\n<text text-anchor=\"start\" x=\"622.5\" y=\"-52.8\" font-family=\"Helvetica,sans-Serif\" font-size=\"14.00\" fill=\"#000000\">gini = 0.458</text>\n<text text-anchor=\"start\" x=\"616.5\" y=\"-37.8\" font-family=\"Helvetica,sans-Serif\" font-size=\"14.00\" fill=\"#000000\">samples = 14</text>\n<text text-anchor=\"start\" x=\"594.5\" y=\"-22.8\" font-family=\"Helvetica,sans-Serif\" font-size=\"14.00\" fill=\"#000000\">value = [4.76, 8.623]</text>\n<text text-anchor=\"start\" x=\"631.5\" y=\"-7.8\" font-family=\"Helvetica,sans-Serif\" font-size=\"14.00\" fill=\"#000000\">class = 1</text>\n</g>\n<!-- 6&#45;&gt;8 -->\n<g id=\"edge8\" class=\"edge\">\n<title>6&#45;&gt;8</title>\n<path fill=\"none\" stroke=\"#000000\" d=\"M572.6308,-103.9815C584.6323,-94.4232 597.3848,-84.2668 609.3443,-74.7419\"/>\n<polygon fill=\"#000000\" stroke=\"#000000\" points=\"611.8365,-77.2314 617.4783,-68.2637 607.4756,-71.7558 611.8365,-77.2314\"/>\n</g>\n<!-- 11 -->\n<g id=\"node12\" class=\"node\">\n<title>11</title>\n<path fill=\"#88c4ef\" stroke=\"#000000\" d=\"M1110.5,-306C1110.5,-306 940.5,-306 940.5,-306 934.5,-306 928.5,-300 928.5,-294 928.5,-294 928.5,-235 928.5,-235 928.5,-229 934.5,-223 940.5,-223 940.5,-223 1110.5,-223 1110.5,-223 1116.5,-223 1122.5,-229 1122.5,-235 1122.5,-235 1122.5,-294 1122.5,-294 1122.5,-300 1116.5,-306 1110.5,-306\"/>\n<text text-anchor=\"start\" x=\"936.5\" y=\"-290.8\" font-family=\"Helvetica,sans-Serif\" font-size=\"14.00\" fill=\"#000000\">CD8_periphery_intra ≤ 21.0</text>\n<text text-anchor=\"start\" x=\"987.5\" y=\"-275.8\" font-family=\"Helvetica,sans-Serif\" font-size=\"14.00\" fill=\"#000000\">gini = 0.408</text>\n<text text-anchor=\"start\" x=\"981.5\" y=\"-260.8\" font-family=\"Helvetica,sans-Serif\" font-size=\"14.00\" fill=\"#000000\">samples = 80</text>\n<text text-anchor=\"start\" x=\"951.5\" y=\"-245.8\" font-family=\"Helvetica,sans-Serif\" font-size=\"14.00\" fill=\"#000000\">value = [21.422, 53.46]</text>\n<text text-anchor=\"start\" x=\"996.5\" y=\"-230.8\" font-family=\"Helvetica,sans-Serif\" font-size=\"14.00\" fill=\"#000000\">class = 1</text>\n</g>\n<!-- 10&#45;&gt;11 -->\n<g id=\"edge11\" class=\"edge\">\n<title>10&#45;&gt;11</title>\n<path fill=\"none\" stroke=\"#000000\" d=\"M1027.4507,-341.8796C1027.2441,-333.6838 1027.0249,-324.9891 1026.811,-316.5013\"/>\n<polygon fill=\"#000000\" stroke=\"#000000\" points=\"1030.3047,-316.2067 1026.5537,-306.2981 1023.307,-316.3831 1030.3047,-316.2067\"/>\n</g>\n<!-- 16 -->\n<g id=\"node17\" class=\"node\">\n<title>16</title>\n<path fill=\"#e8f4fc\" stroke=\"#000000\" d=\"M1373.5,-306C1373.5,-306 1203.5,-306 1203.5,-306 1197.5,-306 1191.5,-300 1191.5,-294 1191.5,-294 1191.5,-235 1191.5,-235 1191.5,-229 1197.5,-223 1203.5,-223 1203.5,-223 1373.5,-223 1373.5,-223 1379.5,-223 1385.5,-229 1385.5,-235 1385.5,-235 1385.5,-294 1385.5,-294 1385.5,-300 1379.5,-306 1373.5,-306\"/>\n<text text-anchor=\"start\" x=\"1199.5\" y=\"-290.8\" font-family=\"Helvetica,sans-Serif\" font-size=\"14.00\" fill=\"#000000\">CD8_periphery_intra ≤ 55.5</text>\n<text text-anchor=\"start\" x=\"1250.5\" y=\"-275.8\" font-family=\"Helvetica,sans-Serif\" font-size=\"14.00\" fill=\"#000000\">gini = 0.498</text>\n<text text-anchor=\"start\" x=\"1244.5\" y=\"-260.8\" font-family=\"Helvetica,sans-Serif\" font-size=\"14.00\" fill=\"#000000\">samples = 82</text>\n<text text-anchor=\"start\" x=\"1210\" y=\"-245.8\" font-family=\"Helvetica,sans-Serif\" font-size=\"14.00\" fill=\"#000000\">value = [38.083, 43.113]</text>\n<text text-anchor=\"start\" x=\"1259.5\" y=\"-230.8\" font-family=\"Helvetica,sans-Serif\" font-size=\"14.00\" fill=\"#000000\">class = 1</text>\n</g>\n<!-- 10&#45;&gt;16 -->\n<g id=\"edge16\" class=\"edge\">\n<title>10&#45;&gt;16</title>\n<path fill=\"none\" stroke=\"#000000\" d=\"M1119.4354,-341.8796C1141.7015,-331.6886 1165.6531,-320.7261 1188.3254,-310.3492\"/>\n<polygon fill=\"#000000\" stroke=\"#000000\" points=\"1189.9797,-313.4412 1197.616,-306.0969 1187.0665,-307.0762 1189.9797,-313.4412\"/>\n</g>\n<!-- 12 -->\n<g id=\"node13\" class=\"node\">\n<title>12</title>\n<path fill=\"#399de5\" stroke=\"#000000\" d=\"M898.5,-179.5C898.5,-179.5 774.5,-179.5 774.5,-179.5 768.5,-179.5 762.5,-173.5 762.5,-167.5 762.5,-167.5 762.5,-123.5 762.5,-123.5 762.5,-117.5 768.5,-111.5 774.5,-111.5 774.5,-111.5 898.5,-111.5 898.5,-111.5 904.5,-111.5 910.5,-117.5 910.5,-123.5 910.5,-123.5 910.5,-167.5 910.5,-167.5 910.5,-173.5 904.5,-179.5 898.5,-179.5\"/>\n<text text-anchor=\"start\" x=\"807\" y=\"-164.3\" font-family=\"Helvetica,sans-Serif\" font-size=\"14.00\" fill=\"#000000\">gini = 0.0</text>\n<text text-anchor=\"start\" x=\"792.5\" y=\"-149.3\" font-family=\"Helvetica,sans-Serif\" font-size=\"14.00\" fill=\"#000000\">samples = 12</text>\n<text text-anchor=\"start\" x=\"770.5\" y=\"-134.3\" font-family=\"Helvetica,sans-Serif\" font-size=\"14.00\" fill=\"#000000\">value = [0.0, 10.347]</text>\n<text text-anchor=\"start\" x=\"807.5\" y=\"-119.3\" font-family=\"Helvetica,sans-Serif\" font-size=\"14.00\" fill=\"#000000\">class = 1</text>\n</g>\n<!-- 11&#45;&gt;12 -->\n<g id=\"edge12\" class=\"edge\">\n<title>11&#45;&gt;12</title>\n<path fill=\"none\" stroke=\"#000000\" d=\"M959.397,-222.8796C939.9192,-210.6158 918.6671,-197.2348 899.3965,-185.1015\"/>\n<polygon fill=\"#000000\" stroke=\"#000000\" points=\"901.0226,-181.9894 890.6954,-179.623 897.2929,-187.913 901.0226,-181.9894\"/>\n</g>\n<!-- 13 -->\n<g id=\"node14\" class=\"node\">\n<title>13</title>\n<path fill=\"#9bcef2\" stroke=\"#000000\" d=\"M1110.5,-187C1110.5,-187 940.5,-187 940.5,-187 934.5,-187 928.5,-181 928.5,-175 928.5,-175 928.5,-116 928.5,-116 928.5,-110 934.5,-104 940.5,-104 940.5,-104 1110.5,-104 1110.5,-104 1116.5,-104 1122.5,-110 1122.5,-116 1122.5,-116 1122.5,-175 1122.5,-175 1122.5,-181 1116.5,-187 1110.5,-187\"/>\n<text text-anchor=\"start\" x=\"936.5\" y=\"-171.8\" font-family=\"Helvetica,sans-Serif\" font-size=\"14.00\" fill=\"#000000\">CD8_periphery_intra ≤ 97.5</text>\n<text text-anchor=\"start\" x=\"987.5\" y=\"-156.8\" font-family=\"Helvetica,sans-Serif\" font-size=\"14.00\" fill=\"#000000\">gini = 0.444</text>\n<text text-anchor=\"start\" x=\"981.5\" y=\"-141.8\" font-family=\"Helvetica,sans-Serif\" font-size=\"14.00\" fill=\"#000000\">samples = 68</text>\n<text text-anchor=\"start\" x=\"947\" y=\"-126.8\" font-family=\"Helvetica,sans-Serif\" font-size=\"14.00\" fill=\"#000000\">value = [21.422, 43.113]</text>\n<text text-anchor=\"start\" x=\"996.5\" y=\"-111.8\" font-family=\"Helvetica,sans-Serif\" font-size=\"14.00\" fill=\"#000000\">class = 1</text>\n</g>\n<!-- 11&#45;&gt;13 -->\n<g id=\"edge13\" class=\"edge\">\n<title>11&#45;&gt;13</title>\n<path fill=\"none\" stroke=\"#000000\" d=\"M1025.5,-222.8796C1025.5,-214.6838 1025.5,-205.9891 1025.5,-197.5013\"/>\n<polygon fill=\"#000000\" stroke=\"#000000\" points=\"1029.0001,-197.298 1025.5,-187.2981 1022.0001,-197.2981 1029.0001,-197.298\"/>\n</g>\n<!-- 14 -->\n<g id=\"node15\" class=\"node\">\n<title>14</title>\n<path fill=\"#add6f4\" stroke=\"#000000\" d=\"M921,-68C921,-68 772,-68 772,-68 766,-68 760,-62 760,-56 760,-56 760,-12 760,-12 760,-6 766,0 772,0 772,0 921,0 921,0 927,0 933,-6 933,-12 933,-12 933,-56 933,-56 933,-62 927,-68 921,-68\"/>\n<text text-anchor=\"start\" x=\"808.5\" y=\"-52.8\" font-family=\"Helvetica,sans-Serif\" font-size=\"14.00\" fill=\"#000000\">gini = 0.466</text>\n<text text-anchor=\"start\" x=\"802.5\" y=\"-37.8\" font-family=\"Helvetica,sans-Serif\" font-size=\"14.00\" fill=\"#000000\">samples = 57</text>\n<text text-anchor=\"start\" x=\"768\" y=\"-22.8\" font-family=\"Helvetica,sans-Serif\" font-size=\"14.00\" fill=\"#000000\">value = [20.232, 34.491]</text>\n<text text-anchor=\"start\" x=\"817.5\" y=\"-7.8\" font-family=\"Helvetica,sans-Serif\" font-size=\"14.00\" fill=\"#000000\">class = 1</text>\n</g>\n<!-- 13&#45;&gt;14 -->\n<g id=\"edge14\" class=\"edge\">\n<title>13&#45;&gt;14</title>\n<path fill=\"none\" stroke=\"#000000\" d=\"M958.847,-103.9815C942.8283,-94.0034 925.763,-83.3733 909.8972,-73.4904\"/>\n<polygon fill=\"#000000\" stroke=\"#000000\" points=\"911.5589,-70.4021 901.2204,-68.0856 907.8579,-76.3437 911.5589,-70.4021\"/>\n</g>\n<!-- 15 -->\n<g id=\"node16\" class=\"node\">\n<title>15</title>\n<path fill=\"#54abe9\" stroke=\"#000000\" d=\"M1087.5,-68C1087.5,-68 963.5,-68 963.5,-68 957.5,-68 951.5,-62 951.5,-56 951.5,-56 951.5,-12 951.5,-12 951.5,-6 957.5,0 963.5,0 963.5,0 1087.5,0 1087.5,0 1093.5,0 1099.5,-6 1099.5,-12 1099.5,-12 1099.5,-56 1099.5,-56 1099.5,-62 1093.5,-68 1087.5,-68\"/>\n<text text-anchor=\"start\" x=\"987.5\" y=\"-52.8\" font-family=\"Helvetica,sans-Serif\" font-size=\"14.00\" fill=\"#000000\">gini = 0.213</text>\n<text text-anchor=\"start\" x=\"981.5\" y=\"-37.8\" font-family=\"Helvetica,sans-Serif\" font-size=\"14.00\" fill=\"#000000\">samples = 11</text>\n<text text-anchor=\"start\" x=\"959.5\" y=\"-22.8\" font-family=\"Helvetica,sans-Serif\" font-size=\"14.00\" fill=\"#000000\">value = [1.19, 8.623]</text>\n<text text-anchor=\"start\" x=\"996.5\" y=\"-7.8\" font-family=\"Helvetica,sans-Serif\" font-size=\"14.00\" fill=\"#000000\">class = 1</text>\n</g>\n<!-- 13&#45;&gt;15 -->\n<g id=\"edge15\" class=\"edge\">\n<title>13&#45;&gt;15</title>\n<path fill=\"none\" stroke=\"#000000\" d=\"M1025.5,-103.9815C1025.5,-95.618 1025.5,-86.7965 1025.5,-78.3409\"/>\n<polygon fill=\"#000000\" stroke=\"#000000\" points=\"1029.0001,-78.2636 1025.5,-68.2637 1022.0001,-78.2637 1029.0001,-78.2636\"/>\n</g>\n<!-- 17 -->\n<g id=\"node18\" class=\"node\">\n<title>17</title>\n<path fill=\"#f7d9c3\" stroke=\"#000000\" d=\"M1373.5,-187C1373.5,-187 1203.5,-187 1203.5,-187 1197.5,-187 1191.5,-181 1191.5,-175 1191.5,-175 1191.5,-116 1191.5,-116 1191.5,-110 1197.5,-104 1203.5,-104 1203.5,-104 1373.5,-104 1373.5,-104 1379.5,-104 1385.5,-110 1385.5,-116 1385.5,-116 1385.5,-175 1385.5,-175 1385.5,-181 1379.5,-187 1373.5,-187\"/>\n<text text-anchor=\"start\" x=\"1199.5\" y=\"-171.8\" font-family=\"Helvetica,sans-Serif\" font-size=\"14.00\" fill=\"#000000\">CD8_periphery_intra ≤ 24.0</text>\n<text text-anchor=\"start\" x=\"1250.5\" y=\"-156.8\" font-family=\"Helvetica,sans-Serif\" font-size=\"14.00\" fill=\"#000000\">gini = 0.484</text>\n<text text-anchor=\"start\" x=\"1244.5\" y=\"-141.8\" font-family=\"Helvetica,sans-Serif\" font-size=\"14.00\" fill=\"#000000\">samples = 49</text>\n<text text-anchor=\"start\" x=\"1210\" y=\"-126.8\" font-family=\"Helvetica,sans-Serif\" font-size=\"14.00\" fill=\"#000000\">value = [29.753, 20.694]</text>\n<text text-anchor=\"start\" x=\"1259.5\" y=\"-111.8\" font-family=\"Helvetica,sans-Serif\" font-size=\"14.00\" fill=\"#000000\">class = 0</text>\n</g>\n<!-- 16&#45;&gt;17 -->\n<g id=\"edge17\" class=\"edge\">\n<title>16&#45;&gt;17</title>\n<path fill=\"none\" stroke=\"#000000\" d=\"M1288.5,-222.8796C1288.5,-214.6838 1288.5,-205.9891 1288.5,-197.5013\"/>\n<polygon fill=\"#000000\" stroke=\"#000000\" points=\"1292.0001,-197.298 1288.5,-187.2981 1285.0001,-197.2981 1292.0001,-197.298\"/>\n</g>\n<!-- 20 -->\n<g id=\"node21\" class=\"node\">\n<title>20</title>\n<path fill=\"#83c1ef\" stroke=\"#000000\" d=\"M1636.5,-187C1636.5,-187 1466.5,-187 1466.5,-187 1460.5,-187 1454.5,-181 1454.5,-175 1454.5,-175 1454.5,-116 1454.5,-116 1454.5,-110 1460.5,-104 1466.5,-104 1466.5,-104 1636.5,-104 1636.5,-104 1642.5,-104 1648.5,-110 1648.5,-116 1648.5,-116 1648.5,-175 1648.5,-175 1648.5,-181 1642.5,-187 1636.5,-187\"/>\n<text text-anchor=\"start\" x=\"1462.5\" y=\"-171.8\" font-family=\"Helvetica,sans-Serif\" font-size=\"14.00\" fill=\"#000000\">CD8_periphery_intra ≤ 98.0</text>\n<text text-anchor=\"start\" x=\"1513.5\" y=\"-156.8\" font-family=\"Helvetica,sans-Serif\" font-size=\"14.00\" fill=\"#000000\">gini = 0.395</text>\n<text text-anchor=\"start\" x=\"1507.5\" y=\"-141.8\" font-family=\"Helvetica,sans-Serif\" font-size=\"14.00\" fill=\"#000000\">samples = 33</text>\n<text text-anchor=\"start\" x=\"1477.5\" y=\"-126.8\" font-family=\"Helvetica,sans-Serif\" font-size=\"14.00\" fill=\"#000000\">value = [8.331, 22.419]</text>\n<text text-anchor=\"start\" x=\"1522.5\" y=\"-111.8\" font-family=\"Helvetica,sans-Serif\" font-size=\"14.00\" fill=\"#000000\">class = 1</text>\n</g>\n<!-- 16&#45;&gt;20 -->\n<g id=\"edge20\" class=\"edge\">\n<title>16&#45;&gt;20</title>\n<path fill=\"none\" stroke=\"#000000\" d=\"M1380.4846,-222.8796C1403.0076,-212.6886 1427.2356,-201.7261 1450.1695,-191.3492\"/>\n<polygon fill=\"#000000\" stroke=\"#000000\" points=\"1451.8994,-194.4081 1459.5673,-187.0969 1449.0137,-188.0306 1451.8994,-194.4081\"/>\n</g>\n<!-- 18 -->\n<g id=\"node19\" class=\"node\">\n<title>18</title>\n<path fill=\"#87c4ef\" stroke=\"#000000\" d=\"M1261.5,-68C1261.5,-68 1129.5,-68 1129.5,-68 1123.5,-68 1117.5,-62 1117.5,-56 1117.5,-56 1117.5,-12 1117.5,-12 1117.5,-6 1123.5,0 1129.5,0 1129.5,0 1261.5,0 1261.5,0 1267.5,0 1273.5,-6 1273.5,-12 1273.5,-12 1273.5,-56 1273.5,-56 1273.5,-62 1267.5,-68 1261.5,-68\"/>\n<text text-anchor=\"start\" x=\"1157.5\" y=\"-52.8\" font-family=\"Helvetica,sans-Serif\" font-size=\"14.00\" fill=\"#000000\">gini = 0.406</text>\n<text text-anchor=\"start\" x=\"1151.5\" y=\"-37.8\" font-family=\"Helvetica,sans-Serif\" font-size=\"14.00\" fill=\"#000000\">samples = 18</text>\n<text text-anchor=\"start\" x=\"1125.5\" y=\"-22.8\" font-family=\"Helvetica,sans-Serif\" font-size=\"14.00\" fill=\"#000000\">value = [4.76, 12.072]</text>\n<text text-anchor=\"start\" x=\"1166.5\" y=\"-7.8\" font-family=\"Helvetica,sans-Serif\" font-size=\"14.00\" fill=\"#000000\">class = 1</text>\n</g>\n<!-- 17&#45;&gt;18 -->\n<g id=\"edge18\" class=\"edge\">\n<title>17&#45;&gt;18</title>\n<path fill=\"none\" stroke=\"#000000\" d=\"M1253.8702,-103.9815C1246.2811,-94.8828 1238.24,-85.242 1230.6314,-76.1199\"/>\n<polygon fill=\"#000000\" stroke=\"#000000\" points=\"1233.1717,-73.7012 1224.0787,-68.2637 1227.7961,-78.1849 1233.1717,-73.7012\"/>\n</g>\n<!-- 19 -->\n<g id=\"node20\" class=\"node\">\n<title>19</title>\n<path fill=\"#eeac7d\" stroke=\"#000000\" d=\"M1443.5,-68C1443.5,-68 1303.5,-68 1303.5,-68 1297.5,-68 1291.5,-62 1291.5,-56 1291.5,-56 1291.5,-12 1291.5,-12 1291.5,-6 1297.5,0 1303.5,0 1303.5,0 1443.5,0 1443.5,0 1449.5,0 1455.5,-6 1455.5,-12 1455.5,-12 1455.5,-56 1455.5,-56 1455.5,-62 1449.5,-68 1443.5,-68\"/>\n<text text-anchor=\"start\" x=\"1335.5\" y=\"-52.8\" font-family=\"Helvetica,sans-Serif\" font-size=\"14.00\" fill=\"#000000\">gini = 0.381</text>\n<text text-anchor=\"start\" x=\"1329.5\" y=\"-37.8\" font-family=\"Helvetica,sans-Serif\" font-size=\"14.00\" fill=\"#000000\">samples = 31</text>\n<text text-anchor=\"start\" x=\"1299.5\" y=\"-22.8\" font-family=\"Helvetica,sans-Serif\" font-size=\"14.00\" fill=\"#000000\">value = [24.992, 8.623]</text>\n<text text-anchor=\"start\" x=\"1344.5\" y=\"-7.8\" font-family=\"Helvetica,sans-Serif\" font-size=\"14.00\" fill=\"#000000\">class = 0</text>\n</g>\n<!-- 17&#45;&gt;19 -->\n<g id=\"edge19\" class=\"edge\">\n<title>17&#45;&gt;19</title>\n<path fill=\"none\" stroke=\"#000000\" d=\"M1320.1509,-103.9815C1327.0171,-94.9747 1334.2882,-85.4367 1341.1798,-76.3965\"/>\n<polygon fill=\"#000000\" stroke=\"#000000\" points=\"1344.1005,-78.3383 1347.3797,-68.2637 1338.5336,-74.0945 1344.1005,-78.3383\"/>\n</g>\n<!-- 21 -->\n<g id=\"node22\" class=\"node\">\n<title>21</title>\n<path fill=\"#59ade9\" stroke=\"#000000\" d=\"M1617.5,-68C1617.5,-68 1485.5,-68 1485.5,-68 1479.5,-68 1473.5,-62 1473.5,-56 1473.5,-56 1473.5,-12 1473.5,-12 1473.5,-6 1479.5,0 1485.5,0 1485.5,0 1617.5,0 1617.5,0 1623.5,0 1629.5,-6 1629.5,-12 1629.5,-12 1629.5,-56 1629.5,-56 1629.5,-62 1623.5,-68 1617.5,-68\"/>\n<text text-anchor=\"start\" x=\"1518\" y=\"-52.8\" font-family=\"Helvetica,sans-Serif\" font-size=\"14.00\" fill=\"#000000\">gini = 0.24</text>\n<text text-anchor=\"start\" x=\"1507.5\" y=\"-37.8\" font-family=\"Helvetica,sans-Serif\" font-size=\"14.00\" fill=\"#000000\">samples = 19</text>\n<text text-anchor=\"start\" x=\"1481.5\" y=\"-22.8\" font-family=\"Helvetica,sans-Serif\" font-size=\"14.00\" fill=\"#000000\">value = [2.38, 14.658]</text>\n<text text-anchor=\"start\" x=\"1522.5\" y=\"-7.8\" font-family=\"Helvetica,sans-Serif\" font-size=\"14.00\" fill=\"#000000\">class = 1</text>\n</g>\n<!-- 20&#45;&gt;21 -->\n<g id=\"edge21\" class=\"edge\">\n<title>20&#45;&gt;21</title>\n<path fill=\"none\" stroke=\"#000000\" d=\"M1551.5,-103.9815C1551.5,-95.618 1551.5,-86.7965 1551.5,-78.3409\"/>\n<polygon fill=\"#000000\" stroke=\"#000000\" points=\"1555.0001,-78.2636 1551.5,-68.2637 1548.0001,-78.2637 1555.0001,-78.2636\"/>\n</g>\n<!-- 22 -->\n<g id=\"node23\" class=\"node\">\n<title>22</title>\n<path fill=\"#d1e8f9\" stroke=\"#000000\" d=\"M1783.5,-68C1783.5,-68 1659.5,-68 1659.5,-68 1653.5,-68 1647.5,-62 1647.5,-56 1647.5,-56 1647.5,-12 1647.5,-12 1647.5,-6 1653.5,0 1659.5,0 1659.5,0 1783.5,0 1783.5,0 1789.5,0 1795.5,-6 1795.5,-12 1795.5,-12 1795.5,-56 1795.5,-56 1795.5,-62 1789.5,-68 1783.5,-68\"/>\n<text text-anchor=\"start\" x=\"1683.5\" y=\"-52.8\" font-family=\"Helvetica,sans-Serif\" font-size=\"14.00\" fill=\"#000000\">gini = 0.491</text>\n<text text-anchor=\"start\" x=\"1677.5\" y=\"-37.8\" font-family=\"Helvetica,sans-Serif\" font-size=\"14.00\" fill=\"#000000\">samples = 14</text>\n<text text-anchor=\"start\" x=\"1655.5\" y=\"-22.8\" font-family=\"Helvetica,sans-Serif\" font-size=\"14.00\" fill=\"#000000\">value = [5.951, 7.76]</text>\n<text text-anchor=\"start\" x=\"1692.5\" y=\"-7.8\" font-family=\"Helvetica,sans-Serif\" font-size=\"14.00\" fill=\"#000000\">class = 1</text>\n</g>\n<!-- 20&#45;&gt;22 -->\n<g id=\"edge22\" class=\"edge\">\n<title>20&#45;&gt;22</title>\n<path fill=\"none\" stroke=\"#000000\" d=\"M1614.8017,-103.9815C1629.8742,-94.0957 1645.9222,-83.5701 1660.8716,-73.7651\"/>\n<polygon fill=\"#000000\" stroke=\"#000000\" points=\"1663.0885,-76.4968 1669.5309,-68.0856 1659.2494,-70.6434 1663.0885,-76.4968\"/>\n</g>\n</g>\n</svg>\n"
          },
          "metadata": {
            "tags": []
          },
          "execution_count": 115
        }
      ]
    },
    {
      "cell_type": "markdown",
      "metadata": {
        "id": "HktDa-5P33oy",
        "colab_type": "text"
      },
      "source": [
        "** CD8 for CD8_periphery_intra, Fibrosis for Fibrosis_periphery_percentage\n",
        "\n",
        "1. Pred 0\n",
        "- **CD8 <= 13.5, Fibrosis <= 72.5**\n",
        "- CD8 <= 13.5, Fibrosis > 87.5\n",
        "- 24 < CD8 <= 55.5, 27.5 < Fibrosis \n",
        "\n",
        "2. Pred 1\n",
        "- CD8 <= 13.5, 72.5 < Fibrosis <= 87.5\n",
        "- **CD8 > 13.5, Fibrosis <= 27.5**\n",
        "- 13.5 < CD8 <= 24, Fibrosis > 27.5\n",
        "- 55.5 < CD8, Fibrosis > 27.5"
      ]
    },
    {
      "cell_type": "code",
      "metadata": {
        "id": "biSODsfv3z_B",
        "colab_type": "code",
        "outputId": "4ef87b53-9e11-4b3d-d16f-946115b60c78",
        "colab": {
          "base_uri": "https://localhost:8080/",
          "height": 502
        }
      },
      "source": [
        "df.columns\n",
        "\"\"\"\n",
        "CD68- fibrosis peripheral\n",
        "CD68- fibrosis central\n",
        "CD163- fibrosis peripheral\n",
        "CD163-fibrosis central\n",
        "CD163/CD68- fibrosis peripheral\n",
        "CD163/CD68- fibrosis central\n",
        "CD68-CD163- fibrosis peripheral\n",
        "CD68-CD163- fibrosis central\n",
        "CD8,periphery,intraepithelial - fibrosis periphery\n",
        "CD8,central,intraepithelial- fibrosis central\n",
        "FOXP3/CD8,periphery,intraepitnelial - fibrosis periphery\n",
        "FOXP3/CD8,central,intraepithelial - fibrosis central\n",
        "\"\"\""
      ],
      "execution_count": 0,
      "outputs": [
        {
          "output_type": "execute_result",
          "data": {
            "text/plain": [
              "Index(['순번', '검사번호', 'TMANo.', 'CD68', 'CD163', 'CD163/CD68', 'CD68-CD163',\n",
              "       'FOXP3-periphery_intraepithelial',\n",
              "       'FOXP3/CD8-periphery_intraepithelial', 'FOXP3-periphery_stromaladj',\n",
              "       'FOXP3/CD8-periphery_stromaladj', 'FOXP3-periphery_stromalfar',\n",
              "       'FOXP3/CD8-periphery_stromalfar', 'FOXP3-central_intraepithelial',\n",
              "       'FOXP3/CD8-central_intraepithelial', 'FOXP3-central_stromaladj',\n",
              "       'FOXP3CD8-central_stromaladj', 'FOXP3-central_stromalfar',\n",
              "       'FOXP3CD8-central_stromalfar', 'CD8_periphery_intra',\n",
              "       'CD8_periphery_stromaladj', 'CD8_periphery_stromalfar',\n",
              "       'CD8_central_intra', 'CD8_central_stromaladj', 'CD8_central_stromalfar',\n",
              "       'Immuneperi', 'Fibrosis_periphery_intensity',\n",
              "       'Fibrosis_periphery_percentage', 'Fibrosis_peripheral', 'fibrosisp50',\n",
              "       'fibrosisp150', 'fibrosisp200', 'fibrosisp100', 'Fibrosis_pattern',\n",
              "       'Fibrosis with inflammation_periphery', 'Fibrosis_central_intensity',\n",
              "       'Fibrosis_central_percentage', 'Fibrosis_central', 'fibrosisc50',\n",
              "       'fibrosisc100', 'fibrosis150', 'fibrosis200', 'immunetype',\n",
              "       'Fibrosis_pattern.1', 'Fibrosis with inflammation_central', 'MHC2',\n",
              "       'PD-L1', 'Galectin9', 'VSIG4', 'State', 'Duration (month)', '5-Year',\n",
              "       '5-yearstate', 'Event', 'Event Duration', '5-event', '5-eventstate',\n",
              "       'Location', 'Bormann', 'differentiation', 'Lauren', 'LVI', 'PNI',\n",
              "       'Stage2', 'Sex', 'Age', 'Age2', 'AGEROUP2', 'molecular group'],\n",
              "      dtype='object')"
            ]
          },
          "metadata": {
            "tags": []
          },
          "execution_count": 127
        }
      ]
    },
    {
      "cell_type": "code",
      "metadata": {
        "id": "I9GGJoKu8DnR",
        "colab_type": "code",
        "outputId": "9b5ceb5c-acfa-431a-f8e7-0b29cd77e30a",
        "colab": {
          "base_uri": "https://localhost:8080/",
          "height": 1000
        }
      },
      "source": [
        "## many trees of ['CD68', 'CD163', 'CD163/CD68', ['CD68', 'CD163']] and ['Fibrosis_peripheral', 'Fibrosis_central']\n",
        "trees1 = dict()\n",
        "for i in ['CD68', 'CD163', 'CD163/CD68', ['CD68', 'CD163']]:\n",
        "  for j in ['Fibrosis_peripheral', 'Fibrosis_central']:\n",
        "    if type(i) == list:\n",
        "      cols = i + [j]\n",
        "    else:\n",
        "      cols = [i, j]\n",
        "    print('-'.join(cols))\n",
        "    trees1['-'.join(cols)] = make_works(cols)"
      ],
      "execution_count": 0,
      "outputs": [
        {
          "output_type": "stream",
          "text": [
            "CD68-Fibrosis_peripheral\n",
            "{'AUC': 0.6042354559748427, 'accuracy': 0.6280087527352297, 'precision': 0.6240208877284595, 'recall': 0.9018867924528302, 'f1': 0.7376543209876544, 'mcc': 0.20350651409701673}\n",
            "<lifelines.StatisticalResult>\n",
            "               t_0 = -1\n",
            " null_distribution = chi squared\n",
            "degrees_of_freedom = 1\n",
            "\n",
            "---\n",
            " test_statistic      p  -log2(p)\n",
            "          16.68 <0.005     14.46\n",
            "<lifelines.StatisticalResult: (0, 1)>\n",
            "               t_0 = -1\n",
            " null_distribution = chi squared\n",
            "degrees_of_freedom = 1\n",
            "\n",
            "---\n",
            "     test_statistic      p  -log2(p)\n",
            "0 1           16.68 <0.005     14.46\n",
            "CD68-Fibrosis_central\n",
            "{'AUC': 0.6444673742138366, 'accuracy': 0.5645514223194749, 'precision': 0.7012195121951219, 'recall': 0.4339622641509434, 'f1': 0.5361305361305361, 'mcc': 0.18393882923154392}\n",
            "<lifelines.StatisticalResult>\n",
            "               t_0 = -1\n",
            " null_distribution = chi squared\n",
            "degrees_of_freedom = 1\n",
            "\n",
            "---\n",
            " test_statistic      p  -log2(p)\n",
            "          16.01 <0.005     13.95\n",
            "<lifelines.StatisticalResult: (0, 1)>\n",
            "               t_0 = -1\n",
            " null_distribution = chi squared\n",
            "degrees_of_freedom = 1\n",
            "\n",
            "---\n",
            "     test_statistic      p  -log2(p)\n",
            "0 1           16.01 <0.005     13.95\n",
            "CD163-Fibrosis_peripheral\n",
            "{'AUC': 0.6219044811320755, 'accuracy': 0.6280087527352297, 'precision': 0.6266666666666667, 'recall': 0.8867924528301887, 'f1': 0.734375, 'mcc': 0.20275812054804887}\n",
            "<lifelines.StatisticalResult>\n",
            "               t_0 = -1\n",
            " null_distribution = chi squared\n",
            "degrees_of_freedom = 1\n",
            "\n",
            "---\n",
            " test_statistic      p  -log2(p)\n",
            "          16.64 <0.005     14.43\n",
            "<lifelines.StatisticalResult: (0, 1)>\n",
            "               t_0 = -1\n",
            " null_distribution = chi squared\n",
            "degrees_of_freedom = 1\n",
            "\n",
            "---\n",
            "     test_statistic      p  -log2(p)\n",
            "0 1           16.64 <0.005     14.43\n",
            "CD163-Fibrosis_central\n",
            "{'AUC': 0.6664013364779874, 'accuracy': 0.6345733041575492, 'precision': 0.6644295302013423, 'recall': 0.7471698113207547, 'f1': 0.7033747779751331, 'mcc': 0.23454242476010498}\n",
            "<lifelines.StatisticalResult>\n",
            "               t_0 = -1\n",
            " null_distribution = chi squared\n",
            "degrees_of_freedom = 1\n",
            "\n",
            "---\n",
            " test_statistic      p  -log2(p)\n",
            "          28.18 <0.005     23.11\n",
            "<lifelines.StatisticalResult: (0, 1)>\n",
            "               t_0 = -1\n",
            " null_distribution = chi squared\n",
            "degrees_of_freedom = 1\n",
            "\n",
            "---\n",
            "     test_statistic      p  -log2(p)\n",
            "0 1           28.18 <0.005     23.11\n",
            "CD163/CD68-Fibrosis_peripheral\n",
            "{'AUC': 0.6012578616352201, 'accuracy': 0.562363238512035, 'precision': 0.6540284360189573, 'recall': 0.5207547169811321, 'f1': 0.5798319327731092, 'mcc': 0.1391503956523555}\n",
            "<lifelines.StatisticalResult>\n",
            "               t_0 = -1\n",
            " null_distribution = chi squared\n",
            "degrees_of_freedom = 1\n",
            "\n",
            "---\n",
            " test_statistic      p  -log2(p)\n",
            "          10.28 <0.005      9.54\n",
            "<lifelines.StatisticalResult: (0, 1)>\n",
            "               t_0 = -1\n",
            " null_distribution = chi squared\n",
            "degrees_of_freedom = 1\n",
            "\n",
            "---\n",
            "     test_statistic      p  -log2(p)\n",
            "0 1           10.28 <0.005      9.54\n",
            "CD163/CD68-Fibrosis_central\n",
            "{'AUC': 0.682871462264151, 'accuracy': 0.6542669584245077, 'precision': 0.6877192982456141, 'recall': 0.7396226415094339, 'f1': 0.7127272727272727, 'mcc': 0.2812699769818563}\n",
            "<lifelines.StatisticalResult>\n",
            "               t_0 = -1\n",
            " null_distribution = chi squared\n",
            "degrees_of_freedom = 1\n",
            "\n",
            "---\n",
            " test_statistic      p  -log2(p)\n",
            "          41.14 <0.005     32.72\n",
            "<lifelines.StatisticalResult: (0, 1)>\n",
            "               t_0 = -1\n",
            " null_distribution = chi squared\n",
            "degrees_of_freedom = 1\n",
            "\n",
            "---\n",
            "     test_statistic      p  -log2(p)\n",
            "0 1           41.14 <0.005     32.72\n",
            "CD68-CD163-Fibrosis_peripheral\n",
            "{'AUC': 0.6222877358490567, 'accuracy': 0.6280087527352297, 'precision': 0.6266666666666667, 'recall': 0.8867924528301887, 'f1': 0.734375, 'mcc': 0.20275812054804887}\n",
            "<lifelines.StatisticalResult>\n",
            "               t_0 = -1\n",
            " null_distribution = chi squared\n",
            "degrees_of_freedom = 1\n",
            "\n",
            "---\n",
            " test_statistic      p  -log2(p)\n",
            "          16.64 <0.005     14.43\n",
            "<lifelines.StatisticalResult: (0, 1)>\n",
            "               t_0 = -1\n",
            " null_distribution = chi squared\n",
            "degrees_of_freedom = 1\n",
            "\n",
            "---\n",
            "     test_statistic      p  -log2(p)\n",
            "0 1           16.64 <0.005     14.43\n",
            "CD68-CD163-Fibrosis_central\n",
            "{'AUC': 0.6664013364779874, 'accuracy': 0.6345733041575492, 'precision': 0.6644295302013423, 'recall': 0.7471698113207547, 'f1': 0.7033747779751331, 'mcc': 0.23454242476010498}\n",
            "<lifelines.StatisticalResult>\n",
            "               t_0 = -1\n",
            " null_distribution = chi squared\n",
            "degrees_of_freedom = 1\n",
            "\n",
            "---\n",
            " test_statistic      p  -log2(p)\n",
            "          28.18 <0.005     23.11\n",
            "<lifelines.StatisticalResult: (0, 1)>\n",
            "               t_0 = -1\n",
            " null_distribution = chi squared\n",
            "degrees_of_freedom = 1\n",
            "\n",
            "---\n",
            "     test_statistic      p  -log2(p)\n",
            "0 1           28.18 <0.005     23.11\n"
          ],
          "name": "stdout"
        },
        {
          "output_type": "display_data",
          "data": {
            "image/png": "[encoded data removed]",
            "text/plain": [
              "<Figure size 432x288 with 1 Axes>"
            ]
          },
          "metadata": {
            "tags": []
          }
        },
        {
          "output_type": "display_data",
          "data": {
            "image/png": "[encoded data removed]",
            "text/plain": [
              "<Figure size 432x288 with 1 Axes>"
            ]
          },
          "metadata": {
            "tags": []
          }
        },
        {
          "output_type": "display_data",
          "data": {
            "image/png": "[encoded data removed]",
            "text/plain": [
              "<Figure size 432x288 with 1 Axes>"
            ]
          },
          "metadata": {
            "tags": []
          }
        },
        {
          "output_type": "display_data",
          "data": {
            "image/png": "[encoded data removed]",
            "text/plain": [
              "<Figure size 432x288 with 1 Axes>"
            ]
          },
          "metadata": {
            "tags": []
          }
        },
        {
          "output_type": "display_data",
          "data": {
            "image/png": "[encoded data removed]",
            "text/plain": [
              "<Figure size 432x288 with 1 Axes>"
            ]
          },
          "metadata": {
            "tags": []
          }
        },
        {
          "output_type": "display_data",
          "data": {
            "image/png": "[encoded data removed]",
            "text/plain": [
              "<Figure size 432x288 with 1 Axes>"
            ]
          },
          "metadata": {
            "tags": []
          }
        },
        {
          "output_type": "display_data",
          "data": {
            "image/png": "[encoded data removed]",
            "text/plain": [
              "<Figure size 432x288 with 1 Axes>"
            ]
          },
          "metadata": {
            "tags": []
          }
        },
        {
          "output_type": "display_data",
          "data": {
            "image/png": "[encoded data removed]",
            "text/plain": [
              "<Figure size 432x288 with 1 Axes>"
            ]
          },
          "metadata": {
            "tags": []
          }
        }
      ]
    },
    {
      "cell_type": "code",
      "metadata": {
        "id": "mHTMP7Ho82Mr",
        "colab_type": "code",
        "outputId": "1f0f7944-099a-4ec9-b1b5-d513aba50219",
        "colab": {
          "base_uri": "https://localhost:8080/",
          "height": 677
        }
      },
      "source": [
        "## only pair CD163/CD68-Fibrosis_central scores high performance\n",
        "tree5 = make_works(['CD163/CD68', 'Fibrosis_central'])"
      ],
      "execution_count": 0,
      "outputs": [
        {
          "output_type": "stream",
          "text": [
            "{'AUC': 0.682871462264151, 'accuracy': 0.6542669584245077, 'precision': 0.6877192982456141, 'recall': 0.7396226415094339, 'f1': 0.7127272727272727, 'mcc': 0.2812699769818563}\n",
            "<lifelines.StatisticalResult>\n",
            "               t_0 = -1\n",
            " null_distribution = chi squared\n",
            "degrees_of_freedom = 1\n",
            "\n",
            "---\n",
            " test_statistic      p  -log2(p)\n",
            "          41.14 <0.005     32.72\n",
            "<lifelines.StatisticalResult: (0, 1)>\n",
            "               t_0 = -1\n",
            " null_distribution = chi squared\n",
            "degrees_of_freedom = 1\n",
            "\n",
            "---\n",
            "     test_statistic      p  -log2(p)\n",
            "0 1           41.14 <0.005     32.72\n"
          ],
          "name": "stdout"
        },
        {
          "output_type": "display_data",
          "data": {
            "image/png": "[encoded data removed]",
            "text/plain": [
              "<Figure size 432x288 with 1 Axes>"
            ]
          },
          "metadata": {
            "tags": []
          }
        }
      ]
    },
    {
      "cell_type": "code",
      "metadata": {
        "id": "3Q66ikXk9rdR",
        "colab_type": "code",
        "outputId": "8bca04f3-5a9c-4c71-fa49-873525a593c9",
        "colab": {
          "base_uri": "https://localhost:8080/",
          "height": 854
        }
      },
      "source": [
        "tree5['tree graph']"
      ],
      "execution_count": 0,
      "outputs": [
        {
          "output_type": "execute_result",
          "data": {
            "text/plain": [
              "<graphviz.files.Source at 0x7f052dbe8748>"
            ],
            "image/svg+xml": "<?xml version=\"1.0\" encoding=\"UTF-8\" standalone=\"no\"?>\n<!DOCTYPE svg PUBLIC \"-//W3C//DTD SVG 1.1//EN\"\n \"http://www.w3.org/Graphics/SVG/1.1/DTD/svg11.dtd\">\n<!-- Generated by graphviz version 2.40.1 (20161225.0304)\n -->\n<!-- Title: Tree Pages: 1 -->\n<svg width=\"2195pt\" height=\"552pt\"\n viewBox=\"0.00 0.00 2194.50 552.00\" xmlns=\"http://www.w3.org/2000/svg\" xmlns:xlink=\"http://www.w3.org/1999/xlink\">\n<g id=\"graph0\" class=\"graph\" transform=\"scale(1 1) rotate(0) translate(4 548)\">\n<title>Tree</title>\n<polygon fill=\"#ffffff\" stroke=\"transparent\" points=\"-4,4 -4,-548 2190.5,-548 2190.5,4 -4,4\"/>\n<!-- 0 -->\n<g id=\"node1\" class=\"node\">\n<title>0</title>\n<path fill=\"#ffffff\" stroke=\"#000000\" d=\"M871.5,-544C871.5,-544 732.5,-544 732.5,-544 726.5,-544 720.5,-538 720.5,-532 720.5,-532 720.5,-473 720.5,-473 720.5,-467 726.5,-461 732.5,-461 732.5,-461 871.5,-461 871.5,-461 877.5,-461 883.5,-467 883.5,-473 883.5,-473 883.5,-532 883.5,-532 883.5,-538 877.5,-544 871.5,-544\"/>\n<text text-anchor=\"start\" x=\"728.5\" y=\"-528.8\" font-family=\"Helvetica,sans-Serif\" font-size=\"14.00\" fill=\"#000000\">Fibrosis_central ≤ 32.5</text>\n<text text-anchor=\"start\" x=\"772.5\" y=\"-513.8\" font-family=\"Helvetica,sans-Serif\" font-size=\"14.00\" fill=\"#000000\">gini = 0.5</text>\n<text text-anchor=\"start\" x=\"754\" y=\"-498.8\" font-family=\"Helvetica,sans-Serif\" font-size=\"14.00\" fill=\"#000000\">samples = 457</text>\n<text text-anchor=\"start\" x=\"732\" y=\"-483.8\" font-family=\"Helvetica,sans-Serif\" font-size=\"14.00\" fill=\"#000000\">value = [228.5, 228.5]</text>\n<text text-anchor=\"start\" x=\"773\" y=\"-468.8\" font-family=\"Helvetica,sans-Serif\" font-size=\"14.00\" fill=\"#000000\">class = 1</text>\n</g>\n<!-- 1 -->\n<g id=\"node2\" class=\"node\">\n<title>1</title>\n<path fill=\"#cbe5f8\" stroke=\"#000000\" d=\"M611.5,-425C611.5,-425 462.5,-425 462.5,-425 456.5,-425 450.5,-419 450.5,-413 450.5,-413 450.5,-354 450.5,-354 450.5,-348 456.5,-342 462.5,-342 462.5,-342 611.5,-342 611.5,-342 617.5,-342 623.5,-348 623.5,-354 623.5,-354 623.5,-413 623.5,-413 623.5,-419 617.5,-425 611.5,-425\"/>\n<text text-anchor=\"start\" x=\"463.5\" y=\"-409.8\" font-family=\"Helvetica,sans-Serif\" font-size=\"14.00\" fill=\"#000000\">Fibrosis_central ≤ 12.5</text>\n<text text-anchor=\"start\" x=\"499\" y=\"-394.8\" font-family=\"Helvetica,sans-Serif\" font-size=\"14.00\" fill=\"#000000\">gini = 0.488</text>\n<text text-anchor=\"start\" x=\"489\" y=\"-379.8\" font-family=\"Helvetica,sans-Serif\" font-size=\"14.00\" fill=\"#000000\">samples = 141</text>\n<text text-anchor=\"start\" x=\"458.5\" y=\"-364.8\" font-family=\"Helvetica,sans-Serif\" font-size=\"14.00\" fill=\"#000000\">value = [58.315, 79.328]</text>\n<text text-anchor=\"start\" x=\"508\" y=\"-349.8\" font-family=\"Helvetica,sans-Serif\" font-size=\"14.00\" fill=\"#000000\">class = 1</text>\n</g>\n<!-- 0&#45;&gt;1 -->\n<g id=\"edge1\" class=\"edge\">\n<title>0&#45;&gt;1</title>\n<path fill=\"none\" stroke=\"#000000\" d=\"M720.3289,-465.8251C692.7466,-453.439 661.7006,-439.4976 633.106,-426.657\"/>\n<polygon fill=\"#000000\" stroke=\"#000000\" points=\"634.4719,-423.4338 623.9157,-422.5301 631.6043,-429.8195 634.4719,-423.4338\"/>\n<text text-anchor=\"middle\" x=\"632.8004\" y=\"-442.198\" font-family=\"Helvetica,sans-Serif\" font-size=\"14.00\" fill=\"#000000\">True</text>\n</g>\n<!-- 12 -->\n<g id=\"node13\" class=\"node\">\n<title>12</title>\n<path fill=\"#fcefe7\" stroke=\"#000000\" d=\"M1156.5,-425C1156.5,-425 991.5,-425 991.5,-425 985.5,-425 979.5,-419 979.5,-413 979.5,-413 979.5,-354 979.5,-354 979.5,-348 985.5,-342 991.5,-342 991.5,-342 1156.5,-342 1156.5,-342 1162.5,-342 1168.5,-348 1168.5,-354 1168.5,-354 1168.5,-413 1168.5,-413 1168.5,-419 1162.5,-425 1156.5,-425\"/>\n<text text-anchor=\"start\" x=\"996.5\" y=\"-409.8\" font-family=\"Helvetica,sans-Serif\" font-size=\"14.00\" fill=\"#000000\">Fibrosis_central ≤ 102.5</text>\n<text text-anchor=\"start\" x=\"1036\" y=\"-394.8\" font-family=\"Helvetica,sans-Serif\" font-size=\"14.00\" fill=\"#000000\">gini = 0.498</text>\n<text text-anchor=\"start\" x=\"1026\" y=\"-379.8\" font-family=\"Helvetica,sans-Serif\" font-size=\"14.00\" fill=\"#000000\">samples = 316</text>\n<text text-anchor=\"start\" x=\"987.5\" y=\"-364.8\" font-family=\"Helvetica,sans-Serif\" font-size=\"14.00\" fill=\"#000000\">value = [170.185, 149.172]</text>\n<text text-anchor=\"start\" x=\"1045\" y=\"-349.8\" font-family=\"Helvetica,sans-Serif\" font-size=\"14.00\" fill=\"#000000\">class = 0</text>\n</g>\n<!-- 0&#45;&gt;12 -->\n<g id=\"edge12\" class=\"edge\">\n<title>0&#45;&gt;12</title>\n<path fill=\"none\" stroke=\"#000000\" d=\"M883.609,-466.7961C910.7197,-454.9352 941.2828,-441.5638 969.8577,-429.0622\"/>\n<polygon fill=\"#000000\" stroke=\"#000000\" points=\"971.2999,-432.2517 979.0586,-425.0369 968.4941,-425.8386 971.2999,-432.2517\"/>\n<text text-anchor=\"middle\" x=\"969.9486\" y=\"-444.6179\" font-family=\"Helvetica,sans-Serif\" font-size=\"14.00\" fill=\"#000000\">False</text>\n</g>\n<!-- 2 -->\n<g id=\"node3\" class=\"node\">\n<title>2</title>\n<path fill=\"#fbede3\" stroke=\"#000000\" d=\"M335.5,-306C335.5,-306 186.5,-306 186.5,-306 180.5,-306 174.5,-300 174.5,-294 174.5,-294 174.5,-235 174.5,-235 174.5,-229 180.5,-223 186.5,-223 186.5,-223 335.5,-223 335.5,-223 341.5,-223 347.5,-229 347.5,-235 347.5,-235 347.5,-294 347.5,-294 347.5,-300 341.5,-306 335.5,-306\"/>\n<text text-anchor=\"start\" x=\"191.5\" y=\"-290.8\" font-family=\"Helvetica,sans-Serif\" font-size=\"14.00\" fill=\"#000000\">CD163/CD68 ≤ 0.413</text>\n<text text-anchor=\"start\" x=\"223\" y=\"-275.8\" font-family=\"Helvetica,sans-Serif\" font-size=\"14.00\" fill=\"#000000\">gini = 0.497</text>\n<text text-anchor=\"start\" x=\"217\" y=\"-260.8\" font-family=\"Helvetica,sans-Serif\" font-size=\"14.00\" fill=\"#000000\">samples = 59</text>\n<text text-anchor=\"start\" x=\"182.5\" y=\"-245.8\" font-family=\"Helvetica,sans-Serif\" font-size=\"14.00\" fill=\"#000000\">value = [32.133, 27.592]</text>\n<text text-anchor=\"start\" x=\"232\" y=\"-230.8\" font-family=\"Helvetica,sans-Serif\" font-size=\"14.00\" fill=\"#000000\">class = 0</text>\n</g>\n<!-- 1&#45;&gt;2 -->\n<g id=\"edge2\" class=\"edge\">\n<title>1&#45;&gt;2</title>\n<path fill=\"none\" stroke=\"#000000\" d=\"M450.4291,-346.1742C420.7726,-333.3874 387.4181,-319.0064 357.0568,-305.9158\"/>\n<polygon fill=\"#000000\" stroke=\"#000000\" points=\"358.3064,-302.6432 347.7379,-301.8978 355.5349,-309.0712 358.3064,-302.6432\"/>\n</g>\n<!-- 7 -->\n<g id=\"node8\" class=\"node\">\n<title>7</title>\n<path fill=\"#9dcff2\" stroke=\"#000000\" d=\"M611.5,-306C611.5,-306 462.5,-306 462.5,-306 456.5,-306 450.5,-300 450.5,-294 450.5,-294 450.5,-235 450.5,-235 450.5,-229 456.5,-223 462.5,-223 462.5,-223 611.5,-223 611.5,-223 617.5,-223 623.5,-229 623.5,-235 623.5,-235 623.5,-294 623.5,-294 623.5,-300 617.5,-306 611.5,-306\"/>\n<text text-anchor=\"start\" x=\"467.5\" y=\"-290.8\" font-family=\"Helvetica,sans-Serif\" font-size=\"14.00\" fill=\"#000000\">CD163/CD68 ≤ 1.024</text>\n<text text-anchor=\"start\" x=\"499\" y=\"-275.8\" font-family=\"Helvetica,sans-Serif\" font-size=\"14.00\" fill=\"#000000\">gini = 0.446</text>\n<text text-anchor=\"start\" x=\"493\" y=\"-260.8\" font-family=\"Helvetica,sans-Serif\" font-size=\"14.00\" fill=\"#000000\">samples = 82</text>\n<text text-anchor=\"start\" x=\"458.5\" y=\"-245.8\" font-family=\"Helvetica,sans-Serif\" font-size=\"14.00\" fill=\"#000000\">value = [26.182, 51.736]</text>\n<text text-anchor=\"start\" x=\"508\" y=\"-230.8\" font-family=\"Helvetica,sans-Serif\" font-size=\"14.00\" fill=\"#000000\">class = 1</text>\n</g>\n<!-- 1&#45;&gt;7 -->\n<g id=\"edge7\" class=\"edge\">\n<title>1&#45;&gt;7</title>\n<path fill=\"none\" stroke=\"#000000\" d=\"M537,-341.8796C537,-333.6838 537,-324.9891 537,-316.5013\"/>\n<polygon fill=\"#000000\" stroke=\"#000000\" points=\"540.5001,-316.298 537,-306.2981 533.5001,-316.2981 540.5001,-316.298\"/>\n</g>\n<!-- 3 -->\n<g id=\"node4\" class=\"node\">\n<title>3</title>\n<path fill=\"#f3c5a5\" stroke=\"#000000\" d=\"M144,-179.5C144,-179.5 12,-179.5 12,-179.5 6,-179.5 0,-173.5 0,-167.5 0,-167.5 0,-123.5 0,-123.5 0,-117.5 6,-111.5 12,-111.5 12,-111.5 144,-111.5 144,-111.5 150,-111.5 156,-117.5 156,-123.5 156,-123.5 156,-167.5 156,-167.5 156,-173.5 150,-179.5 144,-179.5\"/>\n<text text-anchor=\"start\" x=\"40\" y=\"-164.3\" font-family=\"Helvetica,sans-Serif\" font-size=\"14.00\" fill=\"#000000\">gini = 0.456</text>\n<text text-anchor=\"start\" x=\"34\" y=\"-149.3\" font-family=\"Helvetica,sans-Serif\" font-size=\"14.00\" fill=\"#000000\">samples = 14</text>\n<text text-anchor=\"start\" x=\"8\" y=\"-134.3\" font-family=\"Helvetica,sans-Serif\" font-size=\"14.00\" fill=\"#000000\">value = [9.521, 5.174]</text>\n<text text-anchor=\"start\" x=\"49\" y=\"-119.3\" font-family=\"Helvetica,sans-Serif\" font-size=\"14.00\" fill=\"#000000\">class = 0</text>\n</g>\n<!-- 2&#45;&gt;3 -->\n<g id=\"edge3\" class=\"edge\">\n<title>2&#45;&gt;3</title>\n<path fill=\"none\" stroke=\"#000000\" d=\"M196.9955,-222.8796C178.1361,-210.6158 157.5586,-197.2348 138.8998,-185.1015\"/>\n<polygon fill=\"#000000\" stroke=\"#000000\" points=\"140.7664,-182.1404 130.4749,-179.623 136.9503,-188.0088 140.7664,-182.1404\"/>\n</g>\n<!-- 4 -->\n<g id=\"node5\" class=\"node\">\n<title>4</title>\n<path fill=\"#fffefd\" stroke=\"#000000\" d=\"M335.5,-187C335.5,-187 186.5,-187 186.5,-187 180.5,-187 174.5,-181 174.5,-175 174.5,-175 174.5,-116 174.5,-116 174.5,-110 180.5,-104 186.5,-104 186.5,-104 335.5,-104 335.5,-104 341.5,-104 347.5,-110 347.5,-116 347.5,-116 347.5,-175 347.5,-175 347.5,-181 341.5,-187 335.5,-187\"/>\n<text text-anchor=\"start\" x=\"191.5\" y=\"-171.8\" font-family=\"Helvetica,sans-Serif\" font-size=\"14.00\" fill=\"#000000\">Fibrosis_central ≤ 5.5</text>\n<text text-anchor=\"start\" x=\"231.5\" y=\"-156.8\" font-family=\"Helvetica,sans-Serif\" font-size=\"14.00\" fill=\"#000000\">gini = 0.5</text>\n<text text-anchor=\"start\" x=\"217\" y=\"-141.8\" font-family=\"Helvetica,sans-Serif\" font-size=\"14.00\" fill=\"#000000\">samples = 45</text>\n<text text-anchor=\"start\" x=\"182.5\" y=\"-126.8\" font-family=\"Helvetica,sans-Serif\" font-size=\"14.00\" fill=\"#000000\">value = [22.612, 22.419]</text>\n<text text-anchor=\"start\" x=\"232\" y=\"-111.8\" font-family=\"Helvetica,sans-Serif\" font-size=\"14.00\" fill=\"#000000\">class = 0</text>\n</g>\n<!-- 2&#45;&gt;4 -->\n<g id=\"edge4\" class=\"edge\">\n<title>2&#45;&gt;4</title>\n<path fill=\"none\" stroke=\"#000000\" d=\"M261,-222.8796C261,-214.6838 261,-205.9891 261,-197.5013\"/>\n<polygon fill=\"#000000\" stroke=\"#000000\" points=\"264.5001,-197.298 261,-187.2981 257.5001,-197.2981 264.5001,-197.298\"/>\n</g>\n<!-- 5 -->\n<g id=\"node6\" class=\"node\">\n<title>5</title>\n<path fill=\"#f2be99\" stroke=\"#000000\" d=\"M149,-68C149,-68 17,-68 17,-68 11,-68 5,-62 5,-56 5,-56 5,-12 5,-12 5,-6 11,0 17,0 17,0 149,0 149,0 155,0 161,-6 161,-12 161,-12 161,-56 161,-56 161,-62 155,-68 149,-68\"/>\n<text text-anchor=\"start\" x=\"45\" y=\"-52.8\" font-family=\"Helvetica,sans-Serif\" font-size=\"14.00\" fill=\"#000000\">gini = 0.439</text>\n<text text-anchor=\"start\" x=\"39\" y=\"-37.8\" font-family=\"Helvetica,sans-Serif\" font-size=\"14.00\" fill=\"#000000\">samples = 10</text>\n<text text-anchor=\"start\" x=\"13\" y=\"-22.8\" font-family=\"Helvetica,sans-Serif\" font-size=\"14.00\" fill=\"#000000\">value = [7.141, 3.449]</text>\n<text text-anchor=\"start\" x=\"54\" y=\"-7.8\" font-family=\"Helvetica,sans-Serif\" font-size=\"14.00\" fill=\"#000000\">class = 0</text>\n</g>\n<!-- 4&#45;&gt;5 -->\n<g id=\"edge5\" class=\"edge\">\n<title>4&#45;&gt;5</title>\n<path fill=\"none\" stroke=\"#000000\" d=\"M194.7194,-103.9815C178.7901,-94.0034 161.8202,-83.3733 146.043,-73.4904\"/>\n<polygon fill=\"#000000\" stroke=\"#000000\" points=\"147.7474,-70.4281 137.4147,-68.0856 144.0314,-76.3603 147.7474,-70.4281\"/>\n</g>\n<!-- 6 -->\n<g id=\"node7\" class=\"node\">\n<title>6</title>\n<path fill=\"#daedfa\" stroke=\"#000000\" d=\"M331,-68C331,-68 191,-68 191,-68 185,-68 179,-62 179,-56 179,-56 179,-12 179,-12 179,-6 185,0 191,0 191,0 331,0 331,0 337,0 343,-6 343,-12 343,-12 343,-56 343,-56 343,-62 337,-68 331,-68\"/>\n<text text-anchor=\"start\" x=\"223\" y=\"-52.8\" font-family=\"Helvetica,sans-Serif\" font-size=\"14.00\" fill=\"#000000\">gini = 0.495</text>\n<text text-anchor=\"start\" x=\"217\" y=\"-37.8\" font-family=\"Helvetica,sans-Serif\" font-size=\"14.00\" fill=\"#000000\">samples = 35</text>\n<text text-anchor=\"start\" x=\"187\" y=\"-22.8\" font-family=\"Helvetica,sans-Serif\" font-size=\"14.00\" fill=\"#000000\">value = [15.471, 18.97]</text>\n<text text-anchor=\"start\" x=\"232\" y=\"-7.8\" font-family=\"Helvetica,sans-Serif\" font-size=\"14.00\" fill=\"#000000\">class = 1</text>\n</g>\n<!-- 4&#45;&gt;6 -->\n<g id=\"edge6\" class=\"edge\">\n<title>4&#45;&gt;6</title>\n<path fill=\"none\" stroke=\"#000000\" d=\"M261,-103.9815C261,-95.618 261,-86.7965 261,-78.3409\"/>\n<polygon fill=\"#000000\" stroke=\"#000000\" points=\"264.5001,-78.2636 261,-68.2637 257.5001,-78.2637 264.5001,-78.2636\"/>\n</g>\n<!-- 8 -->\n<g id=\"node9\" class=\"node\">\n<title>8</title>\n<path fill=\"#b5daf5\" stroke=\"#000000\" d=\"M563,-187C563,-187 423,-187 423,-187 417,-187 411,-181 411,-175 411,-175 411,-116 411,-116 411,-110 417,-104 423,-104 423,-104 563,-104 563,-104 569,-104 575,-110 575,-116 575,-116 575,-175 575,-175 575,-181 569,-187 563,-187\"/>\n<text text-anchor=\"start\" x=\"427.5\" y=\"-171.8\" font-family=\"Helvetica,sans-Serif\" font-size=\"14.00\" fill=\"#000000\">CD163/CD68 ≤ 0.33</text>\n<text text-anchor=\"start\" x=\"455\" y=\"-156.8\" font-family=\"Helvetica,sans-Serif\" font-size=\"14.00\" fill=\"#000000\">gini = 0.474</text>\n<text text-anchor=\"start\" x=\"449\" y=\"-141.8\" font-family=\"Helvetica,sans-Serif\" font-size=\"14.00\" fill=\"#000000\">samples = 64</text>\n<text text-anchor=\"start\" x=\"419\" y=\"-126.8\" font-family=\"Helvetica,sans-Serif\" font-size=\"14.00\" fill=\"#000000\">value = [23.802, 37.94]</text>\n<text text-anchor=\"start\" x=\"464\" y=\"-111.8\" font-family=\"Helvetica,sans-Serif\" font-size=\"14.00\" fill=\"#000000\">class = 1</text>\n</g>\n<!-- 7&#45;&gt;8 -->\n<g id=\"edge8\" class=\"edge\">\n<title>7&#45;&gt;8</title>\n<path fill=\"none\" stroke=\"#000000\" d=\"M521.6109,-222.8796C518.514,-214.5037 515.2243,-205.6067 512.0206,-196.942\"/>\n<polygon fill=\"#000000\" stroke=\"#000000\" points=\"515.2056,-195.4636 508.4547,-187.2981 508.64,-197.8913 515.2056,-195.4636\"/>\n</g>\n<!-- 11 -->\n<g id=\"node12\" class=\"node\">\n<title>11</title>\n<path fill=\"#5baee9\" stroke=\"#000000\" d=\"M737,-179.5C737,-179.5 605,-179.5 605,-179.5 599,-179.5 593,-173.5 593,-167.5 593,-167.5 593,-123.5 593,-123.5 593,-117.5 599,-111.5 605,-111.5 605,-111.5 737,-111.5 737,-111.5 743,-111.5 749,-117.5 749,-123.5 749,-123.5 749,-167.5 749,-167.5 749,-173.5 743,-179.5 737,-179.5\"/>\n<text text-anchor=\"start\" x=\"633\" y=\"-164.3\" font-family=\"Helvetica,sans-Serif\" font-size=\"14.00\" fill=\"#000000\">gini = 0.251</text>\n<text text-anchor=\"start\" x=\"627\" y=\"-149.3\" font-family=\"Helvetica,sans-Serif\" font-size=\"14.00\" fill=\"#000000\">samples = 18</text>\n<text text-anchor=\"start\" x=\"601\" y=\"-134.3\" font-family=\"Helvetica,sans-Serif\" font-size=\"14.00\" fill=\"#000000\">value = [2.38, 13.796]</text>\n<text text-anchor=\"start\" x=\"642\" y=\"-119.3\" font-family=\"Helvetica,sans-Serif\" font-size=\"14.00\" fill=\"#000000\">class = 1</text>\n</g>\n<!-- 7&#45;&gt;11 -->\n<g id=\"edge11\" class=\"edge\">\n<title>7&#45;&gt;11</title>\n<path fill=\"none\" stroke=\"#000000\" d=\"M583.8667,-222.8796C597.1156,-211.1138 611.5224,-198.3197 624.7356,-186.5855\"/>\n<polygon fill=\"#000000\" stroke=\"#000000\" points=\"627.2065,-189.0722 632.3597,-179.8149 622.5584,-183.8381 627.2065,-189.0722\"/>\n</g>\n<!-- 9 -->\n<g id=\"node10\" class=\"node\">\n<title>9</title>\n<path fill=\"#7dbfee\" stroke=\"#000000\" d=\"M505,-68C505,-68 373,-68 373,-68 367,-68 361,-62 361,-56 361,-56 361,-12 361,-12 361,-6 367,0 373,0 373,0 505,0 505,0 511,0 517,-6 517,-12 517,-12 517,-56 517,-56 517,-62 511,-68 505,-68\"/>\n<text text-anchor=\"start\" x=\"401\" y=\"-52.8\" font-family=\"Helvetica,sans-Serif\" font-size=\"14.00\" fill=\"#000000\">gini = 0.381</text>\n<text text-anchor=\"start\" x=\"395\" y=\"-37.8\" font-family=\"Helvetica,sans-Serif\" font-size=\"14.00\" fill=\"#000000\">samples = 15</text>\n<text text-anchor=\"start\" x=\"369\" y=\"-22.8\" font-family=\"Helvetica,sans-Serif\" font-size=\"14.00\" fill=\"#000000\">value = [3.57, 10.347]</text>\n<text text-anchor=\"start\" x=\"410\" y=\"-7.8\" font-family=\"Helvetica,sans-Serif\" font-size=\"14.00\" fill=\"#000000\">class = 1</text>\n</g>\n<!-- 8&#45;&gt;9 -->\n<g id=\"edge9\" class=\"edge\">\n<title>8&#45;&gt;9</title>\n<path fill=\"none\" stroke=\"#000000\" d=\"M472.8924,-103.9815C468.7084,-95.3423 464.2877,-86.2144 460.0701,-77.5059\"/>\n<polygon fill=\"#000000\" stroke=\"#000000\" points=\"463.1029,-75.7382 455.5941,-68.2637 456.8029,-78.7893 463.1029,-75.7382\"/>\n</g>\n<!-- 10 -->\n<g id=\"node11\" class=\"node\">\n<title>10</title>\n<path fill=\"#cae5f8\" stroke=\"#000000\" d=\"M696.5,-68C696.5,-68 547.5,-68 547.5,-68 541.5,-68 535.5,-62 535.5,-56 535.5,-56 535.5,-12 535.5,-12 535.5,-6 541.5,0 547.5,0 547.5,0 696.5,0 696.5,0 702.5,0 708.5,-6 708.5,-12 708.5,-12 708.5,-56 708.5,-56 708.5,-62 702.5,-68 696.5,-68\"/>\n<text text-anchor=\"start\" x=\"584\" y=\"-52.8\" font-family=\"Helvetica,sans-Serif\" font-size=\"14.00\" fill=\"#000000\">gini = 0.488</text>\n<text text-anchor=\"start\" x=\"578\" y=\"-37.8\" font-family=\"Helvetica,sans-Serif\" font-size=\"14.00\" fill=\"#000000\">samples = 49</text>\n<text text-anchor=\"start\" x=\"543.5\" y=\"-22.8\" font-family=\"Helvetica,sans-Serif\" font-size=\"14.00\" fill=\"#000000\">value = [20.232, 27.592]</text>\n<text text-anchor=\"start\" x=\"593\" y=\"-7.8\" font-family=\"Helvetica,sans-Serif\" font-size=\"14.00\" fill=\"#000000\">class = 1</text>\n</g>\n<!-- 8&#45;&gt;10 -->\n<g id=\"edge10\" class=\"edge\">\n<title>8&#45;&gt;10</title>\n<path fill=\"none\" stroke=\"#000000\" d=\"M541.0348,-103.9815C551.987,-94.5151 563.6179,-84.462 574.5456,-75.0168\"/>\n<polygon fill=\"#000000\" stroke=\"#000000\" points=\"577.0818,-77.4509 582.3586,-68.2637 572.5043,-72.155 577.0818,-77.4509\"/>\n</g>\n<!-- 13 -->\n<g id=\"node14\" class=\"node\">\n<title>13</title>\n<path fill=\"#f4caac\" stroke=\"#000000\" d=\"M1148.5,-306C1148.5,-306 999.5,-306 999.5,-306 993.5,-306 987.5,-300 987.5,-294 987.5,-294 987.5,-235 987.5,-235 987.5,-229 993.5,-223 999.5,-223 999.5,-223 1148.5,-223 1148.5,-223 1154.5,-223 1160.5,-229 1160.5,-235 1160.5,-235 1160.5,-294 1160.5,-294 1160.5,-300 1154.5,-306 1148.5,-306\"/>\n<text text-anchor=\"start\" x=\"1000.5\" y=\"-290.8\" font-family=\"Helvetica,sans-Serif\" font-size=\"14.00\" fill=\"#000000\">Fibrosis_central ≤ 72.5</text>\n<text text-anchor=\"start\" x=\"1036\" y=\"-275.8\" font-family=\"Helvetica,sans-Serif\" font-size=\"14.00\" fill=\"#000000\">gini = 0.465</text>\n<text text-anchor=\"start\" x=\"1026\" y=\"-260.8\" font-family=\"Helvetica,sans-Serif\" font-size=\"14.00\" fill=\"#000000\">samples = 108</text>\n<text text-anchor=\"start\" x=\"995.5\" y=\"-245.8\" font-family=\"Helvetica,sans-Serif\" font-size=\"14.00\" fill=\"#000000\">value = [71.406, 41.389]</text>\n<text text-anchor=\"start\" x=\"1045\" y=\"-230.8\" font-family=\"Helvetica,sans-Serif\" font-size=\"14.00\" fill=\"#000000\">class = 0</text>\n</g>\n<!-- 12&#45;&gt;13 -->\n<g id=\"edge13\" class=\"edge\">\n<title>12&#45;&gt;13</title>\n<path fill=\"none\" stroke=\"#000000\" d=\"M1074,-341.8796C1074,-333.6838 1074,-324.9891 1074,-316.5013\"/>\n<polygon fill=\"#000000\" stroke=\"#000000\" points=\"1077.5001,-316.298 1074,-306.2981 1070.5001,-316.2981 1077.5001,-316.298\"/>\n</g>\n<!-- 20 -->\n<g id=\"node21\" class=\"node\">\n<title>20</title>\n<path fill=\"#eef7fd\" stroke=\"#000000\" d=\"M1714.5,-306C1714.5,-306 1557.5,-306 1557.5,-306 1551.5,-306 1545.5,-300 1545.5,-294 1545.5,-294 1545.5,-235 1545.5,-235 1545.5,-229 1551.5,-223 1557.5,-223 1557.5,-223 1714.5,-223 1714.5,-223 1720.5,-223 1726.5,-229 1726.5,-235 1726.5,-235 1726.5,-294 1726.5,-294 1726.5,-300 1720.5,-306 1714.5,-306\"/>\n<text text-anchor=\"start\" x=\"1566.5\" y=\"-290.8\" font-family=\"Helvetica,sans-Serif\" font-size=\"14.00\" fill=\"#000000\">CD163/CD68 ≤ 1.036</text>\n<text text-anchor=\"start\" x=\"1598\" y=\"-275.8\" font-family=\"Helvetica,sans-Serif\" font-size=\"14.00\" fill=\"#000000\">gini = 0.499</text>\n<text text-anchor=\"start\" x=\"1588\" y=\"-260.8\" font-family=\"Helvetica,sans-Serif\" font-size=\"14.00\" fill=\"#000000\">samples = 208</text>\n<text text-anchor=\"start\" x=\"1553.5\" y=\"-245.8\" font-family=\"Helvetica,sans-Serif\" font-size=\"14.00\" fill=\"#000000\">value = [98.779, 107.783]</text>\n<text text-anchor=\"start\" x=\"1607\" y=\"-230.8\" font-family=\"Helvetica,sans-Serif\" font-size=\"14.00\" fill=\"#000000\">class = 1</text>\n</g>\n<!-- 12&#45;&gt;20 -->\n<g id=\"edge20\" class=\"edge\">\n<title>12&#45;&gt;20</title>\n<path fill=\"none\" stroke=\"#000000\" d=\"M1168.7001,-363.4478C1270.3727,-341.9193 1431.2686,-307.8506 1535.2277,-285.8379\"/>\n<polygon fill=\"#000000\" stroke=\"#000000\" points=\"1536.0486,-289.2418 1545.1066,-283.7461 1534.5985,-282.3936 1536.0486,-289.2418\"/>\n</g>\n<!-- 14 -->\n<g id=\"node15\" class=\"node\">\n<title>14</title>\n<path fill=\"#fae6d8\" stroke=\"#000000\" d=\"M1051,-187C1051,-187 911,-187 911,-187 905,-187 899,-181 899,-175 899,-175 899,-116 899,-116 899,-110 905,-104 911,-104 911,-104 1051,-104 1051,-104 1057,-104 1063,-110 1063,-116 1063,-116 1063,-175 1063,-175 1063,-181 1057,-187 1051,-187\"/>\n<text text-anchor=\"start\" x=\"911.5\" y=\"-171.8\" font-family=\"Helvetica,sans-Serif\" font-size=\"14.00\" fill=\"#000000\">CD163/CD68 ≤ 0.596</text>\n<text text-anchor=\"start\" x=\"943\" y=\"-156.8\" font-family=\"Helvetica,sans-Serif\" font-size=\"14.00\" fill=\"#000000\">gini = 0.494</text>\n<text text-anchor=\"start\" x=\"937\" y=\"-141.8\" font-family=\"Helvetica,sans-Serif\" font-size=\"14.00\" fill=\"#000000\">samples = 59</text>\n<text text-anchor=\"start\" x=\"907\" y=\"-126.8\" font-family=\"Helvetica,sans-Serif\" font-size=\"14.00\" fill=\"#000000\">value = [33.323, 26.73]</text>\n<text text-anchor=\"start\" x=\"952\" y=\"-111.8\" font-family=\"Helvetica,sans-Serif\" font-size=\"14.00\" fill=\"#000000\">class = 0</text>\n</g>\n<!-- 13&#45;&gt;14 -->\n<g id=\"edge14\" class=\"edge\">\n<title>13&#45;&gt;14</title>\n<path fill=\"none\" stroke=\"#000000\" d=\"M1041.4731,-222.8796C1034.5049,-213.9633 1027.0753,-204.4565 1019.8944,-195.268\"/>\n<polygon fill=\"#000000\" stroke=\"#000000\" points=\"1022.5812,-193.0221 1013.6657,-187.2981 1017.0657,-197.3326 1022.5812,-193.0221\"/>\n</g>\n<!-- 17 -->\n<g id=\"node18\" class=\"node\">\n<title>17</title>\n<path fill=\"#efb185\" stroke=\"#000000\" d=\"M1242.5,-187C1242.5,-187 1093.5,-187 1093.5,-187 1087.5,-187 1081.5,-181 1081.5,-175 1081.5,-175 1081.5,-116 1081.5,-116 1081.5,-110 1087.5,-104 1093.5,-104 1093.5,-104 1242.5,-104 1242.5,-104 1248.5,-104 1254.5,-110 1254.5,-116 1254.5,-116 1254.5,-175 1254.5,-175 1254.5,-181 1248.5,-187 1242.5,-187\"/>\n<text text-anchor=\"start\" x=\"1094.5\" y=\"-171.8\" font-family=\"Helvetica,sans-Serif\" font-size=\"14.00\" fill=\"#000000\">Fibrosis_central ≤ 85.0</text>\n<text text-anchor=\"start\" x=\"1130\" y=\"-156.8\" font-family=\"Helvetica,sans-Serif\" font-size=\"14.00\" fill=\"#000000\">gini = 0.401</text>\n<text text-anchor=\"start\" x=\"1124\" y=\"-141.8\" font-family=\"Helvetica,sans-Serif\" font-size=\"14.00\" fill=\"#000000\">samples = 49</text>\n<text text-anchor=\"start\" x=\"1089.5\" y=\"-126.8\" font-family=\"Helvetica,sans-Serif\" font-size=\"14.00\" fill=\"#000000\">value = [38.083, 14.658]</text>\n<text text-anchor=\"start\" x=\"1139\" y=\"-111.8\" font-family=\"Helvetica,sans-Serif\" font-size=\"14.00\" fill=\"#000000\">class = 0</text>\n</g>\n<!-- 13&#45;&gt;17 -->\n<g id=\"edge17\" class=\"edge\">\n<title>13&#45;&gt;17</title>\n<path fill=\"none\" stroke=\"#000000\" d=\"M1106.8766,-222.8796C1113.9197,-213.9633 1121.4293,-204.4565 1128.6874,-195.268\"/>\n<polygon fill=\"#000000\" stroke=\"#000000\" points=\"1131.5309,-197.3147 1134.983,-187.2981 1126.0379,-192.9757 1131.5309,-197.3147\"/>\n</g>\n<!-- 15 -->\n<g id=\"node16\" class=\"node\">\n<title>15</title>\n<path fill=\"#eeaf81\" stroke=\"#000000\" d=\"M871,-68C871,-68 739,-68 739,-68 733,-68 727,-62 727,-56 727,-56 727,-12 727,-12 727,-6 733,0 739,0 739,0 871,0 871,0 877,0 883,-6 883,-12 883,-12 883,-56 883,-56 883,-62 877,-68 871,-68\"/>\n<text text-anchor=\"start\" x=\"771.5\" y=\"-52.8\" font-family=\"Helvetica,sans-Serif\" font-size=\"14.00\" fill=\"#000000\">gini = 0.39</text>\n<text text-anchor=\"start\" x=\"761\" y=\"-37.8\" font-family=\"Helvetica,sans-Serif\" font-size=\"14.00\" fill=\"#000000\">samples = 27</text>\n<text text-anchor=\"start\" x=\"735\" y=\"-22.8\" font-family=\"Helvetica,sans-Serif\" font-size=\"14.00\" fill=\"#000000\">value = [21.422, 7.76]</text>\n<text text-anchor=\"start\" x=\"776\" y=\"-7.8\" font-family=\"Helvetica,sans-Serif\" font-size=\"14.00\" fill=\"#000000\">class = 0</text>\n</g>\n<!-- 14&#45;&gt;15 -->\n<g id=\"edge15\" class=\"edge\">\n<title>14&#45;&gt;15</title>\n<path fill=\"none\" stroke=\"#000000\" d=\"M915.4641,-103.9815C899.7138,-94.0034 882.9346,-83.3733 867.3346,-73.4904\"/>\n<polygon fill=\"#000000\" stroke=\"#000000\" points=\"869.1239,-70.4807 858.8033,-68.0856 865.3777,-76.394 869.1239,-70.4807\"/>\n</g>\n<!-- 16 -->\n<g id=\"node17\" class=\"node\">\n<title>16</title>\n<path fill=\"#b5daf5\" stroke=\"#000000\" d=\"M1053,-68C1053,-68 913,-68 913,-68 907,-68 901,-62 901,-56 901,-56 901,-12 901,-12 901,-6 907,0 913,0 913,0 1053,0 1053,0 1059,0 1065,-6 1065,-12 1065,-12 1065,-56 1065,-56 1065,-62 1059,-68 1053,-68\"/>\n<text text-anchor=\"start\" x=\"945\" y=\"-52.8\" font-family=\"Helvetica,sans-Serif\" font-size=\"14.00\" fill=\"#000000\">gini = 0.474</text>\n<text text-anchor=\"start\" x=\"939\" y=\"-37.8\" font-family=\"Helvetica,sans-Serif\" font-size=\"14.00\" fill=\"#000000\">samples = 32</text>\n<text text-anchor=\"start\" x=\"909\" y=\"-22.8\" font-family=\"Helvetica,sans-Serif\" font-size=\"14.00\" fill=\"#000000\">value = [11.901, 18.97]</text>\n<text text-anchor=\"start\" x=\"954\" y=\"-7.8\" font-family=\"Helvetica,sans-Serif\" font-size=\"14.00\" fill=\"#000000\">class = 1</text>\n</g>\n<!-- 14&#45;&gt;16 -->\n<g id=\"edge16\" class=\"edge\">\n<title>14&#45;&gt;16</title>\n<path fill=\"none\" stroke=\"#000000\" d=\"M981.7447,-103.9815C981.8947,-95.618 982.053,-86.7965 982.2046,-78.3409\"/>\n<polygon fill=\"#000000\" stroke=\"#000000\" points=\"985.7054,-78.3249 982.3854,-68.2637 978.7065,-78.1993 985.7054,-78.3249\"/>\n</g>\n<!-- 18 -->\n<g id=\"node19\" class=\"node\">\n<title>18</title>\n<path fill=\"#e99558\" stroke=\"#000000\" d=\"M1235,-68C1235,-68 1095,-68 1095,-68 1089,-68 1083,-62 1083,-56 1083,-56 1083,-12 1083,-12 1083,-6 1089,0 1095,0 1095,0 1235,0 1235,0 1241,0 1247,-6 1247,-12 1247,-12 1247,-56 1247,-56 1247,-62 1241,-68 1235,-68\"/>\n<text text-anchor=\"start\" x=\"1127\" y=\"-52.8\" font-family=\"Helvetica,sans-Serif\" font-size=\"14.00\" fill=\"#000000\">gini = 0.233</text>\n<text text-anchor=\"start\" x=\"1121\" y=\"-37.8\" font-family=\"Helvetica,sans-Serif\" font-size=\"14.00\" fill=\"#000000\">samples = 17</text>\n<text text-anchor=\"start\" x=\"1091\" y=\"-22.8\" font-family=\"Helvetica,sans-Serif\" font-size=\"14.00\" fill=\"#000000\">value = [16.661, 2.587]</text>\n<text text-anchor=\"start\" x=\"1136\" y=\"-7.8\" font-family=\"Helvetica,sans-Serif\" font-size=\"14.00\" fill=\"#000000\">class = 0</text>\n</g>\n<!-- 17&#45;&gt;18 -->\n<g id=\"edge18\" class=\"edge\">\n<title>17&#45;&gt;18</title>\n<path fill=\"none\" stroke=\"#000000\" d=\"M1166.8829,-103.9815C1166.6579,-95.618 1166.4205,-86.7965 1166.193,-78.3409\"/>\n<polygon fill=\"#000000\" stroke=\"#000000\" points=\"1169.6897,-78.1659 1165.9219,-68.2637 1162.6922,-78.3542 1169.6897,-78.1659\"/>\n</g>\n<!-- 19 -->\n<g id=\"node20\" class=\"node\">\n<title>19</title>\n<path fill=\"#f4c8a9\" stroke=\"#000000\" d=\"M1426.5,-68C1426.5,-68 1277.5,-68 1277.5,-68 1271.5,-68 1265.5,-62 1265.5,-56 1265.5,-56 1265.5,-12 1265.5,-12 1265.5,-6 1271.5,0 1277.5,0 1277.5,0 1426.5,0 1426.5,0 1432.5,0 1438.5,-6 1438.5,-12 1438.5,-12 1438.5,-56 1438.5,-56 1438.5,-62 1432.5,-68 1426.5,-68\"/>\n<text text-anchor=\"start\" x=\"1314\" y=\"-52.8\" font-family=\"Helvetica,sans-Serif\" font-size=\"14.00\" fill=\"#000000\">gini = 0.461</text>\n<text text-anchor=\"start\" x=\"1308\" y=\"-37.8\" font-family=\"Helvetica,sans-Serif\" font-size=\"14.00\" fill=\"#000000\">samples = 32</text>\n<text text-anchor=\"start\" x=\"1273.5\" y=\"-22.8\" font-family=\"Helvetica,sans-Serif\" font-size=\"14.00\" fill=\"#000000\">value = [21.422, 12.072]</text>\n<text text-anchor=\"start\" x=\"1323\" y=\"-7.8\" font-family=\"Helvetica,sans-Serif\" font-size=\"14.00\" fill=\"#000000\">class = 0</text>\n</g>\n<!-- 17&#45;&gt;19 -->\n<g id=\"edge19\" class=\"edge\">\n<title>17&#45;&gt;19</title>\n<path fill=\"none\" stroke=\"#000000\" d=\"M1236.5148,-103.9815C1252.981,-94.0034 1270.5229,-83.3733 1286.832,-73.4904\"/>\n<polygon fill=\"#000000\" stroke=\"#000000\" points=\"1289.0127,-76.2615 1295.7511,-68.0856 1285.3849,-70.2749 1289.0127,-76.2615\"/>\n</g>\n<!-- 21 -->\n<g id=\"node22\" class=\"node\">\n<title>21</title>\n<path fill=\"#fdf6f1\" stroke=\"#000000\" d=\"M1710.5,-187C1710.5,-187 1561.5,-187 1561.5,-187 1555.5,-187 1549.5,-181 1549.5,-175 1549.5,-175 1549.5,-116 1549.5,-116 1549.5,-110 1555.5,-104 1561.5,-104 1561.5,-104 1710.5,-104 1710.5,-104 1716.5,-104 1722.5,-110 1722.5,-116 1722.5,-116 1722.5,-175 1722.5,-175 1722.5,-181 1716.5,-187 1710.5,-187\"/>\n<text text-anchor=\"start\" x=\"1566.5\" y=\"-171.8\" font-family=\"Helvetica,sans-Serif\" font-size=\"14.00\" fill=\"#000000\">CD163/CD68 ≤ 0.606</text>\n<text text-anchor=\"start\" x=\"1598\" y=\"-156.8\" font-family=\"Helvetica,sans-Serif\" font-size=\"14.00\" fill=\"#000000\">gini = 0.499</text>\n<text text-anchor=\"start\" x=\"1588\" y=\"-141.8\" font-family=\"Helvetica,sans-Serif\" font-size=\"14.00\" fill=\"#000000\">samples = 144</text>\n<text text-anchor=\"start\" x=\"1557.5\" y=\"-126.8\" font-family=\"Helvetica,sans-Serif\" font-size=\"14.00\" fill=\"#000000\">value = [74.977, 69.843]</text>\n<text text-anchor=\"start\" x=\"1607\" y=\"-111.8\" font-family=\"Helvetica,sans-Serif\" font-size=\"14.00\" fill=\"#000000\">class = 0</text>\n</g>\n<!-- 20&#45;&gt;21 -->\n<g id=\"edge21\" class=\"edge\">\n<title>20&#45;&gt;21</title>\n<path fill=\"none\" stroke=\"#000000\" d=\"M1636,-222.8796C1636,-214.6838 1636,-205.9891 1636,-197.5013\"/>\n<polygon fill=\"#000000\" stroke=\"#000000\" points=\"1639.5001,-197.298 1636,-187.2981 1632.5001,-197.2981 1639.5001,-197.298\"/>\n</g>\n<!-- 24 -->\n<g id=\"node25\" class=\"node\">\n<title>24</title>\n<path fill=\"#b5daf5\" stroke=\"#000000\" d=\"M1987,-187C1987,-187 1847,-187 1847,-187 1841,-187 1835,-181 1835,-175 1835,-175 1835,-116 1835,-116 1835,-110 1841,-104 1847,-104 1847,-104 1987,-104 1987,-104 1993,-104 1999,-110 1999,-116 1999,-116 1999,-175 1999,-175 1999,-181 1993,-187 1987,-187\"/>\n<text text-anchor=\"start\" x=\"1847.5\" y=\"-171.8\" font-family=\"Helvetica,sans-Serif\" font-size=\"14.00\" fill=\"#000000\">CD163/CD68 ≤ 1.364</text>\n<text text-anchor=\"start\" x=\"1879\" y=\"-156.8\" font-family=\"Helvetica,sans-Serif\" font-size=\"14.00\" fill=\"#000000\">gini = 0.474</text>\n<text text-anchor=\"start\" x=\"1873\" y=\"-141.8\" font-family=\"Helvetica,sans-Serif\" font-size=\"14.00\" fill=\"#000000\">samples = 64</text>\n<text text-anchor=\"start\" x=\"1843\" y=\"-126.8\" font-family=\"Helvetica,sans-Serif\" font-size=\"14.00\" fill=\"#000000\">value = [23.802, 37.94]</text>\n<text text-anchor=\"start\" x=\"1888\" y=\"-111.8\" font-family=\"Helvetica,sans-Serif\" font-size=\"14.00\" fill=\"#000000\">class = 1</text>\n</g>\n<!-- 20&#45;&gt;24 -->\n<g id=\"edge24\" class=\"edge\">\n<title>20&#45;&gt;24</title>\n<path fill=\"none\" stroke=\"#000000\" d=\"M1726.8446,-226.0284C1758.368,-212.6787 1793.7187,-197.7081 1825.3099,-184.3296\"/>\n<polygon fill=\"#000000\" stroke=\"#000000\" points=\"1826.7045,-187.54 1834.548,-180.4174 1823.9748,-181.0942 1826.7045,-187.54\"/>\n</g>\n<!-- 22 -->\n<g id=\"node23\" class=\"node\">\n<title>22</title>\n<path fill=\"#c2e1f7\" stroke=\"#000000\" d=\"M1617.5,-68C1617.5,-68 1468.5,-68 1468.5,-68 1462.5,-68 1456.5,-62 1456.5,-56 1456.5,-56 1456.5,-12 1456.5,-12 1456.5,-6 1462.5,0 1468.5,0 1468.5,0 1617.5,0 1617.5,0 1623.5,0 1629.5,-6 1629.5,-12 1629.5,-12 1629.5,-56 1629.5,-56 1629.5,-62 1623.5,-68 1617.5,-68\"/>\n<text text-anchor=\"start\" x=\"1505\" y=\"-52.8\" font-family=\"Helvetica,sans-Serif\" font-size=\"14.00\" fill=\"#000000\">gini = 0.483</text>\n<text text-anchor=\"start\" x=\"1499\" y=\"-37.8\" font-family=\"Helvetica,sans-Serif\" font-size=\"14.00\" fill=\"#000000\">samples = 72</text>\n<text text-anchor=\"start\" x=\"1464.5\" y=\"-22.8\" font-family=\"Helvetica,sans-Serif\" font-size=\"14.00\" fill=\"#000000\">value = [28.563, 41.389]</text>\n<text text-anchor=\"start\" x=\"1514\" y=\"-7.8\" font-family=\"Helvetica,sans-Serif\" font-size=\"14.00\" fill=\"#000000\">class = 1</text>\n</g>\n<!-- 21&#45;&gt;22 -->\n<g id=\"edge22\" class=\"edge\">\n<title>21&#45;&gt;22</title>\n<path fill=\"none\" stroke=\"#000000\" d=\"M1601.3702,-103.9815C1593.7811,-94.8828 1585.74,-85.242 1578.1314,-76.1199\"/>\n<polygon fill=\"#000000\" stroke=\"#000000\" points=\"1580.6717,-73.7012 1571.5787,-68.2637 1575.2961,-78.1849 1580.6717,-73.7012\"/>\n</g>\n<!-- 23 -->\n<g id=\"node24\" class=\"node\">\n<title>23</title>\n<path fill=\"#f5ceb2\" stroke=\"#000000\" d=\"M1808.5,-68C1808.5,-68 1659.5,-68 1659.5,-68 1653.5,-68 1647.5,-62 1647.5,-56 1647.5,-56 1647.5,-12 1647.5,-12 1647.5,-6 1653.5,0 1659.5,0 1659.5,0 1808.5,0 1808.5,0 1814.5,0 1820.5,-6 1820.5,-12 1820.5,-12 1820.5,-56 1820.5,-56 1820.5,-62 1814.5,-68 1808.5,-68\"/>\n<text text-anchor=\"start\" x=\"1696\" y=\"-52.8\" font-family=\"Helvetica,sans-Serif\" font-size=\"14.00\" fill=\"#000000\">gini = 0.471</text>\n<text text-anchor=\"start\" x=\"1690\" y=\"-37.8\" font-family=\"Helvetica,sans-Serif\" font-size=\"14.00\" fill=\"#000000\">samples = 72</text>\n<text text-anchor=\"start\" x=\"1655.5\" y=\"-22.8\" font-family=\"Helvetica,sans-Serif\" font-size=\"14.00\" fill=\"#000000\">value = [46.414, 28.455]</text>\n<text text-anchor=\"start\" x=\"1705\" y=\"-7.8\" font-family=\"Helvetica,sans-Serif\" font-size=\"14.00\" fill=\"#000000\">class = 0</text>\n</g>\n<!-- 21&#45;&gt;23 -->\n<g id=\"edge23\" class=\"edge\">\n<title>21&#45;&gt;23</title>\n<path fill=\"none\" stroke=\"#000000\" d=\"M1672.4916,-103.9815C1680.5695,-94.7908 1689.1334,-85.0472 1697.2226,-75.8436\"/>\n<polygon fill=\"#000000\" stroke=\"#000000\" points=\"1699.912,-78.0855 1703.8848,-68.2637 1694.6542,-73.4642 1699.912,-78.0855\"/>\n</g>\n<!-- 25 -->\n<g id=\"node26\" class=\"node\">\n<title>25</title>\n<path fill=\"#67b4eb\" stroke=\"#000000\" d=\"M1983,-68C1983,-68 1851,-68 1851,-68 1845,-68 1839,-62 1839,-56 1839,-56 1839,-12 1839,-12 1839,-6 1845,0 1851,0 1851,0 1983,0 1983,0 1989,0 1995,-6 1995,-12 1995,-12 1995,-56 1995,-56 1995,-62 1989,-68 1983,-68\"/>\n<text text-anchor=\"start\" x=\"1879\" y=\"-52.8\" font-family=\"Helvetica,sans-Serif\" font-size=\"14.00\" fill=\"#000000\">gini = 0.304</text>\n<text text-anchor=\"start\" x=\"1873\" y=\"-37.8\" font-family=\"Helvetica,sans-Serif\" font-size=\"14.00\" fill=\"#000000\">samples = 21</text>\n<text text-anchor=\"start\" x=\"1847\" y=\"-22.8\" font-family=\"Helvetica,sans-Serif\" font-size=\"14.00\" fill=\"#000000\">value = [3.57, 15.521]</text>\n<text text-anchor=\"start\" x=\"1888\" y=\"-7.8\" font-family=\"Helvetica,sans-Serif\" font-size=\"14.00\" fill=\"#000000\">class = 1</text>\n</g>\n<!-- 24&#45;&gt;25 -->\n<g id=\"edge25\" class=\"edge\">\n<title>24&#45;&gt;25</title>\n<path fill=\"none\" stroke=\"#000000\" d=\"M1917,-103.9815C1917,-95.618 1917,-86.7965 1917,-78.3409\"/>\n<polygon fill=\"#000000\" stroke=\"#000000\" points=\"1920.5001,-78.2636 1917,-68.2637 1913.5001,-78.2637 1920.5001,-78.2636\"/>\n</g>\n<!-- 26 -->\n<g id=\"node27\" class=\"node\">\n<title>26</title>\n<path fill=\"#ecf5fc\" stroke=\"#000000\" d=\"M2174.5,-68C2174.5,-68 2025.5,-68 2025.5,-68 2019.5,-68 2013.5,-62 2013.5,-56 2013.5,-56 2013.5,-12 2013.5,-12 2013.5,-6 2019.5,0 2025.5,0 2025.5,0 2174.5,0 2174.5,0 2180.5,0 2186.5,-6 2186.5,-12 2186.5,-12 2186.5,-56 2186.5,-56 2186.5,-62 2180.5,-68 2174.5,-68\"/>\n<text text-anchor=\"start\" x=\"2062\" y=\"-52.8\" font-family=\"Helvetica,sans-Serif\" font-size=\"14.00\" fill=\"#000000\">gini = 0.499</text>\n<text text-anchor=\"start\" x=\"2056\" y=\"-37.8\" font-family=\"Helvetica,sans-Serif\" font-size=\"14.00\" fill=\"#000000\">samples = 43</text>\n<text text-anchor=\"start\" x=\"2021.5\" y=\"-22.8\" font-family=\"Helvetica,sans-Serif\" font-size=\"14.00\" fill=\"#000000\">value = [20.232, 22.419]</text>\n<text text-anchor=\"start\" x=\"2071\" y=\"-7.8\" font-family=\"Helvetica,sans-Serif\" font-size=\"14.00\" fill=\"#000000\">class = 1</text>\n</g>\n<!-- 24&#45;&gt;26 -->\n<g id=\"edge26\" class=\"edge\">\n<title>24&#45;&gt;26</title>\n<path fill=\"none\" stroke=\"#000000\" d=\"M1985.1424,-103.9815C2001.5192,-94.0034 2018.9657,-83.3733 2035.1862,-73.4904\"/>\n<polygon fill=\"#000000\" stroke=\"#000000\" points=\"2037.3382,-76.2778 2044.0568,-68.0856 2033.6959,-70.2999 2037.3382,-76.2778\"/>\n</g>\n</g>\n</svg>\n"
          },
          "metadata": {
            "tags": []
          },
          "execution_count": 135
        }
      ]
    },
    {
      "cell_type": "markdown",
      "metadata": {
        "id": "oqu1qUIdAnfV",
        "colab_type": "text"
      },
      "source": [
        "** CDs for CD163/CD68, Fibrosis for Fibrosis_central\n",
        "\n",
        "1. Pred 0\n",
        "- CDs <= 0.413, Fibrosis <= 12.5\n",
        "- CDs > 0.413, 5.5 < Fibrosis <= 12.5\n",
        "- CDs <= 0.596, 32.5 < Fibrosis <= 72.5\n",
        "- 72.5 < Fibrosis\n",
        "- **0.606 < CDs <= 1.036, Fibrosis > 102.5**\n",
        "\n",
        "2. Pred 1\n",
        "- CDs > 0.413, 5.5 < Fibrosis <= 12.5\n",
        "- **12.5 < Fibrosis <= 32.5**\n",
        "- 0.596 < CDs, 32.5 < Fibrosis <= 72.5\n",
        "- CDs <= 0.606, 102.5 < Fibrosis\n",
        "- 1.036 < CDs, 102.5 < Fibrosis"
      ]
    },
    {
      "cell_type": "code",
      "metadata": {
        "id": "Q-hJcdD7AeI9",
        "colab_type": "code",
        "outputId": "8cfd0005-eaf9-4ce1-b442-46b3490269bd",
        "colab": {
          "base_uri": "https://localhost:8080/",
          "height": 1000
        }
      },
      "source": [
        "trees2 = dict()\n",
        "for i in [['CD8_periphery_intra', 'Fibrosis_peripheral'], ['CD8_central_intra', 'Fibrosis_central'], ['FOXP3/CD8-periphery_intraepithelial', 'Fibrosis_peripheral'], ['FOXP3/CD8-central_intraepithelial', 'Fibrosis_central']]:\n",
        "  print('-'.join(i))\n",
        "  trees2['-'.join(i)] = make_works(i)"
      ],
      "execution_count": 0,
      "outputs": [
        {
          "output_type": "stream",
          "text": [
            "CD8_periphery_intra-Fibrosis_peripheral\n",
            "{'AUC': 0.6967374213836478, 'accuracy': 0.6542669584245077, 'precision': 0.6851211072664359, 'recall': 0.7471698113207547, 'f1': 0.7148014440433214, 'mcc': 0.2796848420654611}\n",
            "<lifelines.StatisticalResult>\n",
            "               t_0 = -1\n",
            " null_distribution = chi squared\n",
            "degrees_of_freedom = 1\n",
            "\n",
            "---\n",
            " test_statistic      p  -log2(p)\n",
            "          37.37 <0.005     29.93\n",
            "<lifelines.StatisticalResult: (0, 1)>\n",
            "               t_0 = -1\n",
            " null_distribution = chi squared\n",
            "degrees_of_freedom = 1\n",
            "\n",
            "---\n",
            "     test_statistic      p  -log2(p)\n",
            "0 1           37.37 <0.005     29.93\n",
            "CD8_central_intra-Fibrosis_central\n",
            "{'AUC': 0.6961084905660377, 'accuracy': 0.6301969365426696, 'precision': 0.7181818181818181, 'recall': 0.5962264150943396, 'f1': 0.6515463917525773, 'mcc': 0.26998719093468077}\n",
            "<lifelines.StatisticalResult>\n",
            "               t_0 = -1\n",
            " null_distribution = chi squared\n",
            "degrees_of_freedom = 1\n",
            "\n",
            "---\n",
            " test_statistic      p  -log2(p)\n",
            "          31.73 <0.005     25.75\n",
            "<lifelines.StatisticalResult: (0, 1)>\n",
            "               t_0 = -1\n",
            " null_distribution = chi squared\n",
            "degrees_of_freedom = 1\n",
            "\n",
            "---\n",
            "     test_statistic      p  -log2(p)\n",
            "0 1           31.73 <0.005     25.75\n",
            "FOXP3/CD8-periphery_intraepithelial-Fibrosis_peripheral\n",
            "{'AUC': 0.6595617138364779, 'accuracy': 0.6148796498905909, 'precision': 0.6758893280632411, 'recall': 0.6452830188679245, 'f1': 0.6602316602316601, 'mcc': 0.21664682431416107}\n",
            "<lifelines.StatisticalResult>\n",
            "               t_0 = -1\n",
            " null_distribution = chi squared\n",
            "degrees_of_freedom = 1\n",
            "\n",
            "---\n",
            " test_statistic      p  -log2(p)\n",
            "          18.18 <0.005     15.60\n",
            "<lifelines.StatisticalResult: (0, 1)>\n",
            "               t_0 = -1\n",
            " null_distribution = chi squared\n",
            "degrees_of_freedom = 1\n",
            "\n",
            "---\n",
            "     test_statistic      p  -log2(p)\n",
            "0 1           18.18 <0.005     15.60\n",
            "FOXP3/CD8-central_intraepithelial-Fibrosis_central\n",
            "{'AUC': 0.6966784591194969, 'accuracy': 0.612691466083151, 'precision': 0.775, 'recall': 0.4679245283018868, 'f1': 0.5835294117647059, 'mcc': 0.2901692140206982}\n",
            "<lifelines.StatisticalResult>\n",
            "               t_0 = -1\n",
            " null_distribution = chi squared\n",
            "degrees_of_freedom = 1\n",
            "\n",
            "---\n",
            " test_statistic      p  -log2(p)\n",
            "          35.09 <0.005     28.24\n",
            "<lifelines.StatisticalResult: (0, 1)>\n",
            "               t_0 = -1\n",
            " null_distribution = chi squared\n",
            "degrees_of_freedom = 1\n",
            "\n",
            "---\n",
            "     test_statistic      p  -log2(p)\n",
            "0 1           35.09 <0.005     28.24\n"
          ],
          "name": "stdout"
        },
        {
          "output_type": "display_data",
          "data": {
            "image/png": "[encoded data removed]",
            "text/plain": [
              "<Figure size 432x288 with 1 Axes>"
            ]
          },
          "metadata": {
            "tags": []
          }
        },
        {
          "output_type": "display_data",
          "data": {
            "image/png": "[encoded data removed]",
            "text/plain": [
              "<Figure size 432x288 with 1 Axes>"
            ]
          },
          "metadata": {
            "tags": []
          }
        },
        {
          "output_type": "display_data",
          "data": {
            "image/png": "[encoded data removed]",
            "text/plain": [
              "<Figure size 432x288 with 1 Axes>"
            ]
          },
          "metadata": {
            "tags": []
          }
        },
        {
          "output_type": "display_data",
          "data": {
            "image/png": "[encoded data removed]",
            "text/plain": [
              "<Figure size 432x288 with 1 Axes>"
            ]
          },
          "metadata": {
            "tags": []
          }
        }
      ]
    },
    {
      "cell_type": "code",
      "metadata": {
        "id": "7c-XD-n-ExVB",
        "colab_type": "code",
        "outputId": "490cf97c-3e8b-414b-db92-c50d51a531f7",
        "colab": {
          "base_uri": "https://localhost:8080/",
          "height": 819
        }
      },
      "source": [
        "trees2['CD8_periphery_intra-Fibrosis_peripheral']['tree graph']  ## with first figure of survival analysis"
      ],
      "execution_count": 0,
      "outputs": [
        {
          "output_type": "execute_result",
          "data": {
            "text/plain": [
              "<graphviz.files.Source at 0x7f052df2fb70>"
            ],
            "image/svg+xml": "<?xml version=\"1.0\" encoding=\"UTF-8\" standalone=\"no\"?>\n<!DOCTYPE svg PUBLIC \"-//W3C//DTD SVG 1.1//EN\"\n \"http://www.w3.org/Graphics/SVG/1.1/DTD/svg11.dtd\">\n<!-- Generated by graphviz version 2.40.1 (20161225.0304)\n -->\n<!-- Title: Tree Pages: 1 -->\n<svg width=\"2204pt\" height=\"552pt\"\n viewBox=\"0.00 0.00 2204.00 552.00\" xmlns=\"http://www.w3.org/2000/svg\" xmlns:xlink=\"http://www.w3.org/1999/xlink\">\n<g id=\"graph0\" class=\"graph\" transform=\"scale(1 1) rotate(0) translate(4 548)\">\n<title>Tree</title>\n<polygon fill=\"#ffffff\" stroke=\"transparent\" points=\"-4,4 -4,-548 2200,-548 2200,4 -4,4\"/>\n<!-- 0 -->\n<g id=\"node1\" class=\"node\">\n<title>0</title>\n<path fill=\"#ffffff\" stroke=\"#000000\" d=\"M1153,-544C1153,-544 983,-544 983,-544 977,-544 971,-538 971,-532 971,-532 971,-473 971,-473 971,-467 977,-461 983,-461 983,-461 1153,-461 1153,-461 1159,-461 1165,-467 1165,-473 1165,-473 1165,-532 1165,-532 1165,-538 1159,-544 1153,-544\"/>\n<text text-anchor=\"start\" x=\"979\" y=\"-528.8\" font-family=\"Helvetica,sans-Serif\" font-size=\"14.00\" fill=\"#000000\">CD8_periphery_intra ≤ 13.5</text>\n<text text-anchor=\"start\" x=\"1038.5\" y=\"-513.8\" font-family=\"Helvetica,sans-Serif\" font-size=\"14.00\" fill=\"#000000\">gini = 0.5</text>\n<text text-anchor=\"start\" x=\"1020\" y=\"-498.8\" font-family=\"Helvetica,sans-Serif\" font-size=\"14.00\" fill=\"#000000\">samples = 457</text>\n<text text-anchor=\"start\" x=\"998\" y=\"-483.8\" font-family=\"Helvetica,sans-Serif\" font-size=\"14.00\" fill=\"#000000\">value = [228.5, 228.5]</text>\n<text text-anchor=\"start\" x=\"1039\" y=\"-468.8\" font-family=\"Helvetica,sans-Serif\" font-size=\"14.00\" fill=\"#000000\">class = 1</text>\n</g>\n<!-- 1 -->\n<g id=\"node2\" class=\"node\">\n<title>1</title>\n<path fill=\"#f9e3d4\" stroke=\"#000000\" d=\"M1047,-425C1047,-425 879,-425 879,-425 873,-425 867,-419 867,-413 867,-413 867,-354 867,-354 867,-348 873,-342 879,-342 879,-342 1047,-342 1047,-342 1053,-342 1059,-348 1059,-354 1059,-354 1059,-413 1059,-413 1059,-419 1053,-425 1047,-425\"/>\n<text text-anchor=\"start\" x=\"875\" y=\"-409.8\" font-family=\"Helvetica,sans-Serif\" font-size=\"14.00\" fill=\"#000000\">Fibrosis_peripheral ≤ 115.0</text>\n<text text-anchor=\"start\" x=\"925\" y=\"-394.8\" font-family=\"Helvetica,sans-Serif\" font-size=\"14.00\" fill=\"#000000\">gini = 0.492</text>\n<text text-anchor=\"start\" x=\"915\" y=\"-379.8\" font-family=\"Helvetica,sans-Serif\" font-size=\"14.00\" fill=\"#000000\">samples = 295</text>\n<text text-anchor=\"start\" x=\"876.5\" y=\"-364.8\" font-family=\"Helvetica,sans-Serif\" font-size=\"14.00\" fill=\"#000000\">value = [168.995, 131.926]</text>\n<text text-anchor=\"start\" x=\"934\" y=\"-349.8\" font-family=\"Helvetica,sans-Serif\" font-size=\"14.00\" fill=\"#000000\">class = 0</text>\n</g>\n<!-- 0&#45;&gt;1 -->\n<g id=\"edge1\" class=\"edge\">\n<title>0&#45;&gt;1</title>\n<path fill=\"none\" stroke=\"#000000\" d=\"M1031.2761,-460.8796C1023.3293,-451.8733 1014.851,-442.2644 1006.6674,-432.9897\"/>\n<polygon fill=\"#000000\" stroke=\"#000000\" points=\"1009.1213,-430.4808 999.8807,-425.2981 1003.8725,-435.1122 1009.1213,-430.4808\"/>\n<text text-anchor=\"middle\" x=\"998.3212\" y=\"-446.5494\" font-family=\"Helvetica,sans-Serif\" font-size=\"14.00\" fill=\"#000000\">True</text>\n</g>\n<!-- 14 -->\n<g id=\"node15\" class=\"node\">\n<title>14</title>\n<path fill=\"#b3d9f5\" stroke=\"#000000\" d=\"M1333,-425C1333,-425 1173,-425 1173,-425 1167,-425 1161,-419 1161,-413 1161,-413 1161,-354 1161,-354 1161,-348 1167,-342 1173,-342 1173,-342 1333,-342 1333,-342 1339,-342 1345,-348 1345,-354 1345,-354 1345,-413 1345,-413 1345,-419 1339,-425 1333,-425\"/>\n<text text-anchor=\"start\" x=\"1169\" y=\"-409.8\" font-family=\"Helvetica,sans-Serif\" font-size=\"14.00\" fill=\"#000000\">Fibrosis_peripheral ≤ 55.0</text>\n<text text-anchor=\"start\" x=\"1215\" y=\"-394.8\" font-family=\"Helvetica,sans-Serif\" font-size=\"14.00\" fill=\"#000000\">gini = 0.472</text>\n<text text-anchor=\"start\" x=\"1205\" y=\"-379.8\" font-family=\"Helvetica,sans-Serif\" font-size=\"14.00\" fill=\"#000000\">samples = 162</text>\n<text text-anchor=\"start\" x=\"1174.5\" y=\"-364.8\" font-family=\"Helvetica,sans-Serif\" font-size=\"14.00\" fill=\"#000000\">value = [59.505, 96.574]</text>\n<text text-anchor=\"start\" x=\"1224\" y=\"-349.8\" font-family=\"Helvetica,sans-Serif\" font-size=\"14.00\" fill=\"#000000\">class = 1</text>\n</g>\n<!-- 0&#45;&gt;14 -->\n<g id=\"edge14\" class=\"edge\">\n<title>0&#45;&gt;14</title>\n<path fill=\"none\" stroke=\"#000000\" d=\"M1132.704,-460.8796C1147.9135,-451.0962 1164.2282,-440.6019 1179.7818,-430.5971\"/>\n<polygon fill=\"#000000\" stroke=\"#000000\" points=\"1181.8157,-433.4505 1188.3325,-425.0969 1178.0287,-427.5632 1181.8157,-433.4505\"/>\n<text text-anchor=\"middle\" x=\"1183.0284\" y=\"-445.8278\" font-family=\"Helvetica,sans-Serif\" font-size=\"14.00\" fill=\"#000000\">False</text>\n</g>\n<!-- 2 -->\n<g id=\"node3\" class=\"node\">\n<title>2</title>\n<path fill=\"#f5d1b7\" stroke=\"#000000\" d=\"M624,-306C624,-306 462,-306 462,-306 456,-306 450,-300 450,-294 450,-294 450,-235 450,-235 450,-229 456,-223 462,-223 462,-223 624,-223 624,-223 630,-223 636,-229 636,-235 636,-235 636,-294 636,-294 636,-300 630,-306 624,-306\"/>\n<text text-anchor=\"start\" x=\"458\" y=\"-290.8\" font-family=\"Helvetica,sans-Serif\" font-size=\"14.00\" fill=\"#000000\">CD8_periphery_intra ≤ 0.5</text>\n<text text-anchor=\"start\" x=\"505\" y=\"-275.8\" font-family=\"Helvetica,sans-Serif\" font-size=\"14.00\" fill=\"#000000\">gini = 0.475</text>\n<text text-anchor=\"start\" x=\"495\" y=\"-260.8\" font-family=\"Helvetica,sans-Serif\" font-size=\"14.00\" fill=\"#000000\">samples = 150</text>\n<text text-anchor=\"start\" x=\"464.5\" y=\"-245.8\" font-family=\"Helvetica,sans-Serif\" font-size=\"14.00\" fill=\"#000000\">value = [95.208, 60.358]</text>\n<text text-anchor=\"start\" x=\"514\" y=\"-230.8\" font-family=\"Helvetica,sans-Serif\" font-size=\"14.00\" fill=\"#000000\">class = 0</text>\n</g>\n<!-- 1&#45;&gt;2 -->\n<g id=\"edge2\" class=\"edge\">\n<title>1&#45;&gt;2</title>\n<path fill=\"none\" stroke=\"#000000\" d=\"M866.9069,-356.2736C800.8993,-337.5715 713.3632,-312.7696 645.9331,-293.6644\"/>\n<polygon fill=\"#000000\" stroke=\"#000000\" points=\"646.7107,-290.247 636.1353,-290.8883 644.8024,-296.9819 646.7107,-290.247\"/>\n</g>\n<!-- 9 -->\n<g id=\"node10\" class=\"node\">\n<title>9</title>\n<path fill=\"#fefbf9\" stroke=\"#000000\" d=\"M1047,-306C1047,-306 879,-306 879,-306 873,-306 867,-300 867,-294 867,-294 867,-235 867,-235 867,-229 873,-223 879,-223 879,-223 1047,-223 1047,-223 1053,-223 1059,-229 1059,-235 1059,-235 1059,-294 1059,-294 1059,-300 1053,-306 1047,-306\"/>\n<text text-anchor=\"start\" x=\"875\" y=\"-290.8\" font-family=\"Helvetica,sans-Serif\" font-size=\"14.00\" fill=\"#000000\">Fibrosis_peripheral ≤ 262.5</text>\n<text text-anchor=\"start\" x=\"933.5\" y=\"-275.8\" font-family=\"Helvetica,sans-Serif\" font-size=\"14.00\" fill=\"#000000\">gini = 0.5</text>\n<text text-anchor=\"start\" x=\"915\" y=\"-260.8\" font-family=\"Helvetica,sans-Serif\" font-size=\"14.00\" fill=\"#000000\">samples = 145</text>\n<text text-anchor=\"start\" x=\"884.5\" y=\"-245.8\" font-family=\"Helvetica,sans-Serif\" font-size=\"14.00\" fill=\"#000000\">value = [73.786, 71.568]</text>\n<text text-anchor=\"start\" x=\"934\" y=\"-230.8\" font-family=\"Helvetica,sans-Serif\" font-size=\"14.00\" fill=\"#000000\">class = 0</text>\n</g>\n<!-- 1&#45;&gt;9 -->\n<g id=\"edge9\" class=\"edge\">\n<title>1&#45;&gt;9</title>\n<path fill=\"none\" stroke=\"#000000\" d=\"M963,-341.8796C963,-333.6838 963,-324.9891 963,-316.5013\"/>\n<polygon fill=\"#000000\" stroke=\"#000000\" points=\"966.5001,-316.298 963,-306.2981 959.5001,-316.2981 966.5001,-316.298\"/>\n</g>\n<!-- 3 -->\n<g id=\"node4\" class=\"node\">\n<title>3</title>\n<path fill=\"#f2be9a\" stroke=\"#000000\" d=\"M344,-187C344,-187 184,-187 184,-187 178,-187 172,-181 172,-175 172,-175 172,-116 172,-116 172,-110 178,-104 184,-104 184,-104 344,-104 344,-104 350,-104 356,-110 356,-116 356,-116 356,-175 356,-175 356,-181 350,-187 344,-187\"/>\n<text text-anchor=\"start\" x=\"180\" y=\"-171.8\" font-family=\"Helvetica,sans-Serif\" font-size=\"14.00\" fill=\"#000000\">Fibrosis_peripheral ≤ 95.0</text>\n<text text-anchor=\"start\" x=\"226\" y=\"-156.8\" font-family=\"Helvetica,sans-Serif\" font-size=\"14.00\" fill=\"#000000\">gini = 0.441</text>\n<text text-anchor=\"start\" x=\"220\" y=\"-141.8\" font-family=\"Helvetica,sans-Serif\" font-size=\"14.00\" fill=\"#000000\">samples = 92</text>\n<text text-anchor=\"start\" x=\"185.5\" y=\"-126.8\" font-family=\"Helvetica,sans-Serif\" font-size=\"14.00\" fill=\"#000000\">value = [65.456, 31.904]</text>\n<text text-anchor=\"start\" x=\"235\" y=\"-111.8\" font-family=\"Helvetica,sans-Serif\" font-size=\"14.00\" fill=\"#000000\">class = 0</text>\n</g>\n<!-- 2&#45;&gt;3 -->\n<g id=\"edge3\" class=\"edge\">\n<title>2&#45;&gt;3</title>\n<path fill=\"none\" stroke=\"#000000\" d=\"M449.7091,-224.7093C422.6676,-213.1754 393.0144,-200.5277 365.497,-188.7908\"/>\n<polygon fill=\"#000000\" stroke=\"#000000\" points=\"366.8252,-185.5523 356.2537,-184.8484 364.0788,-191.9911 366.8252,-185.5523\"/>\n</g>\n<!-- 6 -->\n<g id=\"node7\" class=\"node\">\n<title>6</title>\n<path fill=\"#fefaf6\" stroke=\"#000000\" d=\"M624,-187C624,-187 462,-187 462,-187 456,-187 450,-181 450,-175 450,-175 450,-116 450,-116 450,-110 456,-104 462,-104 462,-104 624,-104 624,-104 630,-104 636,-110 636,-116 636,-116 636,-175 636,-175 636,-181 630,-187 624,-187\"/>\n<text text-anchor=\"start\" x=\"458\" y=\"-171.8\" font-family=\"Helvetica,sans-Serif\" font-size=\"14.00\" fill=\"#000000\">CD8_periphery_intra ≤ 5.5</text>\n<text text-anchor=\"start\" x=\"513.5\" y=\"-156.8\" font-family=\"Helvetica,sans-Serif\" font-size=\"14.00\" fill=\"#000000\">gini = 0.5</text>\n<text text-anchor=\"start\" x=\"499\" y=\"-141.8\" font-family=\"Helvetica,sans-Serif\" font-size=\"14.00\" fill=\"#000000\">samples = 58</text>\n<text text-anchor=\"start\" x=\"464.5\" y=\"-126.8\" font-family=\"Helvetica,sans-Serif\" font-size=\"14.00\" fill=\"#000000\">value = [29.753, 28.455]</text>\n<text text-anchor=\"start\" x=\"514\" y=\"-111.8\" font-family=\"Helvetica,sans-Serif\" font-size=\"14.00\" fill=\"#000000\">class = 0</text>\n</g>\n<!-- 2&#45;&gt;6 -->\n<g id=\"edge6\" class=\"edge\">\n<title>2&#45;&gt;6</title>\n<path fill=\"none\" stroke=\"#000000\" d=\"M543,-222.8796C543,-214.6838 543,-205.9891 543,-197.5013\"/>\n<polygon fill=\"#000000\" stroke=\"#000000\" points=\"546.5001,-197.298 543,-187.2981 539.5001,-197.2981 546.5001,-197.298\"/>\n</g>\n<!-- 4 -->\n<g id=\"node5\" class=\"node\">\n<title>4</title>\n<path fill=\"#f4c8a8\" stroke=\"#000000\" d=\"M152,-68C152,-68 12,-68 12,-68 6,-68 0,-62 0,-56 0,-56 0,-12 0,-12 0,-6 6,0 12,0 12,0 152,0 152,0 158,0 164,-6 164,-12 164,-12 164,-56 164,-56 164,-62 158,-68 152,-68\"/>\n<text text-anchor=\"start\" x=\"44\" y=\"-52.8\" font-family=\"Helvetica,sans-Serif\" font-size=\"14.00\" fill=\"#000000\">gini = 0.461</text>\n<text text-anchor=\"start\" x=\"38\" y=\"-37.8\" font-family=\"Helvetica,sans-Serif\" font-size=\"14.00\" fill=\"#000000\">samples = 71</text>\n<text text-anchor=\"start\" x=\"8\" y=\"-22.8\" font-family=\"Helvetica,sans-Serif\" font-size=\"14.00\" fill=\"#000000\">value = [47.604, 26.73]</text>\n<text text-anchor=\"start\" x=\"53\" y=\"-7.8\" font-family=\"Helvetica,sans-Serif\" font-size=\"14.00\" fill=\"#000000\">class = 0</text>\n</g>\n<!-- 3&#45;&gt;4 -->\n<g id=\"edge4\" class=\"edge\">\n<title>3&#45;&gt;4</title>\n<path fill=\"none\" stroke=\"#000000\" d=\"M196.2299,-103.9815C179.9427,-94.0034 162.5915,-83.3733 146.4597,-73.4904\"/>\n<polygon fill=\"#000000\" stroke=\"#000000\" points=\"147.993,-70.3252 137.6375,-68.0856 144.3362,-76.2941 147.993,-70.3252\"/>\n</g>\n<!-- 5 -->\n<g id=\"node6\" class=\"node\">\n<title>5</title>\n<path fill=\"#eda672\" stroke=\"#000000\" d=\"M334,-68C334,-68 194,-68 194,-68 188,-68 182,-62 182,-56 182,-56 182,-12 182,-12 182,-6 188,0 194,0 194,0 334,0 334,0 340,0 346,-6 346,-12 346,-12 346,-56 346,-56 346,-62 340,-68 334,-68\"/>\n<text text-anchor=\"start\" x=\"226\" y=\"-52.8\" font-family=\"Helvetica,sans-Serif\" font-size=\"14.00\" fill=\"#000000\">gini = 0.348</text>\n<text text-anchor=\"start\" x=\"220\" y=\"-37.8\" font-family=\"Helvetica,sans-Serif\" font-size=\"14.00\" fill=\"#000000\">samples = 21</text>\n<text text-anchor=\"start\" x=\"190\" y=\"-22.8\" font-family=\"Helvetica,sans-Serif\" font-size=\"14.00\" fill=\"#000000\">value = [17.852, 5.174]</text>\n<text text-anchor=\"start\" x=\"235\" y=\"-7.8\" font-family=\"Helvetica,sans-Serif\" font-size=\"14.00\" fill=\"#000000\">class = 0</text>\n</g>\n<!-- 3&#45;&gt;5 -->\n<g id=\"edge5\" class=\"edge\">\n<title>3&#45;&gt;5</title>\n<path fill=\"none\" stroke=\"#000000\" d=\"M264,-103.9815C264,-95.618 264,-86.7965 264,-78.3409\"/>\n<polygon fill=\"#000000\" stroke=\"#000000\" points=\"267.5001,-78.2636 264,-68.2637 260.5001,-78.2637 267.5001,-78.2636\"/>\n</g>\n<!-- 7 -->\n<g id=\"node8\" class=\"node\">\n<title>7</title>\n<path fill=\"#cfe7f9\" stroke=\"#000000\" d=\"M525.5,-68C525.5,-68 376.5,-68 376.5,-68 370.5,-68 364.5,-62 364.5,-56 364.5,-56 364.5,-12 364.5,-12 364.5,-6 370.5,0 376.5,0 376.5,0 525.5,0 525.5,0 531.5,0 537.5,-6 537.5,-12 537.5,-12 537.5,-56 537.5,-56 537.5,-62 531.5,-68 525.5,-68\"/>\n<text text-anchor=\"start\" x=\"413\" y=\"-52.8\" font-family=\"Helvetica,sans-Serif\" font-size=\"14.00\" fill=\"#000000\">gini = 0.491</text>\n<text text-anchor=\"start\" x=\"407\" y=\"-37.8\" font-family=\"Helvetica,sans-Serif\" font-size=\"14.00\" fill=\"#000000\">samples = 31</text>\n<text text-anchor=\"start\" x=\"372.5\" y=\"-22.8\" font-family=\"Helvetica,sans-Serif\" font-size=\"14.00\" fill=\"#000000\">value = [13.091, 17.245]</text>\n<text text-anchor=\"start\" x=\"422\" y=\"-7.8\" font-family=\"Helvetica,sans-Serif\" font-size=\"14.00\" fill=\"#000000\">class = 1</text>\n</g>\n<!-- 6&#45;&gt;7 -->\n<g id=\"edge7\" class=\"edge\">\n<title>6&#45;&gt;7</title>\n<path fill=\"none\" stroke=\"#000000\" d=\"M508.7426,-103.9815C501.2351,-94.8828 493.2804,-85.242 485.7536,-76.1199\"/>\n<polygon fill=\"#000000\" stroke=\"#000000\" points=\"488.3354,-73.7495 479.2714,-68.2637 482.9361,-78.2045 488.3354,-73.7495\"/>\n</g>\n<!-- 8 -->\n<g id=\"node9\" class=\"node\">\n<title>8</title>\n<path fill=\"#f6d6be\" stroke=\"#000000\" d=\"M716.5,-68C716.5,-68 567.5,-68 567.5,-68 561.5,-68 555.5,-62 555.5,-56 555.5,-56 555.5,-12 555.5,-12 555.5,-6 561.5,0 567.5,0 567.5,0 716.5,0 716.5,0 722.5,0 728.5,-6 728.5,-12 728.5,-12 728.5,-56 728.5,-56 728.5,-62 722.5,-68 716.5,-68\"/>\n<text text-anchor=\"start\" x=\"604\" y=\"-52.8\" font-family=\"Helvetica,sans-Serif\" font-size=\"14.00\" fill=\"#000000\">gini = 0.481</text>\n<text text-anchor=\"start\" x=\"598\" y=\"-37.8\" font-family=\"Helvetica,sans-Serif\" font-size=\"14.00\" fill=\"#000000\">samples = 27</text>\n<text text-anchor=\"start\" x=\"563.5\" y=\"-22.8\" font-family=\"Helvetica,sans-Serif\" font-size=\"14.00\" fill=\"#000000\">value = [16.661, 11.209]</text>\n<text text-anchor=\"start\" x=\"613\" y=\"-7.8\" font-family=\"Helvetica,sans-Serif\" font-size=\"14.00\" fill=\"#000000\">class = 0</text>\n</g>\n<!-- 6&#45;&gt;8 -->\n<g id=\"edge8\" class=\"edge\">\n<title>6&#45;&gt;8</title>\n<path fill=\"none\" stroke=\"#000000\" d=\"M579.8639,-103.9815C588.0243,-94.7908 596.6756,-85.0472 604.8474,-75.8436\"/>\n<polygon fill=\"#000000\" stroke=\"#000000\" points=\"607.5553,-78.0653 611.5775,-68.2637 602.3208,-73.4177 607.5553,-78.0653\"/>\n</g>\n<!-- 10 -->\n<g id=\"node11\" class=\"node\">\n<title>10</title>\n<path fill=\"#edf6fd\" stroke=\"#000000\" d=\"M909,-187C909,-187 741,-187 741,-187 735,-187 729,-181 729,-175 729,-175 729,-116 729,-116 729,-110 735,-104 741,-104 741,-104 909,-104 909,-104 915,-104 921,-110 921,-116 921,-116 921,-175 921,-175 921,-181 915,-187 909,-187\"/>\n<text text-anchor=\"start\" x=\"737\" y=\"-171.8\" font-family=\"Helvetica,sans-Serif\" font-size=\"14.00\" fill=\"#000000\">Fibrosis_peripheral ≤ 125.0</text>\n<text text-anchor=\"start\" x=\"787\" y=\"-156.8\" font-family=\"Helvetica,sans-Serif\" font-size=\"14.00\" fill=\"#000000\">gini = 0.499</text>\n<text text-anchor=\"start\" x=\"777\" y=\"-141.8\" font-family=\"Helvetica,sans-Serif\" font-size=\"14.00\" fill=\"#000000\">samples = 131</text>\n<text text-anchor=\"start\" x=\"746.5\" y=\"-126.8\" font-family=\"Helvetica,sans-Serif\" font-size=\"14.00\" fill=\"#000000\">value = [61.885, 68.119]</text>\n<text text-anchor=\"start\" x=\"796\" y=\"-111.8\" font-family=\"Helvetica,sans-Serif\" font-size=\"14.00\" fill=\"#000000\">class = 1</text>\n</g>\n<!-- 9&#45;&gt;10 -->\n<g id=\"edge10\" class=\"edge\">\n<title>9&#45;&gt;10</title>\n<path fill=\"none\" stroke=\"#000000\" d=\"M914.7343,-222.8796C903.8722,-213.513 892.2544,-203.4948 881.1027,-193.8784\"/>\n<polygon fill=\"#000000\" stroke=\"#000000\" points=\"883.3306,-191.178 873.4717,-187.2981 878.7592,-196.4792 883.3306,-191.178\"/>\n</g>\n<!-- 13 -->\n<g id=\"node14\" class=\"node\">\n<title>13</title>\n<path fill=\"#eda672\" stroke=\"#000000\" d=\"M1091,-179.5C1091,-179.5 951,-179.5 951,-179.5 945,-179.5 939,-173.5 939,-167.5 939,-167.5 939,-123.5 939,-123.5 939,-117.5 945,-111.5 951,-111.5 951,-111.5 1091,-111.5 1091,-111.5 1097,-111.5 1103,-117.5 1103,-123.5 1103,-123.5 1103,-167.5 1103,-167.5 1103,-173.5 1097,-179.5 1091,-179.5\"/>\n<text text-anchor=\"start\" x=\"983\" y=\"-164.3\" font-family=\"Helvetica,sans-Serif\" font-size=\"14.00\" fill=\"#000000\">gini = 0.348</text>\n<text text-anchor=\"start\" x=\"977\" y=\"-149.3\" font-family=\"Helvetica,sans-Serif\" font-size=\"14.00\" fill=\"#000000\">samples = 14</text>\n<text text-anchor=\"start\" x=\"947\" y=\"-134.3\" font-family=\"Helvetica,sans-Serif\" font-size=\"14.00\" fill=\"#000000\">value = [11.901, 3.449]</text>\n<text text-anchor=\"start\" x=\"992\" y=\"-119.3\" font-family=\"Helvetica,sans-Serif\" font-size=\"14.00\" fill=\"#000000\">class = 0</text>\n</g>\n<!-- 9&#45;&gt;13 -->\n<g id=\"edge13\" class=\"edge\">\n<title>9&#45;&gt;13</title>\n<path fill=\"none\" stroke=\"#000000\" d=\"M983.2856,-222.8796C988.645,-211.8835 994.4422,-199.9893 999.8463,-188.9015\"/>\n<polygon fill=\"#000000\" stroke=\"#000000\" points=\"1003.04,-190.3375 1004.2751,-179.8149 996.7476,-187.2706 1003.04,-190.3375\"/>\n</g>\n<!-- 11 -->\n<g id=\"node12\" class=\"node\">\n<title>11</title>\n<path fill=\"#94caf1\" stroke=\"#000000\" d=\"M891,-68C891,-68 759,-68 759,-68 753,-68 747,-62 747,-56 747,-56 747,-12 747,-12 747,-6 753,0 759,0 759,0 891,0 891,0 897,0 903,-6 903,-12 903,-12 903,-56 903,-56 903,-62 897,-68 891,-68\"/>\n<text text-anchor=\"start\" x=\"787\" y=\"-52.8\" font-family=\"Helvetica,sans-Serif\" font-size=\"14.00\" fill=\"#000000\">gini = 0.432</text>\n<text text-anchor=\"start\" x=\"781\" y=\"-37.8\" font-family=\"Helvetica,sans-Serif\" font-size=\"14.00\" fill=\"#000000\">samples = 16</text>\n<text text-anchor=\"start\" x=\"755\" y=\"-22.8\" font-family=\"Helvetica,sans-Serif\" font-size=\"14.00\" fill=\"#000000\">value = [4.76, 10.347]</text>\n<text text-anchor=\"start\" x=\"796\" y=\"-7.8\" font-family=\"Helvetica,sans-Serif\" font-size=\"14.00\" fill=\"#000000\">class = 1</text>\n</g>\n<!-- 10&#45;&gt;11 -->\n<g id=\"edge11\" class=\"edge\">\n<title>10&#45;&gt;11</title>\n<path fill=\"none\" stroke=\"#000000\" d=\"M825,-103.9815C825,-95.618 825,-86.7965 825,-78.3409\"/>\n<polygon fill=\"#000000\" stroke=\"#000000\" points=\"828.5001,-78.2636 825,-68.2637 821.5001,-78.2637 828.5001,-78.2636\"/>\n</g>\n<!-- 12 -->\n<g id=\"node13\" class=\"node\">\n<title>12</title>\n<path fill=\"#fdfeff\" stroke=\"#000000\" d=\"M1082.5,-68C1082.5,-68 933.5,-68 933.5,-68 927.5,-68 921.5,-62 921.5,-56 921.5,-56 921.5,-12 921.5,-12 921.5,-6 927.5,0 933.5,0 933.5,0 1082.5,0 1082.5,0 1088.5,0 1094.5,-6 1094.5,-12 1094.5,-12 1094.5,-56 1094.5,-56 1094.5,-62 1088.5,-68 1082.5,-68\"/>\n<text text-anchor=\"start\" x=\"978.5\" y=\"-52.8\" font-family=\"Helvetica,sans-Serif\" font-size=\"14.00\" fill=\"#000000\">gini = 0.5</text>\n<text text-anchor=\"start\" x=\"960\" y=\"-37.8\" font-family=\"Helvetica,sans-Serif\" font-size=\"14.00\" fill=\"#000000\">samples = 115</text>\n<text text-anchor=\"start\" x=\"929.5\" y=\"-22.8\" font-family=\"Helvetica,sans-Serif\" font-size=\"14.00\" fill=\"#000000\">value = [57.125, 57.772]</text>\n<text text-anchor=\"start\" x=\"979\" y=\"-7.8\" font-family=\"Helvetica,sans-Serif\" font-size=\"14.00\" fill=\"#000000\">class = 1</text>\n</g>\n<!-- 10&#45;&gt;12 -->\n<g id=\"edge12\" class=\"edge\">\n<title>10&#45;&gt;12</title>\n<path fill=\"none\" stroke=\"#000000\" d=\"M893.1424,-103.9815C909.5192,-94.0034 926.9657,-83.3733 943.1862,-73.4904\"/>\n<polygon fill=\"#000000\" stroke=\"#000000\" points=\"945.3382,-76.2778 952.0568,-68.0856 941.6959,-70.2999 945.3382,-76.2778\"/>\n</g>\n<!-- 15 -->\n<g id=\"node16\" class=\"node\">\n<title>15</title>\n<path fill=\"#80c0ee\" stroke=\"#000000\" d=\"M1338,-306C1338,-306 1168,-306 1168,-306 1162,-306 1156,-300 1156,-294 1156,-294 1156,-235 1156,-235 1156,-229 1162,-223 1168,-223 1168,-223 1338,-223 1338,-223 1344,-223 1350,-229 1350,-235 1350,-235 1350,-294 1350,-294 1350,-300 1344,-306 1338,-306\"/>\n<text text-anchor=\"start\" x=\"1164\" y=\"-290.8\" font-family=\"Helvetica,sans-Serif\" font-size=\"14.00\" fill=\"#000000\">CD8_periphery_intra ≤ 21.0</text>\n<text text-anchor=\"start\" x=\"1215\" y=\"-275.8\" font-family=\"Helvetica,sans-Serif\" font-size=\"14.00\" fill=\"#000000\">gini = 0.388</text>\n<text text-anchor=\"start\" x=\"1209\" y=\"-260.8\" font-family=\"Helvetica,sans-Serif\" font-size=\"14.00\" fill=\"#000000\">samples = 73</text>\n<text text-anchor=\"start\" x=\"1174.5\" y=\"-245.8\" font-family=\"Helvetica,sans-Serif\" font-size=\"14.00\" fill=\"#000000\">value = [17.852, 50.011]</text>\n<text text-anchor=\"start\" x=\"1224\" y=\"-230.8\" font-family=\"Helvetica,sans-Serif\" font-size=\"14.00\" fill=\"#000000\">class = 1</text>\n</g>\n<!-- 14&#45;&gt;15 -->\n<g id=\"edge15\" class=\"edge\">\n<title>14&#45;&gt;15</title>\n<path fill=\"none\" stroke=\"#000000\" d=\"M1253,-341.8796C1253,-333.6838 1253,-324.9891 1253,-316.5013\"/>\n<polygon fill=\"#000000\" stroke=\"#000000\" points=\"1256.5001,-316.298 1253,-306.2981 1249.5001,-316.2981 1256.5001,-316.298\"/>\n</g>\n<!-- 20 -->\n<g id=\"node21\" class=\"node\">\n<title>20</title>\n<path fill=\"#eaf5fc\" stroke=\"#000000\" d=\"M1748,-306C1748,-306 1578,-306 1578,-306 1572,-306 1566,-300 1566,-294 1566,-294 1566,-235 1566,-235 1566,-229 1572,-223 1578,-223 1578,-223 1748,-223 1748,-223 1754,-223 1760,-229 1760,-235 1760,-235 1760,-294 1760,-294 1760,-300 1754,-306 1748,-306\"/>\n<text text-anchor=\"start\" x=\"1574\" y=\"-290.8\" font-family=\"Helvetica,sans-Serif\" font-size=\"14.00\" fill=\"#000000\">CD8_periphery_intra ≤ 61.5</text>\n<text text-anchor=\"start\" x=\"1625\" y=\"-275.8\" font-family=\"Helvetica,sans-Serif\" font-size=\"14.00\" fill=\"#000000\">gini = 0.498</text>\n<text text-anchor=\"start\" x=\"1619\" y=\"-260.8\" font-family=\"Helvetica,sans-Serif\" font-size=\"14.00\" fill=\"#000000\">samples = 89</text>\n<text text-anchor=\"start\" x=\"1584.5\" y=\"-245.8\" font-family=\"Helvetica,sans-Serif\" font-size=\"14.00\" fill=\"#000000\">value = [41.654, 46.562]</text>\n<text text-anchor=\"start\" x=\"1634\" y=\"-230.8\" font-family=\"Helvetica,sans-Serif\" font-size=\"14.00\" fill=\"#000000\">class = 1</text>\n</g>\n<!-- 14&#45;&gt;20 -->\n<g id=\"edge20\" class=\"edge\">\n<title>14&#45;&gt;20</title>\n<path fill=\"none\" stroke=\"#000000\" d=\"M1345.012,-356.7941C1407.5544,-338.6415 1490.5012,-314.5667 1555.9967,-295.557\"/>\n<polygon fill=\"#000000\" stroke=\"#000000\" points=\"1557.3122,-298.8198 1565.9402,-292.671 1555.361,-292.0972 1557.3122,-298.8198\"/>\n</g>\n<!-- 16 -->\n<g id=\"node17\" class=\"node\">\n<title>16</title>\n<path fill=\"#399de5\" stroke=\"#000000\" d=\"M1257,-179.5C1257,-179.5 1133,-179.5 1133,-179.5 1127,-179.5 1121,-173.5 1121,-167.5 1121,-167.5 1121,-123.5 1121,-123.5 1121,-117.5 1127,-111.5 1133,-111.5 1133,-111.5 1257,-111.5 1257,-111.5 1263,-111.5 1269,-117.5 1269,-123.5 1269,-123.5 1269,-167.5 1269,-167.5 1269,-173.5 1263,-179.5 1257,-179.5\"/>\n<text text-anchor=\"start\" x=\"1165.5\" y=\"-164.3\" font-family=\"Helvetica,sans-Serif\" font-size=\"14.00\" fill=\"#000000\">gini = 0.0</text>\n<text text-anchor=\"start\" x=\"1151\" y=\"-149.3\" font-family=\"Helvetica,sans-Serif\" font-size=\"14.00\" fill=\"#000000\">samples = 12</text>\n<text text-anchor=\"start\" x=\"1129\" y=\"-134.3\" font-family=\"Helvetica,sans-Serif\" font-size=\"14.00\" fill=\"#000000\">value = [0.0, 10.347]</text>\n<text text-anchor=\"start\" x=\"1166\" y=\"-119.3\" font-family=\"Helvetica,sans-Serif\" font-size=\"14.00\" fill=\"#000000\">class = 1</text>\n</g>\n<!-- 15&#45;&gt;16 -->\n<g id=\"edge16\" class=\"edge\">\n<title>15&#45;&gt;16</title>\n<path fill=\"none\" stroke=\"#000000\" d=\"M1232.7144,-222.8796C1227.355,-211.8835 1221.5578,-199.9893 1216.1537,-188.9015\"/>\n<polygon fill=\"#000000\" stroke=\"#000000\" points=\"1219.2524,-187.2706 1211.7249,-179.8149 1212.96,-190.3375 1219.2524,-187.2706\"/>\n</g>\n<!-- 17 -->\n<g id=\"node18\" class=\"node\">\n<title>17</title>\n<path fill=\"#92c9f1\" stroke=\"#000000\" d=\"M1469,-187C1469,-187 1299,-187 1299,-187 1293,-187 1287,-181 1287,-175 1287,-175 1287,-116 1287,-116 1287,-110 1293,-104 1299,-104 1299,-104 1469,-104 1469,-104 1475,-104 1481,-110 1481,-116 1481,-116 1481,-175 1481,-175 1481,-181 1475,-187 1469,-187\"/>\n<text text-anchor=\"start\" x=\"1295\" y=\"-171.8\" font-family=\"Helvetica,sans-Serif\" font-size=\"14.00\" fill=\"#000000\">CD8_periphery_intra ≤ 38.5</text>\n<text text-anchor=\"start\" x=\"1346\" y=\"-156.8\" font-family=\"Helvetica,sans-Serif\" font-size=\"14.00\" fill=\"#000000\">gini = 0.428</text>\n<text text-anchor=\"start\" x=\"1340\" y=\"-141.8\" font-family=\"Helvetica,sans-Serif\" font-size=\"14.00\" fill=\"#000000\">samples = 61</text>\n<text text-anchor=\"start\" x=\"1305.5\" y=\"-126.8\" font-family=\"Helvetica,sans-Serif\" font-size=\"14.00\" fill=\"#000000\">value = [17.852, 39.664]</text>\n<text text-anchor=\"start\" x=\"1355\" y=\"-111.8\" font-family=\"Helvetica,sans-Serif\" font-size=\"14.00\" fill=\"#000000\">class = 1</text>\n</g>\n<!-- 15&#45;&gt;17 -->\n<g id=\"edge17\" class=\"edge\">\n<title>15&#45;&gt;17</title>\n<path fill=\"none\" stroke=\"#000000\" d=\"M1298.8174,-222.8796C1309.0294,-213.6031 1319.945,-203.6874 1330.4376,-194.1559\"/>\n<polygon fill=\"#000000\" stroke=\"#000000\" points=\"1332.9384,-196.6127 1337.987,-187.2981 1328.2316,-191.4313 1332.9384,-196.6127\"/>\n</g>\n<!-- 18 -->\n<g id=\"node19\" class=\"node\">\n<title>18</title>\n<path fill=\"#d8ecfa\" stroke=\"#000000\" d=\"M1272,-68C1272,-68 1132,-68 1132,-68 1126,-68 1120,-62 1120,-56 1120,-56 1120,-12 1120,-12 1120,-6 1126,0 1132,0 1132,0 1272,0 1272,0 1278,0 1284,-6 1284,-12 1284,-12 1284,-56 1284,-56 1284,-62 1278,-68 1272,-68\"/>\n<text text-anchor=\"start\" x=\"1164\" y=\"-52.8\" font-family=\"Helvetica,sans-Serif\" font-size=\"14.00\" fill=\"#000000\">gini = 0.494</text>\n<text text-anchor=\"start\" x=\"1158\" y=\"-37.8\" font-family=\"Helvetica,sans-Serif\" font-size=\"14.00\" fill=\"#000000\">samples = 19</text>\n<text text-anchor=\"start\" x=\"1128\" y=\"-22.8\" font-family=\"Helvetica,sans-Serif\" font-size=\"14.00\" fill=\"#000000\">value = [8.331, 10.347]</text>\n<text text-anchor=\"start\" x=\"1173\" y=\"-7.8\" font-family=\"Helvetica,sans-Serif\" font-size=\"14.00\" fill=\"#000000\">class = 1</text>\n</g>\n<!-- 17&#45;&gt;18 -->\n<g id=\"edge18\" class=\"edge\">\n<title>17&#45;&gt;18</title>\n<path fill=\"none\" stroke=\"#000000\" d=\"M1316.2299,-103.9815C1299.9427,-94.0034 1282.5915,-83.3733 1266.4597,-73.4904\"/>\n<polygon fill=\"#000000\" stroke=\"#000000\" points=\"1267.993,-70.3252 1257.6375,-68.0856 1264.3362,-76.2941 1267.993,-70.3252\"/>\n</g>\n<!-- 19 -->\n<g id=\"node20\" class=\"node\">\n<title>19</title>\n<path fill=\"#79bded\" stroke=\"#000000\" d=\"M1454,-68C1454,-68 1314,-68 1314,-68 1308,-68 1302,-62 1302,-56 1302,-56 1302,-12 1302,-12 1302,-6 1308,0 1314,0 1314,0 1454,0 1454,0 1460,0 1466,-6 1466,-12 1466,-12 1466,-56 1466,-56 1466,-62 1460,-68 1454,-68\"/>\n<text text-anchor=\"start\" x=\"1350.5\" y=\"-52.8\" font-family=\"Helvetica,sans-Serif\" font-size=\"14.00\" fill=\"#000000\">gini = 0.37</text>\n<text text-anchor=\"start\" x=\"1340\" y=\"-37.8\" font-family=\"Helvetica,sans-Serif\" font-size=\"14.00\" fill=\"#000000\">samples = 42</text>\n<text text-anchor=\"start\" x=\"1310\" y=\"-22.8\" font-family=\"Helvetica,sans-Serif\" font-size=\"14.00\" fill=\"#000000\">value = [9.521, 29.317]</text>\n<text text-anchor=\"start\" x=\"1355\" y=\"-7.8\" font-family=\"Helvetica,sans-Serif\" font-size=\"14.00\" fill=\"#000000\">class = 1</text>\n</g>\n<!-- 17&#45;&gt;19 -->\n<g id=\"edge19\" class=\"edge\">\n<title>17&#45;&gt;19</title>\n<path fill=\"none\" stroke=\"#000000\" d=\"M1384,-103.9815C1384,-95.618 1384,-86.7965 1384,-78.3409\"/>\n<polygon fill=\"#000000\" stroke=\"#000000\" points=\"1387.5001,-78.2636 1384,-68.2637 1380.5001,-78.2637 1387.5001,-78.2636\"/>\n</g>\n<!-- 21 -->\n<g id=\"node22\" class=\"node\">\n<title>21</title>\n<path fill=\"#f9e3d3\" stroke=\"#000000\" d=\"M1748,-187C1748,-187 1578,-187 1578,-187 1572,-187 1566,-181 1566,-175 1566,-175 1566,-116 1566,-116 1566,-110 1572,-104 1578,-104 1578,-104 1748,-104 1748,-104 1754,-104 1760,-110 1760,-116 1760,-116 1760,-175 1760,-175 1760,-181 1754,-187 1748,-187\"/>\n<text text-anchor=\"start\" x=\"1574\" y=\"-171.8\" font-family=\"Helvetica,sans-Serif\" font-size=\"14.00\" fill=\"#000000\">CD8_periphery_intra ≤ 24.5</text>\n<text text-anchor=\"start\" x=\"1625\" y=\"-156.8\" font-family=\"Helvetica,sans-Serif\" font-size=\"14.00\" fill=\"#000000\">gini = 0.492</text>\n<text text-anchor=\"start\" x=\"1619\" y=\"-141.8\" font-family=\"Helvetica,sans-Serif\" font-size=\"14.00\" fill=\"#000000\">samples = 56</text>\n<text text-anchor=\"start\" x=\"1584.5\" y=\"-126.8\" font-family=\"Helvetica,sans-Serif\" font-size=\"14.00\" fill=\"#000000\">value = [32.133, 25.006]</text>\n<text text-anchor=\"start\" x=\"1634\" y=\"-111.8\" font-family=\"Helvetica,sans-Serif\" font-size=\"14.00\" fill=\"#000000\">class = 0</text>\n</g>\n<!-- 20&#45;&gt;21 -->\n<g id=\"edge21\" class=\"edge\">\n<title>20&#45;&gt;21</title>\n<path fill=\"none\" stroke=\"#000000\" d=\"M1663,-222.8796C1663,-214.6838 1663,-205.9891 1663,-197.5013\"/>\n<polygon fill=\"#000000\" stroke=\"#000000\" points=\"1666.5001,-197.298 1663,-187.2981 1659.5001,-197.2981 1666.5001,-197.298\"/>\n</g>\n<!-- 24 -->\n<g id=\"node25\" class=\"node\">\n<title>24</title>\n<path fill=\"#90c8f0\" stroke=\"#000000\" d=\"M2024,-187C2024,-187 1856,-187 1856,-187 1850,-187 1844,-181 1844,-175 1844,-175 1844,-116 1844,-116 1844,-110 1850,-104 1856,-104 1856,-104 2024,-104 2024,-104 2030,-104 2036,-110 2036,-116 2036,-116 2036,-175 2036,-175 2036,-181 2030,-187 2024,-187\"/>\n<text text-anchor=\"start\" x=\"1852\" y=\"-171.8\" font-family=\"Helvetica,sans-Serif\" font-size=\"14.00\" fill=\"#000000\">Fibrosis_peripheral ≤ 135.0</text>\n<text text-anchor=\"start\" x=\"1902\" y=\"-156.8\" font-family=\"Helvetica,sans-Serif\" font-size=\"14.00\" fill=\"#000000\">gini = 0.425</text>\n<text text-anchor=\"start\" x=\"1896\" y=\"-141.8\" font-family=\"Helvetica,sans-Serif\" font-size=\"14.00\" fill=\"#000000\">samples = 33</text>\n<text text-anchor=\"start\" x=\"1866\" y=\"-126.8\" font-family=\"Helvetica,sans-Serif\" font-size=\"14.00\" fill=\"#000000\">value = [9.521, 21.557]</text>\n<text text-anchor=\"start\" x=\"1911\" y=\"-111.8\" font-family=\"Helvetica,sans-Serif\" font-size=\"14.00\" fill=\"#000000\">class = 1</text>\n</g>\n<!-- 20&#45;&gt;24 -->\n<g id=\"edge24\" class=\"edge\">\n<title>20&#45;&gt;24</title>\n<path fill=\"none\" stroke=\"#000000\" d=\"M1759.8812,-222.8796C1783.9523,-212.5385 1809.8724,-201.4032 1834.3413,-190.8913\"/>\n<polygon fill=\"#000000\" stroke=\"#000000\" points=\"1835.8348,-194.059 1843.6413,-186.896 1833.0717,-187.6274 1835.8348,-194.059\"/>\n</g>\n<!-- 22 -->\n<g id=\"node23\" class=\"node\">\n<title>22</title>\n<path fill=\"#8ec7f0\" stroke=\"#000000\" d=\"M1636,-68C1636,-68 1496,-68 1496,-68 1490,-68 1484,-62 1484,-56 1484,-56 1484,-12 1484,-12 1484,-6 1490,0 1496,0 1496,0 1636,0 1636,0 1642,0 1648,-6 1648,-12 1648,-12 1648,-56 1648,-56 1648,-62 1642,-68 1636,-68\"/>\n<text text-anchor=\"start\" x=\"1528\" y=\"-52.8\" font-family=\"Helvetica,sans-Serif\" font-size=\"14.00\" fill=\"#000000\">gini = 0.421</text>\n<text text-anchor=\"start\" x=\"1522\" y=\"-37.8\" font-family=\"Helvetica,sans-Serif\" font-size=\"14.00\" fill=\"#000000\">samples = 21</text>\n<text text-anchor=\"start\" x=\"1492\" y=\"-22.8\" font-family=\"Helvetica,sans-Serif\" font-size=\"14.00\" fill=\"#000000\">value = [5.951, 13.796]</text>\n<text text-anchor=\"start\" x=\"1537\" y=\"-7.8\" font-family=\"Helvetica,sans-Serif\" font-size=\"14.00\" fill=\"#000000\">class = 1</text>\n</g>\n<!-- 21&#45;&gt;22 -->\n<g id=\"edge22\" class=\"edge\">\n<title>21&#45;&gt;22</title>\n<path fill=\"none\" stroke=\"#000000\" d=\"M1626.8808,-103.9815C1618.8853,-94.7908 1610.4087,-85.0472 1602.4021,-75.8436\"/>\n<polygon fill=\"#000000\" stroke=\"#000000\" points=\"1605.012,-73.5111 1595.8079,-68.2637 1599.7307,-78.1055 1605.012,-73.5111\"/>\n</g>\n<!-- 23 -->\n<g id=\"node24\" class=\"node\">\n<title>23</title>\n<path fill=\"#f0b78e\" stroke=\"#000000\" d=\"M1827.5,-68C1827.5,-68 1678.5,-68 1678.5,-68 1672.5,-68 1666.5,-62 1666.5,-56 1666.5,-56 1666.5,-12 1666.5,-12 1666.5,-6 1672.5,0 1678.5,0 1678.5,0 1827.5,0 1827.5,0 1833.5,0 1839.5,-6 1839.5,-12 1839.5,-12 1839.5,-56 1839.5,-56 1839.5,-62 1833.5,-68 1827.5,-68\"/>\n<text text-anchor=\"start\" x=\"1719.5\" y=\"-52.8\" font-family=\"Helvetica,sans-Serif\" font-size=\"14.00\" fill=\"#000000\">gini = 0.42</text>\n<text text-anchor=\"start\" x=\"1709\" y=\"-37.8\" font-family=\"Helvetica,sans-Serif\" font-size=\"14.00\" fill=\"#000000\">samples = 35</text>\n<text text-anchor=\"start\" x=\"1674.5\" y=\"-22.8\" font-family=\"Helvetica,sans-Serif\" font-size=\"14.00\" fill=\"#000000\">value = [26.182, 11.209]</text>\n<text text-anchor=\"start\" x=\"1724\" y=\"-7.8\" font-family=\"Helvetica,sans-Serif\" font-size=\"14.00\" fill=\"#000000\">class = 0</text>\n</g>\n<!-- 21&#45;&gt;23 -->\n<g id=\"edge23\" class=\"edge\">\n<title>21&#45;&gt;23</title>\n<path fill=\"none\" stroke=\"#000000\" d=\"M1696.5127,-103.9815C1703.857,-94.8828 1711.6388,-85.242 1719.0019,-76.1199\"/>\n<polygon fill=\"#000000\" stroke=\"#000000\" points=\"1721.7857,-78.2434 1725.3432,-68.2637 1716.3388,-73.8467 1721.7857,-78.2434\"/>\n</g>\n<!-- 25 -->\n<g id=\"node26\" class=\"node\">\n<title>25</title>\n<path fill=\"#c2e1f7\" stroke=\"#000000\" d=\"M2010,-68C2010,-68 1870,-68 1870,-68 1864,-68 1858,-62 1858,-56 1858,-56 1858,-12 1858,-12 1858,-6 1864,0 1870,0 1870,0 2010,0 2010,0 2016,0 2022,-6 2022,-12 2022,-12 2022,-56 2022,-56 2022,-62 2016,-68 2010,-68\"/>\n<text text-anchor=\"start\" x=\"1902\" y=\"-52.8\" font-family=\"Helvetica,sans-Serif\" font-size=\"14.00\" fill=\"#000000\">gini = 0.483</text>\n<text text-anchor=\"start\" x=\"1896\" y=\"-37.8\" font-family=\"Helvetica,sans-Serif\" font-size=\"14.00\" fill=\"#000000\">samples = 18</text>\n<text text-anchor=\"start\" x=\"1866\" y=\"-22.8\" font-family=\"Helvetica,sans-Serif\" font-size=\"14.00\" fill=\"#000000\">value = [7.141, 10.347]</text>\n<text text-anchor=\"start\" x=\"1911\" y=\"-7.8\" font-family=\"Helvetica,sans-Serif\" font-size=\"14.00\" fill=\"#000000\">class = 1</text>\n</g>\n<!-- 24&#45;&gt;25 -->\n<g id=\"edge25\" class=\"edge\">\n<title>24&#45;&gt;25</title>\n<path fill=\"none\" stroke=\"#000000\" d=\"M1940,-103.9815C1940,-95.618 1940,-86.7965 1940,-78.3409\"/>\n<polygon fill=\"#000000\" stroke=\"#000000\" points=\"1943.5001,-78.2636 1940,-68.2637 1936.5001,-78.2637 1943.5001,-78.2636\"/>\n</g>\n<!-- 26 -->\n<g id=\"node27\" class=\"node\">\n<title>26</title>\n<path fill=\"#63b2eb\" stroke=\"#000000\" d=\"M2184,-68C2184,-68 2052,-68 2052,-68 2046,-68 2040,-62 2040,-56 2040,-56 2040,-12 2040,-12 2040,-6 2046,0 2052,0 2052,0 2184,0 2184,0 2190,0 2196,-6 2196,-12 2196,-12 2196,-56 2196,-56 2196,-62 2190,-68 2184,-68\"/>\n<text text-anchor=\"start\" x=\"2080\" y=\"-52.8\" font-family=\"Helvetica,sans-Serif\" font-size=\"14.00\" fill=\"#000000\">gini = 0.289</text>\n<text text-anchor=\"start\" x=\"2074\" y=\"-37.8\" font-family=\"Helvetica,sans-Serif\" font-size=\"14.00\" fill=\"#000000\">samples = 15</text>\n<text text-anchor=\"start\" x=\"2048\" y=\"-22.8\" font-family=\"Helvetica,sans-Serif\" font-size=\"14.00\" fill=\"#000000\">value = [2.38, 11.209]</text>\n<text text-anchor=\"start\" x=\"2089\" y=\"-7.8\" font-family=\"Helvetica,sans-Serif\" font-size=\"14.00\" fill=\"#000000\">class = 1</text>\n</g>\n<!-- 24&#45;&gt;26 -->\n<g id=\"edge26\" class=\"edge\">\n<title>24&#45;&gt;26</title>\n<path fill=\"none\" stroke=\"#000000\" d=\"M2006.2806,-103.9815C2022.2099,-94.0034 2039.1798,-83.3733 2054.957,-73.4904\"/>\n<polygon fill=\"#000000\" stroke=\"#000000\" points=\"2056.9686,-76.3603 2063.5853,-68.0856 2053.2526,-70.4281 2056.9686,-76.3603\"/>\n</g>\n</g>\n</svg>\n"
          },
          "metadata": {
            "tags": []
          },
          "execution_count": 139
        }
      ]
    },
    {
      "cell_type": "markdown",
      "metadata": {
        "id": "_fF1PQGcFq4u",
        "colab_type": "text"
      },
      "source": [
        "** CD8 for CD8_periphery_intra, Fibrosis for Fibrosis_peripheral\n",
        "\n",
        "1. Pred 0\n",
        "- **CD8 <= 0.5, Fibrosis <= 115**\n",
        "- 5.5 < CD8 <= 13.5, Fibrosis <= 115\n",
        "- CD8 < 13.5, 262.5 < Fibrosis\n",
        "- 24.5 < CD8 <= 61.5, 55 < Fibrosis  \n",
        "\n",
        "2. Pred 1\n",
        "- 0.5 < CD8 <= 5.5, Fibrosis <= 115\n",
        "- **CD8 <= 13.5, 115 < Fibrosis <= 262.5**\n",
        "- 13.5 < CD8, Fibrosis <= 55\n",
        "- 13.5 < CD8 <= 24.5, Fibrosis > 55\n",
        "- CD8 > 61.5, Fibrosis > 55"
      ]
    },
    {
      "cell_type": "code",
      "metadata": {
        "id": "x2Nk00ITFpPB",
        "colab_type": "code",
        "outputId": "9a886ef4-838d-41be-89a3-382f2f38b9fd",
        "colab": {
          "base_uri": "https://localhost:8080/",
          "height": 819
        }
      },
      "source": [
        "trees2['CD8_central_intra-Fibrosis_central']['tree graph']  ## with second figure of survival analysis"
      ],
      "execution_count": 0,
      "outputs": [
        {
          "output_type": "execute_result",
          "data": {
            "text/plain": [
              "<graphviz.files.Source at 0x7f052df2f908>"
            ],
            "image/svg+xml": "<?xml version=\"1.0\" encoding=\"UTF-8\" standalone=\"no\"?>\n<!DOCTYPE svg PUBLIC \"-//W3C//DTD SVG 1.1//EN\"\n \"http://www.w3.org/Graphics/SVG/1.1/DTD/svg11.dtd\">\n<!-- Generated by graphviz version 2.40.1 (20161225.0304)\n -->\n<!-- Title: Tree Pages: 1 -->\n<svg width=\"2173pt\" height=\"552pt\"\n viewBox=\"0.00 0.00 2172.50 552.00\" xmlns=\"http://www.w3.org/2000/svg\" xmlns:xlink=\"http://www.w3.org/1999/xlink\">\n<g id=\"graph0\" class=\"graph\" transform=\"scale(1 1) rotate(0) translate(4 548)\">\n<title>Tree</title>\n<polygon fill=\"#ffffff\" stroke=\"transparent\" points=\"-4,4 -4,-548 2168.5,-548 2168.5,4 -4,4\"/>\n<!-- 0 -->\n<g id=\"node1\" class=\"node\">\n<title>0</title>\n<path fill=\"#ffffff\" stroke=\"#000000\" d=\"M1343,-544C1343,-544 1190,-544 1190,-544 1184,-544 1178,-538 1178,-532 1178,-532 1178,-473 1178,-473 1178,-467 1184,-461 1190,-461 1190,-461 1343,-461 1343,-461 1349,-461 1355,-467 1355,-473 1355,-473 1355,-532 1355,-532 1355,-538 1349,-544 1343,-544\"/>\n<text text-anchor=\"start\" x=\"1186\" y=\"-528.8\" font-family=\"Helvetica,sans-Serif\" font-size=\"14.00\" fill=\"#000000\">CD8_central_intra ≤ 25.5</text>\n<text text-anchor=\"start\" x=\"1237\" y=\"-513.8\" font-family=\"Helvetica,sans-Serif\" font-size=\"14.00\" fill=\"#000000\">gini = 0.5</text>\n<text text-anchor=\"start\" x=\"1218.5\" y=\"-498.8\" font-family=\"Helvetica,sans-Serif\" font-size=\"14.00\" fill=\"#000000\">samples = 457</text>\n<text text-anchor=\"start\" x=\"1196.5\" y=\"-483.8\" font-family=\"Helvetica,sans-Serif\" font-size=\"14.00\" fill=\"#000000\">value = [228.5, 228.5]</text>\n<text text-anchor=\"start\" x=\"1237.5\" y=\"-468.8\" font-family=\"Helvetica,sans-Serif\" font-size=\"14.00\" fill=\"#000000\">class = 1</text>\n</g>\n<!-- 1 -->\n<g id=\"node2\" class=\"node\">\n<title>1</title>\n<path fill=\"#fae4d5\" stroke=\"#000000\" d=\"M1159,-425C1159,-425 994,-425 994,-425 988,-425 982,-419 982,-413 982,-413 982,-354 982,-354 982,-348 988,-342 994,-342 994,-342 1159,-342 1159,-342 1165,-342 1171,-348 1171,-354 1171,-354 1171,-413 1171,-413 1171,-419 1165,-425 1159,-425\"/>\n<text text-anchor=\"start\" x=\"999\" y=\"-409.8\" font-family=\"Helvetica,sans-Serif\" font-size=\"14.00\" fill=\"#000000\">Fibrosis_central ≤ 102.5</text>\n<text text-anchor=\"start\" x=\"1038.5\" y=\"-394.8\" font-family=\"Helvetica,sans-Serif\" font-size=\"14.00\" fill=\"#000000\">gini = 0.493</text>\n<text text-anchor=\"start\" x=\"1028.5\" y=\"-379.8\" font-family=\"Helvetica,sans-Serif\" font-size=\"14.00\" fill=\"#000000\">samples = 326</text>\n<text text-anchor=\"start\" x=\"990\" y=\"-364.8\" font-family=\"Helvetica,sans-Serif\" font-size=\"14.00\" fill=\"#000000\">value = [185.656, 146.585]</text>\n<text text-anchor=\"start\" x=\"1047.5\" y=\"-349.8\" font-family=\"Helvetica,sans-Serif\" font-size=\"14.00\" fill=\"#000000\">class = 0</text>\n</g>\n<!-- 0&#45;&gt;1 -->\n<g id=\"edge1\" class=\"edge\">\n<title>0&#45;&gt;1</title>\n<path fill=\"none\" stroke=\"#000000\" d=\"M1200.0472,-460.8796C1184.4267,-451.0962 1167.671,-440.6019 1151.6971,-430.5971\"/>\n<polygon fill=\"#000000\" stroke=\"#000000\" points=\"1153.2481,-427.4387 1142.9153,-425.0969 1149.5324,-433.3712 1153.2481,-427.4387\"/>\n<text text-anchor=\"middle\" x=\"1148.5137\" y=\"-445.762\" font-family=\"Helvetica,sans-Serif\" font-size=\"14.00\" fill=\"#000000\">True</text>\n</g>\n<!-- 16 -->\n<g id=\"node17\" class=\"node\">\n<title>16</title>\n<path fill=\"#a1d0f3\" stroke=\"#000000\" d=\"M1519,-425C1519,-425 1366,-425 1366,-425 1360,-425 1354,-419 1354,-413 1354,-413 1354,-354 1354,-354 1354,-348 1360,-342 1366,-342 1366,-342 1519,-342 1519,-342 1525,-342 1531,-348 1531,-354 1531,-354 1531,-413 1531,-413 1531,-419 1525,-425 1519,-425\"/>\n<text text-anchor=\"start\" x=\"1362\" y=\"-409.8\" font-family=\"Helvetica,sans-Serif\" font-size=\"14.00\" fill=\"#000000\">CD8_central_intra ≤ 33.5</text>\n<text text-anchor=\"start\" x=\"1404.5\" y=\"-394.8\" font-family=\"Helvetica,sans-Serif\" font-size=\"14.00\" fill=\"#000000\">gini = 0.451</text>\n<text text-anchor=\"start\" x=\"1394.5\" y=\"-379.8\" font-family=\"Helvetica,sans-Serif\" font-size=\"14.00\" fill=\"#000000\">samples = 131</text>\n<text text-anchor=\"start\" x=\"1364\" y=\"-364.8\" font-family=\"Helvetica,sans-Serif\" font-size=\"14.00\" fill=\"#000000\">value = [42.844, 81.915]</text>\n<text text-anchor=\"start\" x=\"1413.5\" y=\"-349.8\" font-family=\"Helvetica,sans-Serif\" font-size=\"14.00\" fill=\"#000000\">class = 1</text>\n</g>\n<!-- 0&#45;&gt;16 -->\n<g id=\"edge16\" class=\"edge\">\n<title>0&#45;&gt;16</title>\n<path fill=\"none\" stroke=\"#000000\" d=\"M1328.0563,-460.8796C1342.3918,-451.1868 1357.7595,-440.7961 1372.4325,-430.8752\"/>\n<polygon fill=\"#000000\" stroke=\"#000000\" points=\"1374.6548,-433.5976 1380.9785,-425.0969 1370.7339,-427.7987 1374.6548,-433.5976\"/>\n<text text-anchor=\"middle\" x=\"1376.2357\" y=\"-445.9429\" font-family=\"Helvetica,sans-Serif\" font-size=\"14.00\" fill=\"#000000\">False</text>\n</g>\n<!-- 2 -->\n<g id=\"node3\" class=\"node\">\n<title>2</title>\n<path fill=\"#f6d4bb\" stroke=\"#000000\" d=\"M636,-306C636,-306 479,-306 479,-306 473,-306 467,-300 467,-294 467,-294 467,-235 467,-235 467,-229 473,-223 479,-223 479,-223 636,-223 636,-223 642,-223 648,-229 648,-235 648,-235 648,-294 648,-294 648,-300 642,-306 636,-306\"/>\n<text text-anchor=\"start\" x=\"484\" y=\"-290.8\" font-family=\"Helvetica,sans-Serif\" font-size=\"14.00\" fill=\"#000000\">Fibrosis_central ≤ 55.0</text>\n<text text-anchor=\"start\" x=\"519.5\" y=\"-275.8\" font-family=\"Helvetica,sans-Serif\" font-size=\"14.00\" fill=\"#000000\">gini = 0.479</text>\n<text text-anchor=\"start\" x=\"509.5\" y=\"-260.8\" font-family=\"Helvetica,sans-Serif\" font-size=\"14.00\" fill=\"#000000\">samples = 168</text>\n<text text-anchor=\"start\" x=\"475\" y=\"-245.8\" font-family=\"Helvetica,sans-Serif\" font-size=\"14.00\" fill=\"#000000\">value = [104.729, 68.981]</text>\n<text text-anchor=\"start\" x=\"528.5\" y=\"-230.8\" font-family=\"Helvetica,sans-Serif\" font-size=\"14.00\" fill=\"#000000\">class = 0</text>\n</g>\n<!-- 1&#45;&gt;2 -->\n<g id=\"edge2\" class=\"edge\">\n<title>1&#45;&gt;2</title>\n<path fill=\"none\" stroke=\"#000000\" d=\"M981.9109,-361.8119C890.2772,-340.8015 751.8001,-309.0505 658.1628,-287.5807\"/>\n<polygon fill=\"#000000\" stroke=\"#000000\" points=\"658.9233,-284.1643 648.394,-285.3408 657.3589,-290.9873 658.9233,-284.1643\"/>\n</g>\n<!-- 9 -->\n<g id=\"node10\" class=\"node\">\n<title>9</title>\n<path fill=\"#fefaf7\" stroke=\"#000000\" d=\"M1151,-306C1151,-306 1002,-306 1002,-306 996,-306 990,-300 990,-294 990,-294 990,-235 990,-235 990,-229 996,-223 1002,-223 1002,-223 1151,-223 1151,-223 1157,-223 1163,-229 1163,-235 1163,-235 1163,-294 1163,-294 1163,-300 1157,-306 1151,-306\"/>\n<text text-anchor=\"start\" x=\"1000\" y=\"-290.8\" font-family=\"Helvetica,sans-Serif\" font-size=\"14.00\" fill=\"#000000\">CD8_central_intra ≤ 4.5</text>\n<text text-anchor=\"start\" x=\"1047\" y=\"-275.8\" font-family=\"Helvetica,sans-Serif\" font-size=\"14.00\" fill=\"#000000\">gini = 0.5</text>\n<text text-anchor=\"start\" x=\"1028.5\" y=\"-260.8\" font-family=\"Helvetica,sans-Serif\" font-size=\"14.00\" fill=\"#000000\">samples = 158</text>\n<text text-anchor=\"start\" x=\"998\" y=\"-245.8\" font-family=\"Helvetica,sans-Serif\" font-size=\"14.00\" fill=\"#000000\">value = [80.927, 77.604]</text>\n<text text-anchor=\"start\" x=\"1047.5\" y=\"-230.8\" font-family=\"Helvetica,sans-Serif\" font-size=\"14.00\" fill=\"#000000\">class = 0</text>\n</g>\n<!-- 1&#45;&gt;9 -->\n<g id=\"edge9\" class=\"edge\">\n<title>1&#45;&gt;9</title>\n<path fill=\"none\" stroke=\"#000000\" d=\"M1076.5,-341.8796C1076.5,-333.6838 1076.5,-324.9891 1076.5,-316.5013\"/>\n<polygon fill=\"#000000\" stroke=\"#000000\" points=\"1080.0001,-316.298 1076.5,-306.2981 1073.0001,-316.2981 1080.0001,-316.298\"/>\n</g>\n<!-- 3 -->\n<g id=\"node4\" class=\"node\">\n<title>3</title>\n<path fill=\"#fefbf9\" stroke=\"#000000\" d=\"M352,-187C352,-187 203,-187 203,-187 197,-187 191,-181 191,-175 191,-175 191,-116 191,-116 191,-110 197,-104 203,-104 203,-104 352,-104 352,-104 358,-104 364,-110 364,-116 364,-116 364,-175 364,-175 364,-181 358,-187 352,-187\"/>\n<text text-anchor=\"start\" x=\"204\" y=\"-171.8\" font-family=\"Helvetica,sans-Serif\" font-size=\"14.00\" fill=\"#000000\">Fibrosis_central ≤ 12.5</text>\n<text text-anchor=\"start\" x=\"248\" y=\"-156.8\" font-family=\"Helvetica,sans-Serif\" font-size=\"14.00\" fill=\"#000000\">gini = 0.5</text>\n<text text-anchor=\"start\" x=\"229.5\" y=\"-141.8\" font-family=\"Helvetica,sans-Serif\" font-size=\"14.00\" fill=\"#000000\">samples = 110</text>\n<text text-anchor=\"start\" x=\"199\" y=\"-126.8\" font-family=\"Helvetica,sans-Serif\" font-size=\"14.00\" fill=\"#000000\">value = [55.935, 54.323]</text>\n<text text-anchor=\"start\" x=\"248.5\" y=\"-111.8\" font-family=\"Helvetica,sans-Serif\" font-size=\"14.00\" fill=\"#000000\">class = 0</text>\n</g>\n<!-- 2&#45;&gt;3 -->\n<g id=\"edge3\" class=\"edge\">\n<title>2&#45;&gt;3</title>\n<path fill=\"none\" stroke=\"#000000\" d=\"M466.9787,-226.0284C437.1503,-213.3514 403.8828,-199.2127 373.65,-186.3638\"/>\n<polygon fill=\"#000000\" stroke=\"#000000\" points=\"374.9443,-183.1109 364.372,-182.4206 372.2063,-189.5532 374.9443,-183.1109\"/>\n</g>\n<!-- 6 -->\n<g id=\"node7\" class=\"node\">\n<title>6</title>\n<path fill=\"#eda774\" stroke=\"#000000\" d=\"M632,-187C632,-187 483,-187 483,-187 477,-187 471,-181 471,-175 471,-175 471,-116 471,-116 471,-110 477,-104 483,-104 483,-104 632,-104 632,-104 638,-104 644,-110 644,-116 644,-116 644,-175 644,-175 644,-181 638,-187 632,-187\"/>\n<text text-anchor=\"start\" x=\"484\" y=\"-171.8\" font-family=\"Helvetica,sans-Serif\" font-size=\"14.00\" fill=\"#000000\">Fibrosis_central ≤ 95.0</text>\n<text text-anchor=\"start\" x=\"519.5\" y=\"-156.8\" font-family=\"Helvetica,sans-Serif\" font-size=\"14.00\" fill=\"#000000\">gini = 0.355</text>\n<text text-anchor=\"start\" x=\"513.5\" y=\"-141.8\" font-family=\"Helvetica,sans-Serif\" font-size=\"14.00\" fill=\"#000000\">samples = 58</text>\n<text text-anchor=\"start\" x=\"479\" y=\"-126.8\" font-family=\"Helvetica,sans-Serif\" font-size=\"14.00\" fill=\"#000000\">value = [48.794, 14.658]</text>\n<text text-anchor=\"start\" x=\"528.5\" y=\"-111.8\" font-family=\"Helvetica,sans-Serif\" font-size=\"14.00\" fill=\"#000000\">class = 0</text>\n</g>\n<!-- 2&#45;&gt;6 -->\n<g id=\"edge6\" class=\"edge\">\n<title>2&#45;&gt;6</title>\n<path fill=\"none\" stroke=\"#000000\" d=\"M557.5,-222.8796C557.5,-214.6838 557.5,-205.9891 557.5,-197.5013\"/>\n<polygon fill=\"#000000\" stroke=\"#000000\" points=\"561.0001,-197.298 557.5,-187.2981 554.0001,-197.2981 561.0001,-197.298\"/>\n</g>\n<!-- 4 -->\n<g id=\"node5\" class=\"node\">\n<title>4</title>\n<path fill=\"#f2c19d\" stroke=\"#000000\" d=\"M161,-68C161,-68 12,-68 12,-68 6,-68 0,-62 0,-56 0,-56 0,-12 0,-12 0,-6 6,0 12,0 12,0 161,0 161,0 167,0 173,-6 173,-12 173,-12 173,-56 173,-56 173,-62 167,-68 161,-68\"/>\n<text text-anchor=\"start\" x=\"48.5\" y=\"-52.8\" font-family=\"Helvetica,sans-Serif\" font-size=\"14.00\" fill=\"#000000\">gini = 0.447</text>\n<text text-anchor=\"start\" x=\"42.5\" y=\"-37.8\" font-family=\"Helvetica,sans-Serif\" font-size=\"14.00\" fill=\"#000000\">samples = 34</text>\n<text text-anchor=\"start\" x=\"8\" y=\"-22.8\" font-family=\"Helvetica,sans-Serif\" font-size=\"14.00\" fill=\"#000000\">value = [23.802, 12.072]</text>\n<text text-anchor=\"start\" x=\"57.5\" y=\"-7.8\" font-family=\"Helvetica,sans-Serif\" font-size=\"14.00\" fill=\"#000000\">class = 0</text>\n</g>\n<!-- 3&#45;&gt;4 -->\n<g id=\"edge4\" class=\"edge\">\n<title>3&#45;&gt;4</title>\n<path fill=\"none\" stroke=\"#000000\" d=\"M206.3786,-103.9815C189.1277,-93.911 170.7395,-83.1764 153.6773,-73.2161\"/>\n<polygon fill=\"#000000\" stroke=\"#000000\" points=\"155.2895,-70.1045 144.8888,-68.0856 151.7604,-76.1499 155.2895,-70.1045\"/>\n</g>\n<!-- 5 -->\n<g id=\"node6\" class=\"node\">\n<title>5</title>\n<path fill=\"#d0e8f9\" stroke=\"#000000\" d=\"M352,-68C352,-68 203,-68 203,-68 197,-68 191,-62 191,-56 191,-56 191,-12 191,-12 191,-6 197,0 203,0 203,0 352,0 352,0 358,0 364,-6 364,-12 364,-12 364,-56 364,-56 364,-62 358,-68 352,-68\"/>\n<text text-anchor=\"start\" x=\"239.5\" y=\"-52.8\" font-family=\"Helvetica,sans-Serif\" font-size=\"14.00\" fill=\"#000000\">gini = 0.491</text>\n<text text-anchor=\"start\" x=\"233.5\" y=\"-37.8\" font-family=\"Helvetica,sans-Serif\" font-size=\"14.00\" fill=\"#000000\">samples = 76</text>\n<text text-anchor=\"start\" x=\"199\" y=\"-22.8\" font-family=\"Helvetica,sans-Serif\" font-size=\"14.00\" fill=\"#000000\">value = [32.133, 42.251]</text>\n<text text-anchor=\"start\" x=\"248.5\" y=\"-7.8\" font-family=\"Helvetica,sans-Serif\" font-size=\"14.00\" fill=\"#000000\">class = 1</text>\n</g>\n<!-- 3&#45;&gt;5 -->\n<g id=\"edge5\" class=\"edge\">\n<title>3&#45;&gt;5</title>\n<path fill=\"none\" stroke=\"#000000\" d=\"M277.5,-103.9815C277.5,-95.618 277.5,-86.7965 277.5,-78.3409\"/>\n<polygon fill=\"#000000\" stroke=\"#000000\" points=\"281.0001,-78.2636 277.5,-68.2637 274.0001,-78.2637 281.0001,-78.2636\"/>\n</g>\n<!-- 7 -->\n<g id=\"node8\" class=\"node\">\n<title>7</title>\n<path fill=\"#eb9f69\" stroke=\"#000000\" d=\"M534.5,-68C534.5,-68 394.5,-68 394.5,-68 388.5,-68 382.5,-62 382.5,-56 382.5,-56 382.5,-12 382.5,-12 382.5,-6 388.5,0 394.5,0 394.5,0 534.5,0 534.5,0 540.5,0 546.5,-6 546.5,-12 546.5,-12 546.5,-56 546.5,-56 546.5,-62 540.5,-68 534.5,-68\"/>\n<text text-anchor=\"start\" x=\"426.5\" y=\"-52.8\" font-family=\"Helvetica,sans-Serif\" font-size=\"14.00\" fill=\"#000000\">gini = 0.313</text>\n<text text-anchor=\"start\" x=\"420.5\" y=\"-37.8\" font-family=\"Helvetica,sans-Serif\" font-size=\"14.00\" fill=\"#000000\">samples = 40</text>\n<text text-anchor=\"start\" x=\"390.5\" y=\"-22.8\" font-family=\"Helvetica,sans-Serif\" font-size=\"14.00\" fill=\"#000000\">value = [35.703, 8.623]</text>\n<text text-anchor=\"start\" x=\"435.5\" y=\"-7.8\" font-family=\"Helvetica,sans-Serif\" font-size=\"14.00\" fill=\"#000000\">class = 0</text>\n</g>\n<!-- 6&#45;&gt;7 -->\n<g id=\"edge7\" class=\"edge\">\n<title>6&#45;&gt;7</title>\n<path fill=\"none\" stroke=\"#000000\" d=\"M522.8702,-103.9815C515.2811,-94.8828 507.24,-85.242 499.6314,-76.1199\"/>\n<polygon fill=\"#000000\" stroke=\"#000000\" points=\"502.1717,-73.7012 493.0787,-68.2637 496.7961,-78.1849 502.1717,-73.7012\"/>\n</g>\n<!-- 8 -->\n<g id=\"node9\" class=\"node\">\n<title>8</title>\n<path fill=\"#f1bb94\" stroke=\"#000000\" d=\"M716.5,-68C716.5,-68 576.5,-68 576.5,-68 570.5,-68 564.5,-62 564.5,-56 564.5,-56 564.5,-12 564.5,-12 564.5,-6 570.5,0 576.5,0 576.5,0 716.5,0 716.5,0 722.5,0 728.5,-6 728.5,-12 728.5,-12 728.5,-56 728.5,-56 728.5,-62 722.5,-68 716.5,-68\"/>\n<text text-anchor=\"start\" x=\"608.5\" y=\"-52.8\" font-family=\"Helvetica,sans-Serif\" font-size=\"14.00\" fill=\"#000000\">gini = 0.432</text>\n<text text-anchor=\"start\" x=\"602.5\" y=\"-37.8\" font-family=\"Helvetica,sans-Serif\" font-size=\"14.00\" fill=\"#000000\">samples = 18</text>\n<text text-anchor=\"start\" x=\"572.5\" y=\"-22.8\" font-family=\"Helvetica,sans-Serif\" font-size=\"14.00\" fill=\"#000000\">value = [13.091, 6.036]</text>\n<text text-anchor=\"start\" x=\"617.5\" y=\"-7.8\" font-family=\"Helvetica,sans-Serif\" font-size=\"14.00\" fill=\"#000000\">class = 0</text>\n</g>\n<!-- 6&#45;&gt;8 -->\n<g id=\"edge8\" class=\"edge\">\n<title>6&#45;&gt;8</title>\n<path fill=\"none\" stroke=\"#000000\" d=\"M590.6403,-103.9815C597.903,-94.8828 605.5983,-85.242 612.8796,-76.1199\"/>\n<polygon fill=\"#000000\" stroke=\"#000000\" points=\"615.6475,-78.2627 619.1505,-68.2637 610.1766,-73.8958 615.6475,-78.2627\"/>\n</g>\n<!-- 10 -->\n<g id=\"node11\" class=\"node\">\n<title>10</title>\n<path fill=\"#f5fafe\" stroke=\"#000000\" d=\"M1061,-187C1061,-187 912,-187 912,-187 906,-187 900,-181 900,-175 900,-175 900,-116 900,-116 900,-110 906,-104 912,-104 912,-104 1061,-104 1061,-104 1067,-104 1073,-110 1073,-116 1073,-116 1073,-175 1073,-175 1073,-181 1067,-187 1061,-187\"/>\n<text text-anchor=\"start\" x=\"910\" y=\"-171.8\" font-family=\"Helvetica,sans-Serif\" font-size=\"14.00\" fill=\"#000000\">CD8_central_intra ≤ 0.5</text>\n<text text-anchor=\"start\" x=\"957\" y=\"-156.8\" font-family=\"Helvetica,sans-Serif\" font-size=\"14.00\" fill=\"#000000\">gini = 0.5</text>\n<text text-anchor=\"start\" x=\"938.5\" y=\"-141.8\" font-family=\"Helvetica,sans-Serif\" font-size=\"14.00\" fill=\"#000000\">samples = 125</text>\n<text text-anchor=\"start\" x=\"908\" y=\"-126.8\" font-family=\"Helvetica,sans-Serif\" font-size=\"14.00\" fill=\"#000000\">value = [60.695, 63.808]</text>\n<text text-anchor=\"start\" x=\"957.5\" y=\"-111.8\" font-family=\"Helvetica,sans-Serif\" font-size=\"14.00\" fill=\"#000000\">class = 1</text>\n</g>\n<!-- 9&#45;&gt;10 -->\n<g id=\"edge10\" class=\"edge\">\n<title>9&#45;&gt;10</title>\n<path fill=\"none\" stroke=\"#000000\" d=\"M1045.0224,-222.8796C1038.3471,-214.0534 1031.2342,-204.6485 1024.3504,-195.5466\"/>\n<polygon fill=\"#000000\" stroke=\"#000000\" points=\"1026.9357,-193.1626 1018.112,-187.2981 1021.3526,-197.3852 1026.9357,-193.1626\"/>\n</g>\n<!-- 13 -->\n<g id=\"node14\" class=\"node\">\n<title>13</title>\n<path fill=\"#f7d7c0\" stroke=\"#000000\" d=\"M1256,-187C1256,-187 1103,-187 1103,-187 1097,-187 1091,-181 1091,-175 1091,-175 1091,-116 1091,-116 1091,-110 1097,-104 1103,-104 1103,-104 1256,-104 1256,-104 1262,-104 1268,-110 1268,-116 1268,-116 1268,-175 1268,-175 1268,-181 1262,-187 1256,-187\"/>\n<text text-anchor=\"start\" x=\"1099\" y=\"-171.8\" font-family=\"Helvetica,sans-Serif\" font-size=\"14.00\" fill=\"#000000\">CD8_central_intra ≤ 13.5</text>\n<text text-anchor=\"start\" x=\"1141.5\" y=\"-156.8\" font-family=\"Helvetica,sans-Serif\" font-size=\"14.00\" fill=\"#000000\">gini = 0.482</text>\n<text text-anchor=\"start\" x=\"1135.5\" y=\"-141.8\" font-family=\"Helvetica,sans-Serif\" font-size=\"14.00\" fill=\"#000000\">samples = 33</text>\n<text text-anchor=\"start\" x=\"1101\" y=\"-126.8\" font-family=\"Helvetica,sans-Serif\" font-size=\"14.00\" fill=\"#000000\">value = [20.232, 13.796]</text>\n<text text-anchor=\"start\" x=\"1150.5\" y=\"-111.8\" font-family=\"Helvetica,sans-Serif\" font-size=\"14.00\" fill=\"#000000\">class = 0</text>\n</g>\n<!-- 9&#45;&gt;13 -->\n<g id=\"edge13\" class=\"edge\">\n<title>9&#45;&gt;13</title>\n<path fill=\"none\" stroke=\"#000000\" d=\"M1112.5244,-222.8796C1120.3198,-213.8733 1128.6367,-204.2644 1136.6644,-194.9897\"/>\n<polygon fill=\"#000000\" stroke=\"#000000\" points=\"1139.4237,-197.1498 1143.3218,-187.2981 1134.1309,-192.5686 1139.4237,-197.1498\"/>\n</g>\n<!-- 11 -->\n<g id=\"node12\" class=\"node\">\n<title>11</title>\n<path fill=\"#fefaf7\" stroke=\"#000000\" d=\"M908,-68C908,-68 759,-68 759,-68 753,-68 747,-62 747,-56 747,-56 747,-12 747,-12 747,-6 753,0 759,0 759,0 908,0 908,0 914,0 920,-6 920,-12 920,-12 920,-56 920,-56 920,-62 914,-68 908,-68\"/>\n<text text-anchor=\"start\" x=\"804\" y=\"-52.8\" font-family=\"Helvetica,sans-Serif\" font-size=\"14.00\" fill=\"#000000\">gini = 0.5</text>\n<text text-anchor=\"start\" x=\"785.5\" y=\"-37.8\" font-family=\"Helvetica,sans-Serif\" font-size=\"14.00\" fill=\"#000000\">samples = 114</text>\n<text text-anchor=\"start\" x=\"755\" y=\"-22.8\" font-family=\"Helvetica,sans-Serif\" font-size=\"14.00\" fill=\"#000000\">value = [58.315, 56.047]</text>\n<text text-anchor=\"start\" x=\"804.5\" y=\"-7.8\" font-family=\"Helvetica,sans-Serif\" font-size=\"14.00\" fill=\"#000000\">class = 0</text>\n</g>\n<!-- 10&#45;&gt;11 -->\n<g id=\"edge11\" class=\"edge\">\n<title>10&#45;&gt;11</title>\n<path fill=\"none\" stroke=\"#000000\" d=\"M929.5284,-103.9815C916.1604,-94.2394 901.9396,-83.8759 888.6528,-74.193\"/>\n<polygon fill=\"#000000\" stroke=\"#000000\" points=\"890.6595,-71.3247 880.5165,-68.2637 886.5368,-76.9819 890.6595,-71.3247\"/>\n</g>\n<!-- 12 -->\n<g id=\"node13\" class=\"node\">\n<title>12</title>\n<path fill=\"#76bbed\" stroke=\"#000000\" d=\"M1066.5,-68C1066.5,-68 950.5,-68 950.5,-68 944.5,-68 938.5,-62 938.5,-56 938.5,-56 938.5,-12 938.5,-12 938.5,-6 944.5,0 950.5,0 950.5,0 1066.5,0 1066.5,0 1072.5,0 1078.5,-6 1078.5,-12 1078.5,-12 1078.5,-56 1078.5,-56 1078.5,-62 1072.5,-68 1066.5,-68\"/>\n<text text-anchor=\"start\" x=\"970.5\" y=\"-52.8\" font-family=\"Helvetica,sans-Serif\" font-size=\"14.00\" fill=\"#000000\">gini = 0.359</text>\n<text text-anchor=\"start\" x=\"964.5\" y=\"-37.8\" font-family=\"Helvetica,sans-Serif\" font-size=\"14.00\" fill=\"#000000\">samples = 11</text>\n<text text-anchor=\"start\" x=\"946.5\" y=\"-22.8\" font-family=\"Helvetica,sans-Serif\" font-size=\"14.00\" fill=\"#000000\">value = [2.38, 7.76]</text>\n<text text-anchor=\"start\" x=\"979.5\" y=\"-7.8\" font-family=\"Helvetica,sans-Serif\" font-size=\"14.00\" fill=\"#000000\">class = 1</text>\n</g>\n<!-- 10&#45;&gt;12 -->\n<g id=\"edge12\" class=\"edge\">\n<title>10&#45;&gt;12</title>\n<path fill=\"none\" stroke=\"#000000\" d=\"M994.692,-103.9815C996.3422,-95.618 998.0827,-86.7965 999.7511,-78.3409\"/>\n<polygon fill=\"#000000\" stroke=\"#000000\" points=\"1003.2374,-78.7521 1001.7395,-68.2637 996.3698,-77.397 1003.2374,-78.7521\"/>\n</g>\n<!-- 14 -->\n<g id=\"node15\" class=\"node\">\n<title>14</title>\n<path fill=\"#eca26d\" stroke=\"#000000\" d=\"M1248.5,-68C1248.5,-68 1108.5,-68 1108.5,-68 1102.5,-68 1096.5,-62 1096.5,-56 1096.5,-56 1096.5,-12 1096.5,-12 1096.5,-6 1102.5,0 1108.5,0 1108.5,0 1248.5,0 1248.5,0 1254.5,0 1260.5,-6 1260.5,-12 1260.5,-12 1260.5,-56 1260.5,-56 1260.5,-62 1254.5,-68 1248.5,-68\"/>\n<text text-anchor=\"start\" x=\"1145\" y=\"-52.8\" font-family=\"Helvetica,sans-Serif\" font-size=\"14.00\" fill=\"#000000\">gini = 0.33</text>\n<text text-anchor=\"start\" x=\"1134.5\" y=\"-37.8\" font-family=\"Helvetica,sans-Serif\" font-size=\"14.00\" fill=\"#000000\">samples = 15</text>\n<text text-anchor=\"start\" x=\"1104.5\" y=\"-22.8\" font-family=\"Helvetica,sans-Serif\" font-size=\"14.00\" fill=\"#000000\">value = [13.091, 3.449]</text>\n<text text-anchor=\"start\" x=\"1149.5\" y=\"-7.8\" font-family=\"Helvetica,sans-Serif\" font-size=\"14.00\" fill=\"#000000\">class = 0</text>\n</g>\n<!-- 13&#45;&gt;14 -->\n<g id=\"edge14\" class=\"edge\">\n<title>13&#45;&gt;14</title>\n<path fill=\"none\" stroke=\"#000000\" d=\"M1179.1276,-103.9815C1179.0526,-95.618 1178.9735,-86.7965 1178.8977,-78.3409\"/>\n<polygon fill=\"#000000\" stroke=\"#000000\" points=\"1182.3969,-78.2318 1178.8073,-68.2637 1175.3972,-78.2947 1182.3969,-78.2318\"/>\n</g>\n<!-- 15 -->\n<g id=\"node16\" class=\"node\">\n<title>15</title>\n<path fill=\"#c2e1f7\" stroke=\"#000000\" d=\"M1430.5,-68C1430.5,-68 1290.5,-68 1290.5,-68 1284.5,-68 1278.5,-62 1278.5,-56 1278.5,-56 1278.5,-12 1278.5,-12 1278.5,-6 1284.5,0 1290.5,0 1290.5,0 1430.5,0 1430.5,0 1436.5,0 1442.5,-6 1442.5,-12 1442.5,-12 1442.5,-56 1442.5,-56 1442.5,-62 1436.5,-68 1430.5,-68\"/>\n<text text-anchor=\"start\" x=\"1322.5\" y=\"-52.8\" font-family=\"Helvetica,sans-Serif\" font-size=\"14.00\" fill=\"#000000\">gini = 0.483</text>\n<text text-anchor=\"start\" x=\"1316.5\" y=\"-37.8\" font-family=\"Helvetica,sans-Serif\" font-size=\"14.00\" fill=\"#000000\">samples = 18</text>\n<text text-anchor=\"start\" x=\"1286.5\" y=\"-22.8\" font-family=\"Helvetica,sans-Serif\" font-size=\"14.00\" fill=\"#000000\">value = [7.141, 10.347]</text>\n<text text-anchor=\"start\" x=\"1331.5\" y=\"-7.8\" font-family=\"Helvetica,sans-Serif\" font-size=\"14.00\" fill=\"#000000\">class = 1</text>\n</g>\n<!-- 13&#45;&gt;15 -->\n<g id=\"edge15\" class=\"edge\">\n<title>13&#45;&gt;15</title>\n<path fill=\"none\" stroke=\"#000000\" d=\"M1246.8977,-103.9815C1263.0955,-94.0034 1280.3513,-83.3733 1296.3945,-73.4904\"/>\n<polygon fill=\"#000000\" stroke=\"#000000\" points=\"1298.4897,-76.3105 1305.1682,-68.0856 1294.8183,-70.3506 1298.4897,-76.3105\"/>\n</g>\n<!-- 17 -->\n<g id=\"node18\" class=\"node\">\n<title>17</title>\n<path fill=\"#60b0ea\" stroke=\"#000000\" d=\"M1512,-306C1512,-306 1373,-306 1373,-306 1367,-306 1361,-300 1361,-294 1361,-294 1361,-235 1361,-235 1361,-229 1367,-223 1373,-223 1373,-223 1512,-223 1512,-223 1518,-223 1524,-229 1524,-235 1524,-235 1524,-294 1524,-294 1524,-300 1518,-306 1512,-306\"/>\n<text text-anchor=\"start\" x=\"1369\" y=\"-290.8\" font-family=\"Helvetica,sans-Serif\" font-size=\"14.00\" fill=\"#000000\">Fibrosis_central ≤ 77.5</text>\n<text text-anchor=\"start\" x=\"1404.5\" y=\"-275.8\" font-family=\"Helvetica,sans-Serif\" font-size=\"14.00\" fill=\"#000000\">gini = 0.275</text>\n<text text-anchor=\"start\" x=\"1398.5\" y=\"-260.8\" font-family=\"Helvetica,sans-Serif\" font-size=\"14.00\" fill=\"#000000\">samples = 24</text>\n<text text-anchor=\"start\" x=\"1372.5\" y=\"-245.8\" font-family=\"Helvetica,sans-Serif\" font-size=\"14.00\" fill=\"#000000\">value = [3.57, 18.108]</text>\n<text text-anchor=\"start\" x=\"1413.5\" y=\"-230.8\" font-family=\"Helvetica,sans-Serif\" font-size=\"14.00\" fill=\"#000000\">class = 1</text>\n</g>\n<!-- 16&#45;&gt;17 -->\n<g id=\"edge17\" class=\"edge\">\n<title>16&#45;&gt;17</title>\n<path fill=\"none\" stroke=\"#000000\" d=\"M1442.5,-341.8796C1442.5,-333.6838 1442.5,-324.9891 1442.5,-316.5013\"/>\n<polygon fill=\"#000000\" stroke=\"#000000\" points=\"1446.0001,-316.298 1442.5,-306.2981 1439.0001,-316.2981 1446.0001,-316.298\"/>\n</g>\n<!-- 20 -->\n<g id=\"node21\" class=\"node\">\n<title>20</title>\n<path fill=\"#b3d9f5\" stroke=\"#000000\" d=\"M1788,-306C1788,-306 1635,-306 1635,-306 1629,-306 1623,-300 1623,-294 1623,-294 1623,-235 1623,-235 1623,-229 1629,-223 1635,-223 1635,-223 1788,-223 1788,-223 1794,-223 1800,-229 1800,-235 1800,-235 1800,-294 1800,-294 1800,-300 1794,-306 1788,-306\"/>\n<text text-anchor=\"start\" x=\"1631\" y=\"-290.8\" font-family=\"Helvetica,sans-Serif\" font-size=\"14.00\" fill=\"#000000\">CD8_central_intra ≤ 80.5</text>\n<text text-anchor=\"start\" x=\"1673.5\" y=\"-275.8\" font-family=\"Helvetica,sans-Serif\" font-size=\"14.00\" fill=\"#000000\">gini = 0.472</text>\n<text text-anchor=\"start\" x=\"1663.5\" y=\"-260.8\" font-family=\"Helvetica,sans-Serif\" font-size=\"14.00\" fill=\"#000000\">samples = 107</text>\n<text text-anchor=\"start\" x=\"1633\" y=\"-245.8\" font-family=\"Helvetica,sans-Serif\" font-size=\"14.00\" fill=\"#000000\">value = [39.273, 63.808]</text>\n<text text-anchor=\"start\" x=\"1682.5\" y=\"-230.8\" font-family=\"Helvetica,sans-Serif\" font-size=\"14.00\" fill=\"#000000\">class = 1</text>\n</g>\n<!-- 16&#45;&gt;20 -->\n<g id=\"edge20\" class=\"edge\">\n<title>16&#45;&gt;20</title>\n<path fill=\"none\" stroke=\"#000000\" d=\"M1531.3262,-344.2052C1557.6099,-332.5778 1586.5342,-319.7823 1613.3698,-307.9107\"/>\n<polygon fill=\"#000000\" stroke=\"#000000\" points=\"1615.038,-311 1622.7671,-303.7536 1612.206,-304.5985 1615.038,-311\"/>\n</g>\n<!-- 18 -->\n<g id=\"node19\" class=\"node\">\n<title>18</title>\n<path fill=\"#52a9e8\" stroke=\"#000000\" d=\"M1423.5,-179.5C1423.5,-179.5 1299.5,-179.5 1299.5,-179.5 1293.5,-179.5 1287.5,-173.5 1287.5,-167.5 1287.5,-167.5 1287.5,-123.5 1287.5,-123.5 1287.5,-117.5 1293.5,-111.5 1299.5,-111.5 1299.5,-111.5 1423.5,-111.5 1423.5,-111.5 1429.5,-111.5 1435.5,-117.5 1435.5,-123.5 1435.5,-123.5 1435.5,-167.5 1435.5,-167.5 1435.5,-173.5 1429.5,-179.5 1423.5,-179.5\"/>\n<text text-anchor=\"start\" x=\"1323.5\" y=\"-164.3\" font-family=\"Helvetica,sans-Serif\" font-size=\"14.00\" fill=\"#000000\">gini = 0.198</text>\n<text text-anchor=\"start\" x=\"1317.5\" y=\"-149.3\" font-family=\"Helvetica,sans-Serif\" font-size=\"14.00\" fill=\"#000000\">samples = 12</text>\n<text text-anchor=\"start\" x=\"1295.5\" y=\"-134.3\" font-family=\"Helvetica,sans-Serif\" font-size=\"14.00\" fill=\"#000000\">value = [1.19, 9.485]</text>\n<text text-anchor=\"start\" x=\"1332.5\" y=\"-119.3\" font-family=\"Helvetica,sans-Serif\" font-size=\"14.00\" fill=\"#000000\">class = 1</text>\n</g>\n<!-- 17&#45;&gt;18 -->\n<g id=\"edge18\" class=\"edge\">\n<title>17&#45;&gt;18</title>\n<path fill=\"none\" stroke=\"#000000\" d=\"M1414.1701,-222.8796C1406.5357,-211.6636 1398.2652,-199.5131 1390.5901,-188.2372\"/>\n<polygon fill=\"#000000\" stroke=\"#000000\" points=\"1393.3775,-186.1122 1384.8572,-179.8149 1387.5908,-190.0511 1393.3775,-186.1122\"/>\n</g>\n<!-- 19 -->\n<g id=\"node20\" class=\"node\">\n<title>19</title>\n<path fill=\"#70b8ec\" stroke=\"#000000\" d=\"M1589.5,-179.5C1589.5,-179.5 1465.5,-179.5 1465.5,-179.5 1459.5,-179.5 1453.5,-173.5 1453.5,-167.5 1453.5,-167.5 1453.5,-123.5 1453.5,-123.5 1453.5,-117.5 1459.5,-111.5 1465.5,-111.5 1465.5,-111.5 1589.5,-111.5 1589.5,-111.5 1595.5,-111.5 1601.5,-117.5 1601.5,-123.5 1601.5,-123.5 1601.5,-167.5 1601.5,-167.5 1601.5,-173.5 1595.5,-179.5 1589.5,-179.5\"/>\n<text text-anchor=\"start\" x=\"1489.5\" y=\"-164.3\" font-family=\"Helvetica,sans-Serif\" font-size=\"14.00\" fill=\"#000000\">gini = 0.339</text>\n<text text-anchor=\"start\" x=\"1483.5\" y=\"-149.3\" font-family=\"Helvetica,sans-Serif\" font-size=\"14.00\" fill=\"#000000\">samples = 12</text>\n<text text-anchor=\"start\" x=\"1461.5\" y=\"-134.3\" font-family=\"Helvetica,sans-Serif\" font-size=\"14.00\" fill=\"#000000\">value = [2.38, 8.623]</text>\n<text text-anchor=\"start\" x=\"1498.5\" y=\"-119.3\" font-family=\"Helvetica,sans-Serif\" font-size=\"14.00\" fill=\"#000000\">class = 1</text>\n</g>\n<!-- 17&#45;&gt;19 -->\n<g id=\"edge19\" class=\"edge\">\n<title>17&#45;&gt;19</title>\n<path fill=\"none\" stroke=\"#000000\" d=\"M1472.2289,-222.8796C1480.2403,-211.6636 1488.9192,-199.5131 1496.9734,-188.2372\"/>\n<polygon fill=\"#000000\" stroke=\"#000000\" points=\"1500.025,-189.9866 1502.9893,-179.8149 1494.3288,-185.9179 1500.025,-189.9866\"/>\n</g>\n<!-- 21 -->\n<g id=\"node22\" class=\"node\">\n<title>21</title>\n<path fill=\"#d8ecfa\" stroke=\"#000000\" d=\"M1788,-187C1788,-187 1635,-187 1635,-187 1629,-187 1623,-181 1623,-175 1623,-175 1623,-116 1623,-116 1623,-110 1629,-104 1635,-104 1635,-104 1788,-104 1788,-104 1794,-104 1800,-110 1800,-116 1800,-116 1800,-175 1800,-175 1800,-181 1794,-187 1788,-187\"/>\n<text text-anchor=\"start\" x=\"1631\" y=\"-171.8\" font-family=\"Helvetica,sans-Serif\" font-size=\"14.00\" fill=\"#000000\">CD8_central_intra ≤ 69.5</text>\n<text text-anchor=\"start\" x=\"1673.5\" y=\"-156.8\" font-family=\"Helvetica,sans-Serif\" font-size=\"14.00\" fill=\"#000000\">gini = 0.494</text>\n<text text-anchor=\"start\" x=\"1667.5\" y=\"-141.8\" font-family=\"Helvetica,sans-Serif\" font-size=\"14.00\" fill=\"#000000\">samples = 68</text>\n<text text-anchor=\"start\" x=\"1633\" y=\"-126.8\" font-family=\"Helvetica,sans-Serif\" font-size=\"14.00\" fill=\"#000000\">value = [29.753, 37.077]</text>\n<text text-anchor=\"start\" x=\"1682.5\" y=\"-111.8\" font-family=\"Helvetica,sans-Serif\" font-size=\"14.00\" fill=\"#000000\">class = 1</text>\n</g>\n<!-- 20&#45;&gt;21 -->\n<g id=\"edge21\" class=\"edge\">\n<title>20&#45;&gt;21</title>\n<path fill=\"none\" stroke=\"#000000\" d=\"M1711.5,-222.8796C1711.5,-214.6838 1711.5,-205.9891 1711.5,-197.5013\"/>\n<polygon fill=\"#000000\" stroke=\"#000000\" points=\"1715.0001,-197.298 1711.5,-187.2981 1708.0001,-197.2981 1715.0001,-197.298\"/>\n</g>\n<!-- 24 -->\n<g id=\"node25\" class=\"node\">\n<title>24</title>\n<path fill=\"#80c0ee\" stroke=\"#000000\" d=\"M1993,-187C1993,-187 1832,-187 1832,-187 1826,-187 1820,-181 1820,-175 1820,-175 1820,-116 1820,-116 1820,-110 1826,-104 1832,-104 1832,-104 1993,-104 1993,-104 1999,-104 2005,-110 2005,-116 2005,-116 2005,-175 2005,-175 2005,-181 1999,-187 1993,-187\"/>\n<text text-anchor=\"start\" x=\"1828\" y=\"-171.8\" font-family=\"Helvetica,sans-Serif\" font-size=\"14.00\" fill=\"#000000\">CD8_central_intra ≤ 106.5</text>\n<text text-anchor=\"start\" x=\"1874.5\" y=\"-156.8\" font-family=\"Helvetica,sans-Serif\" font-size=\"14.00\" fill=\"#000000\">gini = 0.387</text>\n<text text-anchor=\"start\" x=\"1868.5\" y=\"-141.8\" font-family=\"Helvetica,sans-Serif\" font-size=\"14.00\" fill=\"#000000\">samples = 39</text>\n<text text-anchor=\"start\" x=\"1842.5\" y=\"-126.8\" font-family=\"Helvetica,sans-Serif\" font-size=\"14.00\" fill=\"#000000\">value = [9.521, 26.73]</text>\n<text text-anchor=\"start\" x=\"1883.5\" y=\"-111.8\" font-family=\"Helvetica,sans-Serif\" font-size=\"14.00\" fill=\"#000000\">class = 1</text>\n</g>\n<!-- 20&#45;&gt;24 -->\n<g id=\"edge24\" class=\"edge\">\n<title>20&#45;&gt;24</title>\n<path fill=\"none\" stroke=\"#000000\" d=\"M1781.8,-222.8796C1798.4779,-213.0056 1816.379,-202.4075 1833.4186,-192.3193\"/>\n<polygon fill=\"#000000\" stroke=\"#000000\" points=\"1835.4177,-195.2032 1842.2396,-187.0969 1831.8515,-189.1797 1835.4177,-195.2032\"/>\n</g>\n<!-- 22 -->\n<g id=\"node23\" class=\"node\">\n<title>22</title>\n<path fill=\"#b2d9f5\" stroke=\"#000000\" d=\"M1622,-68C1622,-68 1473,-68 1473,-68 1467,-68 1461,-62 1461,-56 1461,-56 1461,-12 1461,-12 1461,-6 1467,0 1473,0 1473,0 1622,0 1622,0 1628,0 1634,-6 1634,-12 1634,-12 1634,-56 1634,-56 1634,-62 1628,-68 1622,-68\"/>\n<text text-anchor=\"start\" x=\"1509.5\" y=\"-52.8\" font-family=\"Helvetica,sans-Serif\" font-size=\"14.00\" fill=\"#000000\">gini = 0.471</text>\n<text text-anchor=\"start\" x=\"1503.5\" y=\"-37.8\" font-family=\"Helvetica,sans-Serif\" font-size=\"14.00\" fill=\"#000000\">samples = 52</text>\n<text text-anchor=\"start\" x=\"1469\" y=\"-22.8\" font-family=\"Helvetica,sans-Serif\" font-size=\"14.00\" fill=\"#000000\">value = [19.042, 31.042]</text>\n<text text-anchor=\"start\" x=\"1518.5\" y=\"-7.8\" font-family=\"Helvetica,sans-Serif\" font-size=\"14.00\" fill=\"#000000\">class = 1</text>\n</g>\n<!-- 21&#45;&gt;22 -->\n<g id=\"edge22\" class=\"edge\">\n<title>21&#45;&gt;22</title>\n<path fill=\"none\" stroke=\"#000000\" d=\"M1650.4325,-103.9815C1635.8919,-94.0957 1620.4103,-83.5701 1605.9886,-73.7651\"/>\n<polygon fill=\"#000000\" stroke=\"#000000\" points=\"1607.8725,-70.8137 1597.6349,-68.0856 1603.9368,-76.6025 1607.8725,-70.8137\"/>\n</g>\n<!-- 23 -->\n<g id=\"node24\" class=\"node\">\n<title>23</title>\n<path fill=\"#f4c8a9\" stroke=\"#000000\" d=\"M1804.5,-68C1804.5,-68 1664.5,-68 1664.5,-68 1658.5,-68 1652.5,-62 1652.5,-56 1652.5,-56 1652.5,-12 1652.5,-12 1652.5,-6 1658.5,0 1664.5,0 1664.5,0 1804.5,0 1804.5,0 1810.5,0 1816.5,-6 1816.5,-12 1816.5,-12 1816.5,-56 1816.5,-56 1816.5,-62 1810.5,-68 1804.5,-68\"/>\n<text text-anchor=\"start\" x=\"1696.5\" y=\"-52.8\" font-family=\"Helvetica,sans-Serif\" font-size=\"14.00\" fill=\"#000000\">gini = 0.461</text>\n<text text-anchor=\"start\" x=\"1690.5\" y=\"-37.8\" font-family=\"Helvetica,sans-Serif\" font-size=\"14.00\" fill=\"#000000\">samples = 16</text>\n<text text-anchor=\"start\" x=\"1660.5\" y=\"-22.8\" font-family=\"Helvetica,sans-Serif\" font-size=\"14.00\" fill=\"#000000\">value = [10.711, 6.036]</text>\n<text text-anchor=\"start\" x=\"1705.5\" y=\"-7.8\" font-family=\"Helvetica,sans-Serif\" font-size=\"14.00\" fill=\"#000000\">class = 0</text>\n</g>\n<!-- 21&#45;&gt;23 -->\n<g id=\"edge23\" class=\"edge\">\n<title>21&#45;&gt;23</title>\n<path fill=\"none\" stroke=\"#000000\" d=\"M1720.0644,-103.9815C1721.8085,-95.5261 1723.6492,-86.6026 1725.4109,-78.0623\"/>\n<polygon fill=\"#000000\" stroke=\"#000000\" points=\"1728.8397,-78.7646 1727.4322,-68.2637 1721.984,-77.3504 1728.8397,-78.7646\"/>\n</g>\n<!-- 25 -->\n<g id=\"node26\" class=\"node\">\n<title>25</title>\n<path fill=\"#62b1ea\" stroke=\"#000000\" d=\"M1978.5,-68C1978.5,-68 1846.5,-68 1846.5,-68 1840.5,-68 1834.5,-62 1834.5,-56 1834.5,-56 1834.5,-12 1834.5,-12 1834.5,-6 1840.5,0 1846.5,0 1846.5,0 1978.5,0 1978.5,0 1984.5,0 1990.5,-6 1990.5,-12 1990.5,-12 1990.5,-56 1990.5,-56 1990.5,-62 1984.5,-68 1978.5,-68\"/>\n<text text-anchor=\"start\" x=\"1874.5\" y=\"-52.8\" font-family=\"Helvetica,sans-Serif\" font-size=\"14.00\" fill=\"#000000\">gini = 0.284</text>\n<text text-anchor=\"start\" x=\"1868.5\" y=\"-37.8\" font-family=\"Helvetica,sans-Serif\" font-size=\"14.00\" fill=\"#000000\">samples = 23</text>\n<text text-anchor=\"start\" x=\"1842.5\" y=\"-22.8\" font-family=\"Helvetica,sans-Serif\" font-size=\"14.00\" fill=\"#000000\">value = [3.57, 17.245]</text>\n<text text-anchor=\"start\" x=\"1883.5\" y=\"-7.8\" font-family=\"Helvetica,sans-Serif\" font-size=\"14.00\" fill=\"#000000\">class = 1</text>\n</g>\n<!-- 24&#45;&gt;25 -->\n<g id=\"edge25\" class=\"edge\">\n<title>24&#45;&gt;25</title>\n<path fill=\"none\" stroke=\"#000000\" d=\"M1912.5,-103.9815C1912.5,-95.618 1912.5,-86.7965 1912.5,-78.3409\"/>\n<polygon fill=\"#000000\" stroke=\"#000000\" points=\"1916.0001,-78.2636 1912.5,-68.2637 1909.0001,-78.2637 1916.0001,-78.2636\"/>\n</g>\n<!-- 26 -->\n<g id=\"node27\" class=\"node\">\n<title>26</title>\n<path fill=\"#b5daf5\" stroke=\"#000000\" d=\"M2152.5,-68C2152.5,-68 2020.5,-68 2020.5,-68 2014.5,-68 2008.5,-62 2008.5,-56 2008.5,-56 2008.5,-12 2008.5,-12 2008.5,-6 2014.5,0 2020.5,0 2020.5,0 2152.5,0 2152.5,0 2158.5,0 2164.5,-6 2164.5,-12 2164.5,-12 2164.5,-56 2164.5,-56 2164.5,-62 2158.5,-68 2152.5,-68\"/>\n<text text-anchor=\"start\" x=\"2048.5\" y=\"-52.8\" font-family=\"Helvetica,sans-Serif\" font-size=\"14.00\" fill=\"#000000\">gini = 0.474</text>\n<text text-anchor=\"start\" x=\"2042.5\" y=\"-37.8\" font-family=\"Helvetica,sans-Serif\" font-size=\"14.00\" fill=\"#000000\">samples = 16</text>\n<text text-anchor=\"start\" x=\"2016.5\" y=\"-22.8\" font-family=\"Helvetica,sans-Serif\" font-size=\"14.00\" fill=\"#000000\">value = [5.951, 9.485]</text>\n<text text-anchor=\"start\" x=\"2057.5\" y=\"-7.8\" font-family=\"Helvetica,sans-Serif\" font-size=\"14.00\" fill=\"#000000\">class = 1</text>\n</g>\n<!-- 24&#45;&gt;26 -->\n<g id=\"edge26\" class=\"edge\">\n<title>24&#45;&gt;26</title>\n<path fill=\"none\" stroke=\"#000000\" d=\"M1977.2912,-103.9815C1992.8625,-94.0034 2009.451,-83.3733 2024.8737,-73.4904\"/>\n<polygon fill=\"#000000\" stroke=\"#000000\" points=\"2026.7768,-76.4279 2033.3081,-68.0856 2023,-70.5341 2026.7768,-76.4279\"/>\n</g>\n</g>\n</svg>\n"
          },
          "metadata": {
            "tags": []
          },
          "execution_count": 140
        }
      ]
    },
    {
      "cell_type": "markdown",
      "metadata": {
        "id": "0fr9_qUGH8jV",
        "colab_type": "text"
      },
      "source": [
        "** CD8 for CD8_central_intra, Fibrosis for Fibrosis_central\n",
        "\n",
        "1. Pred 0\n",
        "- CD8 <= 25.5, Fibrosis <= 12.5\n",
        "- **CD8 <= 25.5, 55 < Fibrosis <= 102.5**\n",
        "- 4.5 < CD8 <= 13.5, Fibrosis <= 102.5 \n",
        "- 69.5 < CD8 <= 80.5\n",
        "\n",
        "2. Pred 1\n",
        "- CD8 <= 25.5, 12.5 < Fibrosis <= 55\n",
        "- **CD8 <= 4.5, 102.5 < Fibrosis**\n",
        "- 13.5 < CD8 <= 25.5, 102.5 < Fibrosis\n",
        "- 25.5 < CD8 <= 35.5\n",
        "- 33.5 < CD8 <= 69.5\n",
        "-  80.5 < CD8"
      ]
    },
    {
      "cell_type": "code",
      "metadata": {
        "id": "csNEv2N_FeqI",
        "colab_type": "code",
        "outputId": "fe008e1a-d637-438b-dc0a-40e8b8b12c68",
        "colab": {
          "base_uri": "https://localhost:8080/",
          "height": 819
        }
      },
      "source": [
        "trees2['FOXP3/CD8-central_intraepithelial-Fibrosis_central']['tree graph']  ## with forth figure of survival analysis"
      ],
      "execution_count": 0,
      "outputs": [
        {
          "output_type": "execute_result",
          "data": {
            "text/plain": [
              "<graphviz.files.Source at 0x7f052daee630>"
            ],
            "image/svg+xml": "<?xml version=\"1.0\" encoding=\"UTF-8\" standalone=\"no\"?>\n<!DOCTYPE svg PUBLIC \"-//W3C//DTD SVG 1.1//EN\"\n \"http://www.w3.org/Graphics/SVG/1.1/DTD/svg11.dtd\">\n<!-- Generated by graphviz version 2.40.1 (20161225.0304)\n -->\n<!-- Title: Tree Pages: 1 -->\n<svg width=\"2172pt\" height=\"552pt\"\n viewBox=\"0.00 0.00 2171.50 552.00\" xmlns=\"http://www.w3.org/2000/svg\" xmlns:xlink=\"http://www.w3.org/1999/xlink\">\n<g id=\"graph0\" class=\"graph\" transform=\"scale(1 1) rotate(0) translate(4 548)\">\n<title>Tree</title>\n<polygon fill=\"#ffffff\" stroke=\"transparent\" points=\"-4,4 -4,-548 2167.5,-548 2167.5,4 -4,4\"/>\n<!-- 0 -->\n<g id=\"node1\" class=\"node\">\n<title>0</title>\n<path fill=\"#ffffff\" stroke=\"#000000\" d=\"M1030.5,-544C1030.5,-544 764.5,-544 764.5,-544 758.5,-544 752.5,-538 752.5,-532 752.5,-532 752.5,-473 752.5,-473 752.5,-467 758.5,-461 764.5,-461 764.5,-461 1030.5,-461 1030.5,-461 1036.5,-461 1042.5,-467 1042.5,-473 1042.5,-473 1042.5,-532 1042.5,-532 1042.5,-538 1036.5,-544 1030.5,-544\"/>\n<text text-anchor=\"start\" x=\"760.5\" y=\"-528.8\" font-family=\"Helvetica,sans-Serif\" font-size=\"14.00\" fill=\"#000000\">FOXP3/CD8&#45;central_intraepithelial ≤ 0.098</text>\n<text text-anchor=\"start\" x=\"868\" y=\"-513.8\" font-family=\"Helvetica,sans-Serif\" font-size=\"14.00\" fill=\"#000000\">gini = 0.5</text>\n<text text-anchor=\"start\" x=\"849.5\" y=\"-498.8\" font-family=\"Helvetica,sans-Serif\" font-size=\"14.00\" fill=\"#000000\">samples = 457</text>\n<text text-anchor=\"start\" x=\"827.5\" y=\"-483.8\" font-family=\"Helvetica,sans-Serif\" font-size=\"14.00\" fill=\"#000000\">value = [228.5, 228.5]</text>\n<text text-anchor=\"start\" x=\"868.5\" y=\"-468.8\" font-family=\"Helvetica,sans-Serif\" font-size=\"14.00\" fill=\"#000000\">class = 1</text>\n</g>\n<!-- 1 -->\n<g id=\"node2\" class=\"node\">\n<title>1</title>\n<path fill=\"#fae7d9\" stroke=\"#000000\" d=\"M825,-425C825,-425 660,-425 660,-425 654,-425 648,-419 648,-413 648,-413 648,-354 648,-354 648,-348 654,-342 660,-342 660,-342 825,-342 825,-342 831,-342 837,-348 837,-354 837,-354 837,-413 837,-413 837,-419 831,-425 825,-425\"/>\n<text text-anchor=\"start\" x=\"665\" y=\"-409.8\" font-family=\"Helvetica,sans-Serif\" font-size=\"14.00\" fill=\"#000000\">Fibrosis_central ≤ 202.5</text>\n<text text-anchor=\"start\" x=\"704.5\" y=\"-394.8\" font-family=\"Helvetica,sans-Serif\" font-size=\"14.00\" fill=\"#000000\">gini = 0.494</text>\n<text text-anchor=\"start\" x=\"694.5\" y=\"-379.8\" font-family=\"Helvetica,sans-Serif\" font-size=\"14.00\" fill=\"#000000\">samples = 290</text>\n<text text-anchor=\"start\" x=\"656\" y=\"-364.8\" font-family=\"Helvetica,sans-Serif\" font-size=\"14.00\" fill=\"#000000\">value = [163.044, 131.926]</text>\n<text text-anchor=\"start\" x=\"713.5\" y=\"-349.8\" font-family=\"Helvetica,sans-Serif\" font-size=\"14.00\" fill=\"#000000\">class = 0</text>\n</g>\n<!-- 0&#45;&gt;1 -->\n<g id=\"edge1\" class=\"edge\">\n<title>0&#45;&gt;1</title>\n<path fill=\"none\" stroke=\"#000000\" d=\"M843.2885,-460.8796C830.8994,-451.368 817.6351,-441.1843 804.9324,-431.432\"/>\n<polygon fill=\"#000000\" stroke=\"#000000\" points=\"806.7442,-428.4105 796.6809,-425.0969 802.4814,-433.9628 806.7442,-428.4105\"/>\n<text text-anchor=\"middle\" x=\"799.9376\" y=\"-446.1839\" font-family=\"Helvetica,sans-Serif\" font-size=\"14.00\" fill=\"#000000\">True</text>\n</g>\n<!-- 12 -->\n<g id=\"node13\" class=\"node\">\n<title>12</title>\n<path fill=\"#bfdff7\" stroke=\"#000000\" d=\"M1285.5,-425C1285.5,-425 1019.5,-425 1019.5,-425 1013.5,-425 1007.5,-419 1007.5,-413 1007.5,-413 1007.5,-354 1007.5,-354 1007.5,-348 1013.5,-342 1019.5,-342 1019.5,-342 1285.5,-342 1285.5,-342 1291.5,-342 1297.5,-348 1297.5,-354 1297.5,-354 1297.5,-413 1297.5,-413 1297.5,-419 1291.5,-425 1285.5,-425\"/>\n<text text-anchor=\"start\" x=\"1015.5\" y=\"-409.8\" font-family=\"Helvetica,sans-Serif\" font-size=\"14.00\" fill=\"#000000\">FOXP3/CD8&#45;central_intraepithelial ≤ 0.496</text>\n<text text-anchor=\"start\" x=\"1114.5\" y=\"-394.8\" font-family=\"Helvetica,sans-Serif\" font-size=\"14.00\" fill=\"#000000\">gini = 0.482</text>\n<text text-anchor=\"start\" x=\"1104.5\" y=\"-379.8\" font-family=\"Helvetica,sans-Serif\" font-size=\"14.00\" fill=\"#000000\">samples = 167</text>\n<text text-anchor=\"start\" x=\"1074\" y=\"-364.8\" font-family=\"Helvetica,sans-Serif\" font-size=\"14.00\" fill=\"#000000\">value = [65.456, 96.574]</text>\n<text text-anchor=\"start\" x=\"1123.5\" y=\"-349.8\" font-family=\"Helvetica,sans-Serif\" font-size=\"14.00\" fill=\"#000000\">class = 1</text>\n</g>\n<!-- 0&#45;&gt;12 -->\n<g id=\"edge12\" class=\"edge\">\n<title>0&#45;&gt;12</title>\n<path fill=\"none\" stroke=\"#000000\" d=\"M986.6866,-460.8796C1008.5245,-450.6886 1032.0155,-439.7261 1054.2518,-429.3492\"/>\n<polygon fill=\"#000000\" stroke=\"#000000\" points=\"1055.782,-432.4975 1063.3637,-425.0969 1052.8218,-426.1542 1055.782,-432.4975\"/>\n<text text-anchor=\"middle\" x=\"1054.8202\" y=\"-444.8918\" font-family=\"Helvetica,sans-Serif\" font-size=\"14.00\" fill=\"#000000\">False</text>\n</g>\n<!-- 2 -->\n<g id=\"node3\" class=\"node\">\n<title>2</title>\n<path fill=\"#f7d8c2\" stroke=\"#000000\" d=\"M599.5,-306C599.5,-306 333.5,-306 333.5,-306 327.5,-306 321.5,-300 321.5,-294 321.5,-294 321.5,-235 321.5,-235 321.5,-229 327.5,-223 333.5,-223 333.5,-223 599.5,-223 599.5,-223 605.5,-223 611.5,-229 611.5,-235 611.5,-235 611.5,-294 611.5,-294 611.5,-300 605.5,-306 599.5,-306\"/>\n<text text-anchor=\"start\" x=\"329.5\" y=\"-290.8\" font-family=\"Helvetica,sans-Serif\" font-size=\"14.00\" fill=\"#000000\">FOXP3/CD8&#45;central_intraepithelial ≤ 0.055</text>\n<text text-anchor=\"start\" x=\"428.5\" y=\"-275.8\" font-family=\"Helvetica,sans-Serif\" font-size=\"14.00\" fill=\"#000000\">gini = 0.483</text>\n<text text-anchor=\"start\" x=\"418.5\" y=\"-260.8\" font-family=\"Helvetica,sans-Serif\" font-size=\"14.00\" fill=\"#000000\">samples = 219</text>\n<text text-anchor=\"start\" x=\"384\" y=\"-245.8\" font-family=\"Helvetica,sans-Serif\" font-size=\"14.00\" fill=\"#000000\">value = [133.292, 92.262]</text>\n<text text-anchor=\"start\" x=\"437.5\" y=\"-230.8\" font-family=\"Helvetica,sans-Serif\" font-size=\"14.00\" fill=\"#000000\">class = 0</text>\n</g>\n<!-- 1&#45;&gt;2 -->\n<g id=\"edge2\" class=\"edge\">\n<title>1&#45;&gt;2</title>\n<path fill=\"none\" stroke=\"#000000\" d=\"M647.9026,-342.7134C623.5494,-332.2133 597.1885,-320.8476 572.3064,-310.1194\"/>\n<polygon fill=\"#000000\" stroke=\"#000000\" points=\"573.4183,-306.7874 562.8497,-306.0421 570.6468,-313.2154 573.4183,-306.7874\"/>\n</g>\n<!-- 7 -->\n<g id=\"node8\" class=\"node\">\n<title>7</title>\n<path fill=\"#cee7f9\" stroke=\"#000000\" d=\"M817,-306C817,-306 668,-306 668,-306 662,-306 656,-300 656,-294 656,-294 656,-235 656,-235 656,-229 662,-223 668,-223 668,-223 817,-223 817,-223 823,-223 829,-229 829,-235 829,-235 829,-294 829,-294 829,-300 823,-306 817,-306\"/>\n<text text-anchor=\"start\" x=\"665\" y=\"-290.8\" font-family=\"Helvetica,sans-Serif\" font-size=\"14.00\" fill=\"#000000\">Fibrosis_central ≤ 262.5</text>\n<text text-anchor=\"start\" x=\"709\" y=\"-275.8\" font-family=\"Helvetica,sans-Serif\" font-size=\"14.00\" fill=\"#000000\">gini = 0.49</text>\n<text text-anchor=\"start\" x=\"698.5\" y=\"-260.8\" font-family=\"Helvetica,sans-Serif\" font-size=\"14.00\" fill=\"#000000\">samples = 71</text>\n<text text-anchor=\"start\" x=\"664\" y=\"-245.8\" font-family=\"Helvetica,sans-Serif\" font-size=\"14.00\" fill=\"#000000\">value = [29.753, 39.664]</text>\n<text text-anchor=\"start\" x=\"713.5\" y=\"-230.8\" font-family=\"Helvetica,sans-Serif\" font-size=\"14.00\" fill=\"#000000\">class = 1</text>\n</g>\n<!-- 1&#45;&gt;7 -->\n<g id=\"edge7\" class=\"edge\">\n<title>1&#45;&gt;7</title>\n<path fill=\"none\" stroke=\"#000000\" d=\"M742.5,-341.8796C742.5,-333.6838 742.5,-324.9891 742.5,-316.5013\"/>\n<polygon fill=\"#000000\" stroke=\"#000000\" points=\"746.0001,-316.298 742.5,-306.2981 739.0001,-316.2981 746.0001,-316.298\"/>\n</g>\n<!-- 3 -->\n<g id=\"node4\" class=\"node\">\n<title>3</title>\n<path fill=\"#f8dfcd\" stroke=\"#000000\" d=\"M351.5,-187C351.5,-187 211.5,-187 211.5,-187 205.5,-187 199.5,-181 199.5,-175 199.5,-175 199.5,-116 199.5,-116 199.5,-110 205.5,-104 211.5,-104 211.5,-104 351.5,-104 351.5,-104 357.5,-104 363.5,-110 363.5,-116 363.5,-116 363.5,-175 363.5,-175 363.5,-181 357.5,-187 351.5,-187\"/>\n<text text-anchor=\"start\" x=\"208\" y=\"-171.8\" font-family=\"Helvetica,sans-Serif\" font-size=\"14.00\" fill=\"#000000\">Fibrosis_central ≤ 12.5</text>\n<text text-anchor=\"start\" x=\"243.5\" y=\"-156.8\" font-family=\"Helvetica,sans-Serif\" font-size=\"14.00\" fill=\"#000000\">gini = 0.489</text>\n<text text-anchor=\"start\" x=\"233.5\" y=\"-141.8\" font-family=\"Helvetica,sans-Serif\" font-size=\"14.00\" fill=\"#000000\">samples = 209</text>\n<text text-anchor=\"start\" x=\"207.5\" y=\"-126.8\" font-family=\"Helvetica,sans-Serif\" font-size=\"14.00\" fill=\"#000000\">value = [122.581, 91.4]</text>\n<text text-anchor=\"start\" x=\"252.5\" y=\"-111.8\" font-family=\"Helvetica,sans-Serif\" font-size=\"14.00\" fill=\"#000000\">class = 0</text>\n</g>\n<!-- 2&#45;&gt;3 -->\n<g id=\"edge3\" class=\"edge\">\n<title>2&#45;&gt;3</title>\n<path fill=\"none\" stroke=\"#000000\" d=\"M401.796,-222.8796C386.5865,-213.0962 370.2718,-202.6019 354.7182,-192.5971\"/>\n<polygon fill=\"#000000\" stroke=\"#000000\" points=\"356.4713,-189.5632 346.1675,-187.0969 352.6843,-195.4505 356.4713,-189.5632\"/>\n</g>\n<!-- 6 -->\n<g id=\"node7\" class=\"node\">\n<title>6</title>\n<path fill=\"#e78b49\" stroke=\"#000000\" d=\"M536.5,-179.5C536.5,-179.5 396.5,-179.5 396.5,-179.5 390.5,-179.5 384.5,-173.5 384.5,-167.5 384.5,-167.5 384.5,-123.5 384.5,-123.5 384.5,-117.5 390.5,-111.5 396.5,-111.5 396.5,-111.5 536.5,-111.5 536.5,-111.5 542.5,-111.5 548.5,-117.5 548.5,-123.5 548.5,-123.5 548.5,-167.5 548.5,-167.5 548.5,-173.5 542.5,-179.5 536.5,-179.5\"/>\n<text text-anchor=\"start\" x=\"428.5\" y=\"-164.3\" font-family=\"Helvetica,sans-Serif\" font-size=\"14.00\" fill=\"#000000\">gini = 0.138</text>\n<text text-anchor=\"start\" x=\"422.5\" y=\"-149.3\" font-family=\"Helvetica,sans-Serif\" font-size=\"14.00\" fill=\"#000000\">samples = 10</text>\n<text text-anchor=\"start\" x=\"392.5\" y=\"-134.3\" font-family=\"Helvetica,sans-Serif\" font-size=\"14.00\" fill=\"#000000\">value = [10.711, 0.862]</text>\n<text text-anchor=\"start\" x=\"437.5\" y=\"-119.3\" font-family=\"Helvetica,sans-Serif\" font-size=\"14.00\" fill=\"#000000\">class = 0</text>\n</g>\n<!-- 2&#45;&gt;6 -->\n<g id=\"edge6\" class=\"edge\">\n<title>2&#45;&gt;6</title>\n<path fill=\"none\" stroke=\"#000000\" d=\"M466.5,-222.8796C466.5,-212.2134 466.5,-200.7021 466.5,-189.9015\"/>\n<polygon fill=\"#000000\" stroke=\"#000000\" points=\"470.0001,-189.8149 466.5,-179.8149 463.0001,-189.815 470.0001,-189.8149\"/>\n</g>\n<!-- 4 -->\n<g id=\"node5\" class=\"node\">\n<title>4</title>\n<path fill=\"#f2c19e\" stroke=\"#000000\" d=\"M161,-68C161,-68 12,-68 12,-68 6,-68 0,-62 0,-56 0,-56 0,-12 0,-12 0,-6 6,0 12,0 12,0 161,0 161,0 167,0 173,-6 173,-12 173,-12 173,-56 173,-56 173,-62 167,-68 161,-68\"/>\n<text text-anchor=\"start\" x=\"48.5\" y=\"-52.8\" font-family=\"Helvetica,sans-Serif\" font-size=\"14.00\" fill=\"#000000\">gini = 0.448</text>\n<text text-anchor=\"start\" x=\"42.5\" y=\"-37.8\" font-family=\"Helvetica,sans-Serif\" font-size=\"14.00\" fill=\"#000000\">samples = 29</text>\n<text text-anchor=\"start\" x=\"8\" y=\"-22.8\" font-family=\"Helvetica,sans-Serif\" font-size=\"14.00\" fill=\"#000000\">value = [20.232, 10.347]</text>\n<text text-anchor=\"start\" x=\"57.5\" y=\"-7.8\" font-family=\"Helvetica,sans-Serif\" font-size=\"14.00\" fill=\"#000000\">class = 0</text>\n</g>\n<!-- 3&#45;&gt;4 -->\n<g id=\"edge4\" class=\"edge\">\n<title>3&#45;&gt;4</title>\n<path fill=\"none\" stroke=\"#000000\" d=\"M208.8892,-103.9815C191.277,-93.911 172.5036,-83.1764 155.0842,-73.2161\"/>\n<polygon fill=\"#000000\" stroke=\"#000000\" points=\"156.53,-70.0111 146.1116,-68.0856 153.0554,-76.0878 156.53,-70.0111\"/>\n</g>\n<!-- 5 -->\n<g id=\"node6\" class=\"node\">\n<title>5</title>\n<path fill=\"#fae5d6\" stroke=\"#000000\" d=\"M360,-68C360,-68 203,-68 203,-68 197,-68 191,-62 191,-56 191,-56 191,-12 191,-12 191,-6 197,0 203,0 203,0 360,0 360,0 366,0 372,-6 372,-12 372,-12 372,-56 372,-56 372,-62 366,-68 360,-68\"/>\n<text text-anchor=\"start\" x=\"243.5\" y=\"-52.8\" font-family=\"Helvetica,sans-Serif\" font-size=\"14.00\" fill=\"#000000\">gini = 0.493</text>\n<text text-anchor=\"start\" x=\"233.5\" y=\"-37.8\" font-family=\"Helvetica,sans-Serif\" font-size=\"14.00\" fill=\"#000000\">samples = 180</text>\n<text text-anchor=\"start\" x=\"199\" y=\"-22.8\" font-family=\"Helvetica,sans-Serif\" font-size=\"14.00\" fill=\"#000000\">value = [102.349, 81.053]</text>\n<text text-anchor=\"start\" x=\"252.5\" y=\"-7.8\" font-family=\"Helvetica,sans-Serif\" font-size=\"14.00\" fill=\"#000000\">class = 0</text>\n</g>\n<!-- 3&#45;&gt;5 -->\n<g id=\"edge5\" class=\"edge\">\n<title>3&#45;&gt;5</title>\n<path fill=\"none\" stroke=\"#000000\" d=\"M281.5,-103.9815C281.5,-95.618 281.5,-86.7965 281.5,-78.3409\"/>\n<polygon fill=\"#000000\" stroke=\"#000000\" points=\"285.0001,-78.2636 281.5,-68.2637 278.0001,-78.2637 285.0001,-78.2636\"/>\n</g>\n<!-- 8 -->\n<g id=\"node9\" class=\"node\">\n<title>8</title>\n<path fill=\"#bedff6\" stroke=\"#000000\" d=\"M730,-187C730,-187 581,-187 581,-187 575,-187 569,-181 569,-175 569,-175 569,-116 569,-116 569,-110 575,-104 581,-104 581,-104 730,-104 730,-104 736,-104 742,-110 742,-116 742,-116 742,-175 742,-175 742,-181 736,-187 730,-187\"/>\n<text text-anchor=\"start\" x=\"578\" y=\"-171.8\" font-family=\"Helvetica,sans-Serif\" font-size=\"14.00\" fill=\"#000000\">Fibrosis_central ≤ 232.5</text>\n<text text-anchor=\"start\" x=\"617.5\" y=\"-156.8\" font-family=\"Helvetica,sans-Serif\" font-size=\"14.00\" fill=\"#000000\">gini = 0.481</text>\n<text text-anchor=\"start\" x=\"611.5\" y=\"-141.8\" font-family=\"Helvetica,sans-Serif\" font-size=\"14.00\" fill=\"#000000\">samples = 52</text>\n<text text-anchor=\"start\" x=\"577\" y=\"-126.8\" font-family=\"Helvetica,sans-Serif\" font-size=\"14.00\" fill=\"#000000\">value = [20.232, 30.179]</text>\n<text text-anchor=\"start\" x=\"626.5\" y=\"-111.8\" font-family=\"Helvetica,sans-Serif\" font-size=\"14.00\" fill=\"#000000\">class = 1</text>\n</g>\n<!-- 7&#45;&gt;8 -->\n<g id=\"edge8\" class=\"edge\">\n<title>7&#45;&gt;8</title>\n<path fill=\"none\" stroke=\"#000000\" d=\"M712.0716,-222.8796C705.6189,-214.0534 698.743,-204.6485 692.0887,-195.5466\"/>\n<polygon fill=\"#000000\" stroke=\"#000000\" points=\"694.7856,-193.3051 686.0583,-187.2981 689.1347,-197.4364 694.7856,-193.3051\"/>\n</g>\n<!-- 11 -->\n<g id=\"node12\" class=\"node\">\n<title>11</title>\n<path fill=\"#fffffe\" stroke=\"#000000\" d=\"M904.5,-179.5C904.5,-179.5 772.5,-179.5 772.5,-179.5 766.5,-179.5 760.5,-173.5 760.5,-167.5 760.5,-167.5 760.5,-123.5 760.5,-123.5 760.5,-117.5 766.5,-111.5 772.5,-111.5 772.5,-111.5 904.5,-111.5 904.5,-111.5 910.5,-111.5 916.5,-117.5 916.5,-123.5 916.5,-123.5 916.5,-167.5 916.5,-167.5 916.5,-173.5 910.5,-179.5 904.5,-179.5\"/>\n<text text-anchor=\"start\" x=\"809\" y=\"-164.3\" font-family=\"Helvetica,sans-Serif\" font-size=\"14.00\" fill=\"#000000\">gini = 0.5</text>\n<text text-anchor=\"start\" x=\"794.5\" y=\"-149.3\" font-family=\"Helvetica,sans-Serif\" font-size=\"14.00\" fill=\"#000000\">samples = 19</text>\n<text text-anchor=\"start\" x=\"768.5\" y=\"-134.3\" font-family=\"Helvetica,sans-Serif\" font-size=\"14.00\" fill=\"#000000\">value = [9.521, 9.485]</text>\n<text text-anchor=\"start\" x=\"809.5\" y=\"-119.3\" font-family=\"Helvetica,sans-Serif\" font-size=\"14.00\" fill=\"#000000\">class = 0</text>\n</g>\n<!-- 7&#45;&gt;11 -->\n<g id=\"edge11\" class=\"edge\">\n<title>7&#45;&gt;11</title>\n<path fill=\"none\" stroke=\"#000000\" d=\"M776.0761,-222.8796C785.2131,-211.5536 795.1187,-199.2748 804.2902,-187.9058\"/>\n<polygon fill=\"#000000\" stroke=\"#000000\" points=\"807.2626,-189.7957 810.8174,-179.8149 801.8144,-185.4005 807.2626,-189.7957\"/>\n</g>\n<!-- 9 -->\n<g id=\"node10\" class=\"node\">\n<title>9</title>\n<path fill=\"#eff7fd\" stroke=\"#000000\" d=\"M542.5,-68C542.5,-68 402.5,-68 402.5,-68 396.5,-68 390.5,-62 390.5,-56 390.5,-56 390.5,-12 390.5,-12 390.5,-6 396.5,0 402.5,0 402.5,0 542.5,0 542.5,0 548.5,0 554.5,-6 554.5,-12 554.5,-12 554.5,-56 554.5,-56 554.5,-62 548.5,-68 542.5,-68\"/>\n<text text-anchor=\"start\" x=\"434.5\" y=\"-52.8\" font-family=\"Helvetica,sans-Serif\" font-size=\"14.00\" fill=\"#000000\">gini = 0.499</text>\n<text text-anchor=\"start\" x=\"428.5\" y=\"-37.8\" font-family=\"Helvetica,sans-Serif\" font-size=\"14.00\" fill=\"#000000\">samples = 20</text>\n<text text-anchor=\"start\" x=\"398.5\" y=\"-22.8\" font-family=\"Helvetica,sans-Serif\" font-size=\"14.00\" fill=\"#000000\">value = [9.521, 10.347]</text>\n<text text-anchor=\"start\" x=\"443.5\" y=\"-7.8\" font-family=\"Helvetica,sans-Serif\" font-size=\"14.00\" fill=\"#000000\">class = 1</text>\n</g>\n<!-- 8&#45;&gt;9 -->\n<g id=\"edge9\" class=\"edge\">\n<title>8&#45;&gt;9</title>\n<path fill=\"none\" stroke=\"#000000\" d=\"M587.3576,-103.9815C570.9808,-94.0034 553.5343,-83.3733 537.3138,-73.4904\"/>\n<polygon fill=\"#000000\" stroke=\"#000000\" points=\"538.8041,-70.2999 528.4432,-68.0856 535.1618,-76.2778 538.8041,-70.2999\"/>\n</g>\n<!-- 10 -->\n<g id=\"node11\" class=\"node\">\n<title>10</title>\n<path fill=\"#a4d2f3\" stroke=\"#000000\" d=\"M734,-68C734,-68 585,-68 585,-68 579,-68 573,-62 573,-56 573,-56 573,-12 573,-12 573,-6 579,0 585,0 585,0 734,0 734,0 740,0 746,-6 746,-12 746,-12 746,-56 746,-56 746,-62 740,-68 734,-68\"/>\n<text text-anchor=\"start\" x=\"621.5\" y=\"-52.8\" font-family=\"Helvetica,sans-Serif\" font-size=\"14.00\" fill=\"#000000\">gini = 0.455</text>\n<text text-anchor=\"start\" x=\"615.5\" y=\"-37.8\" font-family=\"Helvetica,sans-Serif\" font-size=\"14.00\" fill=\"#000000\">samples = 32</text>\n<text text-anchor=\"start\" x=\"581\" y=\"-22.8\" font-family=\"Helvetica,sans-Serif\" font-size=\"14.00\" fill=\"#000000\">value = [10.711, 19.832]</text>\n<text text-anchor=\"start\" x=\"630.5\" y=\"-7.8\" font-family=\"Helvetica,sans-Serif\" font-size=\"14.00\" fill=\"#000000\">class = 1</text>\n</g>\n<!-- 8&#45;&gt;10 -->\n<g id=\"edge10\" class=\"edge\">\n<title>8&#45;&gt;10</title>\n<path fill=\"none\" stroke=\"#000000\" d=\"M656.9895,-103.9815C657.2895,-95.618 657.606,-86.7965 657.9093,-78.3409\"/>\n<polygon fill=\"#000000\" stroke=\"#000000\" points=\"661.41,-78.3828 658.2708,-68.2637 654.4145,-78.1317 661.41,-78.3828\"/>\n</g>\n<!-- 13 -->\n<g id=\"node14\" class=\"node\">\n<title>13</title>\n<path fill=\"#74baed\" stroke=\"#000000\" d=\"M1285.5,-306C1285.5,-306 1019.5,-306 1019.5,-306 1013.5,-306 1007.5,-300 1007.5,-294 1007.5,-294 1007.5,-235 1007.5,-235 1007.5,-229 1013.5,-223 1019.5,-223 1019.5,-223 1285.5,-223 1285.5,-223 1291.5,-223 1297.5,-229 1297.5,-235 1297.5,-235 1297.5,-294 1297.5,-294 1297.5,-300 1291.5,-306 1285.5,-306\"/>\n<text text-anchor=\"start\" x=\"1015.5\" y=\"-290.8\" font-family=\"Helvetica,sans-Serif\" font-size=\"14.00\" fill=\"#000000\">FOXP3/CD8&#45;central_intraepithelial ≤ 0.287</text>\n<text text-anchor=\"start\" x=\"1114.5\" y=\"-275.8\" font-family=\"Helvetica,sans-Serif\" font-size=\"14.00\" fill=\"#000000\">gini = 0.353</text>\n<text text-anchor=\"start\" x=\"1108.5\" y=\"-260.8\" font-family=\"Helvetica,sans-Serif\" font-size=\"14.00\" fill=\"#000000\">samples = 96</text>\n<text text-anchor=\"start\" x=\"1074\" y=\"-245.8\" font-family=\"Helvetica,sans-Serif\" font-size=\"14.00\" fill=\"#000000\">value = [20.232, 68.119]</text>\n<text text-anchor=\"start\" x=\"1123.5\" y=\"-230.8\" font-family=\"Helvetica,sans-Serif\" font-size=\"14.00\" fill=\"#000000\">class = 1</text>\n</g>\n<!-- 12&#45;&gt;13 -->\n<g id=\"edge13\" class=\"edge\">\n<title>12&#45;&gt;13</title>\n<path fill=\"none\" stroke=\"#000000\" d=\"M1152.5,-341.8796C1152.5,-333.6838 1152.5,-324.9891 1152.5,-316.5013\"/>\n<polygon fill=\"#000000\" stroke=\"#000000\" points=\"1156.0001,-316.298 1152.5,-306.2981 1149.0001,-316.2981 1156.0001,-316.298\"/>\n</g>\n<!-- 20 -->\n<g id=\"node21\" class=\"node\">\n<title>20</title>\n<path fill=\"#f5d0b6\" stroke=\"#000000\" d=\"M1692,-306C1692,-306 1543,-306 1543,-306 1537,-306 1531,-300 1531,-294 1531,-294 1531,-235 1531,-235 1531,-229 1537,-223 1543,-223 1543,-223 1692,-223 1692,-223 1698,-223 1704,-229 1704,-235 1704,-235 1704,-294 1704,-294 1704,-300 1698,-306 1692,-306\"/>\n<text text-anchor=\"start\" x=\"1544\" y=\"-290.8\" font-family=\"Helvetica,sans-Serif\" font-size=\"14.00\" fill=\"#000000\">Fibrosis_central ≤ 47.5</text>\n<text text-anchor=\"start\" x=\"1579.5\" y=\"-275.8\" font-family=\"Helvetica,sans-Serif\" font-size=\"14.00\" fill=\"#000000\">gini = 0.474</text>\n<text text-anchor=\"start\" x=\"1573.5\" y=\"-260.8\" font-family=\"Helvetica,sans-Serif\" font-size=\"14.00\" fill=\"#000000\">samples = 71</text>\n<text text-anchor=\"start\" x=\"1539\" y=\"-245.8\" font-family=\"Helvetica,sans-Serif\" font-size=\"14.00\" fill=\"#000000\">value = [45.224, 28.455]</text>\n<text text-anchor=\"start\" x=\"1588.5\" y=\"-230.8\" font-family=\"Helvetica,sans-Serif\" font-size=\"14.00\" fill=\"#000000\">class = 0</text>\n</g>\n<!-- 12&#45;&gt;20 -->\n<g id=\"edge20\" class=\"edge\">\n<title>12&#45;&gt;20</title>\n<path fill=\"none\" stroke=\"#000000\" d=\"M1297.7162,-346.3371C1370.4608,-327.7208 1456.5412,-305.6916 1521.0571,-289.1811\"/>\n<polygon fill=\"#000000\" stroke=\"#000000\" points=\"1521.9976,-292.5533 1530.8176,-286.6832 1520.2621,-285.7718 1521.9976,-292.5533\"/>\n</g>\n<!-- 14 -->\n<g id=\"node15\" class=\"node\">\n<title>14</title>\n<path fill=\"#8ec7f0\" stroke=\"#000000\" d=\"M1102,-187C1102,-187 953,-187 953,-187 947,-187 941,-181 941,-175 941,-175 941,-116 941,-116 941,-110 947,-104 953,-104 953,-104 1102,-104 1102,-104 1108,-104 1114,-110 1114,-116 1114,-116 1114,-175 1114,-175 1114,-181 1108,-187 1102,-187\"/>\n<text text-anchor=\"start\" x=\"950\" y=\"-171.8\" font-family=\"Helvetica,sans-Serif\" font-size=\"14.00\" fill=\"#000000\">Fibrosis_central ≤ 105.0</text>\n<text text-anchor=\"start\" x=\"989.5\" y=\"-156.8\" font-family=\"Helvetica,sans-Serif\" font-size=\"14.00\" fill=\"#000000\">gini = 0.421</text>\n<text text-anchor=\"start\" x=\"983.5\" y=\"-141.8\" font-family=\"Helvetica,sans-Serif\" font-size=\"14.00\" fill=\"#000000\">samples = 63</text>\n<text text-anchor=\"start\" x=\"949\" y=\"-126.8\" font-family=\"Helvetica,sans-Serif\" font-size=\"14.00\" fill=\"#000000\">value = [17.852, 41.389]</text>\n<text text-anchor=\"start\" x=\"998.5\" y=\"-111.8\" font-family=\"Helvetica,sans-Serif\" font-size=\"14.00\" fill=\"#000000\">class = 1</text>\n</g>\n<!-- 13&#45;&gt;14 -->\n<g id=\"edge14\" class=\"edge\">\n<title>13&#45;&gt;14</title>\n<path fill=\"none\" stroke=\"#000000\" d=\"M1108.7811,-222.8796C1099.1314,-213.6931 1088.8234,-203.8798 1078.9009,-194.4336\"/>\n<polygon fill=\"#000000\" stroke=\"#000000\" points=\"1081.0616,-191.6582 1071.4055,-187.2981 1076.235,-196.7282 1081.0616,-191.6582\"/>\n</g>\n<!-- 17 -->\n<g id=\"node18\" class=\"node\">\n<title>17</title>\n<path fill=\"#4ba6e7\" stroke=\"#000000\" d=\"M1410.5,-187C1410.5,-187 1144.5,-187 1144.5,-187 1138.5,-187 1132.5,-181 1132.5,-175 1132.5,-175 1132.5,-116 1132.5,-116 1132.5,-110 1138.5,-104 1144.5,-104 1144.5,-104 1410.5,-104 1410.5,-104 1416.5,-104 1422.5,-110 1422.5,-116 1422.5,-116 1422.5,-175 1422.5,-175 1422.5,-181 1416.5,-187 1410.5,-187\"/>\n<text text-anchor=\"start\" x=\"1140.5\" y=\"-171.8\" font-family=\"Helvetica,sans-Serif\" font-size=\"14.00\" fill=\"#000000\">FOXP3/CD8&#45;central_intraepithelial ≤ 0.388</text>\n<text text-anchor=\"start\" x=\"1244\" y=\"-156.8\" font-family=\"Helvetica,sans-Serif\" font-size=\"14.00\" fill=\"#000000\">gini = 0.15</text>\n<text text-anchor=\"start\" x=\"1233.5\" y=\"-141.8\" font-family=\"Helvetica,sans-Serif\" font-size=\"14.00\" fill=\"#000000\">samples = 33</text>\n<text text-anchor=\"start\" x=\"1211.5\" y=\"-126.8\" font-family=\"Helvetica,sans-Serif\" font-size=\"14.00\" fill=\"#000000\">value = [2.38, 26.73]</text>\n<text text-anchor=\"start\" x=\"1248.5\" y=\"-111.8\" font-family=\"Helvetica,sans-Serif\" font-size=\"14.00\" fill=\"#000000\">class = 1</text>\n</g>\n<!-- 13&#45;&gt;17 -->\n<g id=\"edge17\" class=\"edge\">\n<title>13&#45;&gt;17</title>\n<path fill=\"none\" stroke=\"#000000\" d=\"M1196.2189,-222.8796C1205.8686,-213.6931 1216.1766,-203.8798 1226.0991,-194.4336\"/>\n<polygon fill=\"#000000\" stroke=\"#000000\" points=\"1228.765,-196.7282 1233.5945,-187.2981 1223.9384,-191.6582 1228.765,-196.7282\"/>\n</g>\n<!-- 15 -->\n<g id=\"node16\" class=\"node\">\n<title>15</title>\n<path fill=\"#9ccef2\" stroke=\"#000000\" d=\"M925,-68C925,-68 776,-68 776,-68 770,-68 764,-62 764,-56 764,-56 764,-12 764,-12 764,-6 770,0 776,0 776,0 925,0 925,0 931,0 937,-6 937,-12 937,-12 937,-56 937,-56 937,-62 931,-68 925,-68\"/>\n<text text-anchor=\"start\" x=\"812.5\" y=\"-52.8\" font-family=\"Helvetica,sans-Serif\" font-size=\"14.00\" fill=\"#000000\">gini = 0.444</text>\n<text text-anchor=\"start\" x=\"806.5\" y=\"-37.8\" font-family=\"Helvetica,sans-Serif\" font-size=\"14.00\" fill=\"#000000\">samples = 49</text>\n<text text-anchor=\"start\" x=\"772\" y=\"-22.8\" font-family=\"Helvetica,sans-Serif\" font-size=\"14.00\" fill=\"#000000\">value = [15.471, 31.042]</text>\n<text text-anchor=\"start\" x=\"821.5\" y=\"-7.8\" font-family=\"Helvetica,sans-Serif\" font-size=\"14.00\" fill=\"#000000\">class = 1</text>\n</g>\n<!-- 14&#45;&gt;15 -->\n<g id=\"edge15\" class=\"edge\">\n<title>14&#45;&gt;15</title>\n<path fill=\"none\" stroke=\"#000000\" d=\"M961.5917,-103.9815C945.752,-94.0034 928.8774,-83.3733 913.1888,-73.4904\"/>\n<polygon fill=\"#000000\" stroke=\"#000000\" points=\"914.9357,-70.4543 904.609,-68.0856 911.2046,-76.3771 914.9357,-70.4543\"/>\n</g>\n<!-- 16 -->\n<g id=\"node17\" class=\"node\">\n<title>16</title>\n<path fill=\"#67b4eb\" stroke=\"#000000\" d=\"M1099.5,-68C1099.5,-68 967.5,-68 967.5,-68 961.5,-68 955.5,-62 955.5,-56 955.5,-56 955.5,-12 955.5,-12 955.5,-6 961.5,0 967.5,0 967.5,0 1099.5,0 1099.5,0 1105.5,0 1111.5,-6 1111.5,-12 1111.5,-12 1111.5,-56 1111.5,-56 1111.5,-62 1105.5,-68 1099.5,-68\"/>\n<text text-anchor=\"start\" x=\"995.5\" y=\"-52.8\" font-family=\"Helvetica,sans-Serif\" font-size=\"14.00\" fill=\"#000000\">gini = 0.304</text>\n<text text-anchor=\"start\" x=\"989.5\" y=\"-37.8\" font-family=\"Helvetica,sans-Serif\" font-size=\"14.00\" fill=\"#000000\">samples = 14</text>\n<text text-anchor=\"start\" x=\"963.5\" y=\"-22.8\" font-family=\"Helvetica,sans-Serif\" font-size=\"14.00\" fill=\"#000000\">value = [2.38, 10.347]</text>\n<text text-anchor=\"start\" x=\"1004.5\" y=\"-7.8\" font-family=\"Helvetica,sans-Serif\" font-size=\"14.00\" fill=\"#000000\">class = 1</text>\n</g>\n<!-- 14&#45;&gt;16 -->\n<g id=\"edge16\" class=\"edge\">\n<title>14&#45;&gt;16</title>\n<path fill=\"none\" stroke=\"#000000\" d=\"M1029.7342,-103.9815C1030.1842,-95.618 1030.6589,-86.7965 1031.1139,-78.3409\"/>\n<polygon fill=\"#000000\" stroke=\"#000000\" points=\"1034.6137,-78.4373 1031.6562,-68.2637 1027.6238,-78.0611 1034.6137,-78.4373\"/>\n</g>\n<!-- 18 -->\n<g id=\"node19\" class=\"node\">\n<title>18</title>\n<path fill=\"#56abe9\" stroke=\"#000000\" d=\"M1273.5,-68C1273.5,-68 1141.5,-68 1141.5,-68 1135.5,-68 1129.5,-62 1129.5,-56 1129.5,-56 1129.5,-12 1129.5,-12 1129.5,-6 1135.5,0 1141.5,0 1141.5,0 1273.5,0 1273.5,0 1279.5,0 1285.5,-6 1285.5,-12 1285.5,-12 1285.5,-56 1285.5,-56 1285.5,-62 1279.5,-68 1273.5,-68\"/>\n<text text-anchor=\"start\" x=\"1169.5\" y=\"-52.8\" font-family=\"Helvetica,sans-Serif\" font-size=\"14.00\" fill=\"#000000\">gini = 0.222</text>\n<text text-anchor=\"start\" x=\"1163.5\" y=\"-37.8\" font-family=\"Helvetica,sans-Serif\" font-size=\"14.00\" fill=\"#000000\">samples = 21</text>\n<text text-anchor=\"start\" x=\"1137.5\" y=\"-22.8\" font-family=\"Helvetica,sans-Serif\" font-size=\"14.00\" fill=\"#000000\">value = [2.38, 16.383]</text>\n<text text-anchor=\"start\" x=\"1178.5\" y=\"-7.8\" font-family=\"Helvetica,sans-Serif\" font-size=\"14.00\" fill=\"#000000\">class = 1</text>\n</g>\n<!-- 17&#45;&gt;18 -->\n<g id=\"edge18\" class=\"edge\">\n<title>17&#45;&gt;18</title>\n<path fill=\"none\" stroke=\"#000000\" d=\"M1251.4346,-103.9815C1245.8955,-95.1585 1240.0364,-85.8258 1234.4645,-76.9506\"/>\n<polygon fill=\"#000000\" stroke=\"#000000\" points=\"1237.2922,-74.872 1229.0108,-68.2637 1231.3637,-78.594 1237.2922,-74.872\"/>\n</g>\n<!-- 19 -->\n<g id=\"node20\" class=\"node\">\n<title>19</title>\n<path fill=\"#399de5\" stroke=\"#000000\" d=\"M1439.5,-68C1439.5,-68 1315.5,-68 1315.5,-68 1309.5,-68 1303.5,-62 1303.5,-56 1303.5,-56 1303.5,-12 1303.5,-12 1303.5,-6 1309.5,0 1315.5,0 1315.5,0 1439.5,0 1439.5,0 1445.5,0 1451.5,-6 1451.5,-12 1451.5,-12 1451.5,-56 1451.5,-56 1451.5,-62 1445.5,-68 1439.5,-68\"/>\n<text text-anchor=\"start\" x=\"1348\" y=\"-52.8\" font-family=\"Helvetica,sans-Serif\" font-size=\"14.00\" fill=\"#000000\">gini = 0.0</text>\n<text text-anchor=\"start\" x=\"1333.5\" y=\"-37.8\" font-family=\"Helvetica,sans-Serif\" font-size=\"14.00\" fill=\"#000000\">samples = 12</text>\n<text text-anchor=\"start\" x=\"1311.5\" y=\"-22.8\" font-family=\"Helvetica,sans-Serif\" font-size=\"14.00\" fill=\"#000000\">value = [0.0, 10.347]</text>\n<text text-anchor=\"start\" x=\"1348.5\" y=\"-7.8\" font-family=\"Helvetica,sans-Serif\" font-size=\"14.00\" fill=\"#000000\">class = 1</text>\n</g>\n<!-- 17&#45;&gt;19 -->\n<g id=\"edge19\" class=\"edge\">\n<title>17&#45;&gt;19</title>\n<path fill=\"none\" stroke=\"#000000\" d=\"M1314.7363,-103.9815C1322.9791,-94.7908 1331.7178,-85.0472 1339.9721,-75.8436\"/>\n<polygon fill=\"#000000\" stroke=\"#000000\" points=\"1342.6991,-78.0451 1346.7702,-68.2637 1337.4879,-73.3714 1342.6991,-78.0451\"/>\n</g>\n<!-- 21 -->\n<g id=\"node22\" class=\"node\">\n<title>21</title>\n<path fill=\"#d5eafa\" stroke=\"#000000\" d=\"M1750.5,-187C1750.5,-187 1484.5,-187 1484.5,-187 1478.5,-187 1472.5,-181 1472.5,-175 1472.5,-175 1472.5,-116 1472.5,-116 1472.5,-110 1478.5,-104 1484.5,-104 1484.5,-104 1750.5,-104 1750.5,-104 1756.5,-104 1762.5,-110 1762.5,-116 1762.5,-116 1762.5,-175 1762.5,-175 1762.5,-181 1756.5,-187 1750.5,-187\"/>\n<text text-anchor=\"start\" x=\"1480.5\" y=\"-171.8\" font-family=\"Helvetica,sans-Serif\" font-size=\"14.00\" fill=\"#000000\">FOXP3/CD8&#45;central_intraepithelial ≤ 1.909</text>\n<text text-anchor=\"start\" x=\"1579.5\" y=\"-156.8\" font-family=\"Helvetica,sans-Serif\" font-size=\"14.00\" fill=\"#000000\">gini = 0.493</text>\n<text text-anchor=\"start\" x=\"1573.5\" y=\"-141.8\" font-family=\"Helvetica,sans-Serif\" font-size=\"14.00\" fill=\"#000000\">samples = 33</text>\n<text text-anchor=\"start\" x=\"1539\" y=\"-126.8\" font-family=\"Helvetica,sans-Serif\" font-size=\"14.00\" fill=\"#000000\">value = [14.281, 18.108]</text>\n<text text-anchor=\"start\" x=\"1588.5\" y=\"-111.8\" font-family=\"Helvetica,sans-Serif\" font-size=\"14.00\" fill=\"#000000\">class = 1</text>\n</g>\n<!-- 20&#45;&gt;21 -->\n<g id=\"edge21\" class=\"edge\">\n<title>20&#45;&gt;21</title>\n<path fill=\"none\" stroke=\"#000000\" d=\"M1617.5,-222.8796C1617.5,-214.6838 1617.5,-205.9891 1617.5,-197.5013\"/>\n<polygon fill=\"#000000\" stroke=\"#000000\" points=\"1621.0001,-197.298 1617.5,-187.2981 1614.0001,-197.2981 1621.0001,-197.298\"/>\n</g>\n<!-- 24 -->\n<g id=\"node25\" class=\"node\">\n<title>24</title>\n<path fill=\"#eeab7b\" stroke=\"#000000\" d=\"M1974,-187C1974,-187 1825,-187 1825,-187 1819,-187 1813,-181 1813,-175 1813,-175 1813,-116 1813,-116 1813,-110 1819,-104 1825,-104 1825,-104 1974,-104 1974,-104 1980,-104 1986,-110 1986,-116 1986,-116 1986,-175 1986,-175 1986,-181 1980,-187 1974,-187\"/>\n<text text-anchor=\"start\" x=\"1822\" y=\"-171.8\" font-family=\"Helvetica,sans-Serif\" font-size=\"14.00\" fill=\"#000000\">Fibrosis_central ≤ 102.5</text>\n<text text-anchor=\"start\" x=\"1861.5\" y=\"-156.8\" font-family=\"Helvetica,sans-Serif\" font-size=\"14.00\" fill=\"#000000\">gini = 0.376</text>\n<text text-anchor=\"start\" x=\"1855.5\" y=\"-141.8\" font-family=\"Helvetica,sans-Serif\" font-size=\"14.00\" fill=\"#000000\">samples = 38</text>\n<text text-anchor=\"start\" x=\"1821\" y=\"-126.8\" font-family=\"Helvetica,sans-Serif\" font-size=\"14.00\" fill=\"#000000\">value = [30.943, 10.347]</text>\n<text text-anchor=\"start\" x=\"1870.5\" y=\"-111.8\" font-family=\"Helvetica,sans-Serif\" font-size=\"14.00\" fill=\"#000000\">class = 0</text>\n</g>\n<!-- 20&#45;&gt;24 -->\n<g id=\"edge24\" class=\"edge\">\n<title>20&#45;&gt;24</title>\n<path fill=\"none\" stroke=\"#000000\" d=\"M1704.0257,-227.9874C1735.4131,-214.7423 1771.0562,-199.7015 1803.2323,-186.1236\"/>\n<polygon fill=\"#000000\" stroke=\"#000000\" points=\"1804.7995,-189.2612 1812.652,-182.1486 1802.078,-182.8119 1804.7995,-189.2612\"/>\n</g>\n<!-- 22 -->\n<g id=\"node23\" class=\"node\">\n<title>22</title>\n<path fill=\"#fae5d7\" stroke=\"#000000\" d=\"M1621.5,-68C1621.5,-68 1481.5,-68 1481.5,-68 1475.5,-68 1469.5,-62 1469.5,-56 1469.5,-56 1469.5,-12 1469.5,-12 1469.5,-6 1475.5,0 1481.5,0 1481.5,0 1621.5,0 1621.5,0 1627.5,0 1633.5,-6 1633.5,-12 1633.5,-12 1633.5,-56 1633.5,-56 1633.5,-62 1627.5,-68 1621.5,-68\"/>\n<text text-anchor=\"start\" x=\"1513.5\" y=\"-52.8\" font-family=\"Helvetica,sans-Serif\" font-size=\"14.00\" fill=\"#000000\">gini = 0.494</text>\n<text text-anchor=\"start\" x=\"1507.5\" y=\"-37.8\" font-family=\"Helvetica,sans-Serif\" font-size=\"14.00\" fill=\"#000000\">samples = 21</text>\n<text text-anchor=\"start\" x=\"1477.5\" y=\"-22.8\" font-family=\"Helvetica,sans-Serif\" font-size=\"14.00\" fill=\"#000000\">value = [11.901, 9.485]</text>\n<text text-anchor=\"start\" x=\"1522.5\" y=\"-7.8\" font-family=\"Helvetica,sans-Serif\" font-size=\"14.00\" fill=\"#000000\">class = 0</text>\n</g>\n<!-- 21&#45;&gt;22 -->\n<g id=\"edge22\" class=\"edge\">\n<title>21&#45;&gt;22</title>\n<path fill=\"none\" stroke=\"#000000\" d=\"M1592.924,-103.9815C1587.7014,-95.1585 1582.1771,-85.8258 1576.9237,-76.9506\"/>\n<polygon fill=\"#000000\" stroke=\"#000000\" points=\"1579.8874,-75.0863 1571.7816,-68.2637 1573.8636,-78.652 1579.8874,-75.0863\"/>\n</g>\n<!-- 23 -->\n<g id=\"node24\" class=\"node\">\n<title>23</title>\n<path fill=\"#70b8ec\" stroke=\"#000000\" d=\"M1787.5,-68C1787.5,-68 1663.5,-68 1663.5,-68 1657.5,-68 1651.5,-62 1651.5,-56 1651.5,-56 1651.5,-12 1651.5,-12 1651.5,-6 1657.5,0 1663.5,0 1663.5,0 1787.5,0 1787.5,0 1793.5,0 1799.5,-6 1799.5,-12 1799.5,-12 1799.5,-56 1799.5,-56 1799.5,-62 1793.5,-68 1787.5,-68\"/>\n<text text-anchor=\"start\" x=\"1687.5\" y=\"-52.8\" font-family=\"Helvetica,sans-Serif\" font-size=\"14.00\" fill=\"#000000\">gini = 0.339</text>\n<text text-anchor=\"start\" x=\"1681.5\" y=\"-37.8\" font-family=\"Helvetica,sans-Serif\" font-size=\"14.00\" fill=\"#000000\">samples = 12</text>\n<text text-anchor=\"start\" x=\"1659.5\" y=\"-22.8\" font-family=\"Helvetica,sans-Serif\" font-size=\"14.00\" fill=\"#000000\">value = [2.38, 8.623]</text>\n<text text-anchor=\"start\" x=\"1696.5\" y=\"-7.8\" font-family=\"Helvetica,sans-Serif\" font-size=\"14.00\" fill=\"#000000\">class = 1</text>\n</g>\n<!-- 21&#45;&gt;23 -->\n<g id=\"edge23\" class=\"edge\">\n<title>21&#45;&gt;23</title>\n<path fill=\"none\" stroke=\"#000000\" d=\"M1657.7152,-103.9815C1666.7064,-94.6989 1676.244,-84.8522 1685.2371,-75.5677\"/>\n<polygon fill=\"#000000\" stroke=\"#000000\" points=\"1687.8684,-77.8817 1692.3119,-68.2637 1682.8404,-73.0115 1687.8684,-77.8817\"/>\n</g>\n<!-- 25 -->\n<g id=\"node26\" class=\"node\">\n<title>25</title>\n<path fill=\"#e78c4a\" stroke=\"#000000\" d=\"M1969.5,-68C1969.5,-68 1829.5,-68 1829.5,-68 1823.5,-68 1817.5,-62 1817.5,-56 1817.5,-56 1817.5,-12 1817.5,-12 1817.5,-6 1823.5,0 1829.5,0 1829.5,0 1969.5,0 1969.5,0 1975.5,0 1981.5,-6 1981.5,-12 1981.5,-12 1981.5,-56 1981.5,-56 1981.5,-62 1975.5,-68 1969.5,-68\"/>\n<text text-anchor=\"start\" x=\"1861.5\" y=\"-52.8\" font-family=\"Helvetica,sans-Serif\" font-size=\"14.00\" fill=\"#000000\">gini = 0.145</text>\n<text text-anchor=\"start\" x=\"1855.5\" y=\"-37.8\" font-family=\"Helvetica,sans-Serif\" font-size=\"14.00\" fill=\"#000000\">samples = 19</text>\n<text text-anchor=\"start\" x=\"1825.5\" y=\"-22.8\" font-family=\"Helvetica,sans-Serif\" font-size=\"14.00\" fill=\"#000000\">value = [20.232, 1.725]</text>\n<text text-anchor=\"start\" x=\"1870.5\" y=\"-7.8\" font-family=\"Helvetica,sans-Serif\" font-size=\"14.00\" fill=\"#000000\">class = 0</text>\n</g>\n<!-- 24&#45;&gt;25 -->\n<g id=\"edge25\" class=\"edge\">\n<title>24&#45;&gt;25</title>\n<path fill=\"none\" stroke=\"#000000\" d=\"M1899.5,-103.9815C1899.5,-95.618 1899.5,-86.7965 1899.5,-78.3409\"/>\n<polygon fill=\"#000000\" stroke=\"#000000\" points=\"1903.0001,-78.2636 1899.5,-68.2637 1896.0001,-78.2637 1903.0001,-78.2636\"/>\n</g>\n<!-- 26 -->\n<g id=\"node27\" class=\"node\">\n<title>26</title>\n<path fill=\"#fae6d8\" stroke=\"#000000\" d=\"M2151.5,-68C2151.5,-68 2011.5,-68 2011.5,-68 2005.5,-68 1999.5,-62 1999.5,-56 1999.5,-56 1999.5,-12 1999.5,-12 1999.5,-6 2005.5,0 2011.5,0 2011.5,0 2151.5,0 2151.5,0 2157.5,0 2163.5,-6 2163.5,-12 2163.5,-12 2163.5,-56 2163.5,-56 2163.5,-62 2157.5,-68 2151.5,-68\"/>\n<text text-anchor=\"start\" x=\"2043.5\" y=\"-52.8\" font-family=\"Helvetica,sans-Serif\" font-size=\"14.00\" fill=\"#000000\">gini = 0.494</text>\n<text text-anchor=\"start\" x=\"2037.5\" y=\"-37.8\" font-family=\"Helvetica,sans-Serif\" font-size=\"14.00\" fill=\"#000000\">samples = 19</text>\n<text text-anchor=\"start\" x=\"2007.5\" y=\"-22.8\" font-family=\"Helvetica,sans-Serif\" font-size=\"14.00\" fill=\"#000000\">value = [10.711, 8.623]</text>\n<text text-anchor=\"start\" x=\"2052.5\" y=\"-7.8\" font-family=\"Helvetica,sans-Serif\" font-size=\"14.00\" fill=\"#000000\">class = 0</text>\n</g>\n<!-- 24&#45;&gt;26 -->\n<g id=\"edge26\" class=\"edge\">\n<title>24&#45;&gt;26</title>\n<path fill=\"none\" stroke=\"#000000\" d=\"M1967.2701,-103.9815C1983.5573,-94.0034 2000.9085,-83.3733 2017.0403,-73.4904\"/>\n<polygon fill=\"#000000\" stroke=\"#000000\" points=\"2019.1638,-76.2941 2025.8625,-68.0856 2015.507,-70.3252 2019.1638,-76.2941\"/>\n</g>\n</g>\n</svg>\n"
          },
          "metadata": {
            "tags": []
          },
          "execution_count": 141
        }
      ]
    },
    {
      "cell_type": "markdown",
      "metadata": {
        "id": "KUfLmRQbK_G2",
        "colab_type": "text"
      },
      "source": [
        "** FOXP3/CD8 for FOXP3/CD8-central_intraepithelial, Fibrosis for Fibrosis_central\n",
        "\n",
        "1. Pred 0\n",
        "- **FOXP3/CD8 <= 0.098, Fibrosis <= 202.5**\n",
        "- 0.496 < FOXP3/CD8 <= 1.909, Fibrosis <= 47.5\n",
        "- 0.496 < FOXP3/CD8, 47.5 < Fibrosis\n",
        "\n",
        "2. Pred 1\n",
        "- FOXP3/CD8 <= 0.098, 202.5 < Fibrosis\n",
        "- **0.098 < FOXP3/CD8 <= 0.496**\n",
        "- FOXP3/CD8 > 1.909, 47.5 < Fibrosis\n",
        "\n"
      ]
    },
    {
      "cell_type": "code",
      "metadata": {
        "id": "8Ryk42fEK2oj",
        "colab_type": "code",
        "colab": {}
      },
      "source": [
        ""
      ],
      "execution_count": 0,
      "outputs": []
    },
    {
      "cell_type": "code",
      "metadata": {
        "id": "3cgrsNTVDNFY",
        "colab_type": "code",
        "colab": {}
      },
      "source": [
        ""
      ],
      "execution_count": 0,
      "outputs": []
    },
    {
      "cell_type": "code",
      "metadata": {
        "id": "r2B4t5D4DNIU",
        "colab_type": "code",
        "colab": {}
      },
      "source": [
        ""
      ],
      "execution_count": 0,
      "outputs": []
    },
    {
      "cell_type": "code",
      "metadata": {
        "id": "unhED8KbDNKq",
        "colab_type": "code",
        "colab": {}
      },
      "source": [
        ""
      ],
      "execution_count": 0,
      "outputs": []
    },
    {
      "cell_type": "code",
      "metadata": {
        "id": "kkPqohRwDNNF",
        "colab_type": "code",
        "colab": {}
      },
      "source": [
        ""
      ],
      "execution_count": 0,
      "outputs": []
    },
    {
      "cell_type": "code",
      "metadata": {
        "id": "TpBlERlADNQH",
        "colab_type": "code",
        "colab": {}
      },
      "source": [
        ""
      ],
      "execution_count": 0,
      "outputs": []
    },
    {
      "cell_type": "code",
      "metadata": {
        "id": "edeYtlbNDNTC",
        "colab_type": "code",
        "outputId": "f8ae396f-d59f-4fba-fd57-485b4db0b0b4",
        "colab": {
          "base_uri": "https://localhost:8080/",
          "height": 592
        }
      },
      "source": [
        "new_tree1 = make_works(['CD8_periphery_intra', 'Fibrosis_peripheral'], 3)"
      ],
      "execution_count": 0,
      "outputs": [
        {
          "output_type": "stream",
          "text": [
            "{'AUC': 0.6594437893081762, 'accuracy': 0.6105032822757112, 'precision': 0.6835443037974683, 'recall': 0.6113207547169811, 'f1': 0.6454183266932271, 'mcc': 0.21801281223971886}\n",
            "<lifelines.StatisticalResult>\n",
            "               t_0 = -1\n",
            " null_distribution = chi squared\n",
            "degrees_of_freedom = 1\n",
            "\n",
            "---\n",
            " test_statistic      p  -log2(p)\n",
            "          20.69 <0.005     17.50\n",
            "<lifelines.StatisticalResult: (0, 1)>\n",
            "               t_0 = -1\n",
            " null_distribution = chi squared\n",
            "degrees_of_freedom = 1\n",
            "\n",
            "---\n",
            "     test_statistic      p  -log2(p)\n",
            "0 1           20.69 <0.005     17.50\n"
          ],
          "name": "stdout"
        },
        {
          "output_type": "display_data",
          "data": {
            "image/png": "[encoded data removed]",
            "text/plain": [
              "<Figure size 432x288 with 1 Axes>"
            ]
          },
          "metadata": {
            "tags": []
          }
        }
      ]
    },
    {
      "cell_type": "code",
      "metadata": {
        "id": "mRqJee-kFV2N",
        "colab_type": "code",
        "outputId": "1c336125-171b-4144-f2ac-5230346e72c6",
        "colab": {
          "base_uri": "https://localhost:8080/",
          "height": 638
        }
      },
      "source": [
        "new_tree1['tree graph']"
      ],
      "execution_count": 0,
      "outputs": [
        {
          "output_type": "execute_result",
          "data": {
            "text/plain": [
              "<graphviz.files.Source at 0x7f0badf935f8>"
            ],
            "image/svg+xml": "<?xml version=\"1.0\" encoding=\"UTF-8\" standalone=\"no\"?>\n<!DOCTYPE svg PUBLIC \"-//W3C//DTD SVG 1.1//EN\"\n \"http://www.w3.org/Graphics/SVG/1.1/DTD/svg11.dtd\">\n<!-- Generated by graphviz version 2.40.1 (20161225.0304)\n -->\n<!-- Title: Tree Pages: 1 -->\n<svg width=\"1477pt\" height=\"433pt\"\n viewBox=\"0.00 0.00 1476.50 433.00\" xmlns=\"http://www.w3.org/2000/svg\" xmlns:xlink=\"http://www.w3.org/1999/xlink\">\n<g id=\"graph0\" class=\"graph\" transform=\"scale(1 1) rotate(0) translate(4 429)\">\n<title>Tree</title>\n<polygon fill=\"#ffffff\" stroke=\"transparent\" points=\"-4,4 -4,-429 1472.5,-429 1472.5,4 -4,4\"/>\n<!-- 0 -->\n<g id=\"node1\" class=\"node\">\n<title>0</title>\n<path fill=\"#ffffff\" stroke=\"#000000\" d=\"M793.5,-425C793.5,-425 623.5,-425 623.5,-425 617.5,-425 611.5,-419 611.5,-413 611.5,-413 611.5,-354 611.5,-354 611.5,-348 617.5,-342 623.5,-342 623.5,-342 793.5,-342 793.5,-342 799.5,-342 805.5,-348 805.5,-354 805.5,-354 805.5,-413 805.5,-413 805.5,-419 799.5,-425 793.5,-425\"/>\n<text text-anchor=\"start\" x=\"619.5\" y=\"-409.8\" font-family=\"Helvetica,sans-Serif\" font-size=\"14.00\" fill=\"#000000\">CD8_periphery_intra ≤ 13.5</text>\n<text text-anchor=\"start\" x=\"679\" y=\"-394.8\" font-family=\"Helvetica,sans-Serif\" font-size=\"14.00\" fill=\"#000000\">gini = 0.5</text>\n<text text-anchor=\"start\" x=\"660.5\" y=\"-379.8\" font-family=\"Helvetica,sans-Serif\" font-size=\"14.00\" fill=\"#000000\">samples = 457</text>\n<text text-anchor=\"start\" x=\"638.5\" y=\"-364.8\" font-family=\"Helvetica,sans-Serif\" font-size=\"14.00\" fill=\"#000000\">value = [228.5, 228.5]</text>\n<text text-anchor=\"start\" x=\"679.5\" y=\"-349.8\" font-family=\"Helvetica,sans-Serif\" font-size=\"14.00\" fill=\"#000000\">class = 1</text>\n</g>\n<!-- 1 -->\n<g id=\"node2\" class=\"node\">\n<title>1</title>\n<path fill=\"#f9e3d4\" stroke=\"#000000\" d=\"M687.5,-306C687.5,-306 519.5,-306 519.5,-306 513.5,-306 507.5,-300 507.5,-294 507.5,-294 507.5,-235 507.5,-235 507.5,-229 513.5,-223 519.5,-223 519.5,-223 687.5,-223 687.5,-223 693.5,-223 699.5,-229 699.5,-235 699.5,-235 699.5,-294 699.5,-294 699.5,-300 693.5,-306 687.5,-306\"/>\n<text text-anchor=\"start\" x=\"515.5\" y=\"-290.8\" font-family=\"Helvetica,sans-Serif\" font-size=\"14.00\" fill=\"#000000\">Fibrosis_peripheral ≤ 115.0</text>\n<text text-anchor=\"start\" x=\"565.5\" y=\"-275.8\" font-family=\"Helvetica,sans-Serif\" font-size=\"14.00\" fill=\"#000000\">gini = 0.492</text>\n<text text-anchor=\"start\" x=\"555.5\" y=\"-260.8\" font-family=\"Helvetica,sans-Serif\" font-size=\"14.00\" fill=\"#000000\">samples = 295</text>\n<text text-anchor=\"start\" x=\"517\" y=\"-245.8\" font-family=\"Helvetica,sans-Serif\" font-size=\"14.00\" fill=\"#000000\">value = [168.995, 131.926]</text>\n<text text-anchor=\"start\" x=\"574.5\" y=\"-230.8\" font-family=\"Helvetica,sans-Serif\" font-size=\"14.00\" fill=\"#000000\">class = 0</text>\n</g>\n<!-- 0&#45;&gt;1 -->\n<g id=\"edge1\" class=\"edge\">\n<title>0&#45;&gt;1</title>\n<path fill=\"none\" stroke=\"#000000\" d=\"M671.7761,-341.8796C663.8293,-332.8733 655.351,-323.2644 647.1674,-313.9897\"/>\n<polygon fill=\"#000000\" stroke=\"#000000\" points=\"649.6213,-311.4808 640.3807,-306.2981 644.3725,-316.1122 649.6213,-311.4808\"/>\n<text text-anchor=\"middle\" x=\"638.8212\" y=\"-327.5494\" font-family=\"Helvetica,sans-Serif\" font-size=\"14.00\" fill=\"#000000\">True</text>\n</g>\n<!-- 8 -->\n<g id=\"node9\" class=\"node\">\n<title>8</title>\n<path fill=\"#b3d9f5\" stroke=\"#000000\" d=\"M961.5,-306C961.5,-306 801.5,-306 801.5,-306 795.5,-306 789.5,-300 789.5,-294 789.5,-294 789.5,-235 789.5,-235 789.5,-229 795.5,-223 801.5,-223 801.5,-223 961.5,-223 961.5,-223 967.5,-223 973.5,-229 973.5,-235 973.5,-235 973.5,-294 973.5,-294 973.5,-300 967.5,-306 961.5,-306\"/>\n<text text-anchor=\"start\" x=\"797.5\" y=\"-290.8\" font-family=\"Helvetica,sans-Serif\" font-size=\"14.00\" fill=\"#000000\">Fibrosis_peripheral ≤ 55.0</text>\n<text text-anchor=\"start\" x=\"843.5\" y=\"-275.8\" font-family=\"Helvetica,sans-Serif\" font-size=\"14.00\" fill=\"#000000\">gini = 0.472</text>\n<text text-anchor=\"start\" x=\"833.5\" y=\"-260.8\" font-family=\"Helvetica,sans-Serif\" font-size=\"14.00\" fill=\"#000000\">samples = 162</text>\n<text text-anchor=\"start\" x=\"803\" y=\"-245.8\" font-family=\"Helvetica,sans-Serif\" font-size=\"14.00\" fill=\"#000000\">value = [59.505, 96.574]</text>\n<text text-anchor=\"start\" x=\"852.5\" y=\"-230.8\" font-family=\"Helvetica,sans-Serif\" font-size=\"14.00\" fill=\"#000000\">class = 1</text>\n</g>\n<!-- 0&#45;&gt;8 -->\n<g id=\"edge8\" class=\"edge\">\n<title>0&#45;&gt;8</title>\n<path fill=\"none\" stroke=\"#000000\" d=\"M769.007,-341.8796C783.0982,-332.1868 798.2039,-321.7961 812.6269,-311.8752\"/>\n<polygon fill=\"#000000\" stroke=\"#000000\" points=\"814.7717,-314.6479 821.0272,-306.0969 810.8045,-308.8806 814.7717,-314.6479\"/>\n<text text-anchor=\"middle\" x=\"816.481\" y=\"-326.9801\" font-family=\"Helvetica,sans-Serif\" font-size=\"14.00\" fill=\"#000000\">False</text>\n</g>\n<!-- 2 -->\n<g id=\"node3\" class=\"node\">\n<title>2</title>\n<path fill=\"#f5d1b7\" stroke=\"#000000\" d=\"M358.5,-187C358.5,-187 196.5,-187 196.5,-187 190.5,-187 184.5,-181 184.5,-175 184.5,-175 184.5,-116 184.5,-116 184.5,-110 190.5,-104 196.5,-104 196.5,-104 358.5,-104 358.5,-104 364.5,-104 370.5,-110 370.5,-116 370.5,-116 370.5,-175 370.5,-175 370.5,-181 364.5,-187 358.5,-187\"/>\n<text text-anchor=\"start\" x=\"192.5\" y=\"-171.8\" font-family=\"Helvetica,sans-Serif\" font-size=\"14.00\" fill=\"#000000\">CD8_periphery_intra ≤ 0.5</text>\n<text text-anchor=\"start\" x=\"239.5\" y=\"-156.8\" font-family=\"Helvetica,sans-Serif\" font-size=\"14.00\" fill=\"#000000\">gini = 0.475</text>\n<text text-anchor=\"start\" x=\"229.5\" y=\"-141.8\" font-family=\"Helvetica,sans-Serif\" font-size=\"14.00\" fill=\"#000000\">samples = 150</text>\n<text text-anchor=\"start\" x=\"199\" y=\"-126.8\" font-family=\"Helvetica,sans-Serif\" font-size=\"14.00\" fill=\"#000000\">value = [95.208, 60.358]</text>\n<text text-anchor=\"start\" x=\"248.5\" y=\"-111.8\" font-family=\"Helvetica,sans-Serif\" font-size=\"14.00\" fill=\"#000000\">class = 0</text>\n</g>\n<!-- 1&#45;&gt;2 -->\n<g id=\"edge2\" class=\"edge\">\n<title>1&#45;&gt;2</title>\n<path fill=\"none\" stroke=\"#000000\" d=\"M507.4525,-229.4397C467.3764,-214.8107 420.7649,-197.7961 380.0258,-182.9251\"/>\n<polygon fill=\"#000000\" stroke=\"#000000\" points=\"381.2124,-179.6324 370.6185,-179.4911 378.8121,-186.208 381.2124,-179.6324\"/>\n</g>\n<!-- 5 -->\n<g id=\"node6\" class=\"node\">\n<title>5</title>\n<path fill=\"#fefbf9\" stroke=\"#000000\" d=\"M687.5,-187C687.5,-187 519.5,-187 519.5,-187 513.5,-187 507.5,-181 507.5,-175 507.5,-175 507.5,-116 507.5,-116 507.5,-110 513.5,-104 519.5,-104 519.5,-104 687.5,-104 687.5,-104 693.5,-104 699.5,-110 699.5,-116 699.5,-116 699.5,-175 699.5,-175 699.5,-181 693.5,-187 687.5,-187\"/>\n<text text-anchor=\"start\" x=\"515.5\" y=\"-171.8\" font-family=\"Helvetica,sans-Serif\" font-size=\"14.00\" fill=\"#000000\">Fibrosis_peripheral ≤ 262.5</text>\n<text text-anchor=\"start\" x=\"574\" y=\"-156.8\" font-family=\"Helvetica,sans-Serif\" font-size=\"14.00\" fill=\"#000000\">gini = 0.5</text>\n<text text-anchor=\"start\" x=\"555.5\" y=\"-141.8\" font-family=\"Helvetica,sans-Serif\" font-size=\"14.00\" fill=\"#000000\">samples = 145</text>\n<text text-anchor=\"start\" x=\"525\" y=\"-126.8\" font-family=\"Helvetica,sans-Serif\" font-size=\"14.00\" fill=\"#000000\">value = [73.786, 71.568]</text>\n<text text-anchor=\"start\" x=\"574.5\" y=\"-111.8\" font-family=\"Helvetica,sans-Serif\" font-size=\"14.00\" fill=\"#000000\">class = 0</text>\n</g>\n<!-- 1&#45;&gt;5 -->\n<g id=\"edge5\" class=\"edge\">\n<title>1&#45;&gt;5</title>\n<path fill=\"none\" stroke=\"#000000\" d=\"M603.5,-222.8796C603.5,-214.6838 603.5,-205.9891 603.5,-197.5013\"/>\n<polygon fill=\"#000000\" stroke=\"#000000\" points=\"607.0001,-197.298 603.5,-187.2981 600.0001,-197.2981 607.0001,-197.298\"/>\n</g>\n<!-- 3 -->\n<g id=\"node4\" class=\"node\">\n<title>3</title>\n<path fill=\"#f2be9a\" stroke=\"#000000\" d=\"M161,-68C161,-68 12,-68 12,-68 6,-68 0,-62 0,-56 0,-56 0,-12 0,-12 0,-6 6,0 12,0 12,0 161,0 161,0 167,0 173,-6 173,-12 173,-12 173,-56 173,-56 173,-62 167,-68 161,-68\"/>\n<text text-anchor=\"start\" x=\"48.5\" y=\"-52.8\" font-family=\"Helvetica,sans-Serif\" font-size=\"14.00\" fill=\"#000000\">gini = 0.441</text>\n<text text-anchor=\"start\" x=\"42.5\" y=\"-37.8\" font-family=\"Helvetica,sans-Serif\" font-size=\"14.00\" fill=\"#000000\">samples = 92</text>\n<text text-anchor=\"start\" x=\"8\" y=\"-22.8\" font-family=\"Helvetica,sans-Serif\" font-size=\"14.00\" fill=\"#000000\">value = [65.456, 31.904]</text>\n<text text-anchor=\"start\" x=\"57.5\" y=\"-7.8\" font-family=\"Helvetica,sans-Serif\" font-size=\"14.00\" fill=\"#000000\">class = 0</text>\n</g>\n<!-- 2&#45;&gt;3 -->\n<g id=\"edge3\" class=\"edge\">\n<title>2&#45;&gt;3</title>\n<path fill=\"none\" stroke=\"#000000\" d=\"M206.3786,-103.9815C189.1277,-93.911 170.7395,-83.1764 153.6773,-73.2161\"/>\n<polygon fill=\"#000000\" stroke=\"#000000\" points=\"155.2895,-70.1045 144.8888,-68.0856 151.7604,-76.1499 155.2895,-70.1045\"/>\n</g>\n<!-- 4 -->\n<g id=\"node5\" class=\"node\">\n<title>4</title>\n<path fill=\"#fefaf6\" stroke=\"#000000\" d=\"M352,-68C352,-68 203,-68 203,-68 197,-68 191,-62 191,-56 191,-56 191,-12 191,-12 191,-6 197,0 203,0 203,0 352,0 352,0 358,0 364,-6 364,-12 364,-12 364,-56 364,-56 364,-62 358,-68 352,-68\"/>\n<text text-anchor=\"start\" x=\"248\" y=\"-52.8\" font-family=\"Helvetica,sans-Serif\" font-size=\"14.00\" fill=\"#000000\">gini = 0.5</text>\n<text text-anchor=\"start\" x=\"233.5\" y=\"-37.8\" font-family=\"Helvetica,sans-Serif\" font-size=\"14.00\" fill=\"#000000\">samples = 58</text>\n<text text-anchor=\"start\" x=\"199\" y=\"-22.8\" font-family=\"Helvetica,sans-Serif\" font-size=\"14.00\" fill=\"#000000\">value = [29.753, 28.455]</text>\n<text text-anchor=\"start\" x=\"248.5\" y=\"-7.8\" font-family=\"Helvetica,sans-Serif\" font-size=\"14.00\" fill=\"#000000\">class = 0</text>\n</g>\n<!-- 2&#45;&gt;4 -->\n<g id=\"edge4\" class=\"edge\">\n<title>2&#45;&gt;4</title>\n<path fill=\"none\" stroke=\"#000000\" d=\"M277.5,-103.9815C277.5,-95.618 277.5,-86.7965 277.5,-78.3409\"/>\n<polygon fill=\"#000000\" stroke=\"#000000\" points=\"281.0001,-78.2636 277.5,-68.2637 274.0001,-78.2637 281.0001,-78.2636\"/>\n</g>\n<!-- 6 -->\n<g id=\"node7\" class=\"node\">\n<title>6</title>\n<path fill=\"#edf6fd\" stroke=\"#000000\" d=\"M543,-68C543,-68 394,-68 394,-68 388,-68 382,-62 382,-56 382,-56 382,-12 382,-12 382,-6 388,0 394,0 394,0 543,0 543,0 549,0 555,-6 555,-12 555,-12 555,-56 555,-56 555,-62 549,-68 543,-68\"/>\n<text text-anchor=\"start\" x=\"430.5\" y=\"-52.8\" font-family=\"Helvetica,sans-Serif\" font-size=\"14.00\" fill=\"#000000\">gini = 0.499</text>\n<text text-anchor=\"start\" x=\"420.5\" y=\"-37.8\" font-family=\"Helvetica,sans-Serif\" font-size=\"14.00\" fill=\"#000000\">samples = 131</text>\n<text text-anchor=\"start\" x=\"390\" y=\"-22.8\" font-family=\"Helvetica,sans-Serif\" font-size=\"14.00\" fill=\"#000000\">value = [61.885, 68.119]</text>\n<text text-anchor=\"start\" x=\"439.5\" y=\"-7.8\" font-family=\"Helvetica,sans-Serif\" font-size=\"14.00\" fill=\"#000000\">class = 1</text>\n</g>\n<!-- 5&#45;&gt;6 -->\n<g id=\"edge6\" class=\"edge\">\n<title>5&#45;&gt;6</title>\n<path fill=\"none\" stroke=\"#000000\" d=\"M553.231,-103.9815C541.6582,-94.4232 529.3611,-84.2668 517.8287,-74.7419\"/>\n<polygon fill=\"#000000\" stroke=\"#000000\" points=\"519.9243,-71.9332 509.9852,-68.2637 515.4666,-77.3304 519.9243,-71.9332\"/>\n</g>\n<!-- 7 -->\n<g id=\"node8\" class=\"node\">\n<title>7</title>\n<path fill=\"#eda672\" stroke=\"#000000\" d=\"M725.5,-68C725.5,-68 585.5,-68 585.5,-68 579.5,-68 573.5,-62 573.5,-56 573.5,-56 573.5,-12 573.5,-12 573.5,-6 579.5,0 585.5,0 585.5,0 725.5,0 725.5,0 731.5,0 737.5,-6 737.5,-12 737.5,-12 737.5,-56 737.5,-56 737.5,-62 731.5,-68 725.5,-68\"/>\n<text text-anchor=\"start\" x=\"617.5\" y=\"-52.8\" font-family=\"Helvetica,sans-Serif\" font-size=\"14.00\" fill=\"#000000\">gini = 0.348</text>\n<text text-anchor=\"start\" x=\"611.5\" y=\"-37.8\" font-family=\"Helvetica,sans-Serif\" font-size=\"14.00\" fill=\"#000000\">samples = 14</text>\n<text text-anchor=\"start\" x=\"581.5\" y=\"-22.8\" font-family=\"Helvetica,sans-Serif\" font-size=\"14.00\" fill=\"#000000\">value = [11.901, 3.449]</text>\n<text text-anchor=\"start\" x=\"626.5\" y=\"-7.8\" font-family=\"Helvetica,sans-Serif\" font-size=\"14.00\" fill=\"#000000\">class = 0</text>\n</g>\n<!-- 5&#45;&gt;7 -->\n<g id=\"edge7\" class=\"edge\">\n<title>5&#45;&gt;7</title>\n<path fill=\"none\" stroke=\"#000000\" d=\"M622.8629,-103.9815C626.8919,-95.3423 631.1489,-86.2144 635.2103,-77.5059\"/>\n<polygon fill=\"#000000\" stroke=\"#000000\" points=\"638.4659,-78.8059 639.5205,-68.2637 632.1218,-75.8472 638.4659,-78.8059\"/>\n</g>\n<!-- 9 -->\n<g id=\"node10\" class=\"node\">\n<title>9</title>\n<path fill=\"#80c0ee\" stroke=\"#000000\" d=\"M966.5,-187C966.5,-187 796.5,-187 796.5,-187 790.5,-187 784.5,-181 784.5,-175 784.5,-175 784.5,-116 784.5,-116 784.5,-110 790.5,-104 796.5,-104 796.5,-104 966.5,-104 966.5,-104 972.5,-104 978.5,-110 978.5,-116 978.5,-116 978.5,-175 978.5,-175 978.5,-181 972.5,-187 966.5,-187\"/>\n<text text-anchor=\"start\" x=\"792.5\" y=\"-171.8\" font-family=\"Helvetica,sans-Serif\" font-size=\"14.00\" fill=\"#000000\">CD8_periphery_intra ≤ 21.0</text>\n<text text-anchor=\"start\" x=\"843.5\" y=\"-156.8\" font-family=\"Helvetica,sans-Serif\" font-size=\"14.00\" fill=\"#000000\">gini = 0.388</text>\n<text text-anchor=\"start\" x=\"837.5\" y=\"-141.8\" font-family=\"Helvetica,sans-Serif\" font-size=\"14.00\" fill=\"#000000\">samples = 73</text>\n<text text-anchor=\"start\" x=\"803\" y=\"-126.8\" font-family=\"Helvetica,sans-Serif\" font-size=\"14.00\" fill=\"#000000\">value = [17.852, 50.011]</text>\n<text text-anchor=\"start\" x=\"852.5\" y=\"-111.8\" font-family=\"Helvetica,sans-Serif\" font-size=\"14.00\" fill=\"#000000\">class = 1</text>\n</g>\n<!-- 8&#45;&gt;9 -->\n<g id=\"edge9\" class=\"edge\">\n<title>8&#45;&gt;9</title>\n<path fill=\"none\" stroke=\"#000000\" d=\"M881.5,-222.8796C881.5,-214.6838 881.5,-205.9891 881.5,-197.5013\"/>\n<polygon fill=\"#000000\" stroke=\"#000000\" points=\"885.0001,-197.298 881.5,-187.2981 878.0001,-197.2981 885.0001,-197.298\"/>\n</g>\n<!-- 12 -->\n<g id=\"node13\" class=\"node\">\n<title>12</title>\n<path fill=\"#eaf5fc\" stroke=\"#000000\" d=\"M1284.5,-187C1284.5,-187 1114.5,-187 1114.5,-187 1108.5,-187 1102.5,-181 1102.5,-175 1102.5,-175 1102.5,-116 1102.5,-116 1102.5,-110 1108.5,-104 1114.5,-104 1114.5,-104 1284.5,-104 1284.5,-104 1290.5,-104 1296.5,-110 1296.5,-116 1296.5,-116 1296.5,-175 1296.5,-175 1296.5,-181 1290.5,-187 1284.5,-187\"/>\n<text text-anchor=\"start\" x=\"1110.5\" y=\"-171.8\" font-family=\"Helvetica,sans-Serif\" font-size=\"14.00\" fill=\"#000000\">CD8_periphery_intra ≤ 61.5</text>\n<text text-anchor=\"start\" x=\"1161.5\" y=\"-156.8\" font-family=\"Helvetica,sans-Serif\" font-size=\"14.00\" fill=\"#000000\">gini = 0.498</text>\n<text text-anchor=\"start\" x=\"1155.5\" y=\"-141.8\" font-family=\"Helvetica,sans-Serif\" font-size=\"14.00\" fill=\"#000000\">samples = 89</text>\n<text text-anchor=\"start\" x=\"1121\" y=\"-126.8\" font-family=\"Helvetica,sans-Serif\" font-size=\"14.00\" fill=\"#000000\">value = [41.654, 46.562]</text>\n<text text-anchor=\"start\" x=\"1170.5\" y=\"-111.8\" font-family=\"Helvetica,sans-Serif\" font-size=\"14.00\" fill=\"#000000\">class = 1</text>\n</g>\n<!-- 8&#45;&gt;12 -->\n<g id=\"edge12\" class=\"edge\">\n<title>8&#45;&gt;12</title>\n<path fill=\"none\" stroke=\"#000000\" d=\"M973.9059,-229.9204C1011.0976,-216.0028 1054.2226,-199.8648 1092.7445,-185.4494\"/>\n<polygon fill=\"#000000\" stroke=\"#000000\" points=\"1094.2936,-188.6068 1102.4326,-181.824 1091.8402,-182.0508 1094.2936,-188.6068\"/>\n</g>\n<!-- 10 -->\n<g id=\"node11\" class=\"node\">\n<title>10</title>\n<path fill=\"#399de5\" stroke=\"#000000\" d=\"M891.5,-68C891.5,-68 767.5,-68 767.5,-68 761.5,-68 755.5,-62 755.5,-56 755.5,-56 755.5,-12 755.5,-12 755.5,-6 761.5,0 767.5,0 767.5,0 891.5,0 891.5,0 897.5,0 903.5,-6 903.5,-12 903.5,-12 903.5,-56 903.5,-56 903.5,-62 897.5,-68 891.5,-68\"/>\n<text text-anchor=\"start\" x=\"800\" y=\"-52.8\" font-family=\"Helvetica,sans-Serif\" font-size=\"14.00\" fill=\"#000000\">gini = 0.0</text>\n<text text-anchor=\"start\" x=\"785.5\" y=\"-37.8\" font-family=\"Helvetica,sans-Serif\" font-size=\"14.00\" fill=\"#000000\">samples = 12</text>\n<text text-anchor=\"start\" x=\"763.5\" y=\"-22.8\" font-family=\"Helvetica,sans-Serif\" font-size=\"14.00\" fill=\"#000000\">value = [0.0, 10.347]</text>\n<text text-anchor=\"start\" x=\"800.5\" y=\"-7.8\" font-family=\"Helvetica,sans-Serif\" font-size=\"14.00\" fill=\"#000000\">class = 1</text>\n</g>\n<!-- 9&#45;&gt;10 -->\n<g id=\"edge10\" class=\"edge\">\n<title>9&#45;&gt;10</title>\n<path fill=\"none\" stroke=\"#000000\" d=\"M862.1371,-103.9815C858.1081,-95.3423 853.8511,-86.2144 849.7897,-77.5059\"/>\n<polygon fill=\"#000000\" stroke=\"#000000\" points=\"852.8782,-75.8472 845.4795,-68.2637 846.5341,-78.8059 852.8782,-75.8472\"/>\n</g>\n<!-- 11 -->\n<g id=\"node12\" class=\"node\">\n<title>11</title>\n<path fill=\"#92c9f1\" stroke=\"#000000\" d=\"M1083,-68C1083,-68 934,-68 934,-68 928,-68 922,-62 922,-56 922,-56 922,-12 922,-12 922,-6 928,0 934,0 934,0 1083,0 1083,0 1089,0 1095,-6 1095,-12 1095,-12 1095,-56 1095,-56 1095,-62 1089,-68 1083,-68\"/>\n<text text-anchor=\"start\" x=\"970.5\" y=\"-52.8\" font-family=\"Helvetica,sans-Serif\" font-size=\"14.00\" fill=\"#000000\">gini = 0.428</text>\n<text text-anchor=\"start\" x=\"964.5\" y=\"-37.8\" font-family=\"Helvetica,sans-Serif\" font-size=\"14.00\" fill=\"#000000\">samples = 61</text>\n<text text-anchor=\"start\" x=\"930\" y=\"-22.8\" font-family=\"Helvetica,sans-Serif\" font-size=\"14.00\" fill=\"#000000\">value = [17.852, 39.664]</text>\n<text text-anchor=\"start\" x=\"979.5\" y=\"-7.8\" font-family=\"Helvetica,sans-Serif\" font-size=\"14.00\" fill=\"#000000\">class = 1</text>\n</g>\n<!-- 9&#45;&gt;11 -->\n<g id=\"edge11\" class=\"edge\">\n<title>9&#45;&gt;11</title>\n<path fill=\"none\" stroke=\"#000000\" d=\"M928.7901,-103.9815C939.5725,-94.5151 951.023,-84.462 961.7813,-75.0168\"/>\n<polygon fill=\"#000000\" stroke=\"#000000\" points=\"964.2676,-77.4915 969.4732,-68.2637 959.6493,-72.2311 964.2676,-77.4915\"/>\n</g>\n<!-- 13 -->\n<g id=\"node14\" class=\"node\">\n<title>13</title>\n<path fill=\"#f9e3d3\" stroke=\"#000000\" d=\"M1274,-68C1274,-68 1125,-68 1125,-68 1119,-68 1113,-62 1113,-56 1113,-56 1113,-12 1113,-12 1113,-6 1119,0 1125,0 1125,0 1274,0 1274,0 1280,0 1286,-6 1286,-12 1286,-12 1286,-56 1286,-56 1286,-62 1280,-68 1274,-68\"/>\n<text text-anchor=\"start\" x=\"1161.5\" y=\"-52.8\" font-family=\"Helvetica,sans-Serif\" font-size=\"14.00\" fill=\"#000000\">gini = 0.492</text>\n<text text-anchor=\"start\" x=\"1155.5\" y=\"-37.8\" font-family=\"Helvetica,sans-Serif\" font-size=\"14.00\" fill=\"#000000\">samples = 56</text>\n<text text-anchor=\"start\" x=\"1121\" y=\"-22.8\" font-family=\"Helvetica,sans-Serif\" font-size=\"14.00\" fill=\"#000000\">value = [32.133, 25.006]</text>\n<text text-anchor=\"start\" x=\"1170.5\" y=\"-7.8\" font-family=\"Helvetica,sans-Serif\" font-size=\"14.00\" fill=\"#000000\">class = 0</text>\n</g>\n<!-- 12&#45;&gt;13 -->\n<g id=\"edge13\" class=\"edge\">\n<title>12&#45;&gt;13</title>\n<path fill=\"none\" stroke=\"#000000\" d=\"M1199.5,-103.9815C1199.5,-95.618 1199.5,-86.7965 1199.5,-78.3409\"/>\n<polygon fill=\"#000000\" stroke=\"#000000\" points=\"1203.0001,-78.2636 1199.5,-68.2637 1196.0001,-78.2637 1203.0001,-78.2636\"/>\n</g>\n<!-- 14 -->\n<g id=\"node15\" class=\"node\">\n<title>14</title>\n<path fill=\"#90c8f0\" stroke=\"#000000\" d=\"M1456.5,-68C1456.5,-68 1316.5,-68 1316.5,-68 1310.5,-68 1304.5,-62 1304.5,-56 1304.5,-56 1304.5,-12 1304.5,-12 1304.5,-6 1310.5,0 1316.5,0 1316.5,0 1456.5,0 1456.5,0 1462.5,0 1468.5,-6 1468.5,-12 1468.5,-12 1468.5,-56 1468.5,-56 1468.5,-62 1462.5,-68 1456.5,-68\"/>\n<text text-anchor=\"start\" x=\"1348.5\" y=\"-52.8\" font-family=\"Helvetica,sans-Serif\" font-size=\"14.00\" fill=\"#000000\">gini = 0.425</text>\n<text text-anchor=\"start\" x=\"1342.5\" y=\"-37.8\" font-family=\"Helvetica,sans-Serif\" font-size=\"14.00\" fill=\"#000000\">samples = 33</text>\n<text text-anchor=\"start\" x=\"1312.5\" y=\"-22.8\" font-family=\"Helvetica,sans-Serif\" font-size=\"14.00\" fill=\"#000000\">value = [9.521, 21.557]</text>\n<text text-anchor=\"start\" x=\"1357.5\" y=\"-7.8\" font-family=\"Helvetica,sans-Serif\" font-size=\"14.00\" fill=\"#000000\">class = 1</text>\n</g>\n<!-- 12&#45;&gt;14 -->\n<g id=\"edge14\" class=\"edge\">\n<title>12&#45;&gt;14</title>\n<path fill=\"none\" stroke=\"#000000\" d=\"M1269.1319,-103.9815C1286.0215,-93.911 1304.0247,-83.1764 1320.7295,-73.2161\"/>\n<polygon fill=\"#000000\" stroke=\"#000000\" points=\"1322.5373,-76.2132 1329.334,-68.0856 1318.9524,-70.2008 1322.5373,-76.2132\"/>\n</g>\n</g>\n</svg>\n"
          },
          "metadata": {
            "tags": []
          },
          "execution_count": 25
        }
      ]
    },
    {
      "cell_type": "markdown",
      "metadata": {
        "id": "bVEnqz4kFeRr",
        "colab_type": "text"
      },
      "source": [
        "** Conditions of Rule, Rule Rank(Samples of Rule)\n",
        "\n",
        "1. Pred 0\n",
        "- CD8 <= 13.5, Fib <= 115, 1(150)\n",
        "- CD8 <= 13.5, 262.5 < Fib, 3(14)\n",
        "- 13.5 < CD8 <= 61.5, 55 < Fib <= 61.5, 2(56)\n",
        "\n",
        "2. Pred 1\n",
        "- CD8 <= 13.5, 115 < Fib < 262.5, 1(131)\n",
        "- CD8 > 13.5, Fib <= 55, 2(73)\n",
        "- 61.5 < CD8, 55 < Fib, 3(33)"
      ]
    },
    {
      "cell_type": "code",
      "metadata": {
        "id": "qjXLjcHsFNlh",
        "colab_type": "code",
        "outputId": "d5039b52-419a-4c61-8269-8c8afe0a766b",
        "colab": {
          "base_uri": "https://localhost:8080/",
          "height": 572
        }
      },
      "source": [
        "new_tree2 = make_works(['CD8_central_intra', 'Fibrosis_central'], 3)"
      ],
      "execution_count": 0,
      "outputs": [
        {
          "output_type": "stream",
          "text": [
            "{'AUC': 0.6469929245283018, 'accuracy': 0.5995623632385121, 'precision': 0.66015625, 'recall': 0.6377358490566037, 'f1': 0.6487523992322456, 'mcc': 0.1835746714676188}\n",
            "<lifelines.StatisticalResult>\n",
            "               t_0 = -1\n",
            " null_distribution = chi squared\n",
            "degrees_of_freedom = 1\n",
            "\n",
            "---\n",
            " test_statistic      p  -log2(p)\n",
            "          16.71 <0.005     14.49\n",
            "<lifelines.StatisticalResult: (0, 1)>\n",
            "               t_0 = -1\n",
            " null_distribution = chi squared\n",
            "degrees_of_freedom = 1\n",
            "\n",
            "---\n",
            "     test_statistic      p  -log2(p)\n",
            "0 1           16.71 <0.005     14.49\n"
          ],
          "name": "stdout"
        },
        {
          "output_type": "display_data",
          "data": {
            "image/png": "[encoded data removed]",
            "text/plain": [
              "<Figure size 432x288 with 1 Axes>"
            ]
          },
          "metadata": {
            "tags": []
          }
        }
      ]
    },
    {
      "cell_type": "code",
      "metadata": {
        "id": "tYvs-zI2FTkx",
        "colab_type": "code",
        "outputId": "b5eb8d31-fffe-4f4d-99e5-a93ed18d5b7e",
        "colab": {
          "base_uri": "https://localhost:8080/",
          "height": 638
        }
      },
      "source": [
        "new_tree2['tree graph']"
      ],
      "execution_count": 0,
      "outputs": [
        {
          "output_type": "execute_result",
          "data": {
            "text/plain": [
              "<graphviz.files.Source at 0x7f0bcf1794a8>"
            ],
            "image/svg+xml": "<?xml version=\"1.0\" encoding=\"UTF-8\" standalone=\"no\"?>\n<!DOCTYPE svg PUBLIC \"-//W3C//DTD SVG 1.1//EN\"\n \"http://www.w3.org/Graphics/SVG/1.1/DTD/svg11.dtd\">\n<!-- Generated by graphviz version 2.40.1 (20161225.0304)\n -->\n<!-- Title: Tree Pages: 1 -->\n<svg width=\"1453pt\" height=\"433pt\"\n viewBox=\"0.00 0.00 1452.50 433.00\" xmlns=\"http://www.w3.org/2000/svg\" xmlns:xlink=\"http://www.w3.org/1999/xlink\">\n<g id=\"graph0\" class=\"graph\" transform=\"scale(1 1) rotate(0) translate(4 429)\">\n<title>Tree</title>\n<polygon fill=\"#ffffff\" stroke=\"transparent\" points=\"-4,4 -4,-429 1448.5,-429 1448.5,4 -4,4\"/>\n<!-- 0 -->\n<g id=\"node1\" class=\"node\">\n<title>0</title>\n<path fill=\"#ffffff\" stroke=\"#000000\" d=\"M814,-425C814,-425 661,-425 661,-425 655,-425 649,-419 649,-413 649,-413 649,-354 649,-354 649,-348 655,-342 661,-342 661,-342 814,-342 814,-342 820,-342 826,-348 826,-354 826,-354 826,-413 826,-413 826,-419 820,-425 814,-425\"/>\n<text text-anchor=\"start\" x=\"657\" y=\"-409.8\" font-family=\"Helvetica,sans-Serif\" font-size=\"14.00\" fill=\"#000000\">CD8_central_intra ≤ 25.5</text>\n<text text-anchor=\"start\" x=\"708\" y=\"-394.8\" font-family=\"Helvetica,sans-Serif\" font-size=\"14.00\" fill=\"#000000\">gini = 0.5</text>\n<text text-anchor=\"start\" x=\"689.5\" y=\"-379.8\" font-family=\"Helvetica,sans-Serif\" font-size=\"14.00\" fill=\"#000000\">samples = 457</text>\n<text text-anchor=\"start\" x=\"667.5\" y=\"-364.8\" font-family=\"Helvetica,sans-Serif\" font-size=\"14.00\" fill=\"#000000\">value = [228.5, 228.5]</text>\n<text text-anchor=\"start\" x=\"708.5\" y=\"-349.8\" font-family=\"Helvetica,sans-Serif\" font-size=\"14.00\" fill=\"#000000\">class = 1</text>\n</g>\n<!-- 1 -->\n<g id=\"node2\" class=\"node\">\n<title>1</title>\n<path fill=\"#fae4d5\" stroke=\"#000000\" d=\"M637,-306C637,-306 472,-306 472,-306 466,-306 460,-300 460,-294 460,-294 460,-235 460,-235 460,-229 466,-223 472,-223 472,-223 637,-223 637,-223 643,-223 649,-229 649,-235 649,-235 649,-294 649,-294 649,-300 643,-306 637,-306\"/>\n<text text-anchor=\"start\" x=\"477\" y=\"-290.8\" font-family=\"Helvetica,sans-Serif\" font-size=\"14.00\" fill=\"#000000\">Fibrosis_central ≤ 102.5</text>\n<text text-anchor=\"start\" x=\"516.5\" y=\"-275.8\" font-family=\"Helvetica,sans-Serif\" font-size=\"14.00\" fill=\"#000000\">gini = 0.493</text>\n<text text-anchor=\"start\" x=\"506.5\" y=\"-260.8\" font-family=\"Helvetica,sans-Serif\" font-size=\"14.00\" fill=\"#000000\">samples = 326</text>\n<text text-anchor=\"start\" x=\"468\" y=\"-245.8\" font-family=\"Helvetica,sans-Serif\" font-size=\"14.00\" fill=\"#000000\">value = [185.656, 146.585]</text>\n<text text-anchor=\"start\" x=\"525.5\" y=\"-230.8\" font-family=\"Helvetica,sans-Serif\" font-size=\"14.00\" fill=\"#000000\">class = 0</text>\n</g>\n<!-- 0&#45;&gt;1 -->\n<g id=\"edge1\" class=\"edge\">\n<title>0&#45;&gt;1</title>\n<path fill=\"none\" stroke=\"#000000\" d=\"M673.4955,-341.8796C658.4505,-332.0962 642.3121,-321.6019 626.9267,-311.5971\"/>\n<polygon fill=\"#000000\" stroke=\"#000000\" points=\"628.7598,-308.6143 618.4684,-306.0969 624.9437,-314.4827 628.7598,-308.6143\"/>\n<text text-anchor=\"middle\" x=\"623.6513\" y=\"-326.8538\" font-family=\"Helvetica,sans-Serif\" font-size=\"14.00\" fill=\"#000000\">True</text>\n</g>\n<!-- 8 -->\n<g id=\"node9\" class=\"node\">\n<title>8</title>\n<path fill=\"#a1d0f3\" stroke=\"#000000\" d=\"M993,-306C993,-306 840,-306 840,-306 834,-306 828,-300 828,-294 828,-294 828,-235 828,-235 828,-229 834,-223 840,-223 840,-223 993,-223 993,-223 999,-223 1005,-229 1005,-235 1005,-235 1005,-294 1005,-294 1005,-300 999,-306 993,-306\"/>\n<text text-anchor=\"start\" x=\"836\" y=\"-290.8\" font-family=\"Helvetica,sans-Serif\" font-size=\"14.00\" fill=\"#000000\">CD8_central_intra ≤ 33.5</text>\n<text text-anchor=\"start\" x=\"878.5\" y=\"-275.8\" font-family=\"Helvetica,sans-Serif\" font-size=\"14.00\" fill=\"#000000\">gini = 0.451</text>\n<text text-anchor=\"start\" x=\"868.5\" y=\"-260.8\" font-family=\"Helvetica,sans-Serif\" font-size=\"14.00\" fill=\"#000000\">samples = 131</text>\n<text text-anchor=\"start\" x=\"838\" y=\"-245.8\" font-family=\"Helvetica,sans-Serif\" font-size=\"14.00\" fill=\"#000000\">value = [42.844, 81.915]</text>\n<text text-anchor=\"start\" x=\"887.5\" y=\"-230.8\" font-family=\"Helvetica,sans-Serif\" font-size=\"14.00\" fill=\"#000000\">class = 1</text>\n</g>\n<!-- 0&#45;&gt;8 -->\n<g id=\"edge8\" class=\"edge\">\n<title>0&#45;&gt;8</title>\n<path fill=\"none\" stroke=\"#000000\" d=\"M800.1055,-341.8796C814.6854,-332.1868 830.3151,-321.7961 845.2382,-311.8752\"/>\n<polygon fill=\"#000000\" stroke=\"#000000\" points=\"847.5399,-314.5479 853.9298,-306.0969 843.6645,-308.7185 847.5399,-314.5479\"/>\n<text text-anchor=\"middle\" x=\"848.9953\" y=\"-326.9051\" font-family=\"Helvetica,sans-Serif\" font-size=\"14.00\" fill=\"#000000\">False</text>\n</g>\n<!-- 2 -->\n<g id=\"node3\" class=\"node\">\n<title>2</title>\n<path fill=\"#f6d4bb\" stroke=\"#000000\" d=\"M356,-187C356,-187 199,-187 199,-187 193,-187 187,-181 187,-175 187,-175 187,-116 187,-116 187,-110 193,-104 199,-104 199,-104 356,-104 356,-104 362,-104 368,-110 368,-116 368,-116 368,-175 368,-175 368,-181 362,-187 356,-187\"/>\n<text text-anchor=\"start\" x=\"204\" y=\"-171.8\" font-family=\"Helvetica,sans-Serif\" font-size=\"14.00\" fill=\"#000000\">Fibrosis_central ≤ 55.0</text>\n<text text-anchor=\"start\" x=\"239.5\" y=\"-156.8\" font-family=\"Helvetica,sans-Serif\" font-size=\"14.00\" fill=\"#000000\">gini = 0.479</text>\n<text text-anchor=\"start\" x=\"229.5\" y=\"-141.8\" font-family=\"Helvetica,sans-Serif\" font-size=\"14.00\" fill=\"#000000\">samples = 168</text>\n<text text-anchor=\"start\" x=\"195\" y=\"-126.8\" font-family=\"Helvetica,sans-Serif\" font-size=\"14.00\" fill=\"#000000\">value = [104.729, 68.981]</text>\n<text text-anchor=\"start\" x=\"248.5\" y=\"-111.8\" font-family=\"Helvetica,sans-Serif\" font-size=\"14.00\" fill=\"#000000\">class = 0</text>\n</g>\n<!-- 1&#45;&gt;2 -->\n<g id=\"edge2\" class=\"edge\">\n<title>1&#45;&gt;2</title>\n<path fill=\"none\" stroke=\"#000000\" d=\"M459.9471,-223.8798C433.4496,-212.4964 404.558,-200.0845 377.7425,-188.5645\"/>\n<polygon fill=\"#000000\" stroke=\"#000000\" points=\"378.921,-185.2615 368.3515,-184.5301 376.158,-191.6931 378.921,-185.2615\"/>\n</g>\n<!-- 5 -->\n<g id=\"node6\" class=\"node\">\n<title>5</title>\n<path fill=\"#fefaf7\" stroke=\"#000000\" d=\"M629,-187C629,-187 480,-187 480,-187 474,-187 468,-181 468,-175 468,-175 468,-116 468,-116 468,-110 474,-104 480,-104 480,-104 629,-104 629,-104 635,-104 641,-110 641,-116 641,-116 641,-175 641,-175 641,-181 635,-187 629,-187\"/>\n<text text-anchor=\"start\" x=\"478\" y=\"-171.8\" font-family=\"Helvetica,sans-Serif\" font-size=\"14.00\" fill=\"#000000\">CD8_central_intra ≤ 4.5</text>\n<text text-anchor=\"start\" x=\"525\" y=\"-156.8\" font-family=\"Helvetica,sans-Serif\" font-size=\"14.00\" fill=\"#000000\">gini = 0.5</text>\n<text text-anchor=\"start\" x=\"506.5\" y=\"-141.8\" font-family=\"Helvetica,sans-Serif\" font-size=\"14.00\" fill=\"#000000\">samples = 158</text>\n<text text-anchor=\"start\" x=\"476\" y=\"-126.8\" font-family=\"Helvetica,sans-Serif\" font-size=\"14.00\" fill=\"#000000\">value = [80.927, 77.604]</text>\n<text text-anchor=\"start\" x=\"525.5\" y=\"-111.8\" font-family=\"Helvetica,sans-Serif\" font-size=\"14.00\" fill=\"#000000\">class = 0</text>\n</g>\n<!-- 1&#45;&gt;5 -->\n<g id=\"edge5\" class=\"edge\">\n<title>1&#45;&gt;5</title>\n<path fill=\"none\" stroke=\"#000000\" d=\"M554.5,-222.8796C554.5,-214.6838 554.5,-205.9891 554.5,-197.5013\"/>\n<polygon fill=\"#000000\" stroke=\"#000000\" points=\"558.0001,-197.298 554.5,-187.2981 551.0001,-197.2981 558.0001,-197.298\"/>\n</g>\n<!-- 3 -->\n<g id=\"node4\" class=\"node\">\n<title>3</title>\n<path fill=\"#fefbf9\" stroke=\"#000000\" d=\"M161,-68C161,-68 12,-68 12,-68 6,-68 0,-62 0,-56 0,-56 0,-12 0,-12 0,-6 6,0 12,0 12,0 161,0 161,0 167,0 173,-6 173,-12 173,-12 173,-56 173,-56 173,-62 167,-68 161,-68\"/>\n<text text-anchor=\"start\" x=\"57\" y=\"-52.8\" font-family=\"Helvetica,sans-Serif\" font-size=\"14.00\" fill=\"#000000\">gini = 0.5</text>\n<text text-anchor=\"start\" x=\"38.5\" y=\"-37.8\" font-family=\"Helvetica,sans-Serif\" font-size=\"14.00\" fill=\"#000000\">samples = 110</text>\n<text text-anchor=\"start\" x=\"8\" y=\"-22.8\" font-family=\"Helvetica,sans-Serif\" font-size=\"14.00\" fill=\"#000000\">value = [55.935, 54.323]</text>\n<text text-anchor=\"start\" x=\"57.5\" y=\"-7.8\" font-family=\"Helvetica,sans-Serif\" font-size=\"14.00\" fill=\"#000000\">class = 0</text>\n</g>\n<!-- 2&#45;&gt;3 -->\n<g id=\"edge3\" class=\"edge\">\n<title>2&#45;&gt;3</title>\n<path fill=\"none\" stroke=\"#000000\" d=\"M206.3786,-103.9815C189.1277,-93.911 170.7395,-83.1764 153.6773,-73.2161\"/>\n<polygon fill=\"#000000\" stroke=\"#000000\" points=\"155.2895,-70.1045 144.8888,-68.0856 151.7604,-76.1499 155.2895,-70.1045\"/>\n</g>\n<!-- 4 -->\n<g id=\"node5\" class=\"node\">\n<title>4</title>\n<path fill=\"#eda774\" stroke=\"#000000\" d=\"M352,-68C352,-68 203,-68 203,-68 197,-68 191,-62 191,-56 191,-56 191,-12 191,-12 191,-6 197,0 203,0 203,0 352,0 352,0 358,0 364,-6 364,-12 364,-12 364,-56 364,-56 364,-62 358,-68 352,-68\"/>\n<text text-anchor=\"start\" x=\"239.5\" y=\"-52.8\" font-family=\"Helvetica,sans-Serif\" font-size=\"14.00\" fill=\"#000000\">gini = 0.355</text>\n<text text-anchor=\"start\" x=\"233.5\" y=\"-37.8\" font-family=\"Helvetica,sans-Serif\" font-size=\"14.00\" fill=\"#000000\">samples = 58</text>\n<text text-anchor=\"start\" x=\"199\" y=\"-22.8\" font-family=\"Helvetica,sans-Serif\" font-size=\"14.00\" fill=\"#000000\">value = [48.794, 14.658]</text>\n<text text-anchor=\"start\" x=\"248.5\" y=\"-7.8\" font-family=\"Helvetica,sans-Serif\" font-size=\"14.00\" fill=\"#000000\">class = 0</text>\n</g>\n<!-- 2&#45;&gt;4 -->\n<g id=\"edge4\" class=\"edge\">\n<title>2&#45;&gt;4</title>\n<path fill=\"none\" stroke=\"#000000\" d=\"M277.5,-103.9815C277.5,-95.618 277.5,-86.7965 277.5,-78.3409\"/>\n<polygon fill=\"#000000\" stroke=\"#000000\" points=\"281.0001,-78.2636 277.5,-68.2637 274.0001,-78.2637 281.0001,-78.2636\"/>\n</g>\n<!-- 6 -->\n<g id=\"node7\" class=\"node\">\n<title>6</title>\n<path fill=\"#f5fafe\" stroke=\"#000000\" d=\"M543,-68C543,-68 394,-68 394,-68 388,-68 382,-62 382,-56 382,-56 382,-12 382,-12 382,-6 388,0 394,0 394,0 543,0 543,0 549,0 555,-6 555,-12 555,-12 555,-56 555,-56 555,-62 549,-68 543,-68\"/>\n<text text-anchor=\"start\" x=\"439\" y=\"-52.8\" font-family=\"Helvetica,sans-Serif\" font-size=\"14.00\" fill=\"#000000\">gini = 0.5</text>\n<text text-anchor=\"start\" x=\"420.5\" y=\"-37.8\" font-family=\"Helvetica,sans-Serif\" font-size=\"14.00\" fill=\"#000000\">samples = 125</text>\n<text text-anchor=\"start\" x=\"390\" y=\"-22.8\" font-family=\"Helvetica,sans-Serif\" font-size=\"14.00\" fill=\"#000000\">value = [60.695, 63.808]</text>\n<text text-anchor=\"start\" x=\"439.5\" y=\"-7.8\" font-family=\"Helvetica,sans-Serif\" font-size=\"14.00\" fill=\"#000000\">class = 1</text>\n</g>\n<!-- 5&#45;&gt;6 -->\n<g id=\"edge6\" class=\"edge\">\n<title>5&#45;&gt;6</title>\n<path fill=\"none\" stroke=\"#000000\" d=\"M522.4768,-103.9815C515.5298,-94.9747 508.1731,-85.4367 501.2004,-76.3965\"/>\n<polygon fill=\"#000000\" stroke=\"#000000\" points=\"503.8064,-74.0444 494.9276,-68.2637 498.2636,-78.3196 503.8064,-74.0444\"/>\n</g>\n<!-- 7 -->\n<g id=\"node8\" class=\"node\">\n<title>7</title>\n<path fill=\"#f7d7c0\" stroke=\"#000000\" d=\"M734,-68C734,-68 585,-68 585,-68 579,-68 573,-62 573,-56 573,-56 573,-12 573,-12 573,-6 579,0 585,0 585,0 734,0 734,0 740,0 746,-6 746,-12 746,-12 746,-56 746,-56 746,-62 740,-68 734,-68\"/>\n<text text-anchor=\"start\" x=\"621.5\" y=\"-52.8\" font-family=\"Helvetica,sans-Serif\" font-size=\"14.00\" fill=\"#000000\">gini = 0.482</text>\n<text text-anchor=\"start\" x=\"615.5\" y=\"-37.8\" font-family=\"Helvetica,sans-Serif\" font-size=\"14.00\" fill=\"#000000\">samples = 33</text>\n<text text-anchor=\"start\" x=\"581\" y=\"-22.8\" font-family=\"Helvetica,sans-Serif\" font-size=\"14.00\" fill=\"#000000\">value = [20.232, 13.796]</text>\n<text text-anchor=\"start\" x=\"630.5\" y=\"-7.8\" font-family=\"Helvetica,sans-Serif\" font-size=\"14.00\" fill=\"#000000\">class = 0</text>\n</g>\n<!-- 5&#45;&gt;7 -->\n<g id=\"edge7\" class=\"edge\">\n<title>5&#45;&gt;7</title>\n<path fill=\"none\" stroke=\"#000000\" d=\"M593.5981,-103.9815C602.3396,-94.6989 611.6122,-84.8522 620.3556,-75.5677\"/>\n<polygon fill=\"#000000\" stroke=\"#000000\" points=\"622.9261,-77.9433 627.2338,-68.2637 617.83,-73.1443 622.9261,-77.9433\"/>\n</g>\n<!-- 9 -->\n<g id=\"node10\" class=\"node\">\n<title>9</title>\n<path fill=\"#60b0ea\" stroke=\"#000000\" d=\"M986,-187C986,-187 847,-187 847,-187 841,-187 835,-181 835,-175 835,-175 835,-116 835,-116 835,-110 841,-104 847,-104 847,-104 986,-104 986,-104 992,-104 998,-110 998,-116 998,-116 998,-175 998,-175 998,-181 992,-187 986,-187\"/>\n<text text-anchor=\"start\" x=\"843\" y=\"-171.8\" font-family=\"Helvetica,sans-Serif\" font-size=\"14.00\" fill=\"#000000\">Fibrosis_central ≤ 77.5</text>\n<text text-anchor=\"start\" x=\"878.5\" y=\"-156.8\" font-family=\"Helvetica,sans-Serif\" font-size=\"14.00\" fill=\"#000000\">gini = 0.275</text>\n<text text-anchor=\"start\" x=\"872.5\" y=\"-141.8\" font-family=\"Helvetica,sans-Serif\" font-size=\"14.00\" fill=\"#000000\">samples = 24</text>\n<text text-anchor=\"start\" x=\"846.5\" y=\"-126.8\" font-family=\"Helvetica,sans-Serif\" font-size=\"14.00\" fill=\"#000000\">value = [3.57, 18.108]</text>\n<text text-anchor=\"start\" x=\"887.5\" y=\"-111.8\" font-family=\"Helvetica,sans-Serif\" font-size=\"14.00\" fill=\"#000000\">class = 1</text>\n</g>\n<!-- 8&#45;&gt;9 -->\n<g id=\"edge9\" class=\"edge\">\n<title>8&#45;&gt;9</title>\n<path fill=\"none\" stroke=\"#000000\" d=\"M916.5,-222.8796C916.5,-214.6838 916.5,-205.9891 916.5,-197.5013\"/>\n<polygon fill=\"#000000\" stroke=\"#000000\" points=\"920.0001,-197.298 916.5,-187.2981 913.0001,-197.2981 920.0001,-197.298\"/>\n</g>\n<!-- 12 -->\n<g id=\"node13\" class=\"node\">\n<title>12</title>\n<path fill=\"#b3d9f5\" stroke=\"#000000\" d=\"M1260,-187C1260,-187 1107,-187 1107,-187 1101,-187 1095,-181 1095,-175 1095,-175 1095,-116 1095,-116 1095,-110 1101,-104 1107,-104 1107,-104 1260,-104 1260,-104 1266,-104 1272,-110 1272,-116 1272,-116 1272,-175 1272,-175 1272,-181 1266,-187 1260,-187\"/>\n<text text-anchor=\"start\" x=\"1103\" y=\"-171.8\" font-family=\"Helvetica,sans-Serif\" font-size=\"14.00\" fill=\"#000000\">CD8_central_intra ≤ 80.5</text>\n<text text-anchor=\"start\" x=\"1145.5\" y=\"-156.8\" font-family=\"Helvetica,sans-Serif\" font-size=\"14.00\" fill=\"#000000\">gini = 0.472</text>\n<text text-anchor=\"start\" x=\"1135.5\" y=\"-141.8\" font-family=\"Helvetica,sans-Serif\" font-size=\"14.00\" fill=\"#000000\">samples = 107</text>\n<text text-anchor=\"start\" x=\"1105\" y=\"-126.8\" font-family=\"Helvetica,sans-Serif\" font-size=\"14.00\" fill=\"#000000\">value = [39.273, 63.808]</text>\n<text text-anchor=\"start\" x=\"1154.5\" y=\"-111.8\" font-family=\"Helvetica,sans-Serif\" font-size=\"14.00\" fill=\"#000000\">class = 1</text>\n</g>\n<!-- 8&#45;&gt;12 -->\n<g id=\"edge12\" class=\"edge\">\n<title>8&#45;&gt;12</title>\n<path fill=\"none\" stroke=\"#000000\" d=\"M1005.0363,-225.04C1030.8362,-213.5412 1059.173,-200.9117 1085.5193,-189.1693\"/>\n<polygon fill=\"#000000\" stroke=\"#000000\" points=\"1087.0389,-192.324 1094.7479,-185.0562 1084.1892,-185.9303 1087.0389,-192.324\"/>\n</g>\n<!-- 10 -->\n<g id=\"node11\" class=\"node\">\n<title>10</title>\n<path fill=\"#52a9e8\" stroke=\"#000000\" d=\"M900.5,-68C900.5,-68 776.5,-68 776.5,-68 770.5,-68 764.5,-62 764.5,-56 764.5,-56 764.5,-12 764.5,-12 764.5,-6 770.5,0 776.5,0 776.5,0 900.5,0 900.5,0 906.5,0 912.5,-6 912.5,-12 912.5,-12 912.5,-56 912.5,-56 912.5,-62 906.5,-68 900.5,-68\"/>\n<text text-anchor=\"start\" x=\"800.5\" y=\"-52.8\" font-family=\"Helvetica,sans-Serif\" font-size=\"14.00\" fill=\"#000000\">gini = 0.198</text>\n<text text-anchor=\"start\" x=\"794.5\" y=\"-37.8\" font-family=\"Helvetica,sans-Serif\" font-size=\"14.00\" fill=\"#000000\">samples = 12</text>\n<text text-anchor=\"start\" x=\"772.5\" y=\"-22.8\" font-family=\"Helvetica,sans-Serif\" font-size=\"14.00\" fill=\"#000000\">value = [1.19, 9.485]</text>\n<text text-anchor=\"start\" x=\"809.5\" y=\"-7.8\" font-family=\"Helvetica,sans-Serif\" font-size=\"14.00\" fill=\"#000000\">class = 1</text>\n</g>\n<!-- 9&#45;&gt;10 -->\n<g id=\"edge10\" class=\"edge\">\n<title>9&#45;&gt;10</title>\n<path fill=\"none\" stroke=\"#000000\" d=\"M887.4557,-103.9815C881.2192,-95.0666 874.6187,-85.6313 868.3522,-76.6734\"/>\n<polygon fill=\"#000000\" stroke=\"#000000\" points=\"871.0693,-74.4515 862.4692,-68.2637 865.3335,-78.464 871.0693,-74.4515\"/>\n</g>\n<!-- 11 -->\n<g id=\"node12\" class=\"node\">\n<title>11</title>\n<path fill=\"#70b8ec\" stroke=\"#000000\" d=\"M1066.5,-68C1066.5,-68 942.5,-68 942.5,-68 936.5,-68 930.5,-62 930.5,-56 930.5,-56 930.5,-12 930.5,-12 930.5,-6 936.5,0 942.5,0 942.5,0 1066.5,0 1066.5,0 1072.5,0 1078.5,-6 1078.5,-12 1078.5,-12 1078.5,-56 1078.5,-56 1078.5,-62 1072.5,-68 1066.5,-68\"/>\n<text text-anchor=\"start\" x=\"966.5\" y=\"-52.8\" font-family=\"Helvetica,sans-Serif\" font-size=\"14.00\" fill=\"#000000\">gini = 0.339</text>\n<text text-anchor=\"start\" x=\"960.5\" y=\"-37.8\" font-family=\"Helvetica,sans-Serif\" font-size=\"14.00\" fill=\"#000000\">samples = 12</text>\n<text text-anchor=\"start\" x=\"938.5\" y=\"-22.8\" font-family=\"Helvetica,sans-Serif\" font-size=\"14.00\" fill=\"#000000\">value = [2.38, 8.623]</text>\n<text text-anchor=\"start\" x=\"975.5\" y=\"-7.8\" font-family=\"Helvetica,sans-Serif\" font-size=\"14.00\" fill=\"#000000\">class = 1</text>\n</g>\n<!-- 9&#45;&gt;11 -->\n<g id=\"edge11\" class=\"edge\">\n<title>9&#45;&gt;11</title>\n<path fill=\"none\" stroke=\"#000000\" d=\"M949.268,-103.9815C956.449,-94.8828 964.0579,-85.242 971.2574,-76.1199\"/>\n<polygon fill=\"#000000\" stroke=\"#000000\" points=\"974.0099,-78.2818 977.4578,-68.2637 968.5151,-73.9451 974.0099,-78.2818\"/>\n</g>\n<!-- 13 -->\n<g id=\"node14\" class=\"node\">\n<title>13</title>\n<path fill=\"#d8ecfa\" stroke=\"#000000\" d=\"M1258,-68C1258,-68 1109,-68 1109,-68 1103,-68 1097,-62 1097,-56 1097,-56 1097,-12 1097,-12 1097,-6 1103,0 1109,0 1109,0 1258,0 1258,0 1264,0 1270,-6 1270,-12 1270,-12 1270,-56 1270,-56 1270,-62 1264,-68 1258,-68\"/>\n<text text-anchor=\"start\" x=\"1145.5\" y=\"-52.8\" font-family=\"Helvetica,sans-Serif\" font-size=\"14.00\" fill=\"#000000\">gini = 0.494</text>\n<text text-anchor=\"start\" x=\"1139.5\" y=\"-37.8\" font-family=\"Helvetica,sans-Serif\" font-size=\"14.00\" fill=\"#000000\">samples = 68</text>\n<text text-anchor=\"start\" x=\"1105\" y=\"-22.8\" font-family=\"Helvetica,sans-Serif\" font-size=\"14.00\" fill=\"#000000\">value = [29.753, 37.077]</text>\n<text text-anchor=\"start\" x=\"1154.5\" y=\"-7.8\" font-family=\"Helvetica,sans-Serif\" font-size=\"14.00\" fill=\"#000000\">class = 1</text>\n</g>\n<!-- 12&#45;&gt;13 -->\n<g id=\"edge13\" class=\"edge\">\n<title>12&#45;&gt;13</title>\n<path fill=\"none\" stroke=\"#000000\" d=\"M1183.5,-103.9815C1183.5,-95.618 1183.5,-86.7965 1183.5,-78.3409\"/>\n<polygon fill=\"#000000\" stroke=\"#000000\" points=\"1187.0001,-78.2636 1183.5,-68.2637 1180.0001,-78.2637 1187.0001,-78.2636\"/>\n</g>\n<!-- 14 -->\n<g id=\"node15\" class=\"node\">\n<title>14</title>\n<path fill=\"#80c0ee\" stroke=\"#000000\" d=\"M1432.5,-68C1432.5,-68 1300.5,-68 1300.5,-68 1294.5,-68 1288.5,-62 1288.5,-56 1288.5,-56 1288.5,-12 1288.5,-12 1288.5,-6 1294.5,0 1300.5,0 1300.5,0 1432.5,0 1432.5,0 1438.5,0 1444.5,-6 1444.5,-12 1444.5,-12 1444.5,-56 1444.5,-56 1444.5,-62 1438.5,-68 1432.5,-68\"/>\n<text text-anchor=\"start\" x=\"1328.5\" y=\"-52.8\" font-family=\"Helvetica,sans-Serif\" font-size=\"14.00\" fill=\"#000000\">gini = 0.387</text>\n<text text-anchor=\"start\" x=\"1322.5\" y=\"-37.8\" font-family=\"Helvetica,sans-Serif\" font-size=\"14.00\" fill=\"#000000\">samples = 39</text>\n<text text-anchor=\"start\" x=\"1296.5\" y=\"-22.8\" font-family=\"Helvetica,sans-Serif\" font-size=\"14.00\" fill=\"#000000\">value = [9.521, 26.73]</text>\n<text text-anchor=\"start\" x=\"1337.5\" y=\"-7.8\" font-family=\"Helvetica,sans-Serif\" font-size=\"14.00\" fill=\"#000000\">class = 1</text>\n</g>\n<!-- 12&#45;&gt;14 -->\n<g id=\"edge14\" class=\"edge\">\n<title>12&#45;&gt;14</title>\n<path fill=\"none\" stroke=\"#000000\" d=\"M1251.6424,-103.9815C1268.0192,-94.0034 1285.4657,-83.3733 1301.6862,-73.4904\"/>\n<polygon fill=\"#000000\" stroke=\"#000000\" points=\"1303.8382,-76.2778 1310.5568,-68.0856 1300.1959,-70.2999 1303.8382,-76.2778\"/>\n</g>\n</g>\n</svg>\n"
          },
          "metadata": {
            "tags": []
          },
          "execution_count": 28
        }
      ]
    },
    {
      "cell_type": "markdown",
      "metadata": {
        "id": "ZbND4-j-IZqI",
        "colab_type": "text"
      },
      "source": [
        "1. Pred 0\n",
        "- CD8 <= 25.5, Fib <= 102.5, 1(201)\n",
        "- 4.5 < CD8 <= 25.5, 102.5 < Fib, 2(33)\n",
        "\n",
        "2. Pred 1\n",
        "- 25.5 < CD8, 1(131)\n",
        "- CD8 <= 4.5, 102.5 < Fib, 2(125)"
      ]
    },
    {
      "cell_type": "code",
      "metadata": {
        "id": "M_GmpoEZINxd",
        "colab_type": "code",
        "colab": {}
      },
      "source": [
        ""
      ],
      "execution_count": 0,
      "outputs": []
    },
    {
      "cell_type": "code",
      "metadata": {
        "id": "bBLF50F9LsVE",
        "colab_type": "code",
        "colab": {}
      },
      "source": [
        ""
      ],
      "execution_count": 0,
      "outputs": []
    },
    {
      "cell_type": "code",
      "metadata": {
        "id": "LDRzzIjNLsYk",
        "colab_type": "code",
        "outputId": "900d0a08-8a4e-4753-f600-f00409206f43",
        "colab": {
          "base_uri": "https://localhost:8080/",
          "height": 592
        }
      },
      "source": [
        "new_tree1_depth2 = make_works(['CD8_periphery_intra', 'Fibrosis_peripheral'], 2)"
      ],
      "execution_count": 0,
      "outputs": [
        {
          "output_type": "stream",
          "text": [
            "{'AUC': 0.6157036163522012, 'accuracy': 0.5557986870897156, 'precision': 0.691358024691358, 'recall': 0.4226415094339623, 'f1': 0.5245901639344263, 'mcc': 0.1673872590759761}\n",
            "<lifelines.StatisticalResult>\n",
            "               t_0 = -1\n",
            " null_distribution = chi squared\n",
            "degrees_of_freedom = 1\n",
            "\n",
            "---\n",
            " test_statistic      p  -log2(p)\n",
            "          11.73 <0.005     10.66\n",
            "<lifelines.StatisticalResult: (0, 1)>\n",
            "               t_0 = -1\n",
            " null_distribution = chi squared\n",
            "degrees_of_freedom = 1\n",
            "\n",
            "---\n",
            "     test_statistic      p  -log2(p)\n",
            "0 1           11.73 <0.005     10.66\n"
          ],
          "name": "stdout"
        },
        {
          "output_type": "display_data",
          "data": {
            "image/png": "[encoded data removed]",
            "text/plain": [
              "<Figure size 432x288 with 1 Axes>"
            ]
          },
          "metadata": {
            "tags": []
          }
        }
      ]
    },
    {
      "cell_type": "code",
      "metadata": {
        "id": "jXydWKCSLy5L",
        "colab_type": "code",
        "outputId": "28e3e5bc-7316-48ce-b226-bba07b806280",
        "colab": {
          "base_uri": "https://localhost:8080/",
          "height": 439
        }
      },
      "source": [
        "new_tree1_depth2['tree graph']"
      ],
      "execution_count": 0,
      "outputs": [
        {
          "output_type": "execute_result",
          "data": {
            "text/plain": [
              "<graphviz.files.Source at 0x7f0bab5ef630>"
            ],
            "image/svg+xml": "<?xml version=\"1.0\" encoding=\"UTF-8\" standalone=\"no\"?>\n<!DOCTYPE svg PUBLIC \"-//W3C//DTD SVG 1.1//EN\"\n \"http://www.w3.org/Graphics/SVG/1.1/DTD/svg11.dtd\">\n<!-- Generated by graphviz version 2.40.1 (20161225.0304)\n -->\n<!-- Title: Tree Pages: 1 -->\n<svg width=\"761pt\" height=\"314pt\"\n viewBox=\"0.00 0.00 761.00 314.00\" xmlns=\"http://www.w3.org/2000/svg\" xmlns:xlink=\"http://www.w3.org/1999/xlink\">\n<g id=\"graph0\" class=\"graph\" transform=\"scale(1 1) rotate(0) translate(4 310)\">\n<title>Tree</title>\n<polygon fill=\"#ffffff\" stroke=\"transparent\" points=\"-4,4 -4,-310 757,-310 757,4 -4,4\"/>\n<!-- 0 -->\n<g id=\"node1\" class=\"node\">\n<title>0</title>\n<path fill=\"#ffffff\" stroke=\"#000000\" d=\"M461.5,-306C461.5,-306 291.5,-306 291.5,-306 285.5,-306 279.5,-300 279.5,-294 279.5,-294 279.5,-235 279.5,-235 279.5,-229 285.5,-223 291.5,-223 291.5,-223 461.5,-223 461.5,-223 467.5,-223 473.5,-229 473.5,-235 473.5,-235 473.5,-294 473.5,-294 473.5,-300 467.5,-306 461.5,-306\"/>\n<text text-anchor=\"start\" x=\"287.5\" y=\"-290.8\" font-family=\"Helvetica,sans-Serif\" font-size=\"14.00\" fill=\"#000000\">CD8_periphery_intra ≤ 13.5</text>\n<text text-anchor=\"start\" x=\"347\" y=\"-275.8\" font-family=\"Helvetica,sans-Serif\" font-size=\"14.00\" fill=\"#000000\">gini = 0.5</text>\n<text text-anchor=\"start\" x=\"328.5\" y=\"-260.8\" font-family=\"Helvetica,sans-Serif\" font-size=\"14.00\" fill=\"#000000\">samples = 457</text>\n<text text-anchor=\"start\" x=\"306.5\" y=\"-245.8\" font-family=\"Helvetica,sans-Serif\" font-size=\"14.00\" fill=\"#000000\">value = [228.5, 228.5]</text>\n<text text-anchor=\"start\" x=\"347.5\" y=\"-230.8\" font-family=\"Helvetica,sans-Serif\" font-size=\"14.00\" fill=\"#000000\">class = 1</text>\n</g>\n<!-- 1 -->\n<g id=\"node2\" class=\"node\">\n<title>1</title>\n<path fill=\"#f9e3d4\" stroke=\"#000000\" d=\"M357.5,-187C357.5,-187 189.5,-187 189.5,-187 183.5,-187 177.5,-181 177.5,-175 177.5,-175 177.5,-116 177.5,-116 177.5,-110 183.5,-104 189.5,-104 189.5,-104 357.5,-104 357.5,-104 363.5,-104 369.5,-110 369.5,-116 369.5,-116 369.5,-175 369.5,-175 369.5,-181 363.5,-187 357.5,-187\"/>\n<text text-anchor=\"start\" x=\"185.5\" y=\"-171.8\" font-family=\"Helvetica,sans-Serif\" font-size=\"14.00\" fill=\"#000000\">Fibrosis_peripheral ≤ 115.0</text>\n<text text-anchor=\"start\" x=\"235.5\" y=\"-156.8\" font-family=\"Helvetica,sans-Serif\" font-size=\"14.00\" fill=\"#000000\">gini = 0.492</text>\n<text text-anchor=\"start\" x=\"225.5\" y=\"-141.8\" font-family=\"Helvetica,sans-Serif\" font-size=\"14.00\" fill=\"#000000\">samples = 295</text>\n<text text-anchor=\"start\" x=\"187\" y=\"-126.8\" font-family=\"Helvetica,sans-Serif\" font-size=\"14.00\" fill=\"#000000\">value = [168.995, 131.926]</text>\n<text text-anchor=\"start\" x=\"244.5\" y=\"-111.8\" font-family=\"Helvetica,sans-Serif\" font-size=\"14.00\" fill=\"#000000\">class = 0</text>\n</g>\n<!-- 0&#45;&gt;1 -->\n<g id=\"edge1\" class=\"edge\">\n<title>0&#45;&gt;1</title>\n<path fill=\"none\" stroke=\"#000000\" d=\"M340.4756,-222.8796C332.6802,-213.8733 324.3633,-204.2644 316.3356,-194.9897\"/>\n<polygon fill=\"#000000\" stroke=\"#000000\" points=\"318.8691,-192.5686 309.6782,-187.2981 313.5763,-197.1498 318.8691,-192.5686\"/>\n<text text-anchor=\"middle\" x=\"307.881\" y=\"-208.5334\" font-family=\"Helvetica,sans-Serif\" font-size=\"14.00\" fill=\"#000000\">True</text>\n</g>\n<!-- 4 -->\n<g id=\"node5\" class=\"node\">\n<title>4</title>\n<path fill=\"#b3d9f5\" stroke=\"#000000\" d=\"M559.5,-187C559.5,-187 399.5,-187 399.5,-187 393.5,-187 387.5,-181 387.5,-175 387.5,-175 387.5,-116 387.5,-116 387.5,-110 393.5,-104 399.5,-104 399.5,-104 559.5,-104 559.5,-104 565.5,-104 571.5,-110 571.5,-116 571.5,-116 571.5,-175 571.5,-175 571.5,-181 565.5,-187 559.5,-187\"/>\n<text text-anchor=\"start\" x=\"395.5\" y=\"-171.8\" font-family=\"Helvetica,sans-Serif\" font-size=\"14.00\" fill=\"#000000\">Fibrosis_peripheral ≤ 55.0</text>\n<text text-anchor=\"start\" x=\"441.5\" y=\"-156.8\" font-family=\"Helvetica,sans-Serif\" font-size=\"14.00\" fill=\"#000000\">gini = 0.472</text>\n<text text-anchor=\"start\" x=\"431.5\" y=\"-141.8\" font-family=\"Helvetica,sans-Serif\" font-size=\"14.00\" fill=\"#000000\">samples = 162</text>\n<text text-anchor=\"start\" x=\"401\" y=\"-126.8\" font-family=\"Helvetica,sans-Serif\" font-size=\"14.00\" fill=\"#000000\">value = [59.505, 96.574]</text>\n<text text-anchor=\"start\" x=\"450.5\" y=\"-111.8\" font-family=\"Helvetica,sans-Serif\" font-size=\"14.00\" fill=\"#000000\">class = 1</text>\n</g>\n<!-- 0&#45;&gt;4 -->\n<g id=\"edge4\" class=\"edge\">\n<title>0&#45;&gt;4</title>\n<path fill=\"none\" stroke=\"#000000\" d=\"M412.5244,-222.8796C420.3198,-213.8733 428.6367,-204.2644 436.6644,-194.9897\"/>\n<polygon fill=\"#000000\" stroke=\"#000000\" points=\"439.4237,-197.1498 443.3218,-187.2981 434.1309,-192.5686 439.4237,-197.1498\"/>\n<text text-anchor=\"middle\" x=\"445.119\" y=\"-208.5334\" font-family=\"Helvetica,sans-Serif\" font-size=\"14.00\" fill=\"#000000\">False</text>\n</g>\n<!-- 2 -->\n<g id=\"node3\" class=\"node\">\n<title>2</title>\n<path fill=\"#f5d1b7\" stroke=\"#000000\" d=\"M161,-68C161,-68 12,-68 12,-68 6,-68 0,-62 0,-56 0,-56 0,-12 0,-12 0,-6 6,0 12,0 12,0 161,0 161,0 167,0 173,-6 173,-12 173,-12 173,-56 173,-56 173,-62 167,-68 161,-68\"/>\n<text text-anchor=\"start\" x=\"48.5\" y=\"-52.8\" font-family=\"Helvetica,sans-Serif\" font-size=\"14.00\" fill=\"#000000\">gini = 0.475</text>\n<text text-anchor=\"start\" x=\"38.5\" y=\"-37.8\" font-family=\"Helvetica,sans-Serif\" font-size=\"14.00\" fill=\"#000000\">samples = 150</text>\n<text text-anchor=\"start\" x=\"8\" y=\"-22.8\" font-family=\"Helvetica,sans-Serif\" font-size=\"14.00\" fill=\"#000000\">value = [95.208, 60.358]</text>\n<text text-anchor=\"start\" x=\"57.5\" y=\"-7.8\" font-family=\"Helvetica,sans-Serif\" font-size=\"14.00\" fill=\"#000000\">class = 0</text>\n</g>\n<!-- 1&#45;&gt;2 -->\n<g id=\"edge2\" class=\"edge\">\n<title>1&#45;&gt;2</title>\n<path fill=\"none\" stroke=\"#000000\" d=\"M203.8681,-103.9815C186.9785,-93.911 168.9753,-83.1764 152.2705,-73.2161\"/>\n<polygon fill=\"#000000\" stroke=\"#000000\" points=\"154.0476,-70.2008 143.666,-68.0856 150.4627,-76.2132 154.0476,-70.2008\"/>\n</g>\n<!-- 3 -->\n<g id=\"node4\" class=\"node\">\n<title>3</title>\n<path fill=\"#fefbf9\" stroke=\"#000000\" d=\"M352,-68C352,-68 203,-68 203,-68 197,-68 191,-62 191,-56 191,-56 191,-12 191,-12 191,-6 197,0 203,0 203,0 352,0 352,0 358,0 364,-6 364,-12 364,-12 364,-56 364,-56 364,-62 358,-68 352,-68\"/>\n<text text-anchor=\"start\" x=\"248\" y=\"-52.8\" font-family=\"Helvetica,sans-Serif\" font-size=\"14.00\" fill=\"#000000\">gini = 0.5</text>\n<text text-anchor=\"start\" x=\"229.5\" y=\"-37.8\" font-family=\"Helvetica,sans-Serif\" font-size=\"14.00\" fill=\"#000000\">samples = 145</text>\n<text text-anchor=\"start\" x=\"199\" y=\"-22.8\" font-family=\"Helvetica,sans-Serif\" font-size=\"14.00\" fill=\"#000000\">value = [73.786, 71.568]</text>\n<text text-anchor=\"start\" x=\"248.5\" y=\"-7.8\" font-family=\"Helvetica,sans-Serif\" font-size=\"14.00\" fill=\"#000000\">class = 0</text>\n</g>\n<!-- 1&#45;&gt;3 -->\n<g id=\"edge3\" class=\"edge\">\n<title>1&#45;&gt;3</title>\n<path fill=\"none\" stroke=\"#000000\" d=\"M274.9895,-103.9815C275.2895,-95.618 275.606,-86.7965 275.9093,-78.3409\"/>\n<polygon fill=\"#000000\" stroke=\"#000000\" points=\"279.41,-78.3828 276.2708,-68.2637 272.4145,-78.1317 279.41,-78.3828\"/>\n</g>\n<!-- 5 -->\n<g id=\"node6\" class=\"node\">\n<title>5</title>\n<path fill=\"#80c0ee\" stroke=\"#000000\" d=\"M550,-68C550,-68 401,-68 401,-68 395,-68 389,-62 389,-56 389,-56 389,-12 389,-12 389,-6 395,0 401,0 401,0 550,0 550,0 556,0 562,-6 562,-12 562,-12 562,-56 562,-56 562,-62 556,-68 550,-68\"/>\n<text text-anchor=\"start\" x=\"437.5\" y=\"-52.8\" font-family=\"Helvetica,sans-Serif\" font-size=\"14.00\" fill=\"#000000\">gini = 0.388</text>\n<text text-anchor=\"start\" x=\"431.5\" y=\"-37.8\" font-family=\"Helvetica,sans-Serif\" font-size=\"14.00\" fill=\"#000000\">samples = 73</text>\n<text text-anchor=\"start\" x=\"397\" y=\"-22.8\" font-family=\"Helvetica,sans-Serif\" font-size=\"14.00\" fill=\"#000000\">value = [17.852, 50.011]</text>\n<text text-anchor=\"start\" x=\"446.5\" y=\"-7.8\" font-family=\"Helvetica,sans-Serif\" font-size=\"14.00\" fill=\"#000000\">class = 1</text>\n</g>\n<!-- 4&#45;&gt;5 -->\n<g id=\"edge5\" class=\"edge\">\n<title>4&#45;&gt;5</title>\n<path fill=\"none\" stroke=\"#000000\" d=\"M478.0105,-103.9815C477.7105,-95.618 477.394,-86.7965 477.0907,-78.3409\"/>\n<polygon fill=\"#000000\" stroke=\"#000000\" points=\"480.5855,-78.1317 476.7292,-68.2637 473.59,-78.3828 480.5855,-78.1317\"/>\n</g>\n<!-- 6 -->\n<g id=\"node7\" class=\"node\">\n<title>6</title>\n<path fill=\"#eaf5fc\" stroke=\"#000000\" d=\"M741,-68C741,-68 592,-68 592,-68 586,-68 580,-62 580,-56 580,-56 580,-12 580,-12 580,-6 586,0 592,0 592,0 741,0 741,0 747,0 753,-6 753,-12 753,-12 753,-56 753,-56 753,-62 747,-68 741,-68\"/>\n<text text-anchor=\"start\" x=\"628.5\" y=\"-52.8\" font-family=\"Helvetica,sans-Serif\" font-size=\"14.00\" fill=\"#000000\">gini = 0.498</text>\n<text text-anchor=\"start\" x=\"622.5\" y=\"-37.8\" font-family=\"Helvetica,sans-Serif\" font-size=\"14.00\" fill=\"#000000\">samples = 89</text>\n<text text-anchor=\"start\" x=\"588\" y=\"-22.8\" font-family=\"Helvetica,sans-Serif\" font-size=\"14.00\" fill=\"#000000\">value = [41.654, 46.562]</text>\n<text text-anchor=\"start\" x=\"637.5\" y=\"-7.8\" font-family=\"Helvetica,sans-Serif\" font-size=\"14.00\" fill=\"#000000\">class = 1</text>\n</g>\n<!-- 4&#45;&gt;6 -->\n<g id=\"edge6\" class=\"edge\">\n<title>4&#45;&gt;6</title>\n<path fill=\"none\" stroke=\"#000000\" d=\"M549.1319,-103.9815C566.0215,-93.911 584.0247,-83.1764 600.7295,-73.2161\"/>\n<polygon fill=\"#000000\" stroke=\"#000000\" points=\"602.5373,-76.2132 609.334,-68.0856 598.9524,-70.2008 602.5373,-76.2132\"/>\n</g>\n</g>\n</svg>\n"
          },
          "metadata": {
            "tags": []
          },
          "execution_count": 32
        }
      ]
    },
    {
      "cell_type": "code",
      "metadata": {
        "id": "3bOmDKcrMCKD",
        "colab_type": "code",
        "outputId": "a17d4153-022c-4c33-f952-fa676df6390f",
        "colab": {
          "base_uri": "https://localhost:8080/",
          "height": 592
        }
      },
      "source": [
        "new_tree2_depth2 = make_works(['CD8_central_intra', 'Fibrosis_central'], 5)"
      ],
      "execution_count": 0,
      "outputs": [
        {
          "output_type": "stream",
          "text": [
            "{'AUC': 0.7143081761006288, 'accuracy': 0.6673960612691466, 'precision': 0.6982456140350877, 'recall': 0.7509433962264151, 'f1': 0.7236363636363636, 'mcc': 0.30872218303596927}\n",
            "<lifelines.StatisticalResult>\n",
            "               t_0 = -1\n",
            " null_distribution = chi squared\n",
            "degrees_of_freedom = 1\n",
            "\n",
            "---\n",
            " test_statistic      p  -log2(p)\n",
            "          43.74 <0.005     34.63\n",
            "<lifelines.StatisticalResult: (0, 1)>\n",
            "               t_0 = -1\n",
            " null_distribution = chi squared\n",
            "degrees_of_freedom = 1\n",
            "\n",
            "---\n",
            "     test_statistic      p  -log2(p)\n",
            "0 1           43.74 <0.005     34.63\n"
          ],
          "name": "stdout"
        },
        {
          "output_type": "display_data",
          "data": {
            "image/png": "[encoded data removed]",
            "text/plain": [
              "<Figure size 432x288 with 1 Axes>"
            ]
          },
          "metadata": {
            "tags": []
          }
        }
      ]
    },
    {
      "cell_type": "code",
      "metadata": {
        "id": "FmrvV_bvMOS0",
        "colab_type": "code",
        "outputId": "d40108fa-a8e1-4a00-d876-bccdaae490e9",
        "colab": {
          "base_uri": "https://localhost:8080/",
          "height": 797
        }
      },
      "source": [
        "new_tree2_depth2['tree graph']"
      ],
      "execution_count": 0,
      "outputs": [
        {
          "output_type": "execute_result",
          "data": {
            "text/plain": [
              "<graphviz.files.Source at 0x7fdb53d6d748>"
            ],
            "image/svg+xml": "<?xml version=\"1.0\" encoding=\"UTF-8\" standalone=\"no\"?>\n<!DOCTYPE svg PUBLIC \"-//W3C//DTD SVG 1.1//EN\"\n \"http://www.w3.org/Graphics/SVG/1.1/DTD/svg11.dtd\">\n<!-- Generated by graphviz version 2.40.1 (20161225.0304)\n -->\n<!-- Title: Tree Pages: 1 -->\n<svg width=\"2101pt\" height=\"552pt\"\n viewBox=\"0.00 0.00 2101.00 552.00\" xmlns=\"http://www.w3.org/2000/svg\" xmlns:xlink=\"http://www.w3.org/1999/xlink\">\n<g id=\"graph0\" class=\"graph\" transform=\"scale(1 1) rotate(0) translate(4 548)\">\n<title>Tree</title>\n<polygon fill=\"#ffffff\" stroke=\"transparent\" points=\"-4,4 -4,-548 2097,-548 2097,4 -4,4\"/>\n<!-- 0 -->\n<g id=\"node1\" class=\"node\">\n<title>0</title>\n<path fill=\"#ffffff\" stroke=\"#000000\" d=\"M1271.5,-544C1271.5,-544 1118.5,-544 1118.5,-544 1112.5,-544 1106.5,-538 1106.5,-532 1106.5,-532 1106.5,-473 1106.5,-473 1106.5,-467 1112.5,-461 1118.5,-461 1118.5,-461 1271.5,-461 1271.5,-461 1277.5,-461 1283.5,-467 1283.5,-473 1283.5,-473 1283.5,-532 1283.5,-532 1283.5,-538 1277.5,-544 1271.5,-544\"/>\n<text text-anchor=\"start\" x=\"1114.5\" y=\"-528.8\" font-family=\"Helvetica,sans-Serif\" font-size=\"14.00\" fill=\"#000000\">CD8_central_intra ≤ 25.5</text>\n<text text-anchor=\"start\" x=\"1165.5\" y=\"-513.8\" font-family=\"Helvetica,sans-Serif\" font-size=\"14.00\" fill=\"#000000\">gini = 0.5</text>\n<text text-anchor=\"start\" x=\"1134.5\" y=\"-498.8\" font-family=\"Helvetica,sans-Serif\" font-size=\"14.00\" fill=\"#000000\">samples = 100.0%</text>\n<text text-anchor=\"start\" x=\"1141.5\" y=\"-483.8\" font-family=\"Helvetica,sans-Serif\" font-size=\"14.00\" fill=\"#000000\">value = [0.5, 0.5]</text>\n<text text-anchor=\"start\" x=\"1166\" y=\"-468.8\" font-family=\"Helvetica,sans-Serif\" font-size=\"14.00\" fill=\"#000000\">class = 1</text>\n</g>\n<!-- 1 -->\n<g id=\"node2\" class=\"node\">\n<title>1</title>\n<path fill=\"#fae4d5\" stroke=\"#000000\" d=\"M1080.5,-425C1080.5,-425 933.5,-425 933.5,-425 927.5,-425 921.5,-419 921.5,-413 921.5,-413 921.5,-354 921.5,-354 921.5,-348 927.5,-342 933.5,-342 933.5,-342 1080.5,-342 1080.5,-342 1086.5,-342 1092.5,-348 1092.5,-354 1092.5,-354 1092.5,-413 1092.5,-413 1092.5,-419 1086.5,-425 1080.5,-425\"/>\n<text text-anchor=\"start\" x=\"929.5\" y=\"-409.8\" font-family=\"Helvetica,sans-Serif\" font-size=\"14.00\" fill=\"#000000\">Fibrosis_central ≤ 102.5</text>\n<text text-anchor=\"start\" x=\"969\" y=\"-394.8\" font-family=\"Helvetica,sans-Serif\" font-size=\"14.00\" fill=\"#000000\">gini = 0.493</text>\n<text text-anchor=\"start\" x=\"951\" y=\"-379.8\" font-family=\"Helvetica,sans-Serif\" font-size=\"14.00\" fill=\"#000000\">samples = 71.3%</text>\n<text text-anchor=\"start\" x=\"937\" y=\"-364.8\" font-family=\"Helvetica,sans-Serif\" font-size=\"14.00\" fill=\"#000000\">value = [0.559, 0.441]</text>\n<text text-anchor=\"start\" x=\"978\" y=\"-349.8\" font-family=\"Helvetica,sans-Serif\" font-size=\"14.00\" fill=\"#000000\">class = 0</text>\n</g>\n<!-- 0&#45;&gt;1 -->\n<g id=\"edge1\" class=\"edge\">\n<title>0&#45;&gt;1</title>\n<path fill=\"none\" stroke=\"#000000\" d=\"M1129.2467,-460.8796C1113.7906,-451.0962 1097.2113,-440.6019 1081.4055,-430.5971\"/>\n<polygon fill=\"#000000\" stroke=\"#000000\" points=\"1083.0377,-427.488 1072.7162,-425.0969 1079.2938,-433.4027 1083.0377,-427.488\"/>\n<text text-anchor=\"middle\" x=\"1078.1983\" y=\"-445.7884\" font-family=\"Helvetica,sans-Serif\" font-size=\"14.00\" fill=\"#000000\">True</text>\n</g>\n<!-- 16 -->\n<g id=\"node17\" class=\"node\">\n<title>16</title>\n<path fill=\"#a1d0f3\" stroke=\"#000000\" d=\"M1452.5,-425C1452.5,-425 1299.5,-425 1299.5,-425 1293.5,-425 1287.5,-419 1287.5,-413 1287.5,-413 1287.5,-354 1287.5,-354 1287.5,-348 1293.5,-342 1299.5,-342 1299.5,-342 1452.5,-342 1452.5,-342 1458.5,-342 1464.5,-348 1464.5,-354 1464.5,-354 1464.5,-413 1464.5,-413 1464.5,-419 1458.5,-425 1452.5,-425\"/>\n<text text-anchor=\"start\" x=\"1295.5\" y=\"-409.8\" font-family=\"Helvetica,sans-Serif\" font-size=\"14.00\" fill=\"#000000\">CD8_central_intra ≤ 33.5</text>\n<text text-anchor=\"start\" x=\"1338\" y=\"-394.8\" font-family=\"Helvetica,sans-Serif\" font-size=\"14.00\" fill=\"#000000\">gini = 0.451</text>\n<text text-anchor=\"start\" x=\"1320\" y=\"-379.8\" font-family=\"Helvetica,sans-Serif\" font-size=\"14.00\" fill=\"#000000\">samples = 28.7%</text>\n<text text-anchor=\"start\" x=\"1306\" y=\"-364.8\" font-family=\"Helvetica,sans-Serif\" font-size=\"14.00\" fill=\"#000000\">value = [0.343, 0.657]</text>\n<text text-anchor=\"start\" x=\"1347\" y=\"-349.8\" font-family=\"Helvetica,sans-Serif\" font-size=\"14.00\" fill=\"#000000\">class = 1</text>\n</g>\n<!-- 0&#45;&gt;16 -->\n<g id=\"edge16\" class=\"edge\">\n<title>0&#45;&gt;16</title>\n<path fill=\"none\" stroke=\"#000000\" d=\"M1258.305,-460.8796C1273.1856,-451.0962 1289.1476,-440.6019 1304.3649,-430.5971\"/>\n<polygon fill=\"#000000\" stroke=\"#000000\" points=\"1306.2977,-433.5151 1312.7307,-425.0969 1302.4521,-427.666 1306.2977,-433.5151\"/>\n<text text-anchor=\"middle\" x=\"1307.671\" y=\"-445.8796\" font-family=\"Helvetica,sans-Serif\" font-size=\"14.00\" fill=\"#000000\">False</text>\n</g>\n<!-- 2 -->\n<g id=\"node3\" class=\"node\">\n<title>2</title>\n<path fill=\"#f6d4bb\" stroke=\"#000000\" d=\"M586.5,-306C586.5,-306 447.5,-306 447.5,-306 441.5,-306 435.5,-300 435.5,-294 435.5,-294 435.5,-235 435.5,-235 435.5,-229 441.5,-223 447.5,-223 447.5,-223 586.5,-223 586.5,-223 592.5,-223 598.5,-229 598.5,-235 598.5,-235 598.5,-294 598.5,-294 598.5,-300 592.5,-306 586.5,-306\"/>\n<text text-anchor=\"start\" x=\"443.5\" y=\"-290.8\" font-family=\"Helvetica,sans-Serif\" font-size=\"14.00\" fill=\"#000000\">Fibrosis_central ≤ 55.0</text>\n<text text-anchor=\"start\" x=\"479\" y=\"-275.8\" font-family=\"Helvetica,sans-Serif\" font-size=\"14.00\" fill=\"#000000\">gini = 0.479</text>\n<text text-anchor=\"start\" x=\"461\" y=\"-260.8\" font-family=\"Helvetica,sans-Serif\" font-size=\"14.00\" fill=\"#000000\">samples = 36.8%</text>\n<text text-anchor=\"start\" x=\"447\" y=\"-245.8\" font-family=\"Helvetica,sans-Serif\" font-size=\"14.00\" fill=\"#000000\">value = [0.603, 0.397]</text>\n<text text-anchor=\"start\" x=\"488\" y=\"-230.8\" font-family=\"Helvetica,sans-Serif\" font-size=\"14.00\" fill=\"#000000\">class = 0</text>\n</g>\n<!-- 1&#45;&gt;2 -->\n<g id=\"edge2\" class=\"edge\">\n<title>1&#45;&gt;2</title>\n<path fill=\"none\" stroke=\"#000000\" d=\"M921.3683,-362.7037C833.8446,-341.448 698.3872,-308.5512 608.7177,-286.7743\"/>\n<polygon fill=\"#000000\" stroke=\"#000000\" points=\"609.3748,-283.3322 598.8312,-284.3733 607.7227,-290.1345 609.3748,-283.3322\"/>\n</g>\n<!-- 9 -->\n<g id=\"node10\" class=\"node\">\n<title>9</title>\n<path fill=\"#fefaf7\" stroke=\"#000000\" d=\"M1079.5,-306C1079.5,-306 934.5,-306 934.5,-306 928.5,-306 922.5,-300 922.5,-294 922.5,-294 922.5,-235 922.5,-235 922.5,-229 928.5,-223 934.5,-223 934.5,-223 1079.5,-223 1079.5,-223 1085.5,-223 1091.5,-229 1091.5,-235 1091.5,-235 1091.5,-294 1091.5,-294 1091.5,-300 1085.5,-306 1079.5,-306\"/>\n<text text-anchor=\"start\" x=\"930.5\" y=\"-290.8\" font-family=\"Helvetica,sans-Serif\" font-size=\"14.00\" fill=\"#000000\">CD8_central_intra ≤ 4.5</text>\n<text text-anchor=\"start\" x=\"977.5\" y=\"-275.8\" font-family=\"Helvetica,sans-Serif\" font-size=\"14.00\" fill=\"#000000\">gini = 0.5</text>\n<text text-anchor=\"start\" x=\"951\" y=\"-260.8\" font-family=\"Helvetica,sans-Serif\" font-size=\"14.00\" fill=\"#000000\">samples = 34.6%</text>\n<text text-anchor=\"start\" x=\"945\" y=\"-245.8\" font-family=\"Helvetica,sans-Serif\" font-size=\"14.00\" fill=\"#000000\">value = [0.51, 0.49]</text>\n<text text-anchor=\"start\" x=\"978\" y=\"-230.8\" font-family=\"Helvetica,sans-Serif\" font-size=\"14.00\" fill=\"#000000\">class = 0</text>\n</g>\n<!-- 1&#45;&gt;9 -->\n<g id=\"edge9\" class=\"edge\">\n<title>1&#45;&gt;9</title>\n<path fill=\"none\" stroke=\"#000000\" d=\"M1007,-341.8796C1007,-333.6838 1007,-324.9891 1007,-316.5013\"/>\n<polygon fill=\"#000000\" stroke=\"#000000\" points=\"1010.5001,-316.298 1007,-306.2981 1003.5001,-316.2981 1010.5001,-316.298\"/>\n</g>\n<!-- 3 -->\n<g id=\"node4\" class=\"node\">\n<title>3</title>\n<path fill=\"#fefbf9\" stroke=\"#000000\" d=\"M321.5,-187C321.5,-187 182.5,-187 182.5,-187 176.5,-187 170.5,-181 170.5,-175 170.5,-175 170.5,-116 170.5,-116 170.5,-110 176.5,-104 182.5,-104 182.5,-104 321.5,-104 321.5,-104 327.5,-104 333.5,-110 333.5,-116 333.5,-116 333.5,-175 333.5,-175 333.5,-181 327.5,-187 321.5,-187\"/>\n<text text-anchor=\"start\" x=\"178.5\" y=\"-171.8\" font-family=\"Helvetica,sans-Serif\" font-size=\"14.00\" fill=\"#000000\">Fibrosis_central ≤ 12.5</text>\n<text text-anchor=\"start\" x=\"222.5\" y=\"-156.8\" font-family=\"Helvetica,sans-Serif\" font-size=\"14.00\" fill=\"#000000\">gini = 0.5</text>\n<text text-anchor=\"start\" x=\"196\" y=\"-141.8\" font-family=\"Helvetica,sans-Serif\" font-size=\"14.00\" fill=\"#000000\">samples = 24.1%</text>\n<text text-anchor=\"start\" x=\"182\" y=\"-126.8\" font-family=\"Helvetica,sans-Serif\" font-size=\"14.00\" fill=\"#000000\">value = [0.507, 0.493]</text>\n<text text-anchor=\"start\" x=\"223\" y=\"-111.8\" font-family=\"Helvetica,sans-Serif\" font-size=\"14.00\" fill=\"#000000\">class = 0</text>\n</g>\n<!-- 2&#45;&gt;3 -->\n<g id=\"edge3\" class=\"edge\">\n<title>2&#45;&gt;3</title>\n<path fill=\"none\" stroke=\"#000000\" d=\"M435.3289,-227.8251C406.1112,-214.7047 373.0068,-199.8389 343.0468,-186.3852\"/>\n<polygon fill=\"#000000\" stroke=\"#000000\" points=\"344.4138,-183.1624 333.8576,-182.2587 341.5462,-189.5481 344.4138,-183.1624\"/>\n</g>\n<!-- 6 -->\n<g id=\"node7\" class=\"node\">\n<title>6</title>\n<path fill=\"#eda774\" stroke=\"#000000\" d=\"M586.5,-187C586.5,-187 447.5,-187 447.5,-187 441.5,-187 435.5,-181 435.5,-175 435.5,-175 435.5,-116 435.5,-116 435.5,-110 441.5,-104 447.5,-104 447.5,-104 586.5,-104 586.5,-104 592.5,-104 598.5,-110 598.5,-116 598.5,-116 598.5,-175 598.5,-175 598.5,-181 592.5,-187 586.5,-187\"/>\n<text text-anchor=\"start\" x=\"443.5\" y=\"-171.8\" font-family=\"Helvetica,sans-Serif\" font-size=\"14.00\" fill=\"#000000\">Fibrosis_central ≤ 95.0</text>\n<text text-anchor=\"start\" x=\"479\" y=\"-156.8\" font-family=\"Helvetica,sans-Serif\" font-size=\"14.00\" fill=\"#000000\">gini = 0.355</text>\n<text text-anchor=\"start\" x=\"461\" y=\"-141.8\" font-family=\"Helvetica,sans-Serif\" font-size=\"14.00\" fill=\"#000000\">samples = 12.7%</text>\n<text text-anchor=\"start\" x=\"447\" y=\"-126.8\" font-family=\"Helvetica,sans-Serif\" font-size=\"14.00\" fill=\"#000000\">value = [0.769, 0.231]</text>\n<text text-anchor=\"start\" x=\"488\" y=\"-111.8\" font-family=\"Helvetica,sans-Serif\" font-size=\"14.00\" fill=\"#000000\">class = 0</text>\n</g>\n<!-- 2&#45;&gt;6 -->\n<g id=\"edge6\" class=\"edge\">\n<title>2&#45;&gt;6</title>\n<path fill=\"none\" stroke=\"#000000\" d=\"M517,-222.8796C517,-214.6838 517,-205.9891 517,-197.5013\"/>\n<polygon fill=\"#000000\" stroke=\"#000000\" points=\"520.5001,-197.298 517,-187.2981 513.5001,-197.2981 520.5001,-197.298\"/>\n</g>\n<!-- 4 -->\n<g id=\"node5\" class=\"node\">\n<title>4</title>\n<path fill=\"#f2c19d\" stroke=\"#000000\" d=\"M144,-68C144,-68 12,-68 12,-68 6,-68 0,-62 0,-56 0,-56 0,-12 0,-12 0,-6 6,0 12,0 12,0 144,0 144,0 150,0 156,-6 156,-12 156,-12 156,-56 156,-56 156,-62 150,-68 144,-68\"/>\n<text text-anchor=\"start\" x=\"40\" y=\"-52.8\" font-family=\"Helvetica,sans-Serif\" font-size=\"14.00\" fill=\"#000000\">gini = 0.447</text>\n<text text-anchor=\"start\" x=\"26\" y=\"-37.8\" font-family=\"Helvetica,sans-Serif\" font-size=\"14.00\" fill=\"#000000\">samples = 7.4%</text>\n<text text-anchor=\"start\" x=\"8\" y=\"-22.8\" font-family=\"Helvetica,sans-Serif\" font-size=\"14.00\" fill=\"#000000\">value = [0.663, 0.337]</text>\n<text text-anchor=\"start\" x=\"49\" y=\"-7.8\" font-family=\"Helvetica,sans-Serif\" font-size=\"14.00\" fill=\"#000000\">class = 0</text>\n</g>\n<!-- 3&#45;&gt;4 -->\n<g id=\"edge4\" class=\"edge\">\n<title>3&#45;&gt;4</title>\n<path fill=\"none\" stroke=\"#000000\" d=\"M187.2088,-103.9815C171.6375,-94.0034 155.049,-83.3733 139.6263,-73.4904\"/>\n<polygon fill=\"#000000\" stroke=\"#000000\" points=\"141.5,-70.5341 131.1919,-68.0856 137.7232,-76.4279 141.5,-70.5341\"/>\n</g>\n<!-- 5 -->\n<g id=\"node6\" class=\"node\">\n<title>5</title>\n<path fill=\"#d0e8f9\" stroke=\"#000000\" d=\"M318,-68C318,-68 186,-68 186,-68 180,-68 174,-62 174,-56 174,-56 174,-12 174,-12 174,-6 180,0 186,0 186,0 318,0 318,0 324,0 330,-6 330,-12 330,-12 330,-56 330,-56 330,-62 324,-68 318,-68\"/>\n<text text-anchor=\"start\" x=\"214\" y=\"-52.8\" font-family=\"Helvetica,sans-Serif\" font-size=\"14.00\" fill=\"#000000\">gini = 0.491</text>\n<text text-anchor=\"start\" x=\"196\" y=\"-37.8\" font-family=\"Helvetica,sans-Serif\" font-size=\"14.00\" fill=\"#000000\">samples = 16.6%</text>\n<text text-anchor=\"start\" x=\"182\" y=\"-22.8\" font-family=\"Helvetica,sans-Serif\" font-size=\"14.00\" fill=\"#000000\">value = [0.432, 0.568]</text>\n<text text-anchor=\"start\" x=\"223\" y=\"-7.8\" font-family=\"Helvetica,sans-Serif\" font-size=\"14.00\" fill=\"#000000\">class = 1</text>\n</g>\n<!-- 3&#45;&gt;5 -->\n<g id=\"edge5\" class=\"edge\">\n<title>3&#45;&gt;5</title>\n<path fill=\"none\" stroke=\"#000000\" d=\"M252,-103.9815C252,-95.618 252,-86.7965 252,-78.3409\"/>\n<polygon fill=\"#000000\" stroke=\"#000000\" points=\"255.5001,-78.2636 252,-68.2637 248.5001,-78.2637 255.5001,-78.2636\"/>\n</g>\n<!-- 7 -->\n<g id=\"node8\" class=\"node\">\n<title>7</title>\n<path fill=\"#eb9f69\" stroke=\"#000000\" d=\"M492,-68C492,-68 360,-68 360,-68 354,-68 348,-62 348,-56 348,-56 348,-12 348,-12 348,-6 354,0 360,0 360,0 492,0 492,0 498,0 504,-6 504,-12 504,-12 504,-56 504,-56 504,-62 498,-68 492,-68\"/>\n<text text-anchor=\"start\" x=\"388\" y=\"-52.8\" font-family=\"Helvetica,sans-Serif\" font-size=\"14.00\" fill=\"#000000\">gini = 0.313</text>\n<text text-anchor=\"start\" x=\"374\" y=\"-37.8\" font-family=\"Helvetica,sans-Serif\" font-size=\"14.00\" fill=\"#000000\">samples = 8.8%</text>\n<text text-anchor=\"start\" x=\"356\" y=\"-22.8\" font-family=\"Helvetica,sans-Serif\" font-size=\"14.00\" fill=\"#000000\">value = [0.805, 0.195]</text>\n<text text-anchor=\"start\" x=\"397\" y=\"-7.8\" font-family=\"Helvetica,sans-Serif\" font-size=\"14.00\" fill=\"#000000\">class = 0</text>\n</g>\n<!-- 6&#45;&gt;7 -->\n<g id=\"edge7\" class=\"edge\">\n<title>6&#45;&gt;7</title>\n<path fill=\"none\" stroke=\"#000000\" d=\"M483.115,-103.9815C475.6891,-94.8828 467.8208,-85.242 460.3759,-76.1199\"/>\n<polygon fill=\"#000000\" stroke=\"#000000\" points=\"462.9986,-73.798 453.9641,-68.2637 457.5755,-78.224 462.9986,-73.798\"/>\n</g>\n<!-- 8 -->\n<g id=\"node9\" class=\"node\">\n<title>8</title>\n<path fill=\"#f1bb94\" stroke=\"#000000\" d=\"M666,-68C666,-68 534,-68 534,-68 528,-68 522,-62 522,-56 522,-56 522,-12 522,-12 522,-6 528,0 534,0 534,0 666,0 666,0 672,0 678,-6 678,-12 678,-12 678,-56 678,-56 678,-62 672,-68 666,-68\"/>\n<text text-anchor=\"start\" x=\"562\" y=\"-52.8\" font-family=\"Helvetica,sans-Serif\" font-size=\"14.00\" fill=\"#000000\">gini = 0.432</text>\n<text text-anchor=\"start\" x=\"548\" y=\"-37.8\" font-family=\"Helvetica,sans-Serif\" font-size=\"14.00\" fill=\"#000000\">samples = 3.9%</text>\n<text text-anchor=\"start\" x=\"530\" y=\"-22.8\" font-family=\"Helvetica,sans-Serif\" font-size=\"14.00\" fill=\"#000000\">value = [0.684, 0.316]</text>\n<text text-anchor=\"start\" x=\"571\" y=\"-7.8\" font-family=\"Helvetica,sans-Serif\" font-size=\"14.00\" fill=\"#000000\">class = 0</text>\n</g>\n<!-- 6&#45;&gt;8 -->\n<g id=\"edge8\" class=\"edge\">\n<title>6&#45;&gt;8</title>\n<path fill=\"none\" stroke=\"#000000\" d=\"M547.9061,-103.9815C554.6108,-94.9747 561.7108,-85.4367 568.4403,-76.3965\"/>\n<polygon fill=\"#000000\" stroke=\"#000000\" points=\"571.3306,-78.3752 574.4943,-68.2637 565.7155,-74.1953 571.3306,-78.3752\"/>\n</g>\n<!-- 10 -->\n<g id=\"node11\" class=\"node\">\n<title>10</title>\n<path fill=\"#f5fafe\" stroke=\"#000000\" d=\"M987.5,-187C987.5,-187 842.5,-187 842.5,-187 836.5,-187 830.5,-181 830.5,-175 830.5,-175 830.5,-116 830.5,-116 830.5,-110 836.5,-104 842.5,-104 842.5,-104 987.5,-104 987.5,-104 993.5,-104 999.5,-110 999.5,-116 999.5,-116 999.5,-175 999.5,-175 999.5,-181 993.5,-187 987.5,-187\"/>\n<text text-anchor=\"start\" x=\"838.5\" y=\"-171.8\" font-family=\"Helvetica,sans-Serif\" font-size=\"14.00\" fill=\"#000000\">CD8_central_intra ≤ 0.5</text>\n<text text-anchor=\"start\" x=\"885.5\" y=\"-156.8\" font-family=\"Helvetica,sans-Serif\" font-size=\"14.00\" fill=\"#000000\">gini = 0.5</text>\n<text text-anchor=\"start\" x=\"859\" y=\"-141.8\" font-family=\"Helvetica,sans-Serif\" font-size=\"14.00\" fill=\"#000000\">samples = 27.4%</text>\n<text text-anchor=\"start\" x=\"845\" y=\"-126.8\" font-family=\"Helvetica,sans-Serif\" font-size=\"14.00\" fill=\"#000000\">value = [0.488, 0.512]</text>\n<text text-anchor=\"start\" x=\"886\" y=\"-111.8\" font-family=\"Helvetica,sans-Serif\" font-size=\"14.00\" fill=\"#000000\">class = 1</text>\n</g>\n<!-- 9&#45;&gt;10 -->\n<g id=\"edge10\" class=\"edge\">\n<title>9&#45;&gt;10</title>\n<path fill=\"none\" stroke=\"#000000\" d=\"M974.8229,-222.8796C967.9296,-213.9633 960.5798,-204.4565 953.4761,-195.268\"/>\n<polygon fill=\"#000000\" stroke=\"#000000\" points=\"956.1999,-193.0687 947.3145,-187.2981 950.6619,-197.3502 956.1999,-193.0687\"/>\n</g>\n<!-- 13 -->\n<g id=\"node14\" class=\"node\">\n<title>13</title>\n<path fill=\"#f7d7c0\" stroke=\"#000000\" d=\"M1182.5,-187C1182.5,-187 1029.5,-187 1029.5,-187 1023.5,-187 1017.5,-181 1017.5,-175 1017.5,-175 1017.5,-116 1017.5,-116 1017.5,-110 1023.5,-104 1029.5,-104 1029.5,-104 1182.5,-104 1182.5,-104 1188.5,-104 1194.5,-110 1194.5,-116 1194.5,-116 1194.5,-175 1194.5,-175 1194.5,-181 1188.5,-187 1182.5,-187\"/>\n<text text-anchor=\"start\" x=\"1025.5\" y=\"-171.8\" font-family=\"Helvetica,sans-Serif\" font-size=\"14.00\" fill=\"#000000\">CD8_central_intra ≤ 13.5</text>\n<text text-anchor=\"start\" x=\"1068\" y=\"-156.8\" font-family=\"Helvetica,sans-Serif\" font-size=\"14.00\" fill=\"#000000\">gini = 0.482</text>\n<text text-anchor=\"start\" x=\"1054\" y=\"-141.8\" font-family=\"Helvetica,sans-Serif\" font-size=\"14.00\" fill=\"#000000\">samples = 7.2%</text>\n<text text-anchor=\"start\" x=\"1036\" y=\"-126.8\" font-family=\"Helvetica,sans-Serif\" font-size=\"14.00\" fill=\"#000000\">value = [0.595, 0.405]</text>\n<text text-anchor=\"start\" x=\"1077\" y=\"-111.8\" font-family=\"Helvetica,sans-Serif\" font-size=\"14.00\" fill=\"#000000\">class = 0</text>\n</g>\n<!-- 9&#45;&gt;13 -->\n<g id=\"edge13\" class=\"edge\">\n<title>9&#45;&gt;13</title>\n<path fill=\"none\" stroke=\"#000000\" d=\"M1041.6254,-222.8796C1049.118,-213.8733 1057.1119,-204.2644 1064.8279,-194.9897\"/>\n<polygon fill=\"#000000\" stroke=\"#000000\" points=\"1067.5219,-197.224 1071.2268,-187.2981 1062.1407,-192.7472 1067.5219,-197.224\"/>\n</g>\n<!-- 11 -->\n<g id=\"node12\" class=\"node\">\n<title>11</title>\n<path fill=\"#fefaf7\" stroke=\"#000000\" d=\"M824,-68C824,-68 708,-68 708,-68 702,-68 696,-62 696,-56 696,-56 696,-12 696,-12 696,-6 702,0 708,0 708,0 824,0 824,0 830,0 836,-6 836,-12 836,-12 836,-56 836,-56 836,-62 830,-68 824,-68\"/>\n<text text-anchor=\"start\" x=\"736.5\" y=\"-52.8\" font-family=\"Helvetica,sans-Serif\" font-size=\"14.00\" fill=\"#000000\">gini = 0.5</text>\n<text text-anchor=\"start\" x=\"710\" y=\"-37.8\" font-family=\"Helvetica,sans-Serif\" font-size=\"14.00\" fill=\"#000000\">samples = 24.9%</text>\n<text text-anchor=\"start\" x=\"704\" y=\"-22.8\" font-family=\"Helvetica,sans-Serif\" font-size=\"14.00\" fill=\"#000000\">value = [0.51, 0.49]</text>\n<text text-anchor=\"start\" x=\"737\" y=\"-7.8\" font-family=\"Helvetica,sans-Serif\" font-size=\"14.00\" fill=\"#000000\">class = 0</text>\n</g>\n<!-- 10&#45;&gt;11 -->\n<g id=\"edge11\" class=\"edge\">\n<title>10&#45;&gt;11</title>\n<path fill=\"none\" stroke=\"#000000\" d=\"M859.5179,-103.9815C846.6221,-94.3313 832.9116,-84.0714 820.0773,-74.4673\"/>\n<polygon fill=\"#000000\" stroke=\"#000000\" points=\"821.8908,-71.4528 811.7873,-68.2637 817.6968,-77.0574 821.8908,-71.4528\"/>\n</g>\n<!-- 12 -->\n<g id=\"node13\" class=\"node\">\n<title>12</title>\n<path fill=\"#76bbed\" stroke=\"#000000\" d=\"M998,-68C998,-68 866,-68 866,-68 860,-68 854,-62 854,-56 854,-56 854,-12 854,-12 854,-6 860,0 866,0 866,0 998,0 998,0 1004,0 1010,-6 1010,-12 1010,-12 1010,-56 1010,-56 1010,-62 1004,-68 998,-68\"/>\n<text text-anchor=\"start\" x=\"894\" y=\"-52.8\" font-family=\"Helvetica,sans-Serif\" font-size=\"14.00\" fill=\"#000000\">gini = 0.359</text>\n<text text-anchor=\"start\" x=\"880\" y=\"-37.8\" font-family=\"Helvetica,sans-Serif\" font-size=\"14.00\" fill=\"#000000\">samples = 2.4%</text>\n<text text-anchor=\"start\" x=\"862\" y=\"-22.8\" font-family=\"Helvetica,sans-Serif\" font-size=\"14.00\" fill=\"#000000\">value = [0.235, 0.765]</text>\n<text text-anchor=\"start\" x=\"903\" y=\"-7.8\" font-family=\"Helvetica,sans-Serif\" font-size=\"14.00\" fill=\"#000000\">class = 1</text>\n</g>\n<!-- 10&#45;&gt;12 -->\n<g id=\"edge12\" class=\"edge\">\n<title>10&#45;&gt;12</title>\n<path fill=\"none\" stroke=\"#000000\" d=\"M921.3302,-103.9815C922.6053,-95.618 923.9503,-86.7965 925.2395,-78.3409\"/>\n<polygon fill=\"#000000\" stroke=\"#000000\" points=\"928.7286,-78.677 926.7759,-68.2637 921.8086,-77.6219 928.7286,-78.677\"/>\n</g>\n<!-- 14 -->\n<g id=\"node15\" class=\"node\">\n<title>14</title>\n<path fill=\"#eca26d\" stroke=\"#000000\" d=\"M1172,-68C1172,-68 1040,-68 1040,-68 1034,-68 1028,-62 1028,-56 1028,-56 1028,-12 1028,-12 1028,-6 1034,0 1040,0 1040,0 1172,0 1172,0 1178,0 1184,-6 1184,-12 1184,-12 1184,-56 1184,-56 1184,-62 1178,-68 1172,-68\"/>\n<text text-anchor=\"start\" x=\"1072.5\" y=\"-52.8\" font-family=\"Helvetica,sans-Serif\" font-size=\"14.00\" fill=\"#000000\">gini = 0.33</text>\n<text text-anchor=\"start\" x=\"1054\" y=\"-37.8\" font-family=\"Helvetica,sans-Serif\" font-size=\"14.00\" fill=\"#000000\">samples = 3.3%</text>\n<text text-anchor=\"start\" x=\"1036\" y=\"-22.8\" font-family=\"Helvetica,sans-Serif\" font-size=\"14.00\" fill=\"#000000\">value = [0.791, 0.209]</text>\n<text text-anchor=\"start\" x=\"1077\" y=\"-7.8\" font-family=\"Helvetica,sans-Serif\" font-size=\"14.00\" fill=\"#000000\">class = 0</text>\n</g>\n<!-- 13&#45;&gt;14 -->\n<g id=\"edge14\" class=\"edge\">\n<title>13&#45;&gt;14</title>\n<path fill=\"none\" stroke=\"#000000\" d=\"M1106,-103.9815C1106,-95.618 1106,-86.7965 1106,-78.3409\"/>\n<polygon fill=\"#000000\" stroke=\"#000000\" points=\"1109.5001,-78.2636 1106,-68.2637 1102.5001,-78.2637 1109.5001,-78.2636\"/>\n</g>\n<!-- 15 -->\n<g id=\"node16\" class=\"node\">\n<title>15</title>\n<path fill=\"#c2e1f7\" stroke=\"#000000\" d=\"M1346,-68C1346,-68 1214,-68 1214,-68 1208,-68 1202,-62 1202,-56 1202,-56 1202,-12 1202,-12 1202,-6 1208,0 1214,0 1214,0 1346,0 1346,0 1352,0 1358,-6 1358,-12 1358,-12 1358,-56 1358,-56 1358,-62 1352,-68 1346,-68\"/>\n<text text-anchor=\"start\" x=\"1242\" y=\"-52.8\" font-family=\"Helvetica,sans-Serif\" font-size=\"14.00\" fill=\"#000000\">gini = 0.483</text>\n<text text-anchor=\"start\" x=\"1228\" y=\"-37.8\" font-family=\"Helvetica,sans-Serif\" font-size=\"14.00\" fill=\"#000000\">samples = 3.9%</text>\n<text text-anchor=\"start\" x=\"1210\" y=\"-22.8\" font-family=\"Helvetica,sans-Serif\" font-size=\"14.00\" fill=\"#000000\">value = [0.408, 0.592]</text>\n<text text-anchor=\"start\" x=\"1251\" y=\"-7.8\" font-family=\"Helvetica,sans-Serif\" font-size=\"14.00\" fill=\"#000000\">class = 1</text>\n</g>\n<!-- 13&#45;&gt;15 -->\n<g id=\"edge15\" class=\"edge\">\n<title>13&#45;&gt;15</title>\n<path fill=\"none\" stroke=\"#000000\" d=\"M1170.7912,-103.9815C1186.3625,-94.0034 1202.951,-83.3733 1218.3737,-73.4904\"/>\n<polygon fill=\"#000000\" stroke=\"#000000\" points=\"1220.2768,-76.4279 1226.8081,-68.0856 1216.5,-70.5341 1220.2768,-76.4279\"/>\n</g>\n<!-- 17 -->\n<g id=\"node18\" class=\"node\">\n<title>17</title>\n<path fill=\"#60b0ea\" stroke=\"#000000\" d=\"M1445.5,-306C1445.5,-306 1306.5,-306 1306.5,-306 1300.5,-306 1294.5,-300 1294.5,-294 1294.5,-294 1294.5,-235 1294.5,-235 1294.5,-229 1300.5,-223 1306.5,-223 1306.5,-223 1445.5,-223 1445.5,-223 1451.5,-223 1457.5,-229 1457.5,-235 1457.5,-235 1457.5,-294 1457.5,-294 1457.5,-300 1451.5,-306 1445.5,-306\"/>\n<text text-anchor=\"start\" x=\"1302.5\" y=\"-290.8\" font-family=\"Helvetica,sans-Serif\" font-size=\"14.00\" fill=\"#000000\">Fibrosis_central ≤ 77.5</text>\n<text text-anchor=\"start\" x=\"1338\" y=\"-275.8\" font-family=\"Helvetica,sans-Serif\" font-size=\"14.00\" fill=\"#000000\">gini = 0.275</text>\n<text text-anchor=\"start\" x=\"1324\" y=\"-260.8\" font-family=\"Helvetica,sans-Serif\" font-size=\"14.00\" fill=\"#000000\">samples = 5.3%</text>\n<text text-anchor=\"start\" x=\"1306\" y=\"-245.8\" font-family=\"Helvetica,sans-Serif\" font-size=\"14.00\" fill=\"#000000\">value = [0.165, 0.835]</text>\n<text text-anchor=\"start\" x=\"1347\" y=\"-230.8\" font-family=\"Helvetica,sans-Serif\" font-size=\"14.00\" fill=\"#000000\">class = 1</text>\n</g>\n<!-- 16&#45;&gt;17 -->\n<g id=\"edge17\" class=\"edge\">\n<title>16&#45;&gt;17</title>\n<path fill=\"none\" stroke=\"#000000\" d=\"M1376,-341.8796C1376,-333.6838 1376,-324.9891 1376,-316.5013\"/>\n<polygon fill=\"#000000\" stroke=\"#000000\" points=\"1379.5001,-316.298 1376,-306.2981 1372.5001,-316.2981 1379.5001,-316.298\"/>\n</g>\n<!-- 20 -->\n<g id=\"node21\" class=\"node\">\n<title>20</title>\n<path fill=\"#b3d9f5\" stroke=\"#000000\" d=\"M1726.5,-306C1726.5,-306 1573.5,-306 1573.5,-306 1567.5,-306 1561.5,-300 1561.5,-294 1561.5,-294 1561.5,-235 1561.5,-235 1561.5,-229 1567.5,-223 1573.5,-223 1573.5,-223 1726.5,-223 1726.5,-223 1732.5,-223 1738.5,-229 1738.5,-235 1738.5,-235 1738.5,-294 1738.5,-294 1738.5,-300 1732.5,-306 1726.5,-306\"/>\n<text text-anchor=\"start\" x=\"1569.5\" y=\"-290.8\" font-family=\"Helvetica,sans-Serif\" font-size=\"14.00\" fill=\"#000000\">CD8_central_intra ≤ 80.5</text>\n<text text-anchor=\"start\" x=\"1612\" y=\"-275.8\" font-family=\"Helvetica,sans-Serif\" font-size=\"14.00\" fill=\"#000000\">gini = 0.472</text>\n<text text-anchor=\"start\" x=\"1594\" y=\"-260.8\" font-family=\"Helvetica,sans-Serif\" font-size=\"14.00\" fill=\"#000000\">samples = 23.4%</text>\n<text text-anchor=\"start\" x=\"1580\" y=\"-245.8\" font-family=\"Helvetica,sans-Serif\" font-size=\"14.00\" fill=\"#000000\">value = [0.381, 0.619]</text>\n<text text-anchor=\"start\" x=\"1621\" y=\"-230.8\" font-family=\"Helvetica,sans-Serif\" font-size=\"14.00\" fill=\"#000000\">class = 1</text>\n</g>\n<!-- 16&#45;&gt;20 -->\n<g id=\"edge20\" class=\"edge\">\n<title>16&#45;&gt;20</title>\n<path fill=\"none\" stroke=\"#000000\" d=\"M1464.5816,-345.0284C1492.5163,-332.8962 1523.5333,-319.4253 1552.0799,-307.0273\"/>\n<polygon fill=\"#000000\" stroke=\"#000000\" points=\"1553.4764,-310.2367 1561.2544,-303.0428 1550.6878,-303.8161 1553.4764,-310.2367\"/>\n</g>\n<!-- 18 -->\n<g id=\"node19\" class=\"node\">\n<title>18</title>\n<path fill=\"#52a9e8\" stroke=\"#000000\" d=\"M1357,-179.5C1357,-179.5 1225,-179.5 1225,-179.5 1219,-179.5 1213,-173.5 1213,-167.5 1213,-167.5 1213,-123.5 1213,-123.5 1213,-117.5 1219,-111.5 1225,-111.5 1225,-111.5 1357,-111.5 1357,-111.5 1363,-111.5 1369,-117.5 1369,-123.5 1369,-123.5 1369,-167.5 1369,-167.5 1369,-173.5 1363,-179.5 1357,-179.5\"/>\n<text text-anchor=\"start\" x=\"1253\" y=\"-164.3\" font-family=\"Helvetica,sans-Serif\" font-size=\"14.00\" fill=\"#000000\">gini = 0.198</text>\n<text text-anchor=\"start\" x=\"1239\" y=\"-149.3\" font-family=\"Helvetica,sans-Serif\" font-size=\"14.00\" fill=\"#000000\">samples = 2.6%</text>\n<text text-anchor=\"start\" x=\"1221\" y=\"-134.3\" font-family=\"Helvetica,sans-Serif\" font-size=\"14.00\" fill=\"#000000\">value = [0.111, 0.889]</text>\n<text text-anchor=\"start\" x=\"1262\" y=\"-119.3\" font-family=\"Helvetica,sans-Serif\" font-size=\"14.00\" fill=\"#000000\">class = 1</text>\n</g>\n<!-- 17&#45;&gt;18 -->\n<g id=\"edge18\" class=\"edge\">\n<title>17&#45;&gt;18</title>\n<path fill=\"none\" stroke=\"#000000\" d=\"M1346.2711,-222.8796C1338.2597,-211.6636 1329.5808,-199.5131 1321.5266,-188.2372\"/>\n<polygon fill=\"#000000\" stroke=\"#000000\" points=\"1324.1712,-185.9179 1315.5107,-179.8149 1318.475,-189.9866 1324.1712,-185.9179\"/>\n</g>\n<!-- 19 -->\n<g id=\"node20\" class=\"node\">\n<title>19</title>\n<path fill=\"#70b8ec\" stroke=\"#000000\" d=\"M1531,-179.5C1531,-179.5 1399,-179.5 1399,-179.5 1393,-179.5 1387,-173.5 1387,-167.5 1387,-167.5 1387,-123.5 1387,-123.5 1387,-117.5 1393,-111.5 1399,-111.5 1399,-111.5 1531,-111.5 1531,-111.5 1537,-111.5 1543,-117.5 1543,-123.5 1543,-123.5 1543,-167.5 1543,-167.5 1543,-173.5 1537,-179.5 1531,-179.5\"/>\n<text text-anchor=\"start\" x=\"1427\" y=\"-164.3\" font-family=\"Helvetica,sans-Serif\" font-size=\"14.00\" fill=\"#000000\">gini = 0.339</text>\n<text text-anchor=\"start\" x=\"1413\" y=\"-149.3\" font-family=\"Helvetica,sans-Serif\" font-size=\"14.00\" fill=\"#000000\">samples = 2.6%</text>\n<text text-anchor=\"start\" x=\"1395\" y=\"-134.3\" font-family=\"Helvetica,sans-Serif\" font-size=\"14.00\" fill=\"#000000\">value = [0.216, 0.784]</text>\n<text text-anchor=\"start\" x=\"1436\" y=\"-119.3\" font-family=\"Helvetica,sans-Serif\" font-size=\"14.00\" fill=\"#000000\">class = 1</text>\n</g>\n<!-- 17&#45;&gt;19 -->\n<g id=\"edge19\" class=\"edge\">\n<title>17&#45;&gt;19</title>\n<path fill=\"none\" stroke=\"#000000\" d=\"M1407.1279,-222.8796C1415.5986,-211.5536 1424.7819,-199.2748 1433.2847,-187.9058\"/>\n<polygon fill=\"#000000\" stroke=\"#000000\" points=\"1436.1495,-189.9193 1439.3359,-179.8149 1430.5438,-185.7268 1436.1495,-189.9193\"/>\n</g>\n<!-- 21 -->\n<g id=\"node22\" class=\"node\">\n<title>21</title>\n<path fill=\"#d8ecfa\" stroke=\"#000000\" d=\"M1726.5,-187C1726.5,-187 1573.5,-187 1573.5,-187 1567.5,-187 1561.5,-181 1561.5,-175 1561.5,-175 1561.5,-116 1561.5,-116 1561.5,-110 1567.5,-104 1573.5,-104 1573.5,-104 1726.5,-104 1726.5,-104 1732.5,-104 1738.5,-110 1738.5,-116 1738.5,-116 1738.5,-175 1738.5,-175 1738.5,-181 1732.5,-187 1726.5,-187\"/>\n<text text-anchor=\"start\" x=\"1569.5\" y=\"-171.8\" font-family=\"Helvetica,sans-Serif\" font-size=\"14.00\" fill=\"#000000\">CD8_central_intra ≤ 69.5</text>\n<text text-anchor=\"start\" x=\"1612\" y=\"-156.8\" font-family=\"Helvetica,sans-Serif\" font-size=\"14.00\" fill=\"#000000\">gini = 0.494</text>\n<text text-anchor=\"start\" x=\"1594\" y=\"-141.8\" font-family=\"Helvetica,sans-Serif\" font-size=\"14.00\" fill=\"#000000\">samples = 14.9%</text>\n<text text-anchor=\"start\" x=\"1580\" y=\"-126.8\" font-family=\"Helvetica,sans-Serif\" font-size=\"14.00\" fill=\"#000000\">value = [0.445, 0.555]</text>\n<text text-anchor=\"start\" x=\"1621\" y=\"-111.8\" font-family=\"Helvetica,sans-Serif\" font-size=\"14.00\" fill=\"#000000\">class = 1</text>\n</g>\n<!-- 20&#45;&gt;21 -->\n<g id=\"edge21\" class=\"edge\">\n<title>20&#45;&gt;21</title>\n<path fill=\"none\" stroke=\"#000000\" d=\"M1650,-222.8796C1650,-214.6838 1650,-205.9891 1650,-197.5013\"/>\n<polygon fill=\"#000000\" stroke=\"#000000\" points=\"1653.5001,-197.298 1650,-187.2981 1646.5001,-197.2981 1653.5001,-197.298\"/>\n</g>\n<!-- 24 -->\n<g id=\"node25\" class=\"node\">\n<title>24</title>\n<path fill=\"#80c0ee\" stroke=\"#000000\" d=\"M1929.5,-187C1929.5,-187 1768.5,-187 1768.5,-187 1762.5,-187 1756.5,-181 1756.5,-175 1756.5,-175 1756.5,-116 1756.5,-116 1756.5,-110 1762.5,-104 1768.5,-104 1768.5,-104 1929.5,-104 1929.5,-104 1935.5,-104 1941.5,-110 1941.5,-116 1941.5,-116 1941.5,-175 1941.5,-175 1941.5,-181 1935.5,-187 1929.5,-187\"/>\n<text text-anchor=\"start\" x=\"1764.5\" y=\"-171.8\" font-family=\"Helvetica,sans-Serif\" font-size=\"14.00\" fill=\"#000000\">CD8_central_intra ≤ 106.5</text>\n<text text-anchor=\"start\" x=\"1811\" y=\"-156.8\" font-family=\"Helvetica,sans-Serif\" font-size=\"14.00\" fill=\"#000000\">gini = 0.387</text>\n<text text-anchor=\"start\" x=\"1797\" y=\"-141.8\" font-family=\"Helvetica,sans-Serif\" font-size=\"14.00\" fill=\"#000000\">samples = 8.5%</text>\n<text text-anchor=\"start\" x=\"1779\" y=\"-126.8\" font-family=\"Helvetica,sans-Serif\" font-size=\"14.00\" fill=\"#000000\">value = [0.263, 0.737]</text>\n<text text-anchor=\"start\" x=\"1820\" y=\"-111.8\" font-family=\"Helvetica,sans-Serif\" font-size=\"14.00\" fill=\"#000000\">class = 1</text>\n</g>\n<!-- 20&#45;&gt;24 -->\n<g id=\"edge24\" class=\"edge\">\n<title>20&#45;&gt;24</title>\n<path fill=\"none\" stroke=\"#000000\" d=\"M1719.6005,-222.8796C1736.1125,-213.0056 1753.8354,-202.4075 1770.7055,-192.3193\"/>\n<polygon fill=\"#000000\" stroke=\"#000000\" points=\"1772.6525,-195.2331 1779.4388,-187.0969 1769.0599,-189.2253 1772.6525,-195.2331\"/>\n</g>\n<!-- 22 -->\n<g id=\"node23\" class=\"node\">\n<title>22</title>\n<path fill=\"#b2d9f5\" stroke=\"#000000\" d=\"M1559,-68C1559,-68 1443,-68 1443,-68 1437,-68 1431,-62 1431,-56 1431,-56 1431,-12 1431,-12 1431,-6 1437,0 1443,0 1443,0 1559,0 1559,0 1565,0 1571,-6 1571,-12 1571,-12 1571,-56 1571,-56 1571,-62 1565,-68 1559,-68\"/>\n<text text-anchor=\"start\" x=\"1463\" y=\"-52.8\" font-family=\"Helvetica,sans-Serif\" font-size=\"14.00\" fill=\"#000000\">gini = 0.471</text>\n<text text-anchor=\"start\" x=\"1445\" y=\"-37.8\" font-family=\"Helvetica,sans-Serif\" font-size=\"14.00\" fill=\"#000000\">samples = 11.4%</text>\n<text text-anchor=\"start\" x=\"1439\" y=\"-22.8\" font-family=\"Helvetica,sans-Serif\" font-size=\"14.00\" fill=\"#000000\">value = [0.38, 0.62]</text>\n<text text-anchor=\"start\" x=\"1472\" y=\"-7.8\" font-family=\"Helvetica,sans-Serif\" font-size=\"14.00\" fill=\"#000000\">class = 1</text>\n</g>\n<!-- 21&#45;&gt;22 -->\n<g id=\"edge22\" class=\"edge\">\n<title>21&#45;&gt;22</title>\n<path fill=\"none\" stroke=\"#000000\" d=\"M1594.5179,-103.9815C1581.6221,-94.3313 1567.9116,-84.0714 1555.0773,-74.4673\"/>\n<polygon fill=\"#000000\" stroke=\"#000000\" points=\"1556.8908,-71.4528 1546.7873,-68.2637 1552.6968,-77.0574 1556.8908,-71.4528\"/>\n</g>\n<!-- 23 -->\n<g id=\"node24\" class=\"node\">\n<title>23</title>\n<path fill=\"#f4c8a9\" stroke=\"#000000\" d=\"M1717,-68C1717,-68 1601,-68 1601,-68 1595,-68 1589,-62 1589,-56 1589,-56 1589,-12 1589,-12 1589,-6 1595,0 1601,0 1601,0 1717,0 1717,0 1723,0 1729,-6 1729,-12 1729,-12 1729,-56 1729,-56 1729,-62 1723,-68 1717,-68\"/>\n<text text-anchor=\"start\" x=\"1621\" y=\"-52.8\" font-family=\"Helvetica,sans-Serif\" font-size=\"14.00\" fill=\"#000000\">gini = 0.461</text>\n<text text-anchor=\"start\" x=\"1607\" y=\"-37.8\" font-family=\"Helvetica,sans-Serif\" font-size=\"14.00\" fill=\"#000000\">samples = 3.5%</text>\n<text text-anchor=\"start\" x=\"1597\" y=\"-22.8\" font-family=\"Helvetica,sans-Serif\" font-size=\"14.00\" fill=\"#000000\">value = [0.64, 0.36]</text>\n<text text-anchor=\"start\" x=\"1630\" y=\"-7.8\" font-family=\"Helvetica,sans-Serif\" font-size=\"14.00\" fill=\"#000000\">class = 0</text>\n</g>\n<!-- 21&#45;&gt;23 -->\n<g id=\"edge23\" class=\"edge\">\n<title>21&#45;&gt;23</title>\n<path fill=\"none\" stroke=\"#000000\" d=\"M1653.3513,-103.9815C1654.0263,-95.618 1654.7384,-86.7965 1655.4209,-78.3409\"/>\n<polygon fill=\"#000000\" stroke=\"#000000\" points=\"1658.9183,-78.5129 1656.2343,-68.2637 1651.941,-77.9496 1658.9183,-78.5129\"/>\n</g>\n<!-- 25 -->\n<g id=\"node26\" class=\"node\">\n<title>25</title>\n<path fill=\"#62b1ea\" stroke=\"#000000\" d=\"M1907,-68C1907,-68 1775,-68 1775,-68 1769,-68 1763,-62 1763,-56 1763,-56 1763,-12 1763,-12 1763,-6 1769,0 1775,0 1775,0 1907,0 1907,0 1913,0 1919,-6 1919,-12 1919,-12 1919,-56 1919,-56 1919,-62 1913,-68 1907,-68\"/>\n<text text-anchor=\"start\" x=\"1803\" y=\"-52.8\" font-family=\"Helvetica,sans-Serif\" font-size=\"14.00\" fill=\"#000000\">gini = 0.284</text>\n<text text-anchor=\"start\" x=\"1789\" y=\"-37.8\" font-family=\"Helvetica,sans-Serif\" font-size=\"14.00\" fill=\"#000000\">samples = 5.0%</text>\n<text text-anchor=\"start\" x=\"1771\" y=\"-22.8\" font-family=\"Helvetica,sans-Serif\" font-size=\"14.00\" fill=\"#000000\">value = [0.172, 0.828]</text>\n<text text-anchor=\"start\" x=\"1812\" y=\"-7.8\" font-family=\"Helvetica,sans-Serif\" font-size=\"14.00\" fill=\"#000000\">class = 1</text>\n</g>\n<!-- 24&#45;&gt;25 -->\n<g id=\"edge25\" class=\"edge\">\n<title>24&#45;&gt;25</title>\n<path fill=\"none\" stroke=\"#000000\" d=\"M1846.0211,-103.9815C1845.421,-95.618 1844.7881,-86.7965 1844.1814,-78.3409\"/>\n<polygon fill=\"#000000\" stroke=\"#000000\" points=\"1847.6651,-77.9875 1843.4584,-68.2637 1840.6831,-78.4885 1847.6651,-77.9875\"/>\n</g>\n<!-- 26 -->\n<g id=\"node27\" class=\"node\">\n<title>26</title>\n<path fill=\"#b5daf5\" stroke=\"#000000\" d=\"M2081,-68C2081,-68 1949,-68 1949,-68 1943,-68 1937,-62 1937,-56 1937,-56 1937,-12 1937,-12 1937,-6 1943,0 1949,0 1949,0 2081,0 2081,0 2087,0 2093,-6 2093,-12 2093,-12 2093,-56 2093,-56 2093,-62 2087,-68 2081,-68\"/>\n<text text-anchor=\"start\" x=\"1977\" y=\"-52.8\" font-family=\"Helvetica,sans-Serif\" font-size=\"14.00\" fill=\"#000000\">gini = 0.474</text>\n<text text-anchor=\"start\" x=\"1963\" y=\"-37.8\" font-family=\"Helvetica,sans-Serif\" font-size=\"14.00\" fill=\"#000000\">samples = 3.5%</text>\n<text text-anchor=\"start\" x=\"1945\" y=\"-22.8\" font-family=\"Helvetica,sans-Serif\" font-size=\"14.00\" fill=\"#000000\">value = [0.386, 0.614]</text>\n<text text-anchor=\"start\" x=\"1986\" y=\"-7.8\" font-family=\"Helvetica,sans-Serif\" font-size=\"14.00\" fill=\"#000000\">class = 1</text>\n</g>\n<!-- 24&#45;&gt;26 -->\n<g id=\"edge26\" class=\"edge\">\n<title>24&#45;&gt;26</title>\n<path fill=\"none\" stroke=\"#000000\" d=\"M1910.8123,-103.9815C1925.5301,-94.0957 1941.2005,-83.5701 1955.7981,-73.7651\"/>\n<polygon fill=\"#000000\" stroke=\"#000000\" points=\"1957.904,-76.5669 1964.2537,-68.0856 1954.0009,-70.7561 1957.904,-76.5669\"/>\n</g>\n</g>\n</svg>\n"
          },
          "metadata": {
            "tags": []
          },
          "execution_count": 147
        }
      ]
    },
    {
      "cell_type": "code",
      "metadata": {
        "id": "VXJNoY0nMSPR",
        "colab_type": "code",
        "colab": {}
      },
      "source": [
        ""
      ],
      "execution_count": 0,
      "outputs": []
    },
    {
      "cell_type": "code",
      "metadata": {
        "id": "BUOwenx_DwUa",
        "colab_type": "code",
        "colab": {}
      },
      "source": [
        ""
      ],
      "execution_count": 0,
      "outputs": []
    },
    {
      "cell_type": "code",
      "metadata": {
        "id": "MaF41xqNDwkO",
        "colab_type": "code",
        "colab": {}
      },
      "source": [
        ""
      ],
      "execution_count": 0,
      "outputs": []
    },
    {
      "cell_type": "code",
      "metadata": {
        "id": "y7ANm9LQDwTB",
        "colab_type": "code",
        "colab": {}
      },
      "source": [
        ""
      ],
      "execution_count": 0,
      "outputs": []
    },
    {
      "cell_type": "code",
      "metadata": {
        "id": "OKHvSzBsDwRH",
        "colab_type": "code",
        "outputId": "29fe5a74-27fd-4959-ccd8-b58a37eb8a6e",
        "colab": {
          "base_uri": "https://localhost:8080/",
          "height": 617
        }
      },
      "source": [
        "import plotly.express as px\n",
        "\n",
        "df['y'] = list(map(lambda x: str(x), y))\n",
        "fig = px.scatter(df, x=\"CD8_central_intra\", y=\"Fibrosis_central\", color=\"y\")\n",
        "fig.show()"
      ],
      "execution_count": 0,
      "outputs": [
        {
          "output_type": "display_data",
          "data": {
            "text/html": [
              "<html>\n",
              "<head><meta charset=\"utf-8\" /></head>\n",
              "<body>\n",
              "    <div>\n",
              "            <script src=\"https://cdnjs.cloudflare.com/ajax/libs/mathjax/2.7.5/MathJax.js?config=TeX-AMS-MML_SVG\"></script><script type=\"text/javascript\">if (window.MathJax) {MathJax.Hub.Config({SVG: {font: \"STIX-Web\"}});}</script>\n",
              "                <script type=\"text/javascript\">window.PlotlyConfig = {MathJaxConfig: 'local'};</script>\n",
              "        <script src=\"https://cdn.plot.ly/plotly-latest.min.js\"></script>    \n",
              "            <div id=\"0004e2e8-0ec3-40d1-8627-7c10edf3dc4f\" class=\"plotly-graph-div\" style=\"height:600px; width:100%;\"></div>\n",
              "            <script type=\"text/javascript\">\n",
              "                \n",
              "                    window.PLOTLYENV=window.PLOTLYENV || {};\n",
              "                    \n",
              "                if (document.getElementById(\"0004e2e8-0ec3-40d1-8627-7c10edf3dc4f\")) {\n",
              "                    Plotly.newPlot(\n",
              "                        '0004e2e8-0ec3-40d1-8627-7c10edf3dc4f',\n",
              "                        [{\"hoverlabel\": {\"namelength\": 0}, \"hovertemplate\": \"y=1<br>CD8_central_intra=%{x}<br>Fibrosis_central=%{y}\", \"legendgroup\": \"y=1\", \"marker\": {\"color\": \"#636efa\", \"symbol\": \"circle\"}, \"mode\": \"markers\", \"name\": \"y=1\", \"showlegend\": true, \"type\": \"scatter\", \"x\": [31.0, 48.0, 52.0, 98.0, 10.0, 35.0, 77.0, 11.0, 55.0, 20.0, 5.0, 0.0, 22.0, 33.0, 8.0, 0.0, 2.0, 102.0, 0.0, 29.0, 6.0, 8.0, 0.0, 0.0, 0.0, 6.0, 0.0, 39.0, 172.0, 3.0, 88.0, 101.0, 20.0, 2.0, 0.0, 0.0, 142.0, 0.0, 63.0, 0.0, 9.0, 123.0, 0.0, 0.0, 67.0, 2.0, 0.0, 130.0, 0.0, 42.0, 78.0, 65.0, 83.0, 0.0, 3.0, 55.0, 106.0, 0.0, 27.0, 21.0, 0.0, 20.0, 0.0, 52.0, 45.0, 0.0, 0.0, 30.0, 30.0, 78.0, 31.0, 16.0, 0.0, 0.0, 0.0, 44.0, 13.0, 32.0, 22.0, 0.0, 98.0, 1.0, 116.0, 0.0, 28.0, 24.0, 0.0, 98.0, 1.0, 3.0, 0.0, 0.0, 20.0, 52.0, 21.0, 26.0, 7.0, 0.0, 0.0, 4.0, 18.0, 20.0, 0.0, 0.0, 87.0, 31.0, 15.0, 41.0, 99.0, 0.0, 78.0, 37.0, 0.0, 24.0, 0.0, 21.0, 11.0, 49.0, 55.0, 25.0, 8.0, 2.0, 0.0, 53.0, 0.0, 0.0, 30.0, 70.0, 0.0, 12.0, 105.0, 3.0, 15.0, 0.0, 35.0, 0.0, 30.0, 0.0, 0.0, 131.0, 35.0, 32.0, 0.0, 42.0, 4.0, 1.0, 17.0, 0.0, 0.0, 0.0, 78.0, 0.0, 88.0, 52.0, 88.0, 35.0, 124.0, 57.0, 5.0, 36.0, 3.0, 20.0, 0.0, 0.0, 0.0, 61.0, 6.0, 105.0, 41.0, 15.0, 46.0, 14.0, 58.0, 82.0, 0.0, 42.0, 0.0, 0.0, 2.0, 0.0, 0.0, 2.0, 0.0, 23.0, 0.0, 0.0, 17.0, 3.0, 68.0, 180.0, 0.0, 56.0, 0.0, 0.0, 32.0, 0.0, 4.0, 3.0, 1.0, 0.0, 0.0, 0.0, 3.0, 0.0, 0.0, 32.0, 20.0, 0.0, 0.0, 87.0, 68.0, 2.0, 30.0, 15.0, 69.0, 25.0, 27.0, 123.0, 101.0, 0.0, 0.0, 85.0, 110.0, 86.0, 0.0, 0.0, 33.0, 0.0, 0.0, 0.0, 0.0, 0.0, 8.0, 28.0, 0.0, 14.0, 137.0, 82.0, 0.0, 0.0, 0.0, 13.0, 0.0, 45.0, 0.0, 2.0, 9.0, 10.0, 0.0, 0.0, 14.0, 2.0, 11.0, 0.0, 0.0, 9.0, 1.0, 72.0, 26.0, 3.0, 1.0, 0.0, 14.0, 3.0, 1.0], \"xaxis\": \"x\", \"y\": [10.0, 10.0, 10.0, 10.0, 15.0, 60.0, 10.0, 100.0, 110.0, 30.0, 100.0, 120.0, 5.0, 240.0, 15.0, 150.0, 15.0, 10.0, 150.0, 30.0, 15.0, 15.0, 150.0, 150.0, 15.0, 15.0, 50.0, 60.0, 15.0, 20.0, 30.0, 30.0, 5.0, 195.0, 20.0, 150.0, 10.0, 110.0, 30.0, 30.0, 15.0, 150.0, 150.0, 150.0, 150.0, 45.0, 225.0, 20.0, 170.0, 120.0, 70.0, 10.0, 15.0, 180.0, 30.0, 30.0, 210.0, 240.0, 20.0, 5.0, 225.0, 20.0, 270.0, 60.0, 120.0, 240.0, 60.0, 225.0, 240.0, 100.0, 20.0, 10.0, 170.0, 120.0, 180.0, 180.0, 60.0, 285.0, 10.0, 180.0, 90.0, 40.0, 10.0, 150.0, 130.0, 150.0, 10.0, 150.0, 30.0, 30.0, 270.0, 120.0, 180.0, 150.0, 6.0, 30.0, 5.0, 270.0, 20.0, 150.0, 120.0, 30.0, 150.0, 270.0, 120.0, 120.0, 150.0, 270.0, 90.0, 225.0, 10.0, 150.0, 30.0, 15.0, 240.0, 105.0, 150.0, 15.0, 255.0, 240.0, 10.0, 15.0, 30.0, 15.0, 150.0, 15.0, 60.0, 270.0, 10.0, 20.0, 10.0, 60.0, 20.0, 150.0, 10.0, 15.0, 10.0, 90.0, 15.0, 180.0, 20.0, 20.0, 225.0, 60.0, 20.0, 30.0, 150.0, 210.0, 150.0, 270.0, 50.0, 100.0, 255.0, 240.0, 270.0, 150.0, 30.0, 90.0, 60.0, 10.0, 40.0, 100.0, 120.0, 100.0, 50.0, 180.0, 90.0, 10.0, 255.0, 50.0, 240.0, 100.0, 120.0, 20.0, 30.0, 20.0, 3.0, 210.0, 45.0, 5.0, 100.0, 30.0, 30.0, 150.0, 240.0, 50.0, 150.0, 30.0, 15.0, 10.0, 10.0, 15.0, 255.0, 210.0, 165.0, 255.0, 165.0, 30.0, 150.0, 255.0, 180.0, 170.0, 150.0, 270.0, 120.0, 60.0, 40.0, 240.0, 150.0, 40.0, 40.0, 45.0, 270.0, 140.0, 60.0, 20.0, 120.0, 60.0, 150.0, 210.0, 270.0, 60.0, 120.0, 15.0, 120.0, 240.0, 75.0, 240.0, 240.0, 210.0, 240.0, 120.0, 150.0, 90.0, 210.0, 180.0, 180.0, 10.0, 255.0, 180.0, 80.0, 45.0, 150.0, 30.0, 130.0, 240.0, 40.0, 180.0, 240.0, 270.0, 195.0, 70.0, 210.0, 70.0, 240.0, 30.0, 120.0, 10.0, 30.0, 10.0, 150.0, 130.0, 80.0, 135.0, 20.0], \"yaxis\": \"y\"}, {\"hoverlabel\": {\"namelength\": 0}, \"hovertemplate\": \"y=0<br>CD8_central_intra=%{x}<br>Fibrosis_central=%{y}\", \"legendgroup\": \"y=0\", \"marker\": {\"color\": \"#EF553B\", \"symbol\": \"circle\"}, \"mode\": \"markers\", \"name\": \"y=0\", \"showlegend\": true, \"type\": \"scatter\", \"x\": [0.0, 0.0, 0.0, 102.0, 12.0, 42.0, 0.0, 50.0, 0.0, 2.0, 8.0, 56.0, 45.0, 0.0, 73.0, 22.0, 0.0, 57.0, 8.0, 0.0, 0.0, 0.0, 0.0, 0.0, 43.0, 0.0, 5.0, 0.0, 0.0, 5.0, 0.0, 4.0, 0.0, 0.0, 43.0, 0.0, 124.0, 158.0, 62.0, 23.0, 11.0, 25.0, 0.0, 4.0, 0.0, 0.0, 0.0, 17.0, 52.0, 11.0, 2.0, 107.0, 0.0, 25.0, 1.0, 11.0, 0.0, 0.0, 35.0, 0.0, 0.0, 2.0, 78.0, 15.0, 0.0, 0.0, 10.0, 2.0, 43.0, 70.0, 18.0, 0.0, 79.0, 0.0, 0.0, 6.0, 0.0, 0.0, 17.0, 0.0, 23.0, 18.0, 98.0, 0.0, 17.0, 0.0, 0.0, 0.0, 78.0, 0.0, 0.0, 10.0, 0.0, 46.0, 30.0, 10.0, 7.0, 70.0, 34.0, 87.0, 0.0, 14.0, 38.0, 0.0, 22.0, 0.0, 78.0, 0.0, 13.0, 0.0, 11.0, 0.0, 0.0, 0.0, 0.0, 11.0, 77.0, 0.0, 0.0, 23.0, 0.0, 2.0, 32.0, 24.0, 10.0, 6.0, 3.0, 7.0, 0.0, 0.0, 3.0, 0.0, 10.0, 0.0, 0.0, 0.0, 0.0, 118.0, 0.0, 0.0, 0.0, 13.0, 0.0, 6.0, 0.0, 3.0, 0.0, 56.0, 0.0, 0.0, 163.0, 0.0, 0.0, 0.0, 0.0, 0.0, 2.0, 0.0, 0.0, 0.0, 0.0, 16.0, 6.0, 0.0, 0.0, 0.0, 77.0, 8.0, 6.0, 28.0, 0.0, 2.0, 6.0, 2.0, 10.0, 10.0, 0.0, 2.0, 20.0, 5.0, 4.0, 11.0, 0.0, 0.0, 21.0, 7.0, 0.0, 2.0, 3.0, 0.0, 38.0, 21.0], \"xaxis\": \"x\", \"y\": [60.0, 150.0, 0.0, 135.0, 80.0, 10.0, 10.0, 40.0, 210.0, 60.0, 10.0, 10.0, 40.0, 80.0, 10.0, 20.0, 120.0, 150.0, 150.0, 10.0, 120.0, 180.0, 80.0, 150.0, 45.0, 240.0, 150.0, 90.0, 180.0, 60.0, 210.0, 30.0, 15.0, 240.0, 225.0, 120.0, 10.0, 60.0, 160.0, 150.0, 150.0, 210.0, 140.0, 10.0, 150.0, 10.0, 270.0, 195.0, 240.0, 255.0, 90.0, 120.0, 30.0, 80.0, 50.0, 5.0, 50.0, 140.0, 20.0, 120.0, 140.0, 100.0, 10.0, 30.0, 0.0, 10.0, 40.0, 80.0, 5.0, 240.0, 10.0, 30.0, 195.0, 180.0, 5.0, 10.0, 225.0, 195.0, 10.0, 150.0, 195.0, 40.0, 20.0, 80.0, 40.0, 255.0, 210.0, 160.0, 60.0, 180.0, 180.0, 50.0, 60.0, 180.0, 180.0, 60.0, 45.0, 150.0, 120.0, 10.0, 10.0, 225.0, 45.0, 150.0, 100.0, 255.0, 60.0, 5.0, 150.0, 30.0, 150.0, 15.0, 60.0, 180.0, 100.0, 90.0, 80.0, 30.0, 30.0, 100.0, 10.0, 60.0, 15.0, 195.0, 120.0, 150.0, 30.0, 15.0, 240.0, 180.0, 100.0, 10.0, 20.0, 270.0, 100.0, 150.0, 150.0, 30.0, 45.0, 60.0, 10.0, 30.0, 270.0, 150.0, 20.0, 150.0, 270.0, 100.0, 225.0, 100.0, 270.0, 150.0, 150.0, 270.0, 225.0, 10.0, 20.0, 270.0, 180.0, 170.0, 270.0, 80.0, 80.0, 60.0, 90.0, 240.0, 150.0, 100.0, 150.0, 80.0, 255.0, 10.0, 80.0, 20.0, 180.0, 100.0, 90.0, 180.0, 90.0, 60.0, 100.0, 60.0, 35.0, 100.0, 70.0, 75.0, 120.0, 80.0, 75.0, 130.0, 150.0, 15.0], \"yaxis\": \"y\"}],\n",
              "                        {\"height\": 600, \"legend\": {\"tracegroupgap\": 0}, \"margin\": {\"t\": 60}, \"template\": {\"data\": {\"bar\": [{\"error_x\": {\"color\": \"#2a3f5f\"}, \"error_y\": {\"color\": \"#2a3f5f\"}, \"marker\": {\"line\": {\"color\": \"#E5ECF6\", \"width\": 0.5}}, \"type\": \"bar\"}], \"barpolar\": [{\"marker\": {\"line\": {\"color\": \"#E5ECF6\", \"width\": 0.5}}, \"type\": \"barpolar\"}], \"carpet\": [{\"aaxis\": {\"endlinecolor\": \"#2a3f5f\", \"gridcolor\": \"white\", \"linecolor\": \"white\", \"minorgridcolor\": \"white\", \"startlinecolor\": \"#2a3f5f\"}, \"baxis\": {\"endlinecolor\": \"#2a3f5f\", \"gridcolor\": \"white\", \"linecolor\": \"white\", \"minorgridcolor\": \"white\", \"startlinecolor\": \"#2a3f5f\"}, \"type\": \"carpet\"}], \"choropleth\": [{\"colorbar\": {\"outlinewidth\": 0, \"ticks\": \"\"}, \"type\": \"choropleth\"}], \"contour\": [{\"colorbar\": {\"outlinewidth\": 0, \"ticks\": \"\"}, \"colorscale\": [[0.0, \"#0d0887\"], [0.1111111111111111, \"#46039f\"], [0.2222222222222222, \"#7201a8\"], [0.3333333333333333, \"#9c179e\"], [0.4444444444444444, \"#bd3786\"], [0.5555555555555556, \"#d8576b\"], [0.6666666666666666, \"#ed7953\"], [0.7777777777777778, \"#fb9f3a\"], [0.8888888888888888, \"#fdca26\"], [1.0, \"#f0f921\"]], \"type\": \"contour\"}], \"contourcarpet\": [{\"colorbar\": {\"outlinewidth\": 0, \"ticks\": \"\"}, \"type\": \"contourcarpet\"}], \"heatmap\": [{\"colorbar\": {\"outlinewidth\": 0, \"ticks\": \"\"}, \"colorscale\": [[0.0, \"#0d0887\"], [0.1111111111111111, \"#46039f\"], [0.2222222222222222, \"#7201a8\"], [0.3333333333333333, \"#9c179e\"], [0.4444444444444444, \"#bd3786\"], [0.5555555555555556, \"#d8576b\"], [0.6666666666666666, \"#ed7953\"], [0.7777777777777778, \"#fb9f3a\"], [0.8888888888888888, \"#fdca26\"], [1.0, \"#f0f921\"]], \"type\": \"heatmap\"}], \"heatmapgl\": [{\"colorbar\": {\"outlinewidth\": 0, \"ticks\": \"\"}, \"colorscale\": [[0.0, \"#0d0887\"], [0.1111111111111111, \"#46039f\"], [0.2222222222222222, \"#7201a8\"], [0.3333333333333333, \"#9c179e\"], [0.4444444444444444, \"#bd3786\"], [0.5555555555555556, \"#d8576b\"], [0.6666666666666666, \"#ed7953\"], [0.7777777777777778, \"#fb9f3a\"], [0.8888888888888888, \"#fdca26\"], [1.0, \"#f0f921\"]], \"type\": \"heatmapgl\"}], \"histogram\": [{\"marker\": {\"colorbar\": {\"outlinewidth\": 0, \"ticks\": \"\"}}, \"type\": \"histogram\"}], \"histogram2d\": [{\"colorbar\": {\"outlinewidth\": 0, \"ticks\": \"\"}, \"colorscale\": [[0.0, \"#0d0887\"], [0.1111111111111111, \"#46039f\"], [0.2222222222222222, \"#7201a8\"], [0.3333333333333333, \"#9c179e\"], [0.4444444444444444, \"#bd3786\"], [0.5555555555555556, \"#d8576b\"], [0.6666666666666666, \"#ed7953\"], [0.7777777777777778, \"#fb9f3a\"], [0.8888888888888888, \"#fdca26\"], [1.0, \"#f0f921\"]], \"type\": \"histogram2d\"}], \"histogram2dcontour\": [{\"colorbar\": {\"outlinewidth\": 0, \"ticks\": \"\"}, \"colorscale\": [[0.0, \"#0d0887\"], [0.1111111111111111, \"#46039f\"], [0.2222222222222222, \"#7201a8\"], [0.3333333333333333, \"#9c179e\"], [0.4444444444444444, \"#bd3786\"], [0.5555555555555556, \"#d8576b\"], [0.6666666666666666, \"#ed7953\"], [0.7777777777777778, \"#fb9f3a\"], [0.8888888888888888, \"#fdca26\"], [1.0, \"#f0f921\"]], \"type\": \"histogram2dcontour\"}], \"mesh3d\": [{\"colorbar\": {\"outlinewidth\": 0, \"ticks\": \"\"}, \"type\": \"mesh3d\"}], \"parcoords\": [{\"line\": {\"colorbar\": {\"outlinewidth\": 0, \"ticks\": \"\"}}, \"type\": \"parcoords\"}], \"scatter\": [{\"marker\": {\"colorbar\": {\"outlinewidth\": 0, \"ticks\": \"\"}}, \"type\": \"scatter\"}], \"scatter3d\": [{\"line\": {\"colorbar\": {\"outlinewidth\": 0, \"ticks\": \"\"}}, \"marker\": {\"colorbar\": {\"outlinewidth\": 0, \"ticks\": \"\"}}, \"type\": \"scatter3d\"}], \"scattercarpet\": [{\"marker\": {\"colorbar\": {\"outlinewidth\": 0, \"ticks\": \"\"}}, \"type\": \"scattercarpet\"}], \"scattergeo\": [{\"marker\": {\"colorbar\": {\"outlinewidth\": 0, \"ticks\": \"\"}}, \"type\": \"scattergeo\"}], \"scattergl\": [{\"marker\": {\"colorbar\": {\"outlinewidth\": 0, \"ticks\": \"\"}}, \"type\": \"scattergl\"}], \"scattermapbox\": [{\"marker\": {\"colorbar\": {\"outlinewidth\": 0, \"ticks\": \"\"}}, \"type\": \"scattermapbox\"}], \"scatterpolar\": [{\"marker\": {\"colorbar\": {\"outlinewidth\": 0, \"ticks\": \"\"}}, \"type\": \"scatterpolar\"}], \"scatterpolargl\": [{\"marker\": {\"colorbar\": {\"outlinewidth\": 0, \"ticks\": \"\"}}, \"type\": \"scatterpolargl\"}], \"scatterternary\": [{\"marker\": {\"colorbar\": {\"outlinewidth\": 0, \"ticks\": \"\"}}, \"type\": \"scatterternary\"}], \"surface\": [{\"colorbar\": {\"outlinewidth\": 0, \"ticks\": \"\"}, \"colorscale\": [[0.0, \"#0d0887\"], [0.1111111111111111, \"#46039f\"], [0.2222222222222222, \"#7201a8\"], [0.3333333333333333, \"#9c179e\"], [0.4444444444444444, \"#bd3786\"], [0.5555555555555556, \"#d8576b\"], [0.6666666666666666, \"#ed7953\"], [0.7777777777777778, \"#fb9f3a\"], [0.8888888888888888, \"#fdca26\"], [1.0, \"#f0f921\"]], \"type\": \"surface\"}], \"table\": [{\"cells\": {\"fill\": {\"color\": \"#EBF0F8\"}, \"line\": {\"color\": \"white\"}}, \"header\": {\"fill\": {\"color\": \"#C8D4E3\"}, \"line\": {\"color\": \"white\"}}, \"type\": \"table\"}]}, \"layout\": {\"annotationdefaults\": {\"arrowcolor\": \"#2a3f5f\", \"arrowhead\": 0, \"arrowwidth\": 1}, \"colorscale\": {\"diverging\": [[0, \"#8e0152\"], [0.1, \"#c51b7d\"], [0.2, \"#de77ae\"], [0.3, \"#f1b6da\"], [0.4, \"#fde0ef\"], [0.5, \"#f7f7f7\"], [0.6, \"#e6f5d0\"], [0.7, \"#b8e186\"], [0.8, \"#7fbc41\"], [0.9, \"#4d9221\"], [1, \"#276419\"]], \"sequential\": [[0.0, \"#0d0887\"], [0.1111111111111111, \"#46039f\"], [0.2222222222222222, \"#7201a8\"], [0.3333333333333333, \"#9c179e\"], [0.4444444444444444, \"#bd3786\"], [0.5555555555555556, \"#d8576b\"], [0.6666666666666666, \"#ed7953\"], [0.7777777777777778, \"#fb9f3a\"], [0.8888888888888888, \"#fdca26\"], [1.0, \"#f0f921\"]], \"sequentialminus\": [[0.0, \"#0d0887\"], [0.1111111111111111, \"#46039f\"], [0.2222222222222222, \"#7201a8\"], [0.3333333333333333, \"#9c179e\"], [0.4444444444444444, \"#bd3786\"], [0.5555555555555556, \"#d8576b\"], [0.6666666666666666, \"#ed7953\"], [0.7777777777777778, \"#fb9f3a\"], [0.8888888888888888, \"#fdca26\"], [1.0, \"#f0f921\"]]}, \"colorway\": [\"#636efa\", \"#EF553B\", \"#00cc96\", \"#ab63fa\", \"#FFA15A\", \"#19d3f3\", \"#FF6692\", \"#B6E880\", \"#FF97FF\", \"#FECB52\"], \"font\": {\"color\": \"#2a3f5f\"}, \"geo\": {\"bgcolor\": \"white\", \"lakecolor\": \"white\", \"landcolor\": \"#E5ECF6\", \"showlakes\": true, \"showland\": true, \"subunitcolor\": \"white\"}, \"hoverlabel\": {\"align\": \"left\"}, \"hovermode\": \"closest\", \"mapbox\": {\"style\": \"light\"}, \"paper_bgcolor\": \"white\", \"plot_bgcolor\": \"#E5ECF6\", \"polar\": {\"angularaxis\": {\"gridcolor\": \"white\", \"linecolor\": \"white\", \"ticks\": \"\"}, \"bgcolor\": \"#E5ECF6\", \"radialaxis\": {\"gridcolor\": \"white\", \"linecolor\": \"white\", \"ticks\": \"\"}}, \"scene\": {\"xaxis\": {\"backgroundcolor\": \"#E5ECF6\", \"gridcolor\": \"white\", \"gridwidth\": 2, \"linecolor\": \"white\", \"showbackground\": true, \"ticks\": \"\", \"zerolinecolor\": \"white\"}, \"yaxis\": {\"backgroundcolor\": \"#E5ECF6\", \"gridcolor\": \"white\", \"gridwidth\": 2, \"linecolor\": \"white\", \"showbackground\": true, \"ticks\": \"\", \"zerolinecolor\": \"white\"}, \"zaxis\": {\"backgroundcolor\": \"#E5ECF6\", \"gridcolor\": \"white\", \"gridwidth\": 2, \"linecolor\": \"white\", \"showbackground\": true, \"ticks\": \"\", \"zerolinecolor\": \"white\"}}, \"shapedefaults\": {\"line\": {\"color\": \"#2a3f5f\"}}, \"ternary\": {\"aaxis\": {\"gridcolor\": \"white\", \"linecolor\": \"white\", \"ticks\": \"\"}, \"baxis\": {\"gridcolor\": \"white\", \"linecolor\": \"white\", \"ticks\": \"\"}, \"bgcolor\": \"#E5ECF6\", \"caxis\": {\"gridcolor\": \"white\", \"linecolor\": \"white\", \"ticks\": \"\"}}, \"title\": {\"x\": 0.05}, \"xaxis\": {\"automargin\": true, \"gridcolor\": \"white\", \"linecolor\": \"white\", \"ticks\": \"\", \"zerolinecolor\": \"white\", \"zerolinewidth\": 2}, \"yaxis\": {\"automargin\": true, \"gridcolor\": \"white\", \"linecolor\": \"white\", \"ticks\": \"\", \"zerolinecolor\": \"white\", \"zerolinewidth\": 2}}}, \"xaxis\": {\"anchor\": \"y\", \"domain\": [0.0, 0.98], \"title\": {\"text\": \"CD8_central_intra\"}}, \"yaxis\": {\"anchor\": \"x\", \"domain\": [0.0, 1.0], \"title\": {\"text\": \"Fibrosis_central\"}}},\n",
              "                        {\"responsive\": true}\n",
              "                    ).then(function(){\n",
              "                            \n",
              "var gd = document.getElementById('0004e2e8-0ec3-40d1-8627-7c10edf3dc4f');\n",
              "var x = new MutationObserver(function (mutations, observer) {{\n",
              "        var display = window.getComputedStyle(gd).display;\n",
              "        if (!display || display === 'none') {{\n",
              "            console.log([gd, 'removed!']);\n",
              "            Plotly.purge(gd);\n",
              "            observer.disconnect();\n",
              "        }}\n",
              "}});\n",
              "\n",
              "// Listen for the removal of the full notebook cells\n",
              "var notebookContainer = gd.closest('#notebook-container');\n",
              "if (notebookContainer) {{\n",
              "    x.observe(notebookContainer, {childList: true});\n",
              "}}\n",
              "\n",
              "// Listen for the clearing of the current output cell\n",
              "var outputEl = gd.closest('.output');\n",
              "if (outputEl) {{\n",
              "    x.observe(outputEl, {childList: true});\n",
              "}}\n",
              "\n",
              "                        })\n",
              "                };\n",
              "                \n",
              "            </script>\n",
              "        </div>\n",
              "</body>\n",
              "</html>"
            ]
          },
          "metadata": {
            "tags": []
          }
        }
      ]
    },
    {
      "cell_type": "code",
      "metadata": {
        "id": "a0zPCdWlKQVL",
        "colab_type": "code",
        "outputId": "5da96b63-92dc-459b-de9b-1867eaa75697",
        "colab": {
          "base_uri": "https://localhost:8080/",
          "height": 617
        }
      },
      "source": [
        "fig_CD8 = px.histogram(df, x=\"CD8_central_intra\", color=\"y\")\n",
        "fig_CD8.show()"
      ],
      "execution_count": 0,
      "outputs": [
        {
          "output_type": "display_data",
          "data": {
            "text/html": [
              "<html>\n",
              "<head><meta charset=\"utf-8\" /></head>\n",
              "<body>\n",
              "    <div>\n",
              "            <script src=\"https://cdnjs.cloudflare.com/ajax/libs/mathjax/2.7.5/MathJax.js?config=TeX-AMS-MML_SVG\"></script><script type=\"text/javascript\">if (window.MathJax) {MathJax.Hub.Config({SVG: {font: \"STIX-Web\"}});}</script>\n",
              "                <script type=\"text/javascript\">window.PlotlyConfig = {MathJaxConfig: 'local'};</script>\n",
              "        <script src=\"https://cdn.plot.ly/plotly-latest.min.js\"></script>    \n",
              "            <div id=\"a46d78ea-eae1-4c1e-b766-ee28d69f2fbb\" class=\"plotly-graph-div\" style=\"height:600px; width:100%;\"></div>\n",
              "            <script type=\"text/javascript\">\n",
              "                \n",
              "                    window.PLOTLYENV=window.PLOTLYENV || {};\n",
              "                    \n",
              "                if (document.getElementById(\"a46d78ea-eae1-4c1e-b766-ee28d69f2fbb\")) {\n",
              "                    Plotly.newPlot(\n",
              "                        'a46d78ea-eae1-4c1e-b766-ee28d69f2fbb',\n",
              "                        [{\"alignmentgroup\": \"True\", \"bingroup\": \"x\", \"hoverlabel\": {\"namelength\": 0}, \"hovertemplate\": \"y=1<br>CD8_central_intra=%{x}<br>count=%{y}\", \"legendgroup\": \"y=1\", \"marker\": {\"color\": \"#636efa\"}, \"name\": \"y=1\", \"offsetgroup\": \"y=1\", \"orientation\": \"v\", \"showlegend\": true, \"type\": \"histogram\", \"x\": [31.0, 48.0, 52.0, 98.0, 10.0, 35.0, 77.0, 11.0, 55.0, 20.0, 5.0, 0.0, 22.0, 33.0, 8.0, 0.0, 2.0, 102.0, 0.0, 29.0, 6.0, 8.0, 0.0, 0.0, 0.0, 6.0, 0.0, 39.0, 172.0, 3.0, 88.0, 101.0, 20.0, 2.0, 0.0, 0.0, 142.0, 0.0, 63.0, 0.0, 9.0, 123.0, 0.0, 0.0, 67.0, 2.0, 0.0, 130.0, 0.0, 42.0, 78.0, 65.0, 83.0, 0.0, 3.0, 55.0, 106.0, 0.0, 27.0, 21.0, 0.0, 20.0, 0.0, 52.0, 45.0, 0.0, 0.0, 30.0, 30.0, 78.0, 31.0, 16.0, 0.0, 0.0, 0.0, 44.0, 13.0, 32.0, 22.0, 0.0, 98.0, 1.0, 116.0, 0.0, 28.0, 24.0, 0.0, 98.0, 1.0, 3.0, 0.0, 0.0, 20.0, 52.0, 21.0, 26.0, 7.0, 0.0, 0.0, 4.0, 18.0, 20.0, 0.0, 0.0, 87.0, 31.0, 15.0, 41.0, 99.0, 0.0, 78.0, 37.0, 0.0, 24.0, 0.0, 21.0, 11.0, 49.0, 55.0, 25.0, 8.0, 2.0, 0.0, 53.0, 0.0, 0.0, 30.0, 70.0, 0.0, 12.0, 105.0, 3.0, 15.0, 0.0, 35.0, 0.0, 30.0, 0.0, 0.0, 131.0, 35.0, 32.0, 0.0, 42.0, 4.0, 1.0, 17.0, 0.0, 0.0, 0.0, 78.0, 0.0, 88.0, 52.0, 88.0, 35.0, 124.0, 57.0, 5.0, 36.0, 3.0, 20.0, 0.0, 0.0, 0.0, 61.0, 6.0, 105.0, 41.0, 15.0, 46.0, 14.0, 58.0, 82.0, 0.0, 42.0, 0.0, 0.0, 2.0, 0.0, 0.0, 2.0, 0.0, 23.0, 0.0, 0.0, 17.0, 3.0, 68.0, 180.0, 0.0, 56.0, 0.0, 0.0, 32.0, 0.0, 4.0, 3.0, 1.0, 0.0, 0.0, 0.0, 3.0, 0.0, 0.0, 32.0, 20.0, 0.0, 0.0, 87.0, 68.0, 2.0, 30.0, 15.0, 69.0, 25.0, 27.0, 123.0, 101.0, 0.0, 0.0, 85.0, 110.0, 86.0, 0.0, 0.0, 33.0, 0.0, 0.0, 0.0, 0.0, 0.0, 8.0, 28.0, 0.0, 14.0, 137.0, 82.0, 0.0, 0.0, 0.0, 13.0, 0.0, 45.0, 0.0, 2.0, 9.0, 10.0, 0.0, 0.0, 14.0, 2.0, 11.0, 0.0, 0.0, 9.0, 1.0, 72.0, 26.0, 3.0, 1.0, 0.0, 14.0, 3.0, 1.0], \"xaxis\": \"x\", \"yaxis\": \"y\"}, {\"alignmentgroup\": \"True\", \"bingroup\": \"x\", \"hoverlabel\": {\"namelength\": 0}, \"hovertemplate\": \"y=0<br>CD8_central_intra=%{x}<br>count=%{y}\", \"legendgroup\": \"y=0\", \"marker\": {\"color\": \"#EF553B\"}, \"name\": \"y=0\", \"offsetgroup\": \"y=0\", \"orientation\": \"v\", \"showlegend\": true, \"type\": \"histogram\", \"x\": [0.0, 0.0, 0.0, 102.0, 12.0, 42.0, 0.0, 50.0, 0.0, 2.0, 8.0, 56.0, 45.0, 0.0, 73.0, 22.0, 0.0, 57.0, 8.0, 0.0, 0.0, 0.0, 0.0, 0.0, 43.0, 0.0, 5.0, 0.0, 0.0, 5.0, 0.0, 4.0, 0.0, 0.0, 43.0, 0.0, 124.0, 158.0, 62.0, 23.0, 11.0, 25.0, 0.0, 4.0, 0.0, 0.0, 0.0, 17.0, 52.0, 11.0, 2.0, 107.0, 0.0, 25.0, 1.0, 11.0, 0.0, 0.0, 35.0, 0.0, 0.0, 2.0, 78.0, 15.0, 0.0, 0.0, 10.0, 2.0, 43.0, 70.0, 18.0, 0.0, 79.0, 0.0, 0.0, 6.0, 0.0, 0.0, 17.0, 0.0, 23.0, 18.0, 98.0, 0.0, 17.0, 0.0, 0.0, 0.0, 78.0, 0.0, 0.0, 10.0, 0.0, 46.0, 30.0, 10.0, 7.0, 70.0, 34.0, 87.0, 0.0, 14.0, 38.0, 0.0, 22.0, 0.0, 78.0, 0.0, 13.0, 0.0, 11.0, 0.0, 0.0, 0.0, 0.0, 11.0, 77.0, 0.0, 0.0, 23.0, 0.0, 2.0, 32.0, 24.0, 10.0, 6.0, 3.0, 7.0, 0.0, 0.0, 3.0, 0.0, 10.0, 0.0, 0.0, 0.0, 0.0, 118.0, 0.0, 0.0, 0.0, 13.0, 0.0, 6.0, 0.0, 3.0, 0.0, 56.0, 0.0, 0.0, 163.0, 0.0, 0.0, 0.0, 0.0, 0.0, 2.0, 0.0, 0.0, 0.0, 0.0, 16.0, 6.0, 0.0, 0.0, 0.0, 77.0, 8.0, 6.0, 28.0, 0.0, 2.0, 6.0, 2.0, 10.0, 10.0, 0.0, 2.0, 20.0, 5.0, 4.0, 11.0, 0.0, 0.0, 21.0, 7.0, 0.0, 2.0, 3.0, 0.0, 38.0, 21.0], \"xaxis\": \"x\", \"yaxis\": \"y\"}],\n",
              "                        {\"barmode\": \"relative\", \"height\": 600, \"legend\": {\"tracegroupgap\": 0}, \"margin\": {\"t\": 60}, \"template\": {\"data\": {\"bar\": [{\"error_x\": {\"color\": \"#2a3f5f\"}, \"error_y\": {\"color\": \"#2a3f5f\"}, \"marker\": {\"line\": {\"color\": \"#E5ECF6\", \"width\": 0.5}}, \"type\": \"bar\"}], \"barpolar\": [{\"marker\": {\"line\": {\"color\": \"#E5ECF6\", \"width\": 0.5}}, \"type\": \"barpolar\"}], \"carpet\": [{\"aaxis\": {\"endlinecolor\": \"#2a3f5f\", \"gridcolor\": \"white\", \"linecolor\": \"white\", \"minorgridcolor\": \"white\", \"startlinecolor\": \"#2a3f5f\"}, \"baxis\": {\"endlinecolor\": \"#2a3f5f\", \"gridcolor\": \"white\", \"linecolor\": \"white\", \"minorgridcolor\": \"white\", \"startlinecolor\": \"#2a3f5f\"}, \"type\": \"carpet\"}], \"choropleth\": [{\"colorbar\": {\"outlinewidth\": 0, \"ticks\": \"\"}, \"type\": \"choropleth\"}], \"contour\": [{\"colorbar\": {\"outlinewidth\": 0, \"ticks\": \"\"}, \"colorscale\": [[0.0, \"#0d0887\"], [0.1111111111111111, \"#46039f\"], [0.2222222222222222, \"#7201a8\"], [0.3333333333333333, \"#9c179e\"], [0.4444444444444444, \"#bd3786\"], [0.5555555555555556, \"#d8576b\"], [0.6666666666666666, \"#ed7953\"], [0.7777777777777778, \"#fb9f3a\"], [0.8888888888888888, \"#fdca26\"], [1.0, \"#f0f921\"]], \"type\": \"contour\"}], \"contourcarpet\": [{\"colorbar\": {\"outlinewidth\": 0, \"ticks\": \"\"}, \"type\": \"contourcarpet\"}], \"heatmap\": [{\"colorbar\": {\"outlinewidth\": 0, \"ticks\": \"\"}, \"colorscale\": [[0.0, \"#0d0887\"], [0.1111111111111111, \"#46039f\"], [0.2222222222222222, \"#7201a8\"], [0.3333333333333333, \"#9c179e\"], [0.4444444444444444, \"#bd3786\"], [0.5555555555555556, \"#d8576b\"], [0.6666666666666666, \"#ed7953\"], [0.7777777777777778, \"#fb9f3a\"], [0.8888888888888888, \"#fdca26\"], [1.0, \"#f0f921\"]], \"type\": \"heatmap\"}], \"heatmapgl\": [{\"colorbar\": {\"outlinewidth\": 0, \"ticks\": \"\"}, \"colorscale\": [[0.0, \"#0d0887\"], [0.1111111111111111, \"#46039f\"], [0.2222222222222222, \"#7201a8\"], [0.3333333333333333, \"#9c179e\"], [0.4444444444444444, \"#bd3786\"], [0.5555555555555556, \"#d8576b\"], [0.6666666666666666, \"#ed7953\"], [0.7777777777777778, \"#fb9f3a\"], [0.8888888888888888, \"#fdca26\"], [1.0, \"#f0f921\"]], \"type\": \"heatmapgl\"}], \"histogram\": [{\"marker\": {\"colorbar\": {\"outlinewidth\": 0, \"ticks\": \"\"}}, \"type\": \"histogram\"}], \"histogram2d\": [{\"colorbar\": {\"outlinewidth\": 0, \"ticks\": \"\"}, \"colorscale\": [[0.0, \"#0d0887\"], [0.1111111111111111, \"#46039f\"], [0.2222222222222222, \"#7201a8\"], [0.3333333333333333, \"#9c179e\"], [0.4444444444444444, \"#bd3786\"], [0.5555555555555556, \"#d8576b\"], [0.6666666666666666, \"#ed7953\"], [0.7777777777777778, \"#fb9f3a\"], [0.8888888888888888, \"#fdca26\"], [1.0, \"#f0f921\"]], \"type\": \"histogram2d\"}], \"histogram2dcontour\": [{\"colorbar\": {\"outlinewidth\": 0, \"ticks\": \"\"}, \"colorscale\": [[0.0, \"#0d0887\"], [0.1111111111111111, \"#46039f\"], [0.2222222222222222, \"#7201a8\"], [0.3333333333333333, \"#9c179e\"], [0.4444444444444444, \"#bd3786\"], [0.5555555555555556, \"#d8576b\"], [0.6666666666666666, \"#ed7953\"], [0.7777777777777778, \"#fb9f3a\"], [0.8888888888888888, \"#fdca26\"], [1.0, \"#f0f921\"]], \"type\": \"histogram2dcontour\"}], \"mesh3d\": [{\"colorbar\": {\"outlinewidth\": 0, \"ticks\": \"\"}, \"type\": \"mesh3d\"}], \"parcoords\": [{\"line\": {\"colorbar\": {\"outlinewidth\": 0, \"ticks\": \"\"}}, \"type\": \"parcoords\"}], \"scatter\": [{\"marker\": {\"colorbar\": {\"outlinewidth\": 0, \"ticks\": \"\"}}, \"type\": \"scatter\"}], \"scatter3d\": [{\"line\": {\"colorbar\": {\"outlinewidth\": 0, \"ticks\": \"\"}}, \"marker\": {\"colorbar\": {\"outlinewidth\": 0, \"ticks\": \"\"}}, \"type\": \"scatter3d\"}], \"scattercarpet\": [{\"marker\": {\"colorbar\": {\"outlinewidth\": 0, \"ticks\": \"\"}}, \"type\": \"scattercarpet\"}], \"scattergeo\": [{\"marker\": {\"colorbar\": {\"outlinewidth\": 0, \"ticks\": \"\"}}, \"type\": \"scattergeo\"}], \"scattergl\": [{\"marker\": {\"colorbar\": {\"outlinewidth\": 0, \"ticks\": \"\"}}, \"type\": \"scattergl\"}], \"scattermapbox\": [{\"marker\": {\"colorbar\": {\"outlinewidth\": 0, \"ticks\": \"\"}}, \"type\": \"scattermapbox\"}], \"scatterpolar\": [{\"marker\": {\"colorbar\": {\"outlinewidth\": 0, \"ticks\": \"\"}}, \"type\": \"scatterpolar\"}], \"scatterpolargl\": [{\"marker\": {\"colorbar\": {\"outlinewidth\": 0, \"ticks\": \"\"}}, \"type\": \"scatterpolargl\"}], \"scatterternary\": [{\"marker\": {\"colorbar\": {\"outlinewidth\": 0, \"ticks\": \"\"}}, \"type\": \"scatterternary\"}], \"surface\": [{\"colorbar\": {\"outlinewidth\": 0, \"ticks\": \"\"}, \"colorscale\": [[0.0, \"#0d0887\"], [0.1111111111111111, \"#46039f\"], [0.2222222222222222, \"#7201a8\"], [0.3333333333333333, \"#9c179e\"], [0.4444444444444444, \"#bd3786\"], [0.5555555555555556, \"#d8576b\"], [0.6666666666666666, \"#ed7953\"], [0.7777777777777778, \"#fb9f3a\"], [0.8888888888888888, \"#fdca26\"], [1.0, \"#f0f921\"]], \"type\": \"surface\"}], \"table\": [{\"cells\": {\"fill\": {\"color\": \"#EBF0F8\"}, \"line\": {\"color\": \"white\"}}, \"header\": {\"fill\": {\"color\": \"#C8D4E3\"}, \"line\": {\"color\": \"white\"}}, \"type\": \"table\"}]}, \"layout\": {\"annotationdefaults\": {\"arrowcolor\": \"#2a3f5f\", \"arrowhead\": 0, \"arrowwidth\": 1}, \"colorscale\": {\"diverging\": [[0, \"#8e0152\"], [0.1, \"#c51b7d\"], [0.2, \"#de77ae\"], [0.3, \"#f1b6da\"], [0.4, \"#fde0ef\"], [0.5, \"#f7f7f7\"], [0.6, \"#e6f5d0\"], [0.7, \"#b8e186\"], [0.8, \"#7fbc41\"], [0.9, \"#4d9221\"], [1, \"#276419\"]], \"sequential\": [[0.0, \"#0d0887\"], [0.1111111111111111, \"#46039f\"], [0.2222222222222222, \"#7201a8\"], [0.3333333333333333, \"#9c179e\"], [0.4444444444444444, \"#bd3786\"], [0.5555555555555556, \"#d8576b\"], [0.6666666666666666, \"#ed7953\"], [0.7777777777777778, \"#fb9f3a\"], [0.8888888888888888, \"#fdca26\"], [1.0, \"#f0f921\"]], \"sequentialminus\": [[0.0, \"#0d0887\"], [0.1111111111111111, \"#46039f\"], [0.2222222222222222, \"#7201a8\"], [0.3333333333333333, \"#9c179e\"], [0.4444444444444444, \"#bd3786\"], [0.5555555555555556, \"#d8576b\"], [0.6666666666666666, \"#ed7953\"], [0.7777777777777778, \"#fb9f3a\"], [0.8888888888888888, \"#fdca26\"], [1.0, \"#f0f921\"]]}, \"colorway\": [\"#636efa\", \"#EF553B\", \"#00cc96\", \"#ab63fa\", \"#FFA15A\", \"#19d3f3\", \"#FF6692\", \"#B6E880\", \"#FF97FF\", \"#FECB52\"], \"font\": {\"color\": \"#2a3f5f\"}, \"geo\": {\"bgcolor\": \"white\", \"lakecolor\": \"white\", \"landcolor\": \"#E5ECF6\", \"showlakes\": true, \"showland\": true, \"subunitcolor\": \"white\"}, \"hoverlabel\": {\"align\": \"left\"}, \"hovermode\": \"closest\", \"mapbox\": {\"style\": \"light\"}, \"paper_bgcolor\": \"white\", \"plot_bgcolor\": \"#E5ECF6\", \"polar\": {\"angularaxis\": {\"gridcolor\": \"white\", \"linecolor\": \"white\", \"ticks\": \"\"}, \"bgcolor\": \"#E5ECF6\", \"radialaxis\": {\"gridcolor\": \"white\", \"linecolor\": \"white\", \"ticks\": \"\"}}, \"scene\": {\"xaxis\": {\"backgroundcolor\": \"#E5ECF6\", \"gridcolor\": \"white\", \"gridwidth\": 2, \"linecolor\": \"white\", \"showbackground\": true, \"ticks\": \"\", \"zerolinecolor\": \"white\"}, \"yaxis\": {\"backgroundcolor\": \"#E5ECF6\", \"gridcolor\": \"white\", \"gridwidth\": 2, \"linecolor\": \"white\", \"showbackground\": true, \"ticks\": \"\", \"zerolinecolor\": \"white\"}, \"zaxis\": {\"backgroundcolor\": \"#E5ECF6\", \"gridcolor\": \"white\", \"gridwidth\": 2, \"linecolor\": \"white\", \"showbackground\": true, \"ticks\": \"\", \"zerolinecolor\": \"white\"}}, \"shapedefaults\": {\"line\": {\"color\": \"#2a3f5f\"}}, \"ternary\": {\"aaxis\": {\"gridcolor\": \"white\", \"linecolor\": \"white\", \"ticks\": \"\"}, \"baxis\": {\"gridcolor\": \"white\", \"linecolor\": \"white\", \"ticks\": \"\"}, \"bgcolor\": \"#E5ECF6\", \"caxis\": {\"gridcolor\": \"white\", \"linecolor\": \"white\", \"ticks\": \"\"}}, \"title\": {\"x\": 0.05}, \"xaxis\": {\"automargin\": true, \"gridcolor\": \"white\", \"linecolor\": \"white\", \"ticks\": \"\", \"zerolinecolor\": \"white\", \"zerolinewidth\": 2}, \"yaxis\": {\"automargin\": true, \"gridcolor\": \"white\", \"linecolor\": \"white\", \"ticks\": \"\", \"zerolinecolor\": \"white\", \"zerolinewidth\": 2}}}, \"xaxis\": {\"anchor\": \"y\", \"domain\": [0.0, 0.98], \"title\": {\"text\": \"CD8_central_intra\"}}, \"yaxis\": {\"anchor\": \"x\", \"domain\": [0.0, 1.0], \"title\": {\"text\": \"count\"}}},\n",
              "                        {\"responsive\": true}\n",
              "                    ).then(function(){\n",
              "                            \n",
              "var gd = document.getElementById('a46d78ea-eae1-4c1e-b766-ee28d69f2fbb');\n",
              "var x = new MutationObserver(function (mutations, observer) {{\n",
              "        var display = window.getComputedStyle(gd).display;\n",
              "        if (!display || display === 'none') {{\n",
              "            console.log([gd, 'removed!']);\n",
              "            Plotly.purge(gd);\n",
              "            observer.disconnect();\n",
              "        }}\n",
              "}});\n",
              "\n",
              "// Listen for the removal of the full notebook cells\n",
              "var notebookContainer = gd.closest('#notebook-container');\n",
              "if (notebookContainer) {{\n",
              "    x.observe(notebookContainer, {childList: true});\n",
              "}}\n",
              "\n",
              "// Listen for the clearing of the current output cell\n",
              "var outputEl = gd.closest('.output');\n",
              "if (outputEl) {{\n",
              "    x.observe(outputEl, {childList: true});\n",
              "}}\n",
              "\n",
              "                        })\n",
              "                };\n",
              "                \n",
              "            </script>\n",
              "        </div>\n",
              "</body>\n",
              "</html>"
            ]
          },
          "metadata": {
            "tags": []
          }
        }
      ]
    },
    {
      "cell_type": "code",
      "metadata": {
        "id": "DN3BiQDqkLty",
        "colab_type": "code",
        "outputId": "849ce170-5e52-45e1-ca0a-173514a1ddde",
        "colab": {
          "base_uri": "https://localhost:8080/",
          "height": 617
        }
      },
      "source": [
        "fig_Fib = px.histogram(df, x=\"Fibrosis_central\", color=\"y\")\n",
        "fig_Fib.show()"
      ],
      "execution_count": 0,
      "outputs": [
        {
          "output_type": "display_data",
          "data": {
            "text/html": [
              "<html>\n",
              "<head><meta charset=\"utf-8\" /></head>\n",
              "<body>\n",
              "    <div>\n",
              "            <script src=\"https://cdnjs.cloudflare.com/ajax/libs/mathjax/2.7.5/MathJax.js?config=TeX-AMS-MML_SVG\"></script><script type=\"text/javascript\">if (window.MathJax) {MathJax.Hub.Config({SVG: {font: \"STIX-Web\"}});}</script>\n",
              "                <script type=\"text/javascript\">window.PlotlyConfig = {MathJaxConfig: 'local'};</script>\n",
              "        <script src=\"https://cdn.plot.ly/plotly-latest.min.js\"></script>    \n",
              "            <div id=\"114a271f-0569-4e36-ba99-bd5a0b4b12ba\" class=\"plotly-graph-div\" style=\"height:600px; width:100%;\"></div>\n",
              "            <script type=\"text/javascript\">\n",
              "                \n",
              "                    window.PLOTLYENV=window.PLOTLYENV || {};\n",
              "                    \n",
              "                if (document.getElementById(\"114a271f-0569-4e36-ba99-bd5a0b4b12ba\")) {\n",
              "                    Plotly.newPlot(\n",
              "                        '114a271f-0569-4e36-ba99-bd5a0b4b12ba',\n",
              "                        [{\"alignmentgroup\": \"True\", \"bingroup\": \"x\", \"hoverlabel\": {\"namelength\": 0}, \"hovertemplate\": \"y=1<br>Fibrosis_central=%{x}<br>count=%{y}\", \"legendgroup\": \"y=1\", \"marker\": {\"color\": \"#636efa\"}, \"name\": \"y=1\", \"offsetgroup\": \"y=1\", \"orientation\": \"v\", \"showlegend\": true, \"type\": \"histogram\", \"x\": [10.0, 10.0, 10.0, 10.0, 15.0, 60.0, 10.0, 100.0, 110.0, 30.0, 100.0, 120.0, 5.0, 240.0, 15.0, 150.0, 15.0, 10.0, 150.0, 30.0, 15.0, 15.0, 150.0, 150.0, 15.0, 15.0, 50.0, 60.0, 15.0, 20.0, 30.0, 30.0, 5.0, 195.0, 20.0, 150.0, 10.0, 110.0, 30.0, 30.0, 15.0, 150.0, 150.0, 150.0, 150.0, 45.0, 225.0, 20.0, 170.0, 120.0, 70.0, 10.0, 15.0, 180.0, 30.0, 30.0, 210.0, 240.0, 20.0, 5.0, 225.0, 20.0, 270.0, 60.0, 120.0, 240.0, 60.0, 225.0, 240.0, 100.0, 20.0, 10.0, 170.0, 120.0, 180.0, 180.0, 60.0, 285.0, 10.0, 180.0, 90.0, 40.0, 10.0, 150.0, 130.0, 150.0, 10.0, 150.0, 30.0, 30.0, 270.0, 120.0, 180.0, 150.0, 6.0, 30.0, 5.0, 270.0, 20.0, 150.0, 120.0, 30.0, 150.0, 270.0, 120.0, 120.0, 150.0, 270.0, 90.0, 225.0, 10.0, 150.0, 30.0, 15.0, 240.0, 105.0, 150.0, 15.0, 255.0, 240.0, 10.0, 15.0, 30.0, 15.0, 150.0, 15.0, 60.0, 270.0, 10.0, 20.0, 10.0, 60.0, 20.0, 150.0, 10.0, 15.0, 10.0, 90.0, 15.0, 180.0, 20.0, 20.0, 225.0, 60.0, 20.0, 30.0, 150.0, 210.0, 150.0, 270.0, 50.0, 100.0, 255.0, 240.0, 270.0, 150.0, 30.0, 90.0, 60.0, 10.0, 40.0, 100.0, 120.0, 100.0, 50.0, 180.0, 90.0, 10.0, 255.0, 50.0, 240.0, 100.0, 120.0, 20.0, 30.0, 20.0, 3.0, 210.0, 45.0, 5.0, 100.0, 30.0, 30.0, 150.0, 240.0, 50.0, 150.0, 30.0, 15.0, 10.0, 10.0, 15.0, 255.0, 210.0, 165.0, 255.0, 165.0, 30.0, 150.0, 255.0, 180.0, 170.0, 150.0, 270.0, 120.0, 60.0, 40.0, 240.0, 150.0, 40.0, 40.0, 45.0, 270.0, 140.0, 60.0, 20.0, 120.0, 60.0, 150.0, 210.0, 270.0, 60.0, 120.0, 15.0, 120.0, 240.0, 75.0, 240.0, 240.0, 210.0, 240.0, 120.0, 150.0, 90.0, 210.0, 180.0, 180.0, 10.0, 255.0, 180.0, 80.0, 45.0, 150.0, 30.0, 130.0, 240.0, 40.0, 180.0, 240.0, 270.0, 195.0, 70.0, 210.0, 70.0, 240.0, 30.0, 120.0, 10.0, 30.0, 10.0, 150.0, 130.0, 80.0, 135.0, 20.0], \"xaxis\": \"x\", \"yaxis\": \"y\"}, {\"alignmentgroup\": \"True\", \"bingroup\": \"x\", \"hoverlabel\": {\"namelength\": 0}, \"hovertemplate\": \"y=0<br>Fibrosis_central=%{x}<br>count=%{y}\", \"legendgroup\": \"y=0\", \"marker\": {\"color\": \"#EF553B\"}, \"name\": \"y=0\", \"offsetgroup\": \"y=0\", \"orientation\": \"v\", \"showlegend\": true, \"type\": \"histogram\", \"x\": [60.0, 150.0, 0.0, 135.0, 80.0, 10.0, 10.0, 40.0, 210.0, 60.0, 10.0, 10.0, 40.0, 80.0, 10.0, 20.0, 120.0, 150.0, 150.0, 10.0, 120.0, 180.0, 80.0, 150.0, 45.0, 240.0, 150.0, 90.0, 180.0, 60.0, 210.0, 30.0, 15.0, 240.0, 225.0, 120.0, 10.0, 60.0, 160.0, 150.0, 150.0, 210.0, 140.0, 10.0, 150.0, 10.0, 270.0, 195.0, 240.0, 255.0, 90.0, 120.0, 30.0, 80.0, 50.0, 5.0, 50.0, 140.0, 20.0, 120.0, 140.0, 100.0, 10.0, 30.0, 0.0, 10.0, 40.0, 80.0, 5.0, 240.0, 10.0, 30.0, 195.0, 180.0, 5.0, 10.0, 225.0, 195.0, 10.0, 150.0, 195.0, 40.0, 20.0, 80.0, 40.0, 255.0, 210.0, 160.0, 60.0, 180.0, 180.0, 50.0, 60.0, 180.0, 180.0, 60.0, 45.0, 150.0, 120.0, 10.0, 10.0, 225.0, 45.0, 150.0, 100.0, 255.0, 60.0, 5.0, 150.0, 30.0, 150.0, 15.0, 60.0, 180.0, 100.0, 90.0, 80.0, 30.0, 30.0, 100.0, 10.0, 60.0, 15.0, 195.0, 120.0, 150.0, 30.0, 15.0, 240.0, 180.0, 100.0, 10.0, 20.0, 270.0, 100.0, 150.0, 150.0, 30.0, 45.0, 60.0, 10.0, 30.0, 270.0, 150.0, 20.0, 150.0, 270.0, 100.0, 225.0, 100.0, 270.0, 150.0, 150.0, 270.0, 225.0, 10.0, 20.0, 270.0, 180.0, 170.0, 270.0, 80.0, 80.0, 60.0, 90.0, 240.0, 150.0, 100.0, 150.0, 80.0, 255.0, 10.0, 80.0, 20.0, 180.0, 100.0, 90.0, 180.0, 90.0, 60.0, 100.0, 60.0, 35.0, 100.0, 70.0, 75.0, 120.0, 80.0, 75.0, 130.0, 150.0, 15.0], \"xaxis\": \"x\", \"yaxis\": \"y\"}],\n",
              "                        {\"barmode\": \"relative\", \"height\": 600, \"legend\": {\"tracegroupgap\": 0}, \"margin\": {\"t\": 60}, \"template\": {\"data\": {\"bar\": [{\"error_x\": {\"color\": \"#2a3f5f\"}, \"error_y\": {\"color\": \"#2a3f5f\"}, \"marker\": {\"line\": {\"color\": \"#E5ECF6\", \"width\": 0.5}}, \"type\": \"bar\"}], \"barpolar\": [{\"marker\": {\"line\": {\"color\": \"#E5ECF6\", \"width\": 0.5}}, \"type\": \"barpolar\"}], \"carpet\": [{\"aaxis\": {\"endlinecolor\": \"#2a3f5f\", \"gridcolor\": \"white\", \"linecolor\": \"white\", \"minorgridcolor\": \"white\", \"startlinecolor\": \"#2a3f5f\"}, \"baxis\": {\"endlinecolor\": \"#2a3f5f\", \"gridcolor\": \"white\", \"linecolor\": \"white\", \"minorgridcolor\": \"white\", \"startlinecolor\": \"#2a3f5f\"}, \"type\": \"carpet\"}], \"choropleth\": [{\"colorbar\": {\"outlinewidth\": 0, \"ticks\": \"\"}, \"type\": \"choropleth\"}], \"contour\": [{\"colorbar\": {\"outlinewidth\": 0, \"ticks\": \"\"}, \"colorscale\": [[0.0, \"#0d0887\"], [0.1111111111111111, \"#46039f\"], [0.2222222222222222, \"#7201a8\"], [0.3333333333333333, \"#9c179e\"], [0.4444444444444444, \"#bd3786\"], [0.5555555555555556, \"#d8576b\"], [0.6666666666666666, \"#ed7953\"], [0.7777777777777778, \"#fb9f3a\"], [0.8888888888888888, \"#fdca26\"], [1.0, \"#f0f921\"]], \"type\": \"contour\"}], \"contourcarpet\": [{\"colorbar\": {\"outlinewidth\": 0, \"ticks\": \"\"}, \"type\": \"contourcarpet\"}], \"heatmap\": [{\"colorbar\": {\"outlinewidth\": 0, \"ticks\": \"\"}, \"colorscale\": [[0.0, \"#0d0887\"], [0.1111111111111111, \"#46039f\"], [0.2222222222222222, \"#7201a8\"], [0.3333333333333333, \"#9c179e\"], [0.4444444444444444, \"#bd3786\"], [0.5555555555555556, \"#d8576b\"], [0.6666666666666666, \"#ed7953\"], [0.7777777777777778, \"#fb9f3a\"], [0.8888888888888888, \"#fdca26\"], [1.0, \"#f0f921\"]], \"type\": \"heatmap\"}], \"heatmapgl\": [{\"colorbar\": {\"outlinewidth\": 0, \"ticks\": \"\"}, \"colorscale\": [[0.0, \"#0d0887\"], [0.1111111111111111, \"#46039f\"], [0.2222222222222222, \"#7201a8\"], [0.3333333333333333, \"#9c179e\"], [0.4444444444444444, \"#bd3786\"], [0.5555555555555556, \"#d8576b\"], [0.6666666666666666, \"#ed7953\"], [0.7777777777777778, \"#fb9f3a\"], [0.8888888888888888, \"#fdca26\"], [1.0, \"#f0f921\"]], \"type\": \"heatmapgl\"}], \"histogram\": [{\"marker\": {\"colorbar\": {\"outlinewidth\": 0, \"ticks\": \"\"}}, \"type\": \"histogram\"}], \"histogram2d\": [{\"colorbar\": {\"outlinewidth\": 0, \"ticks\": \"\"}, \"colorscale\": [[0.0, \"#0d0887\"], [0.1111111111111111, \"#46039f\"], [0.2222222222222222, \"#7201a8\"], [0.3333333333333333, \"#9c179e\"], [0.4444444444444444, \"#bd3786\"], [0.5555555555555556, \"#d8576b\"], [0.6666666666666666, \"#ed7953\"], [0.7777777777777778, \"#fb9f3a\"], [0.8888888888888888, \"#fdca26\"], [1.0, \"#f0f921\"]], \"type\": \"histogram2d\"}], \"histogram2dcontour\": [{\"colorbar\": {\"outlinewidth\": 0, \"ticks\": \"\"}, \"colorscale\": [[0.0, \"#0d0887\"], [0.1111111111111111, \"#46039f\"], [0.2222222222222222, \"#7201a8\"], [0.3333333333333333, \"#9c179e\"], [0.4444444444444444, \"#bd3786\"], [0.5555555555555556, \"#d8576b\"], [0.6666666666666666, \"#ed7953\"], [0.7777777777777778, \"#fb9f3a\"], [0.8888888888888888, \"#fdca26\"], [1.0, \"#f0f921\"]], \"type\": \"histogram2dcontour\"}], \"mesh3d\": [{\"colorbar\": {\"outlinewidth\": 0, \"ticks\": \"\"}, \"type\": \"mesh3d\"}], \"parcoords\": [{\"line\": {\"colorbar\": {\"outlinewidth\": 0, \"ticks\": \"\"}}, \"type\": \"parcoords\"}], \"scatter\": [{\"marker\": {\"colorbar\": {\"outlinewidth\": 0, \"ticks\": \"\"}}, \"type\": \"scatter\"}], \"scatter3d\": [{\"line\": {\"colorbar\": {\"outlinewidth\": 0, \"ticks\": \"\"}}, \"marker\": {\"colorbar\": {\"outlinewidth\": 0, \"ticks\": \"\"}}, \"type\": \"scatter3d\"}], \"scattercarpet\": [{\"marker\": {\"colorbar\": {\"outlinewidth\": 0, \"ticks\": \"\"}}, \"type\": \"scattercarpet\"}], \"scattergeo\": [{\"marker\": {\"colorbar\": {\"outlinewidth\": 0, \"ticks\": \"\"}}, \"type\": \"scattergeo\"}], \"scattergl\": [{\"marker\": {\"colorbar\": {\"outlinewidth\": 0, \"ticks\": \"\"}}, \"type\": \"scattergl\"}], \"scattermapbox\": [{\"marker\": {\"colorbar\": {\"outlinewidth\": 0, \"ticks\": \"\"}}, \"type\": \"scattermapbox\"}], \"scatterpolar\": [{\"marker\": {\"colorbar\": {\"outlinewidth\": 0, \"ticks\": \"\"}}, \"type\": \"scatterpolar\"}], \"scatterpolargl\": [{\"marker\": {\"colorbar\": {\"outlinewidth\": 0, \"ticks\": \"\"}}, \"type\": \"scatterpolargl\"}], \"scatterternary\": [{\"marker\": {\"colorbar\": {\"outlinewidth\": 0, \"ticks\": \"\"}}, \"type\": \"scatterternary\"}], \"surface\": [{\"colorbar\": {\"outlinewidth\": 0, \"ticks\": \"\"}, \"colorscale\": [[0.0, \"#0d0887\"], [0.1111111111111111, \"#46039f\"], [0.2222222222222222, \"#7201a8\"], [0.3333333333333333, \"#9c179e\"], [0.4444444444444444, \"#bd3786\"], [0.5555555555555556, \"#d8576b\"], [0.6666666666666666, \"#ed7953\"], [0.7777777777777778, \"#fb9f3a\"], [0.8888888888888888, \"#fdca26\"], [1.0, \"#f0f921\"]], \"type\": \"surface\"}], \"table\": [{\"cells\": {\"fill\": {\"color\": \"#EBF0F8\"}, \"line\": {\"color\": \"white\"}}, \"header\": {\"fill\": {\"color\": \"#C8D4E3\"}, \"line\": {\"color\": \"white\"}}, \"type\": \"table\"}]}, \"layout\": {\"annotationdefaults\": {\"arrowcolor\": \"#2a3f5f\", \"arrowhead\": 0, \"arrowwidth\": 1}, \"colorscale\": {\"diverging\": [[0, \"#8e0152\"], [0.1, \"#c51b7d\"], [0.2, \"#de77ae\"], [0.3, \"#f1b6da\"], [0.4, \"#fde0ef\"], [0.5, \"#f7f7f7\"], [0.6, \"#e6f5d0\"], [0.7, \"#b8e186\"], [0.8, \"#7fbc41\"], [0.9, \"#4d9221\"], [1, \"#276419\"]], \"sequential\": [[0.0, \"#0d0887\"], [0.1111111111111111, \"#46039f\"], [0.2222222222222222, \"#7201a8\"], [0.3333333333333333, \"#9c179e\"], [0.4444444444444444, \"#bd3786\"], [0.5555555555555556, \"#d8576b\"], [0.6666666666666666, \"#ed7953\"], [0.7777777777777778, \"#fb9f3a\"], [0.8888888888888888, \"#fdca26\"], [1.0, \"#f0f921\"]], \"sequentialminus\": [[0.0, \"#0d0887\"], [0.1111111111111111, \"#46039f\"], [0.2222222222222222, \"#7201a8\"], [0.3333333333333333, \"#9c179e\"], [0.4444444444444444, \"#bd3786\"], [0.5555555555555556, \"#d8576b\"], [0.6666666666666666, \"#ed7953\"], [0.7777777777777778, \"#fb9f3a\"], [0.8888888888888888, \"#fdca26\"], [1.0, \"#f0f921\"]]}, \"colorway\": [\"#636efa\", \"#EF553B\", \"#00cc96\", \"#ab63fa\", \"#FFA15A\", \"#19d3f3\", \"#FF6692\", \"#B6E880\", \"#FF97FF\", \"#FECB52\"], \"font\": {\"color\": \"#2a3f5f\"}, \"geo\": {\"bgcolor\": \"white\", \"lakecolor\": \"white\", \"landcolor\": \"#E5ECF6\", \"showlakes\": true, \"showland\": true, \"subunitcolor\": \"white\"}, \"hoverlabel\": {\"align\": \"left\"}, \"hovermode\": \"closest\", \"mapbox\": {\"style\": \"light\"}, \"paper_bgcolor\": \"white\", \"plot_bgcolor\": \"#E5ECF6\", \"polar\": {\"angularaxis\": {\"gridcolor\": \"white\", \"linecolor\": \"white\", \"ticks\": \"\"}, \"bgcolor\": \"#E5ECF6\", \"radialaxis\": {\"gridcolor\": \"white\", \"linecolor\": \"white\", \"ticks\": \"\"}}, \"scene\": {\"xaxis\": {\"backgroundcolor\": \"#E5ECF6\", \"gridcolor\": \"white\", \"gridwidth\": 2, \"linecolor\": \"white\", \"showbackground\": true, \"ticks\": \"\", \"zerolinecolor\": \"white\"}, \"yaxis\": {\"backgroundcolor\": \"#E5ECF6\", \"gridcolor\": \"white\", \"gridwidth\": 2, \"linecolor\": \"white\", \"showbackground\": true, \"ticks\": \"\", \"zerolinecolor\": \"white\"}, \"zaxis\": {\"backgroundcolor\": \"#E5ECF6\", \"gridcolor\": \"white\", \"gridwidth\": 2, \"linecolor\": \"white\", \"showbackground\": true, \"ticks\": \"\", \"zerolinecolor\": \"white\"}}, \"shapedefaults\": {\"line\": {\"color\": \"#2a3f5f\"}}, \"ternary\": {\"aaxis\": {\"gridcolor\": \"white\", \"linecolor\": \"white\", \"ticks\": \"\"}, \"baxis\": {\"gridcolor\": \"white\", \"linecolor\": \"white\", \"ticks\": \"\"}, \"bgcolor\": \"#E5ECF6\", \"caxis\": {\"gridcolor\": \"white\", \"linecolor\": \"white\", \"ticks\": \"\"}}, \"title\": {\"x\": 0.05}, \"xaxis\": {\"automargin\": true, \"gridcolor\": \"white\", \"linecolor\": \"white\", \"ticks\": \"\", \"zerolinecolor\": \"white\", \"zerolinewidth\": 2}, \"yaxis\": {\"automargin\": true, \"gridcolor\": \"white\", \"linecolor\": \"white\", \"ticks\": \"\", \"zerolinecolor\": \"white\", \"zerolinewidth\": 2}}}, \"xaxis\": {\"anchor\": \"y\", \"domain\": [0.0, 0.98], \"title\": {\"text\": \"Fibrosis_central\"}}, \"yaxis\": {\"anchor\": \"x\", \"domain\": [0.0, 1.0], \"title\": {\"text\": \"count\"}}},\n",
              "                        {\"responsive\": true}\n",
              "                    ).then(function(){\n",
              "                            \n",
              "var gd = document.getElementById('114a271f-0569-4e36-ba99-bd5a0b4b12ba');\n",
              "var x = new MutationObserver(function (mutations, observer) {{\n",
              "        var display = window.getComputedStyle(gd).display;\n",
              "        if (!display || display === 'none') {{\n",
              "            console.log([gd, 'removed!']);\n",
              "            Plotly.purge(gd);\n",
              "            observer.disconnect();\n",
              "        }}\n",
              "}});\n",
              "\n",
              "// Listen for the removal of the full notebook cells\n",
              "var notebookContainer = gd.closest('#notebook-container');\n",
              "if (notebookContainer) {{\n",
              "    x.observe(notebookContainer, {childList: true});\n",
              "}}\n",
              "\n",
              "// Listen for the clearing of the current output cell\n",
              "var outputEl = gd.closest('.output');\n",
              "if (outputEl) {{\n",
              "    x.observe(outputEl, {childList: true});\n",
              "}}\n",
              "\n",
              "                        })\n",
              "                };\n",
              "                \n",
              "            </script>\n",
              "        </div>\n",
              "</body>\n",
              "</html>"
            ]
          },
          "metadata": {
            "tags": []
          }
        }
      ]
    },
    {
      "cell_type": "code",
      "metadata": {
        "id": "nfy_TEdEMauq",
        "colab_type": "code",
        "outputId": "f2808e8f-62d2-4712-e393-2d34fe2ab5db",
        "colab": {
          "base_uri": "https://localhost:8080/",
          "height": 204
        }
      },
      "source": [
        "df['CD8_log'] = np.log(df['CD8_central_intra'])\n",
        "df['CD8_log'].loc[df['CD8_log'] == -np.inf] = 0.0"
      ],
      "execution_count": 0,
      "outputs": [
        {
          "output_type": "stream",
          "text": [
            "/usr/local/lib/python3.6/dist-packages/ipykernel_launcher.py:1: RuntimeWarning:\n",
            "\n",
            "divide by zero encountered in log\n",
            "\n",
            "/usr/local/lib/python3.6/dist-packages/pandas/core/indexing.py:190: SettingWithCopyWarning:\n",
            "\n",
            "\n",
            "A value is trying to be set on a copy of a slice from a DataFrame\n",
            "\n",
            "See the caveats in the documentation: http://pandas.pydata.org/pandas-docs/stable/indexing.html#indexing-view-versus-copy\n",
            "\n"
          ],
          "name": "stderr"
        }
      ]
    },
    {
      "cell_type": "code",
      "metadata": {
        "id": "c6ax3iaaRQKZ",
        "colab_type": "code",
        "outputId": "2991d903-b690-4517-ec6a-92c5c1052789",
        "colab": {
          "base_uri": "https://localhost:8080/",
          "height": 34
        }
      },
      "source": [
        "min(df['CD8_log'].loc[df['CD8_log'] != -np.inf])"
      ],
      "execution_count": 0,
      "outputs": [
        {
          "output_type": "execute_result",
          "data": {
            "text/plain": [
              "0.0"
            ]
          },
          "metadata": {
            "tags": []
          },
          "execution_count": 38
        }
      ]
    },
    {
      "cell_type": "code",
      "metadata": {
        "id": "5FOcPIpYMrGl",
        "colab_type": "code",
        "outputId": "72a57664-2b8f-4c2c-c3bc-6cbea9babb9f",
        "colab": {
          "base_uri": "https://localhost:8080/",
          "height": 617
        }
      },
      "source": [
        "fig_CD8_ = px.histogram(df, x=\"CD8_log\", color=\"y\")\n",
        "fig_CD8_.show()"
      ],
      "execution_count": 0,
      "outputs": [
        {
          "output_type": "display_data",
          "data": {
            "text/html": [
              "<html>\n",
              "<head><meta charset=\"utf-8\" /></head>\n",
              "<body>\n",
              "    <div>\n",
              "            <script src=\"https://cdnjs.cloudflare.com/ajax/libs/mathjax/2.7.5/MathJax.js?config=TeX-AMS-MML_SVG\"></script><script type=\"text/javascript\">if (window.MathJax) {MathJax.Hub.Config({SVG: {font: \"STIX-Web\"}});}</script>\n",
              "                <script type=\"text/javascript\">window.PlotlyConfig = {MathJaxConfig: 'local'};</script>\n",
              "        <script src=\"https://cdn.plot.ly/plotly-latest.min.js\"></script>    \n",
              "            <div id=\"e2d4000f-cfe4-4d30-9e7a-e620d471a3d0\" class=\"plotly-graph-div\" style=\"height:600px; width:100%;\"></div>\n",
              "            <script type=\"text/javascript\">\n",
              "                \n",
              "                    window.PLOTLYENV=window.PLOTLYENV || {};\n",
              "                    \n",
              "                if (document.getElementById(\"e2d4000f-cfe4-4d30-9e7a-e620d471a3d0\")) {\n",
              "                    Plotly.newPlot(\n",
              "                        'e2d4000f-cfe4-4d30-9e7a-e620d471a3d0',\n",
              "                        [{\"alignmentgroup\": \"True\", \"bingroup\": \"x\", \"hoverlabel\": {\"namelength\": 0}, \"hovertemplate\": \"y=1<br>CD8_log=%{x}<br>count=%{y}\", \"legendgroup\": \"y=1\", \"marker\": {\"color\": \"#636efa\"}, \"name\": \"y=1\", \"offsetgroup\": \"y=1\", \"orientation\": \"v\", \"showlegend\": true, \"type\": \"histogram\", \"x\": [3.4339872044851463, 3.871201010907891, 3.9512437185814275, 4.584967478670572, 2.302585092994046, 3.5553480614894135, 4.343805421853684, 2.3978952727983707, 4.007333185232471, 2.995732273553991, 1.6094379124341003, 0.0, 3.091042453358316, 3.4965075614664802, 2.0794415416798357, 0.0, 0.6931471805599453, 4.624972813284271, 0.0, 3.367295829986474, 1.791759469228055, 2.0794415416798357, 0.0, 0.0, 0.0, 1.791759469228055, 0.0, 3.6635616461296463, 5.147494476813453, 1.0986122886681098, 4.477336814478207, 4.61512051684126, 2.995732273553991, 0.6931471805599453, 0.0, 0.0, 4.955827057601261, 0.0, 4.143134726391533, 0.0, 2.1972245773362196, 4.812184355372417, 0.0, 0.0, 4.204692619390966, 0.6931471805599453, 0.0, 4.867534450455582, 0.0, 3.7376696182833684, 4.356708826689592, 4.174387269895637, 4.418840607796598, 0.0, 1.0986122886681098, 4.007333185232471, 4.663439094112067, 0.0, 3.295836866004329, 3.044522437723423, 0.0, 2.995732273553991, 0.0, 3.9512437185814275, 3.8066624897703196, 0.0, 0.0, 3.4011973816621555, 3.4011973816621555, 4.356708826689592, 3.4339872044851463, 2.772588722239781, 0.0, 0.0, 0.0, 3.784189633918261, 2.5649493574615367, 3.4657359027997265, 3.091042453358316, 0.0, 4.584967478670572, 0.0, 4.7535901911063645, 0.0, 3.332204510175204, 3.1780538303479458, 0.0, 4.584967478670572, 0.0, 1.0986122886681098, 0.0, 0.0, 2.995732273553991, 3.9512437185814275, 3.044522437723423, 3.258096538021482, 1.9459101490553132, 0.0, 0.0, 1.3862943611198906, 2.8903717578961645, 2.995732273553991, 0.0, 0.0, 4.465908118654584, 3.4339872044851463, 2.70805020110221, 3.713572066704308, 4.59511985013459, 0.0, 4.356708826689592, 3.6109179126442243, 0.0, 3.1780538303479458, 0.0, 3.044522437723423, 2.3978952727983707, 3.8918202981106265, 4.007333185232471, 3.2188758248682006, 2.0794415416798357, 0.6931471805599453, 0.0, 3.970291913552122, 0.0, 0.0, 3.4011973816621555, 4.248495242049359, 0.0, 2.4849066497880004, 4.653960350157523, 1.0986122886681098, 2.70805020110221, 0.0, 3.5553480614894135, 0.0, 3.4011973816621555, 0.0, 0.0, 4.875197323201151, 3.5553480614894135, 3.4657359027997265, 0.0, 3.7376696182833684, 1.3862943611198906, 0.0, 2.833213344056216, 0.0, 0.0, 0.0, 4.356708826689592, 0.0, 4.477336814478207, 3.9512437185814275, 4.477336814478207, 3.5553480614894135, 4.820281565605037, 4.04305126783455, 1.6094379124341003, 3.58351893845611, 1.0986122886681098, 2.995732273553991, 0.0, 0.0, 0.0, 4.110873864173311, 1.791759469228055, 4.653960350157523, 3.713572066704308, 2.70805020110221, 3.828641396489095, 2.6390573296152584, 4.060443010546419, 4.406719247264253, 0.0, 3.7376696182833684, 0.0, 0.0, 0.6931471805599453, 0.0, 0.0, 0.6931471805599453, 0.0, 3.1354942159291497, 0.0, 0.0, 2.833213344056216, 1.0986122886681098, 4.219507705176107, 5.19295685089021, 0.0, 4.02535169073515, 0.0, 0.0, 3.4657359027997265, 0.0, 1.3862943611198906, 1.0986122886681098, 0.0, 0.0, 0.0, 0.0, 1.0986122886681098, 0.0, 0.0, 3.4657359027997265, 2.995732273553991, 0.0, 0.0, 4.465908118654584, 4.219507705176107, 0.6931471805599453, 3.4011973816621555, 2.70805020110221, 4.23410650459726, 3.2188758248682006, 3.295836866004329, 4.812184355372417, 4.61512051684126, 0.0, 0.0, 4.442651256490317, 4.700480365792417, 4.454347296253507, 0.0, 0.0, 3.4965075614664802, 0.0, 0.0, 0.0, 0.0, 0.0, 2.0794415416798357, 3.332204510175204, 0.0, 2.6390573296152584, 4.919980925828125, 4.406719247264253, 0.0, 0.0, 0.0, 2.5649493574615367, 0.0, 3.8066624897703196, 0.0, 0.6931471805599453, 2.1972245773362196, 2.302585092994046, 0.0, 0.0, 2.6390573296152584, 0.6931471805599453, 2.3978952727983707, 0.0, 0.0, 2.1972245773362196, 0.0, 4.276666119016055, 3.258096538021482, 1.0986122886681098, 0.0, 0.0, 2.6390573296152584, 1.0986122886681098, 0.0], \"xaxis\": \"x\", \"yaxis\": \"y\"}, {\"alignmentgroup\": \"True\", \"bingroup\": \"x\", \"hoverlabel\": {\"namelength\": 0}, \"hovertemplate\": \"y=0<br>CD8_log=%{x}<br>count=%{y}\", \"legendgroup\": \"y=0\", \"marker\": {\"color\": \"#EF553B\"}, \"name\": \"y=0\", \"offsetgroup\": \"y=0\", \"orientation\": \"v\", \"showlegend\": true, \"type\": \"histogram\", \"x\": [0.0, 0.0, 0.0, 4.624972813284271, 2.4849066497880004, 3.7376696182833684, 0.0, 3.912023005428146, 0.0, 0.6931471805599453, 2.0794415416798357, 4.02535169073515, 3.8066624897703196, 0.0, 4.290459441148391, 3.091042453358316, 0.0, 4.04305126783455, 2.0794415416798357, 0.0, 0.0, 0.0, 0.0, 0.0, 3.7612001156935624, 0.0, 1.6094379124341003, 0.0, 0.0, 1.6094379124341003, 0.0, 1.3862943611198906, 0.0, 0.0, 3.7612001156935624, 0.0, 4.820281565605037, 5.062595033026967, 4.127134385045092, 3.1354942159291497, 2.3978952727983707, 3.2188758248682006, 0.0, 1.3862943611198906, 0.0, 0.0, 0.0, 2.833213344056216, 3.9512437185814275, 2.3978952727983707, 0.6931471805599453, 4.672828834461906, 0.0, 3.2188758248682006, 0.0, 2.3978952727983707, 0.0, 0.0, 3.5553480614894135, 0.0, 0.0, 0.6931471805599453, 4.356708826689592, 2.70805020110221, 0.0, 0.0, 2.302585092994046, 0.6931471805599453, 3.7612001156935624, 4.248495242049359, 2.8903717578961645, 0.0, 4.3694478524670215, 0.0, 0.0, 1.791759469228055, 0.0, 0.0, 2.833213344056216, 0.0, 3.1354942159291497, 2.8903717578961645, 4.584967478670572, 0.0, 2.833213344056216, 0.0, 0.0, 0.0, 4.356708826689592, 0.0, 0.0, 2.302585092994046, 0.0, 3.828641396489095, 3.4011973816621555, 2.302585092994046, 1.9459101490553132, 4.248495242049359, 3.5263605246161616, 4.465908118654584, 0.0, 2.6390573296152584, 3.6375861597263857, 0.0, 3.091042453358316, 0.0, 4.356708826689592, 0.0, 2.5649493574615367, 0.0, 2.3978952727983707, 0.0, 0.0, 0.0, 0.0, 2.3978952727983707, 4.343805421853684, 0.0, 0.0, 3.1354942159291497, 0.0, 0.6931471805599453, 3.4657359027997265, 3.1780538303479458, 2.302585092994046, 1.791759469228055, 1.0986122886681098, 1.9459101490553132, 0.0, 0.0, 1.0986122886681098, 0.0, 2.302585092994046, 0.0, 0.0, 0.0, 0.0, 4.770684624465665, 0.0, 0.0, 0.0, 2.5649493574615367, 0.0, 1.791759469228055, 0.0, 1.0986122886681098, 0.0, 4.02535169073515, 0.0, 0.0, 5.093750200806762, 0.0, 0.0, 0.0, 0.0, 0.0, 0.6931471805599453, 0.0, 0.0, 0.0, 0.0, 2.772588722239781, 1.791759469228055, 0.0, 0.0, 0.0, 4.343805421853684, 2.0794415416798357, 1.791759469228055, 3.332204510175204, 0.0, 0.6931471805599453, 1.791759469228055, 0.6931471805599453, 2.302585092994046, 2.302585092994046, 0.0, 0.6931471805599453, 2.995732273553991, 1.6094379124341003, 1.3862943611198906, 2.3978952727983707, 0.0, 0.0, 3.044522437723423, 1.9459101490553132, 0.0, 0.6931471805599453, 1.0986122886681098, 0.0, 3.6375861597263857, 3.044522437723423], \"xaxis\": \"x\", \"yaxis\": \"y\"}],\n",
              "                        {\"barmode\": \"relative\", \"height\": 600, \"legend\": {\"tracegroupgap\": 0}, \"margin\": {\"t\": 60}, \"template\": {\"data\": {\"bar\": [{\"error_x\": {\"color\": \"#2a3f5f\"}, \"error_y\": {\"color\": \"#2a3f5f\"}, \"marker\": {\"line\": {\"color\": \"#E5ECF6\", \"width\": 0.5}}, \"type\": \"bar\"}], \"barpolar\": [{\"marker\": {\"line\": {\"color\": \"#E5ECF6\", \"width\": 0.5}}, \"type\": \"barpolar\"}], \"carpet\": [{\"aaxis\": {\"endlinecolor\": \"#2a3f5f\", \"gridcolor\": \"white\", \"linecolor\": \"white\", \"minorgridcolor\": \"white\", \"startlinecolor\": \"#2a3f5f\"}, \"baxis\": {\"endlinecolor\": \"#2a3f5f\", \"gridcolor\": \"white\", \"linecolor\": \"white\", \"minorgridcolor\": \"white\", \"startlinecolor\": \"#2a3f5f\"}, \"type\": \"carpet\"}], \"choropleth\": [{\"colorbar\": {\"outlinewidth\": 0, \"ticks\": \"\"}, \"type\": \"choropleth\"}], \"contour\": [{\"colorbar\": {\"outlinewidth\": 0, \"ticks\": \"\"}, \"colorscale\": [[0.0, \"#0d0887\"], [0.1111111111111111, \"#46039f\"], [0.2222222222222222, \"#7201a8\"], [0.3333333333333333, \"#9c179e\"], [0.4444444444444444, \"#bd3786\"], [0.5555555555555556, \"#d8576b\"], [0.6666666666666666, \"#ed7953\"], [0.7777777777777778, \"#fb9f3a\"], [0.8888888888888888, \"#fdca26\"], [1.0, \"#f0f921\"]], \"type\": \"contour\"}], \"contourcarpet\": [{\"colorbar\": {\"outlinewidth\": 0, \"ticks\": \"\"}, \"type\": \"contourcarpet\"}], \"heatmap\": [{\"colorbar\": {\"outlinewidth\": 0, \"ticks\": \"\"}, \"colorscale\": [[0.0, \"#0d0887\"], [0.1111111111111111, \"#46039f\"], [0.2222222222222222, \"#7201a8\"], [0.3333333333333333, \"#9c179e\"], [0.4444444444444444, \"#bd3786\"], [0.5555555555555556, \"#d8576b\"], [0.6666666666666666, \"#ed7953\"], [0.7777777777777778, \"#fb9f3a\"], [0.8888888888888888, \"#fdca26\"], [1.0, \"#f0f921\"]], \"type\": \"heatmap\"}], \"heatmapgl\": [{\"colorbar\": {\"outlinewidth\": 0, \"ticks\": \"\"}, \"colorscale\": [[0.0, \"#0d0887\"], [0.1111111111111111, \"#46039f\"], [0.2222222222222222, \"#7201a8\"], [0.3333333333333333, \"#9c179e\"], [0.4444444444444444, \"#bd3786\"], [0.5555555555555556, \"#d8576b\"], [0.6666666666666666, \"#ed7953\"], [0.7777777777777778, \"#fb9f3a\"], [0.8888888888888888, \"#fdca26\"], [1.0, \"#f0f921\"]], \"type\": \"heatmapgl\"}], \"histogram\": [{\"marker\": {\"colorbar\": {\"outlinewidth\": 0, \"ticks\": \"\"}}, \"type\": \"histogram\"}], \"histogram2d\": [{\"colorbar\": {\"outlinewidth\": 0, \"ticks\": \"\"}, \"colorscale\": [[0.0, \"#0d0887\"], [0.1111111111111111, \"#46039f\"], [0.2222222222222222, \"#7201a8\"], [0.3333333333333333, \"#9c179e\"], [0.4444444444444444, \"#bd3786\"], [0.5555555555555556, \"#d8576b\"], [0.6666666666666666, \"#ed7953\"], [0.7777777777777778, \"#fb9f3a\"], [0.8888888888888888, \"#fdca26\"], [1.0, \"#f0f921\"]], \"type\": \"histogram2d\"}], \"histogram2dcontour\": [{\"colorbar\": {\"outlinewidth\": 0, \"ticks\": \"\"}, \"colorscale\": [[0.0, \"#0d0887\"], [0.1111111111111111, \"#46039f\"], [0.2222222222222222, \"#7201a8\"], [0.3333333333333333, \"#9c179e\"], [0.4444444444444444, \"#bd3786\"], [0.5555555555555556, \"#d8576b\"], [0.6666666666666666, \"#ed7953\"], [0.7777777777777778, \"#fb9f3a\"], [0.8888888888888888, \"#fdca26\"], [1.0, \"#f0f921\"]], \"type\": \"histogram2dcontour\"}], \"mesh3d\": [{\"colorbar\": {\"outlinewidth\": 0, \"ticks\": \"\"}, \"type\": \"mesh3d\"}], \"parcoords\": [{\"line\": {\"colorbar\": {\"outlinewidth\": 0, \"ticks\": \"\"}}, \"type\": \"parcoords\"}], \"scatter\": [{\"marker\": {\"colorbar\": {\"outlinewidth\": 0, \"ticks\": \"\"}}, \"type\": \"scatter\"}], \"scatter3d\": [{\"line\": {\"colorbar\": {\"outlinewidth\": 0, \"ticks\": \"\"}}, \"marker\": {\"colorbar\": {\"outlinewidth\": 0, \"ticks\": \"\"}}, \"type\": \"scatter3d\"}], \"scattercarpet\": [{\"marker\": {\"colorbar\": {\"outlinewidth\": 0, \"ticks\": \"\"}}, \"type\": \"scattercarpet\"}], \"scattergeo\": [{\"marker\": {\"colorbar\": {\"outlinewidth\": 0, \"ticks\": \"\"}}, \"type\": \"scattergeo\"}], \"scattergl\": [{\"marker\": {\"colorbar\": {\"outlinewidth\": 0, \"ticks\": \"\"}}, \"type\": \"scattergl\"}], \"scattermapbox\": [{\"marker\": {\"colorbar\": {\"outlinewidth\": 0, \"ticks\": \"\"}}, \"type\": \"scattermapbox\"}], \"scatterpolar\": [{\"marker\": {\"colorbar\": {\"outlinewidth\": 0, \"ticks\": \"\"}}, \"type\": \"scatterpolar\"}], \"scatterpolargl\": [{\"marker\": {\"colorbar\": {\"outlinewidth\": 0, \"ticks\": \"\"}}, \"type\": \"scatterpolargl\"}], \"scatterternary\": [{\"marker\": {\"colorbar\": {\"outlinewidth\": 0, \"ticks\": \"\"}}, \"type\": \"scatterternary\"}], \"surface\": [{\"colorbar\": {\"outlinewidth\": 0, \"ticks\": \"\"}, \"colorscale\": [[0.0, \"#0d0887\"], [0.1111111111111111, \"#46039f\"], [0.2222222222222222, \"#7201a8\"], [0.3333333333333333, \"#9c179e\"], [0.4444444444444444, \"#bd3786\"], [0.5555555555555556, \"#d8576b\"], [0.6666666666666666, \"#ed7953\"], [0.7777777777777778, \"#fb9f3a\"], [0.8888888888888888, \"#fdca26\"], [1.0, \"#f0f921\"]], \"type\": \"surface\"}], \"table\": [{\"cells\": {\"fill\": {\"color\": \"#EBF0F8\"}, \"line\": {\"color\": \"white\"}}, \"header\": {\"fill\": {\"color\": \"#C8D4E3\"}, \"line\": {\"color\": \"white\"}}, \"type\": \"table\"}]}, \"layout\": {\"annotationdefaults\": {\"arrowcolor\": \"#2a3f5f\", \"arrowhead\": 0, \"arrowwidth\": 1}, \"colorscale\": {\"diverging\": [[0, \"#8e0152\"], [0.1, \"#c51b7d\"], [0.2, \"#de77ae\"], [0.3, \"#f1b6da\"], [0.4, \"#fde0ef\"], [0.5, \"#f7f7f7\"], [0.6, \"#e6f5d0\"], [0.7, \"#b8e186\"], [0.8, \"#7fbc41\"], [0.9, \"#4d9221\"], [1, \"#276419\"]], \"sequential\": [[0.0, \"#0d0887\"], [0.1111111111111111, \"#46039f\"], [0.2222222222222222, \"#7201a8\"], [0.3333333333333333, \"#9c179e\"], [0.4444444444444444, \"#bd3786\"], [0.5555555555555556, \"#d8576b\"], [0.6666666666666666, \"#ed7953\"], [0.7777777777777778, \"#fb9f3a\"], [0.8888888888888888, \"#fdca26\"], [1.0, \"#f0f921\"]], \"sequentialminus\": [[0.0, \"#0d0887\"], [0.1111111111111111, \"#46039f\"], [0.2222222222222222, \"#7201a8\"], [0.3333333333333333, \"#9c179e\"], [0.4444444444444444, \"#bd3786\"], [0.5555555555555556, \"#d8576b\"], [0.6666666666666666, \"#ed7953\"], [0.7777777777777778, \"#fb9f3a\"], [0.8888888888888888, \"#fdca26\"], [1.0, \"#f0f921\"]]}, \"colorway\": [\"#636efa\", \"#EF553B\", \"#00cc96\", \"#ab63fa\", \"#FFA15A\", \"#19d3f3\", \"#FF6692\", \"#B6E880\", \"#FF97FF\", \"#FECB52\"], \"font\": {\"color\": \"#2a3f5f\"}, \"geo\": {\"bgcolor\": \"white\", \"lakecolor\": \"white\", \"landcolor\": \"#E5ECF6\", \"showlakes\": true, \"showland\": true, \"subunitcolor\": \"white\"}, \"hoverlabel\": {\"align\": \"left\"}, \"hovermode\": \"closest\", \"mapbox\": {\"style\": \"light\"}, \"paper_bgcolor\": \"white\", \"plot_bgcolor\": \"#E5ECF6\", \"polar\": {\"angularaxis\": {\"gridcolor\": \"white\", \"linecolor\": \"white\", \"ticks\": \"\"}, \"bgcolor\": \"#E5ECF6\", \"radialaxis\": {\"gridcolor\": \"white\", \"linecolor\": \"white\", \"ticks\": \"\"}}, \"scene\": {\"xaxis\": {\"backgroundcolor\": \"#E5ECF6\", \"gridcolor\": \"white\", \"gridwidth\": 2, \"linecolor\": \"white\", \"showbackground\": true, \"ticks\": \"\", \"zerolinecolor\": \"white\"}, \"yaxis\": {\"backgroundcolor\": \"#E5ECF6\", \"gridcolor\": \"white\", \"gridwidth\": 2, \"linecolor\": \"white\", \"showbackground\": true, \"ticks\": \"\", \"zerolinecolor\": \"white\"}, \"zaxis\": {\"backgroundcolor\": \"#E5ECF6\", \"gridcolor\": \"white\", \"gridwidth\": 2, \"linecolor\": \"white\", \"showbackground\": true, \"ticks\": \"\", \"zerolinecolor\": \"white\"}}, \"shapedefaults\": {\"line\": {\"color\": \"#2a3f5f\"}}, \"ternary\": {\"aaxis\": {\"gridcolor\": \"white\", \"linecolor\": \"white\", \"ticks\": \"\"}, \"baxis\": {\"gridcolor\": \"white\", \"linecolor\": \"white\", \"ticks\": \"\"}, \"bgcolor\": \"#E5ECF6\", \"caxis\": {\"gridcolor\": \"white\", \"linecolor\": \"white\", \"ticks\": \"\"}}, \"title\": {\"x\": 0.05}, \"xaxis\": {\"automargin\": true, \"gridcolor\": \"white\", \"linecolor\": \"white\", \"ticks\": \"\", \"zerolinecolor\": \"white\", \"zerolinewidth\": 2}, \"yaxis\": {\"automargin\": true, \"gridcolor\": \"white\", \"linecolor\": \"white\", \"ticks\": \"\", \"zerolinecolor\": \"white\", \"zerolinewidth\": 2}}}, \"xaxis\": {\"anchor\": \"y\", \"domain\": [0.0, 0.98], \"title\": {\"text\": \"CD8_log\"}}, \"yaxis\": {\"anchor\": \"x\", \"domain\": [0.0, 1.0], \"title\": {\"text\": \"count\"}}},\n",
              "                        {\"responsive\": true}\n",
              "                    ).then(function(){\n",
              "                            \n",
              "var gd = document.getElementById('e2d4000f-cfe4-4d30-9e7a-e620d471a3d0');\n",
              "var x = new MutationObserver(function (mutations, observer) {{\n",
              "        var display = window.getComputedStyle(gd).display;\n",
              "        if (!display || display === 'none') {{\n",
              "            console.log([gd, 'removed!']);\n",
              "            Plotly.purge(gd);\n",
              "            observer.disconnect();\n",
              "        }}\n",
              "}});\n",
              "\n",
              "// Listen for the removal of the full notebook cells\n",
              "var notebookContainer = gd.closest('#notebook-container');\n",
              "if (notebookContainer) {{\n",
              "    x.observe(notebookContainer, {childList: true});\n",
              "}}\n",
              "\n",
              "// Listen for the clearing of the current output cell\n",
              "var outputEl = gd.closest('.output');\n",
              "if (outputEl) {{\n",
              "    x.observe(outputEl, {childList: true});\n",
              "}}\n",
              "\n",
              "                        })\n",
              "                };\n",
              "                \n",
              "            </script>\n",
              "        </div>\n",
              "</body>\n",
              "</html>"
            ]
          },
          "metadata": {
            "tags": []
          }
        }
      ]
    },
    {
      "cell_type": "code",
      "metadata": {
        "id": "2x4iDEbhPlqE",
        "colab_type": "code",
        "colab": {}
      },
      "source": [
        "from sklearn.preprocessing import MinMaxScaler\n",
        "\n",
        "sc = MinMaxScaler()"
      ],
      "execution_count": 0,
      "outputs": []
    },
    {
      "cell_type": "code",
      "metadata": {
        "id": "m36heL2WQnY8",
        "colab_type": "code",
        "colab": {}
      },
      "source": [
        "mm = sc.fit_transform(df[['CD8_log', 'Fibrosis_central']])"
      ],
      "execution_count": 0,
      "outputs": []
    },
    {
      "cell_type": "code",
      "metadata": {
        "id": "aOjLLdYJQyoc",
        "colab_type": "code",
        "colab": {}
      },
      "source": [
        "mm = pd.DataFrame(mm, columns = ['CD8_log_minmax', 'Fib_minmax'])\n",
        "mm['y'] = df['y'].reset_index(drop=True)"
      ],
      "execution_count": 0,
      "outputs": []
    },
    {
      "cell_type": "code",
      "metadata": {
        "id": "DaJ0b4PfStB-",
        "colab_type": "code",
        "outputId": "c8ba8cd4-f46f-4cea-eb52-25f6e37c7a59",
        "colab": {
          "base_uri": "https://localhost:8080/",
          "height": 617
        }
      },
      "source": [
        "fig_cd8_mm = px.histogram(mm, x=\"CD8_log_minmax\", color=\"y\")\n",
        "fig_cd8_mm.show()"
      ],
      "execution_count": 0,
      "outputs": [
        {
          "output_type": "display_data",
          "data": {
            "text/html": [
              "<html>\n",
              "<head><meta charset=\"utf-8\" /></head>\n",
              "<body>\n",
              "    <div>\n",
              "            <script src=\"https://cdnjs.cloudflare.com/ajax/libs/mathjax/2.7.5/MathJax.js?config=TeX-AMS-MML_SVG\"></script><script type=\"text/javascript\">if (window.MathJax) {MathJax.Hub.Config({SVG: {font: \"STIX-Web\"}});}</script>\n",
              "                <script type=\"text/javascript\">window.PlotlyConfig = {MathJaxConfig: 'local'};</script>\n",
              "        <script src=\"https://cdn.plot.ly/plotly-latest.min.js\"></script>    \n",
              "            <div id=\"05e200fb-f4c5-400f-a405-c1a7a27a6e76\" class=\"plotly-graph-div\" style=\"height:600px; width:100%;\"></div>\n",
              "            <script type=\"text/javascript\">\n",
              "                \n",
              "                    window.PLOTLYENV=window.PLOTLYENV || {};\n",
              "                    \n",
              "                if (document.getElementById(\"05e200fb-f4c5-400f-a405-c1a7a27a6e76\")) {\n",
              "                    Plotly.newPlot(\n",
              "                        '05e200fb-f4c5-400f-a405-c1a7a27a6e76',\n",
              "                        [{\"alignmentgroup\": \"True\", \"bingroup\": \"x\", \"hoverlabel\": {\"namelength\": 0}, \"hovertemplate\": \"y=1<br>CD8_log_minmax=%{x}<br>count=%{y}\", \"legendgroup\": \"y=1\", \"marker\": {\"color\": \"#636efa\"}, \"name\": \"y=1\", \"offsetgroup\": \"y=1\", \"orientation\": \"v\", \"showlegend\": true, \"type\": \"histogram\", \"x\": [0.6612778236153589, 0.7454714379620283, 0.7608851434812287, 0.8829203881955205, 0.44340539679225754, 0.684648103879379, 0.8364801685400179, 0.46175913677913727, 0.7716862088976356, 0.5768837214660166, 0.30992707211849835, 0.0, 0.5952374614528965, 0.6733172760461289, 0.40043497402127737, 0.0, 0.13347832467375914, 0.8906241561570896, 0.0, 0.6484351645265896, 0.3450364639407508, 0.40043497402127737, 0.0, 0.0, 0.0, 0.3450364639407508, 0.0, 0.7054866334007021, 0.9912453780414208, 0.21155813926699168, 0.8621941108004147, 0.8887269140412953, 0.5768837214660166, 0.13347832467375914, 0.0, 0.0, 0.9543362673525201, 0.0, 0.797837310294864, 0.0, 0.42311627853398337, 0.9266752051959533, 0.0, 0.0, 0.8096914224639032, 0.13347832467375914, 0.0, 0.9373338909259679, 0.0, 0.7197574957016315, 0.8389649580744613, 0.8038555662522088, 0.8509295830253417, 0.0, 0.21155813926699168, 0.7716862088976356, 0.8980315508134118, 0.0, 0.634674417800975, 0.5862791710278723, 0.0, 0.5768837214660166, 0.0, 0.7608851434812287, 0.7330433506524817, 0.0, 0.0, 0.6549635360592492, 0.6549635360592492, 0.8389649580744613, 0.6612778236153589, 0.5339132986950366, 0.0, 0.0, 0.0, 0.7287157861266556, 0.4939284941337104, 0.6673916233687957, 0.5952374614528965, 0.0, 0.8829203881955205, 0.0, 0.9153918138741078, 0.0, 0.6416776811083988, 0.6119931132882691, 0.0, 0.8829203881955205, 0.0, 0.21155813926699168, 0.0, 0.0, 0.5768837214660166, 0.7608851434812287, 0.5862791710278723, 0.6274068188074696, 0.3747210317608806, 0.0, 0.0, 0.2669566493475183, 0.5565946032077425, 0.5768837214660166, 0.0, 0.0, 0.8599933037935812, 0.6612778236153589, 0.5214852113854901, 0.7151170659289617, 0.8848754153131206, 0.0, 0.8389649580744613, 0.6953491077102282, 0.0, 0.6119931132882691, 0.0, 0.5862791710278723, 0.46175913677913727, 0.7494420635217612, 0.7716862088976356, 0.6198541442369967, 0.40043497402127737, 0.13347832467375914, 0.0, 0.7645532261396527, 0.0, 0.0, 0.6549635360592492, 0.8181264285531382, 0.0, 0.47851478861450997, 0.8962062431463707, 0.21155813926699168, 0.5214852113854901, 0.0, 0.684648103879379, 0.0, 0.6549635360592492, 0.0, 0.0, 0.9388095189671012, 0.684648103879379, 0.6673916233687957, 0.0, 0.7197574957016315, 0.2669566493475183, 0.0, 0.5455876922163388, 0.0, 0.0, 0.0, 0.8389649580744613, 0.0, 0.8621941108004147, 0.7608851434812287, 0.8621941108004147, 0.684648103879379, 0.9282344729628772, 0.7785643870970089, 0.30992707211849835, 0.6900729278815017, 0.21155813926699168, 0.5768837214660166, 0.0, 0.0, 0.0, 0.7916248838980048, 0.3450364639407508, 0.8962062431463707, 0.7151170659289617, 0.5214852113854901, 0.7372757961262021, 0.5081993564346398, 0.7819134892003486, 0.8485953906027208, 0.0, 0.7197574957016315, 0.0, 0.0, 0.13347832467375914, 0.0, 0.0, 0.13347832467375914, 0.0, 0.6037974714524429, 0.0, 0.0, 0.5455876922163388, 0.21155813926699168, 0.8125443415638571, 1.0, 0.0, 0.7751560057821582, 0.0, 0.0, 0.6673916233687957, 0.0, 0.2669566493475183, 0.21155813926699168, 0.0, 0.0, 0.0, 0.0, 0.21155813926699168, 0.0, 0.0, 0.6673916233687957, 0.5768837214660166, 0.0, 0.0, 0.8599933037935812, 0.8125443415638571, 0.13347832467375914, 0.6549635360592492, 0.5214852113854901, 0.8153556107194346, 0.6198541442369967, 0.634674417800975, 0.9266752051959533, 0.8887269140412953, 0.0, 0.0, 0.8555147643348372, 0.9051645335713948, 0.8577670533676617, 0.0, 0.0, 0.6733172760461289, 0.0, 0.0, 0.0, 0.0, 0.0, 0.40043497402127737, 0.6416776811083988, 0.0, 0.5081993564346398, 0.9474334309141641, 0.8485953906027208, 0.0, 0.0, 0.0, 0.4939284941337104, 0.0, 0.7330433506524817, 0.0, 0.13347832467375914, 0.42311627853398337, 0.44340539679225754, 0.0, 0.0, 0.5081993564346398, 0.13347832467375914, 0.46175913677913727, 0.0, 0.0, 0.42311627853398337, 0.0, 0.8235512525552607, 0.6274068188074696, 0.21155813926699168, 0.0, 0.0, 0.5081993564346398, 0.21155813926699168, 0.0], \"xaxis\": \"x\", \"yaxis\": \"y\"}, {\"alignmentgroup\": \"True\", \"bingroup\": \"x\", \"hoverlabel\": {\"namelength\": 0}, \"hovertemplate\": \"y=0<br>CD8_log_minmax=%{x}<br>count=%{y}\", \"legendgroup\": \"y=0\", \"marker\": {\"color\": \"#EF553B\"}, \"name\": \"y=0\", \"offsetgroup\": \"y=0\", \"orientation\": \"v\", \"showlegend\": true, \"type\": \"histogram\", \"x\": [0.0, 0.0, 0.0, 0.8906241561570896, 0.47851478861450997, 0.7197574957016315, 0.0, 0.7533324689107558, 0.0, 0.13347832467375914, 0.40043497402127737, 0.7751560057821582, 0.7330433506524817, 0.0, 0.8262074121437948, 0.5952374614528965, 0.0, 0.7785643870970089, 0.40043497402127737, 0.0, 0.0, 0.0, 0.0, 0.0, 0.7242887286939026, 0.0, 0.30992707211849835, 0.0, 0.0, 0.30992707211849835, 0.0, 0.2669566493475183, 0.0, 0.0, 0.7242887286939026, 0.0, 0.9282344729628772, 0.9748964180511348, 0.7947561482891181, 0.6037974714524429, 0.46175913677913727, 0.6198541442369967, 0.0, 0.2669566493475183, 0.0, 0.0, 0.0, 0.5455876922163388, 0.7608851434812287, 0.46175913677913727, 0.13347832467375914, 0.8998397191882808, 0.0, 0.6198541442369967, 0.0, 0.46175913677913727, 0.0, 0.0, 0.684648103879379, 0.0, 0.0, 0.13347832467375914, 0.8389649580744613, 0.5214852113854901, 0.0, 0.0, 0.44340539679225754, 0.13347832467375914, 0.7242887286939026, 0.8181264285531382, 0.5565946032077425, 0.0, 0.8414180933773756, 0.0, 0.0, 0.3450364639407508, 0.0, 0.0, 0.5455876922163388, 0.0, 0.6037974714524429, 0.5565946032077425, 0.8829203881955205, 0.0, 0.5455876922163388, 0.0, 0.0, 0.0, 0.8389649580744613, 0.0, 0.0, 0.44340539679225754, 0.0, 0.7372757961262021, 0.6549635360592492, 0.44340539679225754, 0.3747210317608806, 0.8181264285531382, 0.6790660168900979, 0.8599933037935812, 0.0, 0.5081993564346398, 0.7004845725037764, 0.0, 0.5952374614528965, 0.0, 0.8389649580744613, 0.0, 0.4939284941337104, 0.0, 0.46175913677913727, 0.0, 0.0, 0.0, 0.0, 0.46175913677913727, 0.8364801685400179, 0.0, 0.0, 0.6037974714524429, 0.0, 0.13347832467375914, 0.6673916233687957, 0.6119931132882691, 0.44340539679225754, 0.3450364639407508, 0.21155813926699168, 0.3747210317608806, 0.0, 0.0, 0.21155813926699168, 0.0, 0.44340539679225754, 0.0, 0.0, 0.0, 0.0, 0.9186836635563115, 0.0, 0.0, 0.0, 0.4939284941337104, 0.0, 0.3450364639407508, 0.0, 0.21155813926699168, 0.0, 0.7751560057821582, 0.0, 0.0, 0.9808959225096504, 0.0, 0.0, 0.0, 0.0, 0.0, 0.13347832467375914, 0.0, 0.0, 0.0, 0.0, 0.5339132986950366, 0.3450364639407508, 0.0, 0.0, 0.0, 0.8364801685400179, 0.40043497402127737, 0.3450364639407508, 0.6416776811083988, 0.0, 0.13347832467375914, 0.3450364639407508, 0.13347832467375914, 0.44340539679225754, 0.44340539679225754, 0.0, 0.13347832467375914, 0.5768837214660166, 0.30992707211849835, 0.2669566493475183, 0.46175913677913727, 0.0, 0.0, 0.5862791710278723, 0.3747210317608806, 0.0, 0.13347832467375914, 0.21155813926699168, 0.0, 0.7004845725037764, 0.5862791710278723], \"xaxis\": \"x\", \"yaxis\": \"y\"}],\n",
              "                        {\"barmode\": \"relative\", \"height\": 600, \"legend\": {\"tracegroupgap\": 0}, \"margin\": {\"t\": 60}, \"template\": {\"data\": {\"bar\": [{\"error_x\": {\"color\": \"#2a3f5f\"}, \"error_y\": {\"color\": \"#2a3f5f\"}, \"marker\": {\"line\": {\"color\": \"#E5ECF6\", \"width\": 0.5}}, \"type\": \"bar\"}], \"barpolar\": [{\"marker\": {\"line\": {\"color\": \"#E5ECF6\", \"width\": 0.5}}, \"type\": \"barpolar\"}], \"carpet\": [{\"aaxis\": {\"endlinecolor\": \"#2a3f5f\", \"gridcolor\": \"white\", \"linecolor\": \"white\", \"minorgridcolor\": \"white\", \"startlinecolor\": \"#2a3f5f\"}, \"baxis\": {\"endlinecolor\": \"#2a3f5f\", \"gridcolor\": \"white\", \"linecolor\": \"white\", \"minorgridcolor\": \"white\", \"startlinecolor\": \"#2a3f5f\"}, \"type\": \"carpet\"}], \"choropleth\": [{\"colorbar\": {\"outlinewidth\": 0, \"ticks\": \"\"}, \"type\": \"choropleth\"}], \"contour\": [{\"colorbar\": {\"outlinewidth\": 0, \"ticks\": \"\"}, \"colorscale\": [[0.0, \"#0d0887\"], [0.1111111111111111, \"#46039f\"], [0.2222222222222222, \"#7201a8\"], [0.3333333333333333, \"#9c179e\"], [0.4444444444444444, \"#bd3786\"], [0.5555555555555556, \"#d8576b\"], [0.6666666666666666, \"#ed7953\"], [0.7777777777777778, \"#fb9f3a\"], [0.8888888888888888, \"#fdca26\"], [1.0, \"#f0f921\"]], \"type\": \"contour\"}], \"contourcarpet\": [{\"colorbar\": {\"outlinewidth\": 0, \"ticks\": \"\"}, \"type\": \"contourcarpet\"}], \"heatmap\": [{\"colorbar\": {\"outlinewidth\": 0, \"ticks\": \"\"}, \"colorscale\": [[0.0, \"#0d0887\"], [0.1111111111111111, \"#46039f\"], [0.2222222222222222, \"#7201a8\"], [0.3333333333333333, \"#9c179e\"], [0.4444444444444444, \"#bd3786\"], [0.5555555555555556, \"#d8576b\"], [0.6666666666666666, \"#ed7953\"], [0.7777777777777778, \"#fb9f3a\"], [0.8888888888888888, \"#fdca26\"], [1.0, \"#f0f921\"]], \"type\": \"heatmap\"}], \"heatmapgl\": [{\"colorbar\": {\"outlinewidth\": 0, \"ticks\": \"\"}, \"colorscale\": [[0.0, \"#0d0887\"], [0.1111111111111111, \"#46039f\"], [0.2222222222222222, \"#7201a8\"], [0.3333333333333333, \"#9c179e\"], [0.4444444444444444, \"#bd3786\"], [0.5555555555555556, \"#d8576b\"], [0.6666666666666666, \"#ed7953\"], [0.7777777777777778, \"#fb9f3a\"], [0.8888888888888888, \"#fdca26\"], [1.0, \"#f0f921\"]], \"type\": \"heatmapgl\"}], \"histogram\": [{\"marker\": {\"colorbar\": {\"outlinewidth\": 0, \"ticks\": \"\"}}, \"type\": \"histogram\"}], \"histogram2d\": [{\"colorbar\": {\"outlinewidth\": 0, \"ticks\": \"\"}, \"colorscale\": [[0.0, \"#0d0887\"], [0.1111111111111111, \"#46039f\"], [0.2222222222222222, \"#7201a8\"], [0.3333333333333333, \"#9c179e\"], [0.4444444444444444, \"#bd3786\"], [0.5555555555555556, \"#d8576b\"], [0.6666666666666666, \"#ed7953\"], [0.7777777777777778, \"#fb9f3a\"], [0.8888888888888888, \"#fdca26\"], [1.0, \"#f0f921\"]], \"type\": \"histogram2d\"}], \"histogram2dcontour\": [{\"colorbar\": {\"outlinewidth\": 0, \"ticks\": \"\"}, \"colorscale\": [[0.0, \"#0d0887\"], [0.1111111111111111, \"#46039f\"], [0.2222222222222222, \"#7201a8\"], [0.3333333333333333, \"#9c179e\"], [0.4444444444444444, \"#bd3786\"], [0.5555555555555556, \"#d8576b\"], [0.6666666666666666, \"#ed7953\"], [0.7777777777777778, \"#fb9f3a\"], [0.8888888888888888, \"#fdca26\"], [1.0, \"#f0f921\"]], \"type\": \"histogram2dcontour\"}], \"mesh3d\": [{\"colorbar\": {\"outlinewidth\": 0, \"ticks\": \"\"}, \"type\": \"mesh3d\"}], \"parcoords\": [{\"line\": {\"colorbar\": {\"outlinewidth\": 0, \"ticks\": \"\"}}, \"type\": \"parcoords\"}], \"scatter\": [{\"marker\": {\"colorbar\": {\"outlinewidth\": 0, \"ticks\": \"\"}}, \"type\": \"scatter\"}], \"scatter3d\": [{\"line\": {\"colorbar\": {\"outlinewidth\": 0, \"ticks\": \"\"}}, \"marker\": {\"colorbar\": {\"outlinewidth\": 0, \"ticks\": \"\"}}, \"type\": \"scatter3d\"}], \"scattercarpet\": [{\"marker\": {\"colorbar\": {\"outlinewidth\": 0, \"ticks\": \"\"}}, \"type\": \"scattercarpet\"}], \"scattergeo\": [{\"marker\": {\"colorbar\": {\"outlinewidth\": 0, \"ticks\": \"\"}}, \"type\": \"scattergeo\"}], \"scattergl\": [{\"marker\": {\"colorbar\": {\"outlinewidth\": 0, \"ticks\": \"\"}}, \"type\": \"scattergl\"}], \"scattermapbox\": [{\"marker\": {\"colorbar\": {\"outlinewidth\": 0, \"ticks\": \"\"}}, \"type\": \"scattermapbox\"}], \"scatterpolar\": [{\"marker\": {\"colorbar\": {\"outlinewidth\": 0, \"ticks\": \"\"}}, \"type\": \"scatterpolar\"}], \"scatterpolargl\": [{\"marker\": {\"colorbar\": {\"outlinewidth\": 0, \"ticks\": \"\"}}, \"type\": \"scatterpolargl\"}], \"scatterternary\": [{\"marker\": {\"colorbar\": {\"outlinewidth\": 0, \"ticks\": \"\"}}, \"type\": \"scatterternary\"}], \"surface\": [{\"colorbar\": {\"outlinewidth\": 0, \"ticks\": \"\"}, \"colorscale\": [[0.0, \"#0d0887\"], [0.1111111111111111, \"#46039f\"], [0.2222222222222222, \"#7201a8\"], [0.3333333333333333, \"#9c179e\"], [0.4444444444444444, \"#bd3786\"], [0.5555555555555556, \"#d8576b\"], [0.6666666666666666, \"#ed7953\"], [0.7777777777777778, \"#fb9f3a\"], [0.8888888888888888, \"#fdca26\"], [1.0, \"#f0f921\"]], \"type\": \"surface\"}], \"table\": [{\"cells\": {\"fill\": {\"color\": \"#EBF0F8\"}, \"line\": {\"color\": \"white\"}}, \"header\": {\"fill\": {\"color\": \"#C8D4E3\"}, \"line\": {\"color\": \"white\"}}, \"type\": \"table\"}]}, \"layout\": {\"annotationdefaults\": {\"arrowcolor\": \"#2a3f5f\", \"arrowhead\": 0, \"arrowwidth\": 1}, \"colorscale\": {\"diverging\": [[0, \"#8e0152\"], [0.1, \"#c51b7d\"], [0.2, \"#de77ae\"], [0.3, \"#f1b6da\"], [0.4, \"#fde0ef\"], [0.5, \"#f7f7f7\"], [0.6, \"#e6f5d0\"], [0.7, \"#b8e186\"], [0.8, \"#7fbc41\"], [0.9, \"#4d9221\"], [1, \"#276419\"]], \"sequential\": [[0.0, \"#0d0887\"], [0.1111111111111111, \"#46039f\"], [0.2222222222222222, \"#7201a8\"], [0.3333333333333333, \"#9c179e\"], [0.4444444444444444, \"#bd3786\"], [0.5555555555555556, \"#d8576b\"], [0.6666666666666666, \"#ed7953\"], [0.7777777777777778, \"#fb9f3a\"], [0.8888888888888888, \"#fdca26\"], [1.0, \"#f0f921\"]], \"sequentialminus\": [[0.0, \"#0d0887\"], [0.1111111111111111, \"#46039f\"], [0.2222222222222222, \"#7201a8\"], [0.3333333333333333, \"#9c179e\"], [0.4444444444444444, \"#bd3786\"], [0.5555555555555556, \"#d8576b\"], [0.6666666666666666, \"#ed7953\"], [0.7777777777777778, \"#fb9f3a\"], [0.8888888888888888, \"#fdca26\"], [1.0, \"#f0f921\"]]}, \"colorway\": [\"#636efa\", \"#EF553B\", \"#00cc96\", \"#ab63fa\", \"#FFA15A\", \"#19d3f3\", \"#FF6692\", \"#B6E880\", \"#FF97FF\", \"#FECB52\"], \"font\": {\"color\": \"#2a3f5f\"}, \"geo\": {\"bgcolor\": \"white\", \"lakecolor\": \"white\", \"landcolor\": \"#E5ECF6\", \"showlakes\": true, \"showland\": true, \"subunitcolor\": \"white\"}, \"hoverlabel\": {\"align\": \"left\"}, \"hovermode\": \"closest\", \"mapbox\": {\"style\": \"light\"}, \"paper_bgcolor\": \"white\", \"plot_bgcolor\": \"#E5ECF6\", \"polar\": {\"angularaxis\": {\"gridcolor\": \"white\", \"linecolor\": \"white\", \"ticks\": \"\"}, \"bgcolor\": \"#E5ECF6\", \"radialaxis\": {\"gridcolor\": \"white\", \"linecolor\": \"white\", \"ticks\": \"\"}}, \"scene\": {\"xaxis\": {\"backgroundcolor\": \"#E5ECF6\", \"gridcolor\": \"white\", \"gridwidth\": 2, \"linecolor\": \"white\", \"showbackground\": true, \"ticks\": \"\", \"zerolinecolor\": \"white\"}, \"yaxis\": {\"backgroundcolor\": \"#E5ECF6\", \"gridcolor\": \"white\", \"gridwidth\": 2, \"linecolor\": \"white\", \"showbackground\": true, \"ticks\": \"\", \"zerolinecolor\": \"white\"}, \"zaxis\": {\"backgroundcolor\": \"#E5ECF6\", \"gridcolor\": \"white\", \"gridwidth\": 2, \"linecolor\": \"white\", \"showbackground\": true, \"ticks\": \"\", \"zerolinecolor\": \"white\"}}, \"shapedefaults\": {\"line\": {\"color\": \"#2a3f5f\"}}, \"ternary\": {\"aaxis\": {\"gridcolor\": \"white\", \"linecolor\": \"white\", \"ticks\": \"\"}, \"baxis\": {\"gridcolor\": \"white\", \"linecolor\": \"white\", \"ticks\": \"\"}, \"bgcolor\": \"#E5ECF6\", \"caxis\": {\"gridcolor\": \"white\", \"linecolor\": \"white\", \"ticks\": \"\"}}, \"title\": {\"x\": 0.05}, \"xaxis\": {\"automargin\": true, \"gridcolor\": \"white\", \"linecolor\": \"white\", \"ticks\": \"\", \"zerolinecolor\": \"white\", \"zerolinewidth\": 2}, \"yaxis\": {\"automargin\": true, \"gridcolor\": \"white\", \"linecolor\": \"white\", \"ticks\": \"\", \"zerolinecolor\": \"white\", \"zerolinewidth\": 2}}}, \"xaxis\": {\"anchor\": \"y\", \"domain\": [0.0, 0.98], \"title\": {\"text\": \"CD8_log_minmax\"}}, \"yaxis\": {\"anchor\": \"x\", \"domain\": [0.0, 1.0], \"title\": {\"text\": \"count\"}}},\n",
              "                        {\"responsive\": true}\n",
              "                    ).then(function(){\n",
              "                            \n",
              "var gd = document.getElementById('05e200fb-f4c5-400f-a405-c1a7a27a6e76');\n",
              "var x = new MutationObserver(function (mutations, observer) {{\n",
              "        var display = window.getComputedStyle(gd).display;\n",
              "        if (!display || display === 'none') {{\n",
              "            console.log([gd, 'removed!']);\n",
              "            Plotly.purge(gd);\n",
              "            observer.disconnect();\n",
              "        }}\n",
              "}});\n",
              "\n",
              "// Listen for the removal of the full notebook cells\n",
              "var notebookContainer = gd.closest('#notebook-container');\n",
              "if (notebookContainer) {{\n",
              "    x.observe(notebookContainer, {childList: true});\n",
              "}}\n",
              "\n",
              "// Listen for the clearing of the current output cell\n",
              "var outputEl = gd.closest('.output');\n",
              "if (outputEl) {{\n",
              "    x.observe(outputEl, {childList: true});\n",
              "}}\n",
              "\n",
              "                        })\n",
              "                };\n",
              "                \n",
              "            </script>\n",
              "        </div>\n",
              "</body>\n",
              "</html>"
            ]
          },
          "metadata": {
            "tags": []
          }
        }
      ]
    },
    {
      "cell_type": "code",
      "metadata": {
        "id": "QF7IxNLqTDYD",
        "colab_type": "code",
        "outputId": "fb385c6c-970a-4963-c439-91167a8cbde3",
        "colab": {
          "base_uri": "https://localhost:8080/",
          "height": 617
        }
      },
      "source": [
        "fig_fib_mm = px.histogram(mm, x=\"Fib_minmax\", color=\"y\")\n",
        "fig_fib_mm.show()"
      ],
      "execution_count": 0,
      "outputs": [
        {
          "output_type": "display_data",
          "data": {
            "text/html": [
              "<html>\n",
              "<head><meta charset=\"utf-8\" /></head>\n",
              "<body>\n",
              "    <div>\n",
              "            <script src=\"https://cdnjs.cloudflare.com/ajax/libs/mathjax/2.7.5/MathJax.js?config=TeX-AMS-MML_SVG\"></script><script type=\"text/javascript\">if (window.MathJax) {MathJax.Hub.Config({SVG: {font: \"STIX-Web\"}});}</script>\n",
              "                <script type=\"text/javascript\">window.PlotlyConfig = {MathJaxConfig: 'local'};</script>\n",
              "        <script src=\"https://cdn.plot.ly/plotly-latest.min.js\"></script>    \n",
              "            <div id=\"29c2f0fd-0007-433b-9c32-18029e1a4f19\" class=\"plotly-graph-div\" style=\"height:600px; width:100%;\"></div>\n",
              "            <script type=\"text/javascript\">\n",
              "                \n",
              "                    window.PLOTLYENV=window.PLOTLYENV || {};\n",
              "                    \n",
              "                if (document.getElementById(\"29c2f0fd-0007-433b-9c32-18029e1a4f19\")) {\n",
              "                    Plotly.newPlot(\n",
              "                        '29c2f0fd-0007-433b-9c32-18029e1a4f19',\n",
              "                        [{\"alignmentgroup\": \"True\", \"bingroup\": \"x\", \"hoverlabel\": {\"namelength\": 0}, \"hovertemplate\": \"y=1<br>Fib_minmax=%{x}<br>count=%{y}\", \"legendgroup\": \"y=1\", \"marker\": {\"color\": \"#636efa\"}, \"name\": \"y=1\", \"offsetgroup\": \"y=1\", \"orientation\": \"v\", \"showlegend\": true, \"type\": \"histogram\", \"x\": [0.03508771929824561, 0.03508771929824561, 0.03508771929824561, 0.03508771929824561, 0.052631578947368425, 0.2105263157894737, 0.03508771929824561, 0.3508771929824561, 0.3859649122807018, 0.10526315789473685, 0.3508771929824561, 0.4210526315789474, 0.017543859649122806, 0.8421052631578948, 0.052631578947368425, 0.5263157894736842, 0.052631578947368425, 0.03508771929824561, 0.5263157894736842, 0.10526315789473685, 0.052631578947368425, 0.052631578947368425, 0.5263157894736842, 0.5263157894736842, 0.052631578947368425, 0.052631578947368425, 0.17543859649122806, 0.2105263157894737, 0.052631578947368425, 0.07017543859649122, 0.10526315789473685, 0.10526315789473685, 0.017543859649122806, 0.6842105263157895, 0.07017543859649122, 0.5263157894736842, 0.03508771929824561, 0.3859649122807018, 0.10526315789473685, 0.10526315789473685, 0.052631578947368425, 0.5263157894736842, 0.5263157894736842, 0.5263157894736842, 0.5263157894736842, 0.15789473684210525, 0.7894736842105263, 0.07017543859649122, 0.5964912280701754, 0.4210526315789474, 0.2456140350877193, 0.03508771929824561, 0.052631578947368425, 0.631578947368421, 0.10526315789473685, 0.10526315789473685, 0.7368421052631579, 0.8421052631578948, 0.07017543859649122, 0.017543859649122806, 0.7894736842105263, 0.07017543859649122, 0.9473684210526316, 0.2105263157894737, 0.4210526315789474, 0.8421052631578948, 0.2105263157894737, 0.7894736842105263, 0.8421052631578948, 0.3508771929824561, 0.07017543859649122, 0.03508771929824561, 0.5964912280701754, 0.4210526315789474, 0.631578947368421, 0.631578947368421, 0.2105263157894737, 1.0, 0.03508771929824561, 0.631578947368421, 0.3157894736842105, 0.14035087719298245, 0.03508771929824561, 0.5263157894736842, 0.456140350877193, 0.5263157894736842, 0.03508771929824561, 0.5263157894736842, 0.10526315789473685, 0.10526315789473685, 0.9473684210526316, 0.4210526315789474, 0.631578947368421, 0.5263157894736842, 0.021052631578947368, 0.10526315789473685, 0.017543859649122806, 0.9473684210526316, 0.07017543859649122, 0.5263157894736842, 0.4210526315789474, 0.10526315789473685, 0.5263157894736842, 0.9473684210526316, 0.4210526315789474, 0.4210526315789474, 0.5263157894736842, 0.9473684210526316, 0.3157894736842105, 0.7894736842105263, 0.03508771929824561, 0.5263157894736842, 0.10526315789473685, 0.052631578947368425, 0.8421052631578948, 0.3684210526315789, 0.5263157894736842, 0.052631578947368425, 0.8947368421052632, 0.8421052631578948, 0.03508771929824561, 0.052631578947368425, 0.10526315789473685, 0.052631578947368425, 0.5263157894736842, 0.052631578947368425, 0.2105263157894737, 0.9473684210526316, 0.03508771929824561, 0.07017543859649122, 0.03508771929824561, 0.2105263157894737, 0.07017543859649122, 0.5263157894736842, 0.03508771929824561, 0.052631578947368425, 0.03508771929824561, 0.3157894736842105, 0.052631578947368425, 0.631578947368421, 0.07017543859649122, 0.07017543859649122, 0.7894736842105263, 0.2105263157894737, 0.07017543859649122, 0.10526315789473685, 0.5263157894736842, 0.7368421052631579, 0.5263157894736842, 0.9473684210526316, 0.17543859649122806, 0.3508771929824561, 0.8947368421052632, 0.8421052631578948, 0.9473684210526316, 0.5263157894736842, 0.10526315789473685, 0.3157894736842105, 0.2105263157894737, 0.03508771929824561, 0.14035087719298245, 0.3508771929824561, 0.4210526315789474, 0.3508771929824561, 0.17543859649122806, 0.631578947368421, 0.3157894736842105, 0.03508771929824561, 0.8947368421052632, 0.17543859649122806, 0.8421052631578948, 0.3508771929824561, 0.4210526315789474, 0.07017543859649122, 0.10526315789473685, 0.07017543859649122, 0.010526315789473684, 0.7368421052631579, 0.15789473684210525, 0.017543859649122806, 0.3508771929824561, 0.10526315789473685, 0.10526315789473685, 0.5263157894736842, 0.8421052631578948, 0.17543859649122806, 0.5263157894736842, 0.10526315789473685, 0.052631578947368425, 0.03508771929824561, 0.03508771929824561, 0.052631578947368425, 0.8947368421052632, 0.7368421052631579, 0.5789473684210527, 0.8947368421052632, 0.5789473684210527, 0.10526315789473685, 0.5263157894736842, 0.8947368421052632, 0.631578947368421, 0.5964912280701754, 0.5263157894736842, 0.9473684210526316, 0.4210526315789474, 0.2105263157894737, 0.14035087719298245, 0.8421052631578948, 0.5263157894736842, 0.14035087719298245, 0.14035087719298245, 0.15789473684210525, 0.9473684210526316, 0.4912280701754386, 0.2105263157894737, 0.07017543859649122, 0.4210526315789474, 0.2105263157894737, 0.5263157894736842, 0.7368421052631579, 0.9473684210526316, 0.2105263157894737, 0.4210526315789474, 0.052631578947368425, 0.4210526315789474, 0.8421052631578948, 0.2631578947368421, 0.8421052631578948, 0.8421052631578948, 0.7368421052631579, 0.8421052631578948, 0.4210526315789474, 0.5263157894736842, 0.3157894736842105, 0.7368421052631579, 0.631578947368421, 0.631578947368421, 0.03508771929824561, 0.8947368421052632, 0.631578947368421, 0.2807017543859649, 0.15789473684210525, 0.5263157894736842, 0.10526315789473685, 0.456140350877193, 0.8421052631578948, 0.14035087719298245, 0.631578947368421, 0.8421052631578948, 0.9473684210526316, 0.6842105263157895, 0.2456140350877193, 0.7368421052631579, 0.2456140350877193, 0.8421052631578948, 0.10526315789473685, 0.4210526315789474, 0.03508771929824561, 0.10526315789473685, 0.03508771929824561, 0.5263157894736842, 0.456140350877193, 0.2807017543859649, 0.4736842105263158, 0.07017543859649122], \"xaxis\": \"x\", \"yaxis\": \"y\"}, {\"alignmentgroup\": \"True\", \"bingroup\": \"x\", \"hoverlabel\": {\"namelength\": 0}, \"hovertemplate\": \"y=0<br>Fib_minmax=%{x}<br>count=%{y}\", \"legendgroup\": \"y=0\", \"marker\": {\"color\": \"#EF553B\"}, \"name\": \"y=0\", \"offsetgroup\": \"y=0\", \"orientation\": \"v\", \"showlegend\": true, \"type\": \"histogram\", \"x\": [0.2105263157894737, 0.5263157894736842, 0.0, 0.4736842105263158, 0.2807017543859649, 0.03508771929824561, 0.03508771929824561, 0.14035087719298245, 0.7368421052631579, 0.2105263157894737, 0.03508771929824561, 0.03508771929824561, 0.14035087719298245, 0.2807017543859649, 0.03508771929824561, 0.07017543859649122, 0.4210526315789474, 0.5263157894736842, 0.5263157894736842, 0.03508771929824561, 0.4210526315789474, 0.631578947368421, 0.2807017543859649, 0.5263157894736842, 0.15789473684210525, 0.8421052631578948, 0.5263157894736842, 0.3157894736842105, 0.631578947368421, 0.2105263157894737, 0.7368421052631579, 0.10526315789473685, 0.052631578947368425, 0.8421052631578948, 0.7894736842105263, 0.4210526315789474, 0.03508771929824561, 0.2105263157894737, 0.5614035087719298, 0.5263157894736842, 0.5263157894736842, 0.7368421052631579, 0.4912280701754386, 0.03508771929824561, 0.5263157894736842, 0.03508771929824561, 0.9473684210526316, 0.6842105263157895, 0.8421052631578948, 0.8947368421052632, 0.3157894736842105, 0.4210526315789474, 0.10526315789473685, 0.2807017543859649, 0.17543859649122806, 0.017543859649122806, 0.17543859649122806, 0.4912280701754386, 0.07017543859649122, 0.4210526315789474, 0.4912280701754386, 0.3508771929824561, 0.03508771929824561, 0.10526315789473685, 0.0, 0.03508771929824561, 0.14035087719298245, 0.2807017543859649, 0.017543859649122806, 0.8421052631578948, 0.03508771929824561, 0.10526315789473685, 0.6842105263157895, 0.631578947368421, 0.017543859649122806, 0.03508771929824561, 0.7894736842105263, 0.6842105263157895, 0.03508771929824561, 0.5263157894736842, 0.6842105263157895, 0.14035087719298245, 0.07017543859649122, 0.2807017543859649, 0.14035087719298245, 0.8947368421052632, 0.7368421052631579, 0.5614035087719298, 0.2105263157894737, 0.631578947368421, 0.631578947368421, 0.17543859649122806, 0.2105263157894737, 0.631578947368421, 0.631578947368421, 0.2105263157894737, 0.15789473684210525, 0.5263157894736842, 0.4210526315789474, 0.03508771929824561, 0.03508771929824561, 0.7894736842105263, 0.15789473684210525, 0.5263157894736842, 0.3508771929824561, 0.8947368421052632, 0.2105263157894737, 0.017543859649122806, 0.5263157894736842, 0.10526315789473685, 0.5263157894736842, 0.052631578947368425, 0.2105263157894737, 0.631578947368421, 0.3508771929824561, 0.3157894736842105, 0.2807017543859649, 0.10526315789473685, 0.10526315789473685, 0.3508771929824561, 0.03508771929824561, 0.2105263157894737, 0.052631578947368425, 0.6842105263157895, 0.4210526315789474, 0.5263157894736842, 0.10526315789473685, 0.052631578947368425, 0.8421052631578948, 0.631578947368421, 0.3508771929824561, 0.03508771929824561, 0.07017543859649122, 0.9473684210526316, 0.3508771929824561, 0.5263157894736842, 0.5263157894736842, 0.10526315789473685, 0.15789473684210525, 0.2105263157894737, 0.03508771929824561, 0.10526315789473685, 0.9473684210526316, 0.5263157894736842, 0.07017543859649122, 0.5263157894736842, 0.9473684210526316, 0.3508771929824561, 0.7894736842105263, 0.3508771929824561, 0.9473684210526316, 0.5263157894736842, 0.5263157894736842, 0.9473684210526316, 0.7894736842105263, 0.03508771929824561, 0.07017543859649122, 0.9473684210526316, 0.631578947368421, 0.5964912280701754, 0.9473684210526316, 0.2807017543859649, 0.2807017543859649, 0.2105263157894737, 0.3157894736842105, 0.8421052631578948, 0.5263157894736842, 0.3508771929824561, 0.5263157894736842, 0.2807017543859649, 0.8947368421052632, 0.03508771929824561, 0.2807017543859649, 0.07017543859649122, 0.631578947368421, 0.3508771929824561, 0.3157894736842105, 0.631578947368421, 0.3157894736842105, 0.2105263157894737, 0.3508771929824561, 0.2105263157894737, 0.12280701754385966, 0.3508771929824561, 0.2456140350877193, 0.2631578947368421, 0.4210526315789474, 0.2807017543859649, 0.2631578947368421, 0.456140350877193, 0.5263157894736842, 0.052631578947368425], \"xaxis\": \"x\", \"yaxis\": \"y\"}],\n",
              "                        {\"barmode\": \"relative\", \"height\": 600, \"legend\": {\"tracegroupgap\": 0}, \"margin\": {\"t\": 60}, \"template\": {\"data\": {\"bar\": [{\"error_x\": {\"color\": \"#2a3f5f\"}, \"error_y\": {\"color\": \"#2a3f5f\"}, \"marker\": {\"line\": {\"color\": \"#E5ECF6\", \"width\": 0.5}}, \"type\": \"bar\"}], \"barpolar\": [{\"marker\": {\"line\": {\"color\": \"#E5ECF6\", \"width\": 0.5}}, \"type\": \"barpolar\"}], \"carpet\": [{\"aaxis\": {\"endlinecolor\": \"#2a3f5f\", \"gridcolor\": \"white\", \"linecolor\": \"white\", \"minorgridcolor\": \"white\", \"startlinecolor\": \"#2a3f5f\"}, \"baxis\": {\"endlinecolor\": \"#2a3f5f\", \"gridcolor\": \"white\", \"linecolor\": \"white\", \"minorgridcolor\": \"white\", \"startlinecolor\": \"#2a3f5f\"}, \"type\": \"carpet\"}], \"choropleth\": [{\"colorbar\": {\"outlinewidth\": 0, \"ticks\": \"\"}, \"type\": \"choropleth\"}], \"contour\": [{\"colorbar\": {\"outlinewidth\": 0, \"ticks\": \"\"}, \"colorscale\": [[0.0, \"#0d0887\"], [0.1111111111111111, \"#46039f\"], [0.2222222222222222, \"#7201a8\"], [0.3333333333333333, \"#9c179e\"], [0.4444444444444444, \"#bd3786\"], [0.5555555555555556, \"#d8576b\"], [0.6666666666666666, \"#ed7953\"], [0.7777777777777778, \"#fb9f3a\"], [0.8888888888888888, \"#fdca26\"], [1.0, \"#f0f921\"]], \"type\": \"contour\"}], \"contourcarpet\": [{\"colorbar\": {\"outlinewidth\": 0, \"ticks\": \"\"}, \"type\": \"contourcarpet\"}], \"heatmap\": [{\"colorbar\": {\"outlinewidth\": 0, \"ticks\": \"\"}, \"colorscale\": [[0.0, \"#0d0887\"], [0.1111111111111111, \"#46039f\"], [0.2222222222222222, \"#7201a8\"], [0.3333333333333333, \"#9c179e\"], [0.4444444444444444, \"#bd3786\"], [0.5555555555555556, \"#d8576b\"], [0.6666666666666666, \"#ed7953\"], [0.7777777777777778, \"#fb9f3a\"], [0.8888888888888888, \"#fdca26\"], [1.0, \"#f0f921\"]], \"type\": \"heatmap\"}], \"heatmapgl\": [{\"colorbar\": {\"outlinewidth\": 0, \"ticks\": \"\"}, \"colorscale\": [[0.0, \"#0d0887\"], [0.1111111111111111, \"#46039f\"], [0.2222222222222222, \"#7201a8\"], [0.3333333333333333, \"#9c179e\"], [0.4444444444444444, \"#bd3786\"], [0.5555555555555556, \"#d8576b\"], [0.6666666666666666, \"#ed7953\"], [0.7777777777777778, \"#fb9f3a\"], [0.8888888888888888, \"#fdca26\"], [1.0, \"#f0f921\"]], \"type\": \"heatmapgl\"}], \"histogram\": [{\"marker\": {\"colorbar\": {\"outlinewidth\": 0, \"ticks\": \"\"}}, \"type\": \"histogram\"}], \"histogram2d\": [{\"colorbar\": {\"outlinewidth\": 0, \"ticks\": \"\"}, \"colorscale\": [[0.0, \"#0d0887\"], [0.1111111111111111, \"#46039f\"], [0.2222222222222222, \"#7201a8\"], [0.3333333333333333, \"#9c179e\"], [0.4444444444444444, \"#bd3786\"], [0.5555555555555556, \"#d8576b\"], [0.6666666666666666, \"#ed7953\"], [0.7777777777777778, \"#fb9f3a\"], [0.8888888888888888, \"#fdca26\"], [1.0, \"#f0f921\"]], \"type\": \"histogram2d\"}], \"histogram2dcontour\": [{\"colorbar\": {\"outlinewidth\": 0, \"ticks\": \"\"}, \"colorscale\": [[0.0, \"#0d0887\"], [0.1111111111111111, \"#46039f\"], [0.2222222222222222, \"#7201a8\"], [0.3333333333333333, \"#9c179e\"], [0.4444444444444444, \"#bd3786\"], [0.5555555555555556, \"#d8576b\"], [0.6666666666666666, \"#ed7953\"], [0.7777777777777778, \"#fb9f3a\"], [0.8888888888888888, \"#fdca26\"], [1.0, \"#f0f921\"]], \"type\": \"histogram2dcontour\"}], \"mesh3d\": [{\"colorbar\": {\"outlinewidth\": 0, \"ticks\": \"\"}, \"type\": \"mesh3d\"}], \"parcoords\": [{\"line\": {\"colorbar\": {\"outlinewidth\": 0, \"ticks\": \"\"}}, \"type\": \"parcoords\"}], \"scatter\": [{\"marker\": {\"colorbar\": {\"outlinewidth\": 0, \"ticks\": \"\"}}, \"type\": \"scatter\"}], \"scatter3d\": [{\"line\": {\"colorbar\": {\"outlinewidth\": 0, \"ticks\": \"\"}}, \"marker\": {\"colorbar\": {\"outlinewidth\": 0, \"ticks\": \"\"}}, \"type\": \"scatter3d\"}], \"scattercarpet\": [{\"marker\": {\"colorbar\": {\"outlinewidth\": 0, \"ticks\": \"\"}}, \"type\": \"scattercarpet\"}], \"scattergeo\": [{\"marker\": {\"colorbar\": {\"outlinewidth\": 0, \"ticks\": \"\"}}, \"type\": \"scattergeo\"}], \"scattergl\": [{\"marker\": {\"colorbar\": {\"outlinewidth\": 0, \"ticks\": \"\"}}, \"type\": \"scattergl\"}], \"scattermapbox\": [{\"marker\": {\"colorbar\": {\"outlinewidth\": 0, \"ticks\": \"\"}}, \"type\": \"scattermapbox\"}], \"scatterpolar\": [{\"marker\": {\"colorbar\": {\"outlinewidth\": 0, \"ticks\": \"\"}}, \"type\": \"scatterpolar\"}], \"scatterpolargl\": [{\"marker\": {\"colorbar\": {\"outlinewidth\": 0, \"ticks\": \"\"}}, \"type\": \"scatterpolargl\"}], \"scatterternary\": [{\"marker\": {\"colorbar\": {\"outlinewidth\": 0, \"ticks\": \"\"}}, \"type\": \"scatterternary\"}], \"surface\": [{\"colorbar\": {\"outlinewidth\": 0, \"ticks\": \"\"}, \"colorscale\": [[0.0, \"#0d0887\"], [0.1111111111111111, \"#46039f\"], [0.2222222222222222, \"#7201a8\"], [0.3333333333333333, \"#9c179e\"], [0.4444444444444444, \"#bd3786\"], [0.5555555555555556, \"#d8576b\"], [0.6666666666666666, \"#ed7953\"], [0.7777777777777778, \"#fb9f3a\"], [0.8888888888888888, \"#fdca26\"], [1.0, \"#f0f921\"]], \"type\": \"surface\"}], \"table\": [{\"cells\": {\"fill\": {\"color\": \"#EBF0F8\"}, \"line\": {\"color\": \"white\"}}, \"header\": {\"fill\": {\"color\": \"#C8D4E3\"}, \"line\": {\"color\": \"white\"}}, \"type\": \"table\"}]}, \"layout\": {\"annotationdefaults\": {\"arrowcolor\": \"#2a3f5f\", \"arrowhead\": 0, \"arrowwidth\": 1}, \"colorscale\": {\"diverging\": [[0, \"#8e0152\"], [0.1, \"#c51b7d\"], [0.2, \"#de77ae\"], [0.3, \"#f1b6da\"], [0.4, \"#fde0ef\"], [0.5, \"#f7f7f7\"], [0.6, \"#e6f5d0\"], [0.7, \"#b8e186\"], [0.8, \"#7fbc41\"], [0.9, \"#4d9221\"], [1, \"#276419\"]], \"sequential\": [[0.0, \"#0d0887\"], [0.1111111111111111, \"#46039f\"], [0.2222222222222222, \"#7201a8\"], [0.3333333333333333, \"#9c179e\"], [0.4444444444444444, \"#bd3786\"], [0.5555555555555556, \"#d8576b\"], [0.6666666666666666, \"#ed7953\"], [0.7777777777777778, \"#fb9f3a\"], [0.8888888888888888, \"#fdca26\"], [1.0, \"#f0f921\"]], \"sequentialminus\": [[0.0, \"#0d0887\"], [0.1111111111111111, \"#46039f\"], [0.2222222222222222, \"#7201a8\"], [0.3333333333333333, \"#9c179e\"], [0.4444444444444444, \"#bd3786\"], [0.5555555555555556, \"#d8576b\"], [0.6666666666666666, \"#ed7953\"], [0.7777777777777778, \"#fb9f3a\"], [0.8888888888888888, \"#fdca26\"], [1.0, \"#f0f921\"]]}, \"colorway\": [\"#636efa\", \"#EF553B\", \"#00cc96\", \"#ab63fa\", \"#FFA15A\", \"#19d3f3\", \"#FF6692\", \"#B6E880\", \"#FF97FF\", \"#FECB52\"], \"font\": {\"color\": \"#2a3f5f\"}, \"geo\": {\"bgcolor\": \"white\", \"lakecolor\": \"white\", \"landcolor\": \"#E5ECF6\", \"showlakes\": true, \"showland\": true, \"subunitcolor\": \"white\"}, \"hoverlabel\": {\"align\": \"left\"}, \"hovermode\": \"closest\", \"mapbox\": {\"style\": \"light\"}, \"paper_bgcolor\": \"white\", \"plot_bgcolor\": \"#E5ECF6\", \"polar\": {\"angularaxis\": {\"gridcolor\": \"white\", \"linecolor\": \"white\", \"ticks\": \"\"}, \"bgcolor\": \"#E5ECF6\", \"radialaxis\": {\"gridcolor\": \"white\", \"linecolor\": \"white\", \"ticks\": \"\"}}, \"scene\": {\"xaxis\": {\"backgroundcolor\": \"#E5ECF6\", \"gridcolor\": \"white\", \"gridwidth\": 2, \"linecolor\": \"white\", \"showbackground\": true, \"ticks\": \"\", \"zerolinecolor\": \"white\"}, \"yaxis\": {\"backgroundcolor\": \"#E5ECF6\", \"gridcolor\": \"white\", \"gridwidth\": 2, \"linecolor\": \"white\", \"showbackground\": true, \"ticks\": \"\", \"zerolinecolor\": \"white\"}, \"zaxis\": {\"backgroundcolor\": \"#E5ECF6\", \"gridcolor\": \"white\", \"gridwidth\": 2, \"linecolor\": \"white\", \"showbackground\": true, \"ticks\": \"\", \"zerolinecolor\": \"white\"}}, \"shapedefaults\": {\"line\": {\"color\": \"#2a3f5f\"}}, \"ternary\": {\"aaxis\": {\"gridcolor\": \"white\", \"linecolor\": \"white\", \"ticks\": \"\"}, \"baxis\": {\"gridcolor\": \"white\", \"linecolor\": \"white\", \"ticks\": \"\"}, \"bgcolor\": \"#E5ECF6\", \"caxis\": {\"gridcolor\": \"white\", \"linecolor\": \"white\", \"ticks\": \"\"}}, \"title\": {\"x\": 0.05}, \"xaxis\": {\"automargin\": true, \"gridcolor\": \"white\", \"linecolor\": \"white\", \"ticks\": \"\", \"zerolinecolor\": \"white\", \"zerolinewidth\": 2}, \"yaxis\": {\"automargin\": true, \"gridcolor\": \"white\", \"linecolor\": \"white\", \"ticks\": \"\", \"zerolinecolor\": \"white\", \"zerolinewidth\": 2}}}, \"xaxis\": {\"anchor\": \"y\", \"domain\": [0.0, 0.98], \"title\": {\"text\": \"Fib_minmax\"}}, \"yaxis\": {\"anchor\": \"x\", \"domain\": [0.0, 1.0], \"title\": {\"text\": \"count\"}}},\n",
              "                        {\"responsive\": true}\n",
              "                    ).then(function(){\n",
              "                            \n",
              "var gd = document.getElementById('29c2f0fd-0007-433b-9c32-18029e1a4f19');\n",
              "var x = new MutationObserver(function (mutations, observer) {{\n",
              "        var display = window.getComputedStyle(gd).display;\n",
              "        if (!display || display === 'none') {{\n",
              "            console.log([gd, 'removed!']);\n",
              "            Plotly.purge(gd);\n",
              "            observer.disconnect();\n",
              "        }}\n",
              "}});\n",
              "\n",
              "// Listen for the removal of the full notebook cells\n",
              "var notebookContainer = gd.closest('#notebook-container');\n",
              "if (notebookContainer) {{\n",
              "    x.observe(notebookContainer, {childList: true});\n",
              "}}\n",
              "\n",
              "// Listen for the clearing of the current output cell\n",
              "var outputEl = gd.closest('.output');\n",
              "if (outputEl) {{\n",
              "    x.observe(outputEl, {childList: true});\n",
              "}}\n",
              "\n",
              "                        })\n",
              "                };\n",
              "                \n",
              "            </script>\n",
              "        </div>\n",
              "</body>\n",
              "</html>"
            ]
          },
          "metadata": {
            "tags": []
          }
        }
      ]
    },
    {
      "cell_type": "code",
      "metadata": {
        "id": "glC93bygo_ao",
        "colab_type": "code",
        "colab": {}
      },
      "source": [
        "from sklearn.model_selection import train_test_split\n",
        "\n",
        "tr_idx, ts_idx, tr_y, ts_y = train_test_split(range(len(df)), y, test_size=0.3) "
      ],
      "execution_count": 0,
      "outputs": []
    },
    {
      "cell_type": "code",
      "metadata": {
        "id": "ZAIVbKqmTcfS",
        "colab_type": "code",
        "outputId": "8b47b22c-79cf-4f71-cb15-557bb5dae5e6",
        "colab": {
          "base_uri": "https://localhost:8080/",
          "height": 244
        }
      },
      "source": [
        "from sklearn.linear_model import LogisticRegression\n",
        "\n",
        "clf = LogisticRegression(class_weight='balanced', max_iter=10).fit(mm[['CD8_log_minmax', 'Fib_minmax']].iloc[tr_idx], tr_y)\n",
        "pred = clf.predict(mm.drop(['y'], 1).iloc[ts_idx])\n",
        "prob = clf.predict_proba(mm.drop(['y'], 1).iloc[ts_idx])[:, 1]\n",
        "tree_modeling.compute_performance(ts_y, pred, prob)"
      ],
      "execution_count": 0,
      "outputs": [
        {
          "output_type": "stream",
          "text": [
            "{'AUC': 0.5113516922430104, 'accuracy': 0.5072463768115942, 'precision': 0.5254237288135594, 'recall': 0.43661971830985913, 'f1': 0.4769230769230769, 'mcc': 0.018900960716069105}\n"
          ],
          "name": "stdout"
        },
        {
          "output_type": "stream",
          "text": [
            "/usr/local/lib/python3.6/dist-packages/sklearn/linear_model/logistic.py:432: FutureWarning:\n",
            "\n",
            "Default solver will be changed to 'lbfgs' in 0.22. Specify a solver to silence this warning.\n",
            "\n"
          ],
          "name": "stderr"
        },
        {
          "output_type": "execute_result",
          "data": {
            "text/plain": [
              "{'AUC': 0.5113516922430104,\n",
              " 'accuracy': 0.5072463768115942,\n",
              " 'f1': 0.4769230769230769,\n",
              " 'mcc': 0.018900960716069105,\n",
              " 'precision': 0.5254237288135594,\n",
              " 'recall': 0.43661971830985913}"
            ]
          },
          "metadata": {
            "tags": []
          },
          "execution_count": 171
        }
      ]
    },
    {
      "cell_type": "code",
      "metadata": {
        "id": "0B15IOCsnqNW",
        "colab_type": "code",
        "outputId": "b5fdd471-f704-4229-aee4-27ac6dcb28a3",
        "colab": {
          "base_uri": "https://localhost:8080/",
          "height": 34
        }
      },
      "source": [
        "clf.coef_"
      ],
      "execution_count": 0,
      "outputs": [
        {
          "output_type": "execute_result",
          "data": {
            "text/plain": [
              "array([[ 0.93620258, -0.11866808]])"
            ]
          },
          "metadata": {
            "tags": []
          },
          "execution_count": 172
        }
      ]
    },
    {
      "cell_type": "code",
      "metadata": {
        "id": "9ZQj_6BLnw5V",
        "colab_type": "code",
        "outputId": "deb5def2-8a04-468f-fac2-676287702456",
        "colab": {
          "base_uri": "https://localhost:8080/",
          "height": 34
        }
      },
      "source": [
        "clf.intercept_"
      ],
      "execution_count": 0,
      "outputs": [
        {
          "output_type": "execute_result",
          "data": {
            "text/plain": [
              "array([-0.27600869])"
            ]
          },
          "metadata": {
            "tags": []
          },
          "execution_count": 173
        }
      ]
    },
    {
      "cell_type": "code",
      "metadata": {
        "id": "vfEGX9noWHyH",
        "colab_type": "code",
        "outputId": "9d123631-327f-4d2a-b270-5bdf88af5840",
        "colab": {
          "base_uri": "https://localhost:8080/",
          "height": 204
        }
      },
      "source": [
        "from sklearn.neural_network import MLPClassifier\n",
        "\n",
        "nn = MLPClassifier(hidden_layer_sizes=(20, )).fit(mm.drop(['y'], 1).iloc[tr_idx], tr_y)\n",
        "nn_pred = nn.predict(mm.drop(['y'], 1).iloc[ts_idx])\n",
        "nn_prob = nn.predict_proba(mm.drop(['y'], 1).iloc[ts_idx])[:, 1]\n",
        "tree_modeling.compute_performance(ts_y, nn_pred, nn_prob)"
      ],
      "execution_count": 0,
      "outputs": [
        {
          "output_type": "stream",
          "text": [
            "{'AUC': 0.5287996636535631, 'accuracy': 0.5144927536231884, 'precision': 0.5144927536231884, 'recall': 1.0, 'f1': 0.679425837320574, 'mcc': 0.0}\n"
          ],
          "name": "stdout"
        },
        {
          "output_type": "stream",
          "text": [
            "/usr/local/lib/python3.6/dist-packages/sklearn/metrics/classification.py:872: RuntimeWarning:\n",
            "\n",
            "invalid value encountered in double_scalars\n",
            "\n"
          ],
          "name": "stderr"
        },
        {
          "output_type": "execute_result",
          "data": {
            "text/plain": [
              "{'AUC': 0.5287996636535631,\n",
              " 'accuracy': 0.5144927536231884,\n",
              " 'f1': 0.679425837320574,\n",
              " 'mcc': 0.0,\n",
              " 'precision': 0.5144927536231884,\n",
              " 'recall': 1.0}"
            ]
          },
          "metadata": {
            "tags": []
          },
          "execution_count": 174
        }
      ]
    },
    {
      "cell_type": "code",
      "metadata": {
        "id": "p9xOCnyTou7B",
        "colab_type": "code",
        "outputId": "9a94ae29-4055-479b-d2ed-aa21439aaa80",
        "colab": {
          "base_uri": "https://localhost:8080/",
          "height": 74
        }
      },
      "source": [
        "cols = ['CD8_central_intra', 'Fibrosis_central']\n",
        "tree_ = tree_modeling.tree_model_with_performance([df[['CD8_central_intra', 'Fibrosis_central']].reset_index(drop=True).iloc[tr_idx], tr_y], 20, 3, [df[['CD8_central_intra', 'Fibrosis_central']].reset_index(drop=True).iloc[ts_idx], ts_y])"
      ],
      "execution_count": 0,
      "outputs": [
        {
          "output_type": "stream",
          "text": [
            "{'AUC': 0.5763085978557915, 'accuracy': 0.5942028985507246, 'precision': 0.5742574257425742, 'recall': 0.8169014084507042, 'f1': 0.6744186046511629, 'mcc': 0.1975681243316368}\n"
          ],
          "name": "stdout"
        }
      ]
    },
    {
      "cell_type": "code",
      "metadata": {
        "id": "60qdCf4kqNxQ",
        "colab_type": "code",
        "outputId": "017ab63c-6609-486c-e6b1-678f8124acca",
        "colab": {
          "base_uri": "https://localhost:8080/",
          "height": 638
        }
      },
      "source": [
        "tree_['tree graph']"
      ],
      "execution_count": 0,
      "outputs": [
        {
          "output_type": "execute_result",
          "data": {
            "text/plain": [
              "<graphviz.files.Source at 0x7efdd053c978>"
            ],
            "image/svg+xml": "<?xml version=\"1.0\" encoding=\"UTF-8\" standalone=\"no\"?>\n<!DOCTYPE svg PUBLIC \"-//W3C//DTD SVG 1.1//EN\"\n \"http://www.w3.org/Graphics/SVG/1.1/DTD/svg11.dtd\">\n<!-- Generated by graphviz version 2.40.1 (20161225.0304)\n -->\n<!-- Title: Tree Pages: 1 -->\n<svg width=\"1302pt\" height=\"433pt\"\n viewBox=\"0.00 0.00 1301.50 433.00\" xmlns=\"http://www.w3.org/2000/svg\" xmlns:xlink=\"http://www.w3.org/1999/xlink\">\n<g id=\"graph0\" class=\"graph\" transform=\"scale(1 1) rotate(0) translate(4 429)\">\n<title>Tree</title>\n<polygon fill=\"#ffffff\" stroke=\"transparent\" points=\"-4,4 -4,-429 1297.5,-429 1297.5,4 -4,4\"/>\n<!-- 0 -->\n<g id=\"node1\" class=\"node\">\n<title>0</title>\n<path fill=\"#b9dcf6\" stroke=\"#000000\" d=\"M685,-425C685,-425 532,-425 532,-425 526,-425 520,-419 520,-413 520,-413 520,-354 520,-354 520,-348 526,-342 532,-342 532,-342 685,-342 685,-342 691,-342 697,-348 697,-354 697,-354 697,-413 697,-413 697,-419 691,-425 685,-425\"/>\n<text text-anchor=\"start\" x=\"528\" y=\"-409.8\" font-family=\"Helvetica,sans-Serif\" font-size=\"14.00\" fill=\"#000000\">CD8_central_intra ≤ 19.0</text>\n<text text-anchor=\"start\" x=\"570.5\" y=\"-394.8\" font-family=\"Helvetica,sans-Serif\" font-size=\"14.00\" fill=\"#000000\">gini = 0.477</text>\n<text text-anchor=\"start\" x=\"548\" y=\"-379.8\" font-family=\"Helvetica,sans-Serif\" font-size=\"14.00\" fill=\"#000000\">samples = 100.0%</text>\n<text text-anchor=\"start\" x=\"538.5\" y=\"-364.8\" font-family=\"Helvetica,sans-Serif\" font-size=\"14.00\" fill=\"#000000\">value = [0.392, 0.608]</text>\n<text text-anchor=\"start\" x=\"579.5\" y=\"-349.8\" font-family=\"Helvetica,sans-Serif\" font-size=\"14.00\" fill=\"#000000\">class = 1</text>\n</g>\n<!-- 1 -->\n<g id=\"node2\" class=\"node\">\n<title>1</title>\n<path fill=\"#e7f3fc\" stroke=\"#000000\" d=\"M582,-306C582,-306 443,-306 443,-306 437,-306 431,-300 431,-294 431,-294 431,-235 431,-235 431,-229 437,-223 443,-223 443,-223 582,-223 582,-223 588,-223 594,-229 594,-235 594,-235 594,-294 594,-294 594,-300 588,-306 582,-306\"/>\n<text text-anchor=\"start\" x=\"439\" y=\"-290.8\" font-family=\"Helvetica,sans-Serif\" font-size=\"14.00\" fill=\"#000000\">Fibrosis_central ≤ 55.0</text>\n<text text-anchor=\"start\" x=\"474.5\" y=\"-275.8\" font-family=\"Helvetica,sans-Serif\" font-size=\"14.00\" fill=\"#000000\">gini = 0.498</text>\n<text text-anchor=\"start\" x=\"456.5\" y=\"-260.8\" font-family=\"Helvetica,sans-Serif\" font-size=\"14.00\" fill=\"#000000\">samples = 63.6%</text>\n<text text-anchor=\"start\" x=\"442.5\" y=\"-245.8\" font-family=\"Helvetica,sans-Serif\" font-size=\"14.00\" fill=\"#000000\">value = [0.468, 0.532]</text>\n<text text-anchor=\"start\" x=\"483.5\" y=\"-230.8\" font-family=\"Helvetica,sans-Serif\" font-size=\"14.00\" fill=\"#000000\">class = 1</text>\n</g>\n<!-- 0&#45;&gt;1 -->\n<g id=\"edge1\" class=\"edge\">\n<title>0&#45;&gt;1</title>\n<path fill=\"none\" stroke=\"#000000\" d=\"M574.9239,-341.8796C567.7309,-332.9633 560.0616,-323.4565 552.649,-314.268\"/>\n<polygon fill=\"#000000\" stroke=\"#000000\" points=\"555.2224,-311.8836 546.2195,-306.2981 549.7742,-316.2788 555.2224,-311.8836\"/>\n<text text-anchor=\"middle\" x=\"543.5602\" y=\"-327.4562\" font-family=\"Helvetica,sans-Serif\" font-size=\"14.00\" fill=\"#000000\">True</text>\n</g>\n<!-- 8 -->\n<g id=\"node9\" class=\"node\">\n<title>8</title>\n<path fill=\"#7ebfee\" stroke=\"#000000\" d=\"M833,-306C833,-306 694,-306 694,-306 688,-306 682,-300 682,-294 682,-294 682,-235 682,-235 682,-229 688,-223 694,-223 694,-223 833,-223 833,-223 839,-223 845,-229 845,-235 845,-235 845,-294 845,-294 845,-300 839,-306 833,-306\"/>\n<text text-anchor=\"start\" x=\"690\" y=\"-290.8\" font-family=\"Helvetica,sans-Serif\" font-size=\"14.00\" fill=\"#000000\">Fibrosis_central ≤ 65.0</text>\n<text text-anchor=\"start\" x=\"725.5\" y=\"-275.8\" font-family=\"Helvetica,sans-Serif\" font-size=\"14.00\" fill=\"#000000\">gini = 0.383</text>\n<text text-anchor=\"start\" x=\"707.5\" y=\"-260.8\" font-family=\"Helvetica,sans-Serif\" font-size=\"14.00\" fill=\"#000000\">samples = 36.4%</text>\n<text text-anchor=\"start\" x=\"693.5\" y=\"-245.8\" font-family=\"Helvetica,sans-Serif\" font-size=\"14.00\" fill=\"#000000\">value = [0.259, 0.741]</text>\n<text text-anchor=\"start\" x=\"734.5\" y=\"-230.8\" font-family=\"Helvetica,sans-Serif\" font-size=\"14.00\" fill=\"#000000\">class = 1</text>\n</g>\n<!-- 0&#45;&gt;8 -->\n<g id=\"edge8\" class=\"edge\">\n<title>0&#45;&gt;8</title>\n<path fill=\"none\" stroke=\"#000000\" d=\"M662.7115,-341.8796C675.1006,-332.368 688.3649,-322.1843 701.0676,-312.432\"/>\n<polygon fill=\"#000000\" stroke=\"#000000\" points=\"703.5186,-314.9628 709.3191,-306.0969 699.2558,-309.4105 703.5186,-314.9628\"/>\n<text text-anchor=\"middle\" x=\"706.0624\" y=\"-327.1839\" font-family=\"Helvetica,sans-Serif\" font-size=\"14.00\" fill=\"#000000\">False</text>\n</g>\n<!-- 2 -->\n<g id=\"node3\" class=\"node\">\n<title>2</title>\n<path fill=\"#b6dbf5\" stroke=\"#000000\" d=\"M292,-187C292,-187 147,-187 147,-187 141,-187 135,-181 135,-175 135,-175 135,-116 135,-116 135,-110 141,-104 147,-104 147,-104 292,-104 292,-104 298,-104 304,-110 304,-116 304,-116 304,-175 304,-175 304,-181 298,-187 292,-187\"/>\n<text text-anchor=\"start\" x=\"143\" y=\"-171.8\" font-family=\"Helvetica,sans-Serif\" font-size=\"14.00\" fill=\"#000000\">CD8_central_intra ≤ 0.5</text>\n<text text-anchor=\"start\" x=\"181.5\" y=\"-156.8\" font-family=\"Helvetica,sans-Serif\" font-size=\"14.00\" fill=\"#000000\">gini = 0.475</text>\n<text text-anchor=\"start\" x=\"163.5\" y=\"-141.8\" font-family=\"Helvetica,sans-Serif\" font-size=\"14.00\" fill=\"#000000\">samples = 19.4%</text>\n<text text-anchor=\"start\" x=\"149.5\" y=\"-126.8\" font-family=\"Helvetica,sans-Serif\" font-size=\"14.00\" fill=\"#000000\">value = [0.387, 0.613]</text>\n<text text-anchor=\"start\" x=\"190.5\" y=\"-111.8\" font-family=\"Helvetica,sans-Serif\" font-size=\"14.00\" fill=\"#000000\">class = 1</text>\n</g>\n<!-- 1&#45;&gt;2 -->\n<g id=\"edge2\" class=\"edge\">\n<title>1&#45;&gt;2</title>\n<path fill=\"none\" stroke=\"#000000\" d=\"M430.8832,-231.3519C394.5119,-216.5799 351.4542,-199.0923 313.7218,-183.7675\"/>\n<polygon fill=\"#000000\" stroke=\"#000000\" points=\"314.8329,-180.4412 304.2508,-179.921 312.1988,-186.9267 314.8329,-180.4412\"/>\n</g>\n<!-- 5 -->\n<g id=\"node6\" class=\"node\">\n<title>5</title>\n<path fill=\"#fffdfc\" stroke=\"#000000\" d=\"M586,-187C586,-187 439,-187 439,-187 433,-187 427,-181 427,-175 427,-175 427,-116 427,-116 427,-110 433,-104 439,-104 439,-104 586,-104 586,-104 592,-104 598,-110 598,-116 598,-116 598,-175 598,-175 598,-181 592,-187 586,-187\"/>\n<text text-anchor=\"start\" x=\"435\" y=\"-171.8\" font-family=\"Helvetica,sans-Serif\" font-size=\"14.00\" fill=\"#000000\">Fibrosis_central ≤ 105.0</text>\n<text text-anchor=\"start\" x=\"483\" y=\"-156.8\" font-family=\"Helvetica,sans-Serif\" font-size=\"14.00\" fill=\"#000000\">gini = 0.5</text>\n<text text-anchor=\"start\" x=\"456.5\" y=\"-141.8\" font-family=\"Helvetica,sans-Serif\" font-size=\"14.00\" fill=\"#000000\">samples = 44.2%</text>\n<text text-anchor=\"start\" x=\"442.5\" y=\"-126.8\" font-family=\"Helvetica,sans-Serif\" font-size=\"14.00\" fill=\"#000000\">value = [0.504, 0.496]</text>\n<text text-anchor=\"start\" x=\"483.5\" y=\"-111.8\" font-family=\"Helvetica,sans-Serif\" font-size=\"14.00\" fill=\"#000000\">class = 0</text>\n</g>\n<!-- 1&#45;&gt;5 -->\n<g id=\"edge5\" class=\"edge\">\n<title>1&#45;&gt;5</title>\n<path fill=\"none\" stroke=\"#000000\" d=\"M512.5,-222.8796C512.5,-214.6838 512.5,-205.9891 512.5,-197.5013\"/>\n<polygon fill=\"#000000\" stroke=\"#000000\" points=\"516.0001,-197.298 512.5,-187.2981 509.0001,-197.2981 516.0001,-197.298\"/>\n</g>\n<!-- 3 -->\n<g id=\"node4\" class=\"node\">\n<title>3</title>\n<path fill=\"#ffffff\" stroke=\"#000000\" d=\"M111,-68C111,-68 12,-68 12,-68 6,-68 0,-62 0,-56 0,-56 0,-12 0,-12 0,-6 6,0 12,0 12,0 111,0 111,0 117,0 123,-6 123,-12 123,-12 123,-56 123,-56 123,-62 117,-68 111,-68\"/>\n<text text-anchor=\"start\" x=\"32\" y=\"-52.8\" font-family=\"Helvetica,sans-Serif\" font-size=\"14.00\" fill=\"#000000\">gini = 0.5</text>\n<text text-anchor=\"start\" x=\"9.5\" y=\"-37.8\" font-family=\"Helvetica,sans-Serif\" font-size=\"14.00\" fill=\"#000000\">samples = 8.2%</text>\n<text text-anchor=\"start\" x=\"8\" y=\"-22.8\" font-family=\"Helvetica,sans-Serif\" font-size=\"14.00\" fill=\"#000000\">value = [0.5, 0.5]</text>\n<text text-anchor=\"start\" x=\"32.5\" y=\"-7.8\" font-family=\"Helvetica,sans-Serif\" font-size=\"14.00\" fill=\"#000000\">class = 0</text>\n</g>\n<!-- 2&#45;&gt;3 -->\n<g id=\"edge3\" class=\"edge\">\n<title>2&#45;&gt;3</title>\n<path fill=\"none\" stroke=\"#000000\" d=\"M160.6666,-103.9815C146.789,-94.1881 132.0216,-83.7668 118.2386,-74.0402\"/>\n<polygon fill=\"#000000\" stroke=\"#000000\" points=\"119.9892,-70.9918 109.8007,-68.0856 115.9531,-76.7111 119.9892,-70.9918\"/>\n</g>\n<!-- 4 -->\n<g id=\"node5\" class=\"node\">\n<title>4</title>\n<path fill=\"#90c8f0\" stroke=\"#000000\" d=\"M285.5,-68C285.5,-68 153.5,-68 153.5,-68 147.5,-68 141.5,-62 141.5,-56 141.5,-56 141.5,-12 141.5,-12 141.5,-6 147.5,0 153.5,0 153.5,0 285.5,0 285.5,0 291.5,0 297.5,-6 297.5,-12 297.5,-12 297.5,-56 297.5,-56 297.5,-62 291.5,-68 285.5,-68\"/>\n<text text-anchor=\"start\" x=\"181.5\" y=\"-52.8\" font-family=\"Helvetica,sans-Serif\" font-size=\"14.00\" fill=\"#000000\">gini = 0.424</text>\n<text text-anchor=\"start\" x=\"163.5\" y=\"-37.8\" font-family=\"Helvetica,sans-Serif\" font-size=\"14.00\" fill=\"#000000\">samples = 11.3%</text>\n<text text-anchor=\"start\" x=\"149.5\" y=\"-22.8\" font-family=\"Helvetica,sans-Serif\" font-size=\"14.00\" fill=\"#000000\">value = [0.306, 0.694]</text>\n<text text-anchor=\"start\" x=\"190.5\" y=\"-7.8\" font-family=\"Helvetica,sans-Serif\" font-size=\"14.00\" fill=\"#000000\">class = 1</text>\n</g>\n<!-- 2&#45;&gt;4 -->\n<g id=\"edge4\" class=\"edge\">\n<title>2&#45;&gt;4</title>\n<path fill=\"none\" stroke=\"#000000\" d=\"M219.5,-103.9815C219.5,-95.618 219.5,-86.7965 219.5,-78.3409\"/>\n<polygon fill=\"#000000\" stroke=\"#000000\" points=\"223.0001,-78.2636 219.5,-68.2637 216.0001,-78.2637 223.0001,-78.2636\"/>\n</g>\n<!-- 6 -->\n<g id=\"node7\" class=\"node\">\n<title>6</title>\n<path fill=\"#efb286\" stroke=\"#000000\" d=\"M459.5,-68C459.5,-68 327.5,-68 327.5,-68 321.5,-68 315.5,-62 315.5,-56 315.5,-56 315.5,-12 315.5,-12 315.5,-6 321.5,0 327.5,0 327.5,0 459.5,0 459.5,0 465.5,0 471.5,-6 471.5,-12 471.5,-12 471.5,-56 471.5,-56 471.5,-62 465.5,-68 459.5,-68\"/>\n<text text-anchor=\"start\" x=\"355.5\" y=\"-52.8\" font-family=\"Helvetica,sans-Serif\" font-size=\"14.00\" fill=\"#000000\">gini = 0.404</text>\n<text text-anchor=\"start\" x=\"337.5\" y=\"-37.8\" font-family=\"Helvetica,sans-Serif\" font-size=\"14.00\" fill=\"#000000\">samples = 10.0%</text>\n<text text-anchor=\"start\" x=\"323.5\" y=\"-22.8\" font-family=\"Helvetica,sans-Serif\" font-size=\"14.00\" fill=\"#000000\">value = [0.719, 0.281]</text>\n<text text-anchor=\"start\" x=\"364.5\" y=\"-7.8\" font-family=\"Helvetica,sans-Serif\" font-size=\"14.00\" fill=\"#000000\">class = 0</text>\n</g>\n<!-- 5&#45;&gt;6 -->\n<g id=\"edge6\" class=\"edge\">\n<title>5&#45;&gt;6</title>\n<path fill=\"none\" stroke=\"#000000\" d=\"M468.1888,-103.9815C458.1837,-94.607 447.5646,-84.6572 437.5696,-75.2921\"/>\n<polygon fill=\"#000000\" stroke=\"#000000\" points=\"439.7588,-72.547 430.0684,-68.2637 434.9726,-77.6551 439.7588,-72.547\"/>\n</g>\n<!-- 7 -->\n<g id=\"node8\" class=\"node\">\n<title>7</title>\n<path fill=\"#d5eaf9\" stroke=\"#000000\" d=\"M617.5,-68C617.5,-68 501.5,-68 501.5,-68 495.5,-68 489.5,-62 489.5,-56 489.5,-56 489.5,-12 489.5,-12 489.5,-6 495.5,0 501.5,0 501.5,0 617.5,0 617.5,0 623.5,0 629.5,-6 629.5,-12 629.5,-12 629.5,-56 629.5,-56 629.5,-62 623.5,-68 617.5,-68\"/>\n<text text-anchor=\"start\" x=\"521.5\" y=\"-52.8\" font-family=\"Helvetica,sans-Serif\" font-size=\"14.00\" fill=\"#000000\">gini = 0.493</text>\n<text text-anchor=\"start\" x=\"503.5\" y=\"-37.8\" font-family=\"Helvetica,sans-Serif\" font-size=\"14.00\" fill=\"#000000\">samples = 34.2%</text>\n<text text-anchor=\"start\" x=\"497.5\" y=\"-22.8\" font-family=\"Helvetica,sans-Serif\" font-size=\"14.00\" fill=\"#000000\">value = [0.44, 0.56]</text>\n<text text-anchor=\"start\" x=\"530.5\" y=\"-7.8\" font-family=\"Helvetica,sans-Serif\" font-size=\"14.00\" fill=\"#000000\">class = 1</text>\n</g>\n<!-- 5&#45;&gt;7 -->\n<g id=\"edge7\" class=\"edge\">\n<title>5&#45;&gt;7</title>\n<path fill=\"none\" stroke=\"#000000\" d=\"M530.0011,-103.9815C533.6427,-95.3423 537.4903,-86.2144 541.1612,-77.5059\"/>\n<polygon fill=\"#000000\" stroke=\"#000000\" points=\"544.3979,-78.838 545.057,-68.2637 537.9475,-76.119 544.3979,-78.838\"/>\n</g>\n<!-- 9 -->\n<g id=\"node10\" class=\"node\">\n<title>9</title>\n<path fill=\"#65b3eb\" stroke=\"#000000\" d=\"M840,-187C840,-187 687,-187 687,-187 681,-187 675,-181 675,-175 675,-175 675,-116 675,-116 675,-110 681,-104 687,-104 687,-104 840,-104 840,-104 846,-104 852,-110 852,-116 852,-116 852,-175 852,-175 852,-181 846,-187 840,-187\"/>\n<text text-anchor=\"start\" x=\"683\" y=\"-171.8\" font-family=\"Helvetica,sans-Serif\" font-size=\"14.00\" fill=\"#000000\">CD8_central_intra ≤ 40.5</text>\n<text text-anchor=\"start\" x=\"725.5\" y=\"-156.8\" font-family=\"Helvetica,sans-Serif\" font-size=\"14.00\" fill=\"#000000\">gini = 0.296</text>\n<text text-anchor=\"start\" x=\"707.5\" y=\"-141.8\" font-family=\"Helvetica,sans-Serif\" font-size=\"14.00\" fill=\"#000000\">samples = 19.1%</text>\n<text text-anchor=\"start\" x=\"701.5\" y=\"-126.8\" font-family=\"Helvetica,sans-Serif\" font-size=\"14.00\" fill=\"#000000\">value = [0.18, 0.82]</text>\n<text text-anchor=\"start\" x=\"734.5\" y=\"-111.8\" font-family=\"Helvetica,sans-Serif\" font-size=\"14.00\" fill=\"#000000\">class = 1</text>\n</g>\n<!-- 8&#45;&gt;9 -->\n<g id=\"edge9\" class=\"edge\">\n<title>8&#45;&gt;9</title>\n<path fill=\"none\" stroke=\"#000000\" d=\"M763.5,-222.8796C763.5,-214.6838 763.5,-205.9891 763.5,-197.5013\"/>\n<polygon fill=\"#000000\" stroke=\"#000000\" points=\"767.0001,-197.298 763.5,-187.2981 760.0001,-197.2981 767.0001,-197.298\"/>\n</g>\n<!-- 12 -->\n<g id=\"node13\" class=\"node\">\n<title>12</title>\n<path fill=\"#a2d1f3\" stroke=\"#000000\" d=\"M1131,-187C1131,-187 984,-187 984,-187 978,-187 972,-181 972,-175 972,-175 972,-116 972,-116 972,-110 978,-104 984,-104 984,-104 1131,-104 1131,-104 1137,-104 1143,-110 1143,-116 1143,-116 1143,-175 1143,-175 1143,-181 1137,-187 1131,-187\"/>\n<text text-anchor=\"start\" x=\"980\" y=\"-171.8\" font-family=\"Helvetica,sans-Serif\" font-size=\"14.00\" fill=\"#000000\">Fibrosis_central ≤ 162.5</text>\n<text text-anchor=\"start\" x=\"1019.5\" y=\"-156.8\" font-family=\"Helvetica,sans-Serif\" font-size=\"14.00\" fill=\"#000000\">gini = 0.452</text>\n<text text-anchor=\"start\" x=\"1001.5\" y=\"-141.8\" font-family=\"Helvetica,sans-Serif\" font-size=\"14.00\" fill=\"#000000\">samples = 17.2%</text>\n<text text-anchor=\"start\" x=\"987.5\" y=\"-126.8\" font-family=\"Helvetica,sans-Serif\" font-size=\"14.00\" fill=\"#000000\">value = [0.345, 0.655]</text>\n<text text-anchor=\"start\" x=\"1028.5\" y=\"-111.8\" font-family=\"Helvetica,sans-Serif\" font-size=\"14.00\" fill=\"#000000\">class = 1</text>\n</g>\n<!-- 8&#45;&gt;12 -->\n<g id=\"edge12\" class=\"edge\">\n<title>8&#45;&gt;12</title>\n<path fill=\"none\" stroke=\"#000000\" d=\"M845.005,-231.5099C881.4286,-216.767 924.5956,-199.2946 962.477,-183.9617\"/>\n<polygon fill=\"#000000\" stroke=\"#000000\" points=\"964.0304,-187.1088 971.9867,-180.1125 961.404,-180.6202 964.0304,-187.1088\"/>\n</g>\n<!-- 10 -->\n<g id=\"node11\" class=\"node\">\n<title>10</title>\n<path fill=\"#54aae9\" stroke=\"#000000\" d=\"M775.5,-68C775.5,-68 659.5,-68 659.5,-68 653.5,-68 647.5,-62 647.5,-56 647.5,-56 647.5,-12 647.5,-12 647.5,-6 653.5,0 659.5,0 659.5,0 775.5,0 775.5,0 781.5,0 787.5,-6 787.5,-12 787.5,-12 787.5,-56 787.5,-56 787.5,-62 781.5,-68 775.5,-68\"/>\n<text text-anchor=\"start\" x=\"679.5\" y=\"-52.8\" font-family=\"Helvetica,sans-Serif\" font-size=\"14.00\" fill=\"#000000\">gini = 0.211</text>\n<text text-anchor=\"start\" x=\"665.5\" y=\"-37.8\" font-family=\"Helvetica,sans-Serif\" font-size=\"14.00\" fill=\"#000000\">samples = 7.8%</text>\n<text text-anchor=\"start\" x=\"655.5\" y=\"-22.8\" font-family=\"Helvetica,sans-Serif\" font-size=\"14.00\" fill=\"#000000\">value = [0.12, 0.88]</text>\n<text text-anchor=\"start\" x=\"688.5\" y=\"-7.8\" font-family=\"Helvetica,sans-Serif\" font-size=\"14.00\" fill=\"#000000\">class = 1</text>\n</g>\n<!-- 9&#45;&gt;10 -->\n<g id=\"edge10\" class=\"edge\">\n<title>9&#45;&gt;10</title>\n<path fill=\"none\" stroke=\"#000000\" d=\"M746.3713,-103.9815C742.845,-95.4342 739.1215,-86.4086 735.5633,-77.7839\"/>\n<polygon fill=\"#000000\" stroke=\"#000000\" points=\"738.685,-76.1731 731.6357,-68.2637 732.214,-78.8427 738.685,-76.1731\"/>\n</g>\n<!-- 11 -->\n<g id=\"node12\" class=\"node\">\n<title>11</title>\n<path fill=\"#72b9ec\" stroke=\"#000000\" d=\"M949.5,-68C949.5,-68 817.5,-68 817.5,-68 811.5,-68 805.5,-62 805.5,-56 805.5,-56 805.5,-12 805.5,-12 805.5,-6 811.5,0 817.5,0 817.5,0 949.5,0 949.5,0 955.5,0 961.5,-6 961.5,-12 961.5,-12 961.5,-56 961.5,-56 961.5,-62 955.5,-68 949.5,-68\"/>\n<text text-anchor=\"start\" x=\"845.5\" y=\"-52.8\" font-family=\"Helvetica,sans-Serif\" font-size=\"14.00\" fill=\"#000000\">gini = 0.346</text>\n<text text-anchor=\"start\" x=\"827.5\" y=\"-37.8\" font-family=\"Helvetica,sans-Serif\" font-size=\"14.00\" fill=\"#000000\">samples = 11.3%</text>\n<text text-anchor=\"start\" x=\"813.5\" y=\"-22.8\" font-family=\"Helvetica,sans-Serif\" font-size=\"14.00\" fill=\"#000000\">value = [0.222, 0.778]</text>\n<text text-anchor=\"start\" x=\"854.5\" y=\"-7.8\" font-family=\"Helvetica,sans-Serif\" font-size=\"14.00\" fill=\"#000000\">class = 1</text>\n</g>\n<!-- 9&#45;&gt;11 -->\n<g id=\"edge11\" class=\"edge\">\n<title>9&#45;&gt;11</title>\n<path fill=\"none\" stroke=\"#000000\" d=\"M808.1836,-103.9815C818.2727,-94.607 828.981,-84.6572 839.0601,-75.2921\"/>\n<polygon fill=\"#000000\" stroke=\"#000000\" points=\"841.6809,-77.6346 846.6243,-68.2637 836.9161,-72.5065 841.6809,-77.6346\"/>\n</g>\n<!-- 13 -->\n<g id=\"node14\" class=\"node\">\n<title>13</title>\n<path fill=\"#c8e4f8\" stroke=\"#000000\" d=\"M1123.5,-68C1123.5,-68 991.5,-68 991.5,-68 985.5,-68 979.5,-62 979.5,-56 979.5,-56 979.5,-12 979.5,-12 979.5,-6 985.5,0 991.5,0 991.5,0 1123.5,0 1123.5,0 1129.5,0 1135.5,-6 1135.5,-12 1135.5,-12 1135.5,-56 1135.5,-56 1135.5,-62 1129.5,-68 1123.5,-68\"/>\n<text text-anchor=\"start\" x=\"1019.5\" y=\"-52.8\" font-family=\"Helvetica,sans-Serif\" font-size=\"14.00\" fill=\"#000000\">gini = 0.487</text>\n<text text-anchor=\"start\" x=\"1005.5\" y=\"-37.8\" font-family=\"Helvetica,sans-Serif\" font-size=\"14.00\" fill=\"#000000\">samples = 9.7%</text>\n<text text-anchor=\"start\" x=\"987.5\" y=\"-22.8\" font-family=\"Helvetica,sans-Serif\" font-size=\"14.00\" fill=\"#000000\">value = [0.419, 0.581]</text>\n<text text-anchor=\"start\" x=\"1028.5\" y=\"-7.8\" font-family=\"Helvetica,sans-Serif\" font-size=\"14.00\" fill=\"#000000\">class = 1</text>\n</g>\n<!-- 12&#45;&gt;13 -->\n<g id=\"edge13\" class=\"edge\">\n<title>12&#45;&gt;13</title>\n<path fill=\"none\" stroke=\"#000000\" d=\"M1057.5,-103.9815C1057.5,-95.618 1057.5,-86.7965 1057.5,-78.3409\"/>\n<polygon fill=\"#000000\" stroke=\"#000000\" points=\"1061.0001,-78.2636 1057.5,-68.2637 1054.0001,-78.2637 1061.0001,-78.2636\"/>\n</g>\n<!-- 14 -->\n<g id=\"node15\" class=\"node\">\n<title>14</title>\n<path fill=\"#7bbeee\" stroke=\"#000000\" d=\"M1281.5,-68C1281.5,-68 1165.5,-68 1165.5,-68 1159.5,-68 1153.5,-62 1153.5,-56 1153.5,-56 1153.5,-12 1153.5,-12 1153.5,-6 1159.5,0 1165.5,0 1165.5,0 1281.5,0 1281.5,0 1287.5,0 1293.5,-6 1293.5,-12 1293.5,-12 1293.5,-56 1293.5,-56 1293.5,-62 1287.5,-68 1281.5,-68\"/>\n<text text-anchor=\"start\" x=\"1185.5\" y=\"-52.8\" font-family=\"Helvetica,sans-Serif\" font-size=\"14.00\" fill=\"#000000\">gini = 0.375</text>\n<text text-anchor=\"start\" x=\"1171.5\" y=\"-37.8\" font-family=\"Helvetica,sans-Serif\" font-size=\"14.00\" fill=\"#000000\">samples = 7.5%</text>\n<text text-anchor=\"start\" x=\"1161.5\" y=\"-22.8\" font-family=\"Helvetica,sans-Serif\" font-size=\"14.00\" fill=\"#000000\">value = [0.25, 0.75]</text>\n<text text-anchor=\"start\" x=\"1194.5\" y=\"-7.8\" font-family=\"Helvetica,sans-Serif\" font-size=\"14.00\" fill=\"#000000\">class = 1</text>\n</g>\n<!-- 12&#45;&gt;14 -->\n<g id=\"edge14\" class=\"edge\">\n<title>12&#45;&gt;14</title>\n<path fill=\"none\" stroke=\"#000000\" d=\"M1119.3123,-103.9815C1134.0301,-94.0957 1149.7005,-83.5701 1164.2981,-73.7651\"/>\n<polygon fill=\"#000000\" stroke=\"#000000\" points=\"1166.404,-76.5669 1172.7537,-68.0856 1162.5009,-70.7561 1166.404,-76.5669\"/>\n</g>\n</g>\n</svg>\n"
          },
          "metadata": {
            "tags": []
          },
          "execution_count": 180
        }
      ]
    },
    {
      "cell_type": "code",
      "metadata": {
        "id": "26YDadmxjrOn",
        "colab_type": "code",
        "outputId": "9f7506b5-6fce-46a0-958d-8c6d37d733ce",
        "colab": {
          "base_uri": "https://localhost:8080/",
          "height": 111
        }
      },
      "source": [
        "tree_['feature importance']"
      ],
      "execution_count": 0,
      "outputs": [
        {
          "output_type": "execute_result",
          "data": {
            "text/html": [
              "<div>\n",
              "<style scoped>\n",
              "    .dataframe tbody tr th:only-of-type {\n",
              "        vertical-align: middle;\n",
              "    }\n",
              "\n",
              "    .dataframe tbody tr th {\n",
              "        vertical-align: top;\n",
              "    }\n",
              "\n",
              "    .dataframe thead th {\n",
              "        text-align: right;\n",
              "    }\n",
              "</style>\n",
              "<table border=\"1\" class=\"dataframe\">\n",
              "  <thead>\n",
              "    <tr style=\"text-align: right;\">\n",
              "      <th></th>\n",
              "      <th>feature</th>\n",
              "      <th>importance</th>\n",
              "    </tr>\n",
              "  </thead>\n",
              "  <tbody>\n",
              "    <tr>\n",
              "      <th>0</th>\n",
              "      <td>CD8_central_intra</td>\n",
              "      <td>0.518516</td>\n",
              "    </tr>\n",
              "    <tr>\n",
              "      <th>1</th>\n",
              "      <td>Fibrosis_central</td>\n",
              "      <td>0.481484</td>\n",
              "    </tr>\n",
              "  </tbody>\n",
              "</table>\n",
              "</div>"
            ],
            "text/plain": [
              "             feature  importance\n",
              "0  CD8_central_intra    0.518516\n",
              "1   Fibrosis_central    0.481484"
            ]
          },
          "metadata": {
            "tags": []
          },
          "execution_count": 190
        }
      ]
    },
    {
      "cell_type": "code",
      "metadata": {
        "id": "lRxbOaa6qoBo",
        "colab_type": "code",
        "outputId": "0fac3c52-fb03-4d7b-99d6-191e38918d20",
        "colab": {
          "base_uri": "https://localhost:8080/",
          "height": 68
        }
      },
      "source": [
        "pd.value_counts(ts_y) "
      ],
      "execution_count": 0,
      "outputs": [
        {
          "output_type": "execute_result",
          "data": {
            "text/plain": [
              "1    71\n",
              "0    67\n",
              "dtype: int64"
            ]
          },
          "metadata": {
            "tags": []
          },
          "execution_count": 181
        }
      ]
    },
    {
      "cell_type": "code",
      "metadata": {
        "id": "TN6Te4NorNMp",
        "colab_type": "code",
        "outputId": "6d7f1f5e-0d25-42ae-d932-83c47d870e34",
        "colab": {
          "base_uri": "https://localhost:8080/",
          "height": 68
        }
      },
      "source": [
        "pd.value_counts(y) / len(y)"
      ],
      "execution_count": 0,
      "outputs": [
        {
          "output_type": "execute_result",
          "data": {
            "text/plain": [
              "1    0.579869\n",
              "0    0.420131\n",
              "dtype: float64"
            ]
          },
          "metadata": {
            "tags": []
          },
          "execution_count": 182
        }
      ]
    },
    {
      "cell_type": "code",
      "metadata": {
        "id": "5Em5V1qLrQzK",
        "colab_type": "code",
        "outputId": "cd0819a7-f6d8-4392-82ad-8ff6b9687ea6",
        "colab": {
          "base_uri": "https://localhost:8080/",
          "height": 131
        }
      },
      "source": [
        "!pip install lightgbm"
      ],
      "execution_count": 0,
      "outputs": [
        {
          "output_type": "stream",
          "text": [
            "Requirement already satisfied: lightgbm in /usr/local/lib/python3.6/dist-packages (2.2.3)\n",
            "Requirement already satisfied: scipy in /usr/local/lib/python3.6/dist-packages (from lightgbm) (1.3.1)\n",
            "Requirement already satisfied: numpy in /usr/local/lib/python3.6/dist-packages (from lightgbm) (1.16.5)\n",
            "Requirement already satisfied: scikit-learn in /usr/local/lib/python3.6/dist-packages (from lightgbm) (0.21.3)\n",
            "Requirement already satisfied: joblib>=0.11 in /usr/local/lib/python3.6/dist-packages (from scikit-learn->lightgbm) (0.14.0)\n"
          ],
          "name": "stdout"
        }
      ]
    },
    {
      "cell_type": "code",
      "metadata": {
        "id": "9c6F3bWKirFK",
        "colab_type": "code",
        "colab": {}
      },
      "source": [
        "from sklearn.ensemble import RandomForestClassifier"
      ],
      "execution_count": 0,
      "outputs": []
    },
    {
      "cell_type": "code",
      "metadata": {
        "id": "US7D-ZIri_BP",
        "colab_type": "code",
        "colab": {}
      },
      "source": [
        "rf = RandomForestClassifier(n_estimators=10).fit(df[cols].reset_index(drop=True).iloc[tr_idx], tr_y)"
      ],
      "execution_count": 0,
      "outputs": []
    },
    {
      "cell_type": "code",
      "metadata": {
        "id": "7gWBnrSdjJhO",
        "colab_type": "code",
        "outputId": "42429b1a-8778-4e5b-d651-5ad4165bda9c",
        "colab": {
          "base_uri": "https://localhost:8080/",
          "height": 176
        }
      },
      "source": [
        "rf_pred = rf.predict(df[cols].reset_index(drop=True).iloc[ts_idx])\n",
        "rf_prob = rf.predict_proba(df[cols].reset_index(drop=True).iloc[ts_idx])[:, 1]\n",
        "tree_modeling.compute_performance(ts_y, rf_pred, rf_prob)"
      ],
      "execution_count": 0,
      "outputs": [
        {
          "output_type": "stream",
          "text": [
            "{'AUC': 0.5991170906033214, 'accuracy': 0.5797101449275363, 'precision': 0.5942028985507246, 'recall': 0.5774647887323944, 'f1': 0.5857142857142856, 'mcc': 0.15948730132917738}\n"
          ],
          "name": "stdout"
        },
        {
          "output_type": "execute_result",
          "data": {
            "text/plain": [
              "{'AUC': 0.5991170906033214,\n",
              " 'accuracy': 0.5797101449275363,\n",
              " 'f1': 0.5857142857142856,\n",
              " 'mcc': 0.15948730132917738,\n",
              " 'precision': 0.5942028985507246,\n",
              " 'recall': 0.5774647887323944}"
            ]
          },
          "metadata": {
            "tags": []
          },
          "execution_count": 189
        }
      ]
    },
    {
      "cell_type": "code",
      "metadata": {
        "id": "tqlbNuC2jXSh",
        "colab_type": "code",
        "outputId": "9636e33c-a443-4c74-b17f-53bc8bed662a",
        "colab": {
          "base_uri": "https://localhost:8080/",
          "height": 34
        }
      },
      "source": [
        "rf.feature_importances_"
      ],
      "execution_count": 0,
      "outputs": [
        {
          "output_type": "execute_result",
          "data": {
            "text/plain": [
              "array([0.5616732, 0.4383268])"
            ]
          },
          "metadata": {
            "tags": []
          },
          "execution_count": 191
        }
      ]
    },
    {
      "cell_type": "code",
      "metadata": {
        "id": "npBaeA17jxXq",
        "colab_type": "code",
        "colab": {}
      },
      "source": [
        ""
      ],
      "execution_count": 0,
      "outputs": []
    }
  ]
}