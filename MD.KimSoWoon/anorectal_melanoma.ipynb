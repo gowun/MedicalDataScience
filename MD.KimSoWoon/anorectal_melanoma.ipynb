{
  "nbformat": 4,
  "nbformat_minor": 0,
  "metadata": {
    "colab": {
      "name": "anorectal_melanoma.ipynb",
      "provenance": []
    },
    "kernelspec": {
      "name": "python3",
      "display_name": "Python 3"
    }
  },
  "cells": [
    {
      "cell_type": "code",
      "metadata": {
        "id": "LkFwCeZM3mJm",
        "colab_type": "code",
        "colab": {}
      },
      "source": [
        "!pip install shap\n",
        "!pip install importlib\n",
        "!pip install lifelines\n",
        "!pip install plotly"
      ],
      "execution_count": 0,
      "outputs": []
    },
    {
      "cell_type": "code",
      "metadata": {
        "id": "q8crR7N6O7w7",
        "colab_type": "code",
        "outputId": "869c5b13-64a2-4585-c346-bf0681f8550c",
        "colab": {
          "base_uri": "https://localhost:8080/",
          "height": 303
        }
      },
      "source": [
        "from google.colab import auth\n",
        "from google.colab import drive\n",
        "import pandas as pd\n",
        "import numpy as np\n",
        "pd.set_option('display.max_colwidth', -1)\n",
        "auth.authenticate_user()\n",
        "drive.mount('/content/gdrive')"
      ],
      "execution_count": 0,
      "outputs": [
        {
          "output_type": "stream",
          "text": [
            "Go to this URL in a browser: https://accounts.google.com/o/oauth2/auth?client_id=947318989803-6bn6qk8qdgf4n4g3pfee6491hc0brc4i.apps.googleusercontent.com&redirect_uri=urn%3Aietf%3Awg%3Aoauth%3A2.0%3Aoob&scope=email%20https%3A%2F%2Fwww.googleapis.com%2Fauth%2Fdocs.test%20https%3A%2F%2Fwww.googleapis.com%2Fauth%2Fdrive%20https%3A%2F%2Fwww.googleapis.com%2Fauth%2Fdrive.photos.readonly%20https%3A%2F%2Fwww.googleapis.com%2Fauth%2Fpeopleapi.readonly&response_type=code\n",
            "\n",
            "Enter your authorization code:\n",
            "··········\n",
            "Mounted at /content/gdrive\n"
          ],
          "name": "stdout"
        }
      ]
    },
    {
      "cell_type": "code",
      "metadata": {
        "id": "SKLWL1o7PEgt",
        "colab_type": "code",
        "colab": {}
      },
      "source": [
        "!ls '/content/gdrive/My Drive/MD.KimSW'"
      ],
      "execution_count": 0,
      "outputs": []
    },
    {
      "cell_type": "code",
      "metadata": {
        "id": "nEsz2bSgPfSC",
        "colab_type": "code",
        "colab": {}
      },
      "source": [
        "home_path = '/content/gdrive/My Drive/'\n",
        "df = pd.read_csv(home_path + 'MD.KimSW/2019.08.29 면역정보-표 1.csv')"
      ],
      "execution_count": 0,
      "outputs": []
    },
    {
      "cell_type": "code",
      "metadata": {
        "id": "SkkAsRQWPqYY",
        "colab_type": "code",
        "outputId": "6d85dcaa-981e-4492-ff49-c3f45414d559",
        "colab": {
          "base_uri": "https://localhost:8080/",
          "height": 595
        }
      },
      "source": [
        "cols1 = list(df.columns)\n",
        "cols2 = df.iloc[0].values\n",
        "cols = df.iloc[1].values\n",
        "for i, c in enumerate(cols2):\n",
        "  if type(cols[i]) != str:\n",
        "    cols[i] = ''\n",
        "  if type(c) == str:\n",
        "    prefix2 = c\n",
        "    if type(cols1[i]) == str and not cols1[i].startswith('Unnamed'):\n",
        "      prefix1 = cols1[i]\n",
        "  if type(cols[i]) == str and ('epithelial' in cols[i] or 'stromal' in cols[i]):\n",
        "    cols[i] = '_'.join([prefix1, prefix2, cols[i]])\n",
        "cols"
      ],
      "execution_count": 0,
      "outputs": [
        {
          "output_type": "execute_result",
          "data": {
            "text/plain": [
              "array(['', '등록번호', '성별', '나이', '이름', '병리 검사번호', 'excluded',\n",
              "       'CD3_invasion front_epithelial1', 'CD3_invasion front_epithelial2',\n",
              "       'CD3_invasion front_stromal1', 'CD3_invasion front_stromal2',\n",
              "       'CD3_center_epithelial1', 'CD3_center_epithelial2',\n",
              "       'CD3_center_stromal1', 'CD3_center_stromal2',\n",
              "       'CD8_invasion front_epithelial1', 'CD8_invasion front_epithelial2',\n",
              "       'CD8_invasion front_stromal1', 'CD8_invasion front_stromal2',\n",
              "       'CD8_center_epithelial1', 'CD8_center_epithelial2',\n",
              "       'CD8_center_stromal1', 'CD8_center_stromal2',\n",
              "       'Foxp3_invasion front_epithelial1',\n",
              "       'Foxp3_invasion front_epithelial2',\n",
              "       'Foxp3_invasion front_stromal1', 'Foxp3_invasion front_stromal2',\n",
              "       'Foxp3_center_epithelial1', 'Foxp3_center_epithelial2',\n",
              "       'Foxp3_center_stromal1', 'Foxp3_center_stromal2',\n",
              "       'CD68_invasion front_epithelial1',\n",
              "       'CD68_invasion front_epithelial2', 'CD68_invasion front_stromal1',\n",
              "       'CD68_invasion front_stromal2', 'CD68_center_epithelial1',\n",
              "       'CD68_center_epithelial2', 'CD68_center_stromal1',\n",
              "       'CD68_center_stromal2', 'CD163_invasion front_epithelial1',\n",
              "       'CD163_invasion front_epithelial2',\n",
              "       'CD163_invasion front_stromal1', 'CD163_invasion front_stromal2',\n",
              "       'CD163_center_epithelial1', 'CD163_center_epithelial2',\n",
              "       'CD163_center_stromal1', 'CD163_center_stromal2', 'tumor',\n",
              "       'last_FU_date', 'op_date', 'recur', 'recur_date',\n",
              "       'recur_duration (month)', 'death', 'duration (month)', 'BRAF',\n",
              "       'NRAS', 'size', 'depth', 'LVI', 'PNI', 'radial RM', 'pT', 'pN',\n",
              "       'pM', 'LN meta', 'LN size(mm)', 'LN_patho', 'HMB-45', 'S-100',\n",
              "       'melan A', '', 'Good MR image\\n(논문에 실릴 만한 case들)', 'gross color',\n",
              "       'Morphology', 'Good MR image\\n(논문에 실릴 만한 case들)', 'rec_site',\n",
              "       'Meta', 'recur', 'event', 'treatment', 'response',\n",
              "       'diagnosis date', 'event date', 'death date', 'other disease',\n",
              "       'death', 'duration', 'Epicenter', 'external sphincter', 'N갯수',\n",
              "       'Confirm 방법', 'location', 'Meta', 'event', 'treatment',\n",
              "       'treatment', 'diagnosis date'], dtype=object)"
            ]
          },
          "metadata": {
            "tags": []
          },
          "execution_count": 4
        }
      ]
    },
    {
      "cell_type": "code",
      "metadata": {
        "id": "0qfe6oW5P26i",
        "colab_type": "code",
        "colab": {}
      },
      "source": [
        "df.columns = cols\n",
        "df = df.drop([0, 1]).reset_index(drop=True)[:24]"
      ],
      "execution_count": 0,
      "outputs": []
    },
    {
      "cell_type": "code",
      "metadata": {
        "id": "8xllIzkrQcuS",
        "colab_type": "code",
        "outputId": "b51238e3-57c4-4f9d-8be0-cc335d7a5e48",
        "colab": {
          "base_uri": "https://localhost:8080/",
          "height": 34
        }
      },
      "source": [
        "df.shape"
      ],
      "execution_count": 0,
      "outputs": [
        {
          "output_type": "execute_result",
          "data": {
            "text/plain": [
              "(24, 98)"
            ]
          },
          "metadata": {
            "tags": []
          },
          "execution_count": 6
        }
      ]
    },
    {
      "cell_type": "code",
      "metadata": {
        "id": "PiwGLuoiQ0Ab",
        "colab_type": "code",
        "colab": {}
      },
      "source": [
        "X_cols = ['excluded'] + list(filter(lambda x: ('epithelial' in x) or ('stromal' in x), cols))"
      ],
      "execution_count": 0,
      "outputs": []
    },
    {
      "cell_type": "code",
      "metadata": {
        "id": "ZjsCBed0TmaI",
        "colab_type": "code",
        "colab": {}
      },
      "source": [
        "i = 0\n",
        "df_arr = list()\n",
        "df_cols = list()\n",
        "while i < len(X_cols):\n",
        "  if X_cols[i].endswith('1'):\n",
        "    df_cols.append(X_cols[i][:-1])\n",
        "    df_arr.append(df[[X_cols[i], X_cols[i+1]]].mean(1).values)\n",
        "    i += 2\n",
        "  else:\n",
        "    df_cols.append(X_cols[i])\n",
        "    df_arr.append(df[X_cols[i]])\n",
        "    i += 1\n",
        "df_arr = pd.DataFrame(np.array(df_arr).T, columns=df_cols)"
      ],
      "execution_count": 0,
      "outputs": []
    },
    {
      "cell_type": "code",
      "metadata": {
        "id": "yXwB0MKwVfZf",
        "colab_type": "code",
        "outputId": "89c0727f-6b96-4636-9dc3-7ae0c137cfa0",
        "colab": {
          "base_uri": "https://localhost:8080/",
          "height": 321
        }
      },
      "source": [
        "df_arr.head()"
      ],
      "execution_count": 0,
      "outputs": [
        {
          "output_type": "execute_result",
          "data": {
            "text/html": [
              "<div>\n",
              "<style scoped>\n",
              "    .dataframe tbody tr th:only-of-type {\n",
              "        vertical-align: middle;\n",
              "    }\n",
              "\n",
              "    .dataframe tbody tr th {\n",
              "        vertical-align: top;\n",
              "    }\n",
              "\n",
              "    .dataframe thead th {\n",
              "        text-align: right;\n",
              "    }\n",
              "</style>\n",
              "<table border=\"1\" class=\"dataframe\">\n",
              "  <thead>\n",
              "    <tr style=\"text-align: right;\">\n",
              "      <th></th>\n",
              "      <th>excluded</th>\n",
              "      <th>CD3_invasion front_epithelial</th>\n",
              "      <th>CD3_invasion front_stromal</th>\n",
              "      <th>CD3_center_epithelial</th>\n",
              "      <th>CD3_center_stromal</th>\n",
              "      <th>CD8_invasion front_epithelial</th>\n",
              "      <th>CD8_invasion front_stromal</th>\n",
              "      <th>CD8_center_epithelial</th>\n",
              "      <th>CD8_center_stromal</th>\n",
              "      <th>Foxp3_invasion front_epithelial</th>\n",
              "      <th>Foxp3_invasion front_stromal</th>\n",
              "      <th>Foxp3_center_epithelial</th>\n",
              "      <th>Foxp3_center_stromal</th>\n",
              "      <th>CD68_invasion front_epithelial</th>\n",
              "      <th>CD68_invasion front_stromal</th>\n",
              "      <th>CD68_center_epithelial</th>\n",
              "      <th>CD68_center_stromal</th>\n",
              "      <th>CD163_invasion front_epithelial</th>\n",
              "      <th>CD163_invasion front_stromal</th>\n",
              "      <th>CD163_center_epithelial</th>\n",
              "      <th>CD163_center_stromal</th>\n",
              "    </tr>\n",
              "  </thead>\n",
              "  <tbody>\n",
              "    <tr>\n",
              "      <th>0</th>\n",
              "      <td>0</td>\n",
              "      <td>2506.5</td>\n",
              "      <td>82.5</td>\n",
              "      <td>15</td>\n",
              "      <td>60.5</td>\n",
              "      <td>121</td>\n",
              "      <td>116</td>\n",
              "      <td>56.5</td>\n",
              "      <td>0</td>\n",
              "      <td>36.5</td>\n",
              "      <td>0</td>\n",
              "      <td>0.5</td>\n",
              "      <td>0</td>\n",
              "      <td>1510</td>\n",
              "      <td>26</td>\n",
              "      <td>1465</td>\n",
              "      <td>12.5</td>\n",
              "      <td>1913.5</td>\n",
              "      <td>26</td>\n",
              "      <td>2282.5</td>\n",
              "      <td>27.5</td>\n",
              "    </tr>\n",
              "    <tr>\n",
              "      <th>1</th>\n",
              "      <td>1</td>\n",
              "      <td>626</td>\n",
              "      <td>1565</td>\n",
              "      <td>1206</td>\n",
              "      <td>5</td>\n",
              "      <td>8.5</td>\n",
              "      <td>110</td>\n",
              "      <td>93</td>\n",
              "      <td>0.5</td>\n",
              "      <td>5.5</td>\n",
              "      <td>0</td>\n",
              "      <td>6</td>\n",
              "      <td>0</td>\n",
              "      <td>456.5</td>\n",
              "      <td>614</td>\n",
              "      <td>69.5</td>\n",
              "      <td>10.5</td>\n",
              "      <td>41.5</td>\n",
              "      <td>906</td>\n",
              "      <td>42.5</td>\n",
              "      <td>757.5</td>\n",
              "    </tr>\n",
              "    <tr>\n",
              "      <th>2</th>\n",
              "      <td>0</td>\n",
              "      <td>36560.5</td>\n",
              "      <td>155</td>\n",
              "      <td>85110</td>\n",
              "      <td>12.5</td>\n",
              "      <td>27</td>\n",
              "      <td>6</td>\n",
              "      <td>1260</td>\n",
              "      <td>7.5</td>\n",
              "      <td>58.5</td>\n",
              "      <td>5</td>\n",
              "      <td>405</td>\n",
              "      <td>0</td>\n",
              "      <td>3520</td>\n",
              "      <td>505</td>\n",
              "      <td>3084</td>\n",
              "      <td>7.5</td>\n",
              "      <td>2116</td>\n",
              "      <td>26</td>\n",
              "      <td>2632.5</td>\n",
              "      <td>27.5</td>\n",
              "    </tr>\n",
              "    <tr>\n",
              "      <th>3</th>\n",
              "      <td>0</td>\n",
              "      <td>61572.5</td>\n",
              "      <td>256</td>\n",
              "      <td>7047.5</td>\n",
              "      <td>28</td>\n",
              "      <td>1555</td>\n",
              "      <td>110</td>\n",
              "      <td>1765.5</td>\n",
              "      <td>0.5</td>\n",
              "      <td>5.5</td>\n",
              "      <td>0</td>\n",
              "      <td>36</td>\n",
              "      <td>5</td>\n",
              "      <td>505</td>\n",
              "      <td>11</td>\n",
              "      <td>1878.5</td>\n",
              "      <td>12.5</td>\n",
              "      <td>355</td>\n",
              "      <td>2773</td>\n",
              "      <td>47551</td>\n",
              "      <td>26</td>\n",
              "    </tr>\n",
              "    <tr>\n",
              "      <th>4</th>\n",
              "      <td>0</td>\n",
              "      <td>105</td>\n",
              "      <td>2030.5</td>\n",
              "      <td>84</td>\n",
              "      <td>12.5</td>\n",
              "      <td>0</td>\n",
              "      <td>0</td>\n",
              "      <td>5.5</td>\n",
              "      <td>0</td>\n",
              "      <td>0</td>\n",
              "      <td>0</td>\n",
              "      <td>0</td>\n",
              "      <td>0</td>\n",
              "      <td>757.5</td>\n",
              "      <td>4778</td>\n",
              "      <td>1610.5</td>\n",
              "      <td>517.5</td>\n",
              "      <td>54</td>\n",
              "      <td>2821</td>\n",
              "      <td>2110</td>\n",
              "      <td>505</td>\n",
              "    </tr>\n",
              "  </tbody>\n",
              "</table>\n",
              "</div>"
            ],
            "text/plain": [
              "  excluded  ... CD163_center_stromal\n",
              "0  0        ...  27.5               \n",
              "1  1        ...  757.5              \n",
              "2  0        ...  27.5               \n",
              "3  0        ...  26                 \n",
              "4  0        ...  505                \n",
              "\n",
              "[5 rows x 21 columns]"
            ]
          },
          "metadata": {
            "tags": []
          },
          "execution_count": 9
        }
      ]
    },
    {
      "cell_type": "code",
      "metadata": {
        "id": "RIJOnzZAWuBT",
        "colab_type": "code",
        "outputId": "a790e497-a87f-4d8f-e3bd-6e3a58ef79d4",
        "colab": {
          "base_uri": "https://localhost:8080/",
          "height": 171
        }
      },
      "source": [
        "from importlib.machinery import SourceFileLoader\n",
        "\n",
        "preprocessing = SourceFileLoader('preprocessing', home_path + 'modeling_tools/preprocessing.py').load_module()\n",
        "tree_modeling = SourceFileLoader('tree_modeling', home_path + 'modeling_tools/tree_modeling.py').load_module()\n",
        "survival_analysis = SourceFileLoader('tree_modeling', home_path + 'modeling_tools/survival_analysis.py').load_module()"
      ],
      "execution_count": 0,
      "outputs": [
        {
          "output_type": "stream",
          "text": [
            "/usr/local/lib/python3.6/dist-packages/sklearn/externals/six.py:31: DeprecationWarning: The module is deprecated in version 0.21 and will be removed in version 0.23 since we've dropped support for Python 2.7. Please rely on the official version of six (https://pypi.org/project/six/).\n",
            "  \"(https://pypi.org/project/six/).\", DeprecationWarning)\n"
          ],
          "name": "stderr"
        }
      ]
    },
    {
      "cell_type": "code",
      "metadata": {
        "id": "DGMnOHl3YbC_",
        "colab_type": "code",
        "outputId": "82490b00-ca8b-47e0-ed78-5df8d9395710",
        "colab": {
          "base_uri": "https://localhost:8080/",
          "height": 34
        }
      },
      "source": [
        "y = df['recur'].values[:, 0]\n",
        "y[y == '1/n'] = '1'\n",
        "y = list(map(lambda x: int(x), y))\n",
        "y"
      ],
      "execution_count": 0,
      "outputs": [
        {
          "output_type": "execute_result",
          "data": {
            "text/html": [
              "[0, 1, 0, 1, 2, 0, 0, 1, 0, 1, 1, 0, 0, 2, 1, 0, 0, 0, 1, 1, 1, 0, 1, 0]"
            ],
            "text/plain": [
              "[0, 1, 0, 1, 2, 0, 0, 1, 0, 1, 1, 0, 0, 2, 1, 0, 0, 0, 1, 1, 1, 0, 1, 0]"
            ]
          },
          "metadata": {
            "tags": []
          },
          "execution_count": 11
        }
      ]
    },
    {
      "cell_type": "code",
      "metadata": {
        "id": "4CjYwbjrZ8ab",
        "colab_type": "code",
        "outputId": "92508e56-2917-4948-9c16-f8d844db0517",
        "colab": {
          "base_uri": "https://localhost:8080/",
          "height": 34
        }
      },
      "source": [
        "y_01 = list(map(lambda x: 0 if x == 2 else x, y))\n",
        "y_01"
      ],
      "execution_count": 0,
      "outputs": [
        {
          "output_type": "execute_result",
          "data": {
            "text/html": [
              "[0, 1, 0, 1, 0, 0, 0, 1, 0, 1, 1, 0, 0, 0, 1, 0, 0, 0, 1, 1, 1, 0, 1, 0]"
            ],
            "text/plain": [
              "[0, 1, 0, 1, 0, 0, 0, 1, 0, 1, 1, 0, 0, 0, 1, 0, 0, 0, 1, 1, 1, 0, 1, 0]"
            ]
          },
          "metadata": {
            "tags": []
          },
          "execution_count": 12
        }
      ]
    },
    {
      "cell_type": "code",
      "metadata": {
        "id": "cbcg2aCOfS2y",
        "colab_type": "code",
        "colab": {}
      },
      "source": [
        "from sklearn.preprocessing import MinMaxScaler\n",
        "\n",
        "sc = MinMaxScaler()\n",
        "df_nor = sc.fit_transform(df_arr)\n",
        "df_nor = pd.DataFrame(df_nor, columns=df_arr.columns)"
      ],
      "execution_count": 0,
      "outputs": []
    },
    {
      "cell_type": "code",
      "metadata": {
        "id": "RgLpYeOmdSkB",
        "colab_type": "code",
        "outputId": "c4399c30-e205-487b-ba46-68730d84f3b2",
        "colab": {
          "base_uri": "https://localhost:8080/",
          "height": 151
        }
      },
      "source": [
        "from sklearn.linear_model import LogisticRegression\n",
        "\n",
        "clf = LogisticRegression(class_weight='balanced', max_iter=10).fit(df_nor, y_01)"
      ],
      "execution_count": 0,
      "outputs": [
        {
          "output_type": "stream",
          "text": [
            "/usr/local/lib/python3.6/dist-packages/sklearn/linear_model/logistic.py:432: FutureWarning: Default solver will be changed to 'lbfgs' in 0.22. Specify a solver to silence this warning.\n",
            "  FutureWarning)\n"
          ],
          "name": "stderr"
        }
      ]
    },
    {
      "cell_type": "code",
      "metadata": {
        "id": "o6ghsdl1gclQ",
        "colab_type": "code",
        "outputId": "240907df-197e-4bd8-b806-205142ae5fc4",
        "colab": {
          "base_uri": "https://localhost:8080/",
          "height": 196
        }
      },
      "source": [
        "pred1 = clf.predict(df_nor)\n",
        "score1 = clf.predict_proba(df_nor)[:, 1]\n",
        "tree_modeling.compute_performance(y_01, pred1, score1)"
      ],
      "execution_count": 0,
      "outputs": [
        {
          "output_type": "stream",
          "text": [
            "{'AUC': 0.9214285714285715, 'accuracy': 0.9166666666666666, 'precision': 0.8333333333333334, 'recall': 1.0, 'f1': 0.9090909090909091, 'mcc': 0.8451542547285166}\n"
          ],
          "name": "stdout"
        },
        {
          "output_type": "execute_result",
          "data": {
            "text/plain": [
              "{'AUC': 0.9214285714285715,\n",
              " 'accuracy': 0.9166666666666666,\n",
              " 'f1': 0.9090909090909091,\n",
              " 'mcc': 0.8451542547285166,\n",
              " 'precision': 0.8333333333333334,\n",
              " 'recall': 1.0}"
            ]
          },
          "metadata": {
            "tags": []
          },
          "execution_count": 28
        }
      ]
    },
    {
      "cell_type": "code",
      "metadata": {
        "id": "WGxuoy_qhJoL",
        "colab_type": "code",
        "outputId": "e6a63146-bc8a-479e-956e-34b15463aa74",
        "colab": {
          "base_uri": "https://localhost:8080/",
          "height": 731
        }
      },
      "source": [
        "pd.DataFrame({'feature': [''] + list(df_nor.columns),  'coefficient': list(clf.intercept_) + list(clf.coef_[0])})"
      ],
      "execution_count": 0,
      "outputs": [
        {
          "output_type": "execute_result",
          "data": {
            "text/html": [
              "<div>\n",
              "<style scoped>\n",
              "    .dataframe tbody tr th:only-of-type {\n",
              "        vertical-align: middle;\n",
              "    }\n",
              "\n",
              "    .dataframe tbody tr th {\n",
              "        vertical-align: top;\n",
              "    }\n",
              "\n",
              "    .dataframe thead th {\n",
              "        text-align: right;\n",
              "    }\n",
              "</style>\n",
              "<table border=\"1\" class=\"dataframe\">\n",
              "  <thead>\n",
              "    <tr style=\"text-align: right;\">\n",
              "      <th></th>\n",
              "      <th>feature</th>\n",
              "      <th>coefficient</th>\n",
              "    </tr>\n",
              "  </thead>\n",
              "  <tbody>\n",
              "    <tr>\n",
              "      <th>0</th>\n",
              "      <td></td>\n",
              "      <td>0.535148</td>\n",
              "    </tr>\n",
              "    <tr>\n",
              "      <th>1</th>\n",
              "      <td>excluded</td>\n",
              "      <td>-0.195034</td>\n",
              "    </tr>\n",
              "    <tr>\n",
              "      <th>2</th>\n",
              "      <td>CD3_invasion front_epithelial</td>\n",
              "      <td>0.059012</td>\n",
              "    </tr>\n",
              "    <tr>\n",
              "      <th>3</th>\n",
              "      <td>CD3_invasion front_stromal</td>\n",
              "      <td>-0.799242</td>\n",
              "    </tr>\n",
              "    <tr>\n",
              "      <th>4</th>\n",
              "      <td>CD3_center_epithelial</td>\n",
              "      <td>-0.874391</td>\n",
              "    </tr>\n",
              "    <tr>\n",
              "      <th>5</th>\n",
              "      <td>CD3_center_stromal</td>\n",
              "      <td>-0.408303</td>\n",
              "    </tr>\n",
              "    <tr>\n",
              "      <th>6</th>\n",
              "      <td>CD8_invasion front_epithelial</td>\n",
              "      <td>-0.131720</td>\n",
              "    </tr>\n",
              "    <tr>\n",
              "      <th>7</th>\n",
              "      <td>CD8_invasion front_stromal</td>\n",
              "      <td>0.208496</td>\n",
              "    </tr>\n",
              "    <tr>\n",
              "      <th>8</th>\n",
              "      <td>CD8_center_epithelial</td>\n",
              "      <td>-0.261276</td>\n",
              "    </tr>\n",
              "    <tr>\n",
              "      <th>9</th>\n",
              "      <td>CD8_center_stromal</td>\n",
              "      <td>0.273277</td>\n",
              "    </tr>\n",
              "    <tr>\n",
              "      <th>10</th>\n",
              "      <td>Foxp3_invasion front_epithelial</td>\n",
              "      <td>-0.016007</td>\n",
              "    </tr>\n",
              "    <tr>\n",
              "      <th>11</th>\n",
              "      <td>Foxp3_invasion front_stromal</td>\n",
              "      <td>-0.139702</td>\n",
              "    </tr>\n",
              "    <tr>\n",
              "      <th>12</th>\n",
              "      <td>Foxp3_center_epithelial</td>\n",
              "      <td>-0.161041</td>\n",
              "    </tr>\n",
              "    <tr>\n",
              "      <th>13</th>\n",
              "      <td>Foxp3_center_stromal</td>\n",
              "      <td>-0.195827</td>\n",
              "    </tr>\n",
              "    <tr>\n",
              "      <th>14</th>\n",
              "      <td>CD68_invasion front_epithelial</td>\n",
              "      <td>-0.277283</td>\n",
              "    </tr>\n",
              "    <tr>\n",
              "      <th>15</th>\n",
              "      <td>CD68_invasion front_stromal</td>\n",
              "      <td>-0.191160</td>\n",
              "    </tr>\n",
              "    <tr>\n",
              "      <th>16</th>\n",
              "      <td>CD68_center_epithelial</td>\n",
              "      <td>-0.118787</td>\n",
              "    </tr>\n",
              "    <tr>\n",
              "      <th>17</th>\n",
              "      <td>CD68_center_stromal</td>\n",
              "      <td>-0.865267</td>\n",
              "    </tr>\n",
              "    <tr>\n",
              "      <th>18</th>\n",
              "      <td>CD163_invasion front_epithelial</td>\n",
              "      <td>-0.349149</td>\n",
              "    </tr>\n",
              "    <tr>\n",
              "      <th>19</th>\n",
              "      <td>CD163_invasion front_stromal</td>\n",
              "      <td>-0.170736</td>\n",
              "    </tr>\n",
              "    <tr>\n",
              "      <th>20</th>\n",
              "      <td>CD163_center_epithelial</td>\n",
              "      <td>0.408244</td>\n",
              "    </tr>\n",
              "    <tr>\n",
              "      <th>21</th>\n",
              "      <td>CD163_center_stromal</td>\n",
              "      <td>-0.589731</td>\n",
              "    </tr>\n",
              "  </tbody>\n",
              "</table>\n",
              "</div>"
            ],
            "text/plain": [
              "                            feature  coefficient\n",
              "0                                    0.535148   \n",
              "1   excluded                        -0.195034   \n",
              "2   CD3_invasion front_epithelial    0.059012   \n",
              "3   CD3_invasion front_stromal      -0.799242   \n",
              "4   CD3_center_epithelial           -0.874391   \n",
              "5   CD3_center_stromal              -0.408303   \n",
              "6   CD8_invasion front_epithelial   -0.131720   \n",
              "7   CD8_invasion front_stromal       0.208496   \n",
              "8   CD8_center_epithelial           -0.261276   \n",
              "9   CD8_center_stromal               0.273277   \n",
              "10  Foxp3_invasion front_epithelial -0.016007   \n",
              "11  Foxp3_invasion front_stromal    -0.139702   \n",
              "12  Foxp3_center_epithelial         -0.161041   \n",
              "13  Foxp3_center_stromal            -0.195827   \n",
              "14  CD68_invasion front_epithelial  -0.277283   \n",
              "15  CD68_invasion front_stromal     -0.191160   \n",
              "16  CD68_center_epithelial          -0.118787   \n",
              "17  CD68_center_stromal             -0.865267   \n",
              "18  CD163_invasion front_epithelial -0.349149   \n",
              "19  CD163_invasion front_stromal    -0.170736   \n",
              "20  CD163_center_epithelial          0.408244   \n",
              "21  CD163_center_stromal            -0.589731   "
            ]
          },
          "metadata": {
            "tags": []
          },
          "execution_count": 29
        }
      ]
    },
    {
      "cell_type": "code",
      "metadata": {
        "id": "chVtUMISgV9G",
        "colab_type": "code",
        "outputId": "c1e4f1cd-217c-4119-ea93-e4c3e90e052c",
        "colab": {
          "base_uri": "https://localhost:8080/",
          "height": 448
        }
      },
      "source": [
        "event = np.array(list(map(lambda x: int(x), df['death'].values[:, 0])))\n",
        "dur= df['duration (month)'].astype('int')\n",
        "survival_analysis.do_KM_analysis(dur, pred1, event, ['Pred_Survival', 'Pred_Recur'])"
      ],
      "execution_count": 0,
      "outputs": [
        {
          "output_type": "display_data",
          "data": {
            "image/png": "[encoded data removed]",
            "text/plain": [
              "<Figure size 576x432 with 2 Axes>"
            ]
          },
          "metadata": {
            "tags": []
          }
        },
        {
          "output_type": "execute_result",
          "data": {
            "text/plain": [
              "<lifelines.KaplanMeierFitter: fitted with 12 total observations, 7 right-censored observations>"
            ]
          },
          "metadata": {
            "tags": []
          },
          "execution_count": 30
        }
      ]
    },
    {
      "cell_type": "code",
      "metadata": {
        "id": "Z1B_5JEahAjr",
        "colab_type": "code",
        "colab": {}
      },
      "source": [
        "from scipy.stats import spearmanr\n",
        "yy = sc.fit_transform(np.array([y_01, event, dur]).T)\n",
        "cors, ps = spearmanr(df_nor.values, yy)"
      ],
      "execution_count": 0,
      "outputs": []
    },
    {
      "cell_type": "code",
      "metadata": {
        "id": "XyFKtAD2yXE1",
        "colab_type": "code",
        "outputId": "a1986bd3-13d1-444d-fb0b-83571a636b89",
        "colab": {
          "base_uri": "https://localhost:8080/",
          "height": 34
        }
      },
      "source": [
        "cors.shape"
      ],
      "execution_count": 0,
      "outputs": [
        {
          "output_type": "execute_result",
          "data": {
            "text/plain": [
              "(24, 24)"
            ]
          },
          "metadata": {
            "tags": []
          },
          "execution_count": 35
        }
      ]
    },
    {
      "cell_type": "code",
      "metadata": {
        "id": "TA57Gns1yib-",
        "colab_type": "code",
        "outputId": "d96e4ff9-0392-420f-aa7d-02b0b302a41c",
        "colab": {
          "base_uri": "https://localhost:8080/",
          "height": 34
        }
      },
      "source": [
        "cors_X_yy = cors[df_nor.shape[1]:, :]\n",
        "cors_X_yy.shape"
      ],
      "execution_count": 0,
      "outputs": [
        {
          "output_type": "execute_result",
          "data": {
            "text/plain": [
              "(3, 24)"
            ]
          },
          "metadata": {
            "tags": []
          },
          "execution_count": 41
        }
      ]
    },
    {
      "cell_type": "code",
      "metadata": {
        "id": "XWVc9InF1FaW",
        "colab_type": "code",
        "colab": {}
      },
      "source": [
        "yy_cols = ['recur', 'death', 'duration(month)']\n",
        "cors_X_yy = pd.DataFrame(cors_X_yy, index=yy_cols, columns=list(df_nor.columns)+yy_cols)"
      ],
      "execution_count": 0,
      "outputs": []
    },
    {
      "cell_type": "code",
      "metadata": {
        "id": "gDLjX5eN1blB",
        "colab_type": "code",
        "outputId": "08d580cc-dd85-4a52-d077-e82e0a5dd351",
        "colab": {
          "base_uri": "https://localhost:8080/",
          "height": 259
        }
      },
      "source": [
        "cors_X_yy"
      ],
      "execution_count": 0,
      "outputs": [
        {
          "output_type": "execute_result",
          "data": {
            "text/html": [
              "<div>\n",
              "<style scoped>\n",
              "    .dataframe tbody tr th:only-of-type {\n",
              "        vertical-align: middle;\n",
              "    }\n",
              "\n",
              "    .dataframe tbody tr th {\n",
              "        vertical-align: top;\n",
              "    }\n",
              "\n",
              "    .dataframe thead th {\n",
              "        text-align: right;\n",
              "    }\n",
              "</style>\n",
              "<table border=\"1\" class=\"dataframe\">\n",
              "  <thead>\n",
              "    <tr style=\"text-align: right;\">\n",
              "      <th></th>\n",
              "      <th>excluded</th>\n",
              "      <th>CD3_invasion front_epithelial</th>\n",
              "      <th>CD3_invasion front_stromal</th>\n",
              "      <th>CD3_center_epithelial</th>\n",
              "      <th>CD3_center_stromal</th>\n",
              "      <th>CD8_invasion front_epithelial</th>\n",
              "      <th>CD8_invasion front_stromal</th>\n",
              "      <th>CD8_center_epithelial</th>\n",
              "      <th>CD8_center_stromal</th>\n",
              "      <th>Foxp3_invasion front_epithelial</th>\n",
              "      <th>Foxp3_invasion front_stromal</th>\n",
              "      <th>Foxp3_center_epithelial</th>\n",
              "      <th>Foxp3_center_stromal</th>\n",
              "      <th>CD68_invasion front_epithelial</th>\n",
              "      <th>CD68_invasion front_stromal</th>\n",
              "      <th>CD68_center_epithelial</th>\n",
              "      <th>CD68_center_stromal</th>\n",
              "      <th>CD163_invasion front_epithelial</th>\n",
              "      <th>CD163_invasion front_stromal</th>\n",
              "      <th>CD163_center_epithelial</th>\n",
              "      <th>CD163_center_stromal</th>\n",
              "      <th>recur</th>\n",
              "      <th>death</th>\n",
              "      <th>duration(month)</th>\n",
              "    </tr>\n",
              "  </thead>\n",
              "  <tbody>\n",
              "    <tr>\n",
              "      <th>recur</th>\n",
              "      <td>-0.170445</td>\n",
              "      <td>-0.024419</td>\n",
              "      <td>-0.183140</td>\n",
              "      <td>0.024419</td>\n",
              "      <td>-0.055219</td>\n",
              "      <td>-0.103802</td>\n",
              "      <td>0.109932</td>\n",
              "      <td>-0.048848</td>\n",
              "      <td>0.061327</td>\n",
              "      <td>-0.233044</td>\n",
              "      <td>-0.147476</td>\n",
              "      <td>-0.110148</td>\n",
              "      <td>0.000000</td>\n",
              "      <td>-0.525002</td>\n",
              "      <td>-0.201850</td>\n",
              "      <td>-0.183140</td>\n",
              "      <td>-0.514024</td>\n",
              "      <td>-0.146512</td>\n",
              "      <td>-0.006135</td>\n",
              "      <td>-0.085465</td>\n",
              "      <td>-0.342603</td>\n",
              "      <td>1.000000</td>\n",
              "      <td>0.201435</td>\n",
              "      <td>-0.372628</td>\n",
              "    </tr>\n",
              "    <tr>\n",
              "      <th>death</th>\n",
              "      <td>-0.008403</td>\n",
              "      <td>-0.019864</td>\n",
              "      <td>-0.086079</td>\n",
              "      <td>-0.324451</td>\n",
              "      <td>-0.179680</td>\n",
              "      <td>-0.251670</td>\n",
              "      <td>0.019873</td>\n",
              "      <td>-0.132458</td>\n",
              "      <td>-0.625278</td>\n",
              "      <td>-0.352550</td>\n",
              "      <td>-0.106640</td>\n",
              "      <td>-0.391603</td>\n",
              "      <td>-0.142190</td>\n",
              "      <td>-0.218508</td>\n",
              "      <td>0.291916</td>\n",
              "      <td>0.139050</td>\n",
              "      <td>-0.106197</td>\n",
              "      <td>-0.350937</td>\n",
              "      <td>0.346050</td>\n",
              "      <td>-0.099322</td>\n",
              "      <td>-0.108103</td>\n",
              "      <td>0.201435</td>\n",
              "      <td>1.000000</td>\n",
              "      <td>-0.318037</td>\n",
              "    </tr>\n",
              "    <tr>\n",
              "      <th>duration(month)</th>\n",
              "      <td>0.576442</td>\n",
              "      <td>0.234501</td>\n",
              "      <td>0.399391</td>\n",
              "      <td>0.160975</td>\n",
              "      <td>-0.045038</td>\n",
              "      <td>0.214099</td>\n",
              "      <td>-0.064418</td>\n",
              "      <td>-0.071584</td>\n",
              "      <td>-0.140517</td>\n",
              "      <td>0.306165</td>\n",
              "      <td>0.378870</td>\n",
              "      <td>0.423463</td>\n",
              "      <td>0.012457</td>\n",
              "      <td>0.182293</td>\n",
              "      <td>0.271142</td>\n",
              "      <td>-0.025234</td>\n",
              "      <td>0.099651</td>\n",
              "      <td>0.192299</td>\n",
              "      <td>0.226718</td>\n",
              "      <td>0.060474</td>\n",
              "      <td>-0.159152</td>\n",
              "      <td>-0.372628</td>\n",
              "      <td>-0.318037</td>\n",
              "      <td>1.000000</td>\n",
              "    </tr>\n",
              "  </tbody>\n",
              "</table>\n",
              "</div>"
            ],
            "text/plain": [
              "                 excluded  ...  duration(month)\n",
              "recur           -0.170445  ... -0.372628       \n",
              "death           -0.008403  ... -0.318037       \n",
              "duration(month)  0.576442  ...  1.000000       \n",
              "\n",
              "[3 rows x 24 columns]"
            ]
          },
          "metadata": {
            "tags": []
          },
          "execution_count": 43
        }
      ]
    },
    {
      "cell_type": "code",
      "metadata": {
        "id": "HWup2EpL1ge9",
        "colab_type": "code",
        "outputId": "74bdd33e-c852-4473-de28-6def4e163e69",
        "colab": {
          "base_uri": "https://localhost:8080/",
          "height": 602
        }
      },
      "source": [
        "import plotly.graph_objects as go\n",
        "\n",
        "fig = go.Figure(data=go.Heatmap(z=cors_X_yy.values, y=cors_X_yy.index, x=cors_X_yy.columns, type = 'heatmap', colorscale = 'Viridis'))\n",
        "fig.show()"
      ],
      "execution_count": 0,
      "outputs": [
        {
          "output_type": "display_data",
          "data": {
            "text/html": [
              "<html>\n",
              "<head><meta charset=\"utf-8\" /></head>\n",
              "<body>\n",
              "    <div>\n",
              "            <script src=\"https://cdnjs.cloudflare.com/ajax/libs/mathjax/2.7.5/MathJax.js?config=TeX-AMS-MML_SVG\"></script><script type=\"text/javascript\">if (window.MathJax) {MathJax.Hub.Config({SVG: {font: \"STIX-Web\"}});}</script>\n",
              "                <script type=\"text/javascript\">window.PlotlyConfig = {MathJaxConfig: 'local'};</script>\n",
              "        <script src=\"https://cdn.plot.ly/plotly-latest.min.js\"></script>    \n",
              "            <div id=\"844b339a-1735-4af7-9ade-e4fddcea4e52\" class=\"plotly-graph-div\" style=\"height:525px; width:100%;\"></div>\n",
              "            <script type=\"text/javascript\">\n",
              "                \n",
              "                    window.PLOTLYENV=window.PLOTLYENV || {};\n",
              "                    \n",
              "                if (document.getElementById(\"844b339a-1735-4af7-9ade-e4fddcea4e52\")) {\n",
              "                    Plotly.newPlot(\n",
              "                        '844b339a-1735-4af7-9ade-e4fddcea4e52',\n",
              "                        [{\"colorscale\": [[0.0, \"#440154\"], [0.1111111111111111, \"#482878\"], [0.2222222222222222, \"#3e4989\"], [0.3333333333333333, \"#31688e\"], [0.4444444444444444, \"#26828e\"], [0.5555555555555556, \"#1f9e89\"], [0.6666666666666666, \"#35b779\"], [0.7777777777777778, \"#6ece58\"], [0.8888888888888888, \"#b5de2b\"], [1.0, \"#fde725\"]], \"type\": \"heatmap\", \"x\": [\"excluded\", \"CD3_invasion front_epithelial\", \"CD3_invasion front_stromal\", \"CD3_center_epithelial\", \"CD3_center_stromal\", \"CD8_invasion front_epithelial\", \"CD8_invasion front_stromal\", \"CD8_center_epithelial\", \"CD8_center_stromal\", \"Foxp3_invasion front_epithelial\", \"Foxp3_invasion front_stromal\", \"Foxp3_center_epithelial\", \"Foxp3_center_stromal\", \"CD68_invasion front_epithelial\", \"CD68_invasion front_stromal\", \"CD68_center_epithelial\", \"CD68_center_stromal\", \"CD163_invasion front_epithelial\", \"CD163_invasion front_stromal\", \"CD163_center_epithelial\", \"CD163_center_stromal\", \"recur\", \"death\", \"duration(month)\"], \"y\": [\"recur\", \"death\", \"duration(month)\"], \"z\": [[-0.1704453597146584, -0.024418707826694388, -0.18314030870020792, 0.024418707826694388, -0.055218880722586385, -0.10380207638555407, 0.1099319921335112, -0.04884803594614309, 0.06132738441129928, -0.23304406076293724, -0.14747588595770617, -0.11014789805437353, 0.0, -0.5250022182739293, -0.20184964989395487, -0.18314030870020792, -0.5140235242537432, -0.14651224696016632, -0.006135431191398488, -0.08546547739343036, -0.34260321709895314, 0.9999999999999999, 0.20143542511732357, -0.3726283921706147], [-0.008403361344537816, -0.01986435550569306, -0.08607887385800327, -0.32445113992632, -0.1796798561307665, -0.2516698865318011, 0.01987299781869958, -0.13245783501673744, -0.6252775461267018, -0.3525501057948426, -0.10664003819339044, -0.39160322311366036, -0.1421899721688318, -0.21850791056262367, 0.291915579746874, 0.1390504885398514, -0.10619748423421299, -0.3509369472672441, 0.34605009328888364, -0.09932177752846531, -0.1081033785242478, 0.20143542511732357, 1.0, -0.3180371713172506], [0.5764423730125169, 0.23450081130143577, 0.39939099216088686, 0.1609745828970895, -0.0450375971352347, 0.2140992369816459, -0.0644178470096973, -0.07158399285260315, -0.14051682137445592, 0.3061649560584957, 0.37887024241481093, 0.42346335691828213, 0.012456902518639373, 0.18229283846994726, 0.27114234171039026, -0.025233853535219435, 0.09965126370322087, 0.1922993665959826, 0.22671838946232226, 0.060474235196474165, -0.15915152502065974, -0.3726283921706148, -0.3180371713172507, 1.0]]}],\n",
              "                        {\"template\": {\"data\": {\"bar\": [{\"error_x\": {\"color\": \"#2a3f5f\"}, \"error_y\": {\"color\": \"#2a3f5f\"}, \"marker\": {\"line\": {\"color\": \"#E5ECF6\", \"width\": 0.5}}, \"type\": \"bar\"}], \"barpolar\": [{\"marker\": {\"line\": {\"color\": \"#E5ECF6\", \"width\": 0.5}}, \"type\": \"barpolar\"}], \"carpet\": [{\"aaxis\": {\"endlinecolor\": \"#2a3f5f\", \"gridcolor\": \"white\", \"linecolor\": \"white\", \"minorgridcolor\": \"white\", \"startlinecolor\": \"#2a3f5f\"}, \"baxis\": {\"endlinecolor\": \"#2a3f5f\", \"gridcolor\": \"white\", \"linecolor\": \"white\", \"minorgridcolor\": \"white\", \"startlinecolor\": \"#2a3f5f\"}, \"type\": \"carpet\"}], \"choropleth\": [{\"colorbar\": {\"outlinewidth\": 0, \"ticks\": \"\"}, \"type\": \"choropleth\"}], \"contour\": [{\"colorbar\": {\"outlinewidth\": 0, \"ticks\": \"\"}, \"colorscale\": [[0.0, \"#0d0887\"], [0.1111111111111111, \"#46039f\"], [0.2222222222222222, \"#7201a8\"], [0.3333333333333333, \"#9c179e\"], [0.4444444444444444, \"#bd3786\"], [0.5555555555555556, \"#d8576b\"], [0.6666666666666666, \"#ed7953\"], [0.7777777777777778, \"#fb9f3a\"], [0.8888888888888888, \"#fdca26\"], [1.0, \"#f0f921\"]], \"type\": \"contour\"}], \"contourcarpet\": [{\"colorbar\": {\"outlinewidth\": 0, \"ticks\": \"\"}, \"type\": \"contourcarpet\"}], \"heatmap\": [{\"colorbar\": {\"outlinewidth\": 0, \"ticks\": \"\"}, \"colorscale\": [[0.0, \"#0d0887\"], [0.1111111111111111, \"#46039f\"], [0.2222222222222222, \"#7201a8\"], [0.3333333333333333, \"#9c179e\"], [0.4444444444444444, \"#bd3786\"], [0.5555555555555556, \"#d8576b\"], [0.6666666666666666, \"#ed7953\"], [0.7777777777777778, \"#fb9f3a\"], [0.8888888888888888, \"#fdca26\"], [1.0, \"#f0f921\"]], \"type\": \"heatmap\"}], \"heatmapgl\": [{\"colorbar\": {\"outlinewidth\": 0, \"ticks\": \"\"}, \"colorscale\": [[0.0, \"#0d0887\"], [0.1111111111111111, \"#46039f\"], [0.2222222222222222, \"#7201a8\"], [0.3333333333333333, \"#9c179e\"], [0.4444444444444444, \"#bd3786\"], [0.5555555555555556, \"#d8576b\"], [0.6666666666666666, \"#ed7953\"], [0.7777777777777778, \"#fb9f3a\"], [0.8888888888888888, \"#fdca26\"], [1.0, \"#f0f921\"]], \"type\": \"heatmapgl\"}], \"histogram\": [{\"marker\": {\"colorbar\": {\"outlinewidth\": 0, \"ticks\": \"\"}}, \"type\": \"histogram\"}], \"histogram2d\": [{\"colorbar\": {\"outlinewidth\": 0, \"ticks\": \"\"}, \"colorscale\": [[0.0, \"#0d0887\"], [0.1111111111111111, \"#46039f\"], [0.2222222222222222, \"#7201a8\"], [0.3333333333333333, \"#9c179e\"], [0.4444444444444444, \"#bd3786\"], [0.5555555555555556, \"#d8576b\"], [0.6666666666666666, \"#ed7953\"], [0.7777777777777778, \"#fb9f3a\"], [0.8888888888888888, \"#fdca26\"], [1.0, \"#f0f921\"]], \"type\": \"histogram2d\"}], \"histogram2dcontour\": [{\"colorbar\": {\"outlinewidth\": 0, \"ticks\": \"\"}, \"colorscale\": [[0.0, \"#0d0887\"], [0.1111111111111111, \"#46039f\"], [0.2222222222222222, \"#7201a8\"], [0.3333333333333333, \"#9c179e\"], [0.4444444444444444, \"#bd3786\"], [0.5555555555555556, \"#d8576b\"], [0.6666666666666666, \"#ed7953\"], [0.7777777777777778, \"#fb9f3a\"], [0.8888888888888888, \"#fdca26\"], [1.0, \"#f0f921\"]], \"type\": \"histogram2dcontour\"}], \"mesh3d\": [{\"colorbar\": {\"outlinewidth\": 0, \"ticks\": \"\"}, \"type\": \"mesh3d\"}], \"parcoords\": [{\"line\": {\"colorbar\": {\"outlinewidth\": 0, \"ticks\": \"\"}}, \"type\": \"parcoords\"}], \"scatter\": [{\"marker\": {\"colorbar\": {\"outlinewidth\": 0, \"ticks\": \"\"}}, \"type\": \"scatter\"}], \"scatter3d\": [{\"line\": {\"colorbar\": {\"outlinewidth\": 0, \"ticks\": \"\"}}, \"marker\": {\"colorbar\": {\"outlinewidth\": 0, \"ticks\": \"\"}}, \"type\": \"scatter3d\"}], \"scattercarpet\": [{\"marker\": {\"colorbar\": {\"outlinewidth\": 0, \"ticks\": \"\"}}, \"type\": \"scattercarpet\"}], \"scattergeo\": [{\"marker\": {\"colorbar\": {\"outlinewidth\": 0, \"ticks\": \"\"}}, \"type\": \"scattergeo\"}], \"scattergl\": [{\"marker\": {\"colorbar\": {\"outlinewidth\": 0, \"ticks\": \"\"}}, \"type\": \"scattergl\"}], \"scattermapbox\": [{\"marker\": {\"colorbar\": {\"outlinewidth\": 0, \"ticks\": \"\"}}, \"type\": \"scattermapbox\"}], \"scatterpolar\": [{\"marker\": {\"colorbar\": {\"outlinewidth\": 0, \"ticks\": \"\"}}, \"type\": \"scatterpolar\"}], \"scatterpolargl\": [{\"marker\": {\"colorbar\": {\"outlinewidth\": 0, \"ticks\": \"\"}}, \"type\": \"scatterpolargl\"}], \"scatterternary\": [{\"marker\": {\"colorbar\": {\"outlinewidth\": 0, \"ticks\": \"\"}}, \"type\": \"scatterternary\"}], \"surface\": [{\"colorbar\": {\"outlinewidth\": 0, \"ticks\": \"\"}, \"colorscale\": [[0.0, \"#0d0887\"], [0.1111111111111111, \"#46039f\"], [0.2222222222222222, \"#7201a8\"], [0.3333333333333333, \"#9c179e\"], [0.4444444444444444, \"#bd3786\"], [0.5555555555555556, \"#d8576b\"], [0.6666666666666666, \"#ed7953\"], [0.7777777777777778, \"#fb9f3a\"], [0.8888888888888888, \"#fdca26\"], [1.0, \"#f0f921\"]], \"type\": \"surface\"}], \"table\": [{\"cells\": {\"fill\": {\"color\": \"#EBF0F8\"}, \"line\": {\"color\": \"white\"}}, \"header\": {\"fill\": {\"color\": \"#C8D4E3\"}, \"line\": {\"color\": \"white\"}}, \"type\": \"table\"}]}, \"layout\": {\"annotationdefaults\": {\"arrowcolor\": \"#2a3f5f\", \"arrowhead\": 0, \"arrowwidth\": 1}, \"colorscale\": {\"diverging\": [[0, \"#8e0152\"], [0.1, \"#c51b7d\"], [0.2, \"#de77ae\"], [0.3, \"#f1b6da\"], [0.4, \"#fde0ef\"], [0.5, \"#f7f7f7\"], [0.6, \"#e6f5d0\"], [0.7, \"#b8e186\"], [0.8, \"#7fbc41\"], [0.9, \"#4d9221\"], [1, \"#276419\"]], \"sequential\": [[0.0, \"#0d0887\"], [0.1111111111111111, \"#46039f\"], [0.2222222222222222, \"#7201a8\"], [0.3333333333333333, \"#9c179e\"], [0.4444444444444444, \"#bd3786\"], [0.5555555555555556, \"#d8576b\"], [0.6666666666666666, \"#ed7953\"], [0.7777777777777778, \"#fb9f3a\"], [0.8888888888888888, \"#fdca26\"], [1.0, \"#f0f921\"]], \"sequentialminus\": [[0.0, \"#0d0887\"], [0.1111111111111111, \"#46039f\"], [0.2222222222222222, \"#7201a8\"], [0.3333333333333333, \"#9c179e\"], [0.4444444444444444, \"#bd3786\"], [0.5555555555555556, \"#d8576b\"], [0.6666666666666666, \"#ed7953\"], [0.7777777777777778, \"#fb9f3a\"], [0.8888888888888888, \"#fdca26\"], [1.0, \"#f0f921\"]]}, \"colorway\": [\"#636efa\", \"#EF553B\", \"#00cc96\", \"#ab63fa\", \"#FFA15A\", \"#19d3f3\", \"#FF6692\", \"#B6E880\", \"#FF97FF\", \"#FECB52\"], \"font\": {\"color\": \"#2a3f5f\"}, \"geo\": {\"bgcolor\": \"white\", \"lakecolor\": \"white\", \"landcolor\": \"#E5ECF6\", \"showlakes\": true, \"showland\": true, \"subunitcolor\": \"white\"}, \"hoverlabel\": {\"align\": \"left\"}, \"hovermode\": \"closest\", \"mapbox\": {\"style\": \"light\"}, \"paper_bgcolor\": \"white\", \"plot_bgcolor\": \"#E5ECF6\", \"polar\": {\"angularaxis\": {\"gridcolor\": \"white\", \"linecolor\": \"white\", \"ticks\": \"\"}, \"bgcolor\": \"#E5ECF6\", \"radialaxis\": {\"gridcolor\": \"white\", \"linecolor\": \"white\", \"ticks\": \"\"}}, \"scene\": {\"xaxis\": {\"backgroundcolor\": \"#E5ECF6\", \"gridcolor\": \"white\", \"gridwidth\": 2, \"linecolor\": \"white\", \"showbackground\": true, \"ticks\": \"\", \"zerolinecolor\": \"white\"}, \"yaxis\": {\"backgroundcolor\": \"#E5ECF6\", \"gridcolor\": \"white\", \"gridwidth\": 2, \"linecolor\": \"white\", \"showbackground\": true, \"ticks\": \"\", \"zerolinecolor\": \"white\"}, \"zaxis\": {\"backgroundcolor\": \"#E5ECF6\", \"gridcolor\": \"white\", \"gridwidth\": 2, \"linecolor\": \"white\", \"showbackground\": true, \"ticks\": \"\", \"zerolinecolor\": \"white\"}}, \"shapedefaults\": {\"line\": {\"color\": \"#2a3f5f\"}}, \"ternary\": {\"aaxis\": {\"gridcolor\": \"white\", \"linecolor\": \"white\", \"ticks\": \"\"}, \"baxis\": {\"gridcolor\": \"white\", \"linecolor\": \"white\", \"ticks\": \"\"}, \"bgcolor\": \"#E5ECF6\", \"caxis\": {\"gridcolor\": \"white\", \"linecolor\": \"white\", \"ticks\": \"\"}}, \"title\": {\"x\": 0.05}, \"xaxis\": {\"automargin\": true, \"gridcolor\": \"white\", \"linecolor\": \"white\", \"ticks\": \"\", \"zerolinecolor\": \"white\", \"zerolinewidth\": 2}, \"yaxis\": {\"automargin\": true, \"gridcolor\": \"white\", \"linecolor\": \"white\", \"ticks\": \"\", \"zerolinecolor\": \"white\", \"zerolinewidth\": 2}}}},\n",
              "                        {\"responsive\": true}\n",
              "                    ).then(function(){\n",
              "                            \n",
              "var gd = document.getElementById('844b339a-1735-4af7-9ade-e4fddcea4e52');\n",
              "var x = new MutationObserver(function (mutations, observer) {{\n",
              "        var display = window.getComputedStyle(gd).display;\n",
              "        if (!display || display === 'none') {{\n",
              "            console.log([gd, 'removed!']);\n",
              "            Plotly.purge(gd);\n",
              "            observer.disconnect();\n",
              "        }}\n",
              "}});\n",
              "\n",
              "// Listen for the removal of the full notebook cells\n",
              "var notebookContainer = gd.closest('#notebook-container');\n",
              "if (notebookContainer) {{\n",
              "    x.observe(notebookContainer, {childList: true});\n",
              "}}\n",
              "\n",
              "// Listen for the clearing of the current output cell\n",
              "var outputEl = gd.closest('.output');\n",
              "if (outputEl) {{\n",
              "    x.observe(outputEl, {childList: true});\n",
              "}}\n",
              "\n",
              "                        })\n",
              "                };\n",
              "                \n",
              "            </script>\n",
              "        </div>\n",
              "</body>\n",
              "</html>"
            ]
          },
          "metadata": {
            "tags": []
          }
        }
      ]
    },
    {
      "cell_type": "code",
      "metadata": {
        "id": "2e0AZKqc2it2",
        "colab_type": "code",
        "outputId": "f4011ccf-426a-46c8-e8b5-2a00da88393a",
        "colab": {
          "base_uri": "https://localhost:8080/",
          "height": 102
        }
      },
      "source": [
        "score1"
      ],
      "execution_count": 0,
      "outputs": [
        {
          "output_type": "execute_result",
          "data": {
            "text/plain": [
              "array([0.60630242, 0.51811516, 0.41386908, 0.59174577, 0.30979358,\n",
              "       0.45441168, 0.35205599, 0.63144692, 0.29169197, 0.56081494,\n",
              "       0.59690658, 0.314935  , 0.1740292 , 0.38171633, 0.66874463,\n",
              "       0.22925122, 0.22671648, 0.41080234, 0.61181815, 0.58221734,\n",
              "       0.68113285, 0.59442908, 0.58281691, 0.17959435])"
            ]
          },
          "metadata": {
            "tags": []
          },
          "execution_count": 46
        }
      ]
    },
    {
      "cell_type": "code",
      "metadata": {
        "id": "ySftCLmx23jw",
        "colab_type": "code",
        "outputId": "9904ad3c-27f3-49c7-9589-86f66de35912",
        "colab": {
          "base_uri": "https://localhost:8080/",
          "height": 636
        }
      },
      "source": [
        "df.head()"
      ],
      "execution_count": 0,
      "outputs": [
        {
          "output_type": "execute_result",
          "data": {
            "text/html": [
              "<div>\n",
              "<style scoped>\n",
              "    .dataframe tbody tr th:only-of-type {\n",
              "        vertical-align: middle;\n",
              "    }\n",
              "\n",
              "    .dataframe tbody tr th {\n",
              "        vertical-align: top;\n",
              "    }\n",
              "\n",
              "    .dataframe thead th {\n",
              "        text-align: right;\n",
              "    }\n",
              "</style>\n",
              "<table border=\"1\" class=\"dataframe\">\n",
              "  <thead>\n",
              "    <tr style=\"text-align: right;\">\n",
              "      <th></th>\n",
              "      <th></th>\n",
              "      <th>등록번호</th>\n",
              "      <th>성별</th>\n",
              "      <th>나이</th>\n",
              "      <th>이름</th>\n",
              "      <th>병리 검사번호</th>\n",
              "      <th>excluded</th>\n",
              "      <th>CD3_invasion front_epithelial1</th>\n",
              "      <th>CD3_invasion front_epithelial2</th>\n",
              "      <th>CD3_invasion front_stromal1</th>\n",
              "      <th>CD3_invasion front_stromal2</th>\n",
              "      <th>CD3_center_epithelial1</th>\n",
              "      <th>CD3_center_epithelial2</th>\n",
              "      <th>CD3_center_stromal1</th>\n",
              "      <th>CD3_center_stromal2</th>\n",
              "      <th>CD8_invasion front_epithelial1</th>\n",
              "      <th>CD8_invasion front_epithelial2</th>\n",
              "      <th>CD8_invasion front_stromal1</th>\n",
              "      <th>CD8_invasion front_stromal2</th>\n",
              "      <th>CD8_center_epithelial1</th>\n",
              "      <th>CD8_center_epithelial2</th>\n",
              "      <th>CD8_center_stromal1</th>\n",
              "      <th>CD8_center_stromal2</th>\n",
              "      <th>Foxp3_invasion front_epithelial1</th>\n",
              "      <th>Foxp3_invasion front_epithelial2</th>\n",
              "      <th>Foxp3_invasion front_stromal1</th>\n",
              "      <th>Foxp3_invasion front_stromal2</th>\n",
              "      <th>Foxp3_center_epithelial1</th>\n",
              "      <th>Foxp3_center_epithelial2</th>\n",
              "      <th>Foxp3_center_stromal1</th>\n",
              "      <th>Foxp3_center_stromal2</th>\n",
              "      <th>CD68_invasion front_epithelial1</th>\n",
              "      <th>CD68_invasion front_epithelial2</th>\n",
              "      <th>CD68_invasion front_stromal1</th>\n",
              "      <th>CD68_invasion front_stromal2</th>\n",
              "      <th>CD68_center_epithelial1</th>\n",
              "      <th>CD68_center_epithelial2</th>\n",
              "      <th>CD68_center_stromal1</th>\n",
              "      <th>CD68_center_stromal2</th>\n",
              "      <th>CD163_invasion front_epithelial1</th>\n",
              "      <th>...</th>\n",
              "      <th>depth</th>\n",
              "      <th>LVI</th>\n",
              "      <th>PNI</th>\n",
              "      <th>radial RM</th>\n",
              "      <th>pT</th>\n",
              "      <th>pN</th>\n",
              "      <th>pM</th>\n",
              "      <th>LN meta</th>\n",
              "      <th>LN size(mm)</th>\n",
              "      <th>LN_patho</th>\n",
              "      <th>HMB-45</th>\n",
              "      <th>S-100</th>\n",
              "      <th>melan A</th>\n",
              "      <th></th>\n",
              "      <th>Good MR image\\n(논문에 실릴 만한 case들)</th>\n",
              "      <th>gross color</th>\n",
              "      <th>Morphology</th>\n",
              "      <th>Good MR image\\n(논문에 실릴 만한 case들)</th>\n",
              "      <th>rec_site</th>\n",
              "      <th>Meta</th>\n",
              "      <th>recur</th>\n",
              "      <th>event</th>\n",
              "      <th>treatment</th>\n",
              "      <th>response</th>\n",
              "      <th>diagnosis date</th>\n",
              "      <th>event date</th>\n",
              "      <th>death date</th>\n",
              "      <th>other disease</th>\n",
              "      <th>death</th>\n",
              "      <th>duration</th>\n",
              "      <th>Epicenter</th>\n",
              "      <th>external sphincter</th>\n",
              "      <th>N갯수</th>\n",
              "      <th>Confirm 방법</th>\n",
              "      <th>location</th>\n",
              "      <th>Meta</th>\n",
              "      <th>event</th>\n",
              "      <th>treatment</th>\n",
              "      <th>treatment</th>\n",
              "      <th>diagnosis date</th>\n",
              "    </tr>\n",
              "  </thead>\n",
              "  <tbody>\n",
              "    <tr>\n",
              "      <th>0</th>\n",
              "      <td>1.0</td>\n",
              "      <td>23602144</td>\n",
              "      <td>F</td>\n",
              "      <td>57</td>\n",
              "      <td>배두순</td>\n",
              "      <td>00S 002778</td>\n",
              "      <td>0</td>\n",
              "      <td>50</td>\n",
              "      <td>13</td>\n",
              "      <td>16</td>\n",
              "      <td>5</td>\n",
              "      <td>3</td>\n",
              "      <td>0</td>\n",
              "      <td>12</td>\n",
              "      <td>1</td>\n",
              "      <td>24</td>\n",
              "      <td>2</td>\n",
              "      <td>2</td>\n",
              "      <td>32</td>\n",
              "      <td>11</td>\n",
              "      <td>3</td>\n",
              "      <td>0</td>\n",
              "      <td>0</td>\n",
              "      <td>7</td>\n",
              "      <td>3</td>\n",
              "      <td>0</td>\n",
              "      <td>0</td>\n",
              "      <td>0</td>\n",
              "      <td>1</td>\n",
              "      <td>0</td>\n",
              "      <td>0</td>\n",
              "      <td>30</td>\n",
              "      <td>20</td>\n",
              "      <td>5</td>\n",
              "      <td>2</td>\n",
              "      <td>29</td>\n",
              "      <td>30</td>\n",
              "      <td>2</td>\n",
              "      <td>5</td>\n",
              "      <td>38</td>\n",
              "      <td>...</td>\n",
              "      <td>vaginal wall</td>\n",
              "      <td>1</td>\n",
              "      <td>2</td>\n",
              "      <td>0</td>\n",
              "      <td>NaN</td>\n",
              "      <td>NaN</td>\n",
              "      <td>1</td>\n",
              "      <td>4</td>\n",
              "      <td>NaN</td>\n",
              "      <td>perirectal 4/9, \\nRight obturator 0/2\\nLeft obturator 0/2\\nright LN? 0/3</td>\n",
              "      <td>NaN</td>\n",
              "      <td>NaN</td>\n",
              "      <td>NaN</td>\n",
              "      <td>NaN</td>\n",
              "      <td>x</td>\n",
              "      <td>grayish brown</td>\n",
              "      <td>polypoid, multifocal hemorrhagic</td>\n",
              "      <td>x</td>\n",
              "      <td>NaN</td>\n",
              "      <td>진단당시 liver meta</td>\n",
              "      <td>해당없음</td>\n",
              "      <td>1</td>\n",
              "      <td>DD</td>\n",
              "      <td>NaN</td>\n",
              "      <td>NaN</td>\n",
              "      <td>NaN</td>\n",
              "      <td>9/5/00</td>\n",
              "      <td>NaN</td>\n",
              "      <td>1</td>\n",
              "      <td>8</td>\n",
              "      <td>NaN</td>\n",
              "      <td>NaN</td>\n",
              "      <td>16</td>\n",
              "      <td>APR</td>\n",
              "      <td>rectum &amp; anus</td>\n",
              "      <td>initial liver/lung meta</td>\n",
              "      <td>NaN</td>\n",
              "      <td>DD (CTx)</td>\n",
              "      <td>DD</td>\n",
              "      <td>1/25/00</td>\n",
              "    </tr>\n",
              "    <tr>\n",
              "      <th>1</th>\n",
              "      <td>2.0</td>\n",
              "      <td>25124013</td>\n",
              "      <td>F</td>\n",
              "      <td>60</td>\n",
              "      <td>김도희</td>\n",
              "      <td>01S 003494</td>\n",
              "      <td>1</td>\n",
              "      <td>12</td>\n",
              "      <td>52</td>\n",
              "      <td>3</td>\n",
              "      <td>130</td>\n",
              "      <td>24</td>\n",
              "      <td>12</td>\n",
              "      <td>1</td>\n",
              "      <td>0</td>\n",
              "      <td>1</td>\n",
              "      <td>7</td>\n",
              "      <td>22</td>\n",
              "      <td>0</td>\n",
              "      <td>18</td>\n",
              "      <td>6</td>\n",
              "      <td>0</td>\n",
              "      <td>1</td>\n",
              "      <td>1</td>\n",
              "      <td>1</td>\n",
              "      <td>0</td>\n",
              "      <td>0</td>\n",
              "      <td>1</td>\n",
              "      <td>2</td>\n",
              "      <td>0</td>\n",
              "      <td>0</td>\n",
              "      <td>9</td>\n",
              "      <td>13</td>\n",
              "      <td>12</td>\n",
              "      <td>28</td>\n",
              "      <td>13</td>\n",
              "      <td>9</td>\n",
              "      <td>2</td>\n",
              "      <td>1</td>\n",
              "      <td>8</td>\n",
              "      <td>...</td>\n",
              "      <td>sphincter muscle</td>\n",
              "      <td>0</td>\n",
              "      <td>2</td>\n",
              "      <td>0</td>\n",
              "      <td>NaN</td>\n",
              "      <td>NaN</td>\n",
              "      <td>0</td>\n",
              "      <td>1</td>\n",
              "      <td>NaN</td>\n",
              "      <td>perirectal</td>\n",
              "      <td>NaN</td>\n",
              "      <td>NaN</td>\n",
              "      <td>NaN</td>\n",
              "      <td>NaN</td>\n",
              "      <td>x</td>\n",
              "      <td>tan</td>\n",
              "      <td>polypoid</td>\n",
              "      <td>x</td>\n",
              "      <td>local(presacral)</td>\n",
              "      <td>0</td>\n",
              "      <td>1</td>\n",
              "      <td>1</td>\n",
              "      <td>DBCT #6 (initial)\\nRec 후 RTx</td>\n",
              "      <td>PD</td>\n",
              "      <td>1/29/01</td>\n",
              "      <td>12/7/01</td>\n",
              "      <td>6/4/02</td>\n",
              "      <td>NaN</td>\n",
              "      <td>1</td>\n",
              "      <td>10</td>\n",
              "      <td>NaN</td>\n",
              "      <td>1</td>\n",
              "      <td>8</td>\n",
              "      <td>APR</td>\n",
              "      <td>anorectal junction</td>\n",
              "      <td>local rec</td>\n",
              "      <td>1</td>\n",
              "      <td>DBCT #6 (initial)\\nRec 후 RTx</td>\n",
              "      <td>DBCT #6 (initial)\\nRec 후 RTx</td>\n",
              "      <td>1/29/01</td>\n",
              "    </tr>\n",
              "    <tr>\n",
              "      <th>2</th>\n",
              "      <td>3.0</td>\n",
              "      <td>26333151</td>\n",
              "      <td>M</td>\n",
              "      <td>38</td>\n",
              "      <td>이웅재</td>\n",
              "      <td>01S 043672</td>\n",
              "      <td>0</td>\n",
              "      <td>73</td>\n",
              "      <td>121</td>\n",
              "      <td>3</td>\n",
              "      <td>10</td>\n",
              "      <td>170</td>\n",
              "      <td>220</td>\n",
              "      <td>2</td>\n",
              "      <td>5</td>\n",
              "      <td>5</td>\n",
              "      <td>4</td>\n",
              "      <td>1</td>\n",
              "      <td>2</td>\n",
              "      <td>25</td>\n",
              "      <td>20</td>\n",
              "      <td>1</td>\n",
              "      <td>5</td>\n",
              "      <td>11</td>\n",
              "      <td>7</td>\n",
              "      <td>1</td>\n",
              "      <td>0</td>\n",
              "      <td>8</td>\n",
              "      <td>10</td>\n",
              "      <td>0</td>\n",
              "      <td>0</td>\n",
              "      <td>70</td>\n",
              "      <td>40</td>\n",
              "      <td>10</td>\n",
              "      <td>10</td>\n",
              "      <td>61</td>\n",
              "      <td>68</td>\n",
              "      <td>1</td>\n",
              "      <td>5</td>\n",
              "      <td>42</td>\n",
              "      <td>...</td>\n",
              "      <td>submucosa</td>\n",
              "      <td>0</td>\n",
              "      <td>2</td>\n",
              "      <td>0</td>\n",
              "      <td>NaN</td>\n",
              "      <td>NaN</td>\n",
              "      <td>0</td>\n",
              "      <td>3</td>\n",
              "      <td>20\\nENE 3</td>\n",
              "      <td>perirectal</td>\n",
              "      <td>NaN</td>\n",
              "      <td>NaN</td>\n",
              "      <td>NaN</td>\n",
              "      <td>NaN</td>\n",
              "      <td>x</td>\n",
              "      <td>brownish black</td>\n",
              "      <td>fungating</td>\n",
              "      <td>x</td>\n",
              "      <td>NaN</td>\n",
              "      <td>0</td>\n",
              "      <td>0</td>\n",
              "      <td>0</td>\n",
              "      <td>0</td>\n",
              "      <td>NaN</td>\n",
              "      <td>11/16/01</td>\n",
              "      <td>NaN</td>\n",
              "      <td>NaN</td>\n",
              "      <td>NaN</td>\n",
              "      <td>0</td>\n",
              "      <td>NaN</td>\n",
              "      <td>NaN</td>\n",
              "      <td>0</td>\n",
              "      <td>17</td>\n",
              "      <td>APR</td>\n",
              "      <td>rectum</td>\n",
              "      <td>NaN</td>\n",
              "      <td>0</td>\n",
              "      <td>0</td>\n",
              "      <td>0</td>\n",
              "      <td>11/16/01</td>\n",
              "    </tr>\n",
              "    <tr>\n",
              "      <th>3</th>\n",
              "      <td>4.0</td>\n",
              "      <td>26404426</td>\n",
              "      <td>F</td>\n",
              "      <td>66</td>\n",
              "      <td>성갑년</td>\n",
              "      <td>01S 045555</td>\n",
              "      <td>0</td>\n",
              "      <td>123</td>\n",
              "      <td>145</td>\n",
              "      <td>5</td>\n",
              "      <td>12</td>\n",
              "      <td>140</td>\n",
              "      <td>95</td>\n",
              "      <td>5</td>\n",
              "      <td>6</td>\n",
              "      <td>31</td>\n",
              "      <td>10</td>\n",
              "      <td>2</td>\n",
              "      <td>20</td>\n",
              "      <td>35</td>\n",
              "      <td>31</td>\n",
              "      <td>0</td>\n",
              "      <td>1</td>\n",
              "      <td>1</td>\n",
              "      <td>1</td>\n",
              "      <td>0</td>\n",
              "      <td>0</td>\n",
              "      <td>7</td>\n",
              "      <td>2</td>\n",
              "      <td>1</td>\n",
              "      <td>0</td>\n",
              "      <td>10</td>\n",
              "      <td>10</td>\n",
              "      <td>2</td>\n",
              "      <td>2</td>\n",
              "      <td>37</td>\n",
              "      <td>57</td>\n",
              "      <td>2</td>\n",
              "      <td>5</td>\n",
              "      <td>7</td>\n",
              "      <td>...</td>\n",
              "      <td>perirectal soft tissue</td>\n",
              "      <td>0</td>\n",
              "      <td>2</td>\n",
              "      <td>0</td>\n",
              "      <td>NaN</td>\n",
              "      <td>NaN</td>\n",
              "      <td>0</td>\n",
              "      <td>4</td>\n",
              "      <td>NaN</td>\n",
              "      <td>perirectal 4/15\\nexternal iliac 0/3</td>\n",
              "      <td>3</td>\n",
              "      <td>3</td>\n",
              "      <td>NaN</td>\n",
              "      <td>NaN</td>\n",
              "      <td>x</td>\n",
              "      <td>NaN</td>\n",
              "      <td>ulcerofungating</td>\n",
              "      <td>x</td>\n",
              "      <td>local(vagina)</td>\n",
              "      <td>진단당시 inguinal LN meta</td>\n",
              "      <td>1</td>\n",
              "      <td>1</td>\n",
              "      <td>DBCT#6</td>\n",
              "      <td>PD</td>\n",
              "      <td>11/29/01</td>\n",
              "      <td>5/27/02</td>\n",
              "      <td>9/16/03</td>\n",
              "      <td>NaN</td>\n",
              "      <td>1</td>\n",
              "      <td>NaN</td>\n",
              "      <td>NaN</td>\n",
              "      <td>1</td>\n",
              "      <td>18</td>\n",
              "      <td>APR</td>\n",
              "      <td>rectum and anus (x2)</td>\n",
              "      <td>initial inguinal LN meta</td>\n",
              "      <td>1</td>\n",
              "      <td>DBCT#6</td>\n",
              "      <td>DBCT#6</td>\n",
              "      <td>11/29/01</td>\n",
              "    </tr>\n",
              "    <tr>\n",
              "      <th>4</th>\n",
              "      <td>5.0</td>\n",
              "      <td>22097011</td>\n",
              "      <td>F</td>\n",
              "      <td>66</td>\n",
              "      <td>이금숙</td>\n",
              "      <td>02S 027936</td>\n",
              "      <td>0</td>\n",
              "      <td>2</td>\n",
              "      <td>10</td>\n",
              "      <td>40</td>\n",
              "      <td>61</td>\n",
              "      <td>16</td>\n",
              "      <td>8</td>\n",
              "      <td>2</td>\n",
              "      <td>5</td>\n",
              "      <td>0</td>\n",
              "      <td>0</td>\n",
              "      <td>0</td>\n",
              "      <td>0</td>\n",
              "      <td>1</td>\n",
              "      <td>1</td>\n",
              "      <td>0</td>\n",
              "      <td>0</td>\n",
              "      <td>0</td>\n",
              "      <td>0</td>\n",
              "      <td>0</td>\n",
              "      <td>0</td>\n",
              "      <td>0</td>\n",
              "      <td>0</td>\n",
              "      <td>0</td>\n",
              "      <td>0</td>\n",
              "      <td>15</td>\n",
              "      <td>15</td>\n",
              "      <td>95</td>\n",
              "      <td>56</td>\n",
              "      <td>32</td>\n",
              "      <td>21</td>\n",
              "      <td>10</td>\n",
              "      <td>35</td>\n",
              "      <td>10</td>\n",
              "      <td>...</td>\n",
              "      <td>perirectal soft tissue</td>\n",
              "      <td>0</td>\n",
              "      <td>2</td>\n",
              "      <td>0</td>\n",
              "      <td>NaN</td>\n",
              "      <td>NaN</td>\n",
              "      <td>0</td>\n",
              "      <td>11</td>\n",
              "      <td>12</td>\n",
              "      <td>perirectal</td>\n",
              "      <td>1</td>\n",
              "      <td>2</td>\n",
              "      <td>NaN</td>\n",
              "      <td>NaN</td>\n",
              "      <td>NaN</td>\n",
              "      <td>NaN</td>\n",
              "      <td>ulceroinfiltrative</td>\n",
              "      <td>x</td>\n",
              "      <td>NaN</td>\n",
              "      <td>NaN</td>\n",
              "      <td>NaN</td>\n",
              "      <td>NaN</td>\n",
              "      <td>NaN</td>\n",
              "      <td>NaN</td>\n",
              "      <td>5/18/02</td>\n",
              "      <td>NaN</td>\n",
              "      <td>2/11/03</td>\n",
              "      <td>NaN</td>\n",
              "      <td>1</td>\n",
              "      <td>NaN</td>\n",
              "      <td>NaN</td>\n",
              "      <td>0</td>\n",
              "      <td>23</td>\n",
              "      <td>APR</td>\n",
              "      <td>anorectum</td>\n",
              "      <td>NaN</td>\n",
              "      <td>9</td>\n",
              "      <td>no</td>\n",
              "      <td>no</td>\n",
              "      <td>5/18/02</td>\n",
              "    </tr>\n",
              "  </tbody>\n",
              "</table>\n",
              "<p>5 rows × 98 columns</p>\n",
              "</div>"
            ],
            "text/plain": [
              "            등록번호  ...                      treatment diagnosis date\n",
              "0  1.0  23602144  ...  DD                             1/25/00      \n",
              "1  2.0  25124013  ...  DBCT #6 (initial)\\nRec 후 RTx   1/29/01      \n",
              "2  3.0  26333151  ...  0                              11/16/01     \n",
              "3  4.0  26404426  ...  DBCT#6                         11/29/01     \n",
              "4  5.0  22097011  ...  no                             5/18/02      \n",
              "\n",
              "[5 rows x 98 columns]"
            ]
          },
          "metadata": {
            "tags": []
          },
          "execution_count": 47
        }
      ]
    },
    {
      "cell_type": "code",
      "metadata": {
        "id": "KTGj8MeD248K",
        "colab_type": "code",
        "outputId": "a570c60b-de78-4ae6-93b2-5602bed42e52",
        "colab": {
          "base_uri": "https://localhost:8080/",
          "height": 102
        }
      },
      "source": [
        "recur_yn = np.array(['Survival']*len(y))\n",
        "recur_yn[np.array(y) == 1] = 'Recur'\n",
        "recur_yn[np.array(y) == 2] = 'Unknown'\n",
        "recur_yn"
      ],
      "execution_count": 0,
      "outputs": [
        {
          "output_type": "execute_result",
          "data": {
            "text/plain": [
              "array(['Survival', 'Recur', 'Survival', 'Recur', 'Unknown', 'Survival',\n",
              "       'Survival', 'Recur', 'Survival', 'Recur', 'Recur', 'Survival',\n",
              "       'Survival', 'Unknown', 'Recur', 'Survival', 'Survival', 'Survival',\n",
              "       'Recur', 'Recur', 'Recur', 'Survival', 'Recur', 'Survival'],\n",
              "      dtype='<U8')"
            ]
          },
          "metadata": {
            "tags": []
          },
          "execution_count": 53
        }
      ]
    },
    {
      "cell_type": "code",
      "metadata": {
        "id": "nVuB3fBi4V6g",
        "colab_type": "code",
        "colab": {}
      },
      "source": [
        "result_df = pd.DataFrame({'label': recur_yn, 'score_of_recur': score1, 'duration(month)': dur})"
      ],
      "execution_count": 0,
      "outputs": []
    },
    {
      "cell_type": "code",
      "metadata": {
        "id": "yCjOsuta3A8v",
        "colab_type": "code",
        "outputId": "3d9dacbf-255c-40f9-dc84-317304b1ce3b",
        "colab": {
          "base_uri": "https://localhost:8080/",
          "height": 677
        }
      },
      "source": [
        "import plotly.express as px\n",
        "\n",
        "fig = px.scatter(result_df, x=\"duration(month)\", y=\"score_of_recur\", color=\"label\")\n",
        "fig.show()"
      ],
      "execution_count": 0,
      "outputs": [
        {
          "output_type": "display_data",
          "data": {
            "text/html": [
              "<html>\n",
              "<head><meta charset=\"utf-8\" /></head>\n",
              "<body>\n",
              "    <div>\n",
              "            <script src=\"https://cdnjs.cloudflare.com/ajax/libs/mathjax/2.7.5/MathJax.js?config=TeX-AMS-MML_SVG\"></script><script type=\"text/javascript\">if (window.MathJax) {MathJax.Hub.Config({SVG: {font: \"STIX-Web\"}});}</script>\n",
              "                <script type=\"text/javascript\">window.PlotlyConfig = {MathJaxConfig: 'local'};</script>\n",
              "        <script src=\"https://cdn.plot.ly/plotly-latest.min.js\"></script>    \n",
              "            <div id=\"b7466fdb-31d1-49d4-b68b-b79ba533aa23\" class=\"plotly-graph-div\" style=\"height:600px; width:100%;\"></div>\n",
              "            <script type=\"text/javascript\">\n",
              "                \n",
              "                    window.PLOTLYENV=window.PLOTLYENV || {};\n",
              "                    \n",
              "                if (document.getElementById(\"b7466fdb-31d1-49d4-b68b-b79ba533aa23\")) {\n",
              "                    Plotly.newPlot(\n",
              "                        'b7466fdb-31d1-49d4-b68b-b79ba533aa23',\n",
              "                        [{\"hoverlabel\": {\"namelength\": 0}, \"hovertemplate\": \"label=Survival<br>duration(month)=%{x}<br>score_of_recur=%{y}\", \"legendgroup\": \"label=Survival\", \"marker\": {\"color\": \"#636efa\", \"symbol\": \"circle\"}, \"mode\": \"markers\", \"name\": \"label=Survival\", \"showlegend\": true, \"type\": \"scatter\", \"x\": [8, 240, 142, 24, 136, 57, 61, 40, 39, 31, 5, 13], \"xaxis\": \"x\", \"y\": [0.6063024205900708, 0.4138690769907521, 0.45441167997832127, 0.3520559910733039, 0.2916919719668241, 0.31493500327705265, 0.1740291972395552, 0.229251220515409, 0.2267164816333093, 0.4108023448696134, 0.5944290809540336, 0.1795943471211298], \"yaxis\": \"y\"}, {\"hoverlabel\": {\"namelength\": 0}, \"hovertemplate\": \"label=Recur<br>duration(month)=%{x}<br>score_of_recur=%{y}\", \"legendgroup\": \"label=Recur\", \"marker\": {\"color\": \"#EF553B\", \"symbol\": \"circle\"}, \"mode\": \"markers\", \"name\": \"label=Recur\", \"showlegend\": true, \"type\": \"scatter\", \"x\": [15, 17, 5, 125, 38, 4, 28, 6, 12, 4], \"xaxis\": \"x\", \"y\": [0.5181151571414071, 0.591745766789547, 0.6314469203853512, 0.5608149424380818, 0.5969065751495596, 0.6687446342130386, 0.6118181495864312, 0.5822173362729616, 0.6811328484868328, 0.5828169106345327], \"yaxis\": \"y\"}, {\"hoverlabel\": {\"namelength\": 0}, \"hovertemplate\": \"label=Unknown<br>duration(month)=%{x}<br>score_of_recur=%{y}\", \"legendgroup\": \"label=Unknown\", \"marker\": {\"color\": \"#00cc96\", \"symbol\": \"circle\"}, \"mode\": \"markers\", \"name\": \"label=Unknown\", \"showlegend\": true, \"type\": \"scatter\", \"x\": [8, 7], \"xaxis\": \"x\", \"y\": [0.30979358296647025, 0.3817163267066676], \"yaxis\": \"y\"}],\n",
              "                        {\"height\": 600, \"legend\": {\"tracegroupgap\": 0}, \"margin\": {\"t\": 60}, \"template\": {\"data\": {\"bar\": [{\"error_x\": {\"color\": \"#2a3f5f\"}, \"error_y\": {\"color\": \"#2a3f5f\"}, \"marker\": {\"line\": {\"color\": \"#E5ECF6\", \"width\": 0.5}}, \"type\": \"bar\"}], \"barpolar\": [{\"marker\": {\"line\": {\"color\": \"#E5ECF6\", \"width\": 0.5}}, \"type\": \"barpolar\"}], \"carpet\": [{\"aaxis\": {\"endlinecolor\": \"#2a3f5f\", \"gridcolor\": \"white\", \"linecolor\": \"white\", \"minorgridcolor\": \"white\", \"startlinecolor\": \"#2a3f5f\"}, \"baxis\": {\"endlinecolor\": \"#2a3f5f\", \"gridcolor\": \"white\", \"linecolor\": \"white\", \"minorgridcolor\": \"white\", \"startlinecolor\": \"#2a3f5f\"}, \"type\": \"carpet\"}], \"choropleth\": [{\"colorbar\": {\"outlinewidth\": 0, \"ticks\": \"\"}, \"type\": \"choropleth\"}], \"contour\": [{\"colorbar\": {\"outlinewidth\": 0, \"ticks\": \"\"}, \"colorscale\": [[0.0, \"#0d0887\"], [0.1111111111111111, \"#46039f\"], [0.2222222222222222, \"#7201a8\"], [0.3333333333333333, \"#9c179e\"], [0.4444444444444444, \"#bd3786\"], [0.5555555555555556, \"#d8576b\"], [0.6666666666666666, \"#ed7953\"], [0.7777777777777778, \"#fb9f3a\"], [0.8888888888888888, \"#fdca26\"], [1.0, \"#f0f921\"]], \"type\": \"contour\"}], \"contourcarpet\": [{\"colorbar\": {\"outlinewidth\": 0, \"ticks\": \"\"}, \"type\": \"contourcarpet\"}], \"heatmap\": [{\"colorbar\": {\"outlinewidth\": 0, \"ticks\": \"\"}, \"colorscale\": [[0.0, \"#0d0887\"], [0.1111111111111111, \"#46039f\"], [0.2222222222222222, \"#7201a8\"], [0.3333333333333333, \"#9c179e\"], [0.4444444444444444, \"#bd3786\"], [0.5555555555555556, \"#d8576b\"], [0.6666666666666666, \"#ed7953\"], [0.7777777777777778, \"#fb9f3a\"], [0.8888888888888888, \"#fdca26\"], [1.0, \"#f0f921\"]], \"type\": \"heatmap\"}], \"heatmapgl\": [{\"colorbar\": {\"outlinewidth\": 0, \"ticks\": \"\"}, \"colorscale\": [[0.0, \"#0d0887\"], [0.1111111111111111, \"#46039f\"], [0.2222222222222222, \"#7201a8\"], [0.3333333333333333, \"#9c179e\"], [0.4444444444444444, \"#bd3786\"], [0.5555555555555556, \"#d8576b\"], [0.6666666666666666, \"#ed7953\"], [0.7777777777777778, \"#fb9f3a\"], [0.8888888888888888, \"#fdca26\"], [1.0, \"#f0f921\"]], \"type\": \"heatmapgl\"}], \"histogram\": [{\"marker\": {\"colorbar\": {\"outlinewidth\": 0, \"ticks\": \"\"}}, \"type\": \"histogram\"}], \"histogram2d\": [{\"colorbar\": {\"outlinewidth\": 0, \"ticks\": \"\"}, \"colorscale\": [[0.0, \"#0d0887\"], [0.1111111111111111, \"#46039f\"], [0.2222222222222222, \"#7201a8\"], [0.3333333333333333, \"#9c179e\"], [0.4444444444444444, \"#bd3786\"], [0.5555555555555556, \"#d8576b\"], [0.6666666666666666, \"#ed7953\"], [0.7777777777777778, \"#fb9f3a\"], [0.8888888888888888, \"#fdca26\"], [1.0, \"#f0f921\"]], \"type\": \"histogram2d\"}], \"histogram2dcontour\": [{\"colorbar\": {\"outlinewidth\": 0, \"ticks\": \"\"}, \"colorscale\": [[0.0, \"#0d0887\"], [0.1111111111111111, \"#46039f\"], [0.2222222222222222, \"#7201a8\"], [0.3333333333333333, \"#9c179e\"], [0.4444444444444444, \"#bd3786\"], [0.5555555555555556, \"#d8576b\"], [0.6666666666666666, \"#ed7953\"], [0.7777777777777778, \"#fb9f3a\"], [0.8888888888888888, \"#fdca26\"], [1.0, \"#f0f921\"]], \"type\": \"histogram2dcontour\"}], \"mesh3d\": [{\"colorbar\": {\"outlinewidth\": 0, \"ticks\": \"\"}, \"type\": \"mesh3d\"}], \"parcoords\": [{\"line\": {\"colorbar\": {\"outlinewidth\": 0, \"ticks\": \"\"}}, \"type\": \"parcoords\"}], \"scatter\": [{\"marker\": {\"colorbar\": {\"outlinewidth\": 0, \"ticks\": \"\"}}, \"type\": \"scatter\"}], \"scatter3d\": [{\"line\": {\"colorbar\": {\"outlinewidth\": 0, \"ticks\": \"\"}}, \"marker\": {\"colorbar\": {\"outlinewidth\": 0, \"ticks\": \"\"}}, \"type\": \"scatter3d\"}], \"scattercarpet\": [{\"marker\": {\"colorbar\": {\"outlinewidth\": 0, \"ticks\": \"\"}}, \"type\": \"scattercarpet\"}], \"scattergeo\": [{\"marker\": {\"colorbar\": {\"outlinewidth\": 0, \"ticks\": \"\"}}, \"type\": \"scattergeo\"}], \"scattergl\": [{\"marker\": {\"colorbar\": {\"outlinewidth\": 0, \"ticks\": \"\"}}, \"type\": \"scattergl\"}], \"scattermapbox\": [{\"marker\": {\"colorbar\": {\"outlinewidth\": 0, \"ticks\": \"\"}}, \"type\": \"scattermapbox\"}], \"scatterpolar\": [{\"marker\": {\"colorbar\": {\"outlinewidth\": 0, \"ticks\": \"\"}}, \"type\": \"scatterpolar\"}], \"scatterpolargl\": [{\"marker\": {\"colorbar\": {\"outlinewidth\": 0, \"ticks\": \"\"}}, \"type\": \"scatterpolargl\"}], \"scatterternary\": [{\"marker\": {\"colorbar\": {\"outlinewidth\": 0, \"ticks\": \"\"}}, \"type\": \"scatterternary\"}], \"surface\": [{\"colorbar\": {\"outlinewidth\": 0, \"ticks\": \"\"}, \"colorscale\": [[0.0, \"#0d0887\"], [0.1111111111111111, \"#46039f\"], [0.2222222222222222, \"#7201a8\"], [0.3333333333333333, \"#9c179e\"], [0.4444444444444444, \"#bd3786\"], [0.5555555555555556, \"#d8576b\"], [0.6666666666666666, \"#ed7953\"], [0.7777777777777778, \"#fb9f3a\"], [0.8888888888888888, \"#fdca26\"], [1.0, \"#f0f921\"]], \"type\": \"surface\"}], \"table\": [{\"cells\": {\"fill\": {\"color\": \"#EBF0F8\"}, \"line\": {\"color\": \"white\"}}, \"header\": {\"fill\": {\"color\": \"#C8D4E3\"}, \"line\": {\"color\": \"white\"}}, \"type\": \"table\"}]}, \"layout\": {\"annotationdefaults\": {\"arrowcolor\": \"#2a3f5f\", \"arrowhead\": 0, \"arrowwidth\": 1}, \"colorscale\": {\"diverging\": [[0, \"#8e0152\"], [0.1, \"#c51b7d\"], [0.2, \"#de77ae\"], [0.3, \"#f1b6da\"], [0.4, \"#fde0ef\"], [0.5, \"#f7f7f7\"], [0.6, \"#e6f5d0\"], [0.7, \"#b8e186\"], [0.8, \"#7fbc41\"], [0.9, \"#4d9221\"], [1, \"#276419\"]], \"sequential\": [[0.0, \"#0d0887\"], [0.1111111111111111, \"#46039f\"], [0.2222222222222222, \"#7201a8\"], [0.3333333333333333, \"#9c179e\"], [0.4444444444444444, \"#bd3786\"], [0.5555555555555556, \"#d8576b\"], [0.6666666666666666, \"#ed7953\"], [0.7777777777777778, \"#fb9f3a\"], [0.8888888888888888, \"#fdca26\"], [1.0, \"#f0f921\"]], \"sequentialminus\": [[0.0, \"#0d0887\"], [0.1111111111111111, \"#46039f\"], [0.2222222222222222, \"#7201a8\"], [0.3333333333333333, \"#9c179e\"], [0.4444444444444444, \"#bd3786\"], [0.5555555555555556, \"#d8576b\"], [0.6666666666666666, \"#ed7953\"], [0.7777777777777778, \"#fb9f3a\"], [0.8888888888888888, \"#fdca26\"], [1.0, \"#f0f921\"]]}, \"colorway\": [\"#636efa\", \"#EF553B\", \"#00cc96\", \"#ab63fa\", \"#FFA15A\", \"#19d3f3\", \"#FF6692\", \"#B6E880\", \"#FF97FF\", \"#FECB52\"], \"font\": {\"color\": \"#2a3f5f\"}, \"geo\": {\"bgcolor\": \"white\", \"lakecolor\": \"white\", \"landcolor\": \"#E5ECF6\", \"showlakes\": true, \"showland\": true, \"subunitcolor\": \"white\"}, \"hoverlabel\": {\"align\": \"left\"}, \"hovermode\": \"closest\", \"mapbox\": {\"style\": \"light\"}, \"paper_bgcolor\": \"white\", \"plot_bgcolor\": \"#E5ECF6\", \"polar\": {\"angularaxis\": {\"gridcolor\": \"white\", \"linecolor\": \"white\", \"ticks\": \"\"}, \"bgcolor\": \"#E5ECF6\", \"radialaxis\": {\"gridcolor\": \"white\", \"linecolor\": \"white\", \"ticks\": \"\"}}, \"scene\": {\"xaxis\": {\"backgroundcolor\": \"#E5ECF6\", \"gridcolor\": \"white\", \"gridwidth\": 2, \"linecolor\": \"white\", \"showbackground\": true, \"ticks\": \"\", \"zerolinecolor\": \"white\"}, \"yaxis\": {\"backgroundcolor\": \"#E5ECF6\", \"gridcolor\": \"white\", \"gridwidth\": 2, \"linecolor\": \"white\", \"showbackground\": true, \"ticks\": \"\", \"zerolinecolor\": \"white\"}, \"zaxis\": {\"backgroundcolor\": \"#E5ECF6\", \"gridcolor\": \"white\", \"gridwidth\": 2, \"linecolor\": \"white\", \"showbackground\": true, \"ticks\": \"\", \"zerolinecolor\": \"white\"}}, \"shapedefaults\": {\"line\": {\"color\": \"#2a3f5f\"}}, \"ternary\": {\"aaxis\": {\"gridcolor\": \"white\", \"linecolor\": \"white\", \"ticks\": \"\"}, \"baxis\": {\"gridcolor\": \"white\", \"linecolor\": \"white\", \"ticks\": \"\"}, \"bgcolor\": \"#E5ECF6\", \"caxis\": {\"gridcolor\": \"white\", \"linecolor\": \"white\", \"ticks\": \"\"}}, \"title\": {\"x\": 0.05}, \"xaxis\": {\"automargin\": true, \"gridcolor\": \"white\", \"linecolor\": \"white\", \"ticks\": \"\", \"zerolinecolor\": \"white\", \"zerolinewidth\": 2}, \"yaxis\": {\"automargin\": true, \"gridcolor\": \"white\", \"linecolor\": \"white\", \"ticks\": \"\", \"zerolinecolor\": \"white\", \"zerolinewidth\": 2}}}, \"xaxis\": {\"anchor\": \"y\", \"domain\": [0.0, 0.98], \"title\": {\"text\": \"duration(month)\"}}, \"yaxis\": {\"anchor\": \"x\", \"domain\": [0.0, 1.0], \"title\": {\"text\": \"score_of_recur\"}}},\n",
              "                        {\"responsive\": true}\n",
              "                    ).then(function(){\n",
              "                            \n",
              "var gd = document.getElementById('b7466fdb-31d1-49d4-b68b-b79ba533aa23');\n",
              "var x = new MutationObserver(function (mutations, observer) {{\n",
              "        var display = window.getComputedStyle(gd).display;\n",
              "        if (!display || display === 'none') {{\n",
              "            console.log([gd, 'removed!']);\n",
              "            Plotly.purge(gd);\n",
              "            observer.disconnect();\n",
              "        }}\n",
              "}});\n",
              "\n",
              "// Listen for the removal of the full notebook cells\n",
              "var notebookContainer = gd.closest('#notebook-container');\n",
              "if (notebookContainer) {{\n",
              "    x.observe(notebookContainer, {childList: true});\n",
              "}}\n",
              "\n",
              "// Listen for the clearing of the current output cell\n",
              "var outputEl = gd.closest('.output');\n",
              "if (outputEl) {{\n",
              "    x.observe(outputEl, {childList: true});\n",
              "}}\n",
              "\n",
              "                        })\n",
              "                };\n",
              "                \n",
              "            </script>\n",
              "        </div>\n",
              "</body>\n",
              "</html>"
            ]
          },
          "metadata": {
            "tags": []
          }
        }
      ]
    }
  ]
}