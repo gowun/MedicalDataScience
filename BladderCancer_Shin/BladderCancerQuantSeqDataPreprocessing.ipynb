{
  "nbformat": 4,
  "nbformat_minor": 0,
  "metadata": {
    "colab": {
      "name": "BladderCancerQuantSeqDataPreprocessing.ipynb",
      "provenance": [],
      "collapsed_sections": [],
      "machine_shape": "hm"
    },
    "kernelspec": {
      "name": "python3",
      "display_name": "Python 3"
    }
  },
  "cells": [
    {
      "cell_type": "code",
      "metadata": {
        "id": "HP3FuNIPkNx7",
        "colab_type": "code",
        "colab": {}
      },
      "source": [
        "!pip install shap\n",
        "!pip install importlib\n",
        "!pip install lifelines\n",
        "!pip install plotly"
      ],
      "execution_count": 0,
      "outputs": []
    },
    {
      "cell_type": "code",
      "metadata": {
        "id": "D2jsQKMCkmZV",
        "colab_type": "code",
        "colab": {
          "base_uri": "https://localhost:8080/",
          "height": 34
        },
        "outputId": "7fc5ad26-5d9d-4b99-ec3e-2d709dede5ea"
      },
      "source": [
        "from google.colab import auth\n",
        "from google.colab import drive\n",
        "import pandas as pd\n",
        "import numpy as np\n",
        "pd.set_option('display.max_colwidth', -1)\n",
        "\n",
        "auth.authenticate_user()\n",
        "drive.mount('/content/gdrive')"
      ],
      "execution_count": 1,
      "outputs": [
        {
          "output_type": "stream",
          "text": [
            "Drive already mounted at /content/gdrive; to attempt to forcibly remount, call drive.mount(\"/content/gdrive\", force_remount=True).\n"
          ],
          "name": "stdout"
        }
      ]
    },
    {
      "cell_type": "code",
      "metadata": {
        "id": "49yBbe4bzPKR",
        "colab_type": "code",
        "outputId": "1369dce6-1722-499e-83bf-a43163e5e10e",
        "colab": {
          "base_uri": "https://localhost:8080/",
          "height": 165
        }
      },
      "source": [
        "!git clone https://github.com/gowun/MedicalDataScience.git"
      ],
      "execution_count": 3,
      "outputs": [
        {
          "output_type": "stream",
          "text": [
            "Cloning into 'MedicalDataScience'...\n",
            "remote: Enumerating objects: 4, done.\u001b[K\n",
            "remote: Counting objects: 100% (4/4), done.\u001b[K\n",
            "remote: Compressing objects: 100% (3/3), done.\u001b[K\n",
            "remote: Total 269 (delta 0), reused 4 (delta 0), pack-reused 265\u001b[K\n",
            "Receiving objects: 100% (269/269), 1.35 MiB | 10.61 MiB/s, done.\n",
            "Resolving deltas: 100% (122/122), done.\n"
          ],
          "name": "stdout"
        }
      ]
    },
    {
      "cell_type": "code",
      "metadata": {
        "id": "SUm5SzJ75_0f",
        "colab_type": "code",
        "colab": {
          "base_uri": "https://localhost:8080/",
          "height": 238
        },
        "outputId": "50ccd515-fadd-43ce-ef1e-16784f424e9f"
      },
      "source": [
        "%cd MedicalDataScience/\n",
        "!git pull\n",
        "%cd .."
      ],
      "execution_count": 2,
      "outputs": [
        {
          "output_type": "stream",
          "text": [
            "/content/MedicalDataScience\n",
            "remote: Enumerating objects: 7, done.\u001b[K\n",
            "remote: Counting objects: 100% (7/7), done.\u001b[K\n",
            "remote: Compressing objects: 100% (1/1), done.\u001b[K\n",
            "remote: Total 4 (delta 3), reused 4 (delta 3), pack-reused 0\u001b[K\n",
            "Unpacking objects: 100% (4/4), done.\n",
            "From https://github.com/gowun/MedicalDataScience\n",
            "   316de3e..2743e05  master     -> origin/master\n",
            "Updating 316de3e..2743e05\n",
            "Fast-forward\n",
            " modeling_tools/preprocessing.py | 10 \u001b[32m+++++\u001b[m\u001b[31m-----\u001b[m\n",
            " 1 file changed, 5 insertions(+), 5 deletions(-)\n",
            "/content\n"
          ],
          "name": "stdout"
        }
      ]
    },
    {
      "cell_type": "code",
      "metadata": {
        "id": "Gf3VS6gwzXOH",
        "colab_type": "code",
        "colab": {
          "base_uri": "https://localhost:8080/",
          "height": 111
        },
        "outputId": "fdada8c8-65e4-41c2-f73a-979e4409fc25"
      },
      "source": [
        "from MedicalDataScience.modeling_tools import  utils as ut\n",
        "from MedicalDataScience.modeling_tools import clustering as cl\n",
        "from MedicalDataScience.modeling_tools import preprocessing as pp\n",
        "from MedicalDataScience.modeling_tools import tree_modeling as tm\n",
        "from MedicalDataScience.modeling_tools import linear_modeling as lm\n",
        "from MedicalDataScience.modeling_tools import survival_analysis as sa\n",
        "from MedicalDataScience.modeling_tools import metrics as mt\n",
        "from MedicalDataScience.modeling_tools import figure_eda as fe"
      ],
      "execution_count": 3,
      "outputs": [
        {
          "output_type": "stream",
          "text": [
            "/usr/local/lib/python3.6/dist-packages/sklearn/externals/six.py:31: DeprecationWarning: The module is deprecated in version 0.21 and will be removed in version 0.23 since we've dropped support for Python 2.7. Please rely on the official version of six (https://pypi.org/project/six/).\n",
            "  \"(https://pypi.org/project/six/).\", DeprecationWarning)\n"
          ],
          "name": "stderr"
        }
      ]
    },
    {
      "cell_type": "code",
      "metadata": {
        "id": "gatG2bhykWXD",
        "colab_type": "code",
        "colab": {}
      },
      "source": [
        "home_path = '/content/gdrive/My Drive/'\n",
        "df = ut.load_data(home_path + 'Prof.Shin/Data-표 1.csv', 'csv')\n",
        "cols = df.values[:, 0]\n",
        "idxs = df.columns[1:]\n",
        "df = pd.DataFrame(df.values[:, 1:].T, columns=cols, index=idxs)\n",
        "tfs = df.sum(0) > 0.0\n",
        "df = df[df.columns[tfs]]\n",
        "print(df.shape)\n",
        "rna_nm_cnt = dict()\n",
        "for c in df.columns:\n",
        "  if c in rna_nm_cnt.keys():\n",
        "    rna_nm_cnt[c] += 1\n",
        "  else:\n",
        "    rna_nm_cnt[c] = 1\n",
        "print([len(rna_nm_cnt), df.shape])\n",
        "cols = list(rna_nm_cnt.keys())\n",
        "df_ = list(map(lambda x: df[x] if rna_nm_cnt[x] == 1 else df[x].mean(1), cols))\n",
        "df_ = pd.concat(df_, 1)\n",
        "df_.columns = cols\n",
        "n_ptnt = 16\n",
        "#nor_df = df_.iloc[range(n_ptnt)]\n",
        "org_df = df_.iloc[range(n_ptnt, n_ptnt*2)]\n",
        "org_df.index = nor_df.index\n",
        "print(org_df.shape)"
      ],
      "execution_count": 0,
      "outputs": []
    },
    {
      "cell_type": "code",
      "metadata": {
        "id": "iLnA8EuTYxzC",
        "colab_type": "code",
        "colab": {}
      },
      "source": [
        "%%time\n",
        "dist = pp.do_all_scalers(org_df)"
      ],
      "execution_count": 0,
      "outputs": []
    },
    {
      "cell_type": "code",
      "metadata": {
        "id": "5IYebyQWbWbm",
        "colab_type": "code",
        "colab": {}
      },
      "source": [
        "ut.save_as_file_colab(dist, home_path + 'Prof.Shin/distributions.pkl', 'pickle')"
      ],
      "execution_count": 0,
      "outputs": []
    },
    {
      "cell_type": "code",
      "metadata": {
        "id": "8vmzri06VIfZ",
        "colab_type": "code",
        "colab": {}
      },
      "source": [
        "%%time\n",
        "nor_df = pp.find_best_normalization(org_df, dist, y)"
      ],
      "execution_count": 0,
      "outputs": []
    },
    {
      "cell_type": "code",
      "metadata": {
        "id": "n9GzgHRLeKJd",
        "colab_type": "code",
        "colab": {}
      },
      "source": [
        "ut.save_as_file_colab([org_df, nor_df], home_path + 'Prof.Shin/two_data_v1.1.pkl', 'pickle')"
      ],
      "execution_count": 0,
      "outputs": []
    },
    {
      "cell_type": "code",
      "metadata": {
        "id": "j9rD15sBu8X-",
        "colab_type": "code",
        "colab": {}
      },
      "source": [
        ""
      ],
      "execution_count": 0,
      "outputs": []
    }
  ]
}